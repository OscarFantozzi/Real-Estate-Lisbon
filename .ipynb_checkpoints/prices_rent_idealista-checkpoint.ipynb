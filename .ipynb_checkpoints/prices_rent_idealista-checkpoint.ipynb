{
 "cells": [
  {
   "cell_type": "markdown",
   "id": "851311fc",
   "metadata": {},
   "source": [
    "# 0.0. IMPORTS"
   ]
  },
  {
   "cell_type": "code",
   "execution_count": 826,
   "id": "72c4dcf9",
   "metadata": {
    "ExecuteTime": {
     "end_time": "2024-02-12T20:32:53.086865Z",
     "start_time": "2024-02-12T20:32:53.079420Z"
    }
   },
   "outputs": [],
   "source": [
    "import pandas as pd\n",
    "import inflection\n",
    "import math\n",
    "import numpy as np\n",
    "import seaborn as sns\n",
    "import pathlib\n",
    "import seaborn as sns\n",
    "import ast\n",
    "import lightgbm as lgb\n",
    "import xgboost as xgb\n",
    "from scipy.stats       import chi2_contingency\n",
    "from category_encoders import TargetEncoder\n",
    "from sklearn          import preprocessing as pp\n",
    "import pickle\n",
    "import os\n",
    "\n",
    "\n",
    "\n",
    "from geopy.geocoders          import Nominatim\n",
    "from sqlalchemy               import create_engine, text\n",
    "from matplotlib               import pyplot as plt\n",
    "from sklearn.preprocessing    import RobustScaler, MinMaxScaler, LabelEncoder\n",
    "from boruta                   import BorutaPy\n",
    "from sklearn.ensemble         import RandomForestRegressor\n",
    "from sklearn.model_selection  import train_test_split\n",
    "from sklearn.linear_model     import LinearRegression,  Lasso\n",
    "from sklearn.metrics          import mean_absolute_error, mean_absolute_percentage_error, mean_squared_error,r2_score\n",
    "from sklearn.model_selection  import cross_val_score\n",
    "from sklearn.preprocessing    import LabelEncoder\n",
    "from sklearn.model_selection  import KFold"
   ]
  },
  {
   "cell_type": "markdown",
   "id": "7a896954",
   "metadata": {},
   "source": [
    "## 0.1.0 Helper Functions"
   ]
  },
  {
   "cell_type": "code",
   "execution_count": 827,
   "id": "55ba1cff",
   "metadata": {
    "ExecuteTime": {
     "end_time": "2024-02-12T20:32:54.950231Z",
     "start_time": "2024-02-12T20:32:54.926689Z"
    }
   },
   "outputs": [],
   "source": [
    "# função para consultar a api passando as coordenadas\n",
    "def find_mun( lat,long ):\n",
    "    \n",
    "    geolocator = Nominatim(user_agent=\"Oscar\")\n",
    "    \n",
    "    lat = str( lat )\n",
    "    \n",
    "    long = str( long )\n",
    "    \n",
    "    coord = lat + ',' + long\n",
    "\n",
    "    location = geolocator.reverse( coord  )\n",
    "    \n",
    "    if 'city_district' in location.raw['address']:\n",
    "        \n",
    "        return location.raw['address']['city_district']\n",
    "        \n",
    "    if 'suburb' in location.raw['address']:\n",
    "            \n",
    "        return location.raw['address']['suburb']\n",
    "            \n",
    "    if 'county' in location.raw['address']:\n",
    "            \n",
    "        return location.raw['address']['county']\n",
    "        \n",
    "    else:\n",
    "        \n",
    "        return 'not found'\n",
    "\n",
    "  \n",
    "def stats( df , excepto = [] ):\n",
    "    # separo as feautures numéricas\n",
    "    if excepto != \"\":\n",
    "    \n",
    "        num_attributes = df.select_dtypes( include = ['int64','float64'] )\n",
    "        \n",
    "        num_attributes = num_attributes.drop( excepto , axis = 1 ) \n",
    "        \n",
    "    else:\n",
    "        \n",
    "        num_attributes = df.select_dtypes( include = ['int64','float64'] )\n",
    "    # separo as features categoricas\n",
    "    num_categorical = df.select_dtypes( exclude = ['int64','float64','datetime64[ns]'] )\n",
    "\n",
    "\n",
    "    # medidas de tendencia central - media e mediana\n",
    "    ct1 = pd.DataFrame( num_attributes.apply( np.mean ) ).T # media\n",
    "\n",
    "    ct2 = pd.DataFrame( num_attributes.apply( np.median ) ).T # mediana\n",
    "\n",
    "    # dispersao - std, min , max , range, skew, kurtosis\n",
    "    d1 = pd.DataFrame( num_attributes.apply( np.std ) ).T # std\n",
    "    d2 = pd.DataFrame( num_attributes.apply( np.min ) ).T # minimo\n",
    "    d3 = pd.DataFrame( num_attributes.apply( np.max ) ).T # maximo\n",
    "    d4 = pd.DataFrame( num_attributes.apply( lambda x: x.max() - x.min() ) ).T # range\n",
    "    d5 = pd.DataFrame( num_attributes.apply( lambda x: x.skew() )).T # skew\n",
    "    d6 = pd.DataFrame( num_attributes.apply( lambda x : x.kurtosis() ) ).T # kurtosis\n",
    "\n",
    "    # concatenate - min , max , range,  media, median, std, skew , kurtosis\n",
    "    m = pd.concat( [ d2 , d3, d4 , ct1 , ct2 , d1,  d5 , d6 ] ).T.reset_index()\n",
    "    m.columns = [ 'features', 'min', 'max', 'range', 'mean', 'median', 'std', 'skew', 'kurtosis' ]\n",
    "    pd.set_option( 'display.float_format', '{:,.2f}'.format )\n",
    "    return m\n",
    "\n",
    "def ml_error( model_name, y , y_hat):\n",
    "    mae =  mean_absolute_error( y , y_hat )\n",
    "    mape = mean_absolute_percentage_error( y , y_hat )\n",
    "    rmse = np.sqrt( mean_squared_error( y , y_hat ) )\n",
    "    r2 =   r2_score(y, y_hat)\n",
    "    df = pd.DataFrame( {'Model Name ' :  model_name,\n",
    "                        'MAE' : mae ,\n",
    "                        'MAPE' : mape,\n",
    "                        'RMSE' : rmse,\n",
    "                        'R2_score' : r2  } ,index = [0] )\n",
    "    \n",
    "    return df\n",
    "\n",
    "def remover_outliers( df, coluna ):\n",
    "    \n",
    "    linhas_iniciais = df.shape[0] \n",
    "    \n",
    "    \n",
    "    d1 = df[coluna].quantile(0.25)\n",
    "    d3 = df[coluna].quantile(0.75)\n",
    "\n",
    "    lim_superior = d3 + 1.5*( d3 - d1  )\n",
    "\n",
    "    lim_inferior = d1 - 1.5 * ( d3 - d1 )\n",
    "    \n",
    "    \n",
    "    df = df.loc[ (df[coluna] >= lim_inferior) & (df[coluna] <= lim_superior) , :  ]\n",
    "    \n",
    "    linhas_finais = df.shape[0]\n",
    "    \n",
    "    \n",
    "    print('Foram removidas {} linhas'.format( linhas_iniciais - linhas_finais ) )\n",
    "          \n",
    "    return df\n",
    "\n",
    "def cramer_v( x, y ):\n",
    "    cm = pd.crosstab( x , y ).values\n",
    "\n",
    "    n = cm.sum()\n",
    "\n",
    "    r,k = cm.shape\n",
    "\n",
    "    chi2 = chi2_contingency( cm )[0]\n",
    "    chi2corr = max( 0 , chi2 - (k-1) * (r-1) / (n-1) ) # chi2 corrigido\n",
    "    kcorr = k - (k-1)**2 / (n-1) # k corrigido\n",
    "    rcorr = r - (k-1)**2 / (n-1) # r corrigido\n",
    "    \n",
    "    v = np.sqrt( ( chi2corr/n ) / ( min ( kcorr-1 , rcorr-1 ) )  )\n",
    "    \n",
    "    return v"
   ]
  },
  {
   "cell_type": "markdown",
   "id": "ba54ba82",
   "metadata": {},
   "source": [
    "## 0.2.0. Loading Data"
   ]
  },
  {
   "cell_type": "code",
   "execution_count": 576,
   "id": "d149e9b0",
   "metadata": {
    "ExecuteTime": {
     "end_time": "2024-02-12T19:04:27.521072Z",
     "start_time": "2024-02-12T19:04:18.697947Z"
    }
   },
   "outputs": [
    {
     "name": "stdout",
     "output_type": "stream",
     "text": [
      "extracao_12_4_2023.xlsx\n",
      "extracao_1_1_2023.xlsx\n",
      "extracao_1_9_2023.xlsx\n",
      "extracao_26_1_2024.xlsx\n",
      "extracao_2_2_2023.xlsx\n",
      "extracao_2_6_2023.xlsx\n",
      "extracao_3_3_2023.xlsx\n",
      "extracao_6_7_2023.xlsx\n"
     ]
    }
   ],
   "source": [
    "# caminho\n",
    "caminho = pathlib.Path('data')\n",
    "\n",
    "df = []\n",
    "\n",
    "for arquivo in caminho.iterdir():\n",
    "    print(arquivo.name)\n",
    "    \n",
    "    # ler o arquivo\n",
    "    df_read = pd.read_excel( arquivo )\n",
    "    \n",
    "    # apender o df\n",
    "    df.append(df_read)\n",
    "\n",
    "# concatena os df's\n",
    "df_raw = pd.concat( df )\n",
    "\n",
    "df_raw = df_raw[['propertyCode', 'thumbnail', 'numPhotos', 'floor', 'price',\n",
    "       'propertyType', 'operation', 'size', 'exterior', 'rooms', 'bathrooms',\n",
    "       'address', 'province', 'municipality', 'district', 'country',\n",
    "       'latitude', 'longitude', 'showAddress', 'url', 'distance',\n",
    "       'description', 'hasVideo', 'status', 'newDevelopment', 'hasLift',\n",
    "       'priceByArea', 'detailedType', 'suggestedTexts', 'hasPlan', 'has3DTour',\n",
    "       'has360', 'hasStaging', 'topNewDevelopment', 'superTopHighlight',\n",
    "       'parkingSpace', 'externalReference', 'labels', 'neighborhood', 'pagina',\n",
    "       'datetime_scrapy', 'newDevelopmentFinished', 'highlight']]\n",
    "\n",
    "# resetar index\n",
    "df_raw = df_raw.reset_index( drop = True )"
   ]
  },
  {
   "cell_type": "markdown",
   "id": "720dcc68",
   "metadata": {},
   "source": [
    "## 0.2.1 Separar Dados de Teste"
   ]
  },
  {
   "cell_type": "code",
   "execution_count": 577,
   "id": "5438d3fa",
   "metadata": {
    "ExecuteTime": {
     "end_time": "2024-02-12T19:04:30.510340Z",
     "start_time": "2024-02-12T19:04:30.506056Z"
    }
   },
   "outputs": [],
   "source": [
    "# Separar Dados de Validação\n",
    "divisor = df_raw.shape[0] - 1000\n",
    "df_val = df_raw.iloc[ divisor: ] # pego 1000 linhas para teste"
   ]
  },
  {
   "cell_type": "markdown",
   "id": "dfac7a2d",
   "metadata": {},
   "source": [
    "# 1.0. PASSO 01 - DESCRIÇÃO DOS DADOS"
   ]
  },
  {
   "cell_type": "code",
   "execution_count": 578,
   "id": "9282a770",
   "metadata": {
    "ExecuteTime": {
     "end_time": "2024-02-12T19:04:51.020099Z",
     "start_time": "2024-02-12T19:04:51.010873Z"
    }
   },
   "outputs": [],
   "source": [
    "df1 = df_raw.copy()"
   ]
  },
  {
   "cell_type": "markdown",
   "id": "dc529665",
   "metadata": {},
   "source": [
    "## Explicação das colunas"
   ]
  },
  {
   "cell_type": "markdown",
   "id": "4ffef2ae",
   "metadata": {},
   "source": [
    "* property_code - ID unico para cada imovel\n",
    "\n",
    "\n",
    "* thumbnail - mostra a thumbnail do imovel\n",
    "\n",
    "\n",
    "* external_reference - A feature \"external_reference\" geralmente se refere a um código único atribuído a um imóvel por outra fonte, como outra plataforma imobiliária ou um agente imobiliário. Essa referência externa pode ser usada para rastrear e identificar o imóvel em diferentes sistemas e plataformas.\n",
    "\n",
    "\n",
    "* num_photos - número de fotos do anúncio\n",
    "\n",
    "\n",
    "* price - preço da renda\n",
    "\n",
    "\n",
    "* property_type - tipo de propriedade\n",
    "\n",
    "\n",
    "* operation - renda ou venda ( nesse caso tenho somente renda )\n",
    "\n",
    "\n",
    "* size - tamanho em m2\n",
    "\n",
    "\n",
    "* exterior - deve ser se o imóvel tem área exterior ( array([ 0., nan]) \n",
    "\n",
    "\n",
    "* rooms - quantidade de quartos\n",
    "\n",
    "\n",
    "* bathrooms - quantidade de casas de banho\n",
    "\n",
    "\n",
    "* address - endereço do imóvel\n",
    "\n",
    "\n",
    "* province - são as regiões ( Lisboa, Setúbal, Santarém - vieram na extração )\n",
    "\n",
    "\n",
    "* municipality - municipios\n",
    "\n",
    "\n",
    "* district - são os Distritos\n",
    "\n",
    "\n",
    "* country - PT \n",
    "\n",
    "\n",
    "* latitude - latitude\n",
    "\n",
    "\n",
    "* longitude - longitude\n",
    "\n",
    "\n",
    "* show_address - boolean - se o anunciante exibe o endereço\n",
    "\n",
    "\n",
    "* url - a url do anuncio\n",
    "\n",
    "\n",
    "* distance - distancia do centro em m\n",
    "\n",
    "\n",
    "* description - descricao do apartamento\n",
    "\n",
    "\n",
    "* has_video - diz se o anuncio tem vídeo ou não ( array([ 0.,  1., nan]) )\n",
    "\n",
    "\n",
    "* status - diz sobre o estado do imóvel array(['good', 'renew', 'newdevelopment', None], dtype=object)\n",
    "\n",
    "\n",
    "* new_development - boolean - diz se o empreendimento é novo ou não \n",
    "\n",
    "\n",
    "* price_by_area - preco divido pelo tamanho do imóvel price / size\n",
    "\n",
    "\n",
    "* detailed_type - descrição detalhada do tipo de imóvel\n",
    "\n",
    "\n",
    "* suggested_texts - títulos e subtítulos\n",
    "\n",
    "\n",
    "* has_plan - se o imóvel tem plano ou não\n",
    "\n",
    "\n",
    "* has3_d_tour - indica se o imóvel tem tour 3d\n",
    "\n",
    "\n",
    "* has360 - se tem tour 360º\n",
    "\n",
    "\n",
    "* has_staging - se tem uma decoração na propriedade\n",
    "\n",
    "\n",
    "* top_new_development - indica os empreendimentos mais novos\n",
    "\n",
    "\n",
    "* super_top_highlight - indica os imóveis mais valiosos ou populares em uma determinada área\n",
    "\n",
    "\n",
    "* floor - indica o andar do imóvel\n",
    "\n",
    "\n",
    "* has_lift - indica se tem elevador\n",
    "\n",
    "\n",
    "* parking_space - indica se tem vaga de garagem\n",
    "\n",
    "\n",
    "* neighborhood - Essa feature é útil para compradores e inquilinos que têm preferência por um determinado bairro ou querem morar em uma área específica da cidade por motivos como proximidade do trabalho, escolas, transporte público, entre outros.\n",
    "\n",
    "\n",
    "* labels - etiquetas ou rótulos associados aos imoveis\n",
    "\n",
    "\n",
    "* pagina - a pagina da extração ( definida na extração )\n",
    "\n",
    "\n",
    "* datetime_scrapy - indica a data da extração ( definida na extração )\n",
    "\n",
    "\n",
    "* newDevelopmentFinished - \n",
    "\n",
    "\n",
    "* highlight - "
   ]
  },
  {
   "cell_type": "markdown",
   "id": "95659f37",
   "metadata": {},
   "source": [
    "## 1.1. Rename Columns"
   ]
  },
  {
   "cell_type": "code",
   "execution_count": 579,
   "id": "26c9686a",
   "metadata": {
    "ExecuteTime": {
     "end_time": "2024-02-12T19:04:54.804325Z",
     "start_time": "2024-02-12T19:04:54.785875Z"
    }
   },
   "outputs": [],
   "source": [
    "cols_old = [ 'propertyCode', 'thumbnail', 'numPhotos', 'floor', 'price',\n",
    "       'propertyType', 'operation', 'size', 'exterior', 'rooms', 'bathrooms',\n",
    "       'address', 'province', 'municipality', 'district', 'country',\n",
    "       'latitude', 'longitude', 'showAddress', 'url', 'distance',\n",
    "       'description', 'hasVideo', 'status', 'newDevelopment', 'hasLift',\n",
    "       'priceByArea', 'detailedType', 'suggestedTexts', 'hasPlan', 'has3DTour',\n",
    "       'has360', 'hasStaging', 'topNewDevelopment', 'superTopHighlight',\n",
    "       'parkingSpace', 'externalReference', 'labels', 'neighborhood', 'pagina',\n",
    "       'datetime_scrapy', 'newDevelopmentFinished', 'highlight']\n",
    "\n",
    "# def função snake_case\n",
    "snake_case = lambda x: inflection.underscore( x )\n",
    "\n",
    "# defino as novas colunas\n",
    "cols_new = list(map( snake_case, cols_old )) \n",
    "\n",
    "df1.columns = cols_new\n",
    "\n",
    "df1 = df1.loc[~ df1['property_code'].isna() , : ]"
   ]
  },
  {
   "cell_type": "markdown",
   "id": "112036bf",
   "metadata": {
    "ExecuteTime": {
     "end_time": "2024-02-03T10:32:07.033474Z",
     "start_time": "2024-02-03T10:32:07.029868Z"
    }
   },
   "source": [
    "## 1.1.2 Drop Duplicates"
   ]
  },
  {
   "cell_type": "code",
   "execution_count": 580,
   "id": "f525466a",
   "metadata": {
    "ExecuteTime": {
     "end_time": "2024-02-12T19:04:57.413682Z",
     "start_time": "2024-02-12T19:04:57.401652Z"
    }
   },
   "outputs": [],
   "source": [
    "df1 = df1.drop_duplicates( subset= ['property_code'], keep = 'last' )"
   ]
  },
  {
   "cell_type": "markdown",
   "id": "45bef4ec",
   "metadata": {},
   "source": [
    "## 1.2. Data Dimensions"
   ]
  },
  {
   "cell_type": "code",
   "execution_count": 581,
   "id": "2f02f80f",
   "metadata": {
    "ExecuteTime": {
     "end_time": "2024-02-12T19:04:59.381908Z",
     "start_time": "2024-02-12T19:04:59.377171Z"
    }
   },
   "outputs": [
    {
     "name": "stdout",
     "output_type": "stream",
     "text": [
      "Number of rows 11,869\n",
      "Number of columns 43\n"
     ]
    }
   ],
   "source": [
    "print( 'Number of rows {:,}'.format( df1.shape[0] ) )\n",
    "print( 'Number of columns {:,}'.format( df1.shape[1] ) )"
   ]
  },
  {
   "cell_type": "markdown",
   "id": "224cd158",
   "metadata": {},
   "source": [
    "## 1.3. Data Types"
   ]
  },
  {
   "cell_type": "code",
   "execution_count": 582,
   "id": "8de61cd8",
   "metadata": {
    "ExecuteTime": {
     "end_time": "2024-02-12T19:05:04.239749Z",
     "start_time": "2024-02-12T19:05:04.234286Z"
    }
   },
   "outputs": [
    {
     "name": "stdout",
     "output_type": "stream",
     "text": [
      "property_code               float64\n",
      "thumbnail                    object\n",
      "num_photos                  float64\n",
      "floor                        object\n",
      "price                       float64\n",
      "property_type                object\n",
      "operation                    object\n",
      "size                        float64\n",
      "exterior                     object\n",
      "rooms                       float64\n",
      "bathrooms                   float64\n",
      "address                      object\n",
      "province                     object\n",
      "municipality                 object\n",
      "district                     object\n",
      "country                      object\n",
      "latitude                    float64\n",
      "longitude                   float64\n",
      "show_address                 object\n",
      "url                          object\n",
      "distance                    float64\n",
      "description                  object\n",
      "has_video                    object\n",
      "status                       object\n",
      "new_development              object\n",
      "has_lift                    float64\n",
      "price_by_area               float64\n",
      "detailed_type                object\n",
      "suggested_texts              object\n",
      "has_plan                     object\n",
      "has3_d_tour                  object\n",
      "has360                       object\n",
      "has_staging                  object\n",
      "top_new_development          object\n",
      "super_top_highlight          object\n",
      "parking_space                object\n",
      "external_reference           object\n",
      "labels                       object\n",
      "neighborhood                 object\n",
      "pagina                      float64\n",
      "datetime_scrapy              object\n",
      "new_development_finished    float64\n",
      "highlight                    object\n",
      "dtype: object\n"
     ]
    }
   ],
   "source": [
    "# exibindo os tipos de dados\n",
    "print( df1.dtypes )"
   ]
  },
  {
   "cell_type": "markdown",
   "id": "198540a0",
   "metadata": {},
   "source": [
    "## 1.4. Check NA"
   ]
  },
  {
   "cell_type": "code",
   "execution_count": 758,
   "id": "dd8e8700",
   "metadata": {
    "ExecuteTime": {
     "end_time": "2024-02-12T20:07:39.771322Z",
     "start_time": "2024-02-12T20:07:39.723811Z"
    }
   },
   "outputs": [
    {
     "data": {
      "text/plain": [
       "thumbnail              0\n",
       "num_photos             0\n",
       "floor                  0\n",
       "price                  0\n",
       "property_type          0\n",
       "size                   0\n",
       "rooms                  0\n",
       "bathrooms              0\n",
       "address                0\n",
       "province               0\n",
       "municipality           0\n",
       "district               0\n",
       "latitude               0\n",
       "longitude              0\n",
       "show_address           0\n",
       "distance               0\n",
       "description            0\n",
       "has_video              0\n",
       "status                 0\n",
       "new_development        0\n",
       "has_lift               0\n",
       "detailed_type          0\n",
       "suggested_texts        0\n",
       "has_plan               0\n",
       "has3_d_tour            0\n",
       "has360                 0\n",
       "has_staging            0\n",
       "top_new_development    0\n",
       "parking_space          0\n",
       "pagina                 0\n",
       "datetime_scrapy        0\n",
       "dtype: int64"
      ]
     },
     "execution_count": 758,
     "metadata": {},
     "output_type": "execute_result"
    }
   ],
   "source": [
    "df1.isna().sum()"
   ]
  },
  {
   "cell_type": "code",
   "execution_count": 759,
   "id": "9af844ed",
   "metadata": {
    "ExecuteTime": {
     "end_time": "2024-02-12T20:07:44.925749Z",
     "start_time": "2024-02-12T20:07:44.851604Z"
    }
   },
   "outputs": [
    {
     "data": {
      "text/html": [
       "<div>\n",
       "<style scoped>\n",
       "    .dataframe tbody tr th:only-of-type {\n",
       "        vertical-align: middle;\n",
       "    }\n",
       "\n",
       "    .dataframe tbody tr th {\n",
       "        vertical-align: top;\n",
       "    }\n",
       "\n",
       "    .dataframe thead th {\n",
       "        text-align: right;\n",
       "    }\n",
       "</style>\n",
       "<table border=\"1\" class=\"dataframe\">\n",
       "  <thead>\n",
       "    <tr style=\"text-align: right;\">\n",
       "      <th></th>\n",
       "      <th>index</th>\n",
       "      <th>0</th>\n",
       "      <th>% dados Vazios</th>\n",
       "    </tr>\n",
       "  </thead>\n",
       "  <tbody>\n",
       "  </tbody>\n",
       "</table>\n",
       "</div>"
      ],
      "text/plain": [
       "Empty DataFrame\n",
       "Columns: [index, 0, % dados Vazios]\n",
       "Index: []"
      ]
     },
     "execution_count": 759,
     "metadata": {},
     "output_type": "execute_result"
    }
   ],
   "source": [
    "# calculando os % de dados vazios\n",
    "dfna = df1.isna().sum().to_frame().reset_index()\n",
    "dfna['% dados Vazios'] = ( df1.isna().sum().to_frame().reset_index()[0] / df1.shape[0] ) *100\n",
    "dfna.loc[ dfna['% dados Vazios'] != 0 , : ]"
   ]
  },
  {
   "cell_type": "markdown",
   "id": "60e30ecc",
   "metadata": {},
   "source": [
    "## 1.5 - Excluindo colunas irrelevantes"
   ]
  },
  {
   "cell_type": "code",
   "execution_count": 585,
   "id": "b4e135a4",
   "metadata": {
    "ExecuteTime": {
     "end_time": "2024-02-12T19:05:34.054673Z",
     "start_time": "2024-02-12T19:05:34.050815Z"
    }
   },
   "outputs": [],
   "source": [
    "# função para excluir colunas se for passada uma lista\n",
    "def delete_columns( df , list_columns = None ):\n",
    "    \n",
    "    if list_columns is None:\n",
    "        \n",
    "        df = df\n",
    "        \n",
    "        return df\n",
    "    \n",
    "    else:\n",
    "        \n",
    "        df = df.drop( list_columns , axis = 1)\n",
    "        \n",
    "        return df\n"
   ]
  },
  {
   "cell_type": "code",
   "execution_count": 586,
   "id": "feb11e28",
   "metadata": {
    "ExecuteTime": {
     "end_time": "2024-02-12T19:05:36.003785Z",
     "start_time": "2024-02-12T19:05:35.995157Z"
    }
   },
   "outputs": [],
   "source": [
    "# colunas vazias ou irrelevantes\n",
    "colunas_irrelevantes = ['property_code',\n",
    "           'external_reference',\n",
    "           'labels',\n",
    "           'neighborhood',\n",
    "           'new_development_finished',\n",
    "           'highlight',\n",
    "           'exterior',\n",
    "           'super_top_highlight',\n",
    "           'operation',\n",
    "           'country',\n",
    "           'url',\n",
    "           'price_by_area']\n",
    "\n",
    "df1 = delete_columns( df1 , colunas_irrelevantes )"
   ]
  },
  {
   "cell_type": "markdown",
   "id": "8504f29d",
   "metadata": {},
   "source": [
    "## 1.5.1 Fillout NA"
   ]
  },
  {
   "cell_type": "code",
   "execution_count": 587,
   "id": "6cd077cc",
   "metadata": {
    "ExecuteTime": {
     "end_time": "2024-02-12T19:05:38.577035Z",
     "start_time": "2024-02-12T19:05:38.570206Z"
    }
   },
   "outputs": [],
   "source": [
    "def fill_na(df):\n",
    "    # thumbnail - vou substituir anúncios que possuem thumbnail por 1 e aqueles que não por 0\n",
    "    df.loc[:,'thumbnail'] = np.where( df['thumbnail'].isna(), 0 , 1 )\n",
    "\n",
    "    # floor \n",
    "    df.loc[:,'floor'] = df['floor'].apply( lambda x : 0 if pd.isna( x ) else x )\n",
    "\n",
    "    # district - vou fazer uma chamada na api para procurar os districts passando as coordenadas\n",
    "    df.loc[:,'district'] = df.apply(lambda x: find_mun( x['latitude'], x['longitude'] ) if pd.isna( x['district'] ) else x['district'],axis = 1)\n",
    "\n",
    "    # description\n",
    "    df.loc[:,'description'] = df['description'].apply( lambda x : 'no description' if pd.isna( x ) else x )\n",
    "\n",
    "    # has_lift - vou considerar que se não foi informado na base o apto imovel não tem elevador\n",
    "    df.loc[:,'has_lift'] = df['has_lift'].apply( lambda x: 0 if pd.isna( x ) else x  )\n",
    "\n",
    "    # parking_space \n",
    "    df.loc[:,'parking_space'] = df['parking_space'].apply( lambda x: 0 if pd.isna( x ) else x ) \n",
    "    \n",
    "    return df"
   ]
  },
  {
   "cell_type": "code",
   "execution_count": 588,
   "id": "f6dc39bc",
   "metadata": {
    "ExecuteTime": {
     "end_time": "2024-02-12T19:17:06.343964Z",
     "start_time": "2024-02-12T19:05:40.682691Z"
    }
   },
   "outputs": [
    {
     "name": "stderr",
     "output_type": "stream",
     "text": [
      "C:\\Users\\oscar\\AppData\\Local\\Temp\\ipykernel_5096\\2764531685.py:3: DeprecationWarning: In a future version, `df.iloc[:, i] = newvals` will attempt to set the values inplace instead of always setting a new array. To retain the old behavior, use either `df[df.columns[i]] = newvals` or, if columns are non-unique, `df.isetitem(i, newvals)`\n",
      "  df.loc[:,'thumbnail'] = np.where( df['thumbnail'].isna(), 0 , 1 )\n"
     ]
    }
   ],
   "source": [
    "df1 = fill_na( df1 )"
   ]
  },
  {
   "cell_type": "markdown",
   "id": "d7a16a0f",
   "metadata": {
    "heading_collapsed": true
   },
   "source": [
    "## 1.7. Descriptive Statistical"
   ]
  },
  {
   "cell_type": "markdown",
   "id": "1cca4f10",
   "metadata": {},
   "source": [
    "## 1.7.1 Numerical Attributes"
   ]
  },
  {
   "cell_type": "code",
   "execution_count": 589,
   "id": "fac52b56",
   "metadata": {
    "ExecuteTime": {
     "end_time": "2024-02-12T19:17:11.223271Z",
     "start_time": "2024-02-12T19:17:11.192315Z"
    }
   },
   "outputs": [
    {
     "data": {
      "text/html": [
       "<div>\n",
       "<style scoped>\n",
       "    .dataframe tbody tr th:only-of-type {\n",
       "        vertical-align: middle;\n",
       "    }\n",
       "\n",
       "    .dataframe tbody tr th {\n",
       "        vertical-align: top;\n",
       "    }\n",
       "\n",
       "    .dataframe thead th {\n",
       "        text-align: right;\n",
       "    }\n",
       "</style>\n",
       "<table border=\"1\" class=\"dataframe\">\n",
       "  <thead>\n",
       "    <tr style=\"text-align: right;\">\n",
       "      <th></th>\n",
       "      <th>features</th>\n",
       "      <th>min</th>\n",
       "      <th>max</th>\n",
       "      <th>range</th>\n",
       "      <th>mean</th>\n",
       "      <th>median</th>\n",
       "      <th>std</th>\n",
       "      <th>skew</th>\n",
       "      <th>kurtosis</th>\n",
       "    </tr>\n",
       "  </thead>\n",
       "  <tbody>\n",
       "    <tr>\n",
       "      <th>0</th>\n",
       "      <td>num_photos</td>\n",
       "      <td>0.00</td>\n",
       "      <td>180.00</td>\n",
       "      <td>180.00</td>\n",
       "      <td>24.83</td>\n",
       "      <td>23.00</td>\n",
       "      <td>13.00</td>\n",
       "      <td>1.60</td>\n",
       "      <td>6.20</td>\n",
       "    </tr>\n",
       "    <tr>\n",
       "      <th>1</th>\n",
       "      <td>price</td>\n",
       "      <td>300.00</td>\n",
       "      <td>80,000.00</td>\n",
       "      <td>79,700.00</td>\n",
       "      <td>2,818.15</td>\n",
       "      <td>2,000.00</td>\n",
       "      <td>2,704.29</td>\n",
       "      <td>5.26</td>\n",
       "      <td>73.05</td>\n",
       "    </tr>\n",
       "    <tr>\n",
       "      <th>2</th>\n",
       "      <td>size</td>\n",
       "      <td>10.00</td>\n",
       "      <td>97,500.00</td>\n",
       "      <td>97,490.00</td>\n",
       "      <td>150.27</td>\n",
       "      <td>109.00</td>\n",
       "      <td>949.53</td>\n",
       "      <td>93.82</td>\n",
       "      <td>9,404.29</td>\n",
       "    </tr>\n",
       "    <tr>\n",
       "      <th>3</th>\n",
       "      <td>rooms</td>\n",
       "      <td>0.00</td>\n",
       "      <td>21.00</td>\n",
       "      <td>21.00</td>\n",
       "      <td>2.51</td>\n",
       "      <td>2.00</td>\n",
       "      <td>1.35</td>\n",
       "      <td>1.46</td>\n",
       "      <td>9.46</td>\n",
       "    </tr>\n",
       "    <tr>\n",
       "      <th>4</th>\n",
       "      <td>bathrooms</td>\n",
       "      <td>1.00</td>\n",
       "      <td>14.00</td>\n",
       "      <td>13.00</td>\n",
       "      <td>2.03</td>\n",
       "      <td>2.00</td>\n",
       "      <td>1.20</td>\n",
       "      <td>1.83</td>\n",
       "      <td>5.84</td>\n",
       "    </tr>\n",
       "    <tr>\n",
       "      <th>5</th>\n",
       "      <td>distance</td>\n",
       "      <td>61.00</td>\n",
       "      <td>49,855.00</td>\n",
       "      <td>49,794.00</td>\n",
       "      <td>11,172.14</td>\n",
       "      <td>6,758.00</td>\n",
       "      <td>10,292.74</td>\n",
       "      <td>0.82</td>\n",
       "      <td>-0.36</td>\n",
       "    </tr>\n",
       "    <tr>\n",
       "      <th>6</th>\n",
       "      <td>has_lift</td>\n",
       "      <td>0.00</td>\n",
       "      <td>1.00</td>\n",
       "      <td>1.00</td>\n",
       "      <td>0.45</td>\n",
       "      <td>0.00</td>\n",
       "      <td>0.50</td>\n",
       "      <td>0.19</td>\n",
       "      <td>-1.96</td>\n",
       "    </tr>\n",
       "  </tbody>\n",
       "</table>\n",
       "</div>"
      ],
      "text/plain": [
       "     features    min       max     range      mean   median       std  skew  \\\n",
       "0  num_photos   0.00    180.00    180.00     24.83    23.00     13.00  1.60   \n",
       "1       price 300.00 80,000.00 79,700.00  2,818.15 2,000.00  2,704.29  5.26   \n",
       "2        size  10.00 97,500.00 97,490.00    150.27   109.00    949.53 93.82   \n",
       "3       rooms   0.00     21.00     21.00      2.51     2.00      1.35  1.46   \n",
       "4   bathrooms   1.00     14.00     13.00      2.03     2.00      1.20  1.83   \n",
       "5    distance  61.00 49,855.00 49,794.00 11,172.14 6,758.00 10,292.74  0.82   \n",
       "6    has_lift   0.00      1.00      1.00      0.45     0.00      0.50  0.19   \n",
       "\n",
       "   kurtosis  \n",
       "0      6.20  \n",
       "1     73.05  \n",
       "2  9,404.29  \n",
       "3      9.46  \n",
       "4      5.84  \n",
       "5     -0.36  \n",
       "6     -1.96  "
      ]
     },
     "execution_count": 589,
     "metadata": {},
     "output_type": "execute_result"
    }
   ],
   "source": [
    "df1_stats = stats( df1 , ['latitude','longitude','pagina'] )\n",
    "df1_stats"
   ]
  },
  {
   "cell_type": "markdown",
   "id": "bdcea69d",
   "metadata": {
    "ExecuteTime": {
     "end_time": "2023-03-04T23:29:56.937888Z",
     "start_time": "2023-03-04T23:29:56.914814Z"
    }
   },
   "source": [
    "## 1.7.2 Categorical Attributes"
   ]
  },
  {
   "cell_type": "code",
   "execution_count": 590,
   "id": "99498bf0",
   "metadata": {
    "ExecuteTime": {
     "end_time": "2024-02-12T19:17:41.001191Z",
     "start_time": "2024-02-12T19:17:40.831274Z"
    }
   },
   "outputs": [
    {
     "name": "stdout",
     "output_type": "stream",
     "text": [
      "thumbnail                  2\n",
      "floor                     32\n",
      "property_type              6\n",
      "address                 4004\n",
      "province                   3\n",
      "municipality             139\n",
      "district                 405\n",
      "show_address               2\n",
      "description            11526\n",
      "has_video                  2\n",
      "status                     3\n",
      "new_development            2\n",
      "detailed_type             15\n",
      "suggested_texts         4427\n",
      "has_plan                   2\n",
      "has3_d_tour                2\n",
      "has360                     2\n",
      "has_staging                2\n",
      "top_new_development        1\n",
      "parking_space             14\n",
      "datetime_scrapy          127\n",
      "dtype: int64\n",
      "====================================================================================================\n",
      "thumbnail                                                         [1, 0]\n",
      "floor                  [6, 2, bj, 0, 1, 3, 8, 5, 7, en, 16, 4, 11, 9,...\n",
      "property_type          [flat, chalet, duplex, studio, penthouse, coun...\n",
      "address                [Nova Carnaxide, Rua Professor Doutor João Bat...\n",
      "province                                     [Lisboa, Setúbal, Santarém]\n",
      "municipality           [Carnaxide e Queijas, Rio de Mouro, Carnide, M...\n",
      "district               [Nova Carnaxide, Vale Mourão - Paiões, Carnide...\n",
      "show_address                                               [False, True]\n",
      "description            [Apartamento T1 mobilado e equipado em Carnaxi...\n",
      "has_video                                                  [True, False]\n",
      "status                                     [good, renew, newdevelopment]\n",
      "new_development                                            [False, True]\n",
      "detailed_type          [{'typology': 'flat'}, {'typology': 'chalet', ...\n",
      "suggested_texts        [{'subtitle': 'Carnaxide e Queijas, Oeiras', '...\n",
      "has_plan                                                   [False, True]\n",
      "has3_d_tour                                                [False, True]\n",
      "has360                                                     [False, True]\n",
      "has_staging                                                [False, True]\n",
      "top_new_development                                              [False]\n",
      "parking_space          [0, {'hasParkingSpace': True, 'isParkingSpaceI...\n",
      "datetime_scrapy        [2023-04-12 22:00:03, 2023-04-12 22:00:04, 202...\n",
      "dtype: object\n"
     ]
    }
   ],
   "source": [
    "df1['province'] = df1['province'].apply( lambda x : 'Lisboa' if x == 'lisboa' else 'Setúbal' if x == 'setubal' else 'Santarém' if x == 'santarem'  else x)\n",
    "\n",
    "num_categorical = df1.select_dtypes( exclude = ['int64','float64','datetime64[ns]'] )\n",
    "# verifico quantos tipos diferentes tenho nas var categoricas\n",
    "print( num_categorical.apply( lambda x: x.unique().shape[0] ) )\n",
    "\n",
    "print( '='*100 )\n",
    "\n",
    "# verifico quantos tipos diferentes tenho nas var categoricas\n",
    "print( num_categorical.apply( lambda x: x.unique() ) )"
   ]
  },
  {
   "cell_type": "markdown",
   "id": "9e2330a4",
   "metadata": {},
   "source": [
    "# 2.0 Feature Engineering"
   ]
  },
  {
   "cell_type": "code",
   "execution_count": 591,
   "id": "fbbc7143",
   "metadata": {
    "ExecuteTime": {
     "end_time": "2024-02-12T19:17:50.774310Z",
     "start_time": "2024-02-12T19:17:50.760128Z"
    }
   },
   "outputs": [],
   "source": [
    "df2 = df1.copy()"
   ]
  },
  {
   "cell_type": "code",
   "execution_count": 592,
   "id": "114ec8cb",
   "metadata": {
    "ExecuteTime": {
     "end_time": "2024-02-12T19:17:53.474856Z",
     "start_time": "2024-02-12T19:17:52.847134Z"
    }
   },
   "outputs": [],
   "source": [
    "# será usado para médias das regiões\n",
    "df2.to_csv( 'datasets/df_region.csv' )"
   ]
  },
  {
   "cell_type": "code",
   "execution_count": 21,
   "id": "75902b7b",
   "metadata": {
    "ExecuteTime": {
     "end_time": "2024-02-12T12:06:50.071299Z",
     "start_time": "2024-02-12T12:06:50.042000Z"
    }
   },
   "outputs": [],
   "source": [
    "def feature_engineering( df , df_region, transform_data = False, merge_datasets = False ):\n",
    "    \n",
    "    if transform_data and merge_datasets == False :\n",
    "        \n",
    "        # mes\n",
    "        df['datetime_scrapy'] = pd.to_datetime( df['datetime_scrapy'] )\n",
    "        df['month'] = df['datetime_scrapy'].dt.month \n",
    "\n",
    "        # ano\n",
    "        df['year'] = df['datetime_scrapy'].dt.year\n",
    "\n",
    "        # excluir a coluna datetime\n",
    "        df = df.drop( 'datetime_scrapy', axis = 1 )\n",
    "        \n",
    "        print( 'Dados Transformados' )\n",
    "        \n",
    "        return df\n",
    "        \n",
    "    \n",
    "    if merge_datasets == True and transform_data == False:\n",
    "        \n",
    "        # Df com a média de preço por município\n",
    "        df_municipality_mean_price = df_region.groupby('municipality')[['price']].mean().reset_index()\n",
    "\n",
    "        # alteração nome coluna\n",
    "        df_municipality_mean_price = df_municipality_mean_price.rename(columns={'price': 'municipality_mean_price'})\n",
    "\n",
    "        # exportar para csv\n",
    "        #d f2_municipality_mean_price.to_csv( 'datasets/municipality.csv' )\n",
    "\n",
    "        # acrescentando a coluna ao df2\n",
    "        df = pd.merge( df, df_municipality_mean_price, on = 'municipality' , how = 'left' )\n",
    "\n",
    "# ======================================================================================================================#\n",
    "\n",
    "        # calculando a média por 'province'\n",
    "        df2_province_mean_price = df_region.groupby( 'province' )[['price']].mean().reset_index().rename( columns = { 'price': 'province_mean_price' } )\n",
    "\n",
    "        # exportando para csv\n",
    "        # df2_province_mean_price.to_csv( 'datasets/province.csv' )\n",
    "\n",
    "        # acrescentando a coluna ao df2\n",
    "        df = pd.merge( df, df2_province_mean_price , on = 'province' , how = 'left' )\n",
    "\n",
    "#=======================================================================================================================#\n",
    "\n",
    "        # calculando média por district\n",
    "        df2_district_mean_price = df_region.groupby( 'district' )[['price']].median().reset_index().rename( columns = { 'price' : 'district_mean_price' } )\n",
    "\n",
    "        # exportando para csv \n",
    "        #df2_district_mean_price.to_csv( 'datasets/district.csv' )\n",
    "\n",
    "        # acrescentando a coluna ao df2\n",
    "        df = pd.merge( df , df2_district_mean_price , on = 'district', how = 'left' )\n",
    "\n",
    "        print( 'Datasets combinados com preços regioes' )\n",
    "\n",
    "        return df\n",
    "    \n",
    "    if transform_data == True and merge_datasets == True:\n",
    "        \n",
    "        # mes\n",
    "        df['datetime_scrapy'] = pd.to_datetime( df['datetime_scrapy'] )\n",
    "        df['month'] = df['datetime_scrapy'].dt.month \n",
    "\n",
    "        # ano\n",
    "        df['year'] = df['datetime_scrapy'].dt.year\n",
    "\n",
    "        # excluir a coluna datetime\n",
    "        df = df.drop( 'datetime_scrapy', axis = 1 )\n",
    "        \n",
    "        # Df com a média de preço por município\n",
    "        df_municipality_mean_price = df_region.groupby('municipality')[['price']].mean().reset_index()\n",
    "\n",
    "        # alteração nome coluna\n",
    "        df_municipality_mean_price = df_municipality_mean_price.rename(columns={'price': 'municipality_mean_price'})\n",
    "\n",
    "        # exportar para csv\n",
    "        #d f2_municipality_mean_price.to_csv( 'datasets/municipality.csv' )\n",
    "\n",
    "        # acrescentando a coluna ao df2\n",
    "        df = pd.merge( df, df_municipality_mean_price, on = 'municipality' , how = 'left' )\n",
    "        \n",
    "# ======================================================================================================================#\n",
    "        \n",
    "        # calculando a média por 'province'\n",
    "        df2_province_mean_price = df_region.groupby( 'province' )[['price']].mean().reset_index().rename( columns = { 'price': 'province_mean_price' } )\n",
    "\n",
    "        # exportando para csv\n",
    "        # df2_province_mean_price.to_csv( 'datasets/province.csv' )\n",
    "\n",
    "        # acrescentando a coluna ao df2\n",
    "        df = pd.merge( df, df2_province_mean_price , on = 'province' , how = 'left' )\n",
    "        \n",
    "#=======================================================================================================================#\n",
    "        \n",
    "        # calculando média por district\n",
    "        df2_district_mean_price = df_region.groupby( 'district' )[['price']].median().reset_index().rename( columns = { 'price' : 'district_mean_price' } )\n",
    "\n",
    "        # exportando para csv \n",
    "        #df2_district_mean_price.to_csv( 'datasets/district.csv' )\n",
    "\n",
    "        # acrescentando a coluna ao df2\n",
    "        df = pd.merge( df , df2_district_mean_price , on = 'district', how = 'left' )\n",
    "        \n",
    "        print( 'datasets combinados e dados transformados' )\n",
    "        \n",
    "        return df\n",
    "        \n",
    "    else:\n",
    "        \n",
    "        print( 'Nenhuma Transformação' )\n",
    "        \n",
    "        return df\n",
    "            "
   ]
  },
  {
   "cell_type": "code",
   "execution_count": 593,
   "id": "8f26e2d2",
   "metadata": {
    "ExecuteTime": {
     "end_time": "2024-02-12T19:17:58.599737Z",
     "start_time": "2024-02-12T19:17:58.215065Z"
    },
    "scrolled": true
   },
   "outputs": [
    {
     "name": "stdout",
     "output_type": "stream",
     "text": [
      "Dados Transformados\n"
     ]
    }
   ],
   "source": [
    "df_mean_region = pd.read_csv( 'datasets/df_region.csv' )\n",
    "\n",
    "\n",
    "df2 = feature_engineering( df = df2 ,  \n",
    "                          df_region= df_mean_region,  transform_data= True)\n"
   ]
  },
  {
   "cell_type": "markdown",
   "id": "c89aafaf",
   "metadata": {},
   "source": [
    "# 3.0 Filtragem de Variáveis"
   ]
  },
  {
   "cell_type": "code",
   "execution_count": 594,
   "id": "f997cd89",
   "metadata": {
    "ExecuteTime": {
     "end_time": "2024-02-12T19:18:08.215658Z",
     "start_time": "2024-02-12T19:18:08.208636Z"
    }
   },
   "outputs": [],
   "source": [
    "df3 = df2.copy()"
   ]
  },
  {
   "cell_type": "code",
   "execution_count": 595,
   "id": "329f4b37",
   "metadata": {
    "ExecuteTime": {
     "end_time": "2024-02-12T19:18:09.884505Z",
     "start_time": "2024-02-12T19:18:09.879767Z"
    }
   },
   "outputs": [],
   "source": [
    "def filter_variables(df, filter_variables = False):\n",
    "    \n",
    "    if filter_variables:\n",
    "        \n",
    "        # Vou querer saber somente os preços na province de Lisboa\n",
    "        df = df.loc[ df['province'] == 'Lisboa' , :  ]\n",
    "\n",
    "        # vou querer somente as habitações que tenham de 0 a no máximo 4 quartos\n",
    "        df = df.loc[ df['rooms'].isin( [ 0,1,2,3,4 ] ) , : ]\n",
    "        \n",
    "        print('Variavies filtradas')\n",
    "        \n",
    "        return df\n",
    "    \n",
    "    else:\n",
    "        \n",
    "        print('Variavies não filtradas')\n",
    "        \n",
    "        return df\n",
    "\n",
    "        \n",
    "    "
   ]
  },
  {
   "cell_type": "code",
   "execution_count": 596,
   "id": "4fb8bddc",
   "metadata": {
    "ExecuteTime": {
     "end_time": "2024-02-12T19:18:11.963841Z",
     "start_time": "2024-02-12T19:18:11.959339Z"
    }
   },
   "outputs": [
    {
     "name": "stdout",
     "output_type": "stream",
     "text": [
      "Variavies não filtradas\n"
     ]
    }
   ],
   "source": [
    "# vou manter filter_variables = False neste ciclo\n",
    "df3 = filter_variables( df3 )"
   ]
  },
  {
   "cell_type": "markdown",
   "id": "91c91dfd",
   "metadata": {
    "ExecuteTime": {
     "end_time": "2023-08-11T11:58:12.084853Z",
     "start_time": "2023-08-11T11:58:12.079256Z"
    }
   },
   "source": [
    "# 4.0 Análise Exploratória de Dados"
   ]
  },
  {
   "cell_type": "code",
   "execution_count": 597,
   "id": "c3130231",
   "metadata": {
    "ExecuteTime": {
     "end_time": "2024-02-12T19:18:15.013276Z",
     "start_time": "2024-02-12T19:18:15.006537Z"
    }
   },
   "outputs": [],
   "source": [
    "df4 = df3.copy()"
   ]
  },
  {
   "cell_type": "markdown",
   "id": "692be53f",
   "metadata": {},
   "source": [
    "## 4.1. - Analise Univariada"
   ]
  },
  {
   "cell_type": "code",
   "execution_count": 598,
   "id": "b9c64d61",
   "metadata": {
    "ExecuteTime": {
     "end_time": "2024-02-12T19:18:17.577221Z",
     "start_time": "2024-02-12T19:18:17.534941Z"
    }
   },
   "outputs": [
    {
     "data": {
      "text/html": [
       "<div>\n",
       "<style scoped>\n",
       "    .dataframe tbody tr th:only-of-type {\n",
       "        vertical-align: middle;\n",
       "    }\n",
       "\n",
       "    .dataframe tbody tr th {\n",
       "        vertical-align: top;\n",
       "    }\n",
       "\n",
       "    .dataframe thead th {\n",
       "        text-align: right;\n",
       "    }\n",
       "</style>\n",
       "<table border=\"1\" class=\"dataframe\">\n",
       "  <thead>\n",
       "    <tr style=\"text-align: right;\">\n",
       "      <th></th>\n",
       "      <th>features</th>\n",
       "      <th>min</th>\n",
       "      <th>max</th>\n",
       "      <th>range</th>\n",
       "      <th>mean</th>\n",
       "      <th>median</th>\n",
       "      <th>std</th>\n",
       "      <th>skew</th>\n",
       "      <th>kurtosis</th>\n",
       "    </tr>\n",
       "  </thead>\n",
       "  <tbody>\n",
       "    <tr>\n",
       "      <th>0</th>\n",
       "      <td>num_photos</td>\n",
       "      <td>0.00</td>\n",
       "      <td>180.00</td>\n",
       "      <td>180.00</td>\n",
       "      <td>24.83</td>\n",
       "      <td>23.00</td>\n",
       "      <td>13.00</td>\n",
       "      <td>1.60</td>\n",
       "      <td>6.20</td>\n",
       "    </tr>\n",
       "    <tr>\n",
       "      <th>1</th>\n",
       "      <td>price</td>\n",
       "      <td>300.00</td>\n",
       "      <td>80,000.00</td>\n",
       "      <td>79,700.00</td>\n",
       "      <td>2,818.15</td>\n",
       "      <td>2,000.00</td>\n",
       "      <td>2,704.29</td>\n",
       "      <td>5.26</td>\n",
       "      <td>73.05</td>\n",
       "    </tr>\n",
       "    <tr>\n",
       "      <th>2</th>\n",
       "      <td>size</td>\n",
       "      <td>10.00</td>\n",
       "      <td>97,500.00</td>\n",
       "      <td>97,490.00</td>\n",
       "      <td>150.27</td>\n",
       "      <td>109.00</td>\n",
       "      <td>949.53</td>\n",
       "      <td>93.82</td>\n",
       "      <td>9,404.29</td>\n",
       "    </tr>\n",
       "    <tr>\n",
       "      <th>3</th>\n",
       "      <td>rooms</td>\n",
       "      <td>0.00</td>\n",
       "      <td>21.00</td>\n",
       "      <td>21.00</td>\n",
       "      <td>2.51</td>\n",
       "      <td>2.00</td>\n",
       "      <td>1.35</td>\n",
       "      <td>1.46</td>\n",
       "      <td>9.46</td>\n",
       "    </tr>\n",
       "    <tr>\n",
       "      <th>4</th>\n",
       "      <td>bathrooms</td>\n",
       "      <td>1.00</td>\n",
       "      <td>14.00</td>\n",
       "      <td>13.00</td>\n",
       "      <td>2.03</td>\n",
       "      <td>2.00</td>\n",
       "      <td>1.20</td>\n",
       "      <td>1.83</td>\n",
       "      <td>5.84</td>\n",
       "    </tr>\n",
       "    <tr>\n",
       "      <th>5</th>\n",
       "      <td>distance</td>\n",
       "      <td>61.00</td>\n",
       "      <td>49,855.00</td>\n",
       "      <td>49,794.00</td>\n",
       "      <td>11,172.14</td>\n",
       "      <td>6,758.00</td>\n",
       "      <td>10,292.74</td>\n",
       "      <td>0.82</td>\n",
       "      <td>-0.36</td>\n",
       "    </tr>\n",
       "    <tr>\n",
       "      <th>6</th>\n",
       "      <td>has_lift</td>\n",
       "      <td>0.00</td>\n",
       "      <td>1.00</td>\n",
       "      <td>1.00</td>\n",
       "      <td>0.45</td>\n",
       "      <td>0.00</td>\n",
       "      <td>0.50</td>\n",
       "      <td>0.19</td>\n",
       "      <td>-1.96</td>\n",
       "    </tr>\n",
       "    <tr>\n",
       "      <th>7</th>\n",
       "      <td>pagina</td>\n",
       "      <td>1.00</td>\n",
       "      <td>92.00</td>\n",
       "      <td>91.00</td>\n",
       "      <td>29.18</td>\n",
       "      <td>25.00</td>\n",
       "      <td>21.67</td>\n",
       "      <td>0.97</td>\n",
       "      <td>0.41</td>\n",
       "    </tr>\n",
       "    <tr>\n",
       "      <th>8</th>\n",
       "      <td>month</td>\n",
       "      <td>1.00</td>\n",
       "      <td>9.00</td>\n",
       "      <td>8.00</td>\n",
       "      <td>4.07</td>\n",
       "      <td>3.00</td>\n",
       "      <td>2.97</td>\n",
       "      <td>0.34</td>\n",
       "      <td>-1.41</td>\n",
       "    </tr>\n",
       "    <tr>\n",
       "      <th>9</th>\n",
       "      <td>year</td>\n",
       "      <td>2,023.00</td>\n",
       "      <td>2,024.00</td>\n",
       "      <td>1.00</td>\n",
       "      <td>2,023.30</td>\n",
       "      <td>2,023.00</td>\n",
       "      <td>0.46</td>\n",
       "      <td>0.85</td>\n",
       "      <td>-1.27</td>\n",
       "    </tr>\n",
       "  </tbody>\n",
       "</table>\n",
       "</div>"
      ],
      "text/plain": [
       "     features      min       max     range      mean   median       std  skew  \\\n",
       "0  num_photos     0.00    180.00    180.00     24.83    23.00     13.00  1.60   \n",
       "1       price   300.00 80,000.00 79,700.00  2,818.15 2,000.00  2,704.29  5.26   \n",
       "2        size    10.00 97,500.00 97,490.00    150.27   109.00    949.53 93.82   \n",
       "3       rooms     0.00     21.00     21.00      2.51     2.00      1.35  1.46   \n",
       "4   bathrooms     1.00     14.00     13.00      2.03     2.00      1.20  1.83   \n",
       "5    distance    61.00 49,855.00 49,794.00 11,172.14 6,758.00 10,292.74  0.82   \n",
       "6    has_lift     0.00      1.00      1.00      0.45     0.00      0.50  0.19   \n",
       "7      pagina     1.00     92.00     91.00     29.18    25.00     21.67  0.97   \n",
       "8       month     1.00      9.00      8.00      4.07     3.00      2.97  0.34   \n",
       "9        year 2,023.00  2,024.00      1.00  2,023.30 2,023.00      0.46  0.85   \n",
       "\n",
       "   kurtosis  \n",
       "0      6.20  \n",
       "1     73.05  \n",
       "2  9,404.29  \n",
       "3      9.46  \n",
       "4      5.84  \n",
       "5     -0.36  \n",
       "6     -1.96  \n",
       "7      0.41  \n",
       "8     -1.41  \n",
       "9     -1.27  "
      ]
     },
     "execution_count": 598,
     "metadata": {},
     "output_type": "execute_result"
    }
   ],
   "source": [
    "# verifico as informações estatísticas\n",
    "stats( df4 , ['latitude','longitude'] )"
   ]
  },
  {
   "cell_type": "code",
   "execution_count": 601,
   "id": "8908430c",
   "metadata": {
    "ExecuteTime": {
     "end_time": "2024-02-12T19:18:59.833051Z",
     "start_time": "2024-02-12T19:18:59.822931Z"
    }
   },
   "outputs": [],
   "source": [
    "# removendo o imóvel de tamanho 97500 m2\n",
    "df4 = df4.loc[ df4['size'] != 97500 , : ]"
   ]
  },
  {
   "cell_type": "code",
   "execution_count": 602,
   "id": "bc50a2f9",
   "metadata": {
    "ExecuteTime": {
     "end_time": "2024-02-12T19:19:02.088835Z",
     "start_time": "2024-02-12T19:19:02.056080Z"
    }
   },
   "outputs": [
    {
     "data": {
      "text/html": [
       "<div>\n",
       "<style scoped>\n",
       "    .dataframe tbody tr th:only-of-type {\n",
       "        vertical-align: middle;\n",
       "    }\n",
       "\n",
       "    .dataframe tbody tr th {\n",
       "        vertical-align: top;\n",
       "    }\n",
       "\n",
       "    .dataframe thead th {\n",
       "        text-align: right;\n",
       "    }\n",
       "</style>\n",
       "<table border=\"1\" class=\"dataframe\">\n",
       "  <thead>\n",
       "    <tr style=\"text-align: right;\">\n",
       "      <th></th>\n",
       "      <th>features</th>\n",
       "      <th>min</th>\n",
       "      <th>max</th>\n",
       "      <th>range</th>\n",
       "      <th>mean</th>\n",
       "      <th>median</th>\n",
       "      <th>std</th>\n",
       "      <th>skew</th>\n",
       "      <th>kurtosis</th>\n",
       "    </tr>\n",
       "  </thead>\n",
       "  <tbody>\n",
       "    <tr>\n",
       "      <th>0</th>\n",
       "      <td>num_photos</td>\n",
       "      <td>0.00</td>\n",
       "      <td>180.00</td>\n",
       "      <td>180.00</td>\n",
       "      <td>24.83</td>\n",
       "      <td>23.00</td>\n",
       "      <td>13.00</td>\n",
       "      <td>1.60</td>\n",
       "      <td>6.20</td>\n",
       "    </tr>\n",
       "    <tr>\n",
       "      <th>1</th>\n",
       "      <td>price</td>\n",
       "      <td>300.00</td>\n",
       "      <td>80,000.00</td>\n",
       "      <td>79,700.00</td>\n",
       "      <td>2,818.26</td>\n",
       "      <td>2,000.00</td>\n",
       "      <td>2,704.37</td>\n",
       "      <td>5.26</td>\n",
       "      <td>73.05</td>\n",
       "    </tr>\n",
       "    <tr>\n",
       "      <th>2</th>\n",
       "      <td>size</td>\n",
       "      <td>10.00</td>\n",
       "      <td>30,940.00</td>\n",
       "      <td>30,930.00</td>\n",
       "      <td>142.07</td>\n",
       "      <td>109.00</td>\n",
       "      <td>321.08</td>\n",
       "      <td>78.12</td>\n",
       "      <td>7,255.97</td>\n",
       "    </tr>\n",
       "    <tr>\n",
       "      <th>3</th>\n",
       "      <td>rooms</td>\n",
       "      <td>0.00</td>\n",
       "      <td>21.00</td>\n",
       "      <td>21.00</td>\n",
       "      <td>2.51</td>\n",
       "      <td>2.00</td>\n",
       "      <td>1.35</td>\n",
       "      <td>1.46</td>\n",
       "      <td>9.45</td>\n",
       "    </tr>\n",
       "    <tr>\n",
       "      <th>4</th>\n",
       "      <td>bathrooms</td>\n",
       "      <td>1.00</td>\n",
       "      <td>14.00</td>\n",
       "      <td>13.00</td>\n",
       "      <td>2.03</td>\n",
       "      <td>2.00</td>\n",
       "      <td>1.20</td>\n",
       "      <td>1.83</td>\n",
       "      <td>5.84</td>\n",
       "    </tr>\n",
       "    <tr>\n",
       "      <th>5</th>\n",
       "      <td>distance</td>\n",
       "      <td>61.00</td>\n",
       "      <td>49,855.00</td>\n",
       "      <td>49,794.00</td>\n",
       "      <td>11,171.76</td>\n",
       "      <td>6,756.50</td>\n",
       "      <td>10,293.09</td>\n",
       "      <td>0.82</td>\n",
       "      <td>-0.36</td>\n",
       "    </tr>\n",
       "    <tr>\n",
       "      <th>6</th>\n",
       "      <td>has_lift</td>\n",
       "      <td>0.00</td>\n",
       "      <td>1.00</td>\n",
       "      <td>1.00</td>\n",
       "      <td>0.45</td>\n",
       "      <td>0.00</td>\n",
       "      <td>0.50</td>\n",
       "      <td>0.19</td>\n",
       "      <td>-1.96</td>\n",
       "    </tr>\n",
       "    <tr>\n",
       "      <th>7</th>\n",
       "      <td>pagina</td>\n",
       "      <td>1.00</td>\n",
       "      <td>92.00</td>\n",
       "      <td>91.00</td>\n",
       "      <td>29.18</td>\n",
       "      <td>25.00</td>\n",
       "      <td>21.67</td>\n",
       "      <td>0.97</td>\n",
       "      <td>0.41</td>\n",
       "    </tr>\n",
       "    <tr>\n",
       "      <th>8</th>\n",
       "      <td>month</td>\n",
       "      <td>1.00</td>\n",
       "      <td>9.00</td>\n",
       "      <td>8.00</td>\n",
       "      <td>4.07</td>\n",
       "      <td>3.00</td>\n",
       "      <td>2.97</td>\n",
       "      <td>0.34</td>\n",
       "      <td>-1.41</td>\n",
       "    </tr>\n",
       "    <tr>\n",
       "      <th>9</th>\n",
       "      <td>year</td>\n",
       "      <td>2,023.00</td>\n",
       "      <td>2,024.00</td>\n",
       "      <td>1.00</td>\n",
       "      <td>2,023.30</td>\n",
       "      <td>2,023.00</td>\n",
       "      <td>0.46</td>\n",
       "      <td>0.85</td>\n",
       "      <td>-1.27</td>\n",
       "    </tr>\n",
       "  </tbody>\n",
       "</table>\n",
       "</div>"
      ],
      "text/plain": [
       "     features      min       max     range      mean   median       std  skew  \\\n",
       "0  num_photos     0.00    180.00    180.00     24.83    23.00     13.00  1.60   \n",
       "1       price   300.00 80,000.00 79,700.00  2,818.26 2,000.00  2,704.37  5.26   \n",
       "2        size    10.00 30,940.00 30,930.00    142.07   109.00    321.08 78.12   \n",
       "3       rooms     0.00     21.00     21.00      2.51     2.00      1.35  1.46   \n",
       "4   bathrooms     1.00     14.00     13.00      2.03     2.00      1.20  1.83   \n",
       "5    distance    61.00 49,855.00 49,794.00 11,171.76 6,756.50 10,293.09  0.82   \n",
       "6    has_lift     0.00      1.00      1.00      0.45     0.00      0.50  0.19   \n",
       "7      pagina     1.00     92.00     91.00     29.18    25.00     21.67  0.97   \n",
       "8       month     1.00      9.00      8.00      4.07     3.00      2.97  0.34   \n",
       "9        year 2,023.00  2,024.00      1.00  2,023.30 2,023.00      0.46  0.85   \n",
       "\n",
       "   kurtosis  \n",
       "0      6.20  \n",
       "1     73.05  \n",
       "2  7,255.97  \n",
       "3      9.45  \n",
       "4      5.84  \n",
       "5     -0.36  \n",
       "6     -1.96  \n",
       "7      0.41  \n",
       "8     -1.41  \n",
       "9     -1.27  "
      ]
     },
     "execution_count": 602,
     "metadata": {},
     "output_type": "execute_result"
    }
   ],
   "source": [
    "# verifico novamente as informações estatísticas\n",
    "stats( df4 , ['latitude','longitude'])"
   ]
  },
  {
   "cell_type": "markdown",
   "id": "f77f429b",
   "metadata": {},
   "source": [
    "### 4.1.1 - Response Variable"
   ]
  },
  {
   "cell_type": "code",
   "execution_count": 603,
   "id": "37727c23",
   "metadata": {
    "ExecuteTime": {
     "end_time": "2024-02-12T19:19:11.576061Z",
     "start_time": "2024-02-12T19:19:10.678049Z"
    }
   },
   "outputs": [
    {
     "data": {
      "text/plain": [
       "<seaborn.axisgrid.FacetGrid at 0x15faf790990>"
      ]
     },
     "execution_count": 603,
     "metadata": {},
     "output_type": "execute_result"
    },
    {
     "data": {
      "image/png": "[encoded data removed]",
      "text/plain": [
       "<Figure size 500x500 with 1 Axes>"
      ]
     },
     "metadata": {},
     "output_type": "display_data"
    }
   ],
   "source": [
    "# variavael resposta normal\n",
    "sns.displot( df4['price'] )"
   ]
  },
  {
   "cell_type": "code",
   "execution_count": 604,
   "id": "0a757ab7",
   "metadata": {
    "ExecuteTime": {
     "end_time": "2024-02-12T19:19:13.307761Z",
     "start_time": "2024-02-12T19:19:13.303053Z"
    }
   },
   "outputs": [],
   "source": [
    "# função para remover outliers\n",
    "def remove_outliers(df, coluna = None ,  keep_outliers = True ):\n",
    "    \n",
    "    if keep_outliers:\n",
    "        print( 'Outliers mantidos' )\n",
    "        return df\n",
    "        \n",
    "    else:\n",
    "        # variavel resposta sem outliers\n",
    "        df = remover_outliers( df4 , coluna )\n",
    "        print('Outliers removidos')\n",
    "        return df"
   ]
  },
  {
   "cell_type": "code",
   "execution_count": 605,
   "id": "ca498f89",
   "metadata": {
    "ExecuteTime": {
     "end_time": "2024-02-12T19:19:14.958115Z",
     "start_time": "2024-02-12T19:19:14.954378Z"
    }
   },
   "outputs": [
    {
     "name": "stdout",
     "output_type": "stream",
     "text": [
      "Outliers mantidos\n"
     ]
    }
   ],
   "source": [
    "# manter os outliers\n",
    "df4 = remove_outliers( df4 )\n"
   ]
  },
  {
   "cell_type": "markdown",
   "id": "17ad1564",
   "metadata": {},
   "source": [
    "### 4.1.2 - Numerical Variable"
   ]
  },
  {
   "cell_type": "code",
   "execution_count": 606,
   "id": "6046dd00",
   "metadata": {
    "ExecuteTime": {
     "end_time": "2024-02-12T19:19:19.297050Z",
     "start_time": "2024-02-12T19:19:17.312233Z"
    }
   },
   "outputs": [
    {
     "data": {
      "image/png": "[encoded data removed]",
      "text/plain": [
       "<Figure size 1500x1500 with 12 Axes>"
      ]
     },
     "metadata": {},
     "output_type": "display_data"
    }
   ],
   "source": [
    "df4_num_attributes = df4.select_dtypes( include = ['int64','float64'] )\n",
    "df4_num_attributes.hist( bins = 25, figsize=( 15,15 ) );"
   ]
  },
  {
   "cell_type": "markdown",
   "id": "a8a9c4ac",
   "metadata": {},
   "source": [
    "## 4.2. -  Análise Bivariada"
   ]
  },
  {
   "cell_type": "markdown",
   "id": "ec807ab5",
   "metadata": {},
   "source": [
    "### 4.2.1 - Correlação entre Atributos Numéricos"
   ]
  },
  {
   "cell_type": "code",
   "execution_count": 607,
   "id": "252693e3",
   "metadata": {
    "ExecuteTime": {
     "end_time": "2024-02-12T19:19:24.266953Z",
     "start_time": "2024-02-12T19:19:23.647385Z"
    }
   },
   "outputs": [
    {
     "data": {
      "image/png": "[encoded data removed]",
      "text/plain": [
       "<Figure size 1500x1000 with 2 Axes>"
      ]
     },
     "metadata": {},
     "output_type": "display_data"
    }
   ],
   "source": [
    "plt.figure( figsize = (15,10) )\n",
    "correlation = df4_num_attributes.corr( method = 'pearson' )\n",
    "sns.heatmap( correlation, annot = True );"
   ]
  },
  {
   "cell_type": "markdown",
   "id": "acd3b80e",
   "metadata": {
    "ExecuteTime": {
     "end_time": "2023-08-14T21:04:02.912732Z",
     "start_time": "2023-08-14T21:04:02.909470Z"
    }
   },
   "source": [
    "### 4.2.2 - Correlação entre Atributos Categóricos"
   ]
  },
  {
   "cell_type": "code",
   "execution_count": 608,
   "id": "94eab0de",
   "metadata": {
    "ExecuteTime": {
     "end_time": "2024-02-12T19:21:12.576829Z",
     "start_time": "2024-02-12T19:19:29.512259Z"
    },
    "scrolled": true
   },
   "outputs": [
    {
     "name": "stderr",
     "output_type": "stream",
     "text": [
      "C:\\Users\\oscar\\AppData\\Local\\Temp\\ipykernel_5096\\3203194230.py:112: RuntimeWarning: invalid value encountered in sqrt\n",
      "  v = np.sqrt( ( chi2corr/n ) / ( min ( kcorr-1 , rcorr-1 ) )  )\n",
      "C:\\Users\\oscar\\AppData\\Local\\Temp\\ipykernel_5096\\3203194230.py:112: RuntimeWarning: invalid value encountered in sqrt\n",
      "  v = np.sqrt( ( chi2corr/n ) / ( min ( kcorr-1 , rcorr-1 ) )  )\n",
      "C:\\Users\\oscar\\AppData\\Local\\Temp\\ipykernel_5096\\3203194230.py:112: RuntimeWarning: invalid value encountered in sqrt\n",
      "  v = np.sqrt( ( chi2corr/n ) / ( min ( kcorr-1 , rcorr-1 ) )  )\n",
      "C:\\Users\\oscar\\AppData\\Local\\Temp\\ipykernel_5096\\3203194230.py:112: RuntimeWarning: invalid value encountered in sqrt\n",
      "  v = np.sqrt( ( chi2corr/n ) / ( min ( kcorr-1 , rcorr-1 ) )  )\n",
      "C:\\Users\\oscar\\AppData\\Local\\Temp\\ipykernel_5096\\3203194230.py:112: RuntimeWarning: invalid value encountered in sqrt\n",
      "  v = np.sqrt( ( chi2corr/n ) / ( min ( kcorr-1 , rcorr-1 ) )  )\n",
      "C:\\Users\\oscar\\AppData\\Local\\Temp\\ipykernel_5096\\3203194230.py:112: RuntimeWarning: invalid value encountered in sqrt\n",
      "  v = np.sqrt( ( chi2corr/n ) / ( min ( kcorr-1 , rcorr-1 ) )  )\n",
      "C:\\Users\\oscar\\AppData\\Local\\Temp\\ipykernel_5096\\3203194230.py:112: RuntimeWarning: invalid value encountered in sqrt\n",
      "  v = np.sqrt( ( chi2corr/n ) / ( min ( kcorr-1 , rcorr-1 ) )  )\n",
      "C:\\Users\\oscar\\AppData\\Local\\Temp\\ipykernel_5096\\3203194230.py:112: RuntimeWarning: invalid value encountered in sqrt\n",
      "  v = np.sqrt( ( chi2corr/n ) / ( min ( kcorr-1 , rcorr-1 ) )  )\n",
      "C:\\Users\\oscar\\AppData\\Local\\Temp\\ipykernel_5096\\3203194230.py:112: RuntimeWarning: invalid value encountered in sqrt\n",
      "  v = np.sqrt( ( chi2corr/n ) / ( min ( kcorr-1 , rcorr-1 ) )  )\n",
      "C:\\Users\\oscar\\AppData\\Local\\Temp\\ipykernel_5096\\3203194230.py:112: RuntimeWarning: invalid value encountered in sqrt\n",
      "  v = np.sqrt( ( chi2corr/n ) / ( min ( kcorr-1 , rcorr-1 ) )  )\n",
      "C:\\Users\\oscar\\AppData\\Local\\Temp\\ipykernel_5096\\3203194230.py:112: RuntimeWarning: invalid value encountered in sqrt\n",
      "  v = np.sqrt( ( chi2corr/n ) / ( min ( kcorr-1 , rcorr-1 ) )  )\n",
      "C:\\Users\\oscar\\AppData\\Local\\Temp\\ipykernel_5096\\3203194230.py:112: RuntimeWarning: invalid value encountered in sqrt\n",
      "  v = np.sqrt( ( chi2corr/n ) / ( min ( kcorr-1 , rcorr-1 ) )  )\n",
      "C:\\Users\\oscar\\AppData\\Local\\Temp\\ipykernel_5096\\3203194230.py:112: RuntimeWarning: invalid value encountered in sqrt\n",
      "  v = np.sqrt( ( chi2corr/n ) / ( min ( kcorr-1 , rcorr-1 ) )  )\n",
      "C:\\Users\\oscar\\AppData\\Local\\Temp\\ipykernel_5096\\3203194230.py:112: RuntimeWarning: invalid value encountered in sqrt\n",
      "  v = np.sqrt( ( chi2corr/n ) / ( min ( kcorr-1 , rcorr-1 ) )  )\n",
      "C:\\Users\\oscar\\AppData\\Local\\Temp\\ipykernel_5096\\3203194230.py:112: RuntimeWarning: invalid value encountered in sqrt\n",
      "  v = np.sqrt( ( chi2corr/n ) / ( min ( kcorr-1 , rcorr-1 ) )  )\n",
      "C:\\Users\\oscar\\AppData\\Local\\Temp\\ipykernel_5096\\3203194230.py:112: RuntimeWarning: invalid value encountered in sqrt\n",
      "  v = np.sqrt( ( chi2corr/n ) / ( min ( kcorr-1 , rcorr-1 ) )  )\n",
      "C:\\Users\\oscar\\AppData\\Local\\Temp\\ipykernel_5096\\3203194230.py:112: RuntimeWarning: invalid value encountered in sqrt\n",
      "  v = np.sqrt( ( chi2corr/n ) / ( min ( kcorr-1 , rcorr-1 ) )  )\n",
      "C:\\Users\\oscar\\AppData\\Local\\Temp\\ipykernel_5096\\3203194230.py:112: RuntimeWarning: invalid value encountered in sqrt\n",
      "  v = np.sqrt( ( chi2corr/n ) / ( min ( kcorr-1 , rcorr-1 ) )  )\n",
      "C:\\Users\\oscar\\AppData\\Local\\Temp\\ipykernel_5096\\3203194230.py:112: RuntimeWarning: invalid value encountered in sqrt\n",
      "  v = np.sqrt( ( chi2corr/n ) / ( min ( kcorr-1 , rcorr-1 ) )  )\n",
      "C:\\Users\\oscar\\AppData\\Local\\Temp\\ipykernel_5096\\3203194230.py:112: RuntimeWarning: invalid value encountered in sqrt\n",
      "  v = np.sqrt( ( chi2corr/n ) / ( min ( kcorr-1 , rcorr-1 ) )  )\n",
      "C:\\Users\\oscar\\AppData\\Local\\Temp\\ipykernel_5096\\3203194230.py:112: RuntimeWarning: invalid value encountered in sqrt\n",
      "  v = np.sqrt( ( chi2corr/n ) / ( min ( kcorr-1 , rcorr-1 ) )  )\n",
      "C:\\Users\\oscar\\AppData\\Local\\Temp\\ipykernel_5096\\3203194230.py:112: RuntimeWarning: invalid value encountered in sqrt\n",
      "  v = np.sqrt( ( chi2corr/n ) / ( min ( kcorr-1 , rcorr-1 ) )  )\n",
      "C:\\Users\\oscar\\AppData\\Local\\Temp\\ipykernel_5096\\3203194230.py:112: RuntimeWarning: invalid value encountered in sqrt\n",
      "  v = np.sqrt( ( chi2corr/n ) / ( min ( kcorr-1 , rcorr-1 ) )  )\n",
      "C:\\Users\\oscar\\AppData\\Local\\Temp\\ipykernel_5096\\3203194230.py:112: RuntimeWarning: invalid value encountered in sqrt\n",
      "  v = np.sqrt( ( chi2corr/n ) / ( min ( kcorr-1 , rcorr-1 ) )  )\n",
      "C:\\Users\\oscar\\AppData\\Local\\Temp\\ipykernel_5096\\3203194230.py:112: RuntimeWarning: invalid value encountered in sqrt\n",
      "  v = np.sqrt( ( chi2corr/n ) / ( min ( kcorr-1 , rcorr-1 ) )  )\n",
      "C:\\Users\\oscar\\AppData\\Local\\Temp\\ipykernel_5096\\3203194230.py:112: RuntimeWarning: invalid value encountered in sqrt\n",
      "  v = np.sqrt( ( chi2corr/n ) / ( min ( kcorr-1 , rcorr-1 ) )  )\n",
      "C:\\Users\\oscar\\AppData\\Local\\Temp\\ipykernel_5096\\3203194230.py:112: RuntimeWarning: invalid value encountered in sqrt\n",
      "  v = np.sqrt( ( chi2corr/n ) / ( min ( kcorr-1 , rcorr-1 ) )  )\n",
      "C:\\Users\\oscar\\AppData\\Local\\Temp\\ipykernel_5096\\3203194230.py:112: RuntimeWarning: invalid value encountered in sqrt\n",
      "  v = np.sqrt( ( chi2corr/n ) / ( min ( kcorr-1 , rcorr-1 ) )  )\n",
      "C:\\Users\\oscar\\AppData\\Local\\Temp\\ipykernel_5096\\3203194230.py:112: RuntimeWarning: invalid value encountered in sqrt\n",
      "  v = np.sqrt( ( chi2corr/n ) / ( min ( kcorr-1 , rcorr-1 ) )  )\n",
      "C:\\Users\\oscar\\AppData\\Local\\Temp\\ipykernel_5096\\3203194230.py:112: RuntimeWarning: invalid value encountered in sqrt\n",
      "  v = np.sqrt( ( chi2corr/n ) / ( min ( kcorr-1 , rcorr-1 ) )  )\n"
     ]
    }
   ],
   "source": [
    "a = df4.select_dtypes( include = ['object'] ) # pego o df mais atualizado\n",
    "\n",
    "# aplico a função cramer v nas variáveis categoricas\n",
    "a1 = cramer_v( a['floor'] , a['floor'] )\n",
    "a2 = cramer_v( a['floor'], a['property_type'] )\n",
    "a3 = cramer_v( a['floor'], a['address'] )\n",
    "a4 = cramer_v( a['floor'], a['province'] )\n",
    "a5 = cramer_v( a['floor'], a['municipality'] )\n",
    "a6 = cramer_v( a['floor'], a['district'] )\n",
    "a7 = cramer_v( a['floor'], a['description'] )\n",
    "a8 = cramer_v( a['floor'], a['status'] )\n",
    "a9 = cramer_v( a['floor'], a['detailed_type'] )\n",
    "a10 = cramer_v( a['floor'], a['suggested_texts'] )\n",
    "a11 = cramer_v( a['floor'], a['parking_space'] )\n",
    "\n",
    "# aplico a função cramer v nas variáveis categoricas\n",
    "a12= cramer_v( a['property_type'], a['floor'] )\n",
    "a13= cramer_v( a['property_type'], a['property_type'] )\n",
    "a14= cramer_v( a['property_type'], a['address'] )\n",
    "a15= cramer_v( a['property_type'], a['province'] )\n",
    "a16= cramer_v( a['property_type'], a['municipality'] )\n",
    "a17= cramer_v( a['property_type'], a['district'] )\n",
    "a18= cramer_v( a['property_type'], a['description'] )\n",
    "a19= cramer_v( a['property_type'], a['status'] )\n",
    "a20= cramer_v( a['property_type'], a['detailed_type'] )\n",
    "a21=cramer_v(  a['property_type'], a['suggested_texts'] )\n",
    "a22=cramer_v(  a['property_type'], a['parking_space'] )\n",
    "\n",
    "# aplico a função cramer v nas variáveis categoricas\n",
    "a23= cramer_v( a['address'], a['floor'] )\n",
    "a24= cramer_v( a['address'], a['property_type'] )\n",
    "a25= cramer_v( a['address'], a['address'] )\n",
    "a26= cramer_v( a['address'], a['province'] )\n",
    "a27= cramer_v( a['address'], a['municipality'] )\n",
    "a28= cramer_v( a['address'], a['district'] )\n",
    "a29= cramer_v( a['address'], a['description'] )\n",
    "a30= cramer_v( a['address'], a['status'] )\n",
    "a31= cramer_v( a['address'], a['detailed_type'] )\n",
    "a32=cramer_v(  a['address'], a['suggested_texts'] )\n",
    "a33=cramer_v(  a['address'], a['parking_space'] )\n",
    "\n",
    "# aplico a função cramer v nas variáveis categoricas\n",
    "a34= cramer_v( a['province'], a['floor'] )\n",
    "a35= cramer_v( a['province'], a['property_type'] )\n",
    "a36= cramer_v( a['province'], a['address'] )\n",
    "a37= cramer_v( a['province'], a['province'] )\n",
    "a38= cramer_v( a['province'], a['municipality'] )\n",
    "a39= cramer_v( a['province'], a['district'] )\n",
    "a40= cramer_v( a['province'], a['description'] )\n",
    "a41= cramer_v( a['province'], a['status'] )\n",
    "a42= cramer_v( a['province'], a['detailed_type'] )\n",
    "a43=cramer_v(  a['province'], a['suggested_texts'] )\n",
    "a44=cramer_v(  a['province'], a['parking_space'] )\n",
    "\n",
    "# aplico a função cramer v nas variáveis categoricas\n",
    "a45= cramer_v( a['municipality'], a['floor'] )\n",
    "a46= cramer_v( a['municipality'], a['property_type'] )\n",
    "a47= cramer_v( a['municipality'], a['address'] )\n",
    "a48= cramer_v( a['municipality'], a['province'] )\n",
    "a49= cramer_v( a['municipality'], a['municipality'] )\n",
    "a50= cramer_v( a['municipality'], a['district'] )\n",
    "a51= cramer_v( a['municipality'], a['description'] )\n",
    "a52= cramer_v( a['municipality'], a['status'] )\n",
    "a53= cramer_v( a['municipality'], a['detailed_type'] )\n",
    "a54=cramer_v(  a['municipality'], a['suggested_texts'] )\n",
    "a55=cramer_v(  a['municipality'], a['parking_space'] )\n",
    "\n",
    "# aplico a função cramer v nas variáveis categoricas\n",
    "a56= cramer_v( a['district'], a['floor'] )\n",
    "a57= cramer_v( a['district'], a['property_type'] )\n",
    "a58= cramer_v( a['district'], a['address'] )\n",
    "a59= cramer_v( a['district'], a['province'] )\n",
    "a60= cramer_v( a['district'], a['municipality'] )\n",
    "a61= cramer_v( a['district'], a['district'] )\n",
    "a62= cramer_v( a['district'], a['description'] )\n",
    "a63= cramer_v( a['district'], a['status'] )\n",
    "a64= cramer_v( a['district'], a['detailed_type'] )\n",
    "a65=cramer_v(  a['district'], a['suggested_texts'] )\n",
    "a66=cramer_v(  a['district'], a['parking_space'] )\n",
    "\n",
    "# aplico a função cramer v nas variáveis categoricas\n",
    "a67= cramer_v( a['description'], a['floor'] )\n",
    "a68= cramer_v( a['description'], a['property_type'] )\n",
    "a69= cramer_v( a['description'], a['address'] )\n",
    "a70= cramer_v( a['description'], a['province'] )\n",
    "a71= cramer_v( a['description'], a['municipality'] )\n",
    "a72= cramer_v( a['description'], a['district'] )\n",
    "a73= cramer_v( a['description'], a['description'] )\n",
    "a74= cramer_v( a['description'], a['status'] )\n",
    "a75= cramer_v( a['description'], a['detailed_type'] )\n",
    "a76=cramer_v(  a['description'], a['suggested_texts'] )\n",
    "a77=cramer_v(  a['description'], a['parking_space'] )\n",
    "\n",
    "# aplico a função cramer v nas variáveis categoricas\n",
    "a78= cramer_v( a['status'], a['floor'] )\n",
    "a79= cramer_v( a['status'], a['property_type'] )\n",
    "a80= cramer_v( a['status'], a['address'] )\n",
    "a81= cramer_v( a['status'], a['province'] )\n",
    "a82= cramer_v( a['status'], a['municipality'] )\n",
    "a83= cramer_v( a['status'], a['district'] )\n",
    "a84= cramer_v( a['status'], a['description'] )\n",
    "a85= cramer_v( a['status'], a['status'] )\n",
    "a86= cramer_v( a['status'], a['detailed_type'] )\n",
    "a87=cramer_v(  a['status'], a['suggested_texts'] )\n",
    "a88=cramer_v(  a['status'], a['parking_space'] )\n",
    "\n",
    "# aplico a função cramer v nas variáveis categoricas\n",
    "a89= cramer_v( a['detailed_type'], a['floor'] )\n",
    "a90= cramer_v( a['detailed_type'], a['property_type'] )\n",
    "a91= cramer_v( a['detailed_type'], a['address'] )\n",
    "a92= cramer_v( a['detailed_type'], a['province'] )\n",
    "a93= cramer_v( a['detailed_type'], a['municipality'] )\n",
    "a94= cramer_v( a['detailed_type'], a['district'] )\n",
    "a95= cramer_v( a['detailed_type'], a['description'] )\n",
    "a96= cramer_v( a['detailed_type'], a['status'] )\n",
    "a97= cramer_v( a['detailed_type'], a['detailed_type'] )\n",
    "a98=cramer_v(  a['detailed_type'], a['suggested_texts'] )\n",
    "a99=cramer_v(  a['detailed_type'], a['parking_space'] )\n",
    "\n",
    "# aplico a função cramer v nas variáveis categoricas\n",
    "a100= cramer_v( a['suggested_texts'], a['floor'] )\n",
    "a101= cramer_v( a['suggested_texts'], a['property_type'] )\n",
    "a102= cramer_v( a['suggested_texts'], a['address'] )\n",
    "a103= cramer_v( a['suggested_texts'], a['province'] )\n",
    "a104= cramer_v( a['suggested_texts'], a['municipality'] )\n",
    "a105= cramer_v( a['suggested_texts'], a['district'] )\n",
    "a106= cramer_v( a['suggested_texts'], a['description'] )\n",
    "a107= cramer_v( a['suggested_texts'], a['status'] )\n",
    "a108= cramer_v( a['suggested_texts'], a['detailed_type'] )\n",
    "a109=cramer_v(  a['suggested_texts'], a['suggested_texts'] )\n",
    "a110=cramer_v(  a['suggested_texts'], a['parking_space'] )\n",
    "\n",
    "# aplico a função cramer v nas variáveis categoricas\n",
    "a111= cramer_v( a['parking_space'], a['floor'] )\n",
    "a112= cramer_v( a['parking_space'], a['property_type'] )\n",
    "a113= cramer_v( a['parking_space'], a['address'] )\n",
    "a114= cramer_v( a['parking_space'], a['province'] )\n",
    "a115= cramer_v( a['parking_space'], a['municipality'] )\n",
    "a116= cramer_v( a['parking_space'], a['district'] )\n",
    "a117= cramer_v( a['parking_space'], a['description'] )\n",
    "a118= cramer_v( a['parking_space'], a['status'] )\n",
    "a119= cramer_v( a['parking_space'], a['detailed_type'] )\n",
    "a120=cramer_v(  a['parking_space'], a['suggested_texts'] )\n",
    "a121=cramer_v(  a['parking_space'], a['parking_space'] )\n",
    "\n",
    "\n",
    "\n",
    "d = pd.DataFrame( {'floor' : [a1,a2,a3,a4,a5,a6,a7,a8,a9,a10,a11],\n",
    "                   'property_type' : [a12,a13,a14,a15,a16,a17,a18,a19,a20,a21,a22],\n",
    "                   'address' : [a23,a24,a25,a26,a27,a28,a29,a30,a31,a32,a33],\n",
    "                   'province' : [a34,a35,a36,a37,a38,a39,a40,a41,a42,a43,a44],\n",
    "                   'municipality' : [a45,a46,a47,a48,a49,a50,a51,a52,a53,a54,a55],\n",
    "                   'district' : [a56,a57,a58,a59,a60,a61,a62,a63,a64,a65,a66],\n",
    "                   'description' : [a67,a68,a69,a70,a71,a72,a73,a74,a75,a76,a77],\n",
    "                   'status' : [a78,a79,a80,a81,a82,a83,a84,a85,a86,a87,a88],\n",
    "                   'detailed_type' : [a89,a90,a91,a92,a93,a94,a95,a96,a97,a98,a99],\n",
    "                   'suggested_texts' : [a100,a101,a102,a103,a104,a105,a106,a107,a108,a109,a110],\n",
    "                   'parking_space' : [a111,a112,a113,a114,a115,a116,a117,a118,a119,a120,a121]\n",
    "              \n",
    "              } )\n",
    "\n",
    "d = d.set_index( d.columns )\n",
    "d = d.drop( 'province', axis = 1 )"
   ]
  },
  {
   "cell_type": "code",
   "execution_count": 609,
   "id": "c5b66228",
   "metadata": {
    "ExecuteTime": {
     "end_time": "2024-02-12T19:21:13.141442Z",
     "start_time": "2024-02-12T19:21:12.581819Z"
    }
   },
   "outputs": [
    {
     "data": {
      "image/png": "[encoded data removed]",
      "text/plain": [
       "<Figure size 1000x500 with 2 Axes>"
      ]
     },
     "metadata": {},
     "output_type": "display_data"
    }
   ],
   "source": [
    "plt.figure(figsize=(10,5))\n",
    "correlation = d.corr( method = 'pearson' )\n",
    "sns.heatmap( correlation, annot = True );"
   ]
  },
  {
   "cell_type": "markdown",
   "id": "badb3cfe",
   "metadata": {},
   "source": [
    "# Data Preparation"
   ]
  },
  {
   "cell_type": "code",
   "execution_count": 778,
   "id": "4ac320b7",
   "metadata": {
    "ExecuteTime": {
     "end_time": "2024-02-12T20:15:35.768504Z",
     "start_time": "2024-02-12T20:15:35.762124Z"
    }
   },
   "outputs": [],
   "source": [
    "df5 = df4.copy()"
   ]
  },
  {
   "cell_type": "code",
   "execution_count": 780,
   "id": "cf004208",
   "metadata": {
    "ExecuteTime": {
     "end_time": "2024-02-12T20:15:47.605661Z",
     "start_time": "2024-02-12T20:15:47.570189Z"
    }
   },
   "outputs": [
    {
     "data": {
      "text/html": [
       "<div>\n",
       "<style scoped>\n",
       "    .dataframe tbody tr th:only-of-type {\n",
       "        vertical-align: middle;\n",
       "    }\n",
       "\n",
       "    .dataframe tbody tr th {\n",
       "        vertical-align: top;\n",
       "    }\n",
       "\n",
       "    .dataframe thead th {\n",
       "        text-align: right;\n",
       "    }\n",
       "</style>\n",
       "<table border=\"1\" class=\"dataframe\">\n",
       "  <thead>\n",
       "    <tr style=\"text-align: right;\">\n",
       "      <th></th>\n",
       "      <th>features</th>\n",
       "      <th>min</th>\n",
       "      <th>max</th>\n",
       "      <th>range</th>\n",
       "      <th>mean</th>\n",
       "      <th>median</th>\n",
       "      <th>std</th>\n",
       "      <th>skew</th>\n",
       "      <th>kurtosis</th>\n",
       "    </tr>\n",
       "  </thead>\n",
       "  <tbody>\n",
       "    <tr>\n",
       "      <th>0</th>\n",
       "      <td>num_photos</td>\n",
       "      <td>0.00</td>\n",
       "      <td>180.00</td>\n",
       "      <td>180.00</td>\n",
       "      <td>24.83</td>\n",
       "      <td>23.00</td>\n",
       "      <td>13.00</td>\n",
       "      <td>1.60</td>\n",
       "      <td>6.20</td>\n",
       "    </tr>\n",
       "    <tr>\n",
       "      <th>1</th>\n",
       "      <td>price</td>\n",
       "      <td>300.00</td>\n",
       "      <td>80,000.00</td>\n",
       "      <td>79,700.00</td>\n",
       "      <td>2,818.26</td>\n",
       "      <td>2,000.00</td>\n",
       "      <td>2,704.37</td>\n",
       "      <td>5.26</td>\n",
       "      <td>73.05</td>\n",
       "    </tr>\n",
       "    <tr>\n",
       "      <th>2</th>\n",
       "      <td>size</td>\n",
       "      <td>10.00</td>\n",
       "      <td>30,940.00</td>\n",
       "      <td>30,930.00</td>\n",
       "      <td>142.07</td>\n",
       "      <td>109.00</td>\n",
       "      <td>321.08</td>\n",
       "      <td>78.12</td>\n",
       "      <td>7,255.97</td>\n",
       "    </tr>\n",
       "    <tr>\n",
       "      <th>3</th>\n",
       "      <td>rooms</td>\n",
       "      <td>0.00</td>\n",
       "      <td>21.00</td>\n",
       "      <td>21.00</td>\n",
       "      <td>2.51</td>\n",
       "      <td>2.00</td>\n",
       "      <td>1.35</td>\n",
       "      <td>1.46</td>\n",
       "      <td>9.45</td>\n",
       "    </tr>\n",
       "    <tr>\n",
       "      <th>4</th>\n",
       "      <td>bathrooms</td>\n",
       "      <td>1.00</td>\n",
       "      <td>14.00</td>\n",
       "      <td>13.00</td>\n",
       "      <td>2.03</td>\n",
       "      <td>2.00</td>\n",
       "      <td>1.20</td>\n",
       "      <td>1.83</td>\n",
       "      <td>5.84</td>\n",
       "    </tr>\n",
       "    <tr>\n",
       "      <th>5</th>\n",
       "      <td>latitude</td>\n",
       "      <td>38.44</td>\n",
       "      <td>39.16</td>\n",
       "      <td>0.73</td>\n",
       "      <td>38.73</td>\n",
       "      <td>38.72</td>\n",
       "      <td>0.07</td>\n",
       "      <td>0.99</td>\n",
       "      <td>8.10</td>\n",
       "    </tr>\n",
       "    <tr>\n",
       "      <th>6</th>\n",
       "      <td>longitude</td>\n",
       "      <td>-9.49</td>\n",
       "      <td>-8.60</td>\n",
       "      <td>0.89</td>\n",
       "      <td>-9.21</td>\n",
       "      <td>-9.17</td>\n",
       "      <td>0.13</td>\n",
       "      <td>-0.13</td>\n",
       "      <td>0.03</td>\n",
       "    </tr>\n",
       "    <tr>\n",
       "      <th>7</th>\n",
       "      <td>distance</td>\n",
       "      <td>61.00</td>\n",
       "      <td>49,855.00</td>\n",
       "      <td>49,794.00</td>\n",
       "      <td>11,171.76</td>\n",
       "      <td>6,756.50</td>\n",
       "      <td>10,293.09</td>\n",
       "      <td>0.82</td>\n",
       "      <td>-0.36</td>\n",
       "    </tr>\n",
       "    <tr>\n",
       "      <th>8</th>\n",
       "      <td>has_lift</td>\n",
       "      <td>0.00</td>\n",
       "      <td>1.00</td>\n",
       "      <td>1.00</td>\n",
       "      <td>0.45</td>\n",
       "      <td>0.00</td>\n",
       "      <td>0.50</td>\n",
       "      <td>0.19</td>\n",
       "      <td>-1.96</td>\n",
       "    </tr>\n",
       "    <tr>\n",
       "      <th>9</th>\n",
       "      <td>pagina</td>\n",
       "      <td>1.00</td>\n",
       "      <td>92.00</td>\n",
       "      <td>91.00</td>\n",
       "      <td>29.18</td>\n",
       "      <td>25.00</td>\n",
       "      <td>21.67</td>\n",
       "      <td>0.97</td>\n",
       "      <td>0.41</td>\n",
       "    </tr>\n",
       "    <tr>\n",
       "      <th>10</th>\n",
       "      <td>month</td>\n",
       "      <td>1.00</td>\n",
       "      <td>9.00</td>\n",
       "      <td>8.00</td>\n",
       "      <td>4.07</td>\n",
       "      <td>3.00</td>\n",
       "      <td>2.97</td>\n",
       "      <td>0.34</td>\n",
       "      <td>-1.41</td>\n",
       "    </tr>\n",
       "    <tr>\n",
       "      <th>11</th>\n",
       "      <td>year</td>\n",
       "      <td>2,023.00</td>\n",
       "      <td>2,024.00</td>\n",
       "      <td>1.00</td>\n",
       "      <td>2,023.30</td>\n",
       "      <td>2,023.00</td>\n",
       "      <td>0.46</td>\n",
       "      <td>0.85</td>\n",
       "      <td>-1.27</td>\n",
       "    </tr>\n",
       "  </tbody>\n",
       "</table>\n",
       "</div>"
      ],
      "text/plain": [
       "      features      min       max     range      mean   median       std  \\\n",
       "0   num_photos     0.00    180.00    180.00     24.83    23.00     13.00   \n",
       "1        price   300.00 80,000.00 79,700.00  2,818.26 2,000.00  2,704.37   \n",
       "2         size    10.00 30,940.00 30,930.00    142.07   109.00    321.08   \n",
       "3        rooms     0.00     21.00     21.00      2.51     2.00      1.35   \n",
       "4    bathrooms     1.00     14.00     13.00      2.03     2.00      1.20   \n",
       "5     latitude    38.44     39.16      0.73     38.73    38.72      0.07   \n",
       "6    longitude    -9.49     -8.60      0.89     -9.21    -9.17      0.13   \n",
       "7     distance    61.00 49,855.00 49,794.00 11,171.76 6,756.50 10,293.09   \n",
       "8     has_lift     0.00      1.00      1.00      0.45     0.00      0.50   \n",
       "9       pagina     1.00     92.00     91.00     29.18    25.00     21.67   \n",
       "10       month     1.00      9.00      8.00      4.07     3.00      2.97   \n",
       "11        year 2,023.00  2,024.00      1.00  2,023.30 2,023.00      0.46   \n",
       "\n",
       "    skew  kurtosis  \n",
       "0   1.60      6.20  \n",
       "1   5.26     73.05  \n",
       "2  78.12  7,255.97  \n",
       "3   1.46      9.45  \n",
       "4   1.83      5.84  \n",
       "5   0.99      8.10  \n",
       "6  -0.13      0.03  \n",
       "7   0.82     -0.36  \n",
       "8   0.19     -1.96  \n",
       "9   0.97      0.41  \n",
       "10  0.34     -1.41  \n",
       "11  0.85     -1.27  "
      ]
     },
     "execution_count": 780,
     "metadata": {},
     "output_type": "execute_result"
    }
   ],
   "source": [
    "stats( df5 )"
   ]
  },
  {
   "cell_type": "code",
   "execution_count": 781,
   "id": "90c4bf76",
   "metadata": {
    "ExecuteTime": {
     "end_time": "2024-02-12T20:15:50.686300Z",
     "start_time": "2024-02-12T20:15:49.809403Z"
    }
   },
   "outputs": [
    {
     "data": {
      "text/plain": [
       "<seaborn.axisgrid.FacetGrid at 0x1606f876810>"
      ]
     },
     "execution_count": 781,
     "metadata": {},
     "output_type": "execute_result"
    },
    {
     "data": {
      "image/png": "[encoded data removed]",
      "text/plain": [
       "<Figure size 500x500 with 1 Axes>"
      ]
     },
     "metadata": {},
     "output_type": "display_data"
    }
   ],
   "source": [
    "sns.displot( df5['price'] )"
   ]
  },
  {
   "cell_type": "markdown",
   "id": "8afacc0f",
   "metadata": {},
   "source": [
    "## 5.1. - Rescaling"
   ]
  },
  {
   "cell_type": "markdown",
   "id": "0675fb77",
   "metadata": {},
   "source": [
    "## 5.1.2 Check Distribution"
   ]
  },
  {
   "cell_type": "code",
   "execution_count": 782,
   "id": "006c0c12",
   "metadata": {
    "ExecuteTime": {
     "end_time": "2024-02-12T20:15:55.956893Z",
     "start_time": "2024-02-12T20:15:55.489690Z"
    }
   },
   "outputs": [
    {
     "name": "stderr",
     "output_type": "stream",
     "text": [
      "C:\\Users\\oscar\\AppData\\Local\\Temp\\ipykernel_5096\\854922489.py:8: UserWarning: \n",
      "\n",
      "`distplot` is a deprecated function and will be removed in seaborn v0.14.0.\n",
      "\n",
      "Please adapt your code to use either `displot` (a figure-level function with\n",
      "similar flexibility) or `histplot` (an axes-level function for histograms).\n",
      "\n",
      "For a guide to updating your code to use the new functions, please see\n",
      "https://gist.github.com/mwaskom/de44147ed2974457ad6372750bbe5751\n",
      "\n",
      "  sns.distplot( var_cat['num_photos']  )\n"
     ]
    },
    {
     "data": {
      "text/plain": [
       "Text(0.5, 1.0, 'num_photos')"
      ]
     },
     "execution_count": 782,
     "metadata": {},
     "output_type": "execute_result"
    },
    {
     "data": {
      "image/png": "[encoded data removed]",
      "text/plain": [
       "<Figure size 640x480 with 2 Axes>"
      ]
     },
     "metadata": {},
     "output_type": "display_data"
    }
   ],
   "source": [
    "plt.subplot(1, 2, 1)\n",
    "# num_photos\n",
    "sns.boxplot( var_cat['num_photos'] )\n",
    "plt.title( 'num_photos' )\n",
    "\n",
    "plt.subplot(1, 2, 2)\n",
    "# num_photos\n",
    "sns.distplot( var_cat['num_photos']  )\n",
    "plt.title( 'num_photos' )"
   ]
  },
  {
   "cell_type": "code",
   "execution_count": 783,
   "id": "4d34e14b",
   "metadata": {
    "ExecuteTime": {
     "end_time": "2024-02-12T20:15:58.664717Z",
     "start_time": "2024-02-12T20:15:58.265209Z"
    }
   },
   "outputs": [
    {
     "name": "stderr",
     "output_type": "stream",
     "text": [
      "C:\\Users\\oscar\\AppData\\Local\\Temp\\ipykernel_5096\\1200693044.py:8: UserWarning: \n",
      "\n",
      "`distplot` is a deprecated function and will be removed in seaborn v0.14.0.\n",
      "\n",
      "Please adapt your code to use either `displot` (a figure-level function with\n",
      "similar flexibility) or `histplot` (an axes-level function for histograms).\n",
      "\n",
      "For a guide to updating your code to use the new functions, please see\n",
      "https://gist.github.com/mwaskom/de44147ed2974457ad6372750bbe5751\n",
      "\n",
      "  sns.distplot( var_cat['size']  )\n"
     ]
    },
    {
     "data": {
      "text/plain": [
       "Text(0.5, 1.0, 'size')"
      ]
     },
     "execution_count": 783,
     "metadata": {},
     "output_type": "execute_result"
    },
    {
     "data": {
      "image/png": "[encoded data removed]",
      "text/plain": [
       "<Figure size 640x480 with 2 Axes>"
      ]
     },
     "metadata": {},
     "output_type": "display_data"
    }
   ],
   "source": [
    "plt.subplot(1, 2, 1)\n",
    "# size\n",
    "sns.boxplot( var_cat['size'] )\n",
    "plt.title( 'size' )\n",
    "\n",
    "plt.subplot(1, 2, 2)\n",
    "# size\n",
    "sns.distplot( var_cat['size']  )\n",
    "plt.title( 'size' )"
   ]
  },
  {
   "cell_type": "code",
   "execution_count": 784,
   "id": "eec6820f",
   "metadata": {
    "ExecuteTime": {
     "end_time": "2024-02-12T20:16:00.921887Z",
     "start_time": "2024-02-12T20:16:00.474043Z"
    }
   },
   "outputs": [
    {
     "name": "stderr",
     "output_type": "stream",
     "text": [
      "C:\\Users\\oscar\\AppData\\Local\\Temp\\ipykernel_5096\\3582944130.py:8: UserWarning: \n",
      "\n",
      "`distplot` is a deprecated function and will be removed in seaborn v0.14.0.\n",
      "\n",
      "Please adapt your code to use either `displot` (a figure-level function with\n",
      "similar flexibility) or `histplot` (an axes-level function for histograms).\n",
      "\n",
      "For a guide to updating your code to use the new functions, please see\n",
      "https://gist.github.com/mwaskom/de44147ed2974457ad6372750bbe5751\n",
      "\n",
      "  sns.distplot( var_cat['rooms']  )\n"
     ]
    },
    {
     "data": {
      "text/plain": [
       "Text(0.5, 1.0, 'rooms')"
      ]
     },
     "execution_count": 784,
     "metadata": {},
     "output_type": "execute_result"
    },
    {
     "data": {
      "image/png": "[encoded data removed]",
      "text/plain": [
       "<Figure size 640x480 with 2 Axes>"
      ]
     },
     "metadata": {},
     "output_type": "display_data"
    }
   ],
   "source": [
    "plt.subplot(1, 2, 1)\n",
    "# rooms\n",
    "sns.boxplot( var_cat['rooms'] )\n",
    "plt.title( 'rooms' )\n",
    "\n",
    "plt.subplot(1, 2, 2)\n",
    "# rooms\n",
    "sns.distplot( var_cat['rooms']  )\n",
    "plt.title( 'rooms' )\n"
   ]
  },
  {
   "cell_type": "code",
   "execution_count": 739,
   "id": "829d1d27",
   "metadata": {
    "ExecuteTime": {
     "end_time": "2024-02-12T20:05:22.010153Z",
     "start_time": "2024-02-12T20:05:21.523499Z"
    }
   },
   "outputs": [
    {
     "name": "stderr",
     "output_type": "stream",
     "text": [
      "C:\\Users\\oscar\\AppData\\Local\\Temp\\ipykernel_5096\\1093037923.py:8: UserWarning: \n",
      "\n",
      "`distplot` is a deprecated function and will be removed in seaborn v0.14.0.\n",
      "\n",
      "Please adapt your code to use either `displot` (a figure-level function with\n",
      "similar flexibility) or `histplot` (an axes-level function for histograms).\n",
      "\n",
      "For a guide to updating your code to use the new functions, please see\n",
      "https://gist.github.com/mwaskom/de44147ed2974457ad6372750bbe5751\n",
      "\n",
      "  sns.distplot( var_cat['bathrooms']  )\n"
     ]
    },
    {
     "data": {
      "text/plain": [
       "Text(0.5, 1.0, 'bathrooms')"
      ]
     },
     "execution_count": 739,
     "metadata": {},
     "output_type": "execute_result"
    },
    {
     "data": {
      "image/png": "[encoded data removed]",
      "text/plain": [
       "<Figure size 640x480 with 2 Axes>"
      ]
     },
     "metadata": {},
     "output_type": "display_data"
    }
   ],
   "source": [
    "plt.subplot(1, 2, 1)\n",
    "# bathrooms\n",
    "sns.boxplot( var_cat['bathrooms'] )\n",
    "plt.title( 'bathrooms' )\n",
    "\n",
    "plt.subplot(1, 2, 2)\n",
    "# rooms\n",
    "sns.distplot( var_cat['bathrooms']  )\n",
    "plt.title( 'bathrooms' )"
   ]
  },
  {
   "cell_type": "code",
   "execution_count": 785,
   "id": "616f6aa5",
   "metadata": {
    "ExecuteTime": {
     "end_time": "2024-02-12T20:16:04.466486Z",
     "start_time": "2024-02-12T20:16:03.978460Z"
    }
   },
   "outputs": [
    {
     "name": "stderr",
     "output_type": "stream",
     "text": [
      "C:\\Users\\oscar\\AppData\\Local\\Temp\\ipykernel_5096\\3543831908.py:8: UserWarning: \n",
      "\n",
      "`distplot` is a deprecated function and will be removed in seaborn v0.14.0.\n",
      "\n",
      "Please adapt your code to use either `displot` (a figure-level function with\n",
      "similar flexibility) or `histplot` (an axes-level function for histograms).\n",
      "\n",
      "For a guide to updating your code to use the new functions, please see\n",
      "https://gist.github.com/mwaskom/de44147ed2974457ad6372750bbe5751\n",
      "\n",
      "  sns.distplot( var_cat['distance']  )\n"
     ]
    },
    {
     "data": {
      "text/plain": [
       "Text(0.5, 1.0, 'distance')"
      ]
     },
     "execution_count": 785,
     "metadata": {},
     "output_type": "execute_result"
    },
    {
     "data": {
      "image/png": "[encoded data removed]",
      "text/plain": [
       "<Figure size 640x480 with 2 Axes>"
      ]
     },
     "metadata": {},
     "output_type": "display_data"
    }
   ],
   "source": [
    "plt.subplot(1, 2, 1)\n",
    "# distance\n",
    "sns.boxplot( var_cat['distance'] )\n",
    "plt.title( 'distance' )\n",
    "\n",
    "plt.subplot(1, 2, 2)\n",
    "# rooms\n",
    "sns.distplot( var_cat['distance']  )\n",
    "plt.title( 'distance' )"
   ]
  },
  {
   "cell_type": "code",
   "execution_count": 786,
   "id": "55ea51fe",
   "metadata": {
    "ExecuteTime": {
     "end_time": "2024-02-12T20:16:06.312081Z",
     "start_time": "2024-02-12T20:16:06.306347Z"
    }
   },
   "outputs": [],
   "source": [
    "def rescaling_data(df, rescale = False ):\n",
    "    \n",
    "    if rescale:\n",
    "        rs = RobustScaler() # robusto com outliers\n",
    "        mms = pp.MinMaxScaler() # desvio padrão pequeno e quando não ha distribuição gaussiana\n",
    "        \n",
    "#         # num_photos\n",
    "#         rs_num_photos = RobustScaler() \n",
    "#         # num_photos\n",
    "#         df['num_photos'] = rs_num_photos.fit_transform( df[['num_photos']].values )\n",
    "\n",
    "        # floor\n",
    "#         rs_floor = RobustScaler() \n",
    "#         # num_photos\n",
    "#         df['floor'] = rs_floor.fit_transform( df[['floor']].values )\n",
    "        \n",
    "        # size\n",
    "        rs_size = RobustScaler() \n",
    "        # size\n",
    "        df['size'] = rs_size.fit_transform( df[['size']].values )\n",
    "        \n",
    "        # rooms\n",
    "#         mms_rooms = pp.MinMaxScaler() \n",
    "#         # rooms\n",
    "#         df['rooms'] = mms_rooms.fit_transform( df[['rooms']].values )\n",
    "        \n",
    "        # bathrooms\n",
    "#         rs_bathrooms = RobustScaler() \n",
    "#         # bathrooms\n",
    "#         df['bathrooms'] = rs_bathrooms.fit_transform( df[['bathrooms']].values )\n",
    "        \n",
    "        # distance\n",
    "        rs_distance = RobustScaler()\n",
    "        # distance\n",
    "        df['distance'] = rs_distance.fit_transform( df[['distance']].values )\n",
    "        \n",
    "        \n",
    "        \n",
    "        print('Rescaled')\n",
    "        \n",
    "        return  df\n",
    "    else:\n",
    "        print('Not rescaled')\n",
    "        \n",
    "        return df"
   ]
  },
  {
   "cell_type": "code",
   "execution_count": 787,
   "id": "57334681",
   "metadata": {
    "ExecuteTime": {
     "end_time": "2024-02-12T20:16:08.276278Z",
     "start_time": "2024-02-12T20:16:08.266011Z"
    }
   },
   "outputs": [
    {
     "name": "stdout",
     "output_type": "stream",
     "text": [
      "Rescaled\n"
     ]
    }
   ],
   "source": [
    "df5 = rescaling_data( df5, rescale = True  )"
   ]
  },
  {
   "cell_type": "markdown",
   "id": "46839dcc",
   "metadata": {},
   "source": [
    "## 5.2 Encoding "
   ]
  },
  {
   "cell_type": "code",
   "execution_count": 788,
   "id": "9f6a5cce",
   "metadata": {
    "ExecuteTime": {
     "end_time": "2024-02-12T20:16:11.594313Z",
     "start_time": "2024-02-12T20:16:11.577652Z"
    }
   },
   "outputs": [],
   "source": [
    "def encoding( df ):\n",
    "    \n",
    "    # floor - substituo os andares com letras\n",
    "    df['floor'] = df['floor'].replace( ['bj','st','ss','en'], 0 )\n",
    "    # transformo em inteiros\n",
    "    df['floor'] = df['floor'].astype( 'int64' )\n",
    "\n",
    "    #property_type - label\n",
    "    te_property_type = df.groupby( 'property_type' )['price'].mean()\n",
    "    df['property_type'] = df['property_type'].map( te_property_type ).astype( 'float64' )\n",
    "    pickle.dump(te_property_type,open(r'C:\\Users\\oscar\\Documents\\repos\\api_houses_Lisbon\\encodings\\te_property_type.pkl', 'wb' ) )\n",
    "    \n",
    "    # address - label\n",
    "    freq_encoding_address = df['address'].value_counts(normalize=True)\n",
    "    df['address'] = df['address'].map( freq_encoding_address )\n",
    "    pickle.dump( freq_encoding_address, open(r'C:\\Users\\oscar\\Documents\\repos\\api_houses_Lisbon\\encodings\\freq_encoding_address.pkl', 'wb') )\n",
    "                \n",
    "    # province \n",
    "    te_province = df.groupby( 'province' )['price'].mean()\n",
    "    df['province'] = df['province'].map( te_province ).astype( 'float64' )\n",
    "    pickle.dump( te_province, open( r'C:\\Users\\oscar\\Documents\\repos\\api_houses_Lisbon\\encodings\\te_province.pkl', 'wb' ) )\n",
    "                \n",
    "    # municipality - label\n",
    "    te_municipality = df.groupby( 'municipality' )['price'].mean()\n",
    "    df['municipality'] = df['municipality'].map( te_municipality ).astype( 'float64' )\n",
    "    pickle.dump( te_municipality, open( r'C:\\Users\\oscar\\Documents\\repos\\api_houses_Lisbon\\encodings\\te_municipality.pkl', 'wb' ) )            \n",
    "    \n",
    "    # municipality\n",
    "#     freq_encoding_municipality = df['municipality'].value_counts(normalize=True)\n",
    "#     df['municipality'] = df['municipality'].map( freq_encoding_municipality )\n",
    "    \n",
    "\n",
    "    # district - label\n",
    "    te_district = df.groupby( 'district' )['price'].mean()\n",
    "    df['district'] = df['district'].map( te_district ).astype( 'float64' )\n",
    "    pickle.dump( te_district, open( r'C:\\Users\\oscar\\Documents\\repos\\api_houses_Lisbon\\encodings\\te_district.pkl', 'wb' ) )  \n",
    "    # district\n",
    "#     freq_encoding_district = df['district'].value_counts(normalize=True)\n",
    "#     df['district'] = df['district'].map( freq_encoding_district )\n",
    "    \n",
    "    \n",
    "    # Show address\n",
    "    encoding = {True: 1 , False: 0}\n",
    "    df['show_address'] = df['show_address'].apply( lambda x : 1 if x == True else 0 )\n",
    "\n",
    "    # description\n",
    "    df['description'] = df['description'].apply( lambda x : len(x) )\n",
    "\n",
    "    # has_video\n",
    "    encoding = {True: 1 , False: 0}\n",
    "    df['has_video'] = df['has_video'].map( encoding )\n",
    "\n",
    "    # status\n",
    "    te_status = df.groupby( 'status' )['price'].mean()\n",
    "    df['status'] = df['status'].map( te_status ).astype( 'float64' )\n",
    "    pickle.dump( te_status, open( r'C:\\Users\\oscar\\Documents\\repos\\api_houses_Lisbon\\encodings\\te_status.pkl', 'wb' ) )  \n",
    "    \n",
    "    # label encoder status\n",
    "    #status_encoder = LabelEncoder()\n",
    "    #df['status'] = status_encoder.fit_transform( df['status'] )\n",
    "    \n",
    "    # new_development\n",
    "    encoding = {True: 1 , False: 0}\n",
    "    df['new_development'] = df['new_development'].map( encoding )\n",
    "\n",
    "    # detailed type - label\n",
    "    le_detailed_type = LabelEncoder()\n",
    "    \n",
    "    df['detailed_type'] = df['detailed_type'].apply(lambda x: ast.literal_eval(x) )\n",
    "    df['detailed_type'] = df['detailed_type'].apply(lambda x: x['typology'] )\n",
    "    df['detailed_type'] = detailed_type_encoder.fit_transform( df['detailed_type'] )\n",
    "    pickle.dump( le_detailed_type, open( r'C:\\Users\\oscar\\Documents\\repos\\api_houses_Lisbon\\encodings\\le_detailed_type.pkl', 'wb' ) ) \n",
    "\n",
    "    # suggested text\n",
    "    df['suggested_texts'] = df['suggested_texts'].apply( lambda x : ast.literal_eval(x) )\n",
    "    df['suggested_texts'] = df['suggested_texts'].apply( lambda x : x['title'] )\n",
    "    df['suggested_texts'] = df['suggested_texts'].apply( lambda x : len(x) )\n",
    "\n",
    "    # hasplan\n",
    "    encoding = {True: 1 , False: 0}\n",
    "    df['has_plan'] = df['has_plan'].map( encoding )\n",
    "\n",
    "    # has3_d_tour\n",
    "    encoding = {True: 1 , False: 0}\n",
    "    df['has3_d_tour'] = df['has3_d_tour'].map( encoding )\n",
    "\n",
    "    # has360\n",
    "    encoding = {True: 1 , False: 0}\n",
    "    df['has360'] = df['has360'].map( encoding )\n",
    "\n",
    "    # has_staging\n",
    "    df['has_staging'] = df['has_staging'].apply( lambda x: 1 if x   else 0   )\n",
    "\n",
    "    # top_new_development\n",
    "    df['top_new_development'] = df['top_new_development'].apply( lambda x: 1 if x  else 0 )\n",
    "    \n",
    "    #parking_space\n",
    "    encoding = {True: 1 , False: 0}\n",
    "    df['parking_space'] = df['parking_space'].apply(lambda x: ast.literal_eval(x) if x != 0 else x ) \n",
    "    df['parking_space'] = df['parking_space'].apply(lambda x: x['hasParkingSpace'] if x != 0 else x ) \n",
    "    df['parking_space'] = df['parking_space'].map( encoding )\n",
    "\n",
    "    \n",
    "    return df"
   ]
  },
  {
   "cell_type": "code",
   "execution_count": 789,
   "id": "81cddf51",
   "metadata": {
    "ExecuteTime": {
     "end_time": "2024-02-12T20:16:18.260577Z",
     "start_time": "2024-02-12T20:16:17.739001Z"
    }
   },
   "outputs": [
    {
     "data": {
      "text/html": [
       "<div>\n",
       "<style scoped>\n",
       "    .dataframe tbody tr th:only-of-type {\n",
       "        vertical-align: middle;\n",
       "    }\n",
       "\n",
       "    .dataframe tbody tr th {\n",
       "        vertical-align: top;\n",
       "    }\n",
       "\n",
       "    .dataframe thead th {\n",
       "        text-align: right;\n",
       "    }\n",
       "</style>\n",
       "<table border=\"1\" class=\"dataframe\">\n",
       "  <thead>\n",
       "    <tr style=\"text-align: right;\">\n",
       "      <th></th>\n",
       "      <th>thumbnail</th>\n",
       "      <th>num_photos</th>\n",
       "      <th>floor</th>\n",
       "      <th>price</th>\n",
       "      <th>property_type</th>\n",
       "      <th>size</th>\n",
       "      <th>rooms</th>\n",
       "      <th>bathrooms</th>\n",
       "      <th>address</th>\n",
       "      <th>province</th>\n",
       "      <th>...</th>\n",
       "      <th>suggested_texts</th>\n",
       "      <th>has_plan</th>\n",
       "      <th>has3_d_tour</th>\n",
       "      <th>has360</th>\n",
       "      <th>has_staging</th>\n",
       "      <th>top_new_development</th>\n",
       "      <th>parking_space</th>\n",
       "      <th>pagina</th>\n",
       "      <th>month</th>\n",
       "      <th>year</th>\n",
       "    </tr>\n",
       "  </thead>\n",
       "  <tbody>\n",
       "    <tr>\n",
       "      <th>0</th>\n",
       "      <td>1</td>\n",
       "      <td>9.00</td>\n",
       "      <td>6</td>\n",
       "      <td>900.00</td>\n",
       "      <td>2,320.74</td>\n",
       "      <td>-0.49</td>\n",
       "      <td>1.00</td>\n",
       "      <td>1.00</td>\n",
       "      <td>0.00</td>\n",
       "      <td>2,920.26</td>\n",
       "      <td>...</td>\n",
       "      <td>11</td>\n",
       "      <td>0</td>\n",
       "      <td>0</td>\n",
       "      <td>0</td>\n",
       "      <td>0</td>\n",
       "      <td>0</td>\n",
       "      <td>0</td>\n",
       "      <td>1.00</td>\n",
       "      <td>4</td>\n",
       "      <td>2023</td>\n",
       "    </tr>\n",
       "    <tr>\n",
       "      <th>1</th>\n",
       "      <td>1</td>\n",
       "      <td>26.00</td>\n",
       "      <td>2</td>\n",
       "      <td>750.00</td>\n",
       "      <td>2,320.74</td>\n",
       "      <td>-0.32</td>\n",
       "      <td>1.00</td>\n",
       "      <td>1.00</td>\n",
       "      <td>0.00</td>\n",
       "      <td>2,920.26</td>\n",
       "      <td>...</td>\n",
       "      <td>59</td>\n",
       "      <td>0</td>\n",
       "      <td>0</td>\n",
       "      <td>0</td>\n",
       "      <td>0</td>\n",
       "      <td>0</td>\n",
       "      <td>1</td>\n",
       "      <td>1.00</td>\n",
       "      <td>4</td>\n",
       "      <td>2023</td>\n",
       "    </tr>\n",
       "    <tr>\n",
       "      <th>2</th>\n",
       "      <td>1</td>\n",
       "      <td>32.00</td>\n",
       "      <td>0</td>\n",
       "      <td>1,500.00</td>\n",
       "      <td>2,320.74</td>\n",
       "      <td>-0.50</td>\n",
       "      <td>1.00</td>\n",
       "      <td>2.00</td>\n",
       "      <td>0.00</td>\n",
       "      <td>2,920.26</td>\n",
       "      <td>...</td>\n",
       "      <td>38</td>\n",
       "      <td>1</td>\n",
       "      <td>0</td>\n",
       "      <td>0</td>\n",
       "      <td>0</td>\n",
       "      <td>0</td>\n",
       "      <td>1</td>\n",
       "      <td>1.00</td>\n",
       "      <td>4</td>\n",
       "      <td>2023</td>\n",
       "    </tr>\n",
       "    <tr>\n",
       "      <th>3</th>\n",
       "      <td>1</td>\n",
       "      <td>24.00</td>\n",
       "      <td>0</td>\n",
       "      <td>950.00</td>\n",
       "      <td>2,320.74</td>\n",
       "      <td>-0.58</td>\n",
       "      <td>1.00</td>\n",
       "      <td>1.00</td>\n",
       "      <td>0.00</td>\n",
       "      <td>2,920.26</td>\n",
       "      <td>...</td>\n",
       "      <td>11</td>\n",
       "      <td>0</td>\n",
       "      <td>0</td>\n",
       "      <td>0</td>\n",
       "      <td>0</td>\n",
       "      <td>0</td>\n",
       "      <td>0</td>\n",
       "      <td>1.00</td>\n",
       "      <td>4</td>\n",
       "      <td>2023</td>\n",
       "    </tr>\n",
       "    <tr>\n",
       "      <th>5</th>\n",
       "      <td>1</td>\n",
       "      <td>10.00</td>\n",
       "      <td>0</td>\n",
       "      <td>1,850.00</td>\n",
       "      <td>2,320.74</td>\n",
       "      <td>0.24</td>\n",
       "      <td>2.00</td>\n",
       "      <td>2.00</td>\n",
       "      <td>0.00</td>\n",
       "      <td>2,920.26</td>\n",
       "      <td>...</td>\n",
       "      <td>41</td>\n",
       "      <td>0</td>\n",
       "      <td>0</td>\n",
       "      <td>0</td>\n",
       "      <td>0</td>\n",
       "      <td>0</td>\n",
       "      <td>1</td>\n",
       "      <td>1.00</td>\n",
       "      <td>4</td>\n",
       "      <td>2023</td>\n",
       "    </tr>\n",
       "    <tr>\n",
       "      <th>...</th>\n",
       "      <td>...</td>\n",
       "      <td>...</td>\n",
       "      <td>...</td>\n",
       "      <td>...</td>\n",
       "      <td>...</td>\n",
       "      <td>...</td>\n",
       "      <td>...</td>\n",
       "      <td>...</td>\n",
       "      <td>...</td>\n",
       "      <td>...</td>\n",
       "      <td>...</td>\n",
       "      <td>...</td>\n",
       "      <td>...</td>\n",
       "      <td>...</td>\n",
       "      <td>...</td>\n",
       "      <td>...</td>\n",
       "      <td>...</td>\n",
       "      <td>...</td>\n",
       "      <td>...</td>\n",
       "      <td>...</td>\n",
       "      <td>...</td>\n",
       "    </tr>\n",
       "    <tr>\n",
       "      <th>18411</th>\n",
       "      <td>1</td>\n",
       "      <td>7.00</td>\n",
       "      <td>0</td>\n",
       "      <td>1,000.00</td>\n",
       "      <td>5,721.55</td>\n",
       "      <td>-0.43</td>\n",
       "      <td>2.00</td>\n",
       "      <td>1.00</td>\n",
       "      <td>0.00</td>\n",
       "      <td>2,920.26</td>\n",
       "      <td>...</td>\n",
       "      <td>20</td>\n",
       "      <td>0</td>\n",
       "      <td>0</td>\n",
       "      <td>0</td>\n",
       "      <td>0</td>\n",
       "      <td>0</td>\n",
       "      <td>0</td>\n",
       "      <td>50.00</td>\n",
       "      <td>7</td>\n",
       "      <td>2023</td>\n",
       "    </tr>\n",
       "    <tr>\n",
       "      <th>18412</th>\n",
       "      <td>1</td>\n",
       "      <td>7.00</td>\n",
       "      <td>1</td>\n",
       "      <td>600.00</td>\n",
       "      <td>2,320.74</td>\n",
       "      <td>-0.49</td>\n",
       "      <td>2.00</td>\n",
       "      <td>1.00</td>\n",
       "      <td>0.00</td>\n",
       "      <td>2,920.26</td>\n",
       "      <td>...</td>\n",
       "      <td>11</td>\n",
       "      <td>0</td>\n",
       "      <td>0</td>\n",
       "      <td>0</td>\n",
       "      <td>0</td>\n",
       "      <td>0</td>\n",
       "      <td>0</td>\n",
       "      <td>50.00</td>\n",
       "      <td>7</td>\n",
       "      <td>2023</td>\n",
       "    </tr>\n",
       "    <tr>\n",
       "      <th>18413</th>\n",
       "      <td>0</td>\n",
       "      <td>0.00</td>\n",
       "      <td>0</td>\n",
       "      <td>8,500.00</td>\n",
       "      <td>5,721.55</td>\n",
       "      <td>1.18</td>\n",
       "      <td>4.00</td>\n",
       "      <td>4.00</td>\n",
       "      <td>0.02</td>\n",
       "      <td>2,920.26</td>\n",
       "      <td>...</td>\n",
       "      <td>20</td>\n",
       "      <td>0</td>\n",
       "      <td>0</td>\n",
       "      <td>0</td>\n",
       "      <td>0</td>\n",
       "      <td>0</td>\n",
       "      <td>0</td>\n",
       "      <td>50.00</td>\n",
       "      <td>7</td>\n",
       "      <td>2023</td>\n",
       "    </tr>\n",
       "    <tr>\n",
       "      <th>18414</th>\n",
       "      <td>0</td>\n",
       "      <td>0.00</td>\n",
       "      <td>0</td>\n",
       "      <td>2,300.00</td>\n",
       "      <td>2,320.74</td>\n",
       "      <td>0.59</td>\n",
       "      <td>4.00</td>\n",
       "      <td>1.00</td>\n",
       "      <td>0.01</td>\n",
       "      <td>2,920.26</td>\n",
       "      <td>...</td>\n",
       "      <td>11</td>\n",
       "      <td>0</td>\n",
       "      <td>0</td>\n",
       "      <td>0</td>\n",
       "      <td>0</td>\n",
       "      <td>0</td>\n",
       "      <td>0</td>\n",
       "      <td>50.00</td>\n",
       "      <td>7</td>\n",
       "      <td>2023</td>\n",
       "    </tr>\n",
       "    <tr>\n",
       "      <th>18415</th>\n",
       "      <td>0</td>\n",
       "      <td>0.00</td>\n",
       "      <td>0</td>\n",
       "      <td>10,000.00</td>\n",
       "      <td>5,721.55</td>\n",
       "      <td>1.29</td>\n",
       "      <td>6.00</td>\n",
       "      <td>4.00</td>\n",
       "      <td>0.00</td>\n",
       "      <td>2,920.26</td>\n",
       "      <td>...</td>\n",
       "      <td>20</td>\n",
       "      <td>0</td>\n",
       "      <td>0</td>\n",
       "      <td>0</td>\n",
       "      <td>0</td>\n",
       "      <td>0</td>\n",
       "      <td>0</td>\n",
       "      <td>50.00</td>\n",
       "      <td>7</td>\n",
       "      <td>2023</td>\n",
       "    </tr>\n",
       "  </tbody>\n",
       "</table>\n",
       "<p>11868 rows × 32 columns</p>\n",
       "</div>"
      ],
      "text/plain": [
       "       thumbnail  num_photos  floor     price  property_type  size  rooms  \\\n",
       "0              1        9.00      6    900.00       2,320.74 -0.49   1.00   \n",
       "1              1       26.00      2    750.00       2,320.74 -0.32   1.00   \n",
       "2              1       32.00      0  1,500.00       2,320.74 -0.50   1.00   \n",
       "3              1       24.00      0    950.00       2,320.74 -0.58   1.00   \n",
       "5              1       10.00      0  1,850.00       2,320.74  0.24   2.00   \n",
       "...          ...         ...    ...       ...            ...   ...    ...   \n",
       "18411          1        7.00      0  1,000.00       5,721.55 -0.43   2.00   \n",
       "18412          1        7.00      1    600.00       2,320.74 -0.49   2.00   \n",
       "18413          0        0.00      0  8,500.00       5,721.55  1.18   4.00   \n",
       "18414          0        0.00      0  2,300.00       2,320.74  0.59   4.00   \n",
       "18415          0        0.00      0 10,000.00       5,721.55  1.29   6.00   \n",
       "\n",
       "       bathrooms  address  province  ...  suggested_texts  has_plan  \\\n",
       "0           1.00     0.00  2,920.26  ...               11         0   \n",
       "1           1.00     0.00  2,920.26  ...               59         0   \n",
       "2           2.00     0.00  2,920.26  ...               38         1   \n",
       "3           1.00     0.00  2,920.26  ...               11         0   \n",
       "5           2.00     0.00  2,920.26  ...               41         0   \n",
       "...          ...      ...       ...  ...              ...       ...   \n",
       "18411       1.00     0.00  2,920.26  ...               20         0   \n",
       "18412       1.00     0.00  2,920.26  ...               11         0   \n",
       "18413       4.00     0.02  2,920.26  ...               20         0   \n",
       "18414       1.00     0.01  2,920.26  ...               11         0   \n",
       "18415       4.00     0.00  2,920.26  ...               20         0   \n",
       "\n",
       "       has3_d_tour  has360  has_staging  top_new_development  parking_space  \\\n",
       "0                0       0            0                    0              0   \n",
       "1                0       0            0                    0              1   \n",
       "2                0       0            0                    0              1   \n",
       "3                0       0            0                    0              0   \n",
       "5                0       0            0                    0              1   \n",
       "...            ...     ...          ...                  ...            ...   \n",
       "18411            0       0            0                    0              0   \n",
       "18412            0       0            0                    0              0   \n",
       "18413            0       0            0                    0              0   \n",
       "18414            0       0            0                    0              0   \n",
       "18415            0       0            0                    0              0   \n",
       "\n",
       "       pagina  month  year  \n",
       "0        1.00      4  2023  \n",
       "1        1.00      4  2023  \n",
       "2        1.00      4  2023  \n",
       "3        1.00      4  2023  \n",
       "5        1.00      4  2023  \n",
       "...       ...    ...   ...  \n",
       "18411   50.00      7  2023  \n",
       "18412   50.00      7  2023  \n",
       "18413   50.00      7  2023  \n",
       "18414   50.00      7  2023  \n",
       "18415   50.00      7  2023  \n",
       "\n",
       "[11868 rows x 32 columns]"
      ]
     },
     "execution_count": 789,
     "metadata": {},
     "output_type": "execute_result"
    }
   ],
   "source": [
    "df5 = encoding( df5 )\n",
    "df5"
   ]
  },
  {
   "cell_type": "markdown",
   "id": "7bdafed8",
   "metadata": {},
   "source": [
    "# 6.0 Feature Selection"
   ]
  },
  {
   "cell_type": "code",
   "execution_count": 790,
   "id": "02f6e93b",
   "metadata": {
    "ExecuteTime": {
     "end_time": "2024-02-12T20:16:21.038610Z",
     "start_time": "2024-02-12T20:16:21.030431Z"
    }
   },
   "outputs": [],
   "source": [
    "df6 = df5.copy()"
   ]
  },
  {
   "cell_type": "markdown",
   "id": "11189951",
   "metadata": {
    "ExecuteTime": {
     "end_time": "2023-08-13T00:21:22.012478Z",
     "start_time": "2023-08-13T00:21:22.009576Z"
    }
   },
   "source": [
    "## 6.1 Boruta"
   ]
  },
  {
   "cell_type": "code",
   "execution_count": 791,
   "id": "547e5217",
   "metadata": {
    "ExecuteTime": {
     "end_time": "2024-02-12T20:16:23.248755Z",
     "start_time": "2024-02-12T20:16:23.242136Z"
    }
   },
   "outputs": [],
   "source": [
    "def boruta_selection(df , use_boruta = False):\n",
    "    \n",
    "    if use_boruta:\n",
    "    \n",
    "        # training and test dataset for boruta\n",
    "        X_train = df6.drop( ['price'] , axis= 1 ).values\n",
    "        y_train = df6['price'].values.ravel()\n",
    "\n",
    "        # instancia do Rf\n",
    "        rf = RandomForestRegressor( n_jobs = -1 )\n",
    "\n",
    "        # aplico o boruta\n",
    "        boruta = BorutaPy( rf, n_estimators = 'auto', verbose = 2, random_state = 42 ).fit( X_train, y_train )\n",
    "        \n",
    "        # pega as colunas e coloca na variavel\n",
    "        cols_selected = boruta.support_.tolist()\n",
    "\n",
    "        # df boruta\n",
    "        df_boruta = df6.drop('price', axis = 1).loc[ : , cols_selected]\n",
    "\n",
    "        X_train = df6.drop( ['price'] , axis= 1 )\n",
    "        cols_selected_boruta = X_train.loc[ : , cols_selected ]\n",
    "\n",
    "        # cols not selected boruta\n",
    "        cols_not_selected = list( np.setdiff1d( X_train.columns, cols_selected_boruta.columns ) )\n",
    "        \n",
    "        print('Boruta Used')\n",
    "        \n",
    "        return df[cols_selected_boruta], cols_not_selected\n",
    "    \n",
    "    else:\n",
    "        print('Boruta skipped')\n",
    "        return df\n",
    "\n",
    "        \n"
   ]
  },
  {
   "cell_type": "code",
   "execution_count": 792,
   "id": "45035faf",
   "metadata": {
    "ExecuteTime": {
     "end_time": "2024-02-12T20:16:25.221949Z",
     "start_time": "2024-02-12T20:16:25.218038Z"
    }
   },
   "outputs": [
    {
     "name": "stdout",
     "output_type": "stream",
     "text": [
      "Boruta skipped\n"
     ]
    }
   ],
   "source": [
    "df6 = boruta_selection(df6)"
   ]
  },
  {
   "cell_type": "markdown",
   "id": "5d26b577",
   "metadata": {
    "ExecuteTime": {
     "end_time": "2023-08-11T16:55:19.379220Z",
     "start_time": "2023-08-11T16:55:19.373792Z"
    }
   },
   "source": [
    "# 7.0 Machine Learning"
   ]
  },
  {
   "cell_type": "code",
   "execution_count": 793,
   "id": "ba9d896b",
   "metadata": {
    "ExecuteTime": {
     "end_time": "2024-02-12T20:16:27.309604Z",
     "start_time": "2024-02-12T20:16:27.306336Z"
    }
   },
   "outputs": [],
   "source": [
    "# columns used for training\n",
    "colunas_treino_modelo = df6.columns.to_list()"
   ]
  },
  {
   "cell_type": "code",
   "execution_count": 794,
   "id": "597c8b5d",
   "metadata": {
    "ExecuteTime": {
     "end_time": "2024-02-12T20:16:32.550582Z",
     "start_time": "2024-02-12T20:16:32.546150Z"
    }
   },
   "outputs": [],
   "source": [
    "df7 = df6.copy()"
   ]
  },
  {
   "cell_type": "markdown",
   "id": "eb1563de",
   "metadata": {},
   "source": [
    "## 7.1 - Divisão entre treino e teste"
   ]
  },
  {
   "cell_type": "code",
   "execution_count": 795,
   "id": "ca050a38",
   "metadata": {
    "ExecuteTime": {
     "end_time": "2024-02-12T20:16:36.888441Z",
     "start_time": "2024-02-12T20:16:36.882527Z"
    }
   },
   "outputs": [],
   "source": [
    "# divido outra vez os dados de treino\n",
    "X_train = df7.drop( 'price', axis = 1 )\n",
    "y_train = df7['price']"
   ]
  },
  {
   "cell_type": "code",
   "execution_count": 801,
   "id": "6ea1d8c4",
   "metadata": {
    "ExecuteTime": {
     "end_time": "2024-02-12T20:23:21.050987Z",
     "start_time": "2024-02-12T20:22:39.480388Z"
    }
   },
   "outputs": [
    {
     "name": "stderr",
     "output_type": "stream",
     "text": [
      "C:\\Users\\oscar\\AppData\\Local\\Temp\\ipykernel_5096\\2764531685.py:3: DeprecationWarning: In a future version, `df.iloc[:, i] = newvals` will attempt to set the values inplace instead of always setting a new array. To retain the old behavior, use either `df[df.columns[i]] = newvals` or, if columns are non-unique, `df.isetitem(i, newvals)`\n",
      "  df.loc[:,'thumbnail'] = np.where( df['thumbnail'].isna(), 0 , 1 )\n"
     ]
    },
    {
     "name": "stdout",
     "output_type": "stream",
     "text": [
      "Dados Transformados\n",
      "Variavies não filtradas\n",
      "Outliers mantidos\n",
      "Rescaled\n"
     ]
    }
   ],
   "source": [
    "# tratando os dados de teste\n",
    "idealista = Idealista()\n",
    "df_test   = idealista.transform_data( df_val, colunas_irrelevantes )\n",
    "df_test_1 = idealista.feature_engineering( df_test, True )\n",
    "df_test_2 = idealista.filter_variables( df_test_1, False )\n",
    "df_test_3 = idealista.remove_outliers( df_test_2 , True  )\n",
    "df_test_4 = idealista.rescaling_data( df_test_3, True )\n",
    "df_test_5 = idealista.encoding( df_test_4 )"
   ]
  },
  {
   "cell_type": "code",
   "execution_count": 803,
   "id": "ac2f77de",
   "metadata": {
    "ExecuteTime": {
     "end_time": "2024-02-12T20:24:06.803533Z",
     "start_time": "2024-02-12T20:24:06.798683Z"
    }
   },
   "outputs": [],
   "source": [
    "# separando os dados de teste\n",
    "X_test = df_test_5.drop('price', axis = 1 )\n",
    "y_test = df_test_5['price']"
   ]
  },
  {
   "cell_type": "markdown",
   "id": "9810703c",
   "metadata": {},
   "source": [
    "## 7.2 - Linear Regression"
   ]
  },
  {
   "cell_type": "code",
   "execution_count": 804,
   "id": "b5ce7fc6",
   "metadata": {
    "ExecuteTime": {
     "end_time": "2024-02-12T20:24:10.615524Z",
     "start_time": "2024-02-12T20:24:10.593560Z"
    }
   },
   "outputs": [],
   "source": [
    "# Criar um modelo de regressão linear\n",
    "lr = LinearRegression()\n",
    "\n",
    "# Treinar o modelo\n",
    "lr.fit(X_train, y_train)\n",
    "\n",
    "# Fazer previsões no conjunto de teste\n",
    "y_pred = lr.predict(X_test)\n"
   ]
  },
  {
   "cell_type": "code",
   "execution_count": 805,
   "id": "6dff5387",
   "metadata": {
    "ExecuteTime": {
     "end_time": "2024-02-12T20:24:13.012222Z",
     "start_time": "2024-02-12T20:24:13.001133Z"
    }
   },
   "outputs": [
    {
     "data": {
      "text/html": [
       "<div>\n",
       "<style scoped>\n",
       "    .dataframe tbody tr th:only-of-type {\n",
       "        vertical-align: middle;\n",
       "    }\n",
       "\n",
       "    .dataframe tbody tr th {\n",
       "        vertical-align: top;\n",
       "    }\n",
       "\n",
       "    .dataframe thead th {\n",
       "        text-align: right;\n",
       "    }\n",
       "</style>\n",
       "<table border=\"1\" class=\"dataframe\">\n",
       "  <thead>\n",
       "    <tr style=\"text-align: right;\">\n",
       "      <th></th>\n",
       "      <th>Model Name</th>\n",
       "      <th>MAE</th>\n",
       "      <th>MAPE</th>\n",
       "      <th>RMSE</th>\n",
       "      <th>R2_score</th>\n",
       "    </tr>\n",
       "  </thead>\n",
       "  <tbody>\n",
       "    <tr>\n",
       "      <th>0</th>\n",
       "      <td>Linear Regression</td>\n",
       "      <td>911.40</td>\n",
       "      <td>0.35</td>\n",
       "      <td>1,670.80</td>\n",
       "      <td>0.60</td>\n",
       "    </tr>\n",
       "  </tbody>\n",
       "</table>\n",
       "</div>"
      ],
      "text/plain": [
       "         Model Name     MAE  MAPE     RMSE  R2_score\n",
       "0  Linear Regression 911.40  0.35 1,670.80      0.60"
      ]
     },
     "execution_count": 805,
     "metadata": {},
     "output_type": "execute_result"
    }
   ],
   "source": [
    "lr_metrics = ml_error( 'Linear Regression', y_test   , y_pred )\n",
    "lr_metrics"
   ]
  },
  {
   "cell_type": "markdown",
   "id": "4cb230b5",
   "metadata": {},
   "source": [
    "## 7.2.1 - Linear Regression Cross Validation"
   ]
  },
  {
   "cell_type": "code",
   "execution_count": 808,
   "id": "3cfbb0bc",
   "metadata": {
    "ExecuteTime": {
     "end_time": "2024-02-12T20:25:02.211349Z",
     "start_time": "2024-02-12T20:25:02.024279Z"
    }
   },
   "outputs": [
    {
     "data": {
      "text/html": [
       "<div>\n",
       "<style scoped>\n",
       "    .dataframe tbody tr th:only-of-type {\n",
       "        vertical-align: middle;\n",
       "    }\n",
       "\n",
       "    .dataframe tbody tr th {\n",
       "        vertical-align: top;\n",
       "    }\n",
       "\n",
       "    .dataframe thead th {\n",
       "        text-align: right;\n",
       "    }\n",
       "</style>\n",
       "<table border=\"1\" class=\"dataframe\">\n",
       "  <thead>\n",
       "    <tr style=\"text-align: right;\">\n",
       "      <th></th>\n",
       "      <th>Model Name</th>\n",
       "      <th>MAE</th>\n",
       "      <th>MAPE</th>\n",
       "      <th>RMSE</th>\n",
       "      <th>R2_score</th>\n",
       "      <th>Cv Score</th>\n",
       "    </tr>\n",
       "  </thead>\n",
       "  <tbody>\n",
       "    <tr>\n",
       "      <th>0</th>\n",
       "      <td>Linear Regression</td>\n",
       "      <td>911.40</td>\n",
       "      <td>0.35</td>\n",
       "      <td>1,670.80</td>\n",
       "      <td>0.60</td>\n",
       "      <td>0.49</td>\n",
       "    </tr>\n",
       "  </tbody>\n",
       "</table>\n",
       "</div>"
      ],
      "text/plain": [
       "         Model Name     MAE  MAPE     RMSE  R2_score  Cv Score\n",
       "0  Linear Regression 911.40  0.35 1,670.80      0.60      0.49"
      ]
     },
     "execution_count": 808,
     "metadata": {},
     "output_type": "execute_result"
    }
   ],
   "source": [
    "# Criar um modelo de regressão linear\n",
    "lr = LinearRegression()\n",
    "\n",
    "# cross validation\n",
    "precision_scores = cross_val_score(lr, X_train, y_train, cv=10, scoring= 'r2')\n",
    "\n",
    "# mean score \n",
    "mean_score = np.mean( precision_scores )\n",
    "cv_lr = np.round(mean_score,2)\n",
    "lr_metrics_cv = pd.concat( [lr_metrics, pd.DataFrame( {'Cv Score' : [cv_lr]} ) ], axis = 1)\n",
    "lr_metrics_cv"
   ]
  },
  {
   "cell_type": "markdown",
   "id": "4f3d80d9",
   "metadata": {},
   "source": [
    "## 7.3 Lassso"
   ]
  },
  {
   "cell_type": "code",
   "execution_count": 809,
   "id": "298bf754",
   "metadata": {
    "ExecuteTime": {
     "end_time": "2024-02-12T20:25:08.197157Z",
     "start_time": "2024-02-12T20:25:06.744547Z"
    }
   },
   "outputs": [
    {
     "data": {
      "text/html": [
       "<div>\n",
       "<style scoped>\n",
       "    .dataframe tbody tr th:only-of-type {\n",
       "        vertical-align: middle;\n",
       "    }\n",
       "\n",
       "    .dataframe tbody tr th {\n",
       "        vertical-align: top;\n",
       "    }\n",
       "\n",
       "    .dataframe thead th {\n",
       "        text-align: right;\n",
       "    }\n",
       "</style>\n",
       "<table border=\"1\" class=\"dataframe\">\n",
       "  <thead>\n",
       "    <tr style=\"text-align: right;\">\n",
       "      <th></th>\n",
       "      <th>Model Name</th>\n",
       "      <th>MAE</th>\n",
       "      <th>MAPE</th>\n",
       "      <th>RMSE</th>\n",
       "      <th>R2_score</th>\n",
       "    </tr>\n",
       "  </thead>\n",
       "  <tbody>\n",
       "    <tr>\n",
       "      <th>0</th>\n",
       "      <td>Lasso</td>\n",
       "      <td>911.13</td>\n",
       "      <td>0.35</td>\n",
       "      <td>1,670.72</td>\n",
       "      <td>0.60</td>\n",
       "    </tr>\n",
       "  </tbody>\n",
       "</table>\n",
       "</div>"
      ],
      "text/plain": [
       "  Model Name     MAE  MAPE     RMSE  R2_score\n",
       "0       Lasso 911.13  0.35 1,670.72      0.60"
      ]
     },
     "execution_count": 809,
     "metadata": {},
     "output_type": "execute_result"
    }
   ],
   "source": [
    "# model\n",
    "lrr = Lasso( alpha = 0.01 ).fit( X_train , y_train )\n",
    "\n",
    "# prediction\n",
    "y_hat_lrr = lrr.predict( X_test )\n",
    "\n",
    "# performance\n",
    "lrr_result = ml_error( 'Lasso',  y_test  ,  y_hat_lrr  )\n",
    "lrr_result"
   ]
  },
  {
   "cell_type": "markdown",
   "id": "e9fb3406",
   "metadata": {
    "ExecuteTime": {
     "end_time": "2024-02-03T14:44:22.755594Z",
     "start_time": "2024-02-03T14:44:22.752525Z"
    }
   },
   "source": [
    "## 7.3.1 - Lasso Cross Validation"
   ]
  },
  {
   "cell_type": "code",
   "execution_count": 810,
   "id": "bba6eac0",
   "metadata": {
    "ExecuteTime": {
     "end_time": "2024-02-12T20:25:14.324882Z",
     "start_time": "2024-02-12T20:25:12.456247Z"
    }
   },
   "outputs": [
    {
     "data": {
      "text/html": [
       "<div>\n",
       "<style scoped>\n",
       "    .dataframe tbody tr th:only-of-type {\n",
       "        vertical-align: middle;\n",
       "    }\n",
       "\n",
       "    .dataframe tbody tr th {\n",
       "        vertical-align: top;\n",
       "    }\n",
       "\n",
       "    .dataframe thead th {\n",
       "        text-align: right;\n",
       "    }\n",
       "</style>\n",
       "<table border=\"1\" class=\"dataframe\">\n",
       "  <thead>\n",
       "    <tr style=\"text-align: right;\">\n",
       "      <th></th>\n",
       "      <th>Model Name</th>\n",
       "      <th>MAE</th>\n",
       "      <th>MAPE</th>\n",
       "      <th>RMSE</th>\n",
       "      <th>R2_score</th>\n",
       "      <th>Cv Score</th>\n",
       "    </tr>\n",
       "  </thead>\n",
       "  <tbody>\n",
       "    <tr>\n",
       "      <th>0</th>\n",
       "      <td>Lasso</td>\n",
       "      <td>911.13</td>\n",
       "      <td>0.35</td>\n",
       "      <td>1,670.72</td>\n",
       "      <td>0.60</td>\n",
       "      <td>0.48</td>\n",
       "    </tr>\n",
       "  </tbody>\n",
       "</table>\n",
       "</div>"
      ],
      "text/plain": [
       "  Model Name     MAE  MAPE     RMSE  R2_score  Cv Score\n",
       "0       Lasso 911.13  0.35 1,670.72      0.60      0.48"
      ]
     },
     "execution_count": 810,
     "metadata": {},
     "output_type": "execute_result"
    }
   ],
   "source": [
    "# model\n",
    "lrr = Lasso( alpha = 0.01 ).fit( X_train , y_train )\n",
    "\n",
    "# cross validation\n",
    "precision_scores = cross_val_score(lrr, X_train, y_train, cv=5, scoring= 'r2')\n",
    "\n",
    "# mean score \n",
    "mean_score = np.mean( precision_scores )\n",
    "cv_lasso = np.round( mean_score, 2)\n",
    "lrr_result_cv = pd.concat( [lrr_result, pd.DataFrame( {'Cv Score' : [cv_lasso]} ) ], axis = 1) \n",
    "lrr_result_cv"
   ]
  },
  {
   "cell_type": "markdown",
   "id": "83db355b",
   "metadata": {},
   "source": [
    "## 7.4 Random Forest"
   ]
  },
  {
   "cell_type": "code",
   "execution_count": 811,
   "id": "37850f1a",
   "metadata": {
    "ExecuteTime": {
     "end_time": "2024-02-12T20:26:05.198647Z",
     "start_time": "2024-02-12T20:25:58.521796Z"
    }
   },
   "outputs": [
    {
     "data": {
      "text/html": [
       "<div>\n",
       "<style scoped>\n",
       "    .dataframe tbody tr th:only-of-type {\n",
       "        vertical-align: middle;\n",
       "    }\n",
       "\n",
       "    .dataframe tbody tr th {\n",
       "        vertical-align: top;\n",
       "    }\n",
       "\n",
       "    .dataframe thead th {\n",
       "        text-align: right;\n",
       "    }\n",
       "</style>\n",
       "<table border=\"1\" class=\"dataframe\">\n",
       "  <thead>\n",
       "    <tr style=\"text-align: right;\">\n",
       "      <th></th>\n",
       "      <th>Model Name</th>\n",
       "      <th>MAE</th>\n",
       "      <th>MAPE</th>\n",
       "      <th>RMSE</th>\n",
       "      <th>R2_score</th>\n",
       "    </tr>\n",
       "  </thead>\n",
       "  <tbody>\n",
       "    <tr>\n",
       "      <th>0</th>\n",
       "      <td>Random Forest Regressor</td>\n",
       "      <td>462.57</td>\n",
       "      <td>0.17</td>\n",
       "      <td>890.69</td>\n",
       "      <td>0.89</td>\n",
       "    </tr>\n",
       "  </tbody>\n",
       "</table>\n",
       "</div>"
      ],
      "text/plain": [
       "               Model Name     MAE  MAPE   RMSE  R2_score\n",
       "0  Random Forest Regressor 462.57  0.17 890.69      0.89"
      ]
     },
     "execution_count": 811,
     "metadata": {},
     "output_type": "execute_result"
    }
   ],
   "source": [
    "# model\n",
    "rf = RandomForestRegressor( n_estimators = 100 , n_jobs = -1, random_state = 42  )\n",
    "\n",
    "rf.fit( X_train , y_train )\n",
    "\n",
    "# prediction\n",
    "y_hat_rf = rf.predict( X_test )\n",
    "\n",
    "# \n",
    "rf_result = ml_error( 'Random Forest Regressor',  y_test  ,  y_hat_rf  )\n",
    "rf_result"
   ]
  },
  {
   "cell_type": "markdown",
   "id": "0d1eef43",
   "metadata": {
    "ExecuteTime": {
     "end_time": "2023-08-13T17:51:19.283637Z",
     "start_time": "2023-08-13T17:51:19.280463Z"
    }
   },
   "source": [
    "## 7.4 Random Forest Cross Validation"
   ]
  },
  {
   "cell_type": "code",
   "execution_count": 812,
   "id": "8116f6c3",
   "metadata": {
    "ExecuteTime": {
     "end_time": "2024-02-12T20:26:37.607239Z",
     "start_time": "2024-02-12T20:26:05.200677Z"
    }
   },
   "outputs": [
    {
     "data": {
      "text/html": [
       "<div>\n",
       "<style scoped>\n",
       "    .dataframe tbody tr th:only-of-type {\n",
       "        vertical-align: middle;\n",
       "    }\n",
       "\n",
       "    .dataframe tbody tr th {\n",
       "        vertical-align: top;\n",
       "    }\n",
       "\n",
       "    .dataframe thead th {\n",
       "        text-align: right;\n",
       "    }\n",
       "</style>\n",
       "<table border=\"1\" class=\"dataframe\">\n",
       "  <thead>\n",
       "    <tr style=\"text-align: right;\">\n",
       "      <th></th>\n",
       "      <th>Model Name</th>\n",
       "      <th>MAE</th>\n",
       "      <th>MAPE</th>\n",
       "      <th>RMSE</th>\n",
       "      <th>R2_score</th>\n",
       "      <th>Cv Score</th>\n",
       "    </tr>\n",
       "  </thead>\n",
       "  <tbody>\n",
       "    <tr>\n",
       "      <th>0</th>\n",
       "      <td>Random Forest Regressor</td>\n",
       "      <td>462.57</td>\n",
       "      <td>0.17</td>\n",
       "      <td>890.69</td>\n",
       "      <td>0.89</td>\n",
       "      <td>0.67</td>\n",
       "    </tr>\n",
       "  </tbody>\n",
       "</table>\n",
       "</div>"
      ],
      "text/plain": [
       "               Model Name     MAE  MAPE   RMSE  R2_score  Cv Score\n",
       "0  Random Forest Regressor 462.57  0.17 890.69      0.89      0.67"
      ]
     },
     "execution_count": 812,
     "metadata": {},
     "output_type": "execute_result"
    }
   ],
   "source": [
    "# model\n",
    "rf_cv = RandomForestRegressor( n_estimators = 100 , n_jobs = -1, random_state = 42  )\n",
    "\n",
    "# cross validation\n",
    "precision_scores = cross_val_score(rf_cv, X_train, y_train, cv=5, scoring= 'r2')\n",
    "\n",
    "# mean score \n",
    "mean_score = np.mean( precision_scores )\n",
    "rf_cv = np.round( mean_score, 2)\n",
    "rf_result_cv = pd.concat( [rf_result, pd.DataFrame( {'Cv Score' : [rf_cv]} ) ], axis = 1) \n",
    "rf_result_cv"
   ]
  },
  {
   "cell_type": "markdown",
   "id": "97f9e826",
   "metadata": {},
   "source": [
    "## 7.5 LGBM"
   ]
  },
  {
   "cell_type": "code",
   "execution_count": 813,
   "id": "79fe0b92",
   "metadata": {
    "ExecuteTime": {
     "end_time": "2024-02-12T20:26:55.828308Z",
     "start_time": "2024-02-12T20:26:55.584586Z"
    }
   },
   "outputs": [
    {
     "name": "stdout",
     "output_type": "stream",
     "text": [
      "[LightGBM] [Warning] Auto-choosing row-wise multi-threading, the overhead of testing was 0.001017 seconds.\n",
      "You can set `force_row_wise=true` to remove the overhead.\n",
      "And if memory is not enough, you can set `force_col_wise=true`.\n",
      "[LightGBM] [Info] Total Bins 2036\n",
      "[LightGBM] [Info] Number of data points in the train set: 11868, number of used features: 28\n",
      "[LightGBM] [Info] Start training from score 2818.264746\n"
     ]
    },
    {
     "data": {
      "text/html": [
       "<div>\n",
       "<style scoped>\n",
       "    .dataframe tbody tr th:only-of-type {\n",
       "        vertical-align: middle;\n",
       "    }\n",
       "\n",
       "    .dataframe tbody tr th {\n",
       "        vertical-align: top;\n",
       "    }\n",
       "\n",
       "    .dataframe thead th {\n",
       "        text-align: right;\n",
       "    }\n",
       "</style>\n",
       "<table border=\"1\" class=\"dataframe\">\n",
       "  <thead>\n",
       "    <tr style=\"text-align: right;\">\n",
       "      <th></th>\n",
       "      <th>Model Name</th>\n",
       "      <th>MAE</th>\n",
       "      <th>MAPE</th>\n",
       "      <th>RMSE</th>\n",
       "      <th>R2_score</th>\n",
       "    </tr>\n",
       "  </thead>\n",
       "  <tbody>\n",
       "    <tr>\n",
       "      <th>0</th>\n",
       "      <td>lgbm</td>\n",
       "      <td>585.08</td>\n",
       "      <td>0.22</td>\n",
       "      <td>981.98</td>\n",
       "      <td>0.86</td>\n",
       "    </tr>\n",
       "  </tbody>\n",
       "</table>\n",
       "</div>"
      ],
      "text/plain": [
       "  Model Name     MAE  MAPE   RMSE  R2_score\n",
       "0        lgbm 585.08  0.22 981.98      0.86"
      ]
     },
     "execution_count": 813,
     "metadata": {},
     "output_type": "execute_result"
    }
   ],
   "source": [
    "# Criar um conjunto de dados LightGBM a partir dos dados de treinamento\n",
    "train_data = lgb.Dataset(X_train, label=y_train)\n",
    "\n",
    "# Criar um conjunto de dados LightGBM a partir dos dados de treinamento\n",
    "train_data = lgb.Dataset(X_train, label=y_train)\n",
    "\n",
    "# Definir parâmetros básicos\n",
    "params = {\n",
    "    'objective': 'regression',  # Regressão\n",
    "    'metric': 'l2',  # Métrica de avaliação (erro quadrático médio)\n",
    "    'boosting_type': 'gbdt',  # Tipo de aumento (gradient boosting)\n",
    "}\n",
    "\n",
    "# Treinar o modelo LightGBM\n",
    "num_round = 100  # Número de iterações (árvores) de treinamento\n",
    "bst = lgb.train(params, train_data, num_boost_round=num_round)\n",
    "\n",
    "# Fazer previsões no conjunto de teste\n",
    "y_pred_lgbm = bst.predict(X_test)\n",
    "\n",
    "# performance\n",
    "lgbm = ml_error( 'lgbm',  y_test  ,  y_pred_lgbm  )\n",
    "lgbm\n"
   ]
  },
  {
   "cell_type": "markdown",
   "id": "c08ed0e6",
   "metadata": {},
   "source": [
    "## 7.5.1 LGBM Cross Validation"
   ]
  },
  {
   "cell_type": "code",
   "execution_count": 814,
   "id": "a54896bf",
   "metadata": {
    "ExecuteTime": {
     "end_time": "2024-02-12T20:27:03.171960Z",
     "start_time": "2024-02-12T20:27:00.680823Z"
    }
   },
   "outputs": [
    {
     "name": "stdout",
     "output_type": "stream",
     "text": [
      "[LightGBM] [Warning] Auto-choosing col-wise multi-threading, the overhead of testing was 0.002614 seconds.\n",
      "You can set `force_col_wise=true` to remove the overhead.\n",
      "[LightGBM] [Info] Total Bins 2032\n",
      "[LightGBM] [Info] Number of data points in the train set: 10681, number of used features: 28\n",
      "[LightGBM] [Info] Start training from score 2818.903380\n",
      "[LightGBM] [Warning] Auto-choosing row-wise multi-threading, the overhead of testing was 0.000881 seconds.\n",
      "You can set `force_row_wise=true` to remove the overhead.\n",
      "And if memory is not enough, you can set `force_col_wise=true`.\n",
      "[LightGBM] [Info] Total Bins 2030\n",
      "[LightGBM] [Info] Number of data points in the train set: 10681, number of used features: 28\n",
      "[LightGBM] [Info] Start training from score 2835.443404\n",
      "[LightGBM] [Warning] Auto-choosing col-wise multi-threading, the overhead of testing was 0.002822 seconds.\n",
      "You can set `force_col_wise=true` to remove the overhead.\n",
      "[LightGBM] [Info] Total Bins 2028\n",
      "[LightGBM] [Info] Number of data points in the train set: 10681, number of used features: 28\n",
      "[LightGBM] [Info] Start training from score 2805.365041\n",
      "[LightGBM] [Warning] Auto-choosing col-wise multi-threading, the overhead of testing was 0.002441 seconds.\n",
      "You can set `force_col_wise=true` to remove the overhead.\n",
      "[LightGBM] [Info] Total Bins 2034\n",
      "[LightGBM] [Info] Number of data points in the train set: 10681, number of used features: 28\n",
      "[LightGBM] [Info] Start training from score 2804.867709\n",
      "[LightGBM] [Warning] Auto-choosing col-wise multi-threading, the overhead of testing was 0.001606 seconds.\n",
      "You can set `force_col_wise=true` to remove the overhead.\n",
      "[LightGBM] [Info] Total Bins 2026\n",
      "[LightGBM] [Info] Number of data points in the train set: 10681, number of used features: 28\n",
      "[LightGBM] [Info] Start training from score 2807.202977\n",
      "[LightGBM] [Warning] Auto-choosing row-wise multi-threading, the overhead of testing was 0.001018 seconds.\n",
      "You can set `force_row_wise=true` to remove the overhead.\n",
      "And if memory is not enough, you can set `force_col_wise=true`.\n",
      "[LightGBM] [Info] Total Bins 2034\n",
      "[LightGBM] [Info] Number of data points in the train set: 10681, number of used features: 28\n",
      "[LightGBM] [Info] Start training from score 2831.216459\n",
      "[LightGBM] [Warning] Auto-choosing row-wise multi-threading, the overhead of testing was 0.000860 seconds.\n",
      "You can set `force_row_wise=true` to remove the overhead.\n",
      "And if memory is not enough, you can set `force_col_wise=true`.\n",
      "[LightGBM] [Info] Total Bins 2033\n",
      "[LightGBM] [Info] Number of data points in the train set: 10681, number of used features: 28\n",
      "[LightGBM] [Info] Start training from score 2810.988578\n",
      "[LightGBM] [Warning] Auto-choosing col-wise multi-threading, the overhead of testing was 0.001671 seconds.\n",
      "You can set `force_col_wise=true` to remove the overhead.\n",
      "[LightGBM] [Info] Total Bins 2032\n",
      "[LightGBM] [Info] Number of data points in the train set: 10681, number of used features: 28\n",
      "[LightGBM] [Info] Start training from score 2828.001872\n",
      "[LightGBM] [Warning] Auto-choosing row-wise multi-threading, the overhead of testing was 0.000666 seconds.\n",
      "You can set `force_row_wise=true` to remove the overhead.\n",
      "And if memory is not enough, you can set `force_col_wise=true`.\n",
      "[LightGBM] [Info] Total Bins 2032\n",
      "[LightGBM] [Info] Number of data points in the train set: 10682, number of used features: 28\n",
      "[LightGBM] [Info] Start training from score 2809.353679\n",
      "[LightGBM] [Warning] Auto-choosing row-wise multi-threading, the overhead of testing was 0.000996 seconds.\n",
      "You can set `force_row_wise=true` to remove the overhead.\n",
      "And if memory is not enough, you can set `force_col_wise=true`.\n",
      "[LightGBM] [Info] Total Bins 2030\n",
      "[LightGBM] [Info] Number of data points in the train set: 10682, number of used features: 28\n",
      "[LightGBM] [Info] Start training from score 2831.303969\n"
     ]
    },
    {
     "data": {
      "text/html": [
       "<div>\n",
       "<style scoped>\n",
       "    .dataframe tbody tr th:only-of-type {\n",
       "        vertical-align: middle;\n",
       "    }\n",
       "\n",
       "    .dataframe tbody tr th {\n",
       "        vertical-align: top;\n",
       "    }\n",
       "\n",
       "    .dataframe thead th {\n",
       "        text-align: right;\n",
       "    }\n",
       "</style>\n",
       "<table border=\"1\" class=\"dataframe\">\n",
       "  <thead>\n",
       "    <tr style=\"text-align: right;\">\n",
       "      <th></th>\n",
       "      <th>Model Name</th>\n",
       "      <th>MAE</th>\n",
       "      <th>MAPE</th>\n",
       "      <th>RMSE</th>\n",
       "      <th>R2_score</th>\n",
       "      <th>Cv Score</th>\n",
       "    </tr>\n",
       "  </thead>\n",
       "  <tbody>\n",
       "    <tr>\n",
       "      <th>0</th>\n",
       "      <td>lgbm</td>\n",
       "      <td>585.08</td>\n",
       "      <td>0.22</td>\n",
       "      <td>981.98</td>\n",
       "      <td>0.86</td>\n",
       "      <td>0.74</td>\n",
       "    </tr>\n",
       "  </tbody>\n",
       "</table>\n",
       "</div>"
      ],
      "text/plain": [
       "  Model Name     MAE  MAPE   RMSE  R2_score  Cv Score\n",
       "0        lgbm 585.08  0.22 981.98      0.86      0.74"
      ]
     },
     "execution_count": 814,
     "metadata": {},
     "output_type": "execute_result"
    }
   ],
   "source": [
    "# Definir parâmetros básicos\n",
    "params = {\n",
    "    'objective': 'regression',  # Regressão\n",
    "    'metric': 'r2',  # Usando R² como métrica de avaliação, se suportado pela sua versão do LightGBM\n",
    "    'boosting_type': 'gbdt',  # Tipo de aumento (gradient boosting)\n",
    "}\n",
    "\n",
    "# Preparar o conjunto de dados LightGBM\n",
    "lgb_data = lgb.Dataset(X_train, label=y_train)\n",
    "\n",
    "# Número de iterações de treinamento\n",
    "num_round = 100\n",
    "\n",
    "# Configuração da validação cruzada\n",
    "nfold = 10\n",
    "seed = 42\n",
    "\n",
    "kf = KFold(n_splits=nfold, random_state=seed, shuffle=True)\n",
    "\n",
    "r2_scores = []\n",
    "\n",
    "# Realizar a validação cruzada\n",
    "for train_idx, val_idx in kf.split(X_train):\n",
    "    X_train_fold = X_train.iloc[train_idx]  # Seleciona as linhas de treinamento\n",
    "    y_train_fold = y_train.iloc[train_idx]  # Seleciona os rótulos de treinamento\n",
    "    X_val_fold = X_train.iloc[val_idx]  # Seleciona as linhas de validação\n",
    "\n",
    "    # Treinar o modelo LightGBM\n",
    "    bst = lgb.train(params, lgb.Dataset(X_train_fold, label=y_train_fold), num_boost_round=num_round)\n",
    "\n",
    "    # Fazer previsões no conjunto de validação\n",
    "    y_pred = bst.predict(X_val_fold)\n",
    "\n",
    "    # Calcular o R² score\n",
    "    r2 = r2_score(y_train.iloc[val_idx], y_pred)\n",
    "    r2_scores.append(r2)\n",
    "\n",
    "# Mostrar a média dos R² scores\n",
    "mean_r2 = np.mean(r2_scores)\n",
    "lgbm_cv = pd.concat( [lgbm, pd.DataFrame( {'Cv Score' : [mean_r2]} ) ], axis = 1) \n",
    "lgbm_cv"
   ]
  },
  {
   "cell_type": "markdown",
   "id": "ec7a8557",
   "metadata": {},
   "source": [
    "## 7.6 XGBOOST"
   ]
  },
  {
   "cell_type": "code",
   "execution_count": 815,
   "id": "79e345b7",
   "metadata": {
    "ExecuteTime": {
     "end_time": "2024-02-12T20:27:09.809069Z",
     "start_time": "2024-02-12T20:27:09.312917Z"
    }
   },
   "outputs": [
    {
     "data": {
      "text/html": [
       "<div>\n",
       "<style scoped>\n",
       "    .dataframe tbody tr th:only-of-type {\n",
       "        vertical-align: middle;\n",
       "    }\n",
       "\n",
       "    .dataframe tbody tr th {\n",
       "        vertical-align: top;\n",
       "    }\n",
       "\n",
       "    .dataframe thead th {\n",
       "        text-align: right;\n",
       "    }\n",
       "</style>\n",
       "<table border=\"1\" class=\"dataframe\">\n",
       "  <thead>\n",
       "    <tr style=\"text-align: right;\">\n",
       "      <th></th>\n",
       "      <th>Model Name</th>\n",
       "      <th>MAE</th>\n",
       "      <th>MAPE</th>\n",
       "      <th>RMSE</th>\n",
       "      <th>R2_score</th>\n",
       "    </tr>\n",
       "  </thead>\n",
       "  <tbody>\n",
       "    <tr>\n",
       "      <th>0</th>\n",
       "      <td>xgb</td>\n",
       "      <td>672.08</td>\n",
       "      <td>0.24</td>\n",
       "      <td>1,263.87</td>\n",
       "      <td>0.77</td>\n",
       "    </tr>\n",
       "  </tbody>\n",
       "</table>\n",
       "</div>"
      ],
      "text/plain": [
       "  Model Name     MAE  MAPE     RMSE  R2_score\n",
       "0         xgb 672.08  0.24 1,263.87      0.77"
      ]
     },
     "execution_count": 815,
     "metadata": {},
     "output_type": "execute_result"
    }
   ],
   "source": [
    "# Criar um modelo XGBoost Regressor\n",
    "model_xgb = xgb.XGBRegressor(objective='reg:squarederror', n_estimators=100, max_depth=3, learning_rate=0.1)\n",
    "\n",
    "# Treinar o modelo\n",
    "model_xgb.fit(X_train, y_train)\n",
    "\n",
    "# Fazer previsões no conjunto de teste\n",
    "y_pred_xgb = model_xgb.predict(X_test)\n",
    "\n",
    "# performance\n",
    "xgb_performance = ml_error( 'xgb',  y_test  ,  y_pred_xgb  )\n",
    "xgb_performance"
   ]
  },
  {
   "cell_type": "markdown",
   "id": "a18a6995",
   "metadata": {
    "ExecuteTime": {
     "end_time": "2024-02-03T15:02:22.466913Z",
     "start_time": "2024-02-03T15:02:22.462520Z"
    }
   },
   "source": [
    "## 7.6.1 XGBOOST Cross Validation"
   ]
  },
  {
   "cell_type": "code",
   "execution_count": 816,
   "id": "1e9ebf05",
   "metadata": {
    "ExecuteTime": {
     "end_time": "2024-02-12T20:27:18.480451Z",
     "start_time": "2024-02-12T20:27:16.392396Z"
    }
   },
   "outputs": [],
   "source": [
    "# Realizar validação cruzada com 5 folds (ou o número que preferir) usando o R2 como métrica\n",
    "scores = cross_val_score(model_xgb, X_train, y_train, cv=5, scoring='r2')\n",
    "\n",
    "# Calcular a média dos coeficientes R2\n",
    "mean_r2 = scores.mean()\n",
    "\n",
    "# Imprimir o R2 médio\n",
    "result_xgb = pd.concat( [xgb_performance, pd.DataFrame( {'Cv Score' : [mean_r2]} ) ], axis = 1) "
   ]
  },
  {
   "cell_type": "markdown",
   "id": "7b328668",
   "metadata": {},
   "source": [
    "## 7.7 Resultados Modelos"
   ]
  },
  {
   "cell_type": "code",
   "execution_count": 817,
   "id": "080f6a7f",
   "metadata": {
    "ExecuteTime": {
     "end_time": "2024-02-12T20:27:24.455439Z",
     "start_time": "2024-02-12T20:27:24.441700Z"
    }
   },
   "outputs": [
    {
     "data": {
      "text/html": [
       "<div>\n",
       "<style scoped>\n",
       "    .dataframe tbody tr th:only-of-type {\n",
       "        vertical-align: middle;\n",
       "    }\n",
       "\n",
       "    .dataframe tbody tr th {\n",
       "        vertical-align: top;\n",
       "    }\n",
       "\n",
       "    .dataframe thead th {\n",
       "        text-align: right;\n",
       "    }\n",
       "</style>\n",
       "<table border=\"1\" class=\"dataframe\">\n",
       "  <thead>\n",
       "    <tr style=\"text-align: right;\">\n",
       "      <th></th>\n",
       "      <th>Model Name</th>\n",
       "      <th>MAE</th>\n",
       "      <th>MAPE</th>\n",
       "      <th>RMSE</th>\n",
       "      <th>R2_score</th>\n",
       "      <th>Cv Score</th>\n",
       "    </tr>\n",
       "  </thead>\n",
       "  <tbody>\n",
       "    <tr>\n",
       "      <th>0</th>\n",
       "      <td>Random Forest Regressor</td>\n",
       "      <td>462.57</td>\n",
       "      <td>0.17</td>\n",
       "      <td>890.69</td>\n",
       "      <td>0.89</td>\n",
       "      <td>0.67</td>\n",
       "    </tr>\n",
       "    <tr>\n",
       "      <th>0</th>\n",
       "      <td>lgbm</td>\n",
       "      <td>585.08</td>\n",
       "      <td>0.22</td>\n",
       "      <td>981.98</td>\n",
       "      <td>0.86</td>\n",
       "      <td>0.74</td>\n",
       "    </tr>\n",
       "    <tr>\n",
       "      <th>0</th>\n",
       "      <td>xgb</td>\n",
       "      <td>672.08</td>\n",
       "      <td>0.24</td>\n",
       "      <td>1,263.87</td>\n",
       "      <td>0.77</td>\n",
       "      <td>0.68</td>\n",
       "    </tr>\n",
       "    <tr>\n",
       "      <th>0</th>\n",
       "      <td>Lasso</td>\n",
       "      <td>911.13</td>\n",
       "      <td>0.35</td>\n",
       "      <td>1,670.72</td>\n",
       "      <td>0.60</td>\n",
       "      <td>0.48</td>\n",
       "    </tr>\n",
       "    <tr>\n",
       "      <th>0</th>\n",
       "      <td>Linear Regression</td>\n",
       "      <td>911.40</td>\n",
       "      <td>0.35</td>\n",
       "      <td>1,670.80</td>\n",
       "      <td>0.60</td>\n",
       "      <td>0.49</td>\n",
       "    </tr>\n",
       "  </tbody>\n",
       "</table>\n",
       "</div>"
      ],
      "text/plain": [
       "               Model Name     MAE  MAPE     RMSE  R2_score  Cv Score\n",
       "0  Random Forest Regressor 462.57  0.17   890.69      0.89      0.67\n",
       "0                     lgbm 585.08  0.22   981.98      0.86      0.74\n",
       "0                      xgb 672.08  0.24 1,263.87      0.77      0.68\n",
       "0                    Lasso 911.13  0.35 1,670.72      0.60      0.48\n",
       "0        Linear Regression 911.40  0.35 1,670.80      0.60      0.49"
      ]
     },
     "execution_count": 817,
     "metadata": {},
     "output_type": "execute_result"
    }
   ],
   "source": [
    "pd.concat( [lr_metrics_cv, lrr_result_cv, rf_result_cv , lgbm_cv , result_xgb] , axis = 0 ).sort_values( by = 'MAE'\n",
    " , ascending = True)"
   ]
  },
  {
   "cell_type": "markdown",
   "id": "defa1042",
   "metadata": {},
   "source": [
    "## 8.1 Criando a classe Idealista"
   ]
  },
  {
   "cell_type": "code",
   "execution_count": 903,
   "id": "22968dc6",
   "metadata": {
    "ExecuteTime": {
     "end_time": "2024-02-12T21:19:56.002214Z",
     "start_time": "2024-02-12T21:19:55.970375Z"
    }
   },
   "outputs": [],
   "source": [
    "class Idealista:\n",
    "    def __init__( self ):\n",
    "        \n",
    "        self.df_region = pd.read_csv( 'datasets/df_region.csv' )\n",
    "        self.home_path                    = r'C:\\Users\\oscar\\Documents\\repos\\api_houses_Lisbon\\encodings'\n",
    "\n",
    "        self.te_status                    = pickle.load(open(os.path.join(self.home_path, 'te_status.pkl'), 'rb'))\n",
    "        self.te_province                  = pickle.load(open(os.path.join(self.home_path,'te_province.pkl') , 'rb'))\n",
    "        self.te_property_type             = pickle.load(open(os.path.join(self.home_path,'te_property_type.pkl'), 'rb'))\n",
    "        self.te_municipality              = pickle.load(open(os.path.join(self.home_path,'te_municipality.pkl'), 'rb' ))\n",
    "        self.te_district                  = pickle.load(open(os.path.join(self.home_path,'te_district.pkl'),'rb'))\n",
    "        self.le_detailed_type             = pickle.load(open(os.path.join(self.home_path,'le_detailed_type.pkl'),'rb' ))\n",
    "        self.freq_encoding_address        = pickle.load(open(os.path.join(self.home_path,'freq_encoding_address.pkl'), 'rb' ))\n",
    "        \n",
    "    \n",
    "    \n",
    "    \n",
    "    def transform_data(self, df, colunas_irrelevantes ):\n",
    "\n",
    "        cols_old = df.columns.to_list()\n",
    "\n",
    "        # def função snake_case\n",
    "        snake_case = lambda x: inflection.underscore( x )\n",
    "\n",
    "        # defino as novas colunas\n",
    "        cols_new = list(map( snake_case, cols_old )) \n",
    "\n",
    "        # atribuo as novas colunas ao df\n",
    "        df.columns = cols_new\n",
    "\n",
    "        # removo as linhas em branco que possam ter vindo na extração\n",
    "        df = df.loc[~ df['property_code'].isna() , : ]\n",
    "\n",
    "        # removo duplicadas\n",
    "        df = df.drop_duplicates( subset= ['property_code'], keep = 'last' )\n",
    "\n",
    "        # preencho os vazios\n",
    "        df = fill_na( df )\n",
    "\n",
    "        # deleto as colunaas irrelevantes\n",
    "        df = delete_columns( df , colunas_irrelevantes )\n",
    "   \n",
    "        return df\n",
    "\n",
    "\n",
    "#=======================================================================================================================#\n",
    "\n",
    "    def feature_engineering(self, df , transform_data = False, merge_datasets = False   ):\n",
    "        \n",
    "        if transform_data == True and merge_datasets == False :\n",
    "            \n",
    "            # mes\n",
    "            df['datetime_scrapy'] = pd.to_datetime( df['datetime_scrapy'] )\n",
    "            df['month'] = df['datetime_scrapy'].dt.month \n",
    "\n",
    "            # ano\n",
    "            df['year'] = df['datetime_scrapy'].dt.year\n",
    "\n",
    "            # excluir a coluna datetime\n",
    "            df = df.drop( 'datetime_scrapy', axis = 1 )\n",
    "\n",
    "            print( 'Dados Transformados' )\n",
    "\n",
    "            return df\n",
    "        \n",
    "    \n",
    "        if merge_datasets == True and transform_data == False:\n",
    "        \n",
    "            # Df com a média de preço por município\n",
    "            df_municipality_mean_price = self.df_region.groupby('municipality')[['price']].mean().reset_index()\n",
    "\n",
    "            # alteração nome coluna\n",
    "            df_municipality_mean_price = df_municipality_mean_price.rename(columns={'price': 'municipality_mean_price'})\n",
    "\n",
    "            # exportar para csv\n",
    "            #d f2_municipality_mean_price.to_csv( 'datasets/municipality.csv' )\n",
    "\n",
    "            # acrescentando a coluna ao df2\n",
    "            df = pd.merge( df, df_municipality_mean_price, on = 'municipality' , how = 'left' )\n",
    "\n",
    "#======================================================================================================================#\n",
    "\n",
    "            # calculando a média por 'province'\n",
    "            df2_province_mean_price = self.df_region.groupby( 'province' )[['price']].mean().reset_index().rename( columns = { 'price': 'province_mean_price' } )\n",
    "\n",
    "            # exportando para csv\n",
    "            # df2_province_mean_price.to_csv( 'datasets/province.csv' )\n",
    "\n",
    "            # acrescentando a coluna ao df2\n",
    "            df = pd.merge( df, df2_province_mean_price , on = 'province' , how = 'left' )\n",
    "\n",
    "    #=======================================================================================================================#\n",
    "\n",
    "            # calculando média por district\n",
    "            df2_district_mean_price = self.df_region.groupby( 'district' )[['price']].median().reset_index().rename( columns = { 'price' : 'district_mean_price' } )\n",
    "\n",
    "            # exportando para csv \n",
    "            #df2_district_mean_price.to_csv( 'datasets/district.csv' )\n",
    "\n",
    "            # acrescentando a coluna ao df2\n",
    "            df = pd.merge( df , df2_district_mean_price , on = 'district', how = 'left' )\n",
    "\n",
    "            print( 'Datasets combinados com preços regioes' )\n",
    "\n",
    "            return df\n",
    "    \n",
    "        if transform_data == True and merge_datasets == True:\n",
    "\n",
    "            # mes\n",
    "            df['datetime_scrapy'] = pd.to_datetime( df['datetime_scrapy'] )\n",
    "            df['month'] = df['datetime_scrapy'].dt.month \n",
    "\n",
    "            # ano\n",
    "            df['year'] = df['datetime_scrapy'].dt.year\n",
    "\n",
    "            # excluir a coluna datetime\n",
    "            df = df.drop( 'datetime_scrapy', axis = 1 )\n",
    "\n",
    "            # Df com a média de preço por município\n",
    "            df_municipality_mean_price = self.df_region.groupby('municipality')[['price']].mean().reset_index()\n",
    "\n",
    "            # alteração nome coluna\n",
    "            df_municipality_mean_price = df_municipality_mean_price.rename(columns={'price': 'municipality_mean_price'})\n",
    "\n",
    "            # exportar para csv\n",
    "            #d f2_municipality_mean_price.to_csv( 'datasets/municipality.csv' )\n",
    "\n",
    "            # acrescentando a coluna ao df2\n",
    "            df = pd.merge( df, df_municipality_mean_price, on = 'municipality' , how = 'left' )\n",
    "\n",
    "    # ======================================================================================================================#\n",
    "\n",
    "            # calculando a média por 'province'\n",
    "            df2_province_mean_price = self.df_region.groupby( 'province' )[['price']].mean().reset_index().rename( columns = { 'price': 'province_mean_price' } )\n",
    "\n",
    "            # exportando para csv\n",
    "            # df2_province_mean_price.to_csv( 'datasets/province.csv' )\n",
    "\n",
    "            # acrescentando a coluna ao df2\n",
    "            df = pd.merge( df, df2_province_mean_price , on = 'province' , how = 'left' )\n",
    "\n",
    "    #=======================================================================================================================#\n",
    "\n",
    "            # calculando média por district\n",
    "            df2_district_mean_price = self.df_region.groupby( 'district' )[['price']].median().reset_index().rename( columns = { 'price' : 'district_mean_price' } )\n",
    "\n",
    "            # exportando para csv \n",
    "            #df2_district_mean_price.to_csv( 'datasets/district.csv' )\n",
    "\n",
    "            # acrescentando a coluna ao df2\n",
    "            df = pd.merge( df , df2_district_mean_price , on = 'district', how = 'left' )\n",
    "\n",
    "            print( 'datasets combinados e dados transformados' )\n",
    "        \n",
    "            return df\n",
    "        \n",
    "        else:\n",
    "\n",
    "            print( 'Nenhuma Transformação' )\n",
    "\n",
    "            return df\n",
    "            \n",
    "#=======================================================================================================================#\n",
    "    \n",
    "    def filter_variables(self, df, filter_variables = False):\n",
    "    \n",
    "        if filter_variables:\n",
    "\n",
    "            # Vou querer saber somente os preços na province de Lisboa\n",
    "            df = df.loc[ df['province'] == 'Lisboa' , :  ]\n",
    "\n",
    "            # vou querer somente as habitações que tenham de 0 a no máximo 4 quartos\n",
    "            df = df.loc[ df['rooms'].isin( [ 0,1,2,3,4 ] ) , : ]\n",
    "\n",
    "            print('Variavies filtradas')\n",
    "\n",
    "            return df\n",
    "\n",
    "        else:\n",
    "\n",
    "            print('Variavies não filtradas')\n",
    "\n",
    "            return df\n",
    "\n",
    "#=======================================================================================================================#\n",
    "\n",
    "    # função para remover outliers\n",
    "    def remove_outliers(self, df, coluna = None ,  keep_outliers = True ):\n",
    "\n",
    "        if keep_outliers:\n",
    "            print( 'Outliers mantidos' )\n",
    "            return df\n",
    "\n",
    "        else:\n",
    "            # variavel resposta sem outliers\n",
    "            df = remover_outliers( df4 , coluna )\n",
    "            print('Outliers removidos')\n",
    "            return df\n",
    "\n",
    "#=======================================================================================================================#\n",
    "    \n",
    "    def rescaling_data(self, df, rescale = False ):\n",
    "\n",
    "        if rescale:\n",
    "            rs = RobustScaler() # robusto com outliers\n",
    "            mms = pp.MinMaxScaler() # desvio padrão pequeno e quando não ha distribuição gaussiana\n",
    "\n",
    "    #         # num_photos\n",
    "    #         rs_num_photos = RobustScaler() \n",
    "    #         # num_photos\n",
    "    #         df['num_photos'] = rs_num_photos.fit_transform( df[['num_photos']].values )\n",
    "\n",
    "            # floor\n",
    "#             rs_floor = RobustScaler() \n",
    "#             # num_photos\n",
    "#             df['floor'] = rs_floor.fit_transform( df[['floor']].values )\n",
    "\n",
    "            # size\n",
    "            rs_size = RobustScaler() \n",
    "            # size\n",
    "            df['size'] = rs_size.fit_transform( df[['size']].values )\n",
    "\n",
    "            # rooms\n",
    "    #         mms_rooms = pp.MinMaxScaler() \n",
    "    #         # rooms\n",
    "    #         df['rooms'] = mms_rooms.fit_transform( df[['rooms']].values )\n",
    "\n",
    "            # bathrooms\n",
    "    #         rs_bathrooms = RobustScaler() \n",
    "    #         # bathrooms\n",
    "    #         df['bathrooms'] = rs_bathrooms.fit_transform( df[['bathrooms']].values )\n",
    "\n",
    "            # distance\n",
    "            rs_distance = RobustScaler()\n",
    "            # distance\n",
    "            df['distance'] = rs_distance.fit_transform( df[['distance']].values )\n",
    "\n",
    "\n",
    "\n",
    "            print('Rescaled')\n",
    "\n",
    "            return  df\n",
    "        else:\n",
    "            print('Not rescaled')\n",
    "\n",
    "            return df\n",
    "\n",
    "#=======================================================================================================================#\n",
    "\n",
    "    def encoding(self, df ):\n",
    "\n",
    "        # floor - substituo os andares com letras\n",
    "        df['floor'] = df['floor'].replace( ['bj','st','ss','en'], 0 )\n",
    "        # transformo em inteiros\n",
    "        df['floor'] = df['floor'].astype( 'int64' )\n",
    "\n",
    "        #property_type - label\n",
    "        df['property_type'] = df['property_type'].map( self.te_property_type  ).astype( 'float64' )\n",
    "\n",
    "        # address - label\n",
    "        df['address'] = df['address'].map( self.freq_encoding_address )\n",
    "\n",
    "        # province \n",
    "        df['province'] = df['province'].map( self.te_province ).astype( 'float64' )\n",
    "\n",
    "        # municipality - label\n",
    "        df['municipality'] = df['municipality'].map( self.te_municipality ).astype( 'float64' )\n",
    "\n",
    "        # municipality\n",
    "    #     freq_encoding_municipality = df['municipality'].value_counts(normalize=True)\n",
    "    #     df['municipality'] = df['municipality'].map( freq_encoding_municipality )\n",
    "\n",
    "\n",
    "        # district - label\n",
    "        df['district'] = df['district'].map( self.te_district ).astype( 'float64' )\n",
    "\n",
    "        # district\n",
    "    #     freq_encoding_district = df['district'].value_counts(normalize=True)\n",
    "    #     df['district'] = df['district'].map( freq_encoding_district )\n",
    "\n",
    "\n",
    "        # Show address\n",
    "        encoding = {True: 1 , False: 0}\n",
    "        df['show_address'] = df['show_address'].apply( lambda x : 1 if x == True else 0 )\n",
    "\n",
    "        # description\n",
    "        df['description'] = df['description'].apply( lambda x : len(x) )\n",
    "\n",
    "        # has_video\n",
    "        encoding = {True: 1 , False: 0}\n",
    "        df['has_video'] = df['has_video'].map( encoding )\n",
    "\n",
    "        # status\n",
    "        df['status'] = df['status'].map( self.te_status ).astype( 'float64' )\n",
    "\n",
    "        # label encoder status\n",
    "        #status_encoder = LabelEncoder()\n",
    "        #df['status'] = status_encoder.fit_transform( df['status'] )\n",
    "\n",
    "        # new_development\n",
    "        encoding = {True: 1 , False: 0}\n",
    "        df['new_development'] = df['new_development'].map( encoding )\n",
    "\n",
    "        # detailed type - label\n",
    "        df['detailed_type'] = df['detailed_type'].apply(lambda x: ast.literal_eval(x) )\n",
    "        df['detailed_type'] = df['detailed_type'].apply(lambda x: x['typology'] )\n",
    "        df['detailed_type'] = self.le_detailed_type.fit_transform( df['detailed_type'] )\n",
    "\n",
    "        # suggested text\n",
    "        df['suggested_texts'] = df['suggested_texts'].apply( lambda x : ast.literal_eval(x) )\n",
    "        df['suggested_texts'] = df['suggested_texts'].apply( lambda x : x['title'] )\n",
    "        df['suggested_texts'] = df['suggested_texts'].apply( lambda x : len(x) )\n",
    "\n",
    "        # hasplan\n",
    "        encoding = {True: 1 , False: 0}\n",
    "        df['has_plan'] = df['has_plan'].map( encoding )\n",
    "\n",
    "        # has3_d_tour\n",
    "        encoding = {True: 1 , False: 0}\n",
    "        df['has3_d_tour'] = df['has3_d_tour'].map( encoding )\n",
    "\n",
    "        # has360\n",
    "        encoding = {True: 1 , False: 0}\n",
    "        df['has360'] = df['has360'].map( encoding )\n",
    "\n",
    "        # has_staging\n",
    "        df['has_staging'] = df['has_staging'].apply( lambda x: 1 if x   else 0   )\n",
    "\n",
    "        # top_new_development\n",
    "        df['top_new_development'] = df['top_new_development'].apply( lambda x: 1 if x  else 0 )\n",
    "\n",
    "        #parking_space\n",
    "        encoding = {True: 1 , False: 0}\n",
    "        df['parking_space'] = df['parking_space'].apply(lambda x: ast.literal_eval(x) if x != 0 else x ) \n",
    "        df['parking_space'] = df['parking_space'].apply(lambda x: x['hasParkingSpace'] if x != 0 else x ) \n",
    "        df['parking_space'] = df['parking_space'].map( encoding )\n",
    "\n",
    "\n",
    "        return df\n",
    "    \n",
    "    def predicoes(self, df , model ):\n",
    "        \n",
    "        # drop price\n",
    "        X = df.drop( 'price', axis = 1 )\n",
    "        \n",
    "        y_hat_final = model.predict( X )\n",
    "        \n",
    "        df['pred'] = y_hat_final\n",
    "        \n",
    "        return df\n",
    "        \n"
   ]
  },
  {
   "cell_type": "markdown",
   "id": "549acf1e",
   "metadata": {
    "ExecuteTime": {
     "end_time": "2024-02-04T16:13:37.736510Z",
     "start_time": "2024-02-04T16:13:37.733647Z"
    }
   },
   "source": [
    "## 8.1.2 Feature Importances"
   ]
  },
  {
   "cell_type": "code",
   "execution_count": 837,
   "id": "7ee14585",
   "metadata": {
    "ExecuteTime": {
     "end_time": "2024-02-12T20:42:43.928597Z",
     "start_time": "2024-02-12T20:42:43.533391Z"
    },
    "scrolled": true
   },
   "outputs": [
    {
     "data": {
      "image/png": "[encoded data removed]",
      "text/plain": [
       "<Figure size 640x480 with 1 Axes>"
      ]
     },
     "metadata": {},
     "output_type": "display_data"
    }
   ],
   "source": [
    "# Obter importâncias das features\n",
    "importances = rf.feature_importances_\n",
    "\n",
    "# Converter as importâncias em um DataFrame para facilitar a visualização\n",
    "features_df = pd.DataFrame({\n",
    "    'Feature': X_train.columns,\n",
    "    'Importance': importances\n",
    "})\n",
    "\n",
    "# Ordenar as features pela importância\n",
    "features_df = features_df.sort_values(by='Importance', ascending=False).reset_index(drop=True)\n",
    "\n",
    "ax = sns.barplot(data = features_df, x = 'Feature', y = 'Importance')\n",
    "\n",
    "# Rotacionando os rótulos do eixo x\n",
    "ax.set_xticklabels(ax.get_xticklabels(), rotation=90);"
   ]
  },
  {
   "cell_type": "code",
   "execution_count": 832,
   "id": "34bc5026",
   "metadata": {
    "ExecuteTime": {
     "end_time": "2024-02-12T20:40:47.878682Z",
     "start_time": "2024-02-12T20:40:47.869868Z"
    }
   },
   "outputs": [
    {
     "data": {
      "text/html": [
       "<div>\n",
       "<style scoped>\n",
       "    .dataframe tbody tr th:only-of-type {\n",
       "        vertical-align: middle;\n",
       "    }\n",
       "\n",
       "    .dataframe tbody tr th {\n",
       "        vertical-align: top;\n",
       "    }\n",
       "\n",
       "    .dataframe thead th {\n",
       "        text-align: right;\n",
       "    }\n",
       "</style>\n",
       "<table border=\"1\" class=\"dataframe\">\n",
       "  <thead>\n",
       "    <tr style=\"text-align: right;\">\n",
       "      <th></th>\n",
       "      <th>Feature</th>\n",
       "      <th>Importance</th>\n",
       "    </tr>\n",
       "  </thead>\n",
       "  <tbody>\n",
       "    <tr>\n",
       "      <th>0</th>\n",
       "      <td>bathrooms</td>\n",
       "      <td>0.34</td>\n",
       "    </tr>\n",
       "    <tr>\n",
       "      <th>1</th>\n",
       "      <td>size</td>\n",
       "      <td>0.29</td>\n",
       "    </tr>\n",
       "    <tr>\n",
       "      <th>2</th>\n",
       "      <td>district</td>\n",
       "      <td>0.06</td>\n",
       "    </tr>\n",
       "    <tr>\n",
       "      <th>3</th>\n",
       "      <td>description</td>\n",
       "      <td>0.05</td>\n",
       "    </tr>\n",
       "    <tr>\n",
       "      <th>4</th>\n",
       "      <td>longitude</td>\n",
       "      <td>0.04</td>\n",
       "    </tr>\n",
       "    <tr>\n",
       "      <th>5</th>\n",
       "      <td>distance</td>\n",
       "      <td>0.04</td>\n",
       "    </tr>\n",
       "    <tr>\n",
       "      <th>6</th>\n",
       "      <td>latitude</td>\n",
       "      <td>0.03</td>\n",
       "    </tr>\n",
       "    <tr>\n",
       "      <th>7</th>\n",
       "      <td>municipality</td>\n",
       "      <td>0.03</td>\n",
       "    </tr>\n",
       "    <tr>\n",
       "      <th>8</th>\n",
       "      <td>num_photos</td>\n",
       "      <td>0.02</td>\n",
       "    </tr>\n",
       "    <tr>\n",
       "      <th>9</th>\n",
       "      <td>address</td>\n",
       "      <td>0.02</td>\n",
       "    </tr>\n",
       "    <tr>\n",
       "      <th>10</th>\n",
       "      <td>pagina</td>\n",
       "      <td>0.02</td>\n",
       "    </tr>\n",
       "    <tr>\n",
       "      <th>11</th>\n",
       "      <td>suggested_texts</td>\n",
       "      <td>0.01</td>\n",
       "    </tr>\n",
       "    <tr>\n",
       "      <th>12</th>\n",
       "      <td>rooms</td>\n",
       "      <td>0.01</td>\n",
       "    </tr>\n",
       "    <tr>\n",
       "      <th>13</th>\n",
       "      <td>floor</td>\n",
       "      <td>0.01</td>\n",
       "    </tr>\n",
       "    <tr>\n",
       "      <th>14</th>\n",
       "      <td>month</td>\n",
       "      <td>0.01</td>\n",
       "    </tr>\n",
       "    <tr>\n",
       "      <th>15</th>\n",
       "      <td>parking_space</td>\n",
       "      <td>0.00</td>\n",
       "    </tr>\n",
       "    <tr>\n",
       "      <th>16</th>\n",
       "      <td>show_address</td>\n",
       "      <td>0.00</td>\n",
       "    </tr>\n",
       "    <tr>\n",
       "      <th>17</th>\n",
       "      <td>has_plan</td>\n",
       "      <td>0.00</td>\n",
       "    </tr>\n",
       "    <tr>\n",
       "      <th>18</th>\n",
       "      <td>property_type</td>\n",
       "      <td>0.00</td>\n",
       "    </tr>\n",
       "    <tr>\n",
       "      <th>19</th>\n",
       "      <td>has_video</td>\n",
       "      <td>0.00</td>\n",
       "    </tr>\n",
       "    <tr>\n",
       "      <th>20</th>\n",
       "      <td>year</td>\n",
       "      <td>0.00</td>\n",
       "    </tr>\n",
       "    <tr>\n",
       "      <th>21</th>\n",
       "      <td>has_lift</td>\n",
       "      <td>0.00</td>\n",
       "    </tr>\n",
       "    <tr>\n",
       "      <th>22</th>\n",
       "      <td>detailed_type</td>\n",
       "      <td>0.00</td>\n",
       "    </tr>\n",
       "    <tr>\n",
       "      <th>23</th>\n",
       "      <td>has3_d_tour</td>\n",
       "      <td>0.00</td>\n",
       "    </tr>\n",
       "    <tr>\n",
       "      <th>24</th>\n",
       "      <td>has360</td>\n",
       "      <td>0.00</td>\n",
       "    </tr>\n",
       "    <tr>\n",
       "      <th>25</th>\n",
       "      <td>status</td>\n",
       "      <td>0.00</td>\n",
       "    </tr>\n",
       "    <tr>\n",
       "      <th>26</th>\n",
       "      <td>province</td>\n",
       "      <td>0.00</td>\n",
       "    </tr>\n",
       "    <tr>\n",
       "      <th>27</th>\n",
       "      <td>has_staging</td>\n",
       "      <td>0.00</td>\n",
       "    </tr>\n",
       "    <tr>\n",
       "      <th>28</th>\n",
       "      <td>thumbnail</td>\n",
       "      <td>0.00</td>\n",
       "    </tr>\n",
       "    <tr>\n",
       "      <th>29</th>\n",
       "      <td>new_development</td>\n",
       "      <td>0.00</td>\n",
       "    </tr>\n",
       "    <tr>\n",
       "      <th>30</th>\n",
       "      <td>top_new_development</td>\n",
       "      <td>0.00</td>\n",
       "    </tr>\n",
       "  </tbody>\n",
       "</table>\n",
       "</div>"
      ],
      "text/plain": [
       "                Feature  Importance\n",
       "0             bathrooms        0.34\n",
       "1                  size        0.29\n",
       "2              district        0.06\n",
       "3           description        0.05\n",
       "4             longitude        0.04\n",
       "5              distance        0.04\n",
       "6              latitude        0.03\n",
       "7          municipality        0.03\n",
       "8            num_photos        0.02\n",
       "9               address        0.02\n",
       "10               pagina        0.02\n",
       "11      suggested_texts        0.01\n",
       "12                rooms        0.01\n",
       "13                floor        0.01\n",
       "14                month        0.01\n",
       "15        parking_space        0.00\n",
       "16         show_address        0.00\n",
       "17             has_plan        0.00\n",
       "18        property_type        0.00\n",
       "19            has_video        0.00\n",
       "20                 year        0.00\n",
       "21             has_lift        0.00\n",
       "22        detailed_type        0.00\n",
       "23          has3_d_tour        0.00\n",
       "24               has360        0.00\n",
       "25               status        0.00\n",
       "26             province        0.00\n",
       "27          has_staging        0.00\n",
       "28            thumbnail        0.00\n",
       "29      new_development        0.00\n",
       "30  top_new_development        0.00"
      ]
     },
     "execution_count": 832,
     "metadata": {},
     "output_type": "execute_result"
    }
   ],
   "source": [
    "features_df"
   ]
  },
  {
   "cell_type": "markdown",
   "id": "23696c69",
   "metadata": {},
   "source": [
    "## 8.1.3 Test com Dados Inseridos Manualmente"
   ]
  },
  {
   "cell_type": "code",
   "execution_count": 231,
   "id": "42ecfa0f",
   "metadata": {
    "ExecuteTime": {
     "end_time": "2024-02-05T12:13:25.149523Z",
     "start_time": "2024-02-05T12:13:25.143418Z"
    }
   },
   "outputs": [
    {
     "data": {
      "text/plain": [
       "property_code                                                   32,747,235.00\n",
       "thumbnail                   https://img3.idealista.pt/blur/WEB_LISTING/0/i...\n",
       "num_photos                                                              24.00\n",
       "floor                                                                     NaN\n",
       "price                                                                1,500.00\n",
       "property_type                                                            flat\n",
       "operation                                                                rent\n",
       "size                                                                   107.00\n",
       "exterior                                                                False\n",
       "rooms                                                                    2.00\n",
       "bathrooms                                                                2.00\n",
       "address                                                   Moscavide e Portela\n",
       "province                                                               Lisboa\n",
       "municipality                                              Moscavide e Portela\n",
       "district                                                                  NaN\n",
       "country                                                                    pt\n",
       "latitude                                                                38.78\n",
       "longitude                                                               -9.12\n",
       "show_address                                                            False\n",
       "url                                 https://www.idealista.pt/imovel/32747235/\n",
       "distance                                                             6,984.00\n",
       "description                 Localizado na Portela mais concretamente no em...\n",
       "has_video                                                               False\n",
       "status                                                                   good\n",
       "new_development                                                         False\n",
       "has_lift                                                                 0.00\n",
       "price_by_area                                                           14.00\n",
       "detailed_type                                            {'typology': 'flat'}\n",
       "suggested_texts             {'subtitle': 'Moscavide e Portela, Loures', 't...\n",
       "has_plan                                                                 True\n",
       "has3_d_tour                                                             False\n",
       "has360                                                                  False\n",
       "has_staging                                                             False\n",
       "top_new_development                                                     False\n",
       "super_top_highlight                                                     False\n",
       "parking_space                                                             NaN\n",
       "external_reference                                                C0223-06078\n",
       "labels                                                                    NaN\n",
       "neighborhood                                                              NaN\n",
       "pagina                                                                  11.00\n",
       "datetime_scrapy                                           2023-07-06 10:18:37\n",
       "new_development_finished                                                  NaN\n",
       "highlight                                                                 NaN\n",
       "Name: 16640, dtype: object"
      ]
     },
     "execution_count": 231,
     "metadata": {},
     "output_type": "execute_result"
    }
   ],
   "source": [
    "# vejo a estrutura de uma linha\n",
    "df_teste.loc[ 16640 ]"
   ]
  },
  {
   "cell_type": "code",
   "execution_count": 969,
   "id": "d7a7b822",
   "metadata": {
    "ExecuteTime": {
     "end_time": "2024-02-12T21:40:11.416272Z",
     "start_time": "2024-02-12T21:40:11.406896Z"
    }
   },
   "outputs": [],
   "source": [
    "# teste com um dados de um imóvel conhecido\n",
    "test = {\n",
    "'property_code': 0,\n",
    "'thumbnail': 0,\n",
    "'num_photos': 5,\n",
    "'floor': 1,\n",
    "'price' : 0,\n",
    "'property_type': 'flat',\n",
    "'operation': 'rent',\n",
    "'size': 30,\n",
    "'exterior': True,\n",
    "'rooms': 1 ,\n",
    "'bathrooms':1,\n",
    "'address' : 'Moscavide e Portela',\n",
    "'province': 'Lisboa',\n",
    "'municipality': 'Moscavide e Portela',\n",
    "'district' : 0,\n",
    "'country': 'PT',\n",
    "'latitude' : 38.775101412019715,\n",
    "'longitude': -9.104655113802375,\n",
    "'show_address': True,\n",
    "'url': 'www.imoveisportugal.com',\n",
    "'distance': 10000,\n",
    "'description' : 'Apartamento localizado na rua 1º de Maio. T1 remodelado, em frente ao metro, próximo a supermercados e ao parque das nações. 3 cauções adiantadas ou 2 fiadores',\n",
    "'has_video' : False,\n",
    "'status' : 'good',\n",
    "'new_development' : False,\n",
    "'has_lift': 1,\n",
    "'price_by_area' : 0,\n",
    "'detailed_type': str({'typology': 'flat'}),\n",
    "'suggested_texts' : str({'subtitle': 'Moscavide e Portela, Loures', 'title': 'Apartamento'}),\n",
    "'has_plan' : True,\n",
    "'has3_d_tour': False,\n",
    "'has360' : False,\n",
    "'has_staging' : False,\n",
    "'top_new_development' : False,\n",
    "'super_top_highlight' : False,\n",
    "'parking_space' : '0',\n",
    "'external_reference':0,\n",
    "'labels' : 0,                                                                 \n",
    "'neighborhood': 0,                                                         \n",
    "'pagina' : 0,                                                                  \n",
    "'datetime_scrapy':  pd.to_datetime('2024-02-05 10:18:37'),                                         \n",
    "'new_development_finished': 0,                                                  \n",
    "'highlight' : 0 \n",
    "\n",
    "}\n",
    "\n",
    "df_pred_test = pd.DataFrame( [test] )\n"
   ]
  },
  {
   "cell_type": "code",
   "execution_count": 970,
   "id": "f944a374",
   "metadata": {
    "ExecuteTime": {
     "end_time": "2024-02-12T21:40:14.979854Z",
     "start_time": "2024-02-12T21:40:14.974792Z"
    }
   },
   "outputs": [],
   "source": [
    "def test_prediction( df , model ):\n",
    "    # instancia a classe Idealista\n",
    "    idealista_1 = Idealista()\n",
    "\n",
    "    # limpando os dados\n",
    "    df1_val = idealista_1.transform_data( df , colunas_irrelevantes )\n",
    "\n",
    "    # feature engineering\n",
    "    df2_val = idealista_1.feature_engineering( df1_val , transform_data = True  )\n",
    "\n",
    "    # filtrar variáveis\n",
    "    df3_val = idealista_1.filter_variables( df2_val )\n",
    "\n",
    "    # reomver outliers\n",
    "    df4_val = idealista_1.remove_outliers( df3_val )\n",
    "\n",
    "    # reescalar dados\n",
    "    df5_val = idealista_1.rescaling_data( df4_val )\n",
    "\n",
    "    # encodar dados\n",
    "    df6_val = idealista_1.encoding( df5_val )\n",
    "\n",
    "    df6_val = df6_val.fillna( 0 )\n",
    "    \n",
    "    # predicoes\n",
    "    df7_val = idealista_1.predicoes( df6_val ,model )\n",
    "    \n",
    "    return df7_val"
   ]
  },
  {
   "cell_type": "code",
   "execution_count": 971,
   "id": "e120f5ec",
   "metadata": {
    "ExecuteTime": {
     "end_time": "2024-02-12T21:40:17.364393Z",
     "start_time": "2024-02-12T21:40:16.998790Z"
    }
   },
   "outputs": [
    {
     "name": "stdout",
     "output_type": "stream",
     "text": [
      "Dados Transformados\n",
      "Variavies não filtradas\n",
      "Outliers mantidos\n",
      "Not rescaled\n",
      "thumbnail              0\n",
      "num_photos             0\n",
      "floor                  0\n",
      "price                  0\n",
      "property_type          0\n",
      "size                   0\n",
      "rooms                  0\n",
      "bathrooms              0\n",
      "address                0\n",
      "province               0\n",
      "municipality           0\n",
      "district               0\n",
      "latitude               0\n",
      "longitude              0\n",
      "show_address           0\n",
      "distance               0\n",
      "description            0\n",
      "has_video              0\n",
      "status                 0\n",
      "new_development        0\n",
      "has_lift               0\n",
      "detailed_type          0\n",
      "suggested_texts        0\n",
      "has_plan               0\n",
      "has3_d_tour            0\n",
      "has360                 0\n",
      "has_staging            0\n",
      "top_new_development    0\n",
      "parking_space          0\n",
      "pagina                 0\n",
      "month                  0\n",
      "year                   0\n",
      "pred                   0\n",
      "dtype: int64\n"
     ]
    },
    {
     "name": "stderr",
     "output_type": "stream",
     "text": [
      "C:\\Users\\oscar\\AppData\\Local\\Temp\\ipykernel_5096\\2764531685.py:3: DeprecationWarning: In a future version, `df.iloc[:, i] = newvals` will attempt to set the values inplace instead of always setting a new array. To retain the old behavior, use either `df[df.columns[i]] = newvals` or, if columns are non-unique, `df.isetitem(i, newvals)`\n",
      "  df.loc[:,'thumbnail'] = np.where( df['thumbnail'].isna(), 0 , 1 )\n"
     ]
    },
    {
     "data": {
      "text/html": [
       "<div>\n",
       "<style scoped>\n",
       "    .dataframe tbody tr th:only-of-type {\n",
       "        vertical-align: middle;\n",
       "    }\n",
       "\n",
       "    .dataframe tbody tr th {\n",
       "        vertical-align: top;\n",
       "    }\n",
       "\n",
       "    .dataframe thead th {\n",
       "        text-align: right;\n",
       "    }\n",
       "</style>\n",
       "<table border=\"1\" class=\"dataframe\">\n",
       "  <thead>\n",
       "    <tr style=\"text-align: right;\">\n",
       "      <th></th>\n",
       "      <th>thumbnail</th>\n",
       "      <th>num_photos</th>\n",
       "      <th>floor</th>\n",
       "      <th>price</th>\n",
       "      <th>property_type</th>\n",
       "      <th>size</th>\n",
       "      <th>rooms</th>\n",
       "      <th>bathrooms</th>\n",
       "      <th>address</th>\n",
       "      <th>province</th>\n",
       "      <th>...</th>\n",
       "      <th>has_plan</th>\n",
       "      <th>has3_d_tour</th>\n",
       "      <th>has360</th>\n",
       "      <th>has_staging</th>\n",
       "      <th>top_new_development</th>\n",
       "      <th>parking_space</th>\n",
       "      <th>pagina</th>\n",
       "      <th>month</th>\n",
       "      <th>year</th>\n",
       "      <th>pred</th>\n",
       "    </tr>\n",
       "  </thead>\n",
       "  <tbody>\n",
       "    <tr>\n",
       "      <th>0</th>\n",
       "      <td>1</td>\n",
       "      <td>5</td>\n",
       "      <td>1</td>\n",
       "      <td>0</td>\n",
       "      <td>2,320.74</td>\n",
       "      <td>30</td>\n",
       "      <td>1</td>\n",
       "      <td>1</td>\n",
       "      <td>0.00</td>\n",
       "      <td>2,920.26</td>\n",
       "      <td>...</td>\n",
       "      <td>1</td>\n",
       "      <td>0</td>\n",
       "      <td>0</td>\n",
       "      <td>0</td>\n",
       "      <td>0</td>\n",
       "      <td>0.00</td>\n",
       "      <td>0</td>\n",
       "      <td>2</td>\n",
       "      <td>2024</td>\n",
       "      <td>3,051.50</td>\n",
       "    </tr>\n",
       "  </tbody>\n",
       "</table>\n",
       "<p>1 rows × 33 columns</p>\n",
       "</div>"
      ],
      "text/plain": [
       "   thumbnail  num_photos  floor  price  property_type  size  rooms  bathrooms  \\\n",
       "0          1           5      1      0       2,320.74    30      1          1   \n",
       "\n",
       "   address  province  ...  has_plan  has3_d_tour  has360  has_staging  \\\n",
       "0     0.00  2,920.26  ...         1            0       0            0   \n",
       "\n",
       "   top_new_development  parking_space  pagina  month  year     pred  \n",
       "0                    0           0.00       0      2  2024 3,051.50  \n",
       "\n",
       "[1 rows x 33 columns]"
      ]
     },
     "execution_count": 971,
     "metadata": {},
     "output_type": "execute_result"
    }
   ],
   "source": [
    "\n",
    "a = test_prediction( df_pred_test , rf )\n",
    "print(a.isnull().sum())\n",
    "a"
   ]
  },
  {
   "cell_type": "code",
   "execution_count": 967,
   "id": "c1f0cfb5",
   "metadata": {
    "ExecuteTime": {
     "end_time": "2024-02-12T21:39:26.357118Z",
     "start_time": "2024-02-12T21:39:25.926986Z"
    },
    "scrolled": true
   },
   "outputs": [
    {
     "data": {
      "image/png": "[encoded data removed]",
      "text/plain": [
       "<Figure size 640x480 with 1 Axes>"
      ]
     },
     "metadata": {},
     "output_type": "display_data"
    }
   ],
   "source": [
    "# Obter importâncias das features\n",
    "importances = rf.feature_importances_\n",
    "\n",
    "# Converter as importâncias em um DataFrame para facilitar a visualização\n",
    "features_df = pd.DataFrame({\n",
    "    'Feature': a.drop(['price','pred'], axis = 1).columns,\n",
    "    'Importance': importances\n",
    "})\n",
    "\n",
    "# Ordenar as features pela importância\n",
    "features_df = features_df.sort_values(by='Importance', ascending=False).reset_index(drop=True)\n",
    "\n",
    "ax = sns.barplot(data = features_df, x = 'Feature', y = 'Importance')\n",
    "\n",
    "# Rotacionando os rótulos do eixo x\n",
    "ax.set_xticklabels(ax.get_xticklabels(), rotation=90);"
   ]
  },
  {
   "cell_type": "code",
   "execution_count": 966,
   "id": "1d462051",
   "metadata": {
    "ExecuteTime": {
     "end_time": "2024-02-12T21:39:04.619623Z",
     "start_time": "2024-02-12T21:39:04.614406Z"
    }
   },
   "outputs": [
    {
     "data": {
      "text/plain": [
       "43"
      ]
     },
     "execution_count": 966,
     "metadata": {},
     "output_type": "execute_result"
    }
   ],
   "source": [
    "len(df_pred_test.columns)"
   ]
  }
 ],
 "metadata": {
  "kernelspec": {
   "display_name": "prices_houses_idealista",
   "language": "python",
   "name": "prices_houses_idealista"
  },
  "language_info": {
   "codemirror_mode": {
    "name": "ipython",
    "version": 3
   },
   "file_extension": ".py",
   "mimetype": "text/x-python",
   "name": "python",
   "nbconvert_exporter": "python",
   "pygments_lexer": "ipython3",
   "version": "3.11.0"
  }
 },
 "nbformat": 4,
 "nbformat_minor": 5
}

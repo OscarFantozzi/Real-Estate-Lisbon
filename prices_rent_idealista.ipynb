{
 "cells": [
  {
   "cell_type": "markdown",
   "id": "851311fc",
   "metadata": {},
   "source": [
    "# 0.0. IMPORTS"
   ]
  },
  {
   "cell_type": "code",
   "execution_count": 1,
   "id": "72c4dcf9",
   "metadata": {
    "ExecuteTime": {
     "end_time": "2024-02-05T10:26:48.544436Z",
     "start_time": "2024-02-05T10:26:42.251541Z"
    }
   },
   "outputs": [],
   "source": [
    "import pandas as pd\n",
    "import inflection\n",
    "import math\n",
    "import numpy as np\n",
    "import seaborn as sns\n",
    "import pathlib\n",
    "import seaborn as sns\n",
    "import ast\n",
    "from scipy.stats import chi2_contingency\n",
    "from category_encoders import TargetEncoder\n",
    "import lightgbm as lgb\n",
    "import xgboost as xgb\n",
    "\n",
    "\n",
    "\n",
    "\n",
    "from geopy.geocoders          import Nominatim\n",
    "from sqlalchemy               import create_engine, text\n",
    "from matplotlib               import pyplot as plt\n",
    "from sklearn.preprocessing    import RobustScaler, MinMaxScaler, LabelEncoder\n",
    "from boruta                   import BorutaPy\n",
    "from sklearn.ensemble         import RandomForestRegressor\n",
    "from sklearn.model_selection  import train_test_split\n",
    "from sklearn.linear_model     import LinearRegression,  Lasso\n",
    "from sklearn.metrics          import mean_absolute_error, mean_absolute_percentage_error, mean_squared_error,r2_score\n",
    "from sklearn.model_selection  import cross_val_score\n",
    "from sklearn.preprocessing    import LabelEncoder\n",
    "from sklearn.model_selection  import KFold"
   ]
  },
  {
   "cell_type": "markdown",
   "id": "7a896954",
   "metadata": {},
   "source": [
    "## 0.1.0 Helper Functions"
   ]
  },
  {
   "cell_type": "code",
   "execution_count": 2,
   "id": "55ba1cff",
   "metadata": {
    "ExecuteTime": {
     "end_time": "2024-02-05T10:26:48.562716Z",
     "start_time": "2024-02-05T10:26:48.546446Z"
    }
   },
   "outputs": [],
   "source": [
    "# função para consultar a api passando as coordenadas\n",
    "def find_mun( lat,long ):\n",
    "    \n",
    "    geolocator = Nominatim(user_agent=\"Oscar\")\n",
    "    \n",
    "    lat = str( lat )\n",
    "    \n",
    "    long = str( long )\n",
    "    \n",
    "    coord = lat + ',' + long\n",
    "\n",
    "    location = geolocator.reverse( coord  )\n",
    "    \n",
    "    if 'city_district' in location.raw['address']:\n",
    "        \n",
    "        return location.raw['address']['city_district']\n",
    "        \n",
    "    if 'suburb' in location.raw['address']:\n",
    "            \n",
    "        return location.raw['address']['suburb']\n",
    "            \n",
    "    if 'county' in location.raw['address']:\n",
    "            \n",
    "        return location.raw['address']['county']\n",
    "        \n",
    "    else:\n",
    "        \n",
    "        return 'not found'\n",
    "\n",
    "  \n",
    "def stats( df , excepto = [] ):\n",
    "    # separo as feautures numéricas\n",
    "    if excepto != \"\":\n",
    "    \n",
    "        num_attributes = df.select_dtypes( include = ['int64','float64'] )\n",
    "        \n",
    "        num_attributes = num_attributes.drop( excepto , axis = 1 ) \n",
    "        \n",
    "    else:\n",
    "        \n",
    "        num_attributes = df.select_dtypes( include = ['int64','float64'] )\n",
    "    # separo as features categoricas\n",
    "    num_categorical = df.select_dtypes( exclude = ['int64','float64','datetime64[ns]'] )\n",
    "\n",
    "\n",
    "    # medidas de tendencia central - media e mediana\n",
    "    ct1 = pd.DataFrame( num_attributes.apply( np.mean ) ).T # media\n",
    "\n",
    "    ct2 = pd.DataFrame( num_attributes.apply( np.median ) ).T # mediana\n",
    "\n",
    "    # dispersao - std, min , max , range, skew, kurtosis\n",
    "    d1 = pd.DataFrame( num_attributes.apply( np.std ) ).T # std\n",
    "    d2 = pd.DataFrame( num_attributes.apply( np.min ) ).T # minimo\n",
    "    d3 = pd.DataFrame( num_attributes.apply( np.max ) ).T # maximo\n",
    "    d4 = pd.DataFrame( num_attributes.apply( lambda x: x.max() - x.min() ) ).T # range\n",
    "    d5 = pd.DataFrame( num_attributes.apply( lambda x: x.skew() )).T # skew\n",
    "    d6 = pd.DataFrame( num_attributes.apply( lambda x : x.kurtosis() ) ).T # kurtosis\n",
    "\n",
    "    # concatenate - min , max , range,  media, median, std, skew , kurtosis\n",
    "    m = pd.concat( [ d2 , d3, d4 , ct1 , ct2 , d1,  d5 , d6 ] ).T.reset_index()\n",
    "    m.columns = [ 'features', 'min', 'max', 'range', 'mean', 'median', 'std', 'skew', 'kurtosis' ]\n",
    "    pd.set_option( 'display.float_format', '{:,.2f}'.format )\n",
    "    return m\n",
    "\n",
    "def ml_error( model_name, y , y_hat):\n",
    "    mae =  mean_absolute_error( y , y_hat )\n",
    "    mape = mean_absolute_percentage_error( y , y_hat )\n",
    "    rmse = np.sqrt( mean_squared_error( y , y_hat ) )\n",
    "    r2 =   r2_score(y, y_hat)\n",
    "    df = pd.DataFrame( {'Model Name ' :  model_name,\n",
    "                        'MAE' : mae ,\n",
    "                        'MAPE' : mape,\n",
    "                        'RMSE' : rmse,\n",
    "                        'R2_score' : r2  } ,index = [0] )\n",
    "    \n",
    "    return df\n",
    "\n",
    "def remover_outliers( df, coluna ):\n",
    "    \n",
    "    linhas_iniciais = df.shape[0] \n",
    "    \n",
    "    \n",
    "    d1 = df[coluna].quantile(0.25)\n",
    "    d3 = df[coluna].quantile(0.75)\n",
    "\n",
    "    lim_superior = d3 + 1.5*( d3 - d1  )\n",
    "\n",
    "    lim_inferior = d1 - 1.5 * ( d3 - d1 )\n",
    "    \n",
    "    \n",
    "    df = df.loc[ (df[coluna] >= lim_inferior) & (df[coluna] <= lim_superior) , :  ]\n",
    "    \n",
    "    linhas_finais = df.shape[0]\n",
    "    \n",
    "    \n",
    "    print('Foram removidas {} linhas'.format( linhas_iniciais - linhas_finais ) )\n",
    "          \n",
    "    return df\n",
    "\n",
    "def cramer_v( x, y ):\n",
    "    cm = pd.crosstab( x , y ).values\n",
    "\n",
    "    n = cm.sum()\n",
    "\n",
    "    r,k = cm.shape\n",
    "\n",
    "    chi2 = chi2_contingency( cm )[0]\n",
    "    chi2corr = max( 0 , chi2 - (k-1) * (r-1) / (n-1) ) # chi2 corrigido\n",
    "    kcorr = k - (k-1)**2 / (n-1) # k corrigido\n",
    "    rcorr = r - (k-1)**2 / (n-1) # r corrigido\n",
    "    \n",
    "    v = np.sqrt( ( chi2corr/n ) / ( min ( kcorr-1 , rcorr-1 ) )  )\n",
    "    \n",
    "    return v"
   ]
  },
  {
   "cell_type": "markdown",
   "id": "ba54ba82",
   "metadata": {},
   "source": [
    "## 0.2.0. Loading Data"
   ]
  },
  {
   "cell_type": "code",
   "execution_count": 3,
   "id": "d149e9b0",
   "metadata": {
    "ExecuteTime": {
     "end_time": "2024-02-05T10:26:58.496781Z",
     "start_time": "2024-02-05T10:26:48.564713Z"
    }
   },
   "outputs": [
    {
     "name": "stdout",
     "output_type": "stream",
     "text": [
      "extracao_12_4_2023.xlsx\n",
      "extracao_1_1_2023.xlsx\n",
      "extracao_1_9_2023.xlsx\n",
      "extracao_26_1_2024.xlsx\n",
      "extracao_2_2_2023.xlsx\n",
      "extracao_2_6_2023.xlsx\n",
      "extracao_3_3_2023.xlsx\n",
      "extracao_6_7_2023.xlsx\n"
     ]
    }
   ],
   "source": [
    "# caminho\n",
    "caminho = pathlib.Path('data')\n",
    "\n",
    "df = []\n",
    "\n",
    "for arquivo in caminho.iterdir():\n",
    "    print(arquivo.name)\n",
    "    \n",
    "    # ler o arquivo\n",
    "    df_read = pd.read_excel( arquivo )\n",
    "    \n",
    "    # apender o df\n",
    "    df.append(df_read)\n",
    "\n",
    "# concatena os df's\n",
    "df_raw = pd.concat( df )\n",
    "\n",
    "df_raw = df_raw[['propertyCode', 'thumbnail', 'numPhotos', 'floor', 'price',\n",
    "       'propertyType', 'operation', 'size', 'exterior', 'rooms', 'bathrooms',\n",
    "       'address', 'province', 'municipality', 'district', 'country',\n",
    "       'latitude', 'longitude', 'showAddress', 'url', 'distance',\n",
    "       'description', 'hasVideo', 'status', 'newDevelopment', 'hasLift',\n",
    "       'priceByArea', 'detailedType', 'suggestedTexts', 'hasPlan', 'has3DTour',\n",
    "       'has360', 'hasStaging', 'topNewDevelopment', 'superTopHighlight',\n",
    "       'parkingSpace', 'externalReference', 'labels', 'neighborhood', 'pagina',\n",
    "       'datetime_scrapy', 'newDevelopmentFinished', 'highlight']]\n",
    "\n",
    "# resetar index\n",
    "df_raw = df_raw.reset_index( drop = True )"
   ]
  },
  {
   "cell_type": "markdown",
   "id": "720dcc68",
   "metadata": {},
   "source": [
    "## 0.2.1 Separar Dados de Teste"
   ]
  },
  {
   "cell_type": "code",
   "execution_count": 4,
   "id": "93922489",
   "metadata": {
    "ExecuteTime": {
     "end_time": "2024-02-05T10:26:58.504065Z",
     "start_time": "2024-02-05T10:26:58.499777Z"
    }
   },
   "outputs": [],
   "source": [
    "# Separar Dados de Teste\n",
    "divisor = df_raw.shape[0] - 2000\n",
    "df_teste = df_raw.iloc[ divisor: ] # pego 1000 linhas para teste"
   ]
  },
  {
   "cell_type": "code",
   "execution_count": 5,
   "id": "d6052402",
   "metadata": {
    "ExecuteTime": {
     "end_time": "2024-02-05T10:26:58.512344Z",
     "start_time": "2024-02-05T10:26:58.506065Z"
    }
   },
   "outputs": [],
   "source": [
    "# separar dados brutos\n",
    "df_raw = df_raw.iloc[:divisor]"
   ]
  },
  {
   "cell_type": "markdown",
   "id": "dfac7a2d",
   "metadata": {},
   "source": [
    "# 1.0. PASSO 01 - DESCRIÇÃO DOS DADOS"
   ]
  },
  {
   "cell_type": "code",
   "execution_count": 6,
   "id": "9282a770",
   "metadata": {
    "ExecuteTime": {
     "end_time": "2024-02-05T10:26:58.525624Z",
     "start_time": "2024-02-05T10:26:58.516337Z"
    }
   },
   "outputs": [],
   "source": [
    "df1 = df_raw.copy()"
   ]
  },
  {
   "cell_type": "markdown",
   "id": "dc529665",
   "metadata": {},
   "source": [
    "## Explicação das colunas"
   ]
  },
  {
   "cell_type": "markdown",
   "id": "4ffef2ae",
   "metadata": {},
   "source": [
    "* property_code - ID unico para cada imovel\n",
    "\n",
    "\n",
    "* thumbnail - mostra a thumbnail do imovel\n",
    "\n",
    "\n",
    "* external_reference - A feature \"external_reference\" geralmente se refere a um código único atribuído a um imóvel por outra fonte, como outra plataforma imobiliária ou um agente imobiliário. Essa referência externa pode ser usada para rastrear e identificar o imóvel em diferentes sistemas e plataformas.\n",
    "\n",
    "\n",
    "* num_photos - número de fotos do anúncio\n",
    "\n",
    "\n",
    "* price - preço da renda\n",
    "\n",
    "\n",
    "* property_type - tipo de propriedade\n",
    "\n",
    "\n",
    "* operation - renda ou venda ( nesse caso tenho somente renda )\n",
    "\n",
    "\n",
    "* size - tamanho em m2\n",
    "\n",
    "\n",
    "* exterior - deve ser se o imóvel tem área exterior ( array([ 0., nan]) \n",
    "\n",
    "\n",
    "* rooms - quantidade de quartos\n",
    "\n",
    "\n",
    "* bathrooms - quantidade de casas de banho\n",
    "\n",
    "\n",
    "* address - endereço do imóvel\n",
    "\n",
    "\n",
    "* province - são as regiões ( Lisboa, Setúbal, Santarém - vieram na extração )\n",
    "\n",
    "\n",
    "* municipality - municipios\n",
    "\n",
    "\n",
    "* district - são os Distritos\n",
    "\n",
    "\n",
    "* country - PT \n",
    "\n",
    "\n",
    "* latitude - latitude\n",
    "\n",
    "\n",
    "* longitude - longitude\n",
    "\n",
    "\n",
    "* show_address - boolean - se o anunciante exibe o endereço\n",
    "\n",
    "\n",
    "* url - a url do anuncio\n",
    "\n",
    "\n",
    "* distance - distancia do centro em m\n",
    "\n",
    "\n",
    "* description - descricao do apartamento\n",
    "\n",
    "\n",
    "* has_video - diz se o anuncio tem vídeo ou não ( array([ 0.,  1., nan]) )\n",
    "\n",
    "\n",
    "* status - diz sobre o estado do imóvel array(['good', 'renew', 'newdevelopment', None], dtype=object)\n",
    "\n",
    "\n",
    "* new_development - boolean - diz se o empreendimento é novo ou não \n",
    "\n",
    "\n",
    "* price_by_area - preco divido pelo tamanho do imóvel price / size\n",
    "\n",
    "\n",
    "* detailed_type - descrição detalhada do tipo de imóvel\n",
    "\n",
    "\n",
    "* suggested_texts - títulos e subtítulos\n",
    "\n",
    "\n",
    "* has_plan - se o imóvel tem plano ou não\n",
    "\n",
    "\n",
    "* has3_d_tour - indica se o imóvel tem tour 3d\n",
    "\n",
    "\n",
    "* has360 - se tem tour 360º\n",
    "\n",
    "\n",
    "* has_staging - se tem uma decoração na propriedade\n",
    "\n",
    "\n",
    "* top_new_development - indica os empreendimentos mais novos\n",
    "\n",
    "\n",
    "* super_top_highlight - indica os imóveis mais valiosos ou populares em uma determinada área\n",
    "\n",
    "\n",
    "* floor - indica o andar do imóvel\n",
    "\n",
    "\n",
    "* has_lift - indica se tem elevador\n",
    "\n",
    "\n",
    "* parking_space - indica se tem vaga de garagem\n",
    "\n",
    "\n",
    "* neighborhood - Essa feature é útil para compradores e inquilinos que têm preferência por um determinado bairro ou querem morar em uma área específica da cidade por motivos como proximidade do trabalho, escolas, transporte público, entre outros.\n",
    "\n",
    "\n",
    "* labels - etiquetas ou rótulos associados aos imoveis\n",
    "\n",
    "\n",
    "* pagina - a pagina da extração ( definida na extração )\n",
    "\n",
    "\n",
    "* datetime_scrapy - indica a data da extração ( definida na extração )\n",
    "\n",
    "\n",
    "* newDevelopmentFinished - \n",
    "\n",
    "\n",
    "* highlight - "
   ]
  },
  {
   "cell_type": "markdown",
   "id": "95659f37",
   "metadata": {},
   "source": [
    "## 1.1. Rename Columns"
   ]
  },
  {
   "cell_type": "code",
   "execution_count": 7,
   "id": "26c9686a",
   "metadata": {
    "ExecuteTime": {
     "end_time": "2024-02-05T10:26:58.548790Z",
     "start_time": "2024-02-05T10:26:58.528619Z"
    }
   },
   "outputs": [],
   "source": [
    "cols_old = [ 'propertyCode', 'thumbnail', 'numPhotos', 'floor', 'price',\n",
    "       'propertyType', 'operation', 'size', 'exterior', 'rooms', 'bathrooms',\n",
    "       'address', 'province', 'municipality', 'district', 'country',\n",
    "       'latitude', 'longitude', 'showAddress', 'url', 'distance',\n",
    "       'description', 'hasVideo', 'status', 'newDevelopment', 'hasLift',\n",
    "       'priceByArea', 'detailedType', 'suggestedTexts', 'hasPlan', 'has3DTour',\n",
    "       'has360', 'hasStaging', 'topNewDevelopment', 'superTopHighlight',\n",
    "       'parkingSpace', 'externalReference', 'labels', 'neighborhood', 'pagina',\n",
    "       'datetime_scrapy', 'newDevelopmentFinished', 'highlight']\n",
    "\n",
    "# def função snake_case\n",
    "snake_case = lambda x: inflection.underscore( x )\n",
    "\n",
    "# defino as novas colunas\n",
    "cols_new = list(map( snake_case, cols_old )) \n",
    "\n",
    "df1.columns = cols_new\n",
    "\n",
    "df1 = df1.loc[~ df1['property_code'].isna() , : ]"
   ]
  },
  {
   "cell_type": "markdown",
   "id": "112036bf",
   "metadata": {
    "ExecuteTime": {
     "end_time": "2024-02-03T10:32:07.033474Z",
     "start_time": "2024-02-03T10:32:07.029868Z"
    }
   },
   "source": [
    "## 1.1.2 Drop Duplicates"
   ]
  },
  {
   "cell_type": "code",
   "execution_count": 8,
   "id": "f525466a",
   "metadata": {
    "ExecuteTime": {
     "end_time": "2024-02-05T10:26:58.567250Z",
     "start_time": "2024-02-05T10:26:58.550790Z"
    }
   },
   "outputs": [],
   "source": [
    "df1 = df1.drop_duplicates( subset= ['property_code'], keep = 'last' )"
   ]
  },
  {
   "cell_type": "markdown",
   "id": "45bef4ec",
   "metadata": {},
   "source": [
    "## 1.2. Data Dimensions"
   ]
  },
  {
   "cell_type": "code",
   "execution_count": 9,
   "id": "2f02f80f",
   "metadata": {
    "ExecuteTime": {
     "end_time": "2024-02-05T10:26:58.574173Z",
     "start_time": "2024-02-05T10:26:58.569248Z"
    }
   },
   "outputs": [
    {
     "name": "stdout",
     "output_type": "stream",
     "text": [
      "Number of rows 11,179\n",
      "Number of columns 43\n"
     ]
    }
   ],
   "source": [
    "print( 'Number of rows {:,}'.format( df1.shape[0] ) )\n",
    "print( 'Number of columns {:,}'.format( df1.shape[1] ) )"
   ]
  },
  {
   "cell_type": "markdown",
   "id": "224cd158",
   "metadata": {},
   "source": [
    "## 1.3. Data Types"
   ]
  },
  {
   "cell_type": "code",
   "execution_count": 10,
   "id": "8de61cd8",
   "metadata": {
    "ExecuteTime": {
     "end_time": "2024-02-05T10:26:58.586776Z",
     "start_time": "2024-02-05T10:26:58.580163Z"
    }
   },
   "outputs": [
    {
     "name": "stdout",
     "output_type": "stream",
     "text": [
      "property_code               float64\n",
      "thumbnail                    object\n",
      "num_photos                  float64\n",
      "floor                        object\n",
      "price                       float64\n",
      "property_type                object\n",
      "operation                    object\n",
      "size                        float64\n",
      "exterior                     object\n",
      "rooms                       float64\n",
      "bathrooms                   float64\n",
      "address                      object\n",
      "province                     object\n",
      "municipality                 object\n",
      "district                     object\n",
      "country                      object\n",
      "latitude                    float64\n",
      "longitude                   float64\n",
      "show_address                 object\n",
      "url                          object\n",
      "distance                    float64\n",
      "description                  object\n",
      "has_video                    object\n",
      "status                       object\n",
      "new_development              object\n",
      "has_lift                    float64\n",
      "price_by_area               float64\n",
      "detailed_type                object\n",
      "suggested_texts              object\n",
      "has_plan                     object\n",
      "has3_d_tour                  object\n",
      "has360                       object\n",
      "has_staging                  object\n",
      "top_new_development          object\n",
      "super_top_highlight          object\n",
      "parking_space                object\n",
      "external_reference           object\n",
      "labels                       object\n",
      "neighborhood                 object\n",
      "pagina                      float64\n",
      "datetime_scrapy              object\n",
      "new_development_finished    float64\n",
      "highlight                    object\n",
      "dtype: object\n"
     ]
    }
   ],
   "source": [
    "# exibindo os tipos de dados\n",
    "print( df1.dtypes )"
   ]
  },
  {
   "cell_type": "markdown",
   "id": "198540a0",
   "metadata": {},
   "source": [
    "## 1.4. Check NA"
   ]
  },
  {
   "cell_type": "code",
   "execution_count": 11,
   "id": "dd8e8700",
   "metadata": {
    "ExecuteTime": {
     "end_time": "2024-02-05T10:26:58.655423Z",
     "start_time": "2024-02-05T10:26:58.589772Z"
    }
   },
   "outputs": [
    {
     "data": {
      "text/plain": [
       "property_code                   0\n",
       "thumbnail                      23\n",
       "num_photos                      0\n",
       "floor                        4956\n",
       "price                           0\n",
       "property_type                   0\n",
       "operation                       0\n",
       "size                            0\n",
       "exterior                     5463\n",
       "rooms                           0\n",
       "bathrooms                       0\n",
       "address                         0\n",
       "province                        0\n",
       "municipality                    0\n",
       "district                     1300\n",
       "country                         0\n",
       "latitude                        0\n",
       "longitude                       0\n",
       "show_address                    0\n",
       "url                             0\n",
       "distance                        0\n",
       "description                    15\n",
       "has_video                       0\n",
       "status                          0\n",
       "new_development                 0\n",
       "has_lift                     3545\n",
       "price_by_area                   0\n",
       "detailed_type                   0\n",
       "suggested_texts                 0\n",
       "has_plan                        0\n",
       "has3_d_tour                     0\n",
       "has360                          0\n",
       "has_staging                     0\n",
       "top_new_development             0\n",
       "super_top_highlight          3735\n",
       "parking_space                7858\n",
       "external_reference           1651\n",
       "labels                       7804\n",
       "neighborhood                 9299\n",
       "pagina                          0\n",
       "datetime_scrapy                 0\n",
       "new_development_finished    11164\n",
       "highlight                   10542\n",
       "dtype: int64"
      ]
     },
     "execution_count": 11,
     "metadata": {},
     "output_type": "execute_result"
    }
   ],
   "source": [
    "df1.isna().sum()"
   ]
  },
  {
   "cell_type": "code",
   "execution_count": 12,
   "id": "9af844ed",
   "metadata": {
    "ExecuteTime": {
     "end_time": "2024-02-05T10:26:58.808876Z",
     "start_time": "2024-02-05T10:26:58.658421Z"
    }
   },
   "outputs": [
    {
     "data": {
      "text/html": [
       "<div>\n",
       "<style scoped>\n",
       "    .dataframe tbody tr th:only-of-type {\n",
       "        vertical-align: middle;\n",
       "    }\n",
       "\n",
       "    .dataframe tbody tr th {\n",
       "        vertical-align: top;\n",
       "    }\n",
       "\n",
       "    .dataframe thead th {\n",
       "        text-align: right;\n",
       "    }\n",
       "</style>\n",
       "<table border=\"1\" class=\"dataframe\">\n",
       "  <thead>\n",
       "    <tr style=\"text-align: right;\">\n",
       "      <th></th>\n",
       "      <th>index</th>\n",
       "      <th>0</th>\n",
       "      <th>% dados Vazios</th>\n",
       "    </tr>\n",
       "  </thead>\n",
       "  <tbody>\n",
       "    <tr>\n",
       "      <th>1</th>\n",
       "      <td>thumbnail</td>\n",
       "      <td>23</td>\n",
       "      <td>0.205743</td>\n",
       "    </tr>\n",
       "    <tr>\n",
       "      <th>3</th>\n",
       "      <td>floor</td>\n",
       "      <td>4956</td>\n",
       "      <td>44.333125</td>\n",
       "    </tr>\n",
       "    <tr>\n",
       "      <th>8</th>\n",
       "      <td>exterior</td>\n",
       "      <td>5463</td>\n",
       "      <td>48.868414</td>\n",
       "    </tr>\n",
       "    <tr>\n",
       "      <th>14</th>\n",
       "      <td>district</td>\n",
       "      <td>1300</td>\n",
       "      <td>11.628947</td>\n",
       "    </tr>\n",
       "    <tr>\n",
       "      <th>21</th>\n",
       "      <td>description</td>\n",
       "      <td>15</td>\n",
       "      <td>0.134180</td>\n",
       "    </tr>\n",
       "    <tr>\n",
       "      <th>25</th>\n",
       "      <td>has_lift</td>\n",
       "      <td>3545</td>\n",
       "      <td>31.711244</td>\n",
       "    </tr>\n",
       "    <tr>\n",
       "      <th>34</th>\n",
       "      <td>super_top_highlight</td>\n",
       "      <td>3735</td>\n",
       "      <td>33.410860</td>\n",
       "    </tr>\n",
       "    <tr>\n",
       "      <th>35</th>\n",
       "      <td>parking_space</td>\n",
       "      <td>7858</td>\n",
       "      <td>70.292513</td>\n",
       "    </tr>\n",
       "    <tr>\n",
       "      <th>36</th>\n",
       "      <td>external_reference</td>\n",
       "      <td>1651</td>\n",
       "      <td>14.768763</td>\n",
       "    </tr>\n",
       "    <tr>\n",
       "      <th>37</th>\n",
       "      <td>labels</td>\n",
       "      <td>7804</td>\n",
       "      <td>69.809464</td>\n",
       "    </tr>\n",
       "    <tr>\n",
       "      <th>38</th>\n",
       "      <td>neighborhood</td>\n",
       "      <td>9299</td>\n",
       "      <td>83.182753</td>\n",
       "    </tr>\n",
       "    <tr>\n",
       "      <th>41</th>\n",
       "      <td>new_development_finished</td>\n",
       "      <td>11164</td>\n",
       "      <td>99.865820</td>\n",
       "    </tr>\n",
       "    <tr>\n",
       "      <th>42</th>\n",
       "      <td>highlight</td>\n",
       "      <td>10542</td>\n",
       "      <td>94.301816</td>\n",
       "    </tr>\n",
       "  </tbody>\n",
       "</table>\n",
       "</div>"
      ],
      "text/plain": [
       "                       index      0  % dados Vazios\n",
       "1                  thumbnail     23        0.205743\n",
       "3                      floor   4956       44.333125\n",
       "8                   exterior   5463       48.868414\n",
       "14                  district   1300       11.628947\n",
       "21               description     15        0.134180\n",
       "25                  has_lift   3545       31.711244\n",
       "34       super_top_highlight   3735       33.410860\n",
       "35             parking_space   7858       70.292513\n",
       "36        external_reference   1651       14.768763\n",
       "37                    labels   7804       69.809464\n",
       "38              neighborhood   9299       83.182753\n",
       "41  new_development_finished  11164       99.865820\n",
       "42                 highlight  10542       94.301816"
      ]
     },
     "execution_count": 12,
     "metadata": {},
     "output_type": "execute_result"
    }
   ],
   "source": [
    "# calculando os % de dados vazios\n",
    "dfna = df1.isna().sum().to_frame().reset_index()\n",
    "dfna['% dados Vazios'] = ( df1.isna().sum().to_frame().reset_index()[0] / df1.shape[0] ) *100\n",
    "dfna.loc[ dfna['% dados Vazios'] != 0 , : ]"
   ]
  },
  {
   "cell_type": "markdown",
   "id": "8504f29d",
   "metadata": {},
   "source": [
    "## 1.5. Fillout NA"
   ]
  },
  {
   "cell_type": "code",
   "execution_count": 13,
   "id": "6cd077cc",
   "metadata": {
    "ExecuteTime": {
     "end_time": "2024-02-05T10:26:58.816512Z",
     "start_time": "2024-02-05T10:26:58.810874Z"
    }
   },
   "outputs": [],
   "source": [
    "def fill_na(df):\n",
    "    # thumbnail - vou substituir anúncios que possuem thumbnail por 1 e aqueles que não por 0\n",
    "    df.loc[:,'thumbnail'] = np.where( df['thumbnail'].isna(), 0 , 1 )\n",
    "\n",
    "    # floor \n",
    "    df.loc[:,'floor'] = df['floor'].apply( lambda x : 0 if pd.isna( x ) else x )\n",
    "\n",
    "    # district - vou fazer uma chamada na api para procurar os districts passando as coordenadas\n",
    "    df.loc[:,'district'] = df.apply(lambda x: find_mun( x['latitude'], x['longitude'] ) if pd.isna( x['district'] ) else x['district'],axis = 1)\n",
    "\n",
    "    # description\n",
    "    df.loc[:,'description'] = df['description'].apply( lambda x : 'no description' if pd.isna( x ) else x )\n",
    "\n",
    "    # has_lift - vou considerar que se não foi informado na base o apto imovel não tem elevador\n",
    "    df.loc[:,'has_lift'] = df['has_lift'].apply( lambda x: 0 if pd.isna( x ) else x  )\n",
    "\n",
    "    # parking_space \n",
    "    df.loc[:,'parking_space'] = df['parking_space'].apply( lambda x: 0 if pd.isna( x ) else x ) \n",
    "    \n",
    "    return df"
   ]
  },
  {
   "cell_type": "code",
   "execution_count": 14,
   "id": "f6dc39bc",
   "metadata": {
    "ExecuteTime": {
     "end_time": "2024-02-05T10:37:54.034247Z",
     "start_time": "2024-02-05T10:26:58.819508Z"
    }
   },
   "outputs": [
    {
     "name": "stderr",
     "output_type": "stream",
     "text": [
      "C:\\Users\\oscar\\AppData\\Local\\Temp\\ipykernel_7416\\2764531685.py:3: DeprecationWarning: In a future version, `df.iloc[:, i] = newvals` will attempt to set the values inplace instead of always setting a new array. To retain the old behavior, use either `df[df.columns[i]] = newvals` or, if columns are non-unique, `df.isetitem(i, newvals)`\n",
      "  df.loc[:,'thumbnail'] = np.where( df['thumbnail'].isna(), 0 , 1 )\n"
     ]
    }
   ],
   "source": [
    "df1 = fill_na( df1 )"
   ]
  },
  {
   "cell_type": "markdown",
   "id": "60e30ecc",
   "metadata": {},
   "source": [
    "## 1.5.1 - Excluindo colunas irrelevantes"
   ]
  },
  {
   "cell_type": "code",
   "execution_count": 15,
   "id": "b4e135a4",
   "metadata": {
    "ExecuteTime": {
     "end_time": "2024-02-05T10:37:54.040649Z",
     "start_time": "2024-02-05T10:37:54.036476Z"
    }
   },
   "outputs": [],
   "source": [
    "# função para excluir colunas se for passada uma lista\n",
    "def delete_columns( df , list_columns = None ):\n",
    "    \n",
    "    if list_columns is None:\n",
    "        \n",
    "        df = df\n",
    "        \n",
    "        return df\n",
    "    \n",
    "    else:\n",
    "        \n",
    "        df = df.drop( list_columns , axis = 1)\n",
    "        \n",
    "        return df\n"
   ]
  },
  {
   "cell_type": "code",
   "execution_count": 16,
   "id": "feb11e28",
   "metadata": {
    "ExecuteTime": {
     "end_time": "2024-02-05T10:37:54.089319Z",
     "start_time": "2024-02-05T10:37:54.042646Z"
    }
   },
   "outputs": [],
   "source": [
    "# colunas vazias ou irrelevantes\n",
    "colunas_irrelevantes = ['property_code',\n",
    "           'external_reference',\n",
    "           'labels',\n",
    "           'neighborhood',\n",
    "           'new_development_finished',\n",
    "           'highlight',\n",
    "           'exterior',\n",
    "           'super_top_highlight',\n",
    "           'operation',\n",
    "           'country',\n",
    "           'url',\n",
    "           'price_by_area']\n",
    "\n",
    "df1 = delete_columns( df1 , colunas_irrelevantes )"
   ]
  },
  {
   "cell_type": "markdown",
   "id": "d7a16a0f",
   "metadata": {},
   "source": [
    "## 1.7. Descriptive Statistical"
   ]
  },
  {
   "cell_type": "markdown",
   "id": "1cca4f10",
   "metadata": {},
   "source": [
    "## 1.7.1 Numerical Attributes"
   ]
  },
  {
   "cell_type": "code",
   "execution_count": 17,
   "id": "fac52b56",
   "metadata": {
    "ExecuteTime": {
     "end_time": "2024-02-05T10:37:54.124260Z",
     "start_time": "2024-02-05T10:37:54.091316Z"
    }
   },
   "outputs": [
    {
     "data": {
      "text/html": [
       "<div>\n",
       "<style scoped>\n",
       "    .dataframe tbody tr th:only-of-type {\n",
       "        vertical-align: middle;\n",
       "    }\n",
       "\n",
       "    .dataframe tbody tr th {\n",
       "        vertical-align: top;\n",
       "    }\n",
       "\n",
       "    .dataframe thead th {\n",
       "        text-align: right;\n",
       "    }\n",
       "</style>\n",
       "<table border=\"1\" class=\"dataframe\">\n",
       "  <thead>\n",
       "    <tr style=\"text-align: right;\">\n",
       "      <th></th>\n",
       "      <th>features</th>\n",
       "      <th>min</th>\n",
       "      <th>max</th>\n",
       "      <th>range</th>\n",
       "      <th>mean</th>\n",
       "      <th>median</th>\n",
       "      <th>std</th>\n",
       "      <th>skew</th>\n",
       "      <th>kurtosis</th>\n",
       "    </tr>\n",
       "  </thead>\n",
       "  <tbody>\n",
       "    <tr>\n",
       "      <th>0</th>\n",
       "      <td>num_photos</td>\n",
       "      <td>0.00</td>\n",
       "      <td>129.00</td>\n",
       "      <td>129.00</td>\n",
       "      <td>24.90</td>\n",
       "      <td>23.00</td>\n",
       "      <td>13.01</td>\n",
       "      <td>1.49</td>\n",
       "      <td>4.69</td>\n",
       "    </tr>\n",
       "    <tr>\n",
       "      <th>1</th>\n",
       "      <td>price</td>\n",
       "      <td>300.00</td>\n",
       "      <td>80,000.00</td>\n",
       "      <td>79,700.00</td>\n",
       "      <td>2,843.00</td>\n",
       "      <td>2,000.00</td>\n",
       "      <td>2,729.84</td>\n",
       "      <td>5.30</td>\n",
       "      <td>74.39</td>\n",
       "    </tr>\n",
       "    <tr>\n",
       "      <th>2</th>\n",
       "      <td>size</td>\n",
       "      <td>10.00</td>\n",
       "      <td>97,500.00</td>\n",
       "      <td>97,490.00</td>\n",
       "      <td>152.43</td>\n",
       "      <td>110.00</td>\n",
       "      <td>980.23</td>\n",
       "      <td>90.57</td>\n",
       "      <td>8,791.07</td>\n",
       "    </tr>\n",
       "    <tr>\n",
       "      <th>3</th>\n",
       "      <td>rooms</td>\n",
       "      <td>0.00</td>\n",
       "      <td>21.00</td>\n",
       "      <td>21.00</td>\n",
       "      <td>2.52</td>\n",
       "      <td>2.00</td>\n",
       "      <td>1.35</td>\n",
       "      <td>1.49</td>\n",
       "      <td>9.80</td>\n",
       "    </tr>\n",
       "    <tr>\n",
       "      <th>4</th>\n",
       "      <td>bathrooms</td>\n",
       "      <td>1.00</td>\n",
       "      <td>14.00</td>\n",
       "      <td>13.00</td>\n",
       "      <td>2.04</td>\n",
       "      <td>2.00</td>\n",
       "      <td>1.21</td>\n",
       "      <td>1.84</td>\n",
       "      <td>5.90</td>\n",
       "    </tr>\n",
       "    <tr>\n",
       "      <th>5</th>\n",
       "      <td>distance</td>\n",
       "      <td>61.00</td>\n",
       "      <td>49,801.00</td>\n",
       "      <td>49,740.00</td>\n",
       "      <td>11,225.52</td>\n",
       "      <td>6,758.00</td>\n",
       "      <td>10,332.27</td>\n",
       "      <td>0.81</td>\n",
       "      <td>-0.40</td>\n",
       "    </tr>\n",
       "    <tr>\n",
       "      <th>6</th>\n",
       "      <td>has_lift</td>\n",
       "      <td>0.00</td>\n",
       "      <td>1.00</td>\n",
       "      <td>1.00</td>\n",
       "      <td>0.45</td>\n",
       "      <td>0.00</td>\n",
       "      <td>0.50</td>\n",
       "      <td>0.19</td>\n",
       "      <td>-1.96</td>\n",
       "    </tr>\n",
       "  </tbody>\n",
       "</table>\n",
       "</div>"
      ],
      "text/plain": [
       "     features    min       max     range      mean   median       std  skew  \\\n",
       "0  num_photos   0.00    129.00    129.00     24.90    23.00     13.01  1.49   \n",
       "1       price 300.00 80,000.00 79,700.00  2,843.00 2,000.00  2,729.84  5.30   \n",
       "2        size  10.00 97,500.00 97,490.00    152.43   110.00    980.23 90.57   \n",
       "3       rooms   0.00     21.00     21.00      2.52     2.00      1.35  1.49   \n",
       "4   bathrooms   1.00     14.00     13.00      2.04     2.00      1.21  1.84   \n",
       "5    distance  61.00 49,801.00 49,740.00 11,225.52 6,758.00 10,332.27  0.81   \n",
       "6    has_lift   0.00      1.00      1.00      0.45     0.00      0.50  0.19   \n",
       "\n",
       "   kurtosis  \n",
       "0      4.69  \n",
       "1     74.39  \n",
       "2  8,791.07  \n",
       "3      9.80  \n",
       "4      5.90  \n",
       "5     -0.40  \n",
       "6     -1.96  "
      ]
     },
     "execution_count": 17,
     "metadata": {},
     "output_type": "execute_result"
    }
   ],
   "source": [
    "df1_stats = stats( df1 , ['latitude','longitude','pagina'] )\n",
    "df1_stats"
   ]
  },
  {
   "cell_type": "markdown",
   "id": "bdcea69d",
   "metadata": {
    "ExecuteTime": {
     "end_time": "2023-03-04T23:29:56.937888Z",
     "start_time": "2023-03-04T23:29:56.914814Z"
    }
   },
   "source": [
    "## 1.7.2 Categorical Attributes"
   ]
  },
  {
   "cell_type": "code",
   "execution_count": 18,
   "id": "99498bf0",
   "metadata": {
    "ExecuteTime": {
     "end_time": "2024-02-05T10:37:54.310473Z",
     "start_time": "2024-02-05T10:37:54.126261Z"
    }
   },
   "outputs": [
    {
     "name": "stdout",
     "output_type": "stream",
     "text": [
      "thumbnail                  2\n",
      "floor                     32\n",
      "property_type              6\n",
      "address                 3808\n",
      "province                   3\n",
      "municipality             138\n",
      "district                 403\n",
      "show_address               2\n",
      "description            10893\n",
      "has_video                  2\n",
      "status                     3\n",
      "new_development            2\n",
      "detailed_type             15\n",
      "suggested_texts         4205\n",
      "has_plan                   2\n",
      "has3_d_tour                2\n",
      "has360                     2\n",
      "has_staging                2\n",
      "top_new_development        1\n",
      "parking_space             14\n",
      "datetime_scrapy          111\n",
      "dtype: int64\n",
      "====================================================================================================\n",
      "thumbnail                                                         [1, 0]\n",
      "floor                  [6, 2, bj, 0, 1, 3, 8, 5, 7, en, 16, 4, 12, 11...\n",
      "property_type          [flat, chalet, duplex, studio, penthouse, coun...\n",
      "address                [Nova Carnaxide, Rua Professor Doutor João Bat...\n",
      "province                                     [Lisboa, Setúbal, Santarém]\n",
      "municipality           [Carnaxide e Queijas, Rio de Mouro, Carnide, M...\n",
      "district               [Nova Carnaxide, Vale Mourão - Paiões, Carnide...\n",
      "show_address                                               [False, True]\n",
      "description            [Apartamento T1 mobilado e equipado em Carnaxi...\n",
      "has_video                                                  [True, False]\n",
      "status                                     [good, renew, newdevelopment]\n",
      "new_development                                            [False, True]\n",
      "detailed_type          [{'typology': 'flat'}, {'typology': 'chalet', ...\n",
      "suggested_texts        [{'subtitle': 'Carnaxide e Queijas, Oeiras', '...\n",
      "has_plan                                                   [False, True]\n",
      "has3_d_tour                                                [False, True]\n",
      "has360                                                     [False, True]\n",
      "has_staging                                                [False, True]\n",
      "top_new_development                                              [False]\n",
      "parking_space          [0, {'hasParkingSpace': True, 'isParkingSpaceI...\n",
      "datetime_scrapy        [2023-04-12 22:00:03, 2023-04-12 22:00:04, 202...\n",
      "dtype: object\n"
     ]
    }
   ],
   "source": [
    "df1['province'] = df1['province'].apply( lambda x : 'Lisboa' if x == 'lisboa' else 'Setúbal' if x == 'setubal' else 'Santarém' if x == 'santarem'  else x)\n",
    "\n",
    "num_categorical = df1.select_dtypes( exclude = ['int64','float64','datetime64[ns]'] )\n",
    "# verifico quantos tipos diferentes tenho nas var categoricas\n",
    "print( num_categorical.apply( lambda x: x.unique().shape[0] ) )\n",
    "\n",
    "print( '='*100 )\n",
    "\n",
    "# verifico quantos tipos diferentes tenho nas var categoricas\n",
    "print( num_categorical.apply( lambda x: x.unique() ) )"
   ]
  },
  {
   "cell_type": "markdown",
   "id": "9e2330a4",
   "metadata": {},
   "source": [
    "# 2.0 Feature Engineering"
   ]
  },
  {
   "cell_type": "code",
   "execution_count": 19,
   "id": "fbbc7143",
   "metadata": {
    "ExecuteTime": {
     "end_time": "2024-02-05T10:37:54.322045Z",
     "start_time": "2024-02-05T10:37:54.312474Z"
    }
   },
   "outputs": [],
   "source": [
    "df2 = df1.copy()"
   ]
  },
  {
   "cell_type": "code",
   "execution_count": 20,
   "id": "114ec8cb",
   "metadata": {
    "ExecuteTime": {
     "end_time": "2024-02-05T10:37:54.923398Z",
     "start_time": "2024-02-05T10:37:54.324044Z"
    }
   },
   "outputs": [],
   "source": [
    "# será usado para médias das regiões\n",
    "df2.to_csv( 'datasets/df_region.csv' )"
   ]
  },
  {
   "cell_type": "code",
   "execution_count": 21,
   "id": "75902b7b",
   "metadata": {
    "ExecuteTime": {
     "end_time": "2024-02-05T10:37:54.936579Z",
     "start_time": "2024-02-05T10:37:54.924437Z"
    }
   },
   "outputs": [],
   "source": [
    "def feature_engineering( df , df_region, transform_data = False, merge_datasets = False ):\n",
    "    \n",
    "    if transform_data and merge_datasets == False :\n",
    "        \n",
    "        # mes\n",
    "        df['datetime_scrapy'] = pd.to_datetime( df['datetime_scrapy'] )\n",
    "        df['month'] = df['datetime_scrapy'].dt.month \n",
    "\n",
    "        # ano\n",
    "        df['year'] = df['datetime_scrapy'].dt.year\n",
    "\n",
    "        # excluir a coluna datetime\n",
    "        df = df.drop( 'datetime_scrapy', axis = 1 )\n",
    "        \n",
    "        print( 'Dados Transformados' )\n",
    "        \n",
    "        return df\n",
    "        \n",
    "    \n",
    "    if merge_datasets == True and transform_data == False:\n",
    "        \n",
    "        # Df com a média de preço por município\n",
    "        df_municipality_mean_price = df_region.groupby('municipality')[['price']].mean().reset_index()\n",
    "\n",
    "        # alteração nome coluna\n",
    "        df_municipality_mean_price = df_municipality_mean_price.rename(columns={'price': 'municipality_mean_price'})\n",
    "\n",
    "        # exportar para csv\n",
    "        #d f2_municipality_mean_price.to_csv( 'datasets/municipality.csv' )\n",
    "\n",
    "        # acrescentando a coluna ao df2\n",
    "        df = pd.merge( df, df_municipality_mean_price, on = 'municipality' , how = 'left' )\n",
    "\n",
    "# ======================================================================================================================#\n",
    "\n",
    "        # calculando a média por 'province'\n",
    "        df2_province_mean_price = df_region.groupby( 'province' )[['price']].mean().reset_index().rename( columns = { 'price': 'province_mean_price' } )\n",
    "\n",
    "        # exportando para csv\n",
    "        # df2_province_mean_price.to_csv( 'datasets/province.csv' )\n",
    "\n",
    "        # acrescentando a coluna ao df2\n",
    "        df = pd.merge( df, df2_province_mean_price , on = 'province' , how = 'left' )\n",
    "\n",
    "#=======================================================================================================================#\n",
    "\n",
    "        # calculando média por district\n",
    "        df2_district_mean_price = df_region.groupby( 'district' )[['price']].median().reset_index().rename( columns = { 'price' : 'district_mean_price' } )\n",
    "\n",
    "        # exportando para csv \n",
    "        #df2_district_mean_price.to_csv( 'datasets/district.csv' )\n",
    "\n",
    "        # acrescentando a coluna ao df2\n",
    "        df = pd.merge( df , df2_district_mean_price , on = 'district', how = 'left' )\n",
    "\n",
    "        print( 'Datasets combinados com preços regioes' )\n",
    "\n",
    "        return df\n",
    "    \n",
    "    if transform_data == True and merge_datasets == True:\n",
    "        \n",
    "        # mes\n",
    "        df['datetime_scrapy'] = pd.to_datetime( df['datetime_scrapy'] )\n",
    "        df['month'] = df['datetime_scrapy'].dt.month \n",
    "\n",
    "        # ano\n",
    "        df['year'] = df['datetime_scrapy'].dt.year\n",
    "\n",
    "        # excluir a coluna datetime\n",
    "        df = df.drop( 'datetime_scrapy', axis = 1 )\n",
    "        \n",
    "        # Df com a média de preço por município\n",
    "        df_municipality_mean_price = df_region.groupby('municipality')[['price']].mean().reset_index()\n",
    "\n",
    "        # alteração nome coluna\n",
    "        df_municipality_mean_price = df_municipality_mean_price.rename(columns={'price': 'municipality_mean_price'})\n",
    "\n",
    "        # exportar para csv\n",
    "        #d f2_municipality_mean_price.to_csv( 'datasets/municipality.csv' )\n",
    "\n",
    "        # acrescentando a coluna ao df2\n",
    "        df = pd.merge( df, df_municipality_mean_price, on = 'municipality' , how = 'left' )\n",
    "        \n",
    "# ======================================================================================================================#\n",
    "        \n",
    "        # calculando a média por 'province'\n",
    "        df2_province_mean_price = df_region.groupby( 'province' )[['price']].mean().reset_index().rename( columns = { 'price': 'province_mean_price' } )\n",
    "\n",
    "        # exportando para csv\n",
    "        # df2_province_mean_price.to_csv( 'datasets/province.csv' )\n",
    "\n",
    "        # acrescentando a coluna ao df2\n",
    "        df = pd.merge( df, df2_province_mean_price , on = 'province' , how = 'left' )\n",
    "        \n",
    "#=======================================================================================================================#\n",
    "        \n",
    "        # calculando média por district\n",
    "        df2_district_mean_price = df_region.groupby( 'district' )[['price']].median().reset_index().rename( columns = { 'price' : 'district_mean_price' } )\n",
    "\n",
    "        # exportando para csv \n",
    "        #df2_district_mean_price.to_csv( 'datasets/district.csv' )\n",
    "\n",
    "        # acrescentando a coluna ao df2\n",
    "        df = pd.merge( df , df2_district_mean_price , on = 'district', how = 'left' )\n",
    "        \n",
    "        print( 'datasets combinados e dados transformados' )\n",
    "        \n",
    "        return df\n",
    "        \n",
    "    else:\n",
    "        \n",
    "        print( 'Nenhuma Transformação' )\n",
    "        \n",
    "        return df\n",
    "            "
   ]
  },
  {
   "cell_type": "code",
   "execution_count": 22,
   "id": "8f26e2d2",
   "metadata": {
    "ExecuteTime": {
     "end_time": "2024-02-05T10:37:55.409140Z",
     "start_time": "2024-02-05T10:37:54.938578Z"
    },
    "scrolled": true
   },
   "outputs": [
    {
     "name": "stdout",
     "output_type": "stream",
     "text": [
      "datasets combinados e dados transformados\n"
     ]
    }
   ],
   "source": [
    "df_mean_region = pd.read_csv( 'datasets/df_region.csv' )\n",
    "\n",
    "\n",
    "df2 = feature_engineering( df = df2 ,  \n",
    "                          df_region= df_mean_region, merge_datasets= True, transform_data= True)\n"
   ]
  },
  {
   "cell_type": "markdown",
   "id": "c89aafaf",
   "metadata": {},
   "source": [
    "# 3.0 Filtragem de Variáveis"
   ]
  },
  {
   "cell_type": "code",
   "execution_count": 23,
   "id": "f997cd89",
   "metadata": {
    "ExecuteTime": {
     "end_time": "2024-02-05T10:37:55.421141Z",
     "start_time": "2024-02-05T10:37:55.411137Z"
    }
   },
   "outputs": [],
   "source": [
    "df3 = df2.copy()"
   ]
  },
  {
   "cell_type": "code",
   "execution_count": 24,
   "id": "329f4b37",
   "metadata": {
    "ExecuteTime": {
     "end_time": "2024-02-05T10:37:55.427485Z",
     "start_time": "2024-02-05T10:37:55.423140Z"
    }
   },
   "outputs": [],
   "source": [
    "def filter_variables(df, filter_variables = False):\n",
    "    \n",
    "    if filter_variables:\n",
    "        \n",
    "        # Vou querer saber somente os preços na province de Lisboa\n",
    "        df = df.loc[ df['province'] == 'Lisboa' , :  ]\n",
    "\n",
    "        # vou querer somente as habitações que tenham de 0 a no máximo 4 quartos\n",
    "        df = df.loc[ df['rooms'].isin( [ 0,1,2,3,4 ] ) , : ]\n",
    "        \n",
    "        print('Variavies filtradas')\n",
    "        \n",
    "        return df\n",
    "    \n",
    "    else:\n",
    "        \n",
    "        print('Variavies não filtradas')\n",
    "        \n",
    "        return df\n",
    "\n",
    "        \n",
    "    "
   ]
  },
  {
   "cell_type": "code",
   "execution_count": 25,
   "id": "4fb8bddc",
   "metadata": {
    "ExecuteTime": {
     "end_time": "2024-02-05T10:37:55.435362Z",
     "start_time": "2024-02-05T10:37:55.429482Z"
    }
   },
   "outputs": [
    {
     "name": "stdout",
     "output_type": "stream",
     "text": [
      "Variavies não filtradas\n"
     ]
    }
   ],
   "source": [
    "# vou manter filter_variables = False neste ciclo\n",
    "df3 = filter_variables( df3 )"
   ]
  },
  {
   "cell_type": "markdown",
   "id": "91c91dfd",
   "metadata": {
    "ExecuteTime": {
     "end_time": "2023-08-11T11:58:12.084853Z",
     "start_time": "2023-08-11T11:58:12.079256Z"
    }
   },
   "source": [
    "# 4.0 Análise Exploratória de Dados"
   ]
  },
  {
   "cell_type": "code",
   "execution_count": 26,
   "id": "c3130231",
   "metadata": {
    "ExecuteTime": {
     "end_time": "2024-02-05T10:37:55.444418Z",
     "start_time": "2024-02-05T10:37:55.437361Z"
    }
   },
   "outputs": [],
   "source": [
    "df4 = df3.copy()"
   ]
  },
  {
   "cell_type": "markdown",
   "id": "692be53f",
   "metadata": {},
   "source": [
    "## 4.1. - Analise Univariada"
   ]
  },
  {
   "cell_type": "code",
   "execution_count": 27,
   "id": "b9c64d61",
   "metadata": {
    "ExecuteTime": {
     "end_time": "2024-02-05T10:37:55.482553Z",
     "start_time": "2024-02-05T10:37:55.445419Z"
    }
   },
   "outputs": [
    {
     "data": {
      "text/html": [
       "<div>\n",
       "<style scoped>\n",
       "    .dataframe tbody tr th:only-of-type {\n",
       "        vertical-align: middle;\n",
       "    }\n",
       "\n",
       "    .dataframe tbody tr th {\n",
       "        vertical-align: top;\n",
       "    }\n",
       "\n",
       "    .dataframe thead th {\n",
       "        text-align: right;\n",
       "    }\n",
       "</style>\n",
       "<table border=\"1\" class=\"dataframe\">\n",
       "  <thead>\n",
       "    <tr style=\"text-align: right;\">\n",
       "      <th></th>\n",
       "      <th>features</th>\n",
       "      <th>min</th>\n",
       "      <th>max</th>\n",
       "      <th>range</th>\n",
       "      <th>mean</th>\n",
       "      <th>median</th>\n",
       "      <th>std</th>\n",
       "      <th>skew</th>\n",
       "      <th>kurtosis</th>\n",
       "    </tr>\n",
       "  </thead>\n",
       "  <tbody>\n",
       "    <tr>\n",
       "      <th>0</th>\n",
       "      <td>num_photos</td>\n",
       "      <td>0.00</td>\n",
       "      <td>129.00</td>\n",
       "      <td>129.00</td>\n",
       "      <td>24.90</td>\n",
       "      <td>23.00</td>\n",
       "      <td>13.01</td>\n",
       "      <td>1.49</td>\n",
       "      <td>4.69</td>\n",
       "    </tr>\n",
       "    <tr>\n",
       "      <th>1</th>\n",
       "      <td>price</td>\n",
       "      <td>300.00</td>\n",
       "      <td>80,000.00</td>\n",
       "      <td>79,700.00</td>\n",
       "      <td>2,843.00</td>\n",
       "      <td>2,000.00</td>\n",
       "      <td>2,729.84</td>\n",
       "      <td>5.30</td>\n",
       "      <td>74.39</td>\n",
       "    </tr>\n",
       "    <tr>\n",
       "      <th>2</th>\n",
       "      <td>size</td>\n",
       "      <td>10.00</td>\n",
       "      <td>97,500.00</td>\n",
       "      <td>97,490.00</td>\n",
       "      <td>152.43</td>\n",
       "      <td>110.00</td>\n",
       "      <td>980.23</td>\n",
       "      <td>90.57</td>\n",
       "      <td>8,791.07</td>\n",
       "    </tr>\n",
       "    <tr>\n",
       "      <th>3</th>\n",
       "      <td>rooms</td>\n",
       "      <td>0.00</td>\n",
       "      <td>21.00</td>\n",
       "      <td>21.00</td>\n",
       "      <td>2.52</td>\n",
       "      <td>2.00</td>\n",
       "      <td>1.35</td>\n",
       "      <td>1.49</td>\n",
       "      <td>9.80</td>\n",
       "    </tr>\n",
       "    <tr>\n",
       "      <th>4</th>\n",
       "      <td>bathrooms</td>\n",
       "      <td>1.00</td>\n",
       "      <td>14.00</td>\n",
       "      <td>13.00</td>\n",
       "      <td>2.04</td>\n",
       "      <td>2.00</td>\n",
       "      <td>1.21</td>\n",
       "      <td>1.84</td>\n",
       "      <td>5.90</td>\n",
       "    </tr>\n",
       "    <tr>\n",
       "      <th>5</th>\n",
       "      <td>distance</td>\n",
       "      <td>61.00</td>\n",
       "      <td>49,801.00</td>\n",
       "      <td>49,740.00</td>\n",
       "      <td>11,225.52</td>\n",
       "      <td>6,758.00</td>\n",
       "      <td>10,332.27</td>\n",
       "      <td>0.81</td>\n",
       "      <td>-0.40</td>\n",
       "    </tr>\n",
       "    <tr>\n",
       "      <th>6</th>\n",
       "      <td>has_lift</td>\n",
       "      <td>0.00</td>\n",
       "      <td>1.00</td>\n",
       "      <td>1.00</td>\n",
       "      <td>0.45</td>\n",
       "      <td>0.00</td>\n",
       "      <td>0.50</td>\n",
       "      <td>0.19</td>\n",
       "      <td>-1.96</td>\n",
       "    </tr>\n",
       "    <tr>\n",
       "      <th>7</th>\n",
       "      <td>pagina</td>\n",
       "      <td>1.00</td>\n",
       "      <td>92.00</td>\n",
       "      <td>91.00</td>\n",
       "      <td>29.26</td>\n",
       "      <td>25.00</td>\n",
       "      <td>22.53</td>\n",
       "      <td>0.96</td>\n",
       "      <td>0.25</td>\n",
       "    </tr>\n",
       "    <tr>\n",
       "      <th>8</th>\n",
       "      <td>month</td>\n",
       "      <td>1.00</td>\n",
       "      <td>9.00</td>\n",
       "      <td>8.00</td>\n",
       "      <td>3.72</td>\n",
       "      <td>3.00</td>\n",
       "      <td>2.94</td>\n",
       "      <td>0.66</td>\n",
       "      <td>-0.98</td>\n",
       "    </tr>\n",
       "    <tr>\n",
       "      <th>9</th>\n",
       "      <td>year</td>\n",
       "      <td>2,023.00</td>\n",
       "      <td>2,024.00</td>\n",
       "      <td>1.00</td>\n",
       "      <td>2,023.33</td>\n",
       "      <td>2,023.00</td>\n",
       "      <td>0.47</td>\n",
       "      <td>0.70</td>\n",
       "      <td>-1.51</td>\n",
       "    </tr>\n",
       "    <tr>\n",
       "      <th>10</th>\n",
       "      <td>municipality_mean_price</td>\n",
       "      <td>500.00</td>\n",
       "      <td>6,397.06</td>\n",
       "      <td>5,897.06</td>\n",
       "      <td>2,843.00</td>\n",
       "      <td>2,529.22</td>\n",
       "      <td>1,174.82</td>\n",
       "      <td>0.70</td>\n",
       "      <td>-0.50</td>\n",
       "    </tr>\n",
       "    <tr>\n",
       "      <th>11</th>\n",
       "      <td>province_mean_price</td>\n",
       "      <td>1,937.07</td>\n",
       "      <td>2,944.96</td>\n",
       "      <td>1,007.89</td>\n",
       "      <td>2,843.00</td>\n",
       "      <td>2,944.96</td>\n",
       "      <td>303.59</td>\n",
       "      <td>-2.65</td>\n",
       "      <td>5.01</td>\n",
       "    </tr>\n",
       "    <tr>\n",
       "      <th>12</th>\n",
       "      <td>district_mean_price</td>\n",
       "      <td>500.00</td>\n",
       "      <td>12,900.00</td>\n",
       "      <td>12,400.00</td>\n",
       "      <td>2,268.08</td>\n",
       "      <td>1,950.00</td>\n",
       "      <td>993.54</td>\n",
       "      <td>2.45</td>\n",
       "      <td>15.86</td>\n",
       "    </tr>\n",
       "  </tbody>\n",
       "</table>\n",
       "</div>"
      ],
      "text/plain": [
       "                   features      min       max     range      mean   median  \\\n",
       "0                num_photos     0.00    129.00    129.00     24.90    23.00   \n",
       "1                     price   300.00 80,000.00 79,700.00  2,843.00 2,000.00   \n",
       "2                      size    10.00 97,500.00 97,490.00    152.43   110.00   \n",
       "3                     rooms     0.00     21.00     21.00      2.52     2.00   \n",
       "4                 bathrooms     1.00     14.00     13.00      2.04     2.00   \n",
       "5                  distance    61.00 49,801.00 49,740.00 11,225.52 6,758.00   \n",
       "6                  has_lift     0.00      1.00      1.00      0.45     0.00   \n",
       "7                    pagina     1.00     92.00     91.00     29.26    25.00   \n",
       "8                     month     1.00      9.00      8.00      3.72     3.00   \n",
       "9                      year 2,023.00  2,024.00      1.00  2,023.33 2,023.00   \n",
       "10  municipality_mean_price   500.00  6,397.06  5,897.06  2,843.00 2,529.22   \n",
       "11      province_mean_price 1,937.07  2,944.96  1,007.89  2,843.00 2,944.96   \n",
       "12      district_mean_price   500.00 12,900.00 12,400.00  2,268.08 1,950.00   \n",
       "\n",
       "         std  skew  kurtosis  \n",
       "0      13.01  1.49      4.69  \n",
       "1   2,729.84  5.30     74.39  \n",
       "2     980.23 90.57  8,791.07  \n",
       "3       1.35  1.49      9.80  \n",
       "4       1.21  1.84      5.90  \n",
       "5  10,332.27  0.81     -0.40  \n",
       "6       0.50  0.19     -1.96  \n",
       "7      22.53  0.96      0.25  \n",
       "8       2.94  0.66     -0.98  \n",
       "9       0.47  0.70     -1.51  \n",
       "10  1,174.82  0.70     -0.50  \n",
       "11    303.59 -2.65      5.01  \n",
       "12    993.54  2.45     15.86  "
      ]
     },
     "execution_count": 27,
     "metadata": {},
     "output_type": "execute_result"
    }
   ],
   "source": [
    "# verifico as informações estatísticas\n",
    "stats( df4 , ['latitude','longitude'])"
   ]
  },
  {
   "cell_type": "code",
   "execution_count": 28,
   "id": "8908430c",
   "metadata": {
    "ExecuteTime": {
     "end_time": "2024-02-05T10:37:55.498360Z",
     "start_time": "2024-02-05T10:37:55.489536Z"
    }
   },
   "outputs": [],
   "source": [
    "# removendo o imóvel de tamanho 97500 m2\n",
    "df4 = df4.loc[ df4['size'] != 97500 , : ]"
   ]
  },
  {
   "cell_type": "code",
   "execution_count": 29,
   "id": "bc50a2f9",
   "metadata": {
    "ExecuteTime": {
     "end_time": "2024-02-05T10:37:55.536964Z",
     "start_time": "2024-02-05T10:37:55.499723Z"
    }
   },
   "outputs": [
    {
     "data": {
      "text/html": [
       "<div>\n",
       "<style scoped>\n",
       "    .dataframe tbody tr th:only-of-type {\n",
       "        vertical-align: middle;\n",
       "    }\n",
       "\n",
       "    .dataframe tbody tr th {\n",
       "        vertical-align: top;\n",
       "    }\n",
       "\n",
       "    .dataframe thead th {\n",
       "        text-align: right;\n",
       "    }\n",
       "</style>\n",
       "<table border=\"1\" class=\"dataframe\">\n",
       "  <thead>\n",
       "    <tr style=\"text-align: right;\">\n",
       "      <th></th>\n",
       "      <th>features</th>\n",
       "      <th>min</th>\n",
       "      <th>max</th>\n",
       "      <th>range</th>\n",
       "      <th>mean</th>\n",
       "      <th>median</th>\n",
       "      <th>std</th>\n",
       "      <th>skew</th>\n",
       "      <th>kurtosis</th>\n",
       "    </tr>\n",
       "  </thead>\n",
       "  <tbody>\n",
       "    <tr>\n",
       "      <th>0</th>\n",
       "      <td>num_photos</td>\n",
       "      <td>0.00</td>\n",
       "      <td>129.00</td>\n",
       "      <td>129.00</td>\n",
       "      <td>24.90</td>\n",
       "      <td>23.00</td>\n",
       "      <td>13.01</td>\n",
       "      <td>1.49</td>\n",
       "      <td>4.69</td>\n",
       "    </tr>\n",
       "    <tr>\n",
       "      <th>1</th>\n",
       "      <td>price</td>\n",
       "      <td>300.00</td>\n",
       "      <td>80,000.00</td>\n",
       "      <td>79,700.00</td>\n",
       "      <td>2,843.13</td>\n",
       "      <td>2,000.00</td>\n",
       "      <td>2,729.93</td>\n",
       "      <td>5.30</td>\n",
       "      <td>74.39</td>\n",
       "    </tr>\n",
       "    <tr>\n",
       "      <th>2</th>\n",
       "      <td>size</td>\n",
       "      <td>10.00</td>\n",
       "      <td>30,940.00</td>\n",
       "      <td>30,930.00</td>\n",
       "      <td>143.72</td>\n",
       "      <td>110.00</td>\n",
       "      <td>336.26</td>\n",
       "      <td>72.95</td>\n",
       "      <td>6,417.69</td>\n",
       "    </tr>\n",
       "    <tr>\n",
       "      <th>3</th>\n",
       "      <td>rooms</td>\n",
       "      <td>0.00</td>\n",
       "      <td>21.00</td>\n",
       "      <td>21.00</td>\n",
       "      <td>2.52</td>\n",
       "      <td>2.00</td>\n",
       "      <td>1.35</td>\n",
       "      <td>1.49</td>\n",
       "      <td>9.80</td>\n",
       "    </tr>\n",
       "    <tr>\n",
       "      <th>4</th>\n",
       "      <td>bathrooms</td>\n",
       "      <td>1.00</td>\n",
       "      <td>14.00</td>\n",
       "      <td>13.00</td>\n",
       "      <td>2.04</td>\n",
       "      <td>2.00</td>\n",
       "      <td>1.21</td>\n",
       "      <td>1.84</td>\n",
       "      <td>5.89</td>\n",
       "    </tr>\n",
       "    <tr>\n",
       "      <th>5</th>\n",
       "      <td>distance</td>\n",
       "      <td>61.00</td>\n",
       "      <td>49,801.00</td>\n",
       "      <td>49,740.00</td>\n",
       "      <td>11,225.12</td>\n",
       "      <td>6,756.50</td>\n",
       "      <td>10,332.65</td>\n",
       "      <td>0.81</td>\n",
       "      <td>-0.40</td>\n",
       "    </tr>\n",
       "    <tr>\n",
       "      <th>6</th>\n",
       "      <td>has_lift</td>\n",
       "      <td>0.00</td>\n",
       "      <td>1.00</td>\n",
       "      <td>1.00</td>\n",
       "      <td>0.45</td>\n",
       "      <td>0.00</td>\n",
       "      <td>0.50</td>\n",
       "      <td>0.19</td>\n",
       "      <td>-1.96</td>\n",
       "    </tr>\n",
       "    <tr>\n",
       "      <th>7</th>\n",
       "      <td>pagina</td>\n",
       "      <td>1.00</td>\n",
       "      <td>92.00</td>\n",
       "      <td>91.00</td>\n",
       "      <td>29.26</td>\n",
       "      <td>25.00</td>\n",
       "      <td>22.52</td>\n",
       "      <td>0.96</td>\n",
       "      <td>0.25</td>\n",
       "    </tr>\n",
       "    <tr>\n",
       "      <th>8</th>\n",
       "      <td>month</td>\n",
       "      <td>1.00</td>\n",
       "      <td>9.00</td>\n",
       "      <td>8.00</td>\n",
       "      <td>3.72</td>\n",
       "      <td>3.00</td>\n",
       "      <td>2.94</td>\n",
       "      <td>0.66</td>\n",
       "      <td>-0.98</td>\n",
       "    </tr>\n",
       "    <tr>\n",
       "      <th>9</th>\n",
       "      <td>year</td>\n",
       "      <td>2,023.00</td>\n",
       "      <td>2,024.00</td>\n",
       "      <td>1.00</td>\n",
       "      <td>2,023.33</td>\n",
       "      <td>2,023.00</td>\n",
       "      <td>0.47</td>\n",
       "      <td>0.70</td>\n",
       "      <td>-1.50</td>\n",
       "    </tr>\n",
       "    <tr>\n",
       "      <th>10</th>\n",
       "      <td>municipality_mean_price</td>\n",
       "      <td>500.00</td>\n",
       "      <td>6,397.06</td>\n",
       "      <td>5,897.06</td>\n",
       "      <td>2,842.87</td>\n",
       "      <td>2,529.22</td>\n",
       "      <td>1,174.78</td>\n",
       "      <td>0.70</td>\n",
       "      <td>-0.50</td>\n",
       "    </tr>\n",
       "    <tr>\n",
       "      <th>11</th>\n",
       "      <td>province_mean_price</td>\n",
       "      <td>1,937.07</td>\n",
       "      <td>2,944.96</td>\n",
       "      <td>1,007.89</td>\n",
       "      <td>2,843.09</td>\n",
       "      <td>2,944.96</td>\n",
       "      <td>303.48</td>\n",
       "      <td>-2.65</td>\n",
       "      <td>5.02</td>\n",
       "    </tr>\n",
       "    <tr>\n",
       "      <th>12</th>\n",
       "      <td>district_mean_price</td>\n",
       "      <td>500.00</td>\n",
       "      <td>12,900.00</td>\n",
       "      <td>12,400.00</td>\n",
       "      <td>2,267.77</td>\n",
       "      <td>1,950.00</td>\n",
       "      <td>993.04</td>\n",
       "      <td>2.45</td>\n",
       "      <td>15.89</td>\n",
       "    </tr>\n",
       "  </tbody>\n",
       "</table>\n",
       "</div>"
      ],
      "text/plain": [
       "                   features      min       max     range      mean   median  \\\n",
       "0                num_photos     0.00    129.00    129.00     24.90    23.00   \n",
       "1                     price   300.00 80,000.00 79,700.00  2,843.13 2,000.00   \n",
       "2                      size    10.00 30,940.00 30,930.00    143.72   110.00   \n",
       "3                     rooms     0.00     21.00     21.00      2.52     2.00   \n",
       "4                 bathrooms     1.00     14.00     13.00      2.04     2.00   \n",
       "5                  distance    61.00 49,801.00 49,740.00 11,225.12 6,756.50   \n",
       "6                  has_lift     0.00      1.00      1.00      0.45     0.00   \n",
       "7                    pagina     1.00     92.00     91.00     29.26    25.00   \n",
       "8                     month     1.00      9.00      8.00      3.72     3.00   \n",
       "9                      year 2,023.00  2,024.00      1.00  2,023.33 2,023.00   \n",
       "10  municipality_mean_price   500.00  6,397.06  5,897.06  2,842.87 2,529.22   \n",
       "11      province_mean_price 1,937.07  2,944.96  1,007.89  2,843.09 2,944.96   \n",
       "12      district_mean_price   500.00 12,900.00 12,400.00  2,267.77 1,950.00   \n",
       "\n",
       "         std  skew  kurtosis  \n",
       "0      13.01  1.49      4.69  \n",
       "1   2,729.93  5.30     74.39  \n",
       "2     336.26 72.95  6,417.69  \n",
       "3       1.35  1.49      9.80  \n",
       "4       1.21  1.84      5.89  \n",
       "5  10,332.65  0.81     -0.40  \n",
       "6       0.50  0.19     -1.96  \n",
       "7      22.52  0.96      0.25  \n",
       "8       2.94  0.66     -0.98  \n",
       "9       0.47  0.70     -1.50  \n",
       "10  1,174.78  0.70     -0.50  \n",
       "11    303.48 -2.65      5.02  \n",
       "12    993.04  2.45     15.89  "
      ]
     },
     "execution_count": 29,
     "metadata": {},
     "output_type": "execute_result"
    }
   ],
   "source": [
    "# verifico novamente as informações estatísticas\n",
    "stats( df4 , ['latitude','longitude'])"
   ]
  },
  {
   "cell_type": "markdown",
   "id": "f77f429b",
   "metadata": {},
   "source": [
    "### 4.1.1 - Response Variable"
   ]
  },
  {
   "cell_type": "code",
   "execution_count": 30,
   "id": "37727c23",
   "metadata": {
    "ExecuteTime": {
     "end_time": "2024-02-05T10:37:56.558459Z",
     "start_time": "2024-02-05T10:37:55.538961Z"
    }
   },
   "outputs": [
    {
     "data": {
      "text/plain": [
       "<seaborn.axisgrid.FacetGrid at 0x20af4987c50>"
      ]
     },
     "execution_count": 30,
     "metadata": {},
     "output_type": "execute_result"
    },
    {
     "data": {
      "image/png": "[encoded data removed]",
      "text/plain": [
       "<Figure size 500x500 with 1 Axes>"
      ]
     },
     "metadata": {},
     "output_type": "display_data"
    }
   ],
   "source": [
    "# variavael resposta normal\n",
    "sns.displot( df4['price'] )"
   ]
  },
  {
   "cell_type": "code",
   "execution_count": 31,
   "id": "0a757ab7",
   "metadata": {
    "ExecuteTime": {
     "end_time": "2024-02-05T10:37:56.566858Z",
     "start_time": "2024-02-05T10:37:56.560457Z"
    }
   },
   "outputs": [],
   "source": [
    "# função para remover outliers\n",
    "def remove_outliers(df, coluna = None ,  keep_outliers = True ):\n",
    "    \n",
    "    if keep_outliers:\n",
    "        print( 'Outliers mantidos' )\n",
    "        return df\n",
    "        \n",
    "    else:\n",
    "        # variavel resposta sem outliers\n",
    "        df = remover_outliers( df4 , coluna )\n",
    "        print('Outliers removidos')\n",
    "        return df"
   ]
  },
  {
   "cell_type": "code",
   "execution_count": 32,
   "id": "ca498f89",
   "metadata": {
    "ExecuteTime": {
     "end_time": "2024-02-05T10:37:56.575945Z",
     "start_time": "2024-02-05T10:37:56.568857Z"
    }
   },
   "outputs": [
    {
     "name": "stdout",
     "output_type": "stream",
     "text": [
      "Outliers mantidos\n"
     ]
    }
   ],
   "source": [
    "# manter os outliers\n",
    "df4 = remove_outliers( df4 )\n"
   ]
  },
  {
   "cell_type": "markdown",
   "id": "17ad1564",
   "metadata": {},
   "source": [
    "### 4.1.2 - Numerical Variable"
   ]
  },
  {
   "cell_type": "code",
   "execution_count": 33,
   "id": "6046dd00",
   "metadata": {
    "ExecuteTime": {
     "end_time": "2024-02-05T10:37:59.215069Z",
     "start_time": "2024-02-05T10:37:56.576947Z"
    }
   },
   "outputs": [
    {
     "data": {
      "image/png": "[encoded data removed]",
      "text/plain": [
       "<Figure size 1500x1500 with 16 Axes>"
      ]
     },
     "metadata": {},
     "output_type": "display_data"
    }
   ],
   "source": [
    "df4_num_attributes = df4.select_dtypes( include = ['int64','float64'] )\n",
    "df4_num_attributes.hist( bins = 25, figsize=( 15,15 ) );"
   ]
  },
  {
   "cell_type": "markdown",
   "id": "a8a9c4ac",
   "metadata": {},
   "source": [
    "## 4.2. -  Análise Bivariada"
   ]
  },
  {
   "cell_type": "markdown",
   "id": "ec807ab5",
   "metadata": {},
   "source": [
    "### 4.2.1 - Correlação entre Atributos Numéricos"
   ]
  },
  {
   "cell_type": "code",
   "execution_count": 34,
   "id": "252693e3",
   "metadata": {
    "ExecuteTime": {
     "end_time": "2024-02-05T10:38:00.052049Z",
     "start_time": "2024-02-05T10:37:59.216068Z"
    }
   },
   "outputs": [
    {
     "data": {
      "image/png": "[encoded data removed]",
      "text/plain": [
       "<Figure size 1500x1000 with 2 Axes>"
      ]
     },
     "metadata": {},
     "output_type": "display_data"
    }
   ],
   "source": [
    "plt.figure( figsize = (15,10) )\n",
    "correlation = df4_num_attributes.corr( method = 'pearson' )\n",
    "sns.heatmap( correlation, annot = True );"
   ]
  },
  {
   "cell_type": "markdown",
   "id": "acd3b80e",
   "metadata": {
    "ExecuteTime": {
     "end_time": "2023-08-14T21:04:02.912732Z",
     "start_time": "2023-08-14T21:04:02.909470Z"
    }
   },
   "source": [
    "### 4.2.2 - Correlação entre Atributos Categóricos"
   ]
  },
  {
   "cell_type": "code",
   "execution_count": 35,
   "id": "94eab0de",
   "metadata": {
    "ExecuteTime": {
     "end_time": "2024-02-05T10:39:28.450399Z",
     "start_time": "2024-02-05T10:38:00.054046Z"
    },
    "scrolled": true
   },
   "outputs": [
    {
     "name": "stderr",
     "output_type": "stream",
     "text": [
      "C:\\Users\\oscar\\AppData\\Local\\Temp\\ipykernel_7416\\3203194230.py:112: RuntimeWarning: invalid value encountered in sqrt\n",
      "  v = np.sqrt( ( chi2corr/n ) / ( min ( kcorr-1 , rcorr-1 ) )  )\n",
      "C:\\Users\\oscar\\AppData\\Local\\Temp\\ipykernel_7416\\3203194230.py:112: RuntimeWarning: invalid value encountered in sqrt\n",
      "  v = np.sqrt( ( chi2corr/n ) / ( min ( kcorr-1 , rcorr-1 ) )  )\n",
      "C:\\Users\\oscar\\AppData\\Local\\Temp\\ipykernel_7416\\3203194230.py:112: RuntimeWarning: invalid value encountered in sqrt\n",
      "  v = np.sqrt( ( chi2corr/n ) / ( min ( kcorr-1 , rcorr-1 ) )  )\n",
      "C:\\Users\\oscar\\AppData\\Local\\Temp\\ipykernel_7416\\3203194230.py:112: RuntimeWarning: invalid value encountered in sqrt\n",
      "  v = np.sqrt( ( chi2corr/n ) / ( min ( kcorr-1 , rcorr-1 ) )  )\n",
      "C:\\Users\\oscar\\AppData\\Local\\Temp\\ipykernel_7416\\3203194230.py:112: RuntimeWarning: invalid value encountered in sqrt\n",
      "  v = np.sqrt( ( chi2corr/n ) / ( min ( kcorr-1 , rcorr-1 ) )  )\n",
      "C:\\Users\\oscar\\AppData\\Local\\Temp\\ipykernel_7416\\3203194230.py:112: RuntimeWarning: invalid value encountered in sqrt\n",
      "  v = np.sqrt( ( chi2corr/n ) / ( min ( kcorr-1 , rcorr-1 ) )  )\n",
      "C:\\Users\\oscar\\AppData\\Local\\Temp\\ipykernel_7416\\3203194230.py:112: RuntimeWarning: invalid value encountered in sqrt\n",
      "  v = np.sqrt( ( chi2corr/n ) / ( min ( kcorr-1 , rcorr-1 ) )  )\n",
      "C:\\Users\\oscar\\AppData\\Local\\Temp\\ipykernel_7416\\3203194230.py:112: RuntimeWarning: invalid value encountered in sqrt\n",
      "  v = np.sqrt( ( chi2corr/n ) / ( min ( kcorr-1 , rcorr-1 ) )  )\n",
      "C:\\Users\\oscar\\AppData\\Local\\Temp\\ipykernel_7416\\3203194230.py:112: RuntimeWarning: invalid value encountered in sqrt\n",
      "  v = np.sqrt( ( chi2corr/n ) / ( min ( kcorr-1 , rcorr-1 ) )  )\n",
      "C:\\Users\\oscar\\AppData\\Local\\Temp\\ipykernel_7416\\3203194230.py:112: RuntimeWarning: invalid value encountered in sqrt\n",
      "  v = np.sqrt( ( chi2corr/n ) / ( min ( kcorr-1 , rcorr-1 ) )  )\n",
      "C:\\Users\\oscar\\AppData\\Local\\Temp\\ipykernel_7416\\3203194230.py:112: RuntimeWarning: invalid value encountered in sqrt\n",
      "  v = np.sqrt( ( chi2corr/n ) / ( min ( kcorr-1 , rcorr-1 ) )  )\n",
      "C:\\Users\\oscar\\AppData\\Local\\Temp\\ipykernel_7416\\3203194230.py:112: RuntimeWarning: invalid value encountered in sqrt\n",
      "  v = np.sqrt( ( chi2corr/n ) / ( min ( kcorr-1 , rcorr-1 ) )  )\n",
      "C:\\Users\\oscar\\AppData\\Local\\Temp\\ipykernel_7416\\3203194230.py:112: RuntimeWarning: invalid value encountered in sqrt\n",
      "  v = np.sqrt( ( chi2corr/n ) / ( min ( kcorr-1 , rcorr-1 ) )  )\n",
      "C:\\Users\\oscar\\AppData\\Local\\Temp\\ipykernel_7416\\3203194230.py:112: RuntimeWarning: invalid value encountered in sqrt\n",
      "  v = np.sqrt( ( chi2corr/n ) / ( min ( kcorr-1 , rcorr-1 ) )  )\n",
      "C:\\Users\\oscar\\AppData\\Local\\Temp\\ipykernel_7416\\3203194230.py:112: RuntimeWarning: invalid value encountered in sqrt\n",
      "  v = np.sqrt( ( chi2corr/n ) / ( min ( kcorr-1 , rcorr-1 ) )  )\n",
      "C:\\Users\\oscar\\AppData\\Local\\Temp\\ipykernel_7416\\3203194230.py:112: RuntimeWarning: invalid value encountered in sqrt\n",
      "  v = np.sqrt( ( chi2corr/n ) / ( min ( kcorr-1 , rcorr-1 ) )  )\n",
      "C:\\Users\\oscar\\AppData\\Local\\Temp\\ipykernel_7416\\3203194230.py:112: RuntimeWarning: invalid value encountered in sqrt\n",
      "  v = np.sqrt( ( chi2corr/n ) / ( min ( kcorr-1 , rcorr-1 ) )  )\n",
      "C:\\Users\\oscar\\AppData\\Local\\Temp\\ipykernel_7416\\3203194230.py:112: RuntimeWarning: invalid value encountered in sqrt\n",
      "  v = np.sqrt( ( chi2corr/n ) / ( min ( kcorr-1 , rcorr-1 ) )  )\n",
      "C:\\Users\\oscar\\AppData\\Local\\Temp\\ipykernel_7416\\3203194230.py:112: RuntimeWarning: invalid value encountered in sqrt\n",
      "  v = np.sqrt( ( chi2corr/n ) / ( min ( kcorr-1 , rcorr-1 ) )  )\n",
      "C:\\Users\\oscar\\AppData\\Local\\Temp\\ipykernel_7416\\3203194230.py:112: RuntimeWarning: invalid value encountered in sqrt\n",
      "  v = np.sqrt( ( chi2corr/n ) / ( min ( kcorr-1 , rcorr-1 ) )  )\n",
      "C:\\Users\\oscar\\AppData\\Local\\Temp\\ipykernel_7416\\3203194230.py:112: RuntimeWarning: invalid value encountered in sqrt\n",
      "  v = np.sqrt( ( chi2corr/n ) / ( min ( kcorr-1 , rcorr-1 ) )  )\n",
      "C:\\Users\\oscar\\AppData\\Local\\Temp\\ipykernel_7416\\3203194230.py:112: RuntimeWarning: invalid value encountered in sqrt\n",
      "  v = np.sqrt( ( chi2corr/n ) / ( min ( kcorr-1 , rcorr-1 ) )  )\n",
      "C:\\Users\\oscar\\AppData\\Local\\Temp\\ipykernel_7416\\3203194230.py:112: RuntimeWarning: invalid value encountered in sqrt\n",
      "  v = np.sqrt( ( chi2corr/n ) / ( min ( kcorr-1 , rcorr-1 ) )  )\n",
      "C:\\Users\\oscar\\AppData\\Local\\Temp\\ipykernel_7416\\3203194230.py:112: RuntimeWarning: invalid value encountered in sqrt\n",
      "  v = np.sqrt( ( chi2corr/n ) / ( min ( kcorr-1 , rcorr-1 ) )  )\n",
      "C:\\Users\\oscar\\AppData\\Local\\Temp\\ipykernel_7416\\3203194230.py:112: RuntimeWarning: invalid value encountered in sqrt\n",
      "  v = np.sqrt( ( chi2corr/n ) / ( min ( kcorr-1 , rcorr-1 ) )  )\n",
      "C:\\Users\\oscar\\AppData\\Local\\Temp\\ipykernel_7416\\3203194230.py:112: RuntimeWarning: invalid value encountered in sqrt\n",
      "  v = np.sqrt( ( chi2corr/n ) / ( min ( kcorr-1 , rcorr-1 ) )  )\n",
      "C:\\Users\\oscar\\AppData\\Local\\Temp\\ipykernel_7416\\3203194230.py:112: RuntimeWarning: invalid value encountered in sqrt\n",
      "  v = np.sqrt( ( chi2corr/n ) / ( min ( kcorr-1 , rcorr-1 ) )  )\n",
      "C:\\Users\\oscar\\AppData\\Local\\Temp\\ipykernel_7416\\3203194230.py:112: RuntimeWarning: invalid value encountered in sqrt\n",
      "  v = np.sqrt( ( chi2corr/n ) / ( min ( kcorr-1 , rcorr-1 ) )  )\n",
      "C:\\Users\\oscar\\AppData\\Local\\Temp\\ipykernel_7416\\3203194230.py:112: RuntimeWarning: invalid value encountered in sqrt\n",
      "  v = np.sqrt( ( chi2corr/n ) / ( min ( kcorr-1 , rcorr-1 ) )  )\n",
      "C:\\Users\\oscar\\AppData\\Local\\Temp\\ipykernel_7416\\3203194230.py:112: RuntimeWarning: invalid value encountered in sqrt\n",
      "  v = np.sqrt( ( chi2corr/n ) / ( min ( kcorr-1 , rcorr-1 ) )  )\n",
      "C:\\Users\\oscar\\AppData\\Local\\Temp\\ipykernel_7416\\3203194230.py:112: RuntimeWarning: invalid value encountered in sqrt\n",
      "  v = np.sqrt( ( chi2corr/n ) / ( min ( kcorr-1 , rcorr-1 ) )  )\n"
     ]
    }
   ],
   "source": [
    "a = df4.select_dtypes( include = ['object'] ) # pego o df mais atualizado\n",
    "\n",
    "# aplico a função cramer v nas variáveis categoricas\n",
    "a1 = cramer_v( a['floor'] , a['floor'] )\n",
    "a2 = cramer_v( a['floor'], a['property_type'] )\n",
    "a3 = cramer_v( a['floor'], a['address'] )\n",
    "a4 = cramer_v( a['floor'], a['province'] )\n",
    "a5 = cramer_v( a['floor'], a['municipality'] )\n",
    "a6 = cramer_v( a['floor'], a['district'] )\n",
    "a7 = cramer_v( a['floor'], a['description'] )\n",
    "a8 = cramer_v( a['floor'], a['status'] )\n",
    "a9 = cramer_v( a['floor'], a['detailed_type'] )\n",
    "a10 = cramer_v( a['floor'], a['suggested_texts'] )\n",
    "a11 = cramer_v( a['floor'], a['parking_space'] )\n",
    "\n",
    "# aplico a função cramer v nas variáveis categoricas\n",
    "a12= cramer_v( a['property_type'], a['floor'] )\n",
    "a13= cramer_v( a['property_type'], a['property_type'] )\n",
    "a14= cramer_v( a['property_type'], a['address'] )\n",
    "a15= cramer_v( a['property_type'], a['province'] )\n",
    "a16= cramer_v( a['property_type'], a['municipality'] )\n",
    "a17= cramer_v( a['property_type'], a['district'] )\n",
    "a18= cramer_v( a['property_type'], a['description'] )\n",
    "a19= cramer_v( a['property_type'], a['status'] )\n",
    "a20= cramer_v( a['property_type'], a['detailed_type'] )\n",
    "a21=cramer_v(  a['property_type'], a['suggested_texts'] )\n",
    "a22=cramer_v(  a['property_type'], a['parking_space'] )\n",
    "\n",
    "# aplico a função cramer v nas variáveis categoricas\n",
    "a23= cramer_v( a['address'], a['floor'] )\n",
    "a24= cramer_v( a['address'], a['property_type'] )\n",
    "a25= cramer_v( a['address'], a['address'] )\n",
    "a26= cramer_v( a['address'], a['province'] )\n",
    "a27= cramer_v( a['address'], a['municipality'] )\n",
    "a28= cramer_v( a['address'], a['district'] )\n",
    "a29= cramer_v( a['address'], a['description'] )\n",
    "a30= cramer_v( a['address'], a['status'] )\n",
    "a31= cramer_v( a['address'], a['detailed_type'] )\n",
    "a32=cramer_v(  a['address'], a['suggested_texts'] )\n",
    "a33=cramer_v(  a['address'], a['parking_space'] )\n",
    "\n",
    "# aplico a função cramer v nas variáveis categoricas\n",
    "a34= cramer_v( a['province'], a['floor'] )\n",
    "a35= cramer_v( a['province'], a['property_type'] )\n",
    "a36= cramer_v( a['province'], a['address'] )\n",
    "a37= cramer_v( a['province'], a['province'] )\n",
    "a38= cramer_v( a['province'], a['municipality'] )\n",
    "a39= cramer_v( a['province'], a['district'] )\n",
    "a40= cramer_v( a['province'], a['description'] )\n",
    "a41= cramer_v( a['province'], a['status'] )\n",
    "a42= cramer_v( a['province'], a['detailed_type'] )\n",
    "a43=cramer_v(  a['province'], a['suggested_texts'] )\n",
    "a44=cramer_v(  a['province'], a['parking_space'] )\n",
    "\n",
    "# aplico a função cramer v nas variáveis categoricas\n",
    "a45= cramer_v( a['municipality'], a['floor'] )\n",
    "a46= cramer_v( a['municipality'], a['property_type'] )\n",
    "a47= cramer_v( a['municipality'], a['address'] )\n",
    "a48= cramer_v( a['municipality'], a['province'] )\n",
    "a49= cramer_v( a['municipality'], a['municipality'] )\n",
    "a50= cramer_v( a['municipality'], a['district'] )\n",
    "a51= cramer_v( a['municipality'], a['description'] )\n",
    "a52= cramer_v( a['municipality'], a['status'] )\n",
    "a53= cramer_v( a['municipality'], a['detailed_type'] )\n",
    "a54=cramer_v(  a['municipality'], a['suggested_texts'] )\n",
    "a55=cramer_v(  a['municipality'], a['parking_space'] )\n",
    "\n",
    "# aplico a função cramer v nas variáveis categoricas\n",
    "a56= cramer_v( a['district'], a['floor'] )\n",
    "a57= cramer_v( a['district'], a['property_type'] )\n",
    "a58= cramer_v( a['district'], a['address'] )\n",
    "a59= cramer_v( a['district'], a['province'] )\n",
    "a60= cramer_v( a['district'], a['municipality'] )\n",
    "a61= cramer_v( a['district'], a['district'] )\n",
    "a62= cramer_v( a['district'], a['description'] )\n",
    "a63= cramer_v( a['district'], a['status'] )\n",
    "a64= cramer_v( a['district'], a['detailed_type'] )\n",
    "a65=cramer_v(  a['district'], a['suggested_texts'] )\n",
    "a66=cramer_v(  a['district'], a['parking_space'] )\n",
    "\n",
    "# aplico a função cramer v nas variáveis categoricas\n",
    "a67= cramer_v( a['description'], a['floor'] )\n",
    "a68= cramer_v( a['description'], a['property_type'] )\n",
    "a69= cramer_v( a['description'], a['address'] )\n",
    "a70= cramer_v( a['description'], a['province'] )\n",
    "a71= cramer_v( a['description'], a['municipality'] )\n",
    "a72= cramer_v( a['description'], a['district'] )\n",
    "a73= cramer_v( a['description'], a['description'] )\n",
    "a74= cramer_v( a['description'], a['status'] )\n",
    "a75= cramer_v( a['description'], a['detailed_type'] )\n",
    "a76=cramer_v(  a['description'], a['suggested_texts'] )\n",
    "a77=cramer_v(  a['description'], a['parking_space'] )\n",
    "\n",
    "# aplico a função cramer v nas variáveis categoricas\n",
    "a78= cramer_v( a['status'], a['floor'] )\n",
    "a79= cramer_v( a['status'], a['property_type'] )\n",
    "a80= cramer_v( a['status'], a['address'] )\n",
    "a81= cramer_v( a['status'], a['province'] )\n",
    "a82= cramer_v( a['status'], a['municipality'] )\n",
    "a83= cramer_v( a['status'], a['district'] )\n",
    "a84= cramer_v( a['status'], a['description'] )\n",
    "a85= cramer_v( a['status'], a['status'] )\n",
    "a86= cramer_v( a['status'], a['detailed_type'] )\n",
    "a87=cramer_v(  a['status'], a['suggested_texts'] )\n",
    "a88=cramer_v(  a['status'], a['parking_space'] )\n",
    "\n",
    "# aplico a função cramer v nas variáveis categoricas\n",
    "a89= cramer_v( a['detailed_type'], a['floor'] )\n",
    "a90= cramer_v( a['detailed_type'], a['property_type'] )\n",
    "a91= cramer_v( a['detailed_type'], a['address'] )\n",
    "a92= cramer_v( a['detailed_type'], a['province'] )\n",
    "a93= cramer_v( a['detailed_type'], a['municipality'] )\n",
    "a94= cramer_v( a['detailed_type'], a['district'] )\n",
    "a95= cramer_v( a['detailed_type'], a['description'] )\n",
    "a96= cramer_v( a['detailed_type'], a['status'] )\n",
    "a97= cramer_v( a['detailed_type'], a['detailed_type'] )\n",
    "a98=cramer_v(  a['detailed_type'], a['suggested_texts'] )\n",
    "a99=cramer_v(  a['detailed_type'], a['parking_space'] )\n",
    "\n",
    "# aplico a função cramer v nas variáveis categoricas\n",
    "a100= cramer_v( a['suggested_texts'], a['floor'] )\n",
    "a101= cramer_v( a['suggested_texts'], a['property_type'] )\n",
    "a102= cramer_v( a['suggested_texts'], a['address'] )\n",
    "a103= cramer_v( a['suggested_texts'], a['province'] )\n",
    "a104= cramer_v( a['suggested_texts'], a['municipality'] )\n",
    "a105= cramer_v( a['suggested_texts'], a['district'] )\n",
    "a106= cramer_v( a['suggested_texts'], a['description'] )\n",
    "a107= cramer_v( a['suggested_texts'], a['status'] )\n",
    "a108= cramer_v( a['suggested_texts'], a['detailed_type'] )\n",
    "a109=cramer_v(  a['suggested_texts'], a['suggested_texts'] )\n",
    "a110=cramer_v(  a['suggested_texts'], a['parking_space'] )\n",
    "\n",
    "# aplico a função cramer v nas variáveis categoricas\n",
    "a111= cramer_v( a['parking_space'], a['floor'] )\n",
    "a112= cramer_v( a['parking_space'], a['property_type'] )\n",
    "a113= cramer_v( a['parking_space'], a['address'] )\n",
    "a114= cramer_v( a['parking_space'], a['province'] )\n",
    "a115= cramer_v( a['parking_space'], a['municipality'] )\n",
    "a116= cramer_v( a['parking_space'], a['district'] )\n",
    "a117= cramer_v( a['parking_space'], a['description'] )\n",
    "a118= cramer_v( a['parking_space'], a['status'] )\n",
    "a119= cramer_v( a['parking_space'], a['detailed_type'] )\n",
    "a120=cramer_v(  a['parking_space'], a['suggested_texts'] )\n",
    "a121=cramer_v(  a['parking_space'], a['parking_space'] )\n",
    "\n",
    "\n",
    "\n",
    "d = pd.DataFrame( {'floor' : [a1,a2,a3,a4,a5,a6,a7,a8,a9,a10,a11],\n",
    "                   'property_type' : [a12,a13,a14,a15,a16,a17,a18,a19,a20,a21,a22],\n",
    "                   'address' : [a23,a24,a25,a26,a27,a28,a29,a30,a31,a32,a33],\n",
    "                   'province' : [a34,a35,a36,a37,a38,a39,a40,a41,a42,a43,a44],\n",
    "                   'municipality' : [a45,a46,a47,a48,a49,a50,a51,a52,a53,a54,a55],\n",
    "                   'district' : [a56,a57,a58,a59,a60,a61,a62,a63,a64,a65,a66],\n",
    "                   'description' : [a67,a68,a69,a70,a71,a72,a73,a74,a75,a76,a77],\n",
    "                   'status' : [a78,a79,a80,a81,a82,a83,a84,a85,a86,a87,a88],\n",
    "                   'detailed_type' : [a89,a90,a91,a92,a93,a94,a95,a96,a97,a98,a99],\n",
    "                   'suggested_texts' : [a100,a101,a102,a103,a104,a105,a106,a107,a108,a109,a110],\n",
    "                   'parking_space' : [a111,a112,a113,a114,a115,a116,a117,a118,a119,a120,a121]\n",
    "              \n",
    "              } )\n",
    "\n",
    "d = d.set_index( d.columns )\n",
    "d = d.drop( 'province', axis = 1 )"
   ]
  },
  {
   "cell_type": "code",
   "execution_count": 36,
   "id": "c5b66228",
   "metadata": {
    "ExecuteTime": {
     "end_time": "2024-02-05T10:39:28.937531Z",
     "start_time": "2024-02-05T10:39:28.452396Z"
    }
   },
   "outputs": [
    {
     "data": {
      "image/png": "[encoded data removed]",
      "text/plain": [
       "<Figure size 1000x500 with 2 Axes>"
      ]
     },
     "metadata": {},
     "output_type": "display_data"
    }
   ],
   "source": [
    "plt.figure(figsize=(10,5))\n",
    "correlation = d.corr( method = 'pearson' )\n",
    "sns.heatmap( correlation, annot = True );"
   ]
  },
  {
   "cell_type": "markdown",
   "id": "badb3cfe",
   "metadata": {},
   "source": [
    "# Data Preparation"
   ]
  },
  {
   "cell_type": "code",
   "execution_count": 37,
   "id": "4ac320b7",
   "metadata": {
    "ExecuteTime": {
     "end_time": "2024-02-05T10:39:28.945623Z",
     "start_time": "2024-02-05T10:39:28.939573Z"
    }
   },
   "outputs": [],
   "source": [
    "df5 = df4.copy()"
   ]
  },
  {
   "cell_type": "markdown",
   "id": "8afacc0f",
   "metadata": {},
   "source": [
    "## 5.1. - Rescaling"
   ]
  },
  {
   "cell_type": "code",
   "execution_count": 38,
   "id": "55ea51fe",
   "metadata": {
    "ExecuteTime": {
     "end_time": "2024-02-05T10:39:28.991361Z",
     "start_time": "2024-02-05T10:39:28.947623Z"
    }
   },
   "outputs": [],
   "source": [
    "def rescaling_data(df, rescale = False ):\n",
    "    \n",
    "    if rescale:\n",
    "        rs = RobustScaler() # usado para variáveis que tem outliers\n",
    "        mms = MinMaxScaler() \n",
    "    \n",
    "        # distance\n",
    "        df['distance'] = mms.fit_transform( df[['distance']].values )\n",
    "        \n",
    "        print('Rescaled')\n",
    "        \n",
    "        return  df\n",
    "    else:\n",
    "        print('Not rescaled')\n",
    "        \n",
    "        return df"
   ]
  },
  {
   "cell_type": "code",
   "execution_count": 39,
   "id": "3fce7176",
   "metadata": {
    "ExecuteTime": {
     "end_time": "2024-02-05T10:39:28.998123Z",
     "start_time": "2024-02-05T10:39:28.993404Z"
    }
   },
   "outputs": [
    {
     "name": "stdout",
     "output_type": "stream",
     "text": [
      "Not rescaled\n"
     ]
    }
   ],
   "source": [
    "df5 = rescaling_data( df5 )"
   ]
  },
  {
   "cell_type": "markdown",
   "id": "46839dcc",
   "metadata": {},
   "source": [
    "## 5.2 Encoding "
   ]
  },
  {
   "cell_type": "code",
   "execution_count": 40,
   "id": "9f6a5cce",
   "metadata": {
    "ExecuteTime": {
     "end_time": "2024-02-05T10:39:29.016881Z",
     "start_time": "2024-02-05T10:39:29.001121Z"
    }
   },
   "outputs": [],
   "source": [
    "def encoding( df ):\n",
    "    \n",
    "    # floor - substituo os andares com letras\n",
    "    df['floor'] = df['floor'].replace( ['bj','st','ss','en'], 0 )\n",
    "\n",
    "    # transformo em inteiros\n",
    "    df['floor'] = df['floor'].astype( 'int64' )\n",
    "\n",
    "    #property_type - label\n",
    "    property_encoder = LabelEncoder()\n",
    "\n",
    "    df['property_type'] = property_encoder.fit_transform( df['property_type'] )\n",
    "    \n",
    "    # address - label\n",
    "    address_encoder = LabelEncoder()\n",
    "    df['address'] = address_encoder.fit_transform( df['address'] )\n",
    "    \n",
    "    # district - label\n",
    "    district_encoder = LabelEncoder()\n",
    "    df['district'] = district_encoder.fit_transform( df['district'] )\n",
    "    \n",
    "    # municipality - label\n",
    "    municipality_encoder = LabelEncoder()\n",
    "    df['municipality'] = municipality_encoder.fit_transform( df['municipality'] )\n",
    " \n",
    "    # Show address\n",
    "    encoding = {True: 1 , False: 0}\n",
    "    df['show_address'] = df['show_address'].apply( lambda x : 1 if x == True else 0 )\n",
    "\n",
    "    # description\n",
    "    df['description'] = df['description'].apply( lambda x : len(x) )\n",
    "\n",
    "    # has_video\n",
    "    encoding = {True: 1 , False: 0}\n",
    "    df['has_video'] = df['has_video'].map( encoding )\n",
    "\n",
    "    # status\n",
    "    status_dict = {'good' : 1, 'renew' :2, 'newdevelopment' : 3}\n",
    "    df['status'] = df['status'].map( status_dict )\n",
    "\n",
    "    # new_development\n",
    "    encoding = {True: 1 , False: 0}\n",
    "    df['new_development'] = df['new_development'].map( encoding )\n",
    "\n",
    "    # detailed type - label\n",
    "    detailed_type_encoder = LabelEncoder()\n",
    "    \n",
    "    df['detailed_type'] = df['detailed_type'].apply(lambda x: ast.literal_eval(x) )\n",
    "    df['detailed_type'] = df['detailed_type'].apply(lambda x: x['typology'] )\n",
    "    df['detailed_type'] = detailed_type_encoder.fit_transform( df['detailed_type'] )\n",
    "\n",
    "    # suggested text\n",
    "    df['suggested_texts'] = df['suggested_texts'].apply( lambda x : ast.literal_eval(x) )\n",
    "    df['suggested_texts'] = df['suggested_texts'].apply( lambda x : x['title'] )\n",
    "    df['suggested_texts'] = df['suggested_texts'].apply( lambda x : len(x) )\n",
    "\n",
    "    # hasplan\n",
    "    encoding = {True: 1 , False: 0}\n",
    "    df['has_plan'] = df['has_plan'].map( encoding )\n",
    "\n",
    "    # has3_d_tour\n",
    "    encoding = {True: 1 , False: 0}\n",
    "    df['has3_d_tour'] = df['has3_d_tour'].map( encoding )\n",
    "\n",
    "    # has360\n",
    "    encoding = {True: 1 , False: 0}\n",
    "    df['has360'] = df['has360'].map( encoding )\n",
    "\n",
    "    #parking_space\n",
    "    encoding = {True: 1 , False: 0}\n",
    "    df['parking_space'] = df['parking_space'].apply(lambda x: ast.literal_eval(x) if x != 0 else x ) \n",
    "    df['parking_space'] = df['parking_space'].apply(lambda x: x['hasParkingSpace'] if x != 0 else x ) \n",
    "    df['parking_space'] = df['parking_space'].map( encoding )\n",
    "\n",
    "    # province \n",
    "    encoder = {'Lisboa': 1,'Setúbal' : 2, 'Santarém' : 3}\n",
    "    df['province'] = df['province'].map( encoder )\n",
    "\n",
    "    # has_staging\n",
    "    df['has_staging'] = df['has_staging'].apply( lambda x: 1 if x   else 0   )\n",
    "\n",
    "    # top_new_development\n",
    "    df['top_new_development'] = df['top_new_development'].apply( lambda x: 1 if x  else 0 )\n",
    "    \n",
    "    return df"
   ]
  },
  {
   "cell_type": "code",
   "execution_count": 41,
   "id": "81cddf51",
   "metadata": {
    "ExecuteTime": {
     "end_time": "2024-02-05T10:39:29.568754Z",
     "start_time": "2024-02-05T10:39:29.018880Z"
    }
   },
   "outputs": [
    {
     "data": {
      "text/html": [
       "<div>\n",
       "<style scoped>\n",
       "    .dataframe tbody tr th:only-of-type {\n",
       "        vertical-align: middle;\n",
       "    }\n",
       "\n",
       "    .dataframe tbody tr th {\n",
       "        vertical-align: top;\n",
       "    }\n",
       "\n",
       "    .dataframe thead th {\n",
       "        text-align: right;\n",
       "    }\n",
       "</style>\n",
       "<table border=\"1\" class=\"dataframe\">\n",
       "  <thead>\n",
       "    <tr style=\"text-align: right;\">\n",
       "      <th></th>\n",
       "      <th>thumbnail</th>\n",
       "      <th>num_photos</th>\n",
       "      <th>floor</th>\n",
       "      <th>price</th>\n",
       "      <th>property_type</th>\n",
       "      <th>size</th>\n",
       "      <th>rooms</th>\n",
       "      <th>bathrooms</th>\n",
       "      <th>address</th>\n",
       "      <th>province</th>\n",
       "      <th>...</th>\n",
       "      <th>has360</th>\n",
       "      <th>has_staging</th>\n",
       "      <th>top_new_development</th>\n",
       "      <th>parking_space</th>\n",
       "      <th>pagina</th>\n",
       "      <th>month</th>\n",
       "      <th>year</th>\n",
       "      <th>municipality_mean_price</th>\n",
       "      <th>province_mean_price</th>\n",
       "      <th>district_mean_price</th>\n",
       "    </tr>\n",
       "  </thead>\n",
       "  <tbody>\n",
       "    <tr>\n",
       "      <th>0</th>\n",
       "      <td>1</td>\n",
       "      <td>9.00</td>\n",
       "      <td>6</td>\n",
       "      <td>900.00</td>\n",
       "      <td>3</td>\n",
       "      <td>65.00</td>\n",
       "      <td>1.00</td>\n",
       "      <td>1.00</td>\n",
       "      <td>1116</td>\n",
       "      <td>1</td>\n",
       "      <td>...</td>\n",
       "      <td>0</td>\n",
       "      <td>0</td>\n",
       "      <td>0</td>\n",
       "      <td>0</td>\n",
       "      <td>1.00</td>\n",
       "      <td>4</td>\n",
       "      <td>2023</td>\n",
       "      <td>2,357.56</td>\n",
       "      <td>2,944.96</td>\n",
       "      <td>1,500.00</td>\n",
       "    </tr>\n",
       "    <tr>\n",
       "      <th>1</th>\n",
       "      <td>1</td>\n",
       "      <td>26.00</td>\n",
       "      <td>2</td>\n",
       "      <td>750.00</td>\n",
       "      <td>3</td>\n",
       "      <td>80.00</td>\n",
       "      <td>1.00</td>\n",
       "      <td>1.00</td>\n",
       "      <td>2742</td>\n",
       "      <td>1</td>\n",
       "      <td>...</td>\n",
       "      <td>0</td>\n",
       "      <td>0</td>\n",
       "      <td>0</td>\n",
       "      <td>1</td>\n",
       "      <td>1.00</td>\n",
       "      <td>4</td>\n",
       "      <td>2023</td>\n",
       "      <td>1,962.97</td>\n",
       "      <td>2,944.96</td>\n",
       "      <td>1,100.00</td>\n",
       "    </tr>\n",
       "    <tr>\n",
       "      <th>2</th>\n",
       "      <td>1</td>\n",
       "      <td>32.00</td>\n",
       "      <td>0</td>\n",
       "      <td>1,500.00</td>\n",
       "      <td>3</td>\n",
       "      <td>64.00</td>\n",
       "      <td>1.00</td>\n",
       "      <td>2.00</td>\n",
       "      <td>303</td>\n",
       "      <td>1</td>\n",
       "      <td>...</td>\n",
       "      <td>0</td>\n",
       "      <td>0</td>\n",
       "      <td>0</td>\n",
       "      <td>1</td>\n",
       "      <td>1.00</td>\n",
       "      <td>4</td>\n",
       "      <td>2023</td>\n",
       "      <td>1,928.27</td>\n",
       "      <td>2,944.96</td>\n",
       "      <td>1,500.00</td>\n",
       "    </tr>\n",
       "    <tr>\n",
       "      <th>3</th>\n",
       "      <td>1</td>\n",
       "      <td>24.00</td>\n",
       "      <td>0</td>\n",
       "      <td>950.00</td>\n",
       "      <td>3</td>\n",
       "      <td>57.00</td>\n",
       "      <td>1.00</td>\n",
       "      <td>1.00</td>\n",
       "      <td>1104</td>\n",
       "      <td>1</td>\n",
       "      <td>...</td>\n",
       "      <td>0</td>\n",
       "      <td>0</td>\n",
       "      <td>0</td>\n",
       "      <td>0</td>\n",
       "      <td>1.00</td>\n",
       "      <td>4</td>\n",
       "      <td>2023</td>\n",
       "      <td>1,637.26</td>\n",
       "      <td>2,944.96</td>\n",
       "      <td>1,450.00</td>\n",
       "    </tr>\n",
       "    <tr>\n",
       "      <th>4</th>\n",
       "      <td>1</td>\n",
       "      <td>10.00</td>\n",
       "      <td>0</td>\n",
       "      <td>1,850.00</td>\n",
       "      <td>3</td>\n",
       "      <td>131.00</td>\n",
       "      <td>2.00</td>\n",
       "      <td>2.00</td>\n",
       "      <td>2759</td>\n",
       "      <td>1</td>\n",
       "      <td>...</td>\n",
       "      <td>0</td>\n",
       "      <td>0</td>\n",
       "      <td>0</td>\n",
       "      <td>1</td>\n",
       "      <td>1.00</td>\n",
       "      <td>4</td>\n",
       "      <td>2023</td>\n",
       "      <td>2,357.56</td>\n",
       "      <td>2,944.96</td>\n",
       "      <td>1,575.00</td>\n",
       "    </tr>\n",
       "    <tr>\n",
       "      <th>...</th>\n",
       "      <td>...</td>\n",
       "      <td>...</td>\n",
       "      <td>...</td>\n",
       "      <td>...</td>\n",
       "      <td>...</td>\n",
       "      <td>...</td>\n",
       "      <td>...</td>\n",
       "      <td>...</td>\n",
       "      <td>...</td>\n",
       "      <td>...</td>\n",
       "      <td>...</td>\n",
       "      <td>...</td>\n",
       "      <td>...</td>\n",
       "      <td>...</td>\n",
       "      <td>...</td>\n",
       "      <td>...</td>\n",
       "      <td>...</td>\n",
       "      <td>...</td>\n",
       "      <td>...</td>\n",
       "      <td>...</td>\n",
       "      <td>...</td>\n",
       "    </tr>\n",
       "    <tr>\n",
       "      <th>11174</th>\n",
       "      <td>1</td>\n",
       "      <td>38.00</td>\n",
       "      <td>0</td>\n",
       "      <td>29,000.00</td>\n",
       "      <td>0</td>\n",
       "      <td>500.00</td>\n",
       "      <td>4.00</td>\n",
       "      <td>5.00</td>\n",
       "      <td>846</td>\n",
       "      <td>1</td>\n",
       "      <td>...</td>\n",
       "      <td>0</td>\n",
       "      <td>0</td>\n",
       "      <td>0</td>\n",
       "      <td>1</td>\n",
       "      <td>6.00</td>\n",
       "      <td>7</td>\n",
       "      <td>2023</td>\n",
       "      <td>4,959.59</td>\n",
       "      <td>2,944.96</td>\n",
       "      <td>3,650.00</td>\n",
       "    </tr>\n",
       "    <tr>\n",
       "      <th>11175</th>\n",
       "      <td>1</td>\n",
       "      <td>35.00</td>\n",
       "      <td>0</td>\n",
       "      <td>2,900.00</td>\n",
       "      <td>3</td>\n",
       "      <td>190.00</td>\n",
       "      <td>3.00</td>\n",
       "      <td>2.00</td>\n",
       "      <td>686</td>\n",
       "      <td>1</td>\n",
       "      <td>...</td>\n",
       "      <td>0</td>\n",
       "      <td>0</td>\n",
       "      <td>0</td>\n",
       "      <td>0</td>\n",
       "      <td>6.00</td>\n",
       "      <td>7</td>\n",
       "      <td>2023</td>\n",
       "      <td>4,959.59</td>\n",
       "      <td>2,944.96</td>\n",
       "      <td>3,650.00</td>\n",
       "    </tr>\n",
       "    <tr>\n",
       "      <th>11176</th>\n",
       "      <td>1</td>\n",
       "      <td>42.00</td>\n",
       "      <td>0</td>\n",
       "      <td>6,250.00</td>\n",
       "      <td>4</td>\n",
       "      <td>158.00</td>\n",
       "      <td>4.00</td>\n",
       "      <td>3.00</td>\n",
       "      <td>88</td>\n",
       "      <td>1</td>\n",
       "      <td>...</td>\n",
       "      <td>1</td>\n",
       "      <td>0</td>\n",
       "      <td>0</td>\n",
       "      <td>0</td>\n",
       "      <td>6.00</td>\n",
       "      <td>7</td>\n",
       "      <td>2023</td>\n",
       "      <td>2,015.43</td>\n",
       "      <td>2,944.96</td>\n",
       "      <td>2,000.00</td>\n",
       "    </tr>\n",
       "    <tr>\n",
       "      <th>11177</th>\n",
       "      <td>1</td>\n",
       "      <td>26.00</td>\n",
       "      <td>5</td>\n",
       "      <td>1,650.00</td>\n",
       "      <td>3</td>\n",
       "      <td>64.00</td>\n",
       "      <td>2.00</td>\n",
       "      <td>1.00</td>\n",
       "      <td>1690</td>\n",
       "      <td>1</td>\n",
       "      <td>...</td>\n",
       "      <td>1</td>\n",
       "      <td>0</td>\n",
       "      <td>0</td>\n",
       "      <td>0</td>\n",
       "      <td>6.00</td>\n",
       "      <td>7</td>\n",
       "      <td>2023</td>\n",
       "      <td>4,959.59</td>\n",
       "      <td>2,944.96</td>\n",
       "      <td>3,050.00</td>\n",
       "    </tr>\n",
       "    <tr>\n",
       "      <th>11178</th>\n",
       "      <td>1</td>\n",
       "      <td>22.00</td>\n",
       "      <td>2</td>\n",
       "      <td>2,250.00</td>\n",
       "      <td>3</td>\n",
       "      <td>83.00</td>\n",
       "      <td>2.00</td>\n",
       "      <td>1.00</td>\n",
       "      <td>992</td>\n",
       "      <td>1</td>\n",
       "      <td>...</td>\n",
       "      <td>0</td>\n",
       "      <td>0</td>\n",
       "      <td>0</td>\n",
       "      <td>0</td>\n",
       "      <td>6.00</td>\n",
       "      <td>7</td>\n",
       "      <td>2023</td>\n",
       "      <td>2,719.75</td>\n",
       "      <td>2,944.96</td>\n",
       "      <td>2,340.00</td>\n",
       "    </tr>\n",
       "  </tbody>\n",
       "</table>\n",
       "<p>11178 rows × 35 columns</p>\n",
       "</div>"
      ],
      "text/plain": [
       "       thumbnail  num_photos  floor     price  property_type   size  rooms  \\\n",
       "0              1        9.00      6    900.00              3  65.00   1.00   \n",
       "1              1       26.00      2    750.00              3  80.00   1.00   \n",
       "2              1       32.00      0  1,500.00              3  64.00   1.00   \n",
       "3              1       24.00      0    950.00              3  57.00   1.00   \n",
       "4              1       10.00      0  1,850.00              3 131.00   2.00   \n",
       "...          ...         ...    ...       ...            ...    ...    ...   \n",
       "11174          1       38.00      0 29,000.00              0 500.00   4.00   \n",
       "11175          1       35.00      0  2,900.00              3 190.00   3.00   \n",
       "11176          1       42.00      0  6,250.00              4 158.00   4.00   \n",
       "11177          1       26.00      5  1,650.00              3  64.00   2.00   \n",
       "11178          1       22.00      2  2,250.00              3  83.00   2.00   \n",
       "\n",
       "       bathrooms  address  province  ...  has360  has_staging  \\\n",
       "0           1.00     1116         1  ...       0            0   \n",
       "1           1.00     2742         1  ...       0            0   \n",
       "2           2.00      303         1  ...       0            0   \n",
       "3           1.00     1104         1  ...       0            0   \n",
       "4           2.00     2759         1  ...       0            0   \n",
       "...          ...      ...       ...  ...     ...          ...   \n",
       "11174       5.00      846         1  ...       0            0   \n",
       "11175       2.00      686         1  ...       0            0   \n",
       "11176       3.00       88         1  ...       1            0   \n",
       "11177       1.00     1690         1  ...       1            0   \n",
       "11178       1.00      992         1  ...       0            0   \n",
       "\n",
       "       top_new_development  parking_space  pagina  month  year  \\\n",
       "0                        0              0    1.00      4  2023   \n",
       "1                        0              1    1.00      4  2023   \n",
       "2                        0              1    1.00      4  2023   \n",
       "3                        0              0    1.00      4  2023   \n",
       "4                        0              1    1.00      4  2023   \n",
       "...                    ...            ...     ...    ...   ...   \n",
       "11174                    0              1    6.00      7  2023   \n",
       "11175                    0              0    6.00      7  2023   \n",
       "11176                    0              0    6.00      7  2023   \n",
       "11177                    0              0    6.00      7  2023   \n",
       "11178                    0              0    6.00      7  2023   \n",
       "\n",
       "       municipality_mean_price  province_mean_price  district_mean_price  \n",
       "0                     2,357.56             2,944.96             1,500.00  \n",
       "1                     1,962.97             2,944.96             1,100.00  \n",
       "2                     1,928.27             2,944.96             1,500.00  \n",
       "3                     1,637.26             2,944.96             1,450.00  \n",
       "4                     2,357.56             2,944.96             1,575.00  \n",
       "...                        ...                  ...                  ...  \n",
       "11174                 4,959.59             2,944.96             3,650.00  \n",
       "11175                 4,959.59             2,944.96             3,650.00  \n",
       "11176                 2,015.43             2,944.96             2,000.00  \n",
       "11177                 4,959.59             2,944.96             3,050.00  \n",
       "11178                 2,719.75             2,944.96             2,340.00  \n",
       "\n",
       "[11178 rows x 35 columns]"
      ]
     },
     "execution_count": 41,
     "metadata": {},
     "output_type": "execute_result"
    }
   ],
   "source": [
    "df5 = encoding( df5 )\n",
    "df5"
   ]
  },
  {
   "cell_type": "markdown",
   "id": "7bdafed8",
   "metadata": {},
   "source": [
    "# 6.0 Feature Selection"
   ]
  },
  {
   "cell_type": "code",
   "execution_count": 42,
   "id": "02f6e93b",
   "metadata": {
    "ExecuteTime": {
     "end_time": "2024-02-05T10:39:29.576687Z",
     "start_time": "2024-02-05T10:39:29.570751Z"
    }
   },
   "outputs": [],
   "source": [
    "df6 = df5.copy()"
   ]
  },
  {
   "cell_type": "markdown",
   "id": "11189951",
   "metadata": {
    "ExecuteTime": {
     "end_time": "2023-08-13T00:21:22.012478Z",
     "start_time": "2023-08-13T00:21:22.009576Z"
    }
   },
   "source": [
    "## 6.1 Boruta"
   ]
  },
  {
   "cell_type": "code",
   "execution_count": 43,
   "id": "547e5217",
   "metadata": {
    "ExecuteTime": {
     "end_time": "2024-02-05T10:39:29.587871Z",
     "start_time": "2024-02-05T10:39:29.578684Z"
    }
   },
   "outputs": [],
   "source": [
    "def boruta_selection(df , use_boruta = False):\n",
    "    \n",
    "    if use_boruta:\n",
    "    \n",
    "        # training and test dataset for boruta\n",
    "        X_train = df6.drop( ['price'] , axis= 1 ).values\n",
    "        y_train = df6['price'].values.ravel()\n",
    "\n",
    "        # instancia do Rf\n",
    "        rf = RandomForestRegressor( n_jobs = -1 )\n",
    "\n",
    "        # aplico o boruta\n",
    "        boruta = BorutaPy( rf, n_estimators = 'auto', verbose = 2, random_state = 42 ).fit( X_train, y_train )\n",
    "        \n",
    "        # pega as colunas e coloca na variavel\n",
    "        cols_selected = boruta.support_.tolist()\n",
    "\n",
    "        # df boruta\n",
    "        df_boruta = df6.drop('price', axis = 1).loc[ : , cols_selected]\n",
    "\n",
    "        X_train = df6.drop( ['price'] , axis= 1 )\n",
    "        cols_selected_boruta = X_train.loc[ : , cols_selected ]\n",
    "\n",
    "        # cols not selected boruta\n",
    "        cols_not_selected = list( np.setdiff1d( X_train.columns, cols_selected_boruta.columns ) )\n",
    "        \n",
    "        print('Boruta Used')\n",
    "        \n",
    "        return df[cols_selected_boruta], cols_not_selected\n",
    "    \n",
    "    else:\n",
    "        print('Boruta skipped')\n",
    "        return df\n",
    "\n",
    "        \n"
   ]
  },
  {
   "cell_type": "code",
   "execution_count": 44,
   "id": "45035faf",
   "metadata": {
    "ExecuteTime": {
     "end_time": "2024-02-05T10:39:29.595627Z",
     "start_time": "2024-02-05T10:39:29.589868Z"
    }
   },
   "outputs": [
    {
     "name": "stdout",
     "output_type": "stream",
     "text": [
      "Boruta skipped\n"
     ]
    }
   ],
   "source": [
    "df6 = boruta_selection(df6)"
   ]
  },
  {
   "cell_type": "markdown",
   "id": "5d26b577",
   "metadata": {
    "ExecuteTime": {
     "end_time": "2023-08-11T16:55:19.379220Z",
     "start_time": "2023-08-11T16:55:19.373792Z"
    }
   },
   "source": [
    "# 7.0 Machine Learning"
   ]
  },
  {
   "cell_type": "code",
   "execution_count": 45,
   "id": "ba9d896b",
   "metadata": {
    "ExecuteTime": {
     "end_time": "2024-02-05T10:39:29.602193Z",
     "start_time": "2024-02-05T10:39:29.597624Z"
    }
   },
   "outputs": [],
   "source": [
    "# columns used for training\n",
    "colunas_treino_modelo = df6.columns.to_list()"
   ]
  },
  {
   "cell_type": "code",
   "execution_count": 46,
   "id": "597c8b5d",
   "metadata": {
    "ExecuteTime": {
     "end_time": "2024-02-05T10:39:29.609405Z",
     "start_time": "2024-02-05T10:39:29.604192Z"
    }
   },
   "outputs": [],
   "source": [
    "df7 = df6.copy()"
   ]
  },
  {
   "cell_type": "markdown",
   "id": "eb1563de",
   "metadata": {},
   "source": [
    "## 7.1 - Divisão entre treino e teste"
   ]
  },
  {
   "cell_type": "code",
   "execution_count": 47,
   "id": "ca050a38",
   "metadata": {
    "ExecuteTime": {
     "end_time": "2024-02-05T10:39:29.628797Z",
     "start_time": "2024-02-05T10:39:29.610407Z"
    }
   },
   "outputs": [
    {
     "name": "stdout",
     "output_type": "stream",
     "text": [
      "Total Shape (11178, 35)\n",
      "X_train shape (7824, 34)\n",
      "y_train shape (7824,)\n",
      "====================================================================================================\n",
      "X_test shape (3354, 34)\n",
      "y_test shape (3354,)\n"
     ]
    }
   ],
   "source": [
    "# dividir entre treino e teste\n",
    "X = df7.drop( 'price', axis = 1 )\n",
    "y = df7['price']\n",
    "\n",
    "X_train, X_test, y_train, y_test = train_test_split(X, y, test_size=0.3, random_state=12)\n",
    "\n",
    "print('Total Shape {}'.format( df7.shape ))\n",
    "\n",
    "print('X_train shape {}'.format(X_train.shape) )\n",
    "print('y_train shape {}'.format(y_train.shape) )\n",
    "\n",
    "print('=='*50)\n",
    "\n",
    "print('X_test shape {}'.format(X_test.shape) )\n",
    "print('y_test shape {}'.format(y_test.shape) )"
   ]
  },
  {
   "cell_type": "markdown",
   "id": "9810703c",
   "metadata": {},
   "source": [
    "## 7.2 - Linear Regression"
   ]
  },
  {
   "cell_type": "code",
   "execution_count": 48,
   "id": "b5ce7fc6",
   "metadata": {
    "ExecuteTime": {
     "end_time": "2024-02-05T10:39:29.666992Z",
     "start_time": "2024-02-05T10:39:29.630797Z"
    }
   },
   "outputs": [],
   "source": [
    "# Criar um modelo de regressão linear\n",
    "lr = LinearRegression()\n",
    "\n",
    "# Treinar o modelo\n",
    "lr.fit(X_train, y_train)\n",
    "\n",
    "# Fazer previsões no conjunto de teste\n",
    "y_pred = lr.predict(X_test)\n"
   ]
  },
  {
   "cell_type": "code",
   "execution_count": 49,
   "id": "6dff5387",
   "metadata": {
    "ExecuteTime": {
     "end_time": "2024-02-05T10:39:29.683949Z",
     "start_time": "2024-02-05T10:39:29.668989Z"
    }
   },
   "outputs": [
    {
     "data": {
      "text/html": [
       "<div>\n",
       "<style scoped>\n",
       "    .dataframe tbody tr th:only-of-type {\n",
       "        vertical-align: middle;\n",
       "    }\n",
       "\n",
       "    .dataframe tbody tr th {\n",
       "        vertical-align: top;\n",
       "    }\n",
       "\n",
       "    .dataframe thead th {\n",
       "        text-align: right;\n",
       "    }\n",
       "</style>\n",
       "<table border=\"1\" class=\"dataframe\">\n",
       "  <thead>\n",
       "    <tr style=\"text-align: right;\">\n",
       "      <th></th>\n",
       "      <th>Model Name</th>\n",
       "      <th>MAE</th>\n",
       "      <th>MAPE</th>\n",
       "      <th>RMSE</th>\n",
       "      <th>R2_score</th>\n",
       "    </tr>\n",
       "  </thead>\n",
       "  <tbody>\n",
       "    <tr>\n",
       "      <th>0</th>\n",
       "      <td>Linear Regression</td>\n",
       "      <td>975.74</td>\n",
       "      <td>0.37</td>\n",
       "      <td>2,951.44</td>\n",
       "      <td>-0.08</td>\n",
       "    </tr>\n",
       "  </tbody>\n",
       "</table>\n",
       "</div>"
      ],
      "text/plain": [
       "         Model Name     MAE  MAPE     RMSE  R2_score\n",
       "0  Linear Regression 975.74  0.37 2,951.44     -0.08"
      ]
     },
     "execution_count": 49,
     "metadata": {},
     "output_type": "execute_result"
    }
   ],
   "source": [
    "lr_metrics = ml_error( 'Linear Regression', y_test , y_pred)\n",
    "lr_metrics"
   ]
  },
  {
   "cell_type": "markdown",
   "id": "4cb230b5",
   "metadata": {
    "heading_collapsed": true
   },
   "source": [
    "## 7.2.1 - Linear Regression Cross Validation"
   ]
  },
  {
   "cell_type": "code",
   "execution_count": 50,
   "id": "3cfbb0bc",
   "metadata": {
    "ExecuteTime": {
     "end_time": "2024-02-05T10:39:29.845158Z",
     "start_time": "2024-02-05T10:39:29.685947Z"
    },
    "hidden": true
   },
   "outputs": [
    {
     "data": {
      "text/html": [
       "<div>\n",
       "<style scoped>\n",
       "    .dataframe tbody tr th:only-of-type {\n",
       "        vertical-align: middle;\n",
       "    }\n",
       "\n",
       "    .dataframe tbody tr th {\n",
       "        vertical-align: top;\n",
       "    }\n",
       "\n",
       "    .dataframe thead th {\n",
       "        text-align: right;\n",
       "    }\n",
       "</style>\n",
       "<table border=\"1\" class=\"dataframe\">\n",
       "  <thead>\n",
       "    <tr style=\"text-align: right;\">\n",
       "      <th></th>\n",
       "      <th>Model Name</th>\n",
       "      <th>MAE</th>\n",
       "      <th>MAPE</th>\n",
       "      <th>RMSE</th>\n",
       "      <th>R2_score</th>\n",
       "      <th>Cv Score</th>\n",
       "    </tr>\n",
       "  </thead>\n",
       "  <tbody>\n",
       "    <tr>\n",
       "      <th>0</th>\n",
       "      <td>Linear Regression</td>\n",
       "      <td>975.74</td>\n",
       "      <td>0.37</td>\n",
       "      <td>2,951.44</td>\n",
       "      <td>-0.08</td>\n",
       "      <td>0.57</td>\n",
       "    </tr>\n",
       "  </tbody>\n",
       "</table>\n",
       "</div>"
      ],
      "text/plain": [
       "         Model Name     MAE  MAPE     RMSE  R2_score  Cv Score\n",
       "0  Linear Regression 975.74  0.37 2,951.44     -0.08      0.57"
      ]
     },
     "execution_count": 50,
     "metadata": {},
     "output_type": "execute_result"
    }
   ],
   "source": [
    "# Criar um modelo de regressão linear\n",
    "lr = LinearRegression()\n",
    "\n",
    "# cross validation\n",
    "precision_scores = cross_val_score(lr, X_train, y_train, cv=10, scoring= 'r2')\n",
    "\n",
    "# mean score \n",
    "mean_score = np.mean( precision_scores )\n",
    "cv_lr = np.round(mean_score,2)\n",
    "lr_metrics_cv = pd.concat( [lr_metrics, pd.DataFrame( {'Cv Score' : [cv_lr]} ) ], axis = 1)\n",
    "lr_metrics_cv"
   ]
  },
  {
   "cell_type": "markdown",
   "id": "4f3d80d9",
   "metadata": {
    "heading_collapsed": true
   },
   "source": [
    "## 7.3 Lassso"
   ]
  },
  {
   "cell_type": "code",
   "execution_count": 51,
   "id": "298bf754",
   "metadata": {
    "ExecuteTime": {
     "end_time": "2024-02-05T10:39:30.118137Z",
     "start_time": "2024-02-05T10:39:29.846158Z"
    },
    "hidden": true
   },
   "outputs": [
    {
     "data": {
      "text/html": [
       "<div>\n",
       "<style scoped>\n",
       "    .dataframe tbody tr th:only-of-type {\n",
       "        vertical-align: middle;\n",
       "    }\n",
       "\n",
       "    .dataframe tbody tr th {\n",
       "        vertical-align: top;\n",
       "    }\n",
       "\n",
       "    .dataframe thead th {\n",
       "        text-align: right;\n",
       "    }\n",
       "</style>\n",
       "<table border=\"1\" class=\"dataframe\">\n",
       "  <thead>\n",
       "    <tr style=\"text-align: right;\">\n",
       "      <th></th>\n",
       "      <th>Model Name</th>\n",
       "      <th>MAE</th>\n",
       "      <th>MAPE</th>\n",
       "      <th>RMSE</th>\n",
       "      <th>R2_score</th>\n",
       "    </tr>\n",
       "  </thead>\n",
       "  <tbody>\n",
       "    <tr>\n",
       "      <th>0</th>\n",
       "      <td>Lasso</td>\n",
       "      <td>975.72</td>\n",
       "      <td>0.37</td>\n",
       "      <td>2,951.41</td>\n",
       "      <td>-0.08</td>\n",
       "    </tr>\n",
       "  </tbody>\n",
       "</table>\n",
       "</div>"
      ],
      "text/plain": [
       "  Model Name     MAE  MAPE     RMSE  R2_score\n",
       "0       Lasso 975.72  0.37 2,951.41     -0.08"
      ]
     },
     "execution_count": 51,
     "metadata": {},
     "output_type": "execute_result"
    }
   ],
   "source": [
    "# model\n",
    "lrr = Lasso( alpha = 0.01 ).fit( X_train , y_train )\n",
    "\n",
    "# prediction\n",
    "y_hat_lrr = lrr.predict( X_test )\n",
    "\n",
    "# performance\n",
    "lrr_result = ml_error( 'Lasso',  y_test  ,  y_hat_lrr  )\n",
    "lrr_result"
   ]
  },
  {
   "cell_type": "markdown",
   "id": "e9fb3406",
   "metadata": {
    "ExecuteTime": {
     "end_time": "2024-02-03T14:44:22.755594Z",
     "start_time": "2024-02-03T14:44:22.752525Z"
    },
    "heading_collapsed": true
   },
   "source": [
    "## 7.3.1 - Lasso Cross Validation"
   ]
  },
  {
   "cell_type": "code",
   "execution_count": 52,
   "id": "bba6eac0",
   "metadata": {
    "ExecuteTime": {
     "end_time": "2024-02-05T10:39:31.104487Z",
     "start_time": "2024-02-05T10:39:30.120134Z"
    },
    "hidden": true
   },
   "outputs": [
    {
     "name": "stderr",
     "output_type": "stream",
     "text": [
      "C:\\Users\\oscar\\anaconda3\\envs\\prices_houses_idealista\\Lib\\site-packages\\sklearn\\linear_model\\_coordinate_descent.py:628: ConvergenceWarning: Objective did not converge. You might want to increase the number of iterations, check the scale of the features or consider increasing regularisation. Duality gap: 7.627e+09, tolerance: 4.560e+06\n",
      "  model = cd_fast.enet_coordinate_descent(\n"
     ]
    },
    {
     "data": {
      "text/html": [
       "<div>\n",
       "<style scoped>\n",
       "    .dataframe tbody tr th:only-of-type {\n",
       "        vertical-align: middle;\n",
       "    }\n",
       "\n",
       "    .dataframe tbody tr th {\n",
       "        vertical-align: top;\n",
       "    }\n",
       "\n",
       "    .dataframe thead th {\n",
       "        text-align: right;\n",
       "    }\n",
       "</style>\n",
       "<table border=\"1\" class=\"dataframe\">\n",
       "  <thead>\n",
       "    <tr style=\"text-align: right;\">\n",
       "      <th></th>\n",
       "      <th>Model Name</th>\n",
       "      <th>MAE</th>\n",
       "      <th>MAPE</th>\n",
       "      <th>RMSE</th>\n",
       "      <th>R2_score</th>\n",
       "      <th>Cv Score</th>\n",
       "    </tr>\n",
       "  </thead>\n",
       "  <tbody>\n",
       "    <tr>\n",
       "      <th>0</th>\n",
       "      <td>Lasso</td>\n",
       "      <td>975.72</td>\n",
       "      <td>0.37</td>\n",
       "      <td>2,951.41</td>\n",
       "      <td>-0.08</td>\n",
       "      <td>0.56</td>\n",
       "    </tr>\n",
       "  </tbody>\n",
       "</table>\n",
       "</div>"
      ],
      "text/plain": [
       "  Model Name     MAE  MAPE     RMSE  R2_score  Cv Score\n",
       "0       Lasso 975.72  0.37 2,951.41     -0.08      0.56"
      ]
     },
     "execution_count": 52,
     "metadata": {},
     "output_type": "execute_result"
    }
   ],
   "source": [
    "# model\n",
    "lrr = Lasso( alpha = 0.01 ).fit( X_train , y_train )\n",
    "\n",
    "# cross validation\n",
    "precision_scores = cross_val_score(lrr, X_train, y_train, cv=5, scoring= 'r2')\n",
    "\n",
    "# mean score \n",
    "mean_score = np.mean( precision_scores )\n",
    "cv_lasso = np.round( mean_score, 2)\n",
    "lrr_result_cv = pd.concat( [lrr_result, pd.DataFrame( {'Cv Score' : [cv_lasso]} ) ], axis = 1) \n",
    "lrr_result_cv"
   ]
  },
  {
   "cell_type": "markdown",
   "id": "83db355b",
   "metadata": {
    "heading_collapsed": true
   },
   "source": [
    "## 7.4 Random Forest"
   ]
  },
  {
   "cell_type": "code",
   "execution_count": 53,
   "id": "37850f1a",
   "metadata": {
    "ExecuteTime": {
     "end_time": "2024-02-05T10:39:36.736895Z",
     "start_time": "2024-02-05T10:39:31.106485Z"
    },
    "hidden": true
   },
   "outputs": [
    {
     "data": {
      "text/html": [
       "<div>\n",
       "<style scoped>\n",
       "    .dataframe tbody tr th:only-of-type {\n",
       "        vertical-align: middle;\n",
       "    }\n",
       "\n",
       "    .dataframe tbody tr th {\n",
       "        vertical-align: top;\n",
       "    }\n",
       "\n",
       "    .dataframe thead th {\n",
       "        text-align: right;\n",
       "    }\n",
       "</style>\n",
       "<table border=\"1\" class=\"dataframe\">\n",
       "  <thead>\n",
       "    <tr style=\"text-align: right;\">\n",
       "      <th></th>\n",
       "      <th>Model Name</th>\n",
       "      <th>MAE</th>\n",
       "      <th>MAPE</th>\n",
       "      <th>RMSE</th>\n",
       "      <th>R2_score</th>\n",
       "    </tr>\n",
       "  </thead>\n",
       "  <tbody>\n",
       "    <tr>\n",
       "      <th>0</th>\n",
       "      <td>Random Forest Regressor</td>\n",
       "      <td>680.25</td>\n",
       "      <td>0.23</td>\n",
       "      <td>1,842.93</td>\n",
       "      <td>0.58</td>\n",
       "    </tr>\n",
       "  </tbody>\n",
       "</table>\n",
       "</div>"
      ],
      "text/plain": [
       "               Model Name     MAE  MAPE     RMSE  R2_score\n",
       "0  Random Forest Regressor 680.25  0.23 1,842.93      0.58"
      ]
     },
     "execution_count": 53,
     "metadata": {},
     "output_type": "execute_result"
    }
   ],
   "source": [
    "# model\n",
    "rf = RandomForestRegressor( n_estimators = 100 , n_jobs = -1, random_state = 42  )\n",
    "\n",
    "rf.fit( X_train , y_train )\n",
    "\n",
    "# prediction\n",
    "y_hat_rf = rf.predict( X_test )\n",
    "\n",
    "# \n",
    "rf_result = ml_error( 'Random Forest Regressor',  y_test  ,  y_hat_rf  )\n",
    "rf_result"
   ]
  },
  {
   "cell_type": "markdown",
   "id": "0d1eef43",
   "metadata": {
    "ExecuteTime": {
     "end_time": "2023-08-13T17:51:19.283637Z",
     "start_time": "2023-08-13T17:51:19.280463Z"
    },
    "heading_collapsed": true
   },
   "source": [
    "## 7.4 Random Forest Cross Validation"
   ]
  },
  {
   "cell_type": "code",
   "execution_count": 54,
   "id": "8116f6c3",
   "metadata": {
    "ExecuteTime": {
     "end_time": "2024-02-05T10:40:05.546066Z",
     "start_time": "2024-02-05T10:39:36.738895Z"
    },
    "hidden": true
   },
   "outputs": [],
   "source": [
    "# model\n",
    "rf_cv = RandomForestRegressor( n_estimators = 100 , n_jobs = -1, random_state = 42  )\n",
    "\n",
    "# cross validation\n",
    "precision_scores = cross_val_score(rf_cv, X_train, y_train, cv=5, scoring= 'r2')\n",
    "\n",
    "# mean score \n",
    "mean_score = np.mean( precision_scores )\n",
    "rf_cv = np.round( mean_score, 2)\n",
    "rf_result_cv = pd.concat( [rf_result, pd.DataFrame( {'Cv Score' : [rf_cv]} ) ], axis = 1) \n"
   ]
  },
  {
   "cell_type": "markdown",
   "id": "97f9e826",
   "metadata": {},
   "source": [
    "## 7.5 LGBM"
   ]
  },
  {
   "cell_type": "code",
   "execution_count": 55,
   "id": "79fe0b92",
   "metadata": {
    "ExecuteTime": {
     "end_time": "2024-02-05T10:40:05.862683Z",
     "start_time": "2024-02-05T10:40:05.548069Z"
    }
   },
   "outputs": [
    {
     "name": "stdout",
     "output_type": "stream",
     "text": [
      "[LightGBM] [Warning] Auto-choosing row-wise multi-threading, the overhead of testing was 0.002273 seconds.\n",
      "You can set `force_row_wise=true` to remove the overhead.\n",
      "And if memory is not enough, you can set `force_col_wise=true`.\n",
      "[LightGBM] [Info] Total Bins 2452\n",
      "[LightGBM] [Info] Number of data points in the train set: 7824, number of used features: 30\n",
      "[LightGBM] [Info] Start training from score 2854.000895\n"
     ]
    },
    {
     "data": {
      "text/html": [
       "<div>\n",
       "<style scoped>\n",
       "    .dataframe tbody tr th:only-of-type {\n",
       "        vertical-align: middle;\n",
       "    }\n",
       "\n",
       "    .dataframe tbody tr th {\n",
       "        vertical-align: top;\n",
       "    }\n",
       "\n",
       "    .dataframe thead th {\n",
       "        text-align: right;\n",
       "    }\n",
       "</style>\n",
       "<table border=\"1\" class=\"dataframe\">\n",
       "  <thead>\n",
       "    <tr style=\"text-align: right;\">\n",
       "      <th></th>\n",
       "      <th>Model Name</th>\n",
       "      <th>MAE</th>\n",
       "      <th>MAPE</th>\n",
       "      <th>RMSE</th>\n",
       "      <th>R2_score</th>\n",
       "    </tr>\n",
       "  </thead>\n",
       "  <tbody>\n",
       "    <tr>\n",
       "      <th>0</th>\n",
       "      <td>lgbm</td>\n",
       "      <td>678.61</td>\n",
       "      <td>0.22</td>\n",
       "      <td>1,849.71</td>\n",
       "      <td>0.58</td>\n",
       "    </tr>\n",
       "  </tbody>\n",
       "</table>\n",
       "</div>"
      ],
      "text/plain": [
       "  Model Name     MAE  MAPE     RMSE  R2_score\n",
       "0        lgbm 678.61  0.22 1,849.71      0.58"
      ]
     },
     "execution_count": 55,
     "metadata": {},
     "output_type": "execute_result"
    }
   ],
   "source": [
    "# Criar um conjunto de dados LightGBM a partir dos dados de treinamento\n",
    "train_data = lgb.Dataset(X_train, label=y_train)\n",
    "\n",
    "# Criar um conjunto de dados LightGBM a partir dos dados de treinamento\n",
    "train_data = lgb.Dataset(X_train, label=y_train)\n",
    "\n",
    "# Definir parâmetros básicos\n",
    "params = {\n",
    "    'objective': 'regression',  # Regressão\n",
    "    'metric': 'l2',  # Métrica de avaliação (erro quadrático médio)\n",
    "    'boosting_type': 'gbdt',  # Tipo de aumento (gradient boosting)\n",
    "}\n",
    "\n",
    "# Treinar o modelo LightGBM\n",
    "num_round = 100  # Número de iterações (árvores) de treinamento\n",
    "bst = lgb.train(params, train_data, num_boost_round=num_round)\n",
    "\n",
    "# Fazer previsões no conjunto de teste\n",
    "y_pred_lgbm = bst.predict(X_test)\n",
    "\n",
    "# performance\n",
    "lgbm = ml_error( 'lgbm',  y_test  ,  y_pred_lgbm  )\n",
    "lgbm\n"
   ]
  },
  {
   "cell_type": "markdown",
   "id": "c08ed0e6",
   "metadata": {
    "heading_collapsed": true
   },
   "source": [
    "## 7.5.1 LGBM Cross Validation"
   ]
  },
  {
   "cell_type": "code",
   "execution_count": 56,
   "id": "a54896bf",
   "metadata": {
    "ExecuteTime": {
     "end_time": "2024-02-05T10:40:08.439307Z",
     "start_time": "2024-02-05T10:40:05.867674Z"
    },
    "hidden": true
   },
   "outputs": [
    {
     "name": "stdout",
     "output_type": "stream",
     "text": [
      "[LightGBM] [Warning] Auto-choosing col-wise multi-threading, the overhead of testing was 0.002521 seconds.\n",
      "You can set `force_col_wise=true` to remove the overhead.\n",
      "[LightGBM] [Info] Total Bins 2445\n",
      "[LightGBM] [Info] Number of data points in the train set: 7041, number of used features: 30\n",
      "[LightGBM] [Info] Start training from score 2843.707144\n",
      "[LightGBM] [Warning] Auto-choosing row-wise multi-threading, the overhead of testing was 0.001045 seconds.\n",
      "You can set `force_row_wise=true` to remove the overhead.\n",
      "And if memory is not enough, you can set `force_col_wise=true`.\n",
      "[LightGBM] [Info] Total Bins 2443\n",
      "[LightGBM] [Info] Number of data points in the train set: 7041, number of used features: 30\n",
      "[LightGBM] [Info] Start training from score 2863.158216\n",
      "[LightGBM] [Warning] Auto-choosing col-wise multi-threading, the overhead of testing was 0.002122 seconds.\n",
      "You can set `force_col_wise=true` to remove the overhead.\n",
      "[LightGBM] [Info] Total Bins 2447\n",
      "[LightGBM] [Info] Number of data points in the train set: 7041, number of used features: 30\n",
      "[LightGBM] [Info] Start training from score 2859.743928\n",
      "[LightGBM] [Warning] Auto-choosing row-wise multi-threading, the overhead of testing was 0.000995 seconds.\n",
      "You can set `force_row_wise=true` to remove the overhead.\n",
      "And if memory is not enough, you can set `force_col_wise=true`.\n",
      "[LightGBM] [Info] Total Bins 2432\n",
      "[LightGBM] [Info] Number of data points in the train set: 7041, number of used features: 30\n",
      "[LightGBM] [Info] Start training from score 2860.413436\n",
      "[LightGBM] [Warning] Auto-choosing col-wise multi-threading, the overhead of testing was 0.002678 seconds.\n",
      "You can set `force_col_wise=true` to remove the overhead.\n",
      "[LightGBM] [Info] Total Bins 2443\n",
      "[LightGBM] [Info] Number of data points in the train set: 7042, number of used features: 30\n",
      "[LightGBM] [Info] Start training from score 2841.535927\n",
      "[LightGBM] [Warning] Auto-choosing row-wise multi-threading, the overhead of testing was 0.001142 seconds.\n",
      "You can set `force_row_wise=true` to remove the overhead.\n",
      "And if memory is not enough, you can set `force_col_wise=true`.\n",
      "[LightGBM] [Info] Total Bins 2442\n",
      "[LightGBM] [Info] Number of data points in the train set: 7042, number of used features: 30\n",
      "[LightGBM] [Info] Start training from score 2844.806305\n",
      "[LightGBM] [Warning] Auto-choosing col-wise multi-threading, the overhead of testing was 0.001871 seconds.\n",
      "You can set `force_col_wise=true` to remove the overhead.\n",
      "[LightGBM] [Info] Total Bins 2439\n",
      "[LightGBM] [Info] Number of data points in the train set: 7042, number of used features: 30\n",
      "[LightGBM] [Info] Start training from score 2857.363675\n",
      "[LightGBM] [Warning] Auto-choosing row-wise multi-threading, the overhead of testing was 0.000879 seconds.\n",
      "You can set `force_row_wise=true` to remove the overhead.\n",
      "And if memory is not enough, you can set `force_col_wise=true`.\n",
      "[LightGBM] [Info] Total Bins 2439\n",
      "[LightGBM] [Info] Number of data points in the train set: 7042, number of used features: 30\n",
      "[LightGBM] [Info] Start training from score 2864.517467\n",
      "[LightGBM] [Warning] Auto-choosing row-wise multi-threading, the overhead of testing was 0.001090 seconds.\n",
      "You can set `force_row_wise=true` to remove the overhead.\n",
      "And if memory is not enough, you can set `force_col_wise=true`.\n",
      "[LightGBM] [Info] Total Bins 2443\n",
      "[LightGBM] [Info] Number of data points in the train set: 7042, number of used features: 30\n",
      "[LightGBM] [Info] Start training from score 2851.704345\n",
      "[LightGBM] [Warning] Auto-choosing row-wise multi-threading, the overhead of testing was 0.000874 seconds.\n",
      "You can set `force_row_wise=true` to remove the overhead.\n",
      "And if memory is not enough, you can set `force_col_wise=true`.\n",
      "[LightGBM] [Info] Total Bins 2445\n",
      "[LightGBM] [Info] Number of data points in the train set: 7042, number of used features: 30\n",
      "[LightGBM] [Info] Start training from score 2853.060068\n"
     ]
    },
    {
     "data": {
      "text/html": [
       "<div>\n",
       "<style scoped>\n",
       "    .dataframe tbody tr th:only-of-type {\n",
       "        vertical-align: middle;\n",
       "    }\n",
       "\n",
       "    .dataframe tbody tr th {\n",
       "        vertical-align: top;\n",
       "    }\n",
       "\n",
       "    .dataframe thead th {\n",
       "        text-align: right;\n",
       "    }\n",
       "</style>\n",
       "<table border=\"1\" class=\"dataframe\">\n",
       "  <thead>\n",
       "    <tr style=\"text-align: right;\">\n",
       "      <th></th>\n",
       "      <th>Model Name</th>\n",
       "      <th>MAE</th>\n",
       "      <th>MAPE</th>\n",
       "      <th>RMSE</th>\n",
       "      <th>R2_score</th>\n",
       "      <th>Cv Score</th>\n",
       "    </tr>\n",
       "  </thead>\n",
       "  <tbody>\n",
       "    <tr>\n",
       "      <th>0</th>\n",
       "      <td>lgbm</td>\n",
       "      <td>678.61</td>\n",
       "      <td>0.22</td>\n",
       "      <td>1,849.71</td>\n",
       "      <td>0.58</td>\n",
       "      <td>0.76</td>\n",
       "    </tr>\n",
       "  </tbody>\n",
       "</table>\n",
       "</div>"
      ],
      "text/plain": [
       "  Model Name     MAE  MAPE     RMSE  R2_score  Cv Score\n",
       "0        lgbm 678.61  0.22 1,849.71      0.58      0.76"
      ]
     },
     "execution_count": 56,
     "metadata": {},
     "output_type": "execute_result"
    }
   ],
   "source": [
    "# Definir parâmetros básicos\n",
    "params = {\n",
    "    'objective': 'regression',  # Regressão\n",
    "    'metric': 'r2',  # Usando R² como métrica de avaliação, se suportado pela sua versão do LightGBM\n",
    "    'boosting_type': 'gbdt',  # Tipo de aumento (gradient boosting)\n",
    "}\n",
    "\n",
    "# Preparar o conjunto de dados LightGBM\n",
    "lgb_data = lgb.Dataset(X_train, label=y_train)\n",
    "\n",
    "# Número de iterações de treinamento\n",
    "num_round = 100\n",
    "\n",
    "# Configuração da validação cruzada\n",
    "nfold = 10\n",
    "seed = 42\n",
    "\n",
    "kf = KFold(n_splits=nfold, random_state=seed, shuffle=True)\n",
    "\n",
    "r2_scores = []\n",
    "\n",
    "# Realizar a validação cruzada\n",
    "for train_idx, val_idx in kf.split(X_train):\n",
    "    X_train_fold = X_train.iloc[train_idx]  # Seleciona as linhas de treinamento\n",
    "    y_train_fold = y_train.iloc[train_idx]  # Seleciona os rótulos de treinamento\n",
    "    X_val_fold = X_train.iloc[val_idx]  # Seleciona as linhas de validação\n",
    "\n",
    "    # Treinar o modelo LightGBM\n",
    "    bst = lgb.train(params, lgb.Dataset(X_train_fold, label=y_train_fold), num_boost_round=num_round)\n",
    "\n",
    "    # Fazer previsões no conjunto de validação\n",
    "    y_pred = bst.predict(X_val_fold)\n",
    "\n",
    "    # Calcular o R² score\n",
    "    r2 = r2_score(y_train.iloc[val_idx], y_pred)\n",
    "    r2_scores.append(r2)\n",
    "\n",
    "# Mostrar a média dos R² scores\n",
    "mean_r2 = np.mean(r2_scores)\n",
    "lgbm_cv = pd.concat( [lgbm, pd.DataFrame( {'Cv Score' : [mean_r2]} ) ], axis = 1) \n",
    "lgbm_cv"
   ]
  },
  {
   "cell_type": "markdown",
   "id": "ec7a8557",
   "metadata": {
    "heading_collapsed": true
   },
   "source": [
    "## 7.6 XGBOOST"
   ]
  },
  {
   "cell_type": "code",
   "execution_count": 57,
   "id": "79e345b7",
   "metadata": {
    "ExecuteTime": {
     "end_time": "2024-02-05T10:40:09.008571Z",
     "start_time": "2024-02-05T10:40:08.444298Z"
    },
    "hidden": true
   },
   "outputs": [
    {
     "data": {
      "text/html": [
       "<div>\n",
       "<style scoped>\n",
       "    .dataframe tbody tr th:only-of-type {\n",
       "        vertical-align: middle;\n",
       "    }\n",
       "\n",
       "    .dataframe tbody tr th {\n",
       "        vertical-align: top;\n",
       "    }\n",
       "\n",
       "    .dataframe thead th {\n",
       "        text-align: right;\n",
       "    }\n",
       "</style>\n",
       "<table border=\"1\" class=\"dataframe\">\n",
       "  <thead>\n",
       "    <tr style=\"text-align: right;\">\n",
       "      <th></th>\n",
       "      <th>Model Name</th>\n",
       "      <th>MAE</th>\n",
       "      <th>MAPE</th>\n",
       "      <th>RMSE</th>\n",
       "      <th>R2_score</th>\n",
       "    </tr>\n",
       "  </thead>\n",
       "  <tbody>\n",
       "    <tr>\n",
       "      <th>0</th>\n",
       "      <td>xgb</td>\n",
       "      <td>725.04</td>\n",
       "      <td>0.24</td>\n",
       "      <td>1,868.85</td>\n",
       "      <td>0.57</td>\n",
       "    </tr>\n",
       "  </tbody>\n",
       "</table>\n",
       "</div>"
      ],
      "text/plain": [
       "  Model Name     MAE  MAPE     RMSE  R2_score\n",
       "0         xgb 725.04  0.24 1,868.85      0.57"
      ]
     },
     "execution_count": 57,
     "metadata": {},
     "output_type": "execute_result"
    }
   ],
   "source": [
    "# Criar um modelo XGBoost Regressor\n",
    "model_xgb = xgb.XGBRegressor(objective='reg:squarederror', n_estimators=100, max_depth=3, learning_rate=0.1)\n",
    "\n",
    "# Treinar o modelo\n",
    "model_xgb.fit(X_train, y_train)\n",
    "\n",
    "# Fazer previsões no conjunto de teste\n",
    "y_pred_xgb = model_xgb.predict(X_test)\n",
    "\n",
    "# performance\n",
    "xgb_performance = ml_error( 'xgb',  y_test  ,  y_pred_xgb  )\n",
    "xgb_performance"
   ]
  },
  {
   "cell_type": "markdown",
   "id": "a18a6995",
   "metadata": {
    "ExecuteTime": {
     "end_time": "2024-02-03T15:02:22.466913Z",
     "start_time": "2024-02-03T15:02:22.462520Z"
    }
   },
   "source": [
    "## 7.6.1 XGBOOST Cross Validation"
   ]
  },
  {
   "cell_type": "code",
   "execution_count": 58,
   "id": "1e9ebf05",
   "metadata": {
    "ExecuteTime": {
     "end_time": "2024-02-05T10:40:11.279929Z",
     "start_time": "2024-02-05T10:40:09.012564Z"
    }
   },
   "outputs": [],
   "source": [
    "# Realizar validação cruzada com 5 folds (ou o número que preferir) usando o R2 como métrica\n",
    "scores = cross_val_score(model_xgb, X_train, y_train, cv=5, scoring='r2')\n",
    "\n",
    "# Calcular a média dos coeficientes R2\n",
    "mean_r2 = scores.mean()\n",
    "\n",
    "# Imprimir o R2 médio\n",
    "result_xgb = pd.concat( [xgb_performance, pd.DataFrame( {'Cv Score' : [mean_r2]} ) ], axis = 1) "
   ]
  },
  {
   "cell_type": "markdown",
   "id": "7b328668",
   "metadata": {},
   "source": [
    "## 7.7 Resultados Modelos"
   ]
  },
  {
   "cell_type": "code",
   "execution_count": 59,
   "id": "080f6a7f",
   "metadata": {
    "ExecuteTime": {
     "end_time": "2024-02-05T10:40:11.307595Z",
     "start_time": "2024-02-05T10:40:11.283921Z"
    }
   },
   "outputs": [
    {
     "data": {
      "text/html": [
       "<div>\n",
       "<style scoped>\n",
       "    .dataframe tbody tr th:only-of-type {\n",
       "        vertical-align: middle;\n",
       "    }\n",
       "\n",
       "    .dataframe tbody tr th {\n",
       "        vertical-align: top;\n",
       "    }\n",
       "\n",
       "    .dataframe thead th {\n",
       "        text-align: right;\n",
       "    }\n",
       "</style>\n",
       "<table border=\"1\" class=\"dataframe\">\n",
       "  <thead>\n",
       "    <tr style=\"text-align: right;\">\n",
       "      <th></th>\n",
       "      <th>Model Name</th>\n",
       "      <th>MAE</th>\n",
       "      <th>MAPE</th>\n",
       "      <th>RMSE</th>\n",
       "      <th>R2_score</th>\n",
       "      <th>Cv Score</th>\n",
       "    </tr>\n",
       "  </thead>\n",
       "  <tbody>\n",
       "    <tr>\n",
       "      <th>0</th>\n",
       "      <td>lgbm</td>\n",
       "      <td>678.61</td>\n",
       "      <td>0.22</td>\n",
       "      <td>1,849.71</td>\n",
       "      <td>0.58</td>\n",
       "      <td>0.76</td>\n",
       "    </tr>\n",
       "    <tr>\n",
       "      <th>0</th>\n",
       "      <td>Random Forest Regressor</td>\n",
       "      <td>680.25</td>\n",
       "      <td>0.23</td>\n",
       "      <td>1,842.93</td>\n",
       "      <td>0.58</td>\n",
       "      <td>0.75</td>\n",
       "    </tr>\n",
       "    <tr>\n",
       "      <th>0</th>\n",
       "      <td>xgb</td>\n",
       "      <td>725.04</td>\n",
       "      <td>0.24</td>\n",
       "      <td>1,868.85</td>\n",
       "      <td>0.57</td>\n",
       "      <td>0.74</td>\n",
       "    </tr>\n",
       "    <tr>\n",
       "      <th>0</th>\n",
       "      <td>Linear Regression</td>\n",
       "      <td>975.74</td>\n",
       "      <td>0.37</td>\n",
       "      <td>2,951.44</td>\n",
       "      <td>-0.08</td>\n",
       "      <td>0.57</td>\n",
       "    </tr>\n",
       "    <tr>\n",
       "      <th>0</th>\n",
       "      <td>Lasso</td>\n",
       "      <td>975.72</td>\n",
       "      <td>0.37</td>\n",
       "      <td>2,951.41</td>\n",
       "      <td>-0.08</td>\n",
       "      <td>0.56</td>\n",
       "    </tr>\n",
       "  </tbody>\n",
       "</table>\n",
       "</div>"
      ],
      "text/plain": [
       "               Model Name     MAE  MAPE     RMSE  R2_score  Cv Score\n",
       "0                     lgbm 678.61  0.22 1,849.71      0.58      0.76\n",
       "0  Random Forest Regressor 680.25  0.23 1,842.93      0.58      0.75\n",
       "0                      xgb 725.04  0.24 1,868.85      0.57      0.74\n",
       "0        Linear Regression 975.74  0.37 2,951.44     -0.08      0.57\n",
       "0                    Lasso 975.72  0.37 2,951.41     -0.08      0.56"
      ]
     },
     "execution_count": 59,
     "metadata": {},
     "output_type": "execute_result"
    }
   ],
   "source": [
    "pd.concat( [lr_metrics_cv, lrr_result_cv, rf_result_cv , lgbm_cv , result_xgb] , axis = 0 ).sort_values( by = 'Cv Score'\n",
    " , ascending = False)"
   ]
  },
  {
   "cell_type": "markdown",
   "id": "6595b7a7",
   "metadata": {},
   "source": [
    "# 8.0 Validação com dados nunca vistos"
   ]
  },
  {
   "cell_type": "markdown",
   "id": "defa1042",
   "metadata": {},
   "source": [
    "## 8.1 Criando a classe Idealista"
   ]
  },
  {
   "cell_type": "code",
   "execution_count": 366,
   "id": "22968dc6",
   "metadata": {
    "ExecuteTime": {
     "end_time": "2024-02-05T12:56:11.376027Z",
     "start_time": "2024-02-05T12:56:11.348266Z"
    }
   },
   "outputs": [],
   "source": [
    "class Idealista:\n",
    "    def __init__( self ):\n",
    "        self.df_region = pd.read_csv( 'datasets/df_region.csv' )\n",
    "        \n",
    "      \n",
    "    def transform_data(self, df, colunas_irrelevantes ):\n",
    "\n",
    "        cols_old = df.columns.to_list()\n",
    "\n",
    "        # def função snake_case\n",
    "        snake_case = lambda x: inflection.underscore( x )\n",
    "\n",
    "        # defino as novas colunas\n",
    "        cols_new = list(map( snake_case, cols_old )) \n",
    "\n",
    "        # atribuo as novas colunas ao df\n",
    "        df.columns = cols_new\n",
    "\n",
    "        # removo as linhas em branco que possam ter vindo na extração\n",
    "        df = df.loc[~ df['property_code'].isna() , : ]\n",
    "\n",
    "        # removo duplicadas\n",
    "        df = df.drop_duplicates( subset= ['property_code'], keep = 'last' )\n",
    "\n",
    "        # preencho os vazios\n",
    "        df = fill_na( df )\n",
    "\n",
    "        # deleto as colunaas irrelevantes\n",
    "        df = delete_columns( df , colunas_irrelevantes )\n",
    "   \n",
    "        return df\n",
    "\n",
    "\n",
    "#=======================================================================================================================#\n",
    "\n",
    "    def feature_engineering(self, df , transform_data = False, merge_datasets = False   ):\n",
    "        \n",
    "        if transform_data and merge_datasets == False :\n",
    "            \n",
    "            # mes\n",
    "            df['datetime_scrapy'] = pd.to_datetime( df['datetime_scrapy'] )\n",
    "            df['month'] = df['datetime_scrapy'].dt.month \n",
    "\n",
    "            # ano\n",
    "            df['year'] = df['datetime_scrapy'].dt.year\n",
    "\n",
    "            # excluir a coluna datetime\n",
    "            df = df.drop( 'datetime_scrapy', axis = 1 )\n",
    "\n",
    "            print( 'Dados Transformados' )\n",
    "\n",
    "            return df\n",
    "        \n",
    "    \n",
    "        if merge_datasets == True and transform_data == False:\n",
    "        \n",
    "            # Df com a média de preço por município\n",
    "            df_municipality_mean_price = self.df_region.groupby('municipality')[['price']].mean().reset_index()\n",
    "\n",
    "            # alteração nome coluna\n",
    "            df_municipality_mean_price = df_municipality_mean_price.rename(columns={'price': 'municipality_mean_price'})\n",
    "\n",
    "            # exportar para csv\n",
    "            #d f2_municipality_mean_price.to_csv( 'datasets/municipality.csv' )\n",
    "\n",
    "            # acrescentando a coluna ao df2\n",
    "            df = pd.merge( df, df_municipality_mean_price, on = 'municipality' , how = 'left' )\n",
    "\n",
    "#======================================================================================================================#\n",
    "\n",
    "            # calculando a média por 'province'\n",
    "            df2_province_mean_price = self.df_region.groupby( 'province' )[['price']].mean().reset_index().rename( columns = { 'price': 'province_mean_price' } )\n",
    "\n",
    "            # exportando para csv\n",
    "            # df2_province_mean_price.to_csv( 'datasets/province.csv' )\n",
    "\n",
    "            # acrescentando a coluna ao df2\n",
    "            df = pd.merge( df, df2_province_mean_price , on = 'province' , how = 'left' )\n",
    "\n",
    "    #=======================================================================================================================#\n",
    "\n",
    "            # calculando média por district\n",
    "            df2_district_mean_price = self.df_region.groupby( 'district' )[['price']].median().reset_index().rename( columns = { 'price' : 'district_mean_price' } )\n",
    "\n",
    "            # exportando para csv \n",
    "            #df2_district_mean_price.to_csv( 'datasets/district.csv' )\n",
    "\n",
    "            # acrescentando a coluna ao df2\n",
    "            df = pd.merge( df , df2_district_mean_price , on = 'district', how = 'left' )\n",
    "\n",
    "            print( 'Datasets combinados com preços regioes' )\n",
    "\n",
    "            return df\n",
    "    \n",
    "        if transform_data == True and merge_datasets == True:\n",
    "\n",
    "            # mes\n",
    "            df['datetime_scrapy'] = pd.to_datetime( df['datetime_scrapy'] )\n",
    "            df['month'] = df['datetime_scrapy'].dt.month \n",
    "\n",
    "            # ano\n",
    "            df['year'] = df['datetime_scrapy'].dt.year\n",
    "\n",
    "            # excluir a coluna datetime\n",
    "            df = df.drop( 'datetime_scrapy', axis = 1 )\n",
    "\n",
    "            # Df com a média de preço por município\n",
    "            df_municipality_mean_price = self.df_region.groupby('municipality')[['price']].mean().reset_index()\n",
    "\n",
    "            # alteração nome coluna\n",
    "            df_municipality_mean_price = df_municipality_mean_price.rename(columns={'price': 'municipality_mean_price'})\n",
    "\n",
    "            # exportar para csv\n",
    "            #d f2_municipality_mean_price.to_csv( 'datasets/municipality.csv' )\n",
    "\n",
    "            # acrescentando a coluna ao df2\n",
    "            df = pd.merge( df, df_municipality_mean_price, on = 'municipality' , how = 'left' )\n",
    "\n",
    "    # ======================================================================================================================#\n",
    "\n",
    "            # calculando a média por 'province'\n",
    "            df2_province_mean_price = self.df_region.groupby( 'province' )[['price']].mean().reset_index().rename( columns = { 'price': 'province_mean_price' } )\n",
    "\n",
    "            # exportando para csv\n",
    "            # df2_province_mean_price.to_csv( 'datasets/province.csv' )\n",
    "\n",
    "            # acrescentando a coluna ao df2\n",
    "            df = pd.merge( df, df2_province_mean_price , on = 'province' , how = 'left' )\n",
    "\n",
    "    #=======================================================================================================================#\n",
    "\n",
    "            # calculando média por district\n",
    "            df2_district_mean_price = self.df_region.groupby( 'district' )[['price']].median().reset_index().rename( columns = { 'price' : 'district_mean_price' } )\n",
    "\n",
    "            # exportando para csv \n",
    "            #df2_district_mean_price.to_csv( 'datasets/district.csv' )\n",
    "\n",
    "            # acrescentando a coluna ao df2\n",
    "            df = pd.merge( df , df2_district_mean_price , on = 'district', how = 'left' )\n",
    "\n",
    "            print( 'datasets combinados e dados transformados' )\n",
    "        \n",
    "            return df\n",
    "        \n",
    "        else:\n",
    "\n",
    "            print( 'Nenhuma Transformação' )\n",
    "\n",
    "            return df\n",
    "            \n",
    "#=======================================================================================================================#\n",
    "    \n",
    "    def filter_variables(self, df, filter_variables = False):\n",
    "    \n",
    "        if filter_variables:\n",
    "\n",
    "            # Vou querer saber somente os preços na province de Lisboa\n",
    "            df = df.loc[ df['province'] == 'Lisboa' , :  ]\n",
    "\n",
    "            # vou querer somente as habitações que tenham de 0 a no máximo 4 quartos\n",
    "            df = df.loc[ df['rooms'].isin( [ 0,1,2,3,4 ] ) , : ]\n",
    "\n",
    "            print('Variavies filtradas')\n",
    "\n",
    "            return df\n",
    "\n",
    "        else:\n",
    "\n",
    "            print('Variavies não filtradas')\n",
    "\n",
    "            return df\n",
    "\n",
    "#=======================================================================================================================#\n",
    "\n",
    "    # função para remover outliers\n",
    "    def remove_outliers(self, df, coluna = None ,  keep_outliers = True ):\n",
    "\n",
    "        if keep_outliers:\n",
    "            print( 'Outliers mantidos' )\n",
    "            return df\n",
    "\n",
    "        else:\n",
    "            # variavel resposta sem outliers\n",
    "            df = remover_outliers( df4 , coluna )\n",
    "            print('Outliers removidos')\n",
    "            return df\n",
    "\n",
    "#=======================================================================================================================#\n",
    "    \n",
    "    def rescaling_data(self, df, rescale = False ):\n",
    "\n",
    "        if rescale:\n",
    "            rs = RobustScaler() # usado para variáveis que tem outliers\n",
    "            mms = MinMaxScaler() \n",
    "\n",
    "            # distance\n",
    "            df['distance'] = mms.fit_transform( df[['distance']].values )\n",
    "\n",
    "            print('Rescaled')\n",
    "\n",
    "            return  df\n",
    "        else:\n",
    "            print('Not rescaled')\n",
    "\n",
    "            return df\n",
    "\n",
    "#=======================================================================================================================#\n",
    "\n",
    "    def encoding( self, df ):\n",
    "\n",
    "        # floor - substituo os andares com letras\n",
    "        df['floor'] = df['floor'].replace( ['bj','st','ss','en'], 0 )\n",
    "\n",
    "        # transformo em inteiros\n",
    "        df['floor'] = df['floor'].astype( 'int64' )\n",
    "\n",
    "        #property_type - label\n",
    "        property_encoder = LabelEncoder()\n",
    "\n",
    "        df['property_type'] = property_encoder.fit_transform( df['property_type'] )\n",
    "\n",
    "        # address - label\n",
    "        address_encoder = LabelEncoder()\n",
    "        df['address'] = address_encoder.fit_transform( df['address'] )\n",
    "\n",
    "        # district - label\n",
    "        district_encoder = LabelEncoder()\n",
    "        df['district'] = district_encoder.fit_transform( df['district'] )\n",
    "\n",
    "        # municipality - label\n",
    "        municipality_encoder = LabelEncoder()\n",
    "        df['municipality'] = municipality_encoder.fit_transform( df['municipality'] )\n",
    "\n",
    "        # Show address\n",
    "        encoding = {True: 1 , False: 0}\n",
    "        df['show_address'] = df['show_address'].apply( lambda x : 1 if x == True else 0 )\n",
    "\n",
    "        # description\n",
    "        df['description'] = df['description'].apply( lambda x : len(x) )\n",
    "\n",
    "        # has_video\n",
    "        encoding = {True: 1 , False: 0}\n",
    "        df['has_video'] = df['has_video'].map( encoding )\n",
    "\n",
    "        # status\n",
    "        status_dict = {'good' : 1, 'renew' :2, 'newdevelopment' : 3}\n",
    "        df['status'] = df['status'].map( status_dict )\n",
    "\n",
    "        # new_development\n",
    "        encoding = {True: 1 , False: 0}\n",
    "        df['new_development'] = df['new_development'].map( encoding )\n",
    "\n",
    "        # detailed type - label\n",
    "        detailed_type_encoder = LabelEncoder()\n",
    "\n",
    "        df['detailed_type'] = df['detailed_type'].apply(lambda x: ast.literal_eval(x) )\n",
    "        df['detailed_type'] = df['detailed_type'].apply(lambda x: x['typology'] )\n",
    "        df['detailed_type'] = detailed_type_encoder.fit_transform( df['detailed_type'] )\n",
    "\n",
    "        # suggested text\n",
    "        df['suggested_texts'] = df['suggested_texts'].apply( lambda x : ast.literal_eval(x) )\n",
    "        df['suggested_texts'] = df['suggested_texts'].apply( lambda x : x['title'] )\n",
    "        df['suggested_texts'] = df['suggested_texts'].apply( lambda x : len(x) )\n",
    "\n",
    "        # hasplan\n",
    "        encoding = {True: 1 , False: 0}\n",
    "        df['has_plan'] = df['has_plan'].map( encoding )\n",
    "\n",
    "        # has3_d_tour\n",
    "        encoding = {True: 1 , False: 0}\n",
    "        df['has3_d_tour'] = df['has3_d_tour'].map( encoding )\n",
    "\n",
    "        # has360\n",
    "        encoding = {True: 1 , False: 0}\n",
    "        df['has360'] = df['has360'].map( encoding )\n",
    "\n",
    "        #parking_space\n",
    "        encoding = {True: 1 , False: 0}\n",
    "        df['parking_space'] = df['parking_space'].apply(lambda x: ast.literal_eval(x) if x != 0 else x ) \n",
    "        df['parking_space'] = df['parking_space'].apply(lambda x: x['hasParkingSpace'] if x != 0 else x ) \n",
    "        df['parking_space'] = df['parking_space'].map( encoding )\n",
    "\n",
    "        # province \n",
    "        encoder = {'Lisboa': 1,'Setúbal' : 2, 'Santarém' : 3}\n",
    "        df['province'] = df['province'].map( encoder )\n",
    "\n",
    "        # has_staging\n",
    "        df['has_staging'] = df['has_staging'].apply( lambda x: 1 if x   else 0   )\n",
    "\n",
    "        # top_new_development\n",
    "        df['top_new_development'] = df['top_new_development'].apply( lambda x: 1 if x  else 0 )\n",
    "\n",
    "        return df\n",
    "    \n",
    "    def predicoes(self, df , model ):\n",
    "        \n",
    "        # drop price\n",
    "        X = df.drop( 'price', axis = 1 )\n",
    "        \n",
    "        y_hat_final = model.predict( X )\n",
    "        \n",
    "        df['pred'] = y_hat_final\n",
    "        \n",
    "        return df\n",
    "        \n",
    "  "
   ]
  },
  {
   "cell_type": "code",
   "execution_count": 367,
   "id": "b5a74e59",
   "metadata": {
    "ExecuteTime": {
     "end_time": "2024-02-05T12:57:17.710771Z",
     "start_time": "2024-02-05T12:56:21.828856Z"
    }
   },
   "outputs": [
    {
     "name": "stderr",
     "output_type": "stream",
     "text": [
      "C:\\Users\\oscar\\AppData\\Local\\Temp\\ipykernel_7416\\2764531685.py:3: DeprecationWarning: In a future version, `df.iloc[:, i] = newvals` will attempt to set the values inplace instead of always setting a new array. To retain the old behavior, use either `df[df.columns[i]] = newvals` or, if columns are non-unique, `df.isetitem(i, newvals)`\n",
      "  df.loc[:,'thumbnail'] = np.where( df['thumbnail'].isna(), 0 , 1 )\n"
     ]
    },
    {
     "ename": "KeyboardInterrupt",
     "evalue": "",
     "output_type": "error",
     "traceback": [
      "\u001b[1;31m---------------------------------------------------------------------------\u001b[0m",
      "\u001b[1;31mKeyboardInterrupt\u001b[0m                         Traceback (most recent call last)",
      "Cell \u001b[1;32mIn[367], line 5\u001b[0m\n\u001b[0;32m      2\u001b[0m idealista \u001b[38;5;241m=\u001b[39m Idealista()\n\u001b[0;32m      4\u001b[0m \u001b[38;5;66;03m# limpando os dados\u001b[39;00m\n\u001b[1;32m----> 5\u001b[0m df1_val \u001b[38;5;241m=\u001b[39m \u001b[43midealista\u001b[49m\u001b[38;5;241;43m.\u001b[39;49m\u001b[43mtransform_data\u001b[49m\u001b[43m(\u001b[49m\u001b[43m \u001b[49m\u001b[43mdf_teste\u001b[49m\u001b[43m \u001b[49m\u001b[43m,\u001b[49m\u001b[43m \u001b[49m\u001b[43mcolunas_irrelevantes\u001b[49m\u001b[43m \u001b[49m\u001b[43m)\u001b[49m\n\u001b[0;32m      7\u001b[0m \u001b[38;5;66;03m# feature engineering\u001b[39;00m\n\u001b[0;32m      8\u001b[0m df2_val \u001b[38;5;241m=\u001b[39m idealista\u001b[38;5;241m.\u001b[39mfeature_engineering( df1_val , transform_data \u001b[38;5;241m=\u001b[39m \u001b[38;5;28;01mTrue\u001b[39;00m, merge_datasets \u001b[38;5;241m=\u001b[39m \u001b[38;5;28;01mTrue\u001b[39;00m )\n",
      "Cell \u001b[1;32mIn[366], line 26\u001b[0m, in \u001b[0;36mIdealista.transform_data\u001b[1;34m(self, df, colunas_irrelevantes)\u001b[0m\n\u001b[0;32m     23\u001b[0m df \u001b[38;5;241m=\u001b[39m df\u001b[38;5;241m.\u001b[39mdrop_duplicates( subset\u001b[38;5;241m=\u001b[39m [\u001b[38;5;124m'\u001b[39m\u001b[38;5;124mproperty_code\u001b[39m\u001b[38;5;124m'\u001b[39m], keep \u001b[38;5;241m=\u001b[39m \u001b[38;5;124m'\u001b[39m\u001b[38;5;124mlast\u001b[39m\u001b[38;5;124m'\u001b[39m )\n\u001b[0;32m     25\u001b[0m \u001b[38;5;66;03m# preencho os vazios\u001b[39;00m\n\u001b[1;32m---> 26\u001b[0m df \u001b[38;5;241m=\u001b[39m \u001b[43mfill_na\u001b[49m\u001b[43m(\u001b[49m\u001b[43m \u001b[49m\u001b[43mdf\u001b[49m\u001b[43m \u001b[49m\u001b[43m)\u001b[49m\n\u001b[0;32m     28\u001b[0m \u001b[38;5;66;03m# deleto as colunaas irrelevantes\u001b[39;00m\n\u001b[0;32m     29\u001b[0m df \u001b[38;5;241m=\u001b[39m delete_columns( df , colunas_irrelevantes )\n",
      "Cell \u001b[1;32mIn[13], line 9\u001b[0m, in \u001b[0;36mfill_na\u001b[1;34m(df)\u001b[0m\n\u001b[0;32m      6\u001b[0m df\u001b[38;5;241m.\u001b[39mloc[:,\u001b[38;5;124m'\u001b[39m\u001b[38;5;124mfloor\u001b[39m\u001b[38;5;124m'\u001b[39m] \u001b[38;5;241m=\u001b[39m df[\u001b[38;5;124m'\u001b[39m\u001b[38;5;124mfloor\u001b[39m\u001b[38;5;124m'\u001b[39m]\u001b[38;5;241m.\u001b[39mapply( \u001b[38;5;28;01mlambda\u001b[39;00m x : \u001b[38;5;241m0\u001b[39m \u001b[38;5;28;01mif\u001b[39;00m pd\u001b[38;5;241m.\u001b[39misna( x ) \u001b[38;5;28;01melse\u001b[39;00m x )\n\u001b[0;32m      8\u001b[0m \u001b[38;5;66;03m# district - vou fazer uma chamada na api para procurar os districts passando as coordenadas\u001b[39;00m\n\u001b[1;32m----> 9\u001b[0m df\u001b[38;5;241m.\u001b[39mloc[:,\u001b[38;5;124m'\u001b[39m\u001b[38;5;124mdistrict\u001b[39m\u001b[38;5;124m'\u001b[39m] \u001b[38;5;241m=\u001b[39m \u001b[43mdf\u001b[49m\u001b[38;5;241;43m.\u001b[39;49m\u001b[43mapply\u001b[49m\u001b[43m(\u001b[49m\u001b[38;5;28;43;01mlambda\u001b[39;49;00m\u001b[43m \u001b[49m\u001b[43mx\u001b[49m\u001b[43m:\u001b[49m\u001b[43m \u001b[49m\u001b[43mfind_mun\u001b[49m\u001b[43m(\u001b[49m\u001b[43m \u001b[49m\u001b[43mx\u001b[49m\u001b[43m[\u001b[49m\u001b[38;5;124;43m'\u001b[39;49m\u001b[38;5;124;43mlatitude\u001b[39;49m\u001b[38;5;124;43m'\u001b[39;49m\u001b[43m]\u001b[49m\u001b[43m,\u001b[49m\u001b[43m \u001b[49m\u001b[43mx\u001b[49m\u001b[43m[\u001b[49m\u001b[38;5;124;43m'\u001b[39;49m\u001b[38;5;124;43mlongitude\u001b[39;49m\u001b[38;5;124;43m'\u001b[39;49m\u001b[43m]\u001b[49m\u001b[43m \u001b[49m\u001b[43m)\u001b[49m\u001b[43m \u001b[49m\u001b[38;5;28;43;01mif\u001b[39;49;00m\u001b[43m \u001b[49m\u001b[43mpd\u001b[49m\u001b[38;5;241;43m.\u001b[39;49m\u001b[43misna\u001b[49m\u001b[43m(\u001b[49m\u001b[43m \u001b[49m\u001b[43mx\u001b[49m\u001b[43m[\u001b[49m\u001b[38;5;124;43m'\u001b[39;49m\u001b[38;5;124;43mdistrict\u001b[39;49m\u001b[38;5;124;43m'\u001b[39;49m\u001b[43m]\u001b[49m\u001b[43m \u001b[49m\u001b[43m)\u001b[49m\u001b[43m \u001b[49m\u001b[38;5;28;43;01melse\u001b[39;49;00m\u001b[43m \u001b[49m\u001b[43mx\u001b[49m\u001b[43m[\u001b[49m\u001b[38;5;124;43m'\u001b[39;49m\u001b[38;5;124;43mdistrict\u001b[39;49m\u001b[38;5;124;43m'\u001b[39;49m\u001b[43m]\u001b[49m\u001b[43m,\u001b[49m\u001b[43maxis\u001b[49m\u001b[43m \u001b[49m\u001b[38;5;241;43m=\u001b[39;49m\u001b[43m \u001b[49m\u001b[38;5;241;43m1\u001b[39;49m\u001b[43m)\u001b[49m\n\u001b[0;32m     11\u001b[0m \u001b[38;5;66;03m# description\u001b[39;00m\n\u001b[0;32m     12\u001b[0m df\u001b[38;5;241m.\u001b[39mloc[:,\u001b[38;5;124m'\u001b[39m\u001b[38;5;124mdescription\u001b[39m\u001b[38;5;124m'\u001b[39m] \u001b[38;5;241m=\u001b[39m df[\u001b[38;5;124m'\u001b[39m\u001b[38;5;124mdescription\u001b[39m\u001b[38;5;124m'\u001b[39m]\u001b[38;5;241m.\u001b[39mapply( \u001b[38;5;28;01mlambda\u001b[39;00m x : \u001b[38;5;124m'\u001b[39m\u001b[38;5;124mno description\u001b[39m\u001b[38;5;124m'\u001b[39m \u001b[38;5;28;01mif\u001b[39;00m pd\u001b[38;5;241m.\u001b[39misna( x ) \u001b[38;5;28;01melse\u001b[39;00m x )\n",
      "File \u001b[1;32m~\\anaconda3\\envs\\prices_houses_idealista\\Lib\\site-packages\\pandas\\core\\frame.py:9568\u001b[0m, in \u001b[0;36mDataFrame.apply\u001b[1;34m(self, func, axis, raw, result_type, args, **kwargs)\u001b[0m\n\u001b[0;32m   9557\u001b[0m \u001b[38;5;28;01mfrom\u001b[39;00m \u001b[38;5;21;01mpandas\u001b[39;00m\u001b[38;5;21;01m.\u001b[39;00m\u001b[38;5;21;01mcore\u001b[39;00m\u001b[38;5;21;01m.\u001b[39;00m\u001b[38;5;21;01mapply\u001b[39;00m \u001b[38;5;28;01mimport\u001b[39;00m frame_apply\n\u001b[0;32m   9559\u001b[0m op \u001b[38;5;241m=\u001b[39m frame_apply(\n\u001b[0;32m   9560\u001b[0m     \u001b[38;5;28mself\u001b[39m,\n\u001b[0;32m   9561\u001b[0m     func\u001b[38;5;241m=\u001b[39mfunc,\n\u001b[1;32m   (...)\u001b[0m\n\u001b[0;32m   9566\u001b[0m     kwargs\u001b[38;5;241m=\u001b[39mkwargs,\n\u001b[0;32m   9567\u001b[0m )\n\u001b[1;32m-> 9568\u001b[0m \u001b[38;5;28;01mreturn\u001b[39;00m \u001b[43mop\u001b[49m\u001b[38;5;241;43m.\u001b[39;49m\u001b[43mapply\u001b[49m\u001b[43m(\u001b[49m\u001b[43m)\u001b[49m\u001b[38;5;241m.\u001b[39m__finalize__(\u001b[38;5;28mself\u001b[39m, method\u001b[38;5;241m=\u001b[39m\u001b[38;5;124m\"\u001b[39m\u001b[38;5;124mapply\u001b[39m\u001b[38;5;124m\"\u001b[39m)\n",
      "File \u001b[1;32m~\\anaconda3\\envs\\prices_houses_idealista\\Lib\\site-packages\\pandas\\core\\apply.py:764\u001b[0m, in \u001b[0;36mFrameApply.apply\u001b[1;34m(self)\u001b[0m\n\u001b[0;32m    761\u001b[0m \u001b[38;5;28;01melif\u001b[39;00m \u001b[38;5;28mself\u001b[39m\u001b[38;5;241m.\u001b[39mraw:\n\u001b[0;32m    762\u001b[0m     \u001b[38;5;28;01mreturn\u001b[39;00m \u001b[38;5;28mself\u001b[39m\u001b[38;5;241m.\u001b[39mapply_raw()\n\u001b[1;32m--> 764\u001b[0m \u001b[38;5;28;01mreturn\u001b[39;00m \u001b[38;5;28;43mself\u001b[39;49m\u001b[38;5;241;43m.\u001b[39;49m\u001b[43mapply_standard\u001b[49m\u001b[43m(\u001b[49m\u001b[43m)\u001b[49m\n",
      "File \u001b[1;32m~\\anaconda3\\envs\\prices_houses_idealista\\Lib\\site-packages\\pandas\\core\\apply.py:891\u001b[0m, in \u001b[0;36mFrameApply.apply_standard\u001b[1;34m(self)\u001b[0m\n\u001b[0;32m    890\u001b[0m \u001b[38;5;28;01mdef\u001b[39;00m \u001b[38;5;21mapply_standard\u001b[39m(\u001b[38;5;28mself\u001b[39m):\n\u001b[1;32m--> 891\u001b[0m     results, res_index \u001b[38;5;241m=\u001b[39m \u001b[38;5;28;43mself\u001b[39;49m\u001b[38;5;241;43m.\u001b[39;49m\u001b[43mapply_series_generator\u001b[49m\u001b[43m(\u001b[49m\u001b[43m)\u001b[49m\n\u001b[0;32m    893\u001b[0m     \u001b[38;5;66;03m# wrap results\u001b[39;00m\n\u001b[0;32m    894\u001b[0m     \u001b[38;5;28;01mreturn\u001b[39;00m \u001b[38;5;28mself\u001b[39m\u001b[38;5;241m.\u001b[39mwrap_results(results, res_index)\n",
      "File \u001b[1;32m~\\anaconda3\\envs\\prices_houses_idealista\\Lib\\site-packages\\pandas\\core\\apply.py:907\u001b[0m, in \u001b[0;36mFrameApply.apply_series_generator\u001b[1;34m(self)\u001b[0m\n\u001b[0;32m    904\u001b[0m \u001b[38;5;28;01mwith\u001b[39;00m option_context(\u001b[38;5;124m\"\u001b[39m\u001b[38;5;124mmode.chained_assignment\u001b[39m\u001b[38;5;124m\"\u001b[39m, \u001b[38;5;28;01mNone\u001b[39;00m):\n\u001b[0;32m    905\u001b[0m     \u001b[38;5;28;01mfor\u001b[39;00m i, v \u001b[38;5;129;01min\u001b[39;00m \u001b[38;5;28menumerate\u001b[39m(series_gen):\n\u001b[0;32m    906\u001b[0m         \u001b[38;5;66;03m# ignore SettingWithCopy here in case the user mutates\u001b[39;00m\n\u001b[1;32m--> 907\u001b[0m         results[i] \u001b[38;5;241m=\u001b[39m \u001b[38;5;28;43mself\u001b[39;49m\u001b[38;5;241;43m.\u001b[39;49m\u001b[43mf\u001b[49m\u001b[43m(\u001b[49m\u001b[43mv\u001b[49m\u001b[43m)\u001b[49m\n\u001b[0;32m    908\u001b[0m         \u001b[38;5;28;01mif\u001b[39;00m \u001b[38;5;28misinstance\u001b[39m(results[i], ABCSeries):\n\u001b[0;32m    909\u001b[0m             \u001b[38;5;66;03m# If we have a view on v, we need to make a copy because\u001b[39;00m\n\u001b[0;32m    910\u001b[0m             \u001b[38;5;66;03m#  series_generator will swap out the underlying data\u001b[39;00m\n\u001b[0;32m    911\u001b[0m             results[i] \u001b[38;5;241m=\u001b[39m results[i]\u001b[38;5;241m.\u001b[39mcopy(deep\u001b[38;5;241m=\u001b[39m\u001b[38;5;28;01mFalse\u001b[39;00m)\n",
      "Cell \u001b[1;32mIn[13], line 9\u001b[0m, in \u001b[0;36mfill_na.<locals>.<lambda>\u001b[1;34m(x)\u001b[0m\n\u001b[0;32m      6\u001b[0m df\u001b[38;5;241m.\u001b[39mloc[:,\u001b[38;5;124m'\u001b[39m\u001b[38;5;124mfloor\u001b[39m\u001b[38;5;124m'\u001b[39m] \u001b[38;5;241m=\u001b[39m df[\u001b[38;5;124m'\u001b[39m\u001b[38;5;124mfloor\u001b[39m\u001b[38;5;124m'\u001b[39m]\u001b[38;5;241m.\u001b[39mapply( \u001b[38;5;28;01mlambda\u001b[39;00m x : \u001b[38;5;241m0\u001b[39m \u001b[38;5;28;01mif\u001b[39;00m pd\u001b[38;5;241m.\u001b[39misna( x ) \u001b[38;5;28;01melse\u001b[39;00m x )\n\u001b[0;32m      8\u001b[0m \u001b[38;5;66;03m# district - vou fazer uma chamada na api para procurar os districts passando as coordenadas\u001b[39;00m\n\u001b[1;32m----> 9\u001b[0m df\u001b[38;5;241m.\u001b[39mloc[:,\u001b[38;5;124m'\u001b[39m\u001b[38;5;124mdistrict\u001b[39m\u001b[38;5;124m'\u001b[39m] \u001b[38;5;241m=\u001b[39m df\u001b[38;5;241m.\u001b[39mapply(\u001b[38;5;28;01mlambda\u001b[39;00m x: \u001b[43mfind_mun\u001b[49m\u001b[43m(\u001b[49m\u001b[43m \u001b[49m\u001b[43mx\u001b[49m\u001b[43m[\u001b[49m\u001b[38;5;124;43m'\u001b[39;49m\u001b[38;5;124;43mlatitude\u001b[39;49m\u001b[38;5;124;43m'\u001b[39;49m\u001b[43m]\u001b[49m\u001b[43m,\u001b[49m\u001b[43m \u001b[49m\u001b[43mx\u001b[49m\u001b[43m[\u001b[49m\u001b[38;5;124;43m'\u001b[39;49m\u001b[38;5;124;43mlongitude\u001b[39;49m\u001b[38;5;124;43m'\u001b[39;49m\u001b[43m]\u001b[49m\u001b[43m \u001b[49m\u001b[43m)\u001b[49m \u001b[38;5;28;01mif\u001b[39;00m pd\u001b[38;5;241m.\u001b[39misna( x[\u001b[38;5;124m'\u001b[39m\u001b[38;5;124mdistrict\u001b[39m\u001b[38;5;124m'\u001b[39m] ) \u001b[38;5;28;01melse\u001b[39;00m x[\u001b[38;5;124m'\u001b[39m\u001b[38;5;124mdistrict\u001b[39m\u001b[38;5;124m'\u001b[39m],axis \u001b[38;5;241m=\u001b[39m \u001b[38;5;241m1\u001b[39m)\n\u001b[0;32m     11\u001b[0m \u001b[38;5;66;03m# description\u001b[39;00m\n\u001b[0;32m     12\u001b[0m df\u001b[38;5;241m.\u001b[39mloc[:,\u001b[38;5;124m'\u001b[39m\u001b[38;5;124mdescription\u001b[39m\u001b[38;5;124m'\u001b[39m] \u001b[38;5;241m=\u001b[39m df[\u001b[38;5;124m'\u001b[39m\u001b[38;5;124mdescription\u001b[39m\u001b[38;5;124m'\u001b[39m]\u001b[38;5;241m.\u001b[39mapply( \u001b[38;5;28;01mlambda\u001b[39;00m x : \u001b[38;5;124m'\u001b[39m\u001b[38;5;124mno description\u001b[39m\u001b[38;5;124m'\u001b[39m \u001b[38;5;28;01mif\u001b[39;00m pd\u001b[38;5;241m.\u001b[39misna( x ) \u001b[38;5;28;01melse\u001b[39;00m x )\n",
      "Cell \u001b[1;32mIn[2], line 12\u001b[0m, in \u001b[0;36mfind_mun\u001b[1;34m(lat, long)\u001b[0m\n\u001b[0;32m      8\u001b[0m long \u001b[38;5;241m=\u001b[39m \u001b[38;5;28mstr\u001b[39m( long )\n\u001b[0;32m     10\u001b[0m coord \u001b[38;5;241m=\u001b[39m lat \u001b[38;5;241m+\u001b[39m \u001b[38;5;124m'\u001b[39m\u001b[38;5;124m,\u001b[39m\u001b[38;5;124m'\u001b[39m \u001b[38;5;241m+\u001b[39m long\n\u001b[1;32m---> 12\u001b[0m location \u001b[38;5;241m=\u001b[39m \u001b[43mgeolocator\u001b[49m\u001b[38;5;241;43m.\u001b[39;49m\u001b[43mreverse\u001b[49m\u001b[43m(\u001b[49m\u001b[43m \u001b[49m\u001b[43mcoord\u001b[49m\u001b[43m  \u001b[49m\u001b[43m)\u001b[49m\n\u001b[0;32m     14\u001b[0m \u001b[38;5;28;01mif\u001b[39;00m \u001b[38;5;124m'\u001b[39m\u001b[38;5;124mcity_district\u001b[39m\u001b[38;5;124m'\u001b[39m \u001b[38;5;129;01min\u001b[39;00m location\u001b[38;5;241m.\u001b[39mraw[\u001b[38;5;124m'\u001b[39m\u001b[38;5;124maddress\u001b[39m\u001b[38;5;124m'\u001b[39m]:\n\u001b[0;32m     16\u001b[0m     \u001b[38;5;28;01mreturn\u001b[39;00m location\u001b[38;5;241m.\u001b[39mraw[\u001b[38;5;124m'\u001b[39m\u001b[38;5;124maddress\u001b[39m\u001b[38;5;124m'\u001b[39m][\u001b[38;5;124m'\u001b[39m\u001b[38;5;124mcity_district\u001b[39m\u001b[38;5;124m'\u001b[39m]\n",
      "File \u001b[1;32m~\\anaconda3\\envs\\prices_houses_idealista\\Lib\\site-packages\\geopy\\geocoders\\nominatim.py:372\u001b[0m, in \u001b[0;36mNominatim.reverse\u001b[1;34m(self, query, exactly_one, timeout, language, addressdetails, zoom, namedetails)\u001b[0m\n\u001b[0;32m    370\u001b[0m logger\u001b[38;5;241m.\u001b[39mdebug(\u001b[38;5;124m\"\u001b[39m\u001b[38;5;132;01m%s\u001b[39;00m\u001b[38;5;124m.reverse: \u001b[39m\u001b[38;5;132;01m%s\u001b[39;00m\u001b[38;5;124m\"\u001b[39m, \u001b[38;5;28mself\u001b[39m\u001b[38;5;241m.\u001b[39m\u001b[38;5;18m__class__\u001b[39m\u001b[38;5;241m.\u001b[39m\u001b[38;5;18m__name__\u001b[39m, url)\n\u001b[0;32m    371\u001b[0m callback \u001b[38;5;241m=\u001b[39m partial(\u001b[38;5;28mself\u001b[39m\u001b[38;5;241m.\u001b[39m_parse_json, exactly_one\u001b[38;5;241m=\u001b[39mexactly_one)\n\u001b[1;32m--> 372\u001b[0m \u001b[38;5;28;01mreturn\u001b[39;00m \u001b[38;5;28;43mself\u001b[39;49m\u001b[38;5;241;43m.\u001b[39;49m\u001b[43m_call_geocoder\u001b[49m\u001b[43m(\u001b[49m\u001b[43murl\u001b[49m\u001b[43m,\u001b[49m\u001b[43m \u001b[49m\u001b[43mcallback\u001b[49m\u001b[43m,\u001b[49m\u001b[43m \u001b[49m\u001b[43mtimeout\u001b[49m\u001b[38;5;241;43m=\u001b[39;49m\u001b[43mtimeout\u001b[49m\u001b[43m)\u001b[49m\n",
      "File \u001b[1;32m~\\anaconda3\\envs\\prices_houses_idealista\\Lib\\site-packages\\geopy\\geocoders\\base.py:368\u001b[0m, in \u001b[0;36mGeocoder._call_geocoder\u001b[1;34m(self, url, callback, timeout, is_json, headers)\u001b[0m\n\u001b[0;32m    366\u001b[0m \u001b[38;5;28;01mtry\u001b[39;00m:\n\u001b[0;32m    367\u001b[0m     \u001b[38;5;28;01mif\u001b[39;00m is_json:\n\u001b[1;32m--> 368\u001b[0m         result \u001b[38;5;241m=\u001b[39m \u001b[38;5;28;43mself\u001b[39;49m\u001b[38;5;241;43m.\u001b[39;49m\u001b[43madapter\u001b[49m\u001b[38;5;241;43m.\u001b[39;49m\u001b[43mget_json\u001b[49m\u001b[43m(\u001b[49m\u001b[43murl\u001b[49m\u001b[43m,\u001b[49m\u001b[43m \u001b[49m\u001b[43mtimeout\u001b[49m\u001b[38;5;241;43m=\u001b[39;49m\u001b[43mtimeout\u001b[49m\u001b[43m,\u001b[49m\u001b[43m \u001b[49m\u001b[43mheaders\u001b[49m\u001b[38;5;241;43m=\u001b[39;49m\u001b[43mreq_headers\u001b[49m\u001b[43m)\u001b[49m\n\u001b[0;32m    369\u001b[0m     \u001b[38;5;28;01melse\u001b[39;00m:\n\u001b[0;32m    370\u001b[0m         result \u001b[38;5;241m=\u001b[39m \u001b[38;5;28mself\u001b[39m\u001b[38;5;241m.\u001b[39madapter\u001b[38;5;241m.\u001b[39mget_text(url, timeout\u001b[38;5;241m=\u001b[39mtimeout, headers\u001b[38;5;241m=\u001b[39mreq_headers)\n",
      "File \u001b[1;32m~\\anaconda3\\envs\\prices_houses_idealista\\Lib\\site-packages\\geopy\\adapters.py:447\u001b[0m, in \u001b[0;36mRequestsAdapter.get_json\u001b[1;34m(self, url, timeout, headers)\u001b[0m\n\u001b[0;32m    446\u001b[0m \u001b[38;5;28;01mdef\u001b[39;00m \u001b[38;5;21mget_json\u001b[39m(\u001b[38;5;28mself\u001b[39m, url, \u001b[38;5;241m*\u001b[39m, timeout, headers):\n\u001b[1;32m--> 447\u001b[0m     resp \u001b[38;5;241m=\u001b[39m \u001b[38;5;28;43mself\u001b[39;49m\u001b[38;5;241;43m.\u001b[39;49m\u001b[43m_request\u001b[49m\u001b[43m(\u001b[49m\u001b[43murl\u001b[49m\u001b[43m,\u001b[49m\u001b[43m \u001b[49m\u001b[43mtimeout\u001b[49m\u001b[38;5;241;43m=\u001b[39;49m\u001b[43mtimeout\u001b[49m\u001b[43m,\u001b[49m\u001b[43m \u001b[49m\u001b[43mheaders\u001b[49m\u001b[38;5;241;43m=\u001b[39;49m\u001b[43mheaders\u001b[49m\u001b[43m)\u001b[49m\n\u001b[0;32m    448\u001b[0m     \u001b[38;5;28;01mtry\u001b[39;00m:\n\u001b[0;32m    449\u001b[0m         \u001b[38;5;28;01mreturn\u001b[39;00m resp\u001b[38;5;241m.\u001b[39mjson()\n",
      "File \u001b[1;32m~\\anaconda3\\envs\\prices_houses_idealista\\Lib\\site-packages\\geopy\\adapters.py:457\u001b[0m, in \u001b[0;36mRequestsAdapter._request\u001b[1;34m(self, url, timeout, headers)\u001b[0m\n\u001b[0;32m    455\u001b[0m \u001b[38;5;28;01mdef\u001b[39;00m \u001b[38;5;21m_request\u001b[39m(\u001b[38;5;28mself\u001b[39m, url, \u001b[38;5;241m*\u001b[39m, timeout, headers):\n\u001b[0;32m    456\u001b[0m     \u001b[38;5;28;01mtry\u001b[39;00m:\n\u001b[1;32m--> 457\u001b[0m         resp \u001b[38;5;241m=\u001b[39m \u001b[38;5;28;43mself\u001b[39;49m\u001b[38;5;241;43m.\u001b[39;49m\u001b[43msession\u001b[49m\u001b[38;5;241;43m.\u001b[39;49m\u001b[43mget\u001b[49m\u001b[43m(\u001b[49m\u001b[43murl\u001b[49m\u001b[43m,\u001b[49m\u001b[43m \u001b[49m\u001b[43mtimeout\u001b[49m\u001b[38;5;241;43m=\u001b[39;49m\u001b[43mtimeout\u001b[49m\u001b[43m,\u001b[49m\u001b[43m \u001b[49m\u001b[43mheaders\u001b[49m\u001b[38;5;241;43m=\u001b[39;49m\u001b[43mheaders\u001b[49m\u001b[43m)\u001b[49m\n\u001b[0;32m    458\u001b[0m     \u001b[38;5;28;01mexcept\u001b[39;00m \u001b[38;5;167;01mException\u001b[39;00m \u001b[38;5;28;01mas\u001b[39;00m error:\n\u001b[0;32m    459\u001b[0m         message \u001b[38;5;241m=\u001b[39m \u001b[38;5;28mstr\u001b[39m(error)\n",
      "File \u001b[1;32m~\\anaconda3\\envs\\prices_houses_idealista\\Lib\\site-packages\\requests\\sessions.py:600\u001b[0m, in \u001b[0;36mSession.get\u001b[1;34m(self, url, **kwargs)\u001b[0m\n\u001b[0;32m    592\u001b[0m \u001b[38;5;250m\u001b[39m\u001b[38;5;124mr\u001b[39m\u001b[38;5;124;03m\"\"\"Sends a GET request. Returns :class:`Response` object.\u001b[39;00m\n\u001b[0;32m    593\u001b[0m \n\u001b[0;32m    594\u001b[0m \u001b[38;5;124;03m:param url: URL for the new :class:`Request` object.\u001b[39;00m\n\u001b[0;32m    595\u001b[0m \u001b[38;5;124;03m:param \\*\\*kwargs: Optional arguments that ``request`` takes.\u001b[39;00m\n\u001b[0;32m    596\u001b[0m \u001b[38;5;124;03m:rtype: requests.Response\u001b[39;00m\n\u001b[0;32m    597\u001b[0m \u001b[38;5;124;03m\"\"\"\u001b[39;00m\n\u001b[0;32m    599\u001b[0m kwargs\u001b[38;5;241m.\u001b[39msetdefault(\u001b[38;5;124m\"\u001b[39m\u001b[38;5;124mallow_redirects\u001b[39m\u001b[38;5;124m\"\u001b[39m, \u001b[38;5;28;01mTrue\u001b[39;00m)\n\u001b[1;32m--> 600\u001b[0m \u001b[38;5;28;01mreturn\u001b[39;00m \u001b[38;5;28;43mself\u001b[39;49m\u001b[38;5;241;43m.\u001b[39;49m\u001b[43mrequest\u001b[49m\u001b[43m(\u001b[49m\u001b[38;5;124;43m\"\u001b[39;49m\u001b[38;5;124;43mGET\u001b[39;49m\u001b[38;5;124;43m\"\u001b[39;49m\u001b[43m,\u001b[49m\u001b[43m \u001b[49m\u001b[43murl\u001b[49m\u001b[43m,\u001b[49m\u001b[43m \u001b[49m\u001b[38;5;241;43m*\u001b[39;49m\u001b[38;5;241;43m*\u001b[39;49m\u001b[43mkwargs\u001b[49m\u001b[43m)\u001b[49m\n",
      "File \u001b[1;32m~\\anaconda3\\envs\\prices_houses_idealista\\Lib\\site-packages\\requests\\sessions.py:587\u001b[0m, in \u001b[0;36mSession.request\u001b[1;34m(self, method, url, params, data, headers, cookies, files, auth, timeout, allow_redirects, proxies, hooks, stream, verify, cert, json)\u001b[0m\n\u001b[0;32m    582\u001b[0m send_kwargs \u001b[38;5;241m=\u001b[39m {\n\u001b[0;32m    583\u001b[0m     \u001b[38;5;124m\"\u001b[39m\u001b[38;5;124mtimeout\u001b[39m\u001b[38;5;124m\"\u001b[39m: timeout,\n\u001b[0;32m    584\u001b[0m     \u001b[38;5;124m\"\u001b[39m\u001b[38;5;124mallow_redirects\u001b[39m\u001b[38;5;124m\"\u001b[39m: allow_redirects,\n\u001b[0;32m    585\u001b[0m }\n\u001b[0;32m    586\u001b[0m send_kwargs\u001b[38;5;241m.\u001b[39mupdate(settings)\n\u001b[1;32m--> 587\u001b[0m resp \u001b[38;5;241m=\u001b[39m \u001b[38;5;28;43mself\u001b[39;49m\u001b[38;5;241;43m.\u001b[39;49m\u001b[43msend\u001b[49m\u001b[43m(\u001b[49m\u001b[43mprep\u001b[49m\u001b[43m,\u001b[49m\u001b[43m \u001b[49m\u001b[38;5;241;43m*\u001b[39;49m\u001b[38;5;241;43m*\u001b[39;49m\u001b[43msend_kwargs\u001b[49m\u001b[43m)\u001b[49m\n\u001b[0;32m    589\u001b[0m \u001b[38;5;28;01mreturn\u001b[39;00m resp\n",
      "File \u001b[1;32m~\\anaconda3\\envs\\prices_houses_idealista\\Lib\\site-packages\\requests\\sessions.py:701\u001b[0m, in \u001b[0;36mSession.send\u001b[1;34m(self, request, **kwargs)\u001b[0m\n\u001b[0;32m    698\u001b[0m start \u001b[38;5;241m=\u001b[39m preferred_clock()\n\u001b[0;32m    700\u001b[0m \u001b[38;5;66;03m# Send the request\u001b[39;00m\n\u001b[1;32m--> 701\u001b[0m r \u001b[38;5;241m=\u001b[39m \u001b[43madapter\u001b[49m\u001b[38;5;241;43m.\u001b[39;49m\u001b[43msend\u001b[49m\u001b[43m(\u001b[49m\u001b[43mrequest\u001b[49m\u001b[43m,\u001b[49m\u001b[43m \u001b[49m\u001b[38;5;241;43m*\u001b[39;49m\u001b[38;5;241;43m*\u001b[39;49m\u001b[43mkwargs\u001b[49m\u001b[43m)\u001b[49m\n\u001b[0;32m    703\u001b[0m \u001b[38;5;66;03m# Total elapsed time of the request (approximately)\u001b[39;00m\n\u001b[0;32m    704\u001b[0m elapsed \u001b[38;5;241m=\u001b[39m preferred_clock() \u001b[38;5;241m-\u001b[39m start\n",
      "File \u001b[1;32m~\\anaconda3\\envs\\prices_houses_idealista\\Lib\\site-packages\\requests\\adapters.py:489\u001b[0m, in \u001b[0;36mHTTPAdapter.send\u001b[1;34m(self, request, stream, timeout, verify, cert, proxies)\u001b[0m\n\u001b[0;32m    487\u001b[0m \u001b[38;5;28;01mtry\u001b[39;00m:\n\u001b[0;32m    488\u001b[0m     \u001b[38;5;28;01mif\u001b[39;00m \u001b[38;5;129;01mnot\u001b[39;00m chunked:\n\u001b[1;32m--> 489\u001b[0m         resp \u001b[38;5;241m=\u001b[39m \u001b[43mconn\u001b[49m\u001b[38;5;241;43m.\u001b[39;49m\u001b[43murlopen\u001b[49m\u001b[43m(\u001b[49m\n\u001b[0;32m    490\u001b[0m \u001b[43m            \u001b[49m\u001b[43mmethod\u001b[49m\u001b[38;5;241;43m=\u001b[39;49m\u001b[43mrequest\u001b[49m\u001b[38;5;241;43m.\u001b[39;49m\u001b[43mmethod\u001b[49m\u001b[43m,\u001b[49m\n\u001b[0;32m    491\u001b[0m \u001b[43m            \u001b[49m\u001b[43murl\u001b[49m\u001b[38;5;241;43m=\u001b[39;49m\u001b[43murl\u001b[49m\u001b[43m,\u001b[49m\n\u001b[0;32m    492\u001b[0m \u001b[43m            \u001b[49m\u001b[43mbody\u001b[49m\u001b[38;5;241;43m=\u001b[39;49m\u001b[43mrequest\u001b[49m\u001b[38;5;241;43m.\u001b[39;49m\u001b[43mbody\u001b[49m\u001b[43m,\u001b[49m\n\u001b[0;32m    493\u001b[0m \u001b[43m            \u001b[49m\u001b[43mheaders\u001b[49m\u001b[38;5;241;43m=\u001b[39;49m\u001b[43mrequest\u001b[49m\u001b[38;5;241;43m.\u001b[39;49m\u001b[43mheaders\u001b[49m\u001b[43m,\u001b[49m\n\u001b[0;32m    494\u001b[0m \u001b[43m            \u001b[49m\u001b[43mredirect\u001b[49m\u001b[38;5;241;43m=\u001b[39;49m\u001b[38;5;28;43;01mFalse\u001b[39;49;00m\u001b[43m,\u001b[49m\n\u001b[0;32m    495\u001b[0m \u001b[43m            \u001b[49m\u001b[43massert_same_host\u001b[49m\u001b[38;5;241;43m=\u001b[39;49m\u001b[38;5;28;43;01mFalse\u001b[39;49;00m\u001b[43m,\u001b[49m\n\u001b[0;32m    496\u001b[0m \u001b[43m            \u001b[49m\u001b[43mpreload_content\u001b[49m\u001b[38;5;241;43m=\u001b[39;49m\u001b[38;5;28;43;01mFalse\u001b[39;49;00m\u001b[43m,\u001b[49m\n\u001b[0;32m    497\u001b[0m \u001b[43m            \u001b[49m\u001b[43mdecode_content\u001b[49m\u001b[38;5;241;43m=\u001b[39;49m\u001b[38;5;28;43;01mFalse\u001b[39;49;00m\u001b[43m,\u001b[49m\n\u001b[0;32m    498\u001b[0m \u001b[43m            \u001b[49m\u001b[43mretries\u001b[49m\u001b[38;5;241;43m=\u001b[39;49m\u001b[38;5;28;43mself\u001b[39;49m\u001b[38;5;241;43m.\u001b[39;49m\u001b[43mmax_retries\u001b[49m\u001b[43m,\u001b[49m\n\u001b[0;32m    499\u001b[0m \u001b[43m            \u001b[49m\u001b[43mtimeout\u001b[49m\u001b[38;5;241;43m=\u001b[39;49m\u001b[43mtimeout\u001b[49m\u001b[43m,\u001b[49m\n\u001b[0;32m    500\u001b[0m \u001b[43m        \u001b[49m\u001b[43m)\u001b[49m\n\u001b[0;32m    502\u001b[0m     \u001b[38;5;66;03m# Send the request.\u001b[39;00m\n\u001b[0;32m    503\u001b[0m     \u001b[38;5;28;01melse\u001b[39;00m:\n\u001b[0;32m    504\u001b[0m         \u001b[38;5;28;01mif\u001b[39;00m \u001b[38;5;28mhasattr\u001b[39m(conn, \u001b[38;5;124m\"\u001b[39m\u001b[38;5;124mproxy_pool\u001b[39m\u001b[38;5;124m\"\u001b[39m):\n",
      "File \u001b[1;32m~\\anaconda3\\envs\\prices_houses_idealista\\Lib\\site-packages\\urllib3\\connectionpool.py:703\u001b[0m, in \u001b[0;36mHTTPConnectionPool.urlopen\u001b[1;34m(self, method, url, body, headers, retries, redirect, assert_same_host, timeout, pool_timeout, release_conn, chunked, body_pos, **response_kw)\u001b[0m\n\u001b[0;32m    700\u001b[0m     \u001b[38;5;28mself\u001b[39m\u001b[38;5;241m.\u001b[39m_prepare_proxy(conn)\n\u001b[0;32m    702\u001b[0m \u001b[38;5;66;03m# Make the request on the httplib connection object.\u001b[39;00m\n\u001b[1;32m--> 703\u001b[0m httplib_response \u001b[38;5;241m=\u001b[39m \u001b[38;5;28;43mself\u001b[39;49m\u001b[38;5;241;43m.\u001b[39;49m\u001b[43m_make_request\u001b[49m\u001b[43m(\u001b[49m\n\u001b[0;32m    704\u001b[0m \u001b[43m    \u001b[49m\u001b[43mconn\u001b[49m\u001b[43m,\u001b[49m\n\u001b[0;32m    705\u001b[0m \u001b[43m    \u001b[49m\u001b[43mmethod\u001b[49m\u001b[43m,\u001b[49m\n\u001b[0;32m    706\u001b[0m \u001b[43m    \u001b[49m\u001b[43murl\u001b[49m\u001b[43m,\u001b[49m\n\u001b[0;32m    707\u001b[0m \u001b[43m    \u001b[49m\u001b[43mtimeout\u001b[49m\u001b[38;5;241;43m=\u001b[39;49m\u001b[43mtimeout_obj\u001b[49m\u001b[43m,\u001b[49m\n\u001b[0;32m    708\u001b[0m \u001b[43m    \u001b[49m\u001b[43mbody\u001b[49m\u001b[38;5;241;43m=\u001b[39;49m\u001b[43mbody\u001b[49m\u001b[43m,\u001b[49m\n\u001b[0;32m    709\u001b[0m \u001b[43m    \u001b[49m\u001b[43mheaders\u001b[49m\u001b[38;5;241;43m=\u001b[39;49m\u001b[43mheaders\u001b[49m\u001b[43m,\u001b[49m\n\u001b[0;32m    710\u001b[0m \u001b[43m    \u001b[49m\u001b[43mchunked\u001b[49m\u001b[38;5;241;43m=\u001b[39;49m\u001b[43mchunked\u001b[49m\u001b[43m,\u001b[49m\n\u001b[0;32m    711\u001b[0m \u001b[43m\u001b[49m\u001b[43m)\u001b[49m\n\u001b[0;32m    713\u001b[0m \u001b[38;5;66;03m# If we're going to release the connection in ``finally:``, then\u001b[39;00m\n\u001b[0;32m    714\u001b[0m \u001b[38;5;66;03m# the response doesn't need to know about the connection. Otherwise\u001b[39;00m\n\u001b[0;32m    715\u001b[0m \u001b[38;5;66;03m# it will also try to release it and we'll have a double-release\u001b[39;00m\n\u001b[0;32m    716\u001b[0m \u001b[38;5;66;03m# mess.\u001b[39;00m\n\u001b[0;32m    717\u001b[0m response_conn \u001b[38;5;241m=\u001b[39m conn \u001b[38;5;28;01mif\u001b[39;00m \u001b[38;5;129;01mnot\u001b[39;00m release_conn \u001b[38;5;28;01melse\u001b[39;00m \u001b[38;5;28;01mNone\u001b[39;00m\n",
      "File \u001b[1;32m~\\anaconda3\\envs\\prices_houses_idealista\\Lib\\site-packages\\urllib3\\connectionpool.py:386\u001b[0m, in \u001b[0;36mHTTPConnectionPool._make_request\u001b[1;34m(self, conn, method, url, timeout, chunked, **httplib_request_kw)\u001b[0m\n\u001b[0;32m    384\u001b[0m \u001b[38;5;66;03m# Trigger any extra validation we need to do.\u001b[39;00m\n\u001b[0;32m    385\u001b[0m \u001b[38;5;28;01mtry\u001b[39;00m:\n\u001b[1;32m--> 386\u001b[0m     \u001b[38;5;28;43mself\u001b[39;49m\u001b[38;5;241;43m.\u001b[39;49m\u001b[43m_validate_conn\u001b[49m\u001b[43m(\u001b[49m\u001b[43mconn\u001b[49m\u001b[43m)\u001b[49m\n\u001b[0;32m    387\u001b[0m \u001b[38;5;28;01mexcept\u001b[39;00m (SocketTimeout, BaseSSLError) \u001b[38;5;28;01mas\u001b[39;00m e:\n\u001b[0;32m    388\u001b[0m     \u001b[38;5;66;03m# Py2 raises this as a BaseSSLError, Py3 raises it as socket timeout.\u001b[39;00m\n\u001b[0;32m    389\u001b[0m     \u001b[38;5;28mself\u001b[39m\u001b[38;5;241m.\u001b[39m_raise_timeout(err\u001b[38;5;241m=\u001b[39me, url\u001b[38;5;241m=\u001b[39murl, timeout_value\u001b[38;5;241m=\u001b[39mconn\u001b[38;5;241m.\u001b[39mtimeout)\n",
      "File \u001b[1;32m~\\anaconda3\\envs\\prices_houses_idealista\\Lib\\site-packages\\urllib3\\connectionpool.py:1042\u001b[0m, in \u001b[0;36mHTTPSConnectionPool._validate_conn\u001b[1;34m(self, conn)\u001b[0m\n\u001b[0;32m   1040\u001b[0m \u001b[38;5;66;03m# Force connect early to allow us to validate the connection.\u001b[39;00m\n\u001b[0;32m   1041\u001b[0m \u001b[38;5;28;01mif\u001b[39;00m \u001b[38;5;129;01mnot\u001b[39;00m \u001b[38;5;28mgetattr\u001b[39m(conn, \u001b[38;5;124m\"\u001b[39m\u001b[38;5;124msock\u001b[39m\u001b[38;5;124m\"\u001b[39m, \u001b[38;5;28;01mNone\u001b[39;00m):  \u001b[38;5;66;03m# AppEngine might not have  `.sock`\u001b[39;00m\n\u001b[1;32m-> 1042\u001b[0m     \u001b[43mconn\u001b[49m\u001b[38;5;241;43m.\u001b[39;49m\u001b[43mconnect\u001b[49m\u001b[43m(\u001b[49m\u001b[43m)\u001b[49m\n\u001b[0;32m   1044\u001b[0m \u001b[38;5;28;01mif\u001b[39;00m \u001b[38;5;129;01mnot\u001b[39;00m conn\u001b[38;5;241m.\u001b[39mis_verified:\n\u001b[0;32m   1045\u001b[0m     warnings\u001b[38;5;241m.\u001b[39mwarn(\n\u001b[0;32m   1046\u001b[0m         (\n\u001b[0;32m   1047\u001b[0m             \u001b[38;5;124m\"\u001b[39m\u001b[38;5;124mUnverified HTTPS request is being made to host \u001b[39m\u001b[38;5;124m'\u001b[39m\u001b[38;5;132;01m%s\u001b[39;00m\u001b[38;5;124m'\u001b[39m\u001b[38;5;124m. \u001b[39m\u001b[38;5;124m\"\u001b[39m\n\u001b[1;32m   (...)\u001b[0m\n\u001b[0;32m   1052\u001b[0m         InsecureRequestWarning,\n\u001b[0;32m   1053\u001b[0m     )\n",
      "File \u001b[1;32m~\\anaconda3\\envs\\prices_houses_idealista\\Lib\\site-packages\\urllib3\\connection.py:358\u001b[0m, in \u001b[0;36mHTTPSConnection.connect\u001b[1;34m(self)\u001b[0m\n\u001b[0;32m    356\u001b[0m \u001b[38;5;28;01mdef\u001b[39;00m \u001b[38;5;21mconnect\u001b[39m(\u001b[38;5;28mself\u001b[39m):\n\u001b[0;32m    357\u001b[0m     \u001b[38;5;66;03m# Add certificate verification\u001b[39;00m\n\u001b[1;32m--> 358\u001b[0m     \u001b[38;5;28mself\u001b[39m\u001b[38;5;241m.\u001b[39msock \u001b[38;5;241m=\u001b[39m conn \u001b[38;5;241m=\u001b[39m \u001b[38;5;28;43mself\u001b[39;49m\u001b[38;5;241;43m.\u001b[39;49m\u001b[43m_new_conn\u001b[49m\u001b[43m(\u001b[49m\u001b[43m)\u001b[49m\n\u001b[0;32m    359\u001b[0m     hostname \u001b[38;5;241m=\u001b[39m \u001b[38;5;28mself\u001b[39m\u001b[38;5;241m.\u001b[39mhost\n\u001b[0;32m    360\u001b[0m     tls_in_tls \u001b[38;5;241m=\u001b[39m \u001b[38;5;28;01mFalse\u001b[39;00m\n",
      "File \u001b[1;32m~\\anaconda3\\envs\\prices_houses_idealista\\Lib\\site-packages\\urllib3\\connection.py:174\u001b[0m, in \u001b[0;36mHTTPConnection._new_conn\u001b[1;34m(self)\u001b[0m\n\u001b[0;32m    171\u001b[0m     extra_kw[\u001b[38;5;124m\"\u001b[39m\u001b[38;5;124msocket_options\u001b[39m\u001b[38;5;124m\"\u001b[39m] \u001b[38;5;241m=\u001b[39m \u001b[38;5;28mself\u001b[39m\u001b[38;5;241m.\u001b[39msocket_options\n\u001b[0;32m    173\u001b[0m \u001b[38;5;28;01mtry\u001b[39;00m:\n\u001b[1;32m--> 174\u001b[0m     conn \u001b[38;5;241m=\u001b[39m \u001b[43mconnection\u001b[49m\u001b[38;5;241;43m.\u001b[39;49m\u001b[43mcreate_connection\u001b[49m\u001b[43m(\u001b[49m\n\u001b[0;32m    175\u001b[0m \u001b[43m        \u001b[49m\u001b[43m(\u001b[49m\u001b[38;5;28;43mself\u001b[39;49m\u001b[38;5;241;43m.\u001b[39;49m\u001b[43m_dns_host\u001b[49m\u001b[43m,\u001b[49m\u001b[43m \u001b[49m\u001b[38;5;28;43mself\u001b[39;49m\u001b[38;5;241;43m.\u001b[39;49m\u001b[43mport\u001b[49m\u001b[43m)\u001b[49m\u001b[43m,\u001b[49m\u001b[43m \u001b[49m\u001b[38;5;28;43mself\u001b[39;49m\u001b[38;5;241;43m.\u001b[39;49m\u001b[43mtimeout\u001b[49m\u001b[43m,\u001b[49m\u001b[43m \u001b[49m\u001b[38;5;241;43m*\u001b[39;49m\u001b[38;5;241;43m*\u001b[39;49m\u001b[43mextra_kw\u001b[49m\n\u001b[0;32m    176\u001b[0m \u001b[43m    \u001b[49m\u001b[43m)\u001b[49m\n\u001b[0;32m    178\u001b[0m \u001b[38;5;28;01mexcept\u001b[39;00m SocketTimeout:\n\u001b[0;32m    179\u001b[0m     \u001b[38;5;28;01mraise\u001b[39;00m ConnectTimeoutError(\n\u001b[0;32m    180\u001b[0m         \u001b[38;5;28mself\u001b[39m,\n\u001b[0;32m    181\u001b[0m         \u001b[38;5;124m\"\u001b[39m\u001b[38;5;124mConnection to \u001b[39m\u001b[38;5;132;01m%s\u001b[39;00m\u001b[38;5;124m timed out. (connect timeout=\u001b[39m\u001b[38;5;132;01m%s\u001b[39;00m\u001b[38;5;124m)\u001b[39m\u001b[38;5;124m\"\u001b[39m\n\u001b[0;32m    182\u001b[0m         \u001b[38;5;241m%\u001b[39m (\u001b[38;5;28mself\u001b[39m\u001b[38;5;241m.\u001b[39mhost, \u001b[38;5;28mself\u001b[39m\u001b[38;5;241m.\u001b[39mtimeout),\n\u001b[0;32m    183\u001b[0m     )\n",
      "File \u001b[1;32m~\\anaconda3\\envs\\prices_houses_idealista\\Lib\\site-packages\\urllib3\\util\\connection.py:85\u001b[0m, in \u001b[0;36mcreate_connection\u001b[1;34m(address, timeout, source_address, socket_options)\u001b[0m\n\u001b[0;32m     83\u001b[0m     \u001b[38;5;28;01mif\u001b[39;00m source_address:\n\u001b[0;32m     84\u001b[0m         sock\u001b[38;5;241m.\u001b[39mbind(source_address)\n\u001b[1;32m---> 85\u001b[0m     sock\u001b[38;5;241m.\u001b[39mconnect(sa)\n\u001b[0;32m     86\u001b[0m     \u001b[38;5;28;01mreturn\u001b[39;00m sock\n\u001b[0;32m     88\u001b[0m \u001b[38;5;28;01mexcept\u001b[39;00m socket\u001b[38;5;241m.\u001b[39merror \u001b[38;5;28;01mas\u001b[39;00m e:\n",
      "\u001b[1;31mKeyboardInterrupt\u001b[0m: "
     ]
    }
   ],
   "source": [
    "# instancia a classe Idealista\n",
    "idealista = Idealista()\n",
    "\n",
    "# limpando os dados\n",
    "df1_val = idealista.transform_data( df_teste , colunas_irrelevantes )\n",
    "\n",
    "# feature engineering\n",
    "df2_val = idealista.feature_engineering( df1_val , transform_data = True, merge_datasets = True )\n",
    "\n",
    "# filtrar variáveis\n",
    "df3_val = idealista.filter_variables( df2_val )\n",
    "\n",
    "# reomver outliers\n",
    "df4_val = idealista.remove_outliers( df3_val )\n",
    "\n",
    "# reescalar dados\n",
    "df5_val = idealista.rescaling_data( df4_val )\n",
    "\n",
    "# encodar dados\n",
    "df6_val = idealista.encoding( df5_val )\n",
    "\n",
    "# predicoes\n",
    "df7_val = idealista.predicoes( df6_val , bst )"
   ]
  },
  {
   "cell_type": "markdown",
   "id": "549acf1e",
   "metadata": {
    "ExecuteTime": {
     "end_time": "2024-02-04T16:13:37.736510Z",
     "start_time": "2024-02-04T16:13:37.733647Z"
    }
   },
   "source": [
    "## 8.1.2 Feature Importances"
   ]
  },
  {
   "cell_type": "code",
   "execution_count": 76,
   "id": "dc8b35c6",
   "metadata": {
    "ExecuteTime": {
     "end_time": "2024-02-05T10:53:34.924262Z",
     "start_time": "2024-02-05T10:53:34.542804Z"
    },
    "scrolled": true
   },
   "outputs": [
    {
     "data": {
      "text/plain": [
       "<Figure size 1000x600 with 0 Axes>"
      ]
     },
     "metadata": {},
     "output_type": "display_data"
    },
    {
     "data": {
      "image/png": "[encoded data removed]",
      "text/plain": [
       "<Figure size 640x480 with 1 Axes>"
      ]
     },
     "metadata": {},
     "output_type": "display_data"
    }
   ],
   "source": [
    "# Obter a importância das características\n",
    "feature_importance_values = bst.feature_importance(importance_type='split')\n",
    "\n",
    "# Criar um DataFrame para facilitar a visualização\n",
    "feature_importances = pd.DataFrame({\n",
    "    'feature': df7_val.drop(['price','pred'], axis = 1).columns.to_list(),\n",
    "    'importance': feature_importance_values\n",
    "})\n",
    "\n",
    "# Ordenar as características pela importância\n",
    "feature_importances = feature_importances.sort_values('importance', ascending=False)\n",
    "\n",
    "# Visualizar a importância das características\n",
    "plt.figure(figsize=(10, 6))\n",
    "lgb.plot_importance(bst, importance_type='split', max_num_features=30)\n",
    "plt.title('Feature Importance (Split)')\n",
    "plt.show()"
   ]
  },
  {
   "cell_type": "code",
   "execution_count": 83,
   "id": "7ee14585",
   "metadata": {
    "ExecuteTime": {
     "end_time": "2024-02-05T10:54:45.592062Z",
     "start_time": "2024-02-05T10:54:45.580156Z"
    }
   },
   "outputs": [
    {
     "data": {
      "text/html": [
       "<div>\n",
       "<style scoped>\n",
       "    .dataframe tbody tr th:only-of-type {\n",
       "        vertical-align: middle;\n",
       "    }\n",
       "\n",
       "    .dataframe tbody tr th {\n",
       "        vertical-align: top;\n",
       "    }\n",
       "\n",
       "    .dataframe thead th {\n",
       "        text-align: right;\n",
       "    }\n",
       "</style>\n",
       "<table border=\"1\" class=\"dataframe\">\n",
       "  <thead>\n",
       "    <tr style=\"text-align: right;\">\n",
       "      <th></th>\n",
       "      <th>Model Name</th>\n",
       "      <th>MAE</th>\n",
       "      <th>MAPE</th>\n",
       "      <th>RMSE</th>\n",
       "      <th>R2_score</th>\n",
       "    </tr>\n",
       "  </thead>\n",
       "  <tbody>\n",
       "    <tr>\n",
       "      <th>0</th>\n",
       "      <td>lgbm result</td>\n",
       "      <td>669.75</td>\n",
       "      <td>0.20</td>\n",
       "      <td>1,334.64</td>\n",
       "      <td>0.82</td>\n",
       "    </tr>\n",
       "  </tbody>\n",
       "</table>\n",
       "</div>"
      ],
      "text/plain": [
       "   Model Name     MAE  MAPE     RMSE  R2_score\n",
       "0  lgbm result 669.75  0.20 1,334.64      0.82"
      ]
     },
     "execution_count": 83,
     "metadata": {},
     "output_type": "execute_result"
    }
   ],
   "source": [
    "y_teste_final = df7_val['price']\n",
    "y_hat_final = df7_val['pred']\n",
    "\n",
    "# performance\n",
    "lgbm_result = ml_error( 'lgbm result',  y_teste_final  ,  y_hat_final  )\n",
    "lgbm_result"
   ]
  },
  {
   "cell_type": "code",
   "execution_count": 84,
   "id": "aec7a501",
   "metadata": {
    "ExecuteTime": {
     "end_time": "2024-02-05T10:54:53.283916Z",
     "start_time": "2024-02-05T10:54:53.268707Z"
    },
    "scrolled": true
   },
   "outputs": [
    {
     "data": {
      "text/html": [
       "<div>\n",
       "<style scoped>\n",
       "    .dataframe tbody tr th:only-of-type {\n",
       "        vertical-align: middle;\n",
       "    }\n",
       "\n",
       "    .dataframe tbody tr th {\n",
       "        vertical-align: top;\n",
       "    }\n",
       "\n",
       "    .dataframe thead th {\n",
       "        text-align: right;\n",
       "    }\n",
       "</style>\n",
       "<table border=\"1\" class=\"dataframe\">\n",
       "  <thead>\n",
       "    <tr style=\"text-align: right;\">\n",
       "      <th></th>\n",
       "      <th>price</th>\n",
       "      <th>pred</th>\n",
       "      <th>erro</th>\n",
       "      <th>erro_abs</th>\n",
       "    </tr>\n",
       "  </thead>\n",
       "  <tbody>\n",
       "    <tr>\n",
       "      <th>1587</th>\n",
       "      <td>33,000.00</td>\n",
       "      <td>8,560.90</td>\n",
       "      <td>-24,439.10</td>\n",
       "      <td>24,439.10</td>\n",
       "    </tr>\n",
       "    <tr>\n",
       "      <th>412</th>\n",
       "      <td>27,500.00</td>\n",
       "      <td>11,908.49</td>\n",
       "      <td>-15,591.51</td>\n",
       "      <td>15,591.51</td>\n",
       "    </tr>\n",
       "    <tr>\n",
       "      <th>409</th>\n",
       "      <td>24,000.00</td>\n",
       "      <td>12,598.28</td>\n",
       "      <td>-11,401.72</td>\n",
       "      <td>11,401.72</td>\n",
       "    </tr>\n",
       "    <tr>\n",
       "      <th>263</th>\n",
       "      <td>14,000.00</td>\n",
       "      <td>4,032.27</td>\n",
       "      <td>-9,967.73</td>\n",
       "      <td>9,967.73</td>\n",
       "    </tr>\n",
       "    <tr>\n",
       "      <th>758</th>\n",
       "      <td>27,500.00</td>\n",
       "      <td>18,119.73</td>\n",
       "      <td>-9,380.27</td>\n",
       "      <td>9,380.27</td>\n",
       "    </tr>\n",
       "    <tr>\n",
       "      <th>886</th>\n",
       "      <td>28,000.00</td>\n",
       "      <td>18,643.19</td>\n",
       "      <td>-9,356.81</td>\n",
       "      <td>9,356.81</td>\n",
       "    </tr>\n",
       "    <tr>\n",
       "      <th>733</th>\n",
       "      <td>29,000.00</td>\n",
       "      <td>19,704.29</td>\n",
       "      <td>-9,295.71</td>\n",
       "      <td>9,295.71</td>\n",
       "    </tr>\n",
       "    <tr>\n",
       "      <th>221</th>\n",
       "      <td>29,000.00</td>\n",
       "      <td>20,255.05</td>\n",
       "      <td>-8,744.95</td>\n",
       "      <td>8,744.95</td>\n",
       "    </tr>\n",
       "    <tr>\n",
       "      <th>209</th>\n",
       "      <td>18,000.00</td>\n",
       "      <td>10,817.83</td>\n",
       "      <td>-7,182.17</td>\n",
       "      <td>7,182.17</td>\n",
       "    </tr>\n",
       "    <tr>\n",
       "      <th>173</th>\n",
       "      <td>10,000.00</td>\n",
       "      <td>3,237.86</td>\n",
       "      <td>-6,762.14</td>\n",
       "      <td>6,762.14</td>\n",
       "    </tr>\n",
       "    <tr>\n",
       "      <th>195</th>\n",
       "      <td>18,000.00</td>\n",
       "      <td>11,294.78</td>\n",
       "      <td>-6,705.22</td>\n",
       "      <td>6,705.22</td>\n",
       "    </tr>\n",
       "    <tr>\n",
       "      <th>116</th>\n",
       "      <td>15,000.00</td>\n",
       "      <td>8,437.93</td>\n",
       "      <td>-6,562.07</td>\n",
       "      <td>6,562.07</td>\n",
       "    </tr>\n",
       "    <tr>\n",
       "      <th>1755</th>\n",
       "      <td>18,000.00</td>\n",
       "      <td>12,337.87</td>\n",
       "      <td>-5,662.13</td>\n",
       "      <td>5,662.13</td>\n",
       "    </tr>\n",
       "    <tr>\n",
       "      <th>1287</th>\n",
       "      <td>10,000.00</td>\n",
       "      <td>4,532.89</td>\n",
       "      <td>-5,467.11</td>\n",
       "      <td>5,467.11</td>\n",
       "    </tr>\n",
       "    <tr>\n",
       "      <th>531</th>\n",
       "      <td>3,100.00</td>\n",
       "      <td>8,470.26</td>\n",
       "      <td>5,370.26</td>\n",
       "      <td>5,370.26</td>\n",
       "    </tr>\n",
       "    <tr>\n",
       "      <th>1470</th>\n",
       "      <td>25,000.00</td>\n",
       "      <td>19,643.68</td>\n",
       "      <td>-5,356.32</td>\n",
       "      <td>5,356.32</td>\n",
       "    </tr>\n",
       "    <tr>\n",
       "      <th>688</th>\n",
       "      <td>12,000.00</td>\n",
       "      <td>6,771.45</td>\n",
       "      <td>-5,228.55</td>\n",
       "      <td>5,228.55</td>\n",
       "    </tr>\n",
       "    <tr>\n",
       "      <th>1501</th>\n",
       "      <td>4,000.00</td>\n",
       "      <td>9,182.48</td>\n",
       "      <td>5,182.48</td>\n",
       "      <td>5,182.48</td>\n",
       "    </tr>\n",
       "    <tr>\n",
       "      <th>873</th>\n",
       "      <td>3,000.00</td>\n",
       "      <td>8,094.92</td>\n",
       "      <td>5,094.92</td>\n",
       "      <td>5,094.92</td>\n",
       "    </tr>\n",
       "    <tr>\n",
       "      <th>259</th>\n",
       "      <td>10,000.00</td>\n",
       "      <td>5,260.71</td>\n",
       "      <td>-4,739.29</td>\n",
       "      <td>4,739.29</td>\n",
       "    </tr>\n",
       "  </tbody>\n",
       "</table>\n",
       "</div>"
      ],
      "text/plain": [
       "         price      pred       erro  erro_abs\n",
       "1587 33,000.00  8,560.90 -24,439.10 24,439.10\n",
       "412  27,500.00 11,908.49 -15,591.51 15,591.51\n",
       "409  24,000.00 12,598.28 -11,401.72 11,401.72\n",
       "263  14,000.00  4,032.27  -9,967.73  9,967.73\n",
       "758  27,500.00 18,119.73  -9,380.27  9,380.27\n",
       "886  28,000.00 18,643.19  -9,356.81  9,356.81\n",
       "733  29,000.00 19,704.29  -9,295.71  9,295.71\n",
       "221  29,000.00 20,255.05  -8,744.95  8,744.95\n",
       "209  18,000.00 10,817.83  -7,182.17  7,182.17\n",
       "173  10,000.00  3,237.86  -6,762.14  6,762.14\n",
       "195  18,000.00 11,294.78  -6,705.22  6,705.22\n",
       "116  15,000.00  8,437.93  -6,562.07  6,562.07\n",
       "1755 18,000.00 12,337.87  -5,662.13  5,662.13\n",
       "1287 10,000.00  4,532.89  -5,467.11  5,467.11\n",
       "531   3,100.00  8,470.26   5,370.26  5,370.26\n",
       "1470 25,000.00 19,643.68  -5,356.32  5,356.32\n",
       "688  12,000.00  6,771.45  -5,228.55  5,228.55\n",
       "1501  4,000.00  9,182.48   5,182.48  5,182.48\n",
       "873   3,000.00  8,094.92   5,094.92  5,094.92\n",
       "259  10,000.00  5,260.71  -4,739.29  4,739.29"
      ]
     },
     "execution_count": 84,
     "metadata": {},
     "output_type": "execute_result"
    }
   ],
   "source": [
    "# verificando as predições no dados de teste\n",
    "df6_val['erro'] = df6_val['pred'] - df6_val['price']      \n",
    "df6_val['erro_abs'] = df6_val['erro'].apply( lambda x : abs(x))\n",
    "df6_val.sort_values( by = 'price', ascending = False )\n",
    "df6_val[['price','pred','erro','erro_abs']].sort_values(by = 'erro_abs',ascending = False).head(20)\n"
   ]
  },
  {
   "cell_type": "code",
   "execution_count": 85,
   "id": "301c8b5a",
   "metadata": {
    "ExecuteTime": {
     "end_time": "2024-02-05T10:54:57.711142Z",
     "start_time": "2024-02-05T10:54:57.700730Z"
    }
   },
   "outputs": [
    {
     "data": {
      "text/html": [
       "<div>\n",
       "<style scoped>\n",
       "    .dataframe tbody tr th:only-of-type {\n",
       "        vertical-align: middle;\n",
       "    }\n",
       "\n",
       "    .dataframe tbody tr th {\n",
       "        vertical-align: top;\n",
       "    }\n",
       "\n",
       "    .dataframe thead th {\n",
       "        text-align: right;\n",
       "    }\n",
       "</style>\n",
       "<table border=\"1\" class=\"dataframe\">\n",
       "  <thead>\n",
       "    <tr style=\"text-align: right;\">\n",
       "      <th></th>\n",
       "      <th>price</th>\n",
       "      <th>pred</th>\n",
       "      <th>erro</th>\n",
       "      <th>erro_abs</th>\n",
       "    </tr>\n",
       "  </thead>\n",
       "  <tbody>\n",
       "    <tr>\n",
       "      <th>1604</th>\n",
       "      <td>1,450.00</td>\n",
       "      <td>1,450.56</td>\n",
       "      <td>0.56</td>\n",
       "      <td>0.56</td>\n",
       "    </tr>\n",
       "    <tr>\n",
       "      <th>1219</th>\n",
       "      <td>2,950.00</td>\n",
       "      <td>2,951.15</td>\n",
       "      <td>1.15</td>\n",
       "      <td>1.15</td>\n",
       "    </tr>\n",
       "    <tr>\n",
       "      <th>1663</th>\n",
       "      <td>1,100.00</td>\n",
       "      <td>1,098.74</td>\n",
       "      <td>-1.26</td>\n",
       "      <td>1.26</td>\n",
       "    </tr>\n",
       "    <tr>\n",
       "      <th>1345</th>\n",
       "      <td>1,200.00</td>\n",
       "      <td>1,201.48</td>\n",
       "      <td>1.48</td>\n",
       "      <td>1.48</td>\n",
       "    </tr>\n",
       "    <tr>\n",
       "      <th>924</th>\n",
       "      <td>2,150.00</td>\n",
       "      <td>2,151.55</td>\n",
       "      <td>1.55</td>\n",
       "      <td>1.55</td>\n",
       "    </tr>\n",
       "    <tr>\n",
       "      <th>245</th>\n",
       "      <td>9,750.00</td>\n",
       "      <td>9,747.94</td>\n",
       "      <td>-2.06</td>\n",
       "      <td>2.06</td>\n",
       "    </tr>\n",
       "    <tr>\n",
       "      <th>1089</th>\n",
       "      <td>2,185.00</td>\n",
       "      <td>2,182.76</td>\n",
       "      <td>-2.24</td>\n",
       "      <td>2.24</td>\n",
       "    </tr>\n",
       "    <tr>\n",
       "      <th>1836</th>\n",
       "      <td>980.00</td>\n",
       "      <td>982.58</td>\n",
       "      <td>2.58</td>\n",
       "      <td>2.58</td>\n",
       "    </tr>\n",
       "    <tr>\n",
       "      <th>457</th>\n",
       "      <td>1,600.00</td>\n",
       "      <td>1,602.91</td>\n",
       "      <td>2.91</td>\n",
       "      <td>2.91</td>\n",
       "    </tr>\n",
       "    <tr>\n",
       "      <th>1457</th>\n",
       "      <td>1,700.00</td>\n",
       "      <td>1,696.64</td>\n",
       "      <td>-3.36</td>\n",
       "      <td>3.36</td>\n",
       "    </tr>\n",
       "    <tr>\n",
       "      <th>325</th>\n",
       "      <td>1,500.00</td>\n",
       "      <td>1,503.50</td>\n",
       "      <td>3.50</td>\n",
       "      <td>3.50</td>\n",
       "    </tr>\n",
       "    <tr>\n",
       "      <th>561</th>\n",
       "      <td>2,850.00</td>\n",
       "      <td>2,846.12</td>\n",
       "      <td>-3.88</td>\n",
       "      <td>3.88</td>\n",
       "    </tr>\n",
       "    <tr>\n",
       "      <th>1382</th>\n",
       "      <td>1,875.00</td>\n",
       "      <td>1,878.94</td>\n",
       "      <td>3.94</td>\n",
       "      <td>3.94</td>\n",
       "    </tr>\n",
       "    <tr>\n",
       "      <th>270</th>\n",
       "      <td>1,450.00</td>\n",
       "      <td>1,446.00</td>\n",
       "      <td>-4.00</td>\n",
       "      <td>4.00</td>\n",
       "    </tr>\n",
       "    <tr>\n",
       "      <th>1882</th>\n",
       "      <td>1,190.00</td>\n",
       "      <td>1,194.71</td>\n",
       "      <td>4.71</td>\n",
       "      <td>4.71</td>\n",
       "    </tr>\n",
       "    <tr>\n",
       "      <th>1015</th>\n",
       "      <td>2,000.00</td>\n",
       "      <td>2,004.91</td>\n",
       "      <td>4.91</td>\n",
       "      <td>4.91</td>\n",
       "    </tr>\n",
       "    <tr>\n",
       "      <th>1041</th>\n",
       "      <td>1,850.00</td>\n",
       "      <td>1,855.43</td>\n",
       "      <td>5.43</td>\n",
       "      <td>5.43</td>\n",
       "    </tr>\n",
       "    <tr>\n",
       "      <th>771</th>\n",
       "      <td>3,500.00</td>\n",
       "      <td>3,505.57</td>\n",
       "      <td>5.57</td>\n",
       "      <td>5.57</td>\n",
       "    </tr>\n",
       "    <tr>\n",
       "      <th>262</th>\n",
       "      <td>800.00</td>\n",
       "      <td>805.64</td>\n",
       "      <td>5.64</td>\n",
       "      <td>5.64</td>\n",
       "    </tr>\n",
       "    <tr>\n",
       "      <th>1648</th>\n",
       "      <td>1,173.00</td>\n",
       "      <td>1,167.35</td>\n",
       "      <td>-5.65</td>\n",
       "      <td>5.65</td>\n",
       "    </tr>\n",
       "  </tbody>\n",
       "</table>\n",
       "</div>"
      ],
      "text/plain": [
       "        price     pred  erro  erro_abs\n",
       "1604 1,450.00 1,450.56  0.56      0.56\n",
       "1219 2,950.00 2,951.15  1.15      1.15\n",
       "1663 1,100.00 1,098.74 -1.26      1.26\n",
       "1345 1,200.00 1,201.48  1.48      1.48\n",
       "924  2,150.00 2,151.55  1.55      1.55\n",
       "245  9,750.00 9,747.94 -2.06      2.06\n",
       "1089 2,185.00 2,182.76 -2.24      2.24\n",
       "1836   980.00   982.58  2.58      2.58\n",
       "457  1,600.00 1,602.91  2.91      2.91\n",
       "1457 1,700.00 1,696.64 -3.36      3.36\n",
       "325  1,500.00 1,503.50  3.50      3.50\n",
       "561  2,850.00 2,846.12 -3.88      3.88\n",
       "1382 1,875.00 1,878.94  3.94      3.94\n",
       "270  1,450.00 1,446.00 -4.00      4.00\n",
       "1882 1,190.00 1,194.71  4.71      4.71\n",
       "1015 2,000.00 2,004.91  4.91      4.91\n",
       "1041 1,850.00 1,855.43  5.43      5.43\n",
       "771  3,500.00 3,505.57  5.57      5.57\n",
       "262    800.00   805.64  5.64      5.64\n",
       "1648 1,173.00 1,167.35 -5.65      5.65"
      ]
     },
     "execution_count": 85,
     "metadata": {},
     "output_type": "execute_result"
    }
   ],
   "source": [
    "df6_val[['price','pred','erro','erro_abs']].sort_values(by = 'erro_abs',ascending = True).head(20)"
   ]
  },
  {
   "cell_type": "code",
   "execution_count": 86,
   "id": "3e3be1ef",
   "metadata": {
    "ExecuteTime": {
     "end_time": "2024-02-05T10:55:00.535594Z",
     "start_time": "2024-02-05T10:55:00.525672Z"
    }
   },
   "outputs": [
    {
     "name": "stdout",
     "output_type": "stream",
     "text": [
      "Erros abaixo da média 1408\n",
      "Erros acima da média 592\n"
     ]
    }
   ],
   "source": [
    "erros_acima_media  = df6_val.loc[ df6_val['erro_abs'] >= 611.53 , : ].count()\n",
    "erros_abaixo_media = df6_val.loc[ df6_val['erro_abs'] <= 611.53 , : ].count()\n",
    "print( f'Erros abaixo da média {erros_abaixo_media[0]}')\n",
    "print( f'Erros acima da média {erros_acima_media[0]}' )"
   ]
  },
  {
   "cell_type": "code",
   "execution_count": 87,
   "id": "aa75b705",
   "metadata": {
    "ExecuteTime": {
     "end_time": "2024-02-05T10:55:02.538378Z",
     "start_time": "2024-02-05T10:55:02.525036Z"
    }
   },
   "outputs": [
    {
     "data": {
      "text/html": [
       "<div>\n",
       "<style scoped>\n",
       "    .dataframe tbody tr th:only-of-type {\n",
       "        vertical-align: middle;\n",
       "    }\n",
       "\n",
       "    .dataframe tbody tr th {\n",
       "        vertical-align: top;\n",
       "    }\n",
       "\n",
       "    .dataframe thead th {\n",
       "        text-align: right;\n",
       "    }\n",
       "</style>\n",
       "<table border=\"1\" class=\"dataframe\">\n",
       "  <thead>\n",
       "    <tr style=\"text-align: right;\">\n",
       "      <th></th>\n",
       "      <th>price</th>\n",
       "      <th>property_type</th>\n",
       "      <th>num_photos</th>\n",
       "    </tr>\n",
       "  </thead>\n",
       "  <tbody>\n",
       "    <tr>\n",
       "      <th>18003</th>\n",
       "      <td>33,000.00</td>\n",
       "      <td>chalet</td>\n",
       "      <td>27.00</td>\n",
       "    </tr>\n",
       "    <tr>\n",
       "      <th>17149</th>\n",
       "      <td>29,000.00</td>\n",
       "      <td>chalet</td>\n",
       "      <td>33.00</td>\n",
       "    </tr>\n",
       "    <tr>\n",
       "      <th>16637</th>\n",
       "      <td>29,000.00</td>\n",
       "      <td>chalet</td>\n",
       "      <td>27.00</td>\n",
       "    </tr>\n",
       "    <tr>\n",
       "      <th>17302</th>\n",
       "      <td>28,000.00</td>\n",
       "      <td>duplex</td>\n",
       "      <td>30.00</td>\n",
       "    </tr>\n",
       "    <tr>\n",
       "      <th>16828</th>\n",
       "      <td>27,500.00</td>\n",
       "      <td>penthouse</td>\n",
       "      <td>67.00</td>\n",
       "    </tr>\n",
       "    <tr>\n",
       "      <th>...</th>\n",
       "      <td>...</td>\n",
       "      <td>...</td>\n",
       "      <td>...</td>\n",
       "    </tr>\n",
       "    <tr>\n",
       "      <th>17493</th>\n",
       "      <td>690.00</td>\n",
       "      <td>flat</td>\n",
       "      <td>16.00</td>\n",
       "    </tr>\n",
       "    <tr>\n",
       "      <th>18144</th>\n",
       "      <td>675.00</td>\n",
       "      <td>studio</td>\n",
       "      <td>6.00</td>\n",
       "    </tr>\n",
       "    <tr>\n",
       "      <th>17702</th>\n",
       "      <td>650.00</td>\n",
       "      <td>flat</td>\n",
       "      <td>6.00</td>\n",
       "    </tr>\n",
       "    <tr>\n",
       "      <th>16756</th>\n",
       "      <td>620.00</td>\n",
       "      <td>flat</td>\n",
       "      <td>12.00</td>\n",
       "    </tr>\n",
       "    <tr>\n",
       "      <th>18412</th>\n",
       "      <td>600.00</td>\n",
       "      <td>flat</td>\n",
       "      <td>7.00</td>\n",
       "    </tr>\n",
       "  </tbody>\n",
       "</table>\n",
       "<p>2000 rows × 3 columns</p>\n",
       "</div>"
      ],
      "text/plain": [
       "          price property_type  num_photos\n",
       "18003 33,000.00        chalet       27.00\n",
       "17149 29,000.00        chalet       33.00\n",
       "16637 29,000.00        chalet       27.00\n",
       "17302 28,000.00        duplex       30.00\n",
       "16828 27,500.00     penthouse       67.00\n",
       "...         ...           ...         ...\n",
       "17493    690.00          flat       16.00\n",
       "18144    675.00        studio        6.00\n",
       "17702    650.00          flat        6.00\n",
       "16756    620.00          flat       12.00\n",
       "18412    600.00          flat        7.00\n",
       "\n",
       "[2000 rows x 3 columns]"
      ]
     },
     "execution_count": 87,
     "metadata": {},
     "output_type": "execute_result"
    }
   ],
   "source": [
    "df_teste[['price','property_type','num_photos']].sort_values( by = 'price' , ascending = False )"
   ]
  },
  {
   "cell_type": "code",
   "execution_count": 88,
   "id": "2a77e34e",
   "metadata": {
    "ExecuteTime": {
     "end_time": "2024-02-05T10:55:05.704384Z",
     "start_time": "2024-02-05T10:55:05.693349Z"
    }
   },
   "outputs": [
    {
     "data": {
      "text/html": [
       "<div>\n",
       "<style scoped>\n",
       "    .dataframe tbody tr th:only-of-type {\n",
       "        vertical-align: middle;\n",
       "    }\n",
       "\n",
       "    .dataframe tbody tr th {\n",
       "        vertical-align: top;\n",
       "    }\n",
       "\n",
       "    .dataframe thead th {\n",
       "        text-align: right;\n",
       "    }\n",
       "</style>\n",
       "<table border=\"1\" class=\"dataframe\">\n",
       "  <thead>\n",
       "    <tr style=\"text-align: right;\">\n",
       "      <th></th>\n",
       "      <th>price</th>\n",
       "      <th>property_type</th>\n",
       "      <th>num_photos</th>\n",
       "    </tr>\n",
       "  </thead>\n",
       "  <tbody>\n",
       "    <tr>\n",
       "      <th>341</th>\n",
       "      <td>80,000.00</td>\n",
       "      <td>0</td>\n",
       "      <td>32.00</td>\n",
       "    </tr>\n",
       "    <tr>\n",
       "      <th>9808</th>\n",
       "      <td>35,000.00</td>\n",
       "      <td>0</td>\n",
       "      <td>15.00</td>\n",
       "    </tr>\n",
       "    <tr>\n",
       "      <th>8787</th>\n",
       "      <td>33,000.00</td>\n",
       "      <td>0</td>\n",
       "      <td>23.00</td>\n",
       "    </tr>\n",
       "    <tr>\n",
       "      <th>4594</th>\n",
       "      <td>33,000.00</td>\n",
       "      <td>0</td>\n",
       "      <td>61.00</td>\n",
       "    </tr>\n",
       "    <tr>\n",
       "      <th>11174</th>\n",
       "      <td>29,000.00</td>\n",
       "      <td>0</td>\n",
       "      <td>38.00</td>\n",
       "    </tr>\n",
       "    <tr>\n",
       "      <th>...</th>\n",
       "      <td>...</td>\n",
       "      <td>...</td>\n",
       "      <td>...</td>\n",
       "    </tr>\n",
       "    <tr>\n",
       "      <th>37</th>\n",
       "      <td>450.00</td>\n",
       "      <td>2</td>\n",
       "      <td>14.00</td>\n",
       "    </tr>\n",
       "    <tr>\n",
       "      <th>735</th>\n",
       "      <td>450.00</td>\n",
       "      <td>3</td>\n",
       "      <td>19.00</td>\n",
       "    </tr>\n",
       "    <tr>\n",
       "      <th>7419</th>\n",
       "      <td>450.00</td>\n",
       "      <td>3</td>\n",
       "      <td>19.00</td>\n",
       "    </tr>\n",
       "    <tr>\n",
       "      <th>1704</th>\n",
       "      <td>400.00</td>\n",
       "      <td>5</td>\n",
       "      <td>7.00</td>\n",
       "    </tr>\n",
       "    <tr>\n",
       "      <th>7444</th>\n",
       "      <td>300.00</td>\n",
       "      <td>3</td>\n",
       "      <td>26.00</td>\n",
       "    </tr>\n",
       "  </tbody>\n",
       "</table>\n",
       "<p>11178 rows × 3 columns</p>\n",
       "</div>"
      ],
      "text/plain": [
       "          price  property_type  num_photos\n",
       "341   80,000.00              0       32.00\n",
       "9808  35,000.00              0       15.00\n",
       "8787  33,000.00              0       23.00\n",
       "4594  33,000.00              0       61.00\n",
       "11174 29,000.00              0       38.00\n",
       "...         ...            ...         ...\n",
       "37       450.00              2       14.00\n",
       "735      450.00              3       19.00\n",
       "7419     450.00              3       19.00\n",
       "1704     400.00              5        7.00\n",
       "7444     300.00              3       26.00\n",
       "\n",
       "[11178 rows x 3 columns]"
      ]
     },
     "execution_count": 88,
     "metadata": {},
     "output_type": "execute_result"
    }
   ],
   "source": [
    "df7[['price','property_type','num_photos']].sort_values( by = 'price' , ascending = False )"
   ]
  },
  {
   "cell_type": "markdown",
   "id": "e6bb099e",
   "metadata": {},
   "source": [
    "## 8.1.3 Test com Dados Inseridos Manualmente"
   ]
  },
  {
   "cell_type": "code",
   "execution_count": 231,
   "id": "8e2be5a8",
   "metadata": {
    "ExecuteTime": {
     "end_time": "2024-02-05T12:13:25.149523Z",
     "start_time": "2024-02-05T12:13:25.143418Z"
    }
   },
   "outputs": [
    {
     "data": {
      "text/plain": [
       "property_code                                                   32,747,235.00\n",
       "thumbnail                   https://img3.idealista.pt/blur/WEB_LISTING/0/i...\n",
       "num_photos                                                              24.00\n",
       "floor                                                                     NaN\n",
       "price                                                                1,500.00\n",
       "property_type                                                            flat\n",
       "operation                                                                rent\n",
       "size                                                                   107.00\n",
       "exterior                                                                False\n",
       "rooms                                                                    2.00\n",
       "bathrooms                                                                2.00\n",
       "address                                                   Moscavide e Portela\n",
       "province                                                               Lisboa\n",
       "municipality                                              Moscavide e Portela\n",
       "district                                                                  NaN\n",
       "country                                                                    pt\n",
       "latitude                                                                38.78\n",
       "longitude                                                               -9.12\n",
       "show_address                                                            False\n",
       "url                                 https://www.idealista.pt/imovel/32747235/\n",
       "distance                                                             6,984.00\n",
       "description                 Localizado na Portela mais concretamente no em...\n",
       "has_video                                                               False\n",
       "status                                                                   good\n",
       "new_development                                                         False\n",
       "has_lift                                                                 0.00\n",
       "price_by_area                                                           14.00\n",
       "detailed_type                                            {'typology': 'flat'}\n",
       "suggested_texts             {'subtitle': 'Moscavide e Portela, Loures', 't...\n",
       "has_plan                                                                 True\n",
       "has3_d_tour                                                             False\n",
       "has360                                                                  False\n",
       "has_staging                                                             False\n",
       "top_new_development                                                     False\n",
       "super_top_highlight                                                     False\n",
       "parking_space                                                             NaN\n",
       "external_reference                                                C0223-06078\n",
       "labels                                                                    NaN\n",
       "neighborhood                                                              NaN\n",
       "pagina                                                                  11.00\n",
       "datetime_scrapy                                           2023-07-06 10:18:37\n",
       "new_development_finished                                                  NaN\n",
       "highlight                                                                 NaN\n",
       "Name: 16640, dtype: object"
      ]
     },
     "execution_count": 231,
     "metadata": {},
     "output_type": "execute_result"
    }
   ],
   "source": [
    "# vejo \n",
    "df_teste.loc[ 16640 ]"
   ]
  },
  {
   "cell_type": "code",
   "execution_count": 362,
   "id": "9bb34166",
   "metadata": {
    "ExecuteTime": {
     "end_time": "2024-02-05T12:51:18.003347Z",
     "start_time": "2024-02-05T12:51:17.988557Z"
    }
   },
   "outputs": [],
   "source": [
    "test = {\n",
    "'property_code': 0,\n",
    "'thumbnail': 0,\n",
    "'num_photos': 10,\n",
    "'floor': 1,\n",
    "'price' : 0,\n",
    "'property_type': 'flat',\n",
    "'operation': 'rent',\n",
    "'size': 35,\n",
    "'exterior': True,\n",
    "'rooms': 1 ,\n",
    "'bathrooms':1,\n",
    "'address' : 'Rua 1º de Maio, n. 52',\n",
    "'province': 'Lisboa',\n",
    "'municipality': 'Moscavide e Portela',\n",
    "'district' : np.nan,\n",
    "'country': 'PT',\n",
    "'latitude' : 38.775101412019715,\n",
    "'longitude': -9.104655113802375,\n",
    "'show_address': True,\n",
    "'url': np.nan,\n",
    "'distance': 9600,\n",
    "'description' : 'Apartamento localizado na rua 1º de Maio. T1 remodelado, em frente ao metro, próximo a supermercados e ao parque das nações. 3 cauções adiantadas ou 2 fiadores',\n",
    "'has_video' : False,\n",
    "'status' : 'good',\n",
    "'new_development' : False,\n",
    "'has_lift': 1,\n",
    "'price_by_area' : np.nan,\n",
    "'detailed_type': {'typology': 'flat'},\n",
    "'suggested_texts' : {'subtitle': 'Moscavide e Portela, Loures', 'title': 'Apartamento'},\n",
    "'has_plan' : True,\n",
    "'has3_d_tour': False,\n",
    "'has360' : False,\n",
    "'has_staging' : False,\n",
    "'top_new_development' : False,\n",
    "'super_top_highlight' : False,\n",
    "'parking_space' : np.nan,\n",
    "'external_reference':np.nan,\n",
    "'labels' : np.nan,                                                                 \n",
    "'neighborhood': np.nan,                                                         \n",
    "'pagina' : 0,                                                                  \n",
    "'datetime_scrapy':  pd.to_datetime('2023-05-05 10:18:37'),                                         \n",
    "'new_development_finished': np.nan,                                                  \n",
    "'highlight' : np.nan \n",
    "\n",
    "}\n",
    "\n",
    "df_pred_test = pd.DataFrame( [test] )\n"
   ]
  },
  {
   "cell_type": "code",
   "execution_count": 351,
   "id": "5ddc2af3",
   "metadata": {
    "ExecuteTime": {
     "end_time": "2024-02-05T12:45:07.082268Z",
     "start_time": "2024-02-05T12:45:07.075470Z"
    }
   },
   "outputs": [],
   "source": [
    "def test_prediction( df , model ):\n",
    "    # instancia a classe Idealista\n",
    "    idealista_1 = Idealista()\n",
    "\n",
    "    # limpando os dados\n",
    "    df1_val = idealista_1.transform_data( df , colunas_irrelevantes )\n",
    "\n",
    "    # feature engineering\n",
    "    df2_val = idealista_1.feature_engineering( df1_val , transform_data = True, merge_datasets = True )\n",
    "\n",
    "    # filtrar variáveis\n",
    "    df3_val = idealista_1.filter_variables( df2_val )\n",
    "\n",
    "    # reomver outliers\n",
    "    df4_val = idealista_1.remove_outliers( df3_val )\n",
    "\n",
    "    # reescalar dados\n",
    "    df5_val = idealista_1.rescaling_data( df4_val )\n",
    "\n",
    "    # encodar dados\n",
    "    df6_val = idealista_1.encoding( df5_val )\n",
    "\n",
    "    # predicoes\n",
    "    df7_val = idealista_1.predicoes( df6_val ,model )\n",
    "    \n",
    "    return df7_val"
   ]
  },
  {
   "cell_type": "code",
   "execution_count": 363,
   "id": "e1ae3f03",
   "metadata": {
    "ExecuteTime": {
     "end_time": "2024-02-05T12:51:23.428268Z",
     "start_time": "2024-02-05T12:51:22.740872Z"
    }
   },
   "outputs": [
    {
     "name": "stderr",
     "output_type": "stream",
     "text": [
      "C:\\Users\\oscar\\AppData\\Local\\Temp\\ipykernel_7416\\2764531685.py:3: DeprecationWarning: In a future version, `df.iloc[:, i] = newvals` will attempt to set the values inplace instead of always setting a new array. To retain the old behavior, use either `df[df.columns[i]] = newvals` or, if columns are non-unique, `df.isetitem(i, newvals)`\n",
      "  df.loc[:,'thumbnail'] = np.where( df['thumbnail'].isna(), 0 , 1 )\n"
     ]
    },
    {
     "name": "stdout",
     "output_type": "stream",
     "text": [
      "datasets combinados e dados transformados\n",
      "Variavies não filtradas\n",
      "Outliers mantidos\n",
      "Not rescaled\n"
     ]
    },
    {
     "name": "stderr",
     "output_type": "stream",
     "text": [
      "C:\\Users\\oscar\\AppData\\Local\\Temp\\ipykernel_7416\\2764531685.py:18: DeprecationWarning: In a future version, `df.iloc[:, i] = newvals` will attempt to set the values inplace instead of always setting a new array. To retain the old behavior, use either `df[df.columns[i]] = newvals` or, if columns are non-unique, `df.isetitem(i, newvals)`\n",
      "  df.loc[:,'parking_space'] = df['parking_space'].apply( lambda x: 0 if pd.isna( x ) else x )\n"
     ]
    }
   ],
   "source": [
    "a = test_prediction( df_pred_test , bst )"
   ]
  },
  {
   "cell_type": "code",
   "execution_count": 372,
   "id": "6f6b86bf",
   "metadata": {
    "ExecuteTime": {
     "end_time": "2024-02-05T12:57:50.088889Z",
     "start_time": "2024-02-05T12:57:50.083147Z"
    }
   },
   "outputs": [
    {
     "data": {
      "text/plain": [
       "0   924.69\n",
       "Name: pred, dtype: float64"
      ]
     },
     "execution_count": 372,
     "metadata": {},
     "output_type": "execute_result"
    }
   ],
   "source": [
    "a['pred']"
   ]
  },
  {
   "cell_type": "code",
   "execution_count": null,
   "id": "896e3750",
   "metadata": {},
   "outputs": [],
   "source": []
  }
 ],
 "metadata": {
  "kernelspec": {
   "display_name": "prices_houses_idealista",
   "language": "python",
   "name": "prices_houses_idealista"
  },
  "language_info": {
   "codemirror_mode": {
    "name": "ipython",
    "version": 3
   },
   "file_extension": ".py",
   "mimetype": "text/x-python",
   "name": "python",
   "nbconvert_exporter": "python",
   "pygments_lexer": "ipython3",
   "version": "3.11.0"
  }
 },
 "nbformat": 4,
 "nbformat_minor": 5
}

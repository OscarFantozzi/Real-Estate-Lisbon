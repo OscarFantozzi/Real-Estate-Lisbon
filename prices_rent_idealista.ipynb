{
 "cells": [
  {
   "cell_type": "markdown",
   "id": "851311fc",
   "metadata": {},
   "source": [
    "# 0.0. IMPORTS"
   ]
  },
  {
   "cell_type": "code",
   "execution_count": 335,
   "id": "72c4dcf9",
   "metadata": {
    "ExecuteTime": {
     "end_time": "2024-02-04T15:15:17.240689Z",
     "start_time": "2024-02-04T15:15:17.234264Z"
    }
   },
   "outputs": [],
   "source": [
    "import pandas as pd\n",
    "import inflection\n",
    "import math\n",
    "import numpy as np\n",
    "import seaborn as sns\n",
    "import pathlib\n",
    "import seaborn as sns\n",
    "import ast\n",
    "from scipy.stats import chi2_contingency\n",
    "from category_encoders import TargetEncoder\n",
    "import lightgbm as lgb\n",
    "import xgboost as xgb\n",
    "\n",
    "\n",
    "\n",
    "\n",
    "from geopy.geocoders          import Nominatim\n",
    "from sqlalchemy               import create_engine, text\n",
    "from matplotlib               import pyplot as plt\n",
    "from sklearn.preprocessing    import RobustScaler, MinMaxScaler, LabelEncoder\n",
    "from boruta                   import BorutaPy\n",
    "from sklearn.ensemble         import RandomForestRegressor\n",
    "from sklearn.model_selection  import train_test_split\n",
    "from sklearn.linear_model     import LinearRegression,  Lasso\n",
    "from sklearn.metrics          import mean_absolute_error, mean_absolute_percentage_error, mean_squared_error,r2_score\n",
    "from sklearn.model_selection  import cross_val_score\n",
    "from sklearn.preprocessing    import LabelEncoder\n",
    "from sklearn.model_selection  import KFold"
   ]
  },
  {
   "cell_type": "markdown",
   "id": "7a896954",
   "metadata": {},
   "source": [
    "## 0.1.0 Helper Functions"
   ]
  },
  {
   "cell_type": "code",
   "execution_count": 336,
   "id": "55ba1cff",
   "metadata": {
    "ExecuteTime": {
     "end_time": "2024-02-04T15:15:20.648081Z",
     "start_time": "2024-02-04T15:15:20.633948Z"
    }
   },
   "outputs": [],
   "source": [
    "# função para consultar a api passando as coordenadas\n",
    "def find_mun( lat,long ):\n",
    "    \n",
    "    geolocator = Nominatim(user_agent=\"Oscar\")\n",
    "    \n",
    "    lat = str( lat )\n",
    "    \n",
    "    long = str( long )\n",
    "    \n",
    "    coord = lat + ',' + long\n",
    "\n",
    "    location = geolocator.reverse( coord  )\n",
    "    \n",
    "    if 'city_district' in location.raw['address']:\n",
    "        \n",
    "        return location.raw['address']['city_district']\n",
    "        \n",
    "    if 'suburb' in location.raw['address']:\n",
    "            \n",
    "        return location.raw['address']['suburb']\n",
    "            \n",
    "    if 'county' in location.raw['address']:\n",
    "            \n",
    "        return location.raw['address']['county']\n",
    "        \n",
    "    else:\n",
    "        \n",
    "        return 'not found'\n",
    "\n",
    "  \n",
    "def stats( df , excepto = [] ):\n",
    "    # separo as feautures numéricas\n",
    "    if excepto != \"\":\n",
    "    \n",
    "        num_attributes = df.select_dtypes( include = ['int64','float64'] )\n",
    "        \n",
    "        num_attributes = num_attributes.drop( excepto , axis = 1 ) \n",
    "        \n",
    "    else:\n",
    "        \n",
    "        num_attributes = df.select_dtypes( include = ['int64','float64'] )\n",
    "    # separo as features categoricas\n",
    "    num_categorical = df.select_dtypes( exclude = ['int64','float64','datetime64[ns]'] )\n",
    "\n",
    "\n",
    "    # medidas de tendencia central - media e mediana\n",
    "    ct1 = pd.DataFrame( num_attributes.apply( np.mean ) ).T # media\n",
    "\n",
    "    ct2 = pd.DataFrame( num_attributes.apply( np.median ) ).T # mediana\n",
    "\n",
    "    # dispersao - std, min , max , range, skew, kurtosis\n",
    "    d1 = pd.DataFrame( num_attributes.apply( np.std ) ).T # std\n",
    "    d2 = pd.DataFrame( num_attributes.apply( np.min ) ).T # minimo\n",
    "    d3 = pd.DataFrame( num_attributes.apply( np.max ) ).T # maximo\n",
    "    d4 = pd.DataFrame( num_attributes.apply( lambda x: x.max() - x.min() ) ).T # range\n",
    "    d5 = pd.DataFrame( num_attributes.apply( lambda x: x.skew() )).T # skew\n",
    "    d6 = pd.DataFrame( num_attributes.apply( lambda x : x.kurtosis() ) ).T # kurtosis\n",
    "\n",
    "    # concatenate - min , max , range,  media, median, std, skew , kurtosis\n",
    "    m = pd.concat( [ d2 , d3, d4 , ct1 , ct2 , d1,  d5 , d6 ] ).T.reset_index()\n",
    "    m.columns = [ 'features', 'min', 'max', 'range', 'mean', 'median', 'std', 'skew', 'kurtosis' ]\n",
    "    pd.set_option( 'display.float_format', '{:,.2f}'.format )\n",
    "    return m\n",
    "\n",
    "def ml_error( model_name, y , y_hat):\n",
    "    mae =  mean_absolute_error( y , y_hat )\n",
    "    mape = mean_absolute_percentage_error( y , y_hat )\n",
    "    rmse = np.sqrt( mean_squared_error( y , y_hat ) )\n",
    "    r2 =   r2_score(y, y_hat)\n",
    "    df = pd.DataFrame( {'Model Name ' :  model_name,\n",
    "                        'MAE' : mae ,\n",
    "                        'MAPE' : mape,\n",
    "                        'RMSE' : rmse,\n",
    "                        'R2_score' : r2  } ,index = [0] )\n",
    "    \n",
    "    return df\n",
    "\n",
    "def remover_outliers( df, coluna ):\n",
    "    \n",
    "    linhas_iniciais = df.shape[0] \n",
    "    \n",
    "    \n",
    "    d1 = df[coluna].quantile(0.25)\n",
    "    d3 = df[coluna].quantile(0.75)\n",
    "\n",
    "    lim_superior = d3 + 1.5*( d3 - d1  )\n",
    "\n",
    "    lim_inferior = d1 - 1.5 * ( d3 - d1 )\n",
    "    \n",
    "    \n",
    "    df = df.loc[ (df[coluna] >= lim_inferior) & (df[coluna] <= lim_superior) , :  ]\n",
    "    \n",
    "    linhas_finais = df.shape[0]\n",
    "    \n",
    "    \n",
    "    print('Foram removidas {} linhas'.format( linhas_iniciais - linhas_finais ) )\n",
    "          \n",
    "    return df\n",
    "\n",
    "def cramer_v( x, y ):\n",
    "    cm = pd.crosstab( x , y ).values\n",
    "\n",
    "    n = cm.sum()\n",
    "\n",
    "    r,k = cm.shape\n",
    "\n",
    "    chi2 = chi2_contingency( cm )[0]\n",
    "    chi2corr = max( 0 , chi2 - (k-1) * (r-1) / (n-1) ) # chi2 corrigido\n",
    "    kcorr = k - (k-1)**2 / (n-1) # k corrigido\n",
    "    rcorr = r - (k-1)**2 / (n-1) # r corrigido\n",
    "    \n",
    "    v = np.sqrt( ( chi2corr/n ) / ( min ( kcorr-1 , rcorr-1 ) )  )\n",
    "    \n",
    "    return v"
   ]
  },
  {
   "cell_type": "markdown",
   "id": "ba54ba82",
   "metadata": {},
   "source": [
    "## 0.2.0. Loading Data"
   ]
  },
  {
   "cell_type": "code",
   "execution_count": 337,
   "id": "d149e9b0",
   "metadata": {
    "ExecuteTime": {
     "end_time": "2024-02-04T15:15:50.679225Z",
     "start_time": "2024-02-04T15:15:41.962986Z"
    }
   },
   "outputs": [
    {
     "name": "stdout",
     "output_type": "stream",
     "text": [
      "extracao_12_4_2023.xlsx\n",
      "extracao_1_1_2023.xlsx\n",
      "extracao_1_9_2023.xlsx\n",
      "extracao_26_1_2024.xlsx\n",
      "extracao_2_2_2023.xlsx\n",
      "extracao_2_6_2023.xlsx\n",
      "extracao_3_3_2023.xlsx\n",
      "extracao_6_7_2023.xlsx\n"
     ]
    }
   ],
   "source": [
    "# caminho\n",
    "caminho = pathlib.Path('data')\n",
    "\n",
    "df = []\n",
    "\n",
    "for arquivo in caminho.iterdir():\n",
    "    print(arquivo.name)\n",
    "    \n",
    "    # ler o arquivo\n",
    "    df_read = pd.read_excel( arquivo )\n",
    "    \n",
    "    # apender o df\n",
    "    df.append(df_read)\n",
    "\n",
    "# concatena os df's\n",
    "df_raw = pd.concat( df )\n",
    "\n",
    "df_raw = df_raw[['propertyCode', 'thumbnail', 'numPhotos', 'floor', 'price',\n",
    "       'propertyType', 'operation', 'size', 'exterior', 'rooms', 'bathrooms',\n",
    "       'address', 'province', 'municipality', 'district', 'country',\n",
    "       'latitude', 'longitude', 'showAddress', 'url', 'distance',\n",
    "       'description', 'hasVideo', 'status', 'newDevelopment', 'hasLift',\n",
    "       'priceByArea', 'detailedType', 'suggestedTexts', 'hasPlan', 'has3DTour',\n",
    "       'has360', 'hasStaging', 'topNewDevelopment', 'superTopHighlight',\n",
    "       'parkingSpace', 'externalReference', 'labels', 'neighborhood', 'pagina',\n",
    "       'datetime_scrapy', 'newDevelopmentFinished', 'highlight']]\n",
    "\n",
    "# resetar index\n",
    "df_raw = df_raw.reset_index( drop = True )"
   ]
  },
  {
   "cell_type": "markdown",
   "id": "720dcc68",
   "metadata": {},
   "source": [
    "## 0.2.1 Separar Dados de Teste"
   ]
  },
  {
   "cell_type": "code",
   "execution_count": 348,
   "id": "93922489",
   "metadata": {
    "ExecuteTime": {
     "end_time": "2024-02-04T15:18:07.822499Z",
     "start_time": "2024-02-04T15:18:07.818126Z"
    }
   },
   "outputs": [],
   "source": [
    "# Separar Dados de Teste\n",
    "divisor = df_raw.shape[0] - 2000\n",
    "df_teste = df_raw.iloc[ divisor: ] # pego 1000 linhas para teste"
   ]
  },
  {
   "cell_type": "code",
   "execution_count": 352,
   "id": "d6052402",
   "metadata": {
    "ExecuteTime": {
     "end_time": "2024-02-04T15:18:47.045720Z",
     "start_time": "2024-02-04T15:18:47.041306Z"
    }
   },
   "outputs": [],
   "source": [
    "# separar dados brutos\n",
    "df_raw = df_raw.iloc[:divisor]"
   ]
  },
  {
   "cell_type": "markdown",
   "id": "dfac7a2d",
   "metadata": {},
   "source": [
    "# 1.0. PASSO 01 - DESCRIÇÃO DOS DADOS"
   ]
  },
  {
   "cell_type": "code",
   "execution_count": 353,
   "id": "9282a770",
   "metadata": {
    "ExecuteTime": {
     "end_time": "2024-02-04T15:18:51.521921Z",
     "start_time": "2024-02-04T15:18:51.513683Z"
    }
   },
   "outputs": [],
   "source": [
    "df1 = df_raw.copy()"
   ]
  },
  {
   "cell_type": "markdown",
   "id": "dc529665",
   "metadata": {},
   "source": [
    "## Explicação das colunas"
   ]
  },
  {
   "cell_type": "markdown",
   "id": "4ffef2ae",
   "metadata": {},
   "source": [
    "* property_code - ID unico para cada imovel\n",
    "\n",
    "\n",
    "* thumbnail - mostra a thumbnail do imovel\n",
    "\n",
    "\n",
    "* external_reference - A feature \"external_reference\" geralmente se refere a um código único atribuído a um imóvel por outra fonte, como outra plataforma imobiliária ou um agente imobiliário. Essa referência externa pode ser usada para rastrear e identificar o imóvel em diferentes sistemas e plataformas.\n",
    "\n",
    "\n",
    "* num_photos - número de fotos do anúncio\n",
    "\n",
    "\n",
    "* price - preço da renda\n",
    "\n",
    "\n",
    "* property_type - tipo de propriedade\n",
    "\n",
    "\n",
    "* operation - renda ou venda ( nesse caso tenho somente renda )\n",
    "\n",
    "\n",
    "* size - tamanho em m2\n",
    "\n",
    "\n",
    "* exterior - deve ser se o imóvel tem área exterior ( array([ 0., nan]) \n",
    "\n",
    "\n",
    "* rooms - quantidade de quartos\n",
    "\n",
    "\n",
    "* bathrooms - quantidade de casas de banho\n",
    "\n",
    "\n",
    "* address - endereço do imóvel\n",
    "\n",
    "\n",
    "* province - são as regiões ( Lisboa, Setúbal, Santarém - vieram na extração )\n",
    "\n",
    "\n",
    "* municipality - municipios\n",
    "\n",
    "\n",
    "* district - são os Distritos\n",
    "\n",
    "\n",
    "* country - PT \n",
    "\n",
    "\n",
    "* latitude - latitude\n",
    "\n",
    "\n",
    "* longitude - longitude\n",
    "\n",
    "\n",
    "* show_address - boolean - se o anunciante exibe o endereço\n",
    "\n",
    "\n",
    "* url - a url do anuncio\n",
    "\n",
    "\n",
    "* distance - distancia do centro em m\n",
    "\n",
    "\n",
    "* description - descricao do apartamento\n",
    "\n",
    "\n",
    "* has_video - diz se o anuncio tem vídeo ou não ( array([ 0.,  1., nan]) )\n",
    "\n",
    "\n",
    "* status - diz sobre o estado do imóvel array(['good', 'renew', 'newdevelopment', None], dtype=object)\n",
    "\n",
    "\n",
    "* new_development - boolean - diz se o empreendimento é novo ou não \n",
    "\n",
    "\n",
    "* price_by_area - preco divido pelo tamanho do imóvel price / size\n",
    "\n",
    "\n",
    "* detailed_type - descrição detalhada do tipo de imóvel\n",
    "\n",
    "\n",
    "* suggested_texts - títulos e subtítulos\n",
    "\n",
    "\n",
    "* has_plan - se o imóvel tem plano ou não\n",
    "\n",
    "\n",
    "* has3_d_tour - indica se o imóvel tem tour 3d\n",
    "\n",
    "\n",
    "* has360 - se tem tour 360º\n",
    "\n",
    "\n",
    "* has_staging - se tem uma decoração na propriedade\n",
    "\n",
    "\n",
    "* top_new_development - indica os empreendimentos mais novos\n",
    "\n",
    "\n",
    "* super_top_highlight - indica os imóveis mais valiosos ou populares em uma determinada área\n",
    "\n",
    "\n",
    "* floor - indica o andar do imóvel\n",
    "\n",
    "\n",
    "* has_lift - indica se tem elevador\n",
    "\n",
    "\n",
    "* parking_space - indica se tem vaga de garagem\n",
    "\n",
    "\n",
    "* neighborhood - Essa feature é útil para compradores e inquilinos que têm preferência por um determinado bairro ou querem morar em uma área específica da cidade por motivos como proximidade do trabalho, escolas, transporte público, entre outros.\n",
    "\n",
    "\n",
    "* labels - etiquetas ou rótulos associados aos imoveis\n",
    "\n",
    "\n",
    "* pagina - a pagina da extração ( definida na extração )\n",
    "\n",
    "\n",
    "* datetime_scrapy - indica a data da extração ( definida na extração )\n",
    "\n",
    "\n",
    "* newDevelopmentFinished - \n",
    "\n",
    "\n",
    "* highlight - "
   ]
  },
  {
   "cell_type": "markdown",
   "id": "95659f37",
   "metadata": {},
   "source": [
    "## 1.1. Rename Columns"
   ]
  },
  {
   "cell_type": "code",
   "execution_count": 354,
   "id": "26c9686a",
   "metadata": {
    "ExecuteTime": {
     "end_time": "2024-02-04T15:18:54.305080Z",
     "start_time": "2024-02-04T15:18:54.289839Z"
    }
   },
   "outputs": [],
   "source": [
    "cols_old = [ 'propertyCode', 'thumbnail', 'numPhotos', 'floor', 'price',\n",
    "       'propertyType', 'operation', 'size', 'exterior', 'rooms', 'bathrooms',\n",
    "       'address', 'province', 'municipality', 'district', 'country',\n",
    "       'latitude', 'longitude', 'showAddress', 'url', 'distance',\n",
    "       'description', 'hasVideo', 'status', 'newDevelopment', 'hasLift',\n",
    "       'priceByArea', 'detailedType', 'suggestedTexts', 'hasPlan', 'has3DTour',\n",
    "       'has360', 'hasStaging', 'topNewDevelopment', 'superTopHighlight',\n",
    "       'parkingSpace', 'externalReference', 'labels', 'neighborhood', 'pagina',\n",
    "       'datetime_scrapy', 'newDevelopmentFinished', 'highlight']\n",
    "\n",
    "# def função snake_case\n",
    "snake_case = lambda x: inflection.underscore( x )\n",
    "\n",
    "# defino as novas colunas\n",
    "cols_new = list(map( snake_case, cols_old )) \n",
    "\n",
    "df1.columns = cols_new\n",
    "\n",
    "df1 = df1.loc[~ df1['property_code'].isna() , : ]"
   ]
  },
  {
   "cell_type": "markdown",
   "id": "112036bf",
   "metadata": {
    "ExecuteTime": {
     "end_time": "2024-02-03T10:32:07.033474Z",
     "start_time": "2024-02-03T10:32:07.029868Z"
    }
   },
   "source": [
    "## 1.1.2 Drop Duplicates"
   ]
  },
  {
   "cell_type": "code",
   "execution_count": 357,
   "id": "f525466a",
   "metadata": {
    "ExecuteTime": {
     "end_time": "2024-02-04T15:19:00.222835Z",
     "start_time": "2024-02-04T15:19:00.210126Z"
    }
   },
   "outputs": [],
   "source": [
    "df1 = df1.drop_duplicates( subset= ['property_code'], keep = 'last' )"
   ]
  },
  {
   "cell_type": "markdown",
   "id": "45bef4ec",
   "metadata": {},
   "source": [
    "## 1.2. Data Dimensions"
   ]
  },
  {
   "cell_type": "code",
   "execution_count": 358,
   "id": "2f02f80f",
   "metadata": {
    "ExecuteTime": {
     "end_time": "2024-02-04T15:19:02.174957Z",
     "start_time": "2024-02-04T15:19:02.170467Z"
    }
   },
   "outputs": [
    {
     "name": "stdout",
     "output_type": "stream",
     "text": [
      "Number of rows 10,893\n",
      "Number of columns 43\n"
     ]
    }
   ],
   "source": [
    "print( 'Number of rows {:,}'.format( df1.shape[0] ) )\n",
    "print( 'Number of columns {:,}'.format( df1.shape[1] ) )"
   ]
  },
  {
   "cell_type": "markdown",
   "id": "224cd158",
   "metadata": {},
   "source": [
    "## 1.3. Data Types"
   ]
  },
  {
   "cell_type": "code",
   "execution_count": 359,
   "id": "8de61cd8",
   "metadata": {
    "ExecuteTime": {
     "end_time": "2024-02-04T15:19:05.815254Z",
     "start_time": "2024-02-04T15:19:05.810240Z"
    }
   },
   "outputs": [
    {
     "name": "stdout",
     "output_type": "stream",
     "text": [
      "property_code               float64\n",
      "thumbnail                    object\n",
      "num_photos                  float64\n",
      "floor                        object\n",
      "price                       float64\n",
      "property_type                object\n",
      "operation                    object\n",
      "size                        float64\n",
      "exterior                     object\n",
      "rooms                       float64\n",
      "bathrooms                   float64\n",
      "address                      object\n",
      "province                     object\n",
      "municipality                 object\n",
      "district                     object\n",
      "country                      object\n",
      "latitude                    float64\n",
      "longitude                   float64\n",
      "show_address                 object\n",
      "url                          object\n",
      "distance                    float64\n",
      "description                  object\n",
      "has_video                    object\n",
      "status                       object\n",
      "new_development              object\n",
      "has_lift                    float64\n",
      "price_by_area               float64\n",
      "detailed_type                object\n",
      "suggested_texts              object\n",
      "has_plan                     object\n",
      "has3_d_tour                  object\n",
      "has360                       object\n",
      "has_staging                  object\n",
      "top_new_development          object\n",
      "super_top_highlight          object\n",
      "parking_space                object\n",
      "external_reference           object\n",
      "labels                       object\n",
      "neighborhood                 object\n",
      "pagina                      float64\n",
      "datetime_scrapy              object\n",
      "new_development_finished    float64\n",
      "highlight                    object\n",
      "dtype: object\n"
     ]
    }
   ],
   "source": [
    "# exibindo os tipos de dados\n",
    "print( df1.dtypes )"
   ]
  },
  {
   "cell_type": "markdown",
   "id": "198540a0",
   "metadata": {},
   "source": [
    "## 1.4. Check NA"
   ]
  },
  {
   "cell_type": "code",
   "execution_count": 360,
   "id": "dd8e8700",
   "metadata": {
    "ExecuteTime": {
     "end_time": "2024-02-04T15:19:09.702436Z",
     "start_time": "2024-02-04T15:19:09.640867Z"
    }
   },
   "outputs": [
    {
     "data": {
      "text/plain": [
       "property_code                   0\n",
       "thumbnail                      23\n",
       "num_photos                      0\n",
       "floor                        4830\n",
       "price                           0\n",
       "property_type                   0\n",
       "operation                       0\n",
       "size                            0\n",
       "exterior                     5532\n",
       "rooms                           0\n",
       "bathrooms                       0\n",
       "address                         0\n",
       "province                        0\n",
       "municipality                    0\n",
       "district                     1259\n",
       "country                         0\n",
       "latitude                        0\n",
       "longitude                       0\n",
       "show_address                    0\n",
       "url                             0\n",
       "distance                        0\n",
       "description                    15\n",
       "has_video                       0\n",
       "status                          0\n",
       "new_development                 0\n",
       "has_lift                     3454\n",
       "price_by_area                   0\n",
       "detailed_type                   0\n",
       "suggested_texts                 0\n",
       "has_plan                        0\n",
       "has3_d_tour                     0\n",
       "has360                          0\n",
       "has_staging                     0\n",
       "top_new_development             0\n",
       "super_top_highlight          3752\n",
       "parking_space                7634\n",
       "external_reference           1605\n",
       "labels                       7580\n",
       "neighborhood                 9045\n",
       "pagina                          0\n",
       "datetime_scrapy                 0\n",
       "new_development_finished    10878\n",
       "highlight                   10247\n",
       "dtype: int64"
      ]
     },
     "execution_count": 360,
     "metadata": {},
     "output_type": "execute_result"
    }
   ],
   "source": [
    "df1.isna().sum()"
   ]
  },
  {
   "cell_type": "code",
   "execution_count": 361,
   "id": "9af844ed",
   "metadata": {
    "ExecuteTime": {
     "end_time": "2024-02-04T15:19:12.364986Z",
     "start_time": "2024-02-04T15:19:12.267121Z"
    }
   },
   "outputs": [
    {
     "data": {
      "text/html": [
       "<div>\n",
       "<style scoped>\n",
       "    .dataframe tbody tr th:only-of-type {\n",
       "        vertical-align: middle;\n",
       "    }\n",
       "\n",
       "    .dataframe tbody tr th {\n",
       "        vertical-align: top;\n",
       "    }\n",
       "\n",
       "    .dataframe thead th {\n",
       "        text-align: right;\n",
       "    }\n",
       "</style>\n",
       "<table border=\"1\" class=\"dataframe\">\n",
       "  <thead>\n",
       "    <tr style=\"text-align: right;\">\n",
       "      <th></th>\n",
       "      <th>index</th>\n",
       "      <th>0</th>\n",
       "      <th>% dados Vazios</th>\n",
       "    </tr>\n",
       "  </thead>\n",
       "  <tbody>\n",
       "    <tr>\n",
       "      <th>1</th>\n",
       "      <td>thumbnail</td>\n",
       "      <td>23</td>\n",
       "      <td>0.21</td>\n",
       "    </tr>\n",
       "    <tr>\n",
       "      <th>3</th>\n",
       "      <td>floor</td>\n",
       "      <td>4830</td>\n",
       "      <td>44.34</td>\n",
       "    </tr>\n",
       "    <tr>\n",
       "      <th>8</th>\n",
       "      <td>exterior</td>\n",
       "      <td>5532</td>\n",
       "      <td>50.78</td>\n",
       "    </tr>\n",
       "    <tr>\n",
       "      <th>14</th>\n",
       "      <td>district</td>\n",
       "      <td>1259</td>\n",
       "      <td>11.56</td>\n",
       "    </tr>\n",
       "    <tr>\n",
       "      <th>21</th>\n",
       "      <td>description</td>\n",
       "      <td>15</td>\n",
       "      <td>0.14</td>\n",
       "    </tr>\n",
       "    <tr>\n",
       "      <th>25</th>\n",
       "      <td>has_lift</td>\n",
       "      <td>3454</td>\n",
       "      <td>31.71</td>\n",
       "    </tr>\n",
       "    <tr>\n",
       "      <th>34</th>\n",
       "      <td>super_top_highlight</td>\n",
       "      <td>3752</td>\n",
       "      <td>34.44</td>\n",
       "    </tr>\n",
       "    <tr>\n",
       "      <th>35</th>\n",
       "      <td>parking_space</td>\n",
       "      <td>7634</td>\n",
       "      <td>70.08</td>\n",
       "    </tr>\n",
       "    <tr>\n",
       "      <th>36</th>\n",
       "      <td>external_reference</td>\n",
       "      <td>1605</td>\n",
       "      <td>14.73</td>\n",
       "    </tr>\n",
       "    <tr>\n",
       "      <th>37</th>\n",
       "      <td>labels</td>\n",
       "      <td>7580</td>\n",
       "      <td>69.59</td>\n",
       "    </tr>\n",
       "    <tr>\n",
       "      <th>38</th>\n",
       "      <td>neighborhood</td>\n",
       "      <td>9045</td>\n",
       "      <td>83.03</td>\n",
       "    </tr>\n",
       "    <tr>\n",
       "      <th>41</th>\n",
       "      <td>new_development_finished</td>\n",
       "      <td>10878</td>\n",
       "      <td>99.86</td>\n",
       "    </tr>\n",
       "    <tr>\n",
       "      <th>42</th>\n",
       "      <td>highlight</td>\n",
       "      <td>10247</td>\n",
       "      <td>94.07</td>\n",
       "    </tr>\n",
       "  </tbody>\n",
       "</table>\n",
       "</div>"
      ],
      "text/plain": [
       "                       index      0  % dados Vazios\n",
       "1                  thumbnail     23            0.21\n",
       "3                      floor   4830           44.34\n",
       "8                   exterior   5532           50.78\n",
       "14                  district   1259           11.56\n",
       "21               description     15            0.14\n",
       "25                  has_lift   3454           31.71\n",
       "34       super_top_highlight   3752           34.44\n",
       "35             parking_space   7634           70.08\n",
       "36        external_reference   1605           14.73\n",
       "37                    labels   7580           69.59\n",
       "38              neighborhood   9045           83.03\n",
       "41  new_development_finished  10878           99.86\n",
       "42                 highlight  10247           94.07"
      ]
     },
     "execution_count": 361,
     "metadata": {},
     "output_type": "execute_result"
    }
   ],
   "source": [
    "# calculando os % de dados vazios\n",
    "dfna = df1.isna().sum().to_frame().reset_index()\n",
    "dfna['% dados Vazios'] = ( df1.isna().sum().to_frame().reset_index()[0] / df1.shape[0] ) *100\n",
    "dfna.loc[ dfna['% dados Vazios'] != 0 , : ]"
   ]
  },
  {
   "cell_type": "markdown",
   "id": "8504f29d",
   "metadata": {},
   "source": [
    "## 1.5. Fillout NA"
   ]
  },
  {
   "cell_type": "code",
   "execution_count": 362,
   "id": "6cd077cc",
   "metadata": {
    "ExecuteTime": {
     "end_time": "2024-02-04T15:19:18.471525Z",
     "start_time": "2024-02-04T15:19:18.464403Z"
    }
   },
   "outputs": [],
   "source": [
    "def fill_na(df):\n",
    "    # thumbnail - vou substituir anúncios que possuem thumbnail por 1 e aqueles que não por 0\n",
    "    df.loc[:,'thumbnail'] = np.where( df['thumbnail'].isna(), 0 , 1 )\n",
    "\n",
    "    # floor \n",
    "    df.loc[:,'floor'] = df['floor'].apply( lambda x : 0 if pd.isna( x ) else x )\n",
    "\n",
    "    # district - vou fazer uma chamada na api para procurar os districts passando as coordenadas\n",
    "    df.loc[:,'district'] = df.apply(lambda x: find_mun( x['latitude'], x['longitude'] ) if pd.isna( x['district'] ) else x['district'],axis = 1)\n",
    "\n",
    "    # description\n",
    "    df.loc[:,'description'] = df['description'].apply( lambda x : 'no description' if pd.isna( x ) else x )\n",
    "\n",
    "    # has_lift - vou considerar que se não foi informado na base o apto imovel não tem elevador\n",
    "    df.loc[:,'has_lift'] = df['has_lift'].apply( lambda x: 0 if pd.isna( x ) else x  )\n",
    "\n",
    "    # parking_space \n",
    "    df.loc[:,'parking_space'] = df['parking_space'].apply( lambda x: 0 if pd.isna( x ) else x ) \n",
    "    \n",
    "    return df"
   ]
  },
  {
   "cell_type": "code",
   "execution_count": 363,
   "id": "f6dc39bc",
   "metadata": {
    "ExecuteTime": {
     "end_time": "2024-02-04T15:29:56.049221Z",
     "start_time": "2024-02-04T15:19:20.944934Z"
    }
   },
   "outputs": [
    {
     "name": "stderr",
     "output_type": "stream",
     "text": [
      "C:\\Users\\oscar\\AppData\\Local\\Temp\\ipykernel_19372\\2764531685.py:3: DeprecationWarning: In a future version, `df.iloc[:, i] = newvals` will attempt to set the values inplace instead of always setting a new array. To retain the old behavior, use either `df[df.columns[i]] = newvals` or, if columns are non-unique, `df.isetitem(i, newvals)`\n",
      "  df.loc[:,'thumbnail'] = np.where( df['thumbnail'].isna(), 0 , 1 )\n"
     ]
    }
   ],
   "source": [
    "df1 = fill_na( df1 )"
   ]
  },
  {
   "cell_type": "markdown",
   "id": "60e30ecc",
   "metadata": {},
   "source": [
    "## 1.5.1 - Excluindo colunas irrelevantes"
   ]
  },
  {
   "cell_type": "code",
   "execution_count": 364,
   "id": "b4e135a4",
   "metadata": {
    "ExecuteTime": {
     "end_time": "2024-02-04T15:29:56.056670Z",
     "start_time": "2024-02-04T15:29:56.052010Z"
    }
   },
   "outputs": [],
   "source": [
    "# função para excluir colunas se for passada uma lista\n",
    "def delete_columns( df , list_columns = None ):\n",
    "    \n",
    "    if list_columns is None:\n",
    "        \n",
    "        df = df\n",
    "        \n",
    "        return df\n",
    "    \n",
    "    else:\n",
    "        \n",
    "        df = df.drop( list_columns , axis = 1)\n",
    "        \n",
    "        return df\n"
   ]
  },
  {
   "cell_type": "code",
   "execution_count": 365,
   "id": "feb11e28",
   "metadata": {
    "ExecuteTime": {
     "end_time": "2024-02-04T15:29:56.069419Z",
     "start_time": "2024-02-04T15:29:56.058676Z"
    }
   },
   "outputs": [],
   "source": [
    "# colunas vazias ou irrelevantes\n",
    "colunas_irrelevantes = ['property_code',\n",
    "           'external_reference',\n",
    "           'labels',\n",
    "           'neighborhood',\n",
    "           'new_development_finished',\n",
    "           'highlight',\n",
    "           'exterior',\n",
    "           'super_top_highlight',\n",
    "           'operation',\n",
    "           'country',\n",
    "           'url',\n",
    "           'price_by_area']\n",
    "\n",
    "df1 = delete_columns( df1 , colunas_irrelevantes )"
   ]
  },
  {
   "cell_type": "markdown",
   "id": "d7a16a0f",
   "metadata": {},
   "source": [
    "## 1.7. Descriptive Statistical"
   ]
  },
  {
   "cell_type": "markdown",
   "id": "1cca4f10",
   "metadata": {},
   "source": [
    "## 1.7.1 Numerical Attributes"
   ]
  },
  {
   "cell_type": "code",
   "execution_count": 366,
   "id": "fac52b56",
   "metadata": {
    "ExecuteTime": {
     "end_time": "2024-02-04T15:29:56.102075Z",
     "start_time": "2024-02-04T15:29:56.072424Z"
    }
   },
   "outputs": [
    {
     "data": {
      "text/html": [
       "<div>\n",
       "<style scoped>\n",
       "    .dataframe tbody tr th:only-of-type {\n",
       "        vertical-align: middle;\n",
       "    }\n",
       "\n",
       "    .dataframe tbody tr th {\n",
       "        vertical-align: top;\n",
       "    }\n",
       "\n",
       "    .dataframe thead th {\n",
       "        text-align: right;\n",
       "    }\n",
       "</style>\n",
       "<table border=\"1\" class=\"dataframe\">\n",
       "  <thead>\n",
       "    <tr style=\"text-align: right;\">\n",
       "      <th></th>\n",
       "      <th>features</th>\n",
       "      <th>min</th>\n",
       "      <th>max</th>\n",
       "      <th>range</th>\n",
       "      <th>mean</th>\n",
       "      <th>median</th>\n",
       "      <th>std</th>\n",
       "      <th>skew</th>\n",
       "      <th>kurtosis</th>\n",
       "    </tr>\n",
       "  </thead>\n",
       "  <tbody>\n",
       "    <tr>\n",
       "      <th>0</th>\n",
       "      <td>num_photos</td>\n",
       "      <td>0.00</td>\n",
       "      <td>180.00</td>\n",
       "      <td>180.00</td>\n",
       "      <td>24.99</td>\n",
       "      <td>23.00</td>\n",
       "      <td>13.14</td>\n",
       "      <td>1.61</td>\n",
       "      <td>6.25</td>\n",
       "    </tr>\n",
       "    <tr>\n",
       "      <th>1</th>\n",
       "      <td>price</td>\n",
       "      <td>300.00</td>\n",
       "      <td>80,000.00</td>\n",
       "      <td>79,700.00</td>\n",
       "      <td>2,859.39</td>\n",
       "      <td>2,000.00</td>\n",
       "      <td>2,739.92</td>\n",
       "      <td>5.26</td>\n",
       "      <td>74.03</td>\n",
       "    </tr>\n",
       "    <tr>\n",
       "      <th>2</th>\n",
       "      <td>size</td>\n",
       "      <td>10.00</td>\n",
       "      <td>97,500.00</td>\n",
       "      <td>97,490.00</td>\n",
       "      <td>153.16</td>\n",
       "      <td>110.00</td>\n",
       "      <td>992.88</td>\n",
       "      <td>89.44</td>\n",
       "      <td>8,570.47</td>\n",
       "    </tr>\n",
       "    <tr>\n",
       "      <th>3</th>\n",
       "      <td>rooms</td>\n",
       "      <td>0.00</td>\n",
       "      <td>21.00</td>\n",
       "      <td>21.00</td>\n",
       "      <td>2.52</td>\n",
       "      <td>2.00</td>\n",
       "      <td>1.36</td>\n",
       "      <td>1.50</td>\n",
       "      <td>9.81</td>\n",
       "    </tr>\n",
       "    <tr>\n",
       "      <th>4</th>\n",
       "      <td>bathrooms</td>\n",
       "      <td>1.00</td>\n",
       "      <td>14.00</td>\n",
       "      <td>13.00</td>\n",
       "      <td>2.04</td>\n",
       "      <td>2.00</td>\n",
       "      <td>1.22</td>\n",
       "      <td>1.84</td>\n",
       "      <td>5.89</td>\n",
       "    </tr>\n",
       "    <tr>\n",
       "      <th>5</th>\n",
       "      <td>distance</td>\n",
       "      <td>61.00</td>\n",
       "      <td>49,801.00</td>\n",
       "      <td>49,740.00</td>\n",
       "      <td>11,233.85</td>\n",
       "      <td>6,731.00</td>\n",
       "      <td>10,358.83</td>\n",
       "      <td>0.81</td>\n",
       "      <td>-0.41</td>\n",
       "    </tr>\n",
       "    <tr>\n",
       "      <th>6</th>\n",
       "      <td>has_lift</td>\n",
       "      <td>0.00</td>\n",
       "      <td>1.00</td>\n",
       "      <td>1.00</td>\n",
       "      <td>0.45</td>\n",
       "      <td>0.00</td>\n",
       "      <td>0.50</td>\n",
       "      <td>0.19</td>\n",
       "      <td>-1.96</td>\n",
       "    </tr>\n",
       "  </tbody>\n",
       "</table>\n",
       "</div>"
      ],
      "text/plain": [
       "     features    min       max     range      mean   median       std  skew  \\\n",
       "0  num_photos   0.00    180.00    180.00     24.99    23.00     13.14  1.61   \n",
       "1       price 300.00 80,000.00 79,700.00  2,859.39 2,000.00  2,739.92  5.26   \n",
       "2        size  10.00 97,500.00 97,490.00    153.16   110.00    992.88 89.44   \n",
       "3       rooms   0.00     21.00     21.00      2.52     2.00      1.36  1.50   \n",
       "4   bathrooms   1.00     14.00     13.00      2.04     2.00      1.22  1.84   \n",
       "5    distance  61.00 49,801.00 49,740.00 11,233.85 6,731.00 10,358.83  0.81   \n",
       "6    has_lift   0.00      1.00      1.00      0.45     0.00      0.50  0.19   \n",
       "\n",
       "   kurtosis  \n",
       "0      6.25  \n",
       "1     74.03  \n",
       "2  8,570.47  \n",
       "3      9.81  \n",
       "4      5.89  \n",
       "5     -0.41  \n",
       "6     -1.96  "
      ]
     },
     "execution_count": 366,
     "metadata": {},
     "output_type": "execute_result"
    }
   ],
   "source": [
    "df1_stats = stats( df1 , ['latitude','longitude','pagina'] )\n",
    "df1_stats"
   ]
  },
  {
   "cell_type": "markdown",
   "id": "bdcea69d",
   "metadata": {
    "ExecuteTime": {
     "end_time": "2023-03-04T23:29:56.937888Z",
     "start_time": "2023-03-04T23:29:56.914814Z"
    }
   },
   "source": [
    "## 1.7.2 Categorical Attributes"
   ]
  },
  {
   "cell_type": "code",
   "execution_count": 367,
   "id": "99498bf0",
   "metadata": {
    "ExecuteTime": {
     "end_time": "2024-02-04T15:29:56.266633Z",
     "start_time": "2024-02-04T15:29:56.103080Z"
    }
   },
   "outputs": [
    {
     "name": "stdout",
     "output_type": "stream",
     "text": [
      "thumbnail                  2\n",
      "floor                     32\n",
      "property_type              6\n",
      "address                 3696\n",
      "province                   3\n",
      "municipality             138\n",
      "district                 405\n",
      "show_address               2\n",
      "description            10628\n",
      "has_video                  2\n",
      "status                     3\n",
      "new_development            2\n",
      "detailed_type             15\n",
      "suggested_texts         4069\n",
      "has_plan                   2\n",
      "has3_d_tour                2\n",
      "has360                     2\n",
      "has_staging                2\n",
      "top_new_development        1\n",
      "parking_space             14\n",
      "datetime_scrapy           97\n",
      "dtype: int64\n",
      "====================================================================================================\n",
      "thumbnail                                                         [1, 0]\n",
      "floor                  [6, 2, bj, 0, 1, 3, 8, 5, 7, en, 16, 4, 12, 11...\n",
      "property_type          [flat, chalet, duplex, studio, penthouse, coun...\n",
      "address                [Nova Carnaxide, Rua Professor Doutor João Bat...\n",
      "province                                     [Lisboa, Setúbal, Santarém]\n",
      "municipality           [Carnaxide e Queijas, Rio de Mouro, Carnide, M...\n",
      "district               [Nova Carnaxide, Vale Mourão - Paiões, Carnide...\n",
      "show_address                                               [False, True]\n",
      "description            [Apartamento T1 mobilado e equipado em Carnaxi...\n",
      "has_video                                                  [True, False]\n",
      "status                                     [good, renew, newdevelopment]\n",
      "new_development                                            [False, True]\n",
      "detailed_type          [{'typology': 'flat'}, {'typology': 'chalet', ...\n",
      "suggested_texts        [{'subtitle': 'Carnaxide e Queijas, Oeiras', '...\n",
      "has_plan                                                   [False, True]\n",
      "has3_d_tour                                                [False, True]\n",
      "has360                                                     [False, True]\n",
      "has_staging                                                [False, True]\n",
      "top_new_development                                              [False]\n",
      "parking_space          [0, {'hasParkingSpace': True, 'isParkingSpaceI...\n",
      "datetime_scrapy        [2023-04-12 22:00:03, 2023-04-12 22:00:04, 202...\n",
      "dtype: object\n"
     ]
    }
   ],
   "source": [
    "df1['province'] = df1['province'].apply( lambda x : 'Lisboa' if x == 'lisboa' else 'Setúbal' if x == 'setubal' else 'Santarém' if x == 'santarem'  else x)\n",
    "\n",
    "num_categorical = df1.select_dtypes( exclude = ['int64','float64','datetime64[ns]'] )\n",
    "# verifico quantos tipos diferentes tenho nas var categoricas\n",
    "print( num_categorical.apply( lambda x: x.unique().shape[0] ) )\n",
    "\n",
    "print( '='*100 )\n",
    "\n",
    "# verifico quantos tipos diferentes tenho nas var categoricas\n",
    "print( num_categorical.apply( lambda x: x.unique() ) )"
   ]
  },
  {
   "cell_type": "markdown",
   "id": "9e2330a4",
   "metadata": {},
   "source": [
    "# 2.0 Feature Engineering"
   ]
  },
  {
   "cell_type": "code",
   "execution_count": 445,
   "id": "fbbc7143",
   "metadata": {
    "ExecuteTime": {
     "end_time": "2024-02-04T15:59:19.449111Z",
     "start_time": "2024-02-04T15:59:19.437629Z"
    }
   },
   "outputs": [],
   "source": [
    "df2 = df1.copy()"
   ]
  },
  {
   "cell_type": "code",
   "execution_count": 446,
   "id": "9db02f25",
   "metadata": {
    "ExecuteTime": {
     "end_time": "2024-02-04T15:59:21.802109Z",
     "start_time": "2024-02-04T15:59:21.230493Z"
    }
   },
   "outputs": [],
   "source": [
    "# será usado para médias das regiões\n",
    "df2.to_csv( 'datasets/df_region.csv' )"
   ]
  },
  {
   "cell_type": "code",
   "execution_count": 447,
   "id": "a37493a7",
   "metadata": {
    "ExecuteTime": {
     "end_time": "2024-02-04T15:59:23.090169Z",
     "start_time": "2024-02-04T15:59:23.078733Z"
    }
   },
   "outputs": [],
   "source": [
    "def feature_engineering( df , df_region, transform_data = False, merge_datasets = False ):\n",
    "    \n",
    "    if transform_data and merge_datasets == False :\n",
    "        \n",
    "        # mes\n",
    "        df['datetime_scrapy'] = pd.to_datetime( df['datetime_scrapy'] )\n",
    "        df['month'] = df['datetime_scrapy'].dt.month \n",
    "\n",
    "        # ano\n",
    "        df['year'] = df['datetime_scrapy'].dt.year\n",
    "\n",
    "        # excluir a coluna datetime\n",
    "        df = df.drop( 'datetime_scrapy', axis = 1 )\n",
    "        \n",
    "        print( 'Dados Transformados' )\n",
    "        \n",
    "        return df\n",
    "        \n",
    "    \n",
    "    if merge_datasets == True and transform_data == False:\n",
    "        \n",
    "        # Df com a média de preço por município\n",
    "        df_municipality_mean_price = df_region.groupby('municipality')[['price']].mean().reset_index()\n",
    "\n",
    "        # alteração nome coluna\n",
    "        df_municipality_mean_price = df_municipality_mean_price.rename(columns={'price': 'municipality_mean_price'})\n",
    "\n",
    "        # exportar para csv\n",
    "        #d f2_municipality_mean_price.to_csv( 'datasets/municipality.csv' )\n",
    "\n",
    "        # acrescentando a coluna ao df2\n",
    "        df = pd.merge( df, df_municipality_mean_price, on = 'municipality' , how = 'left' )\n",
    "\n",
    "# ======================================================================================================================#\n",
    "\n",
    "        # calculando a média por 'province'\n",
    "        df2_province_mean_price = df_region.groupby( 'province' )[['price']].mean().reset_index().rename( columns = { 'price': 'province_mean_price' } )\n",
    "\n",
    "        # exportando para csv\n",
    "        # df2_province_mean_price.to_csv( 'datasets/province.csv' )\n",
    "\n",
    "        # acrescentando a coluna ao df2\n",
    "        df = pd.merge( df, df2_province_mean_price , on = 'province' , how = 'left' )\n",
    "\n",
    "#=======================================================================================================================#\n",
    "\n",
    "        # calculando média por district\n",
    "        df2_district_mean_price = df_region.groupby( 'district' )[['price']].median().reset_index().rename( columns = { 'price' : 'district_mean_price' } )\n",
    "\n",
    "        # exportando para csv \n",
    "        #df2_district_mean_price.to_csv( 'datasets/district.csv' )\n",
    "\n",
    "        # acrescentando a coluna ao df2\n",
    "        df = pd.merge( df , df2_district_mean_price , on = 'district', how = 'left' )\n",
    "\n",
    "        print( 'Datasets combinados com preços regioes' )\n",
    "\n",
    "        return df\n",
    "    \n",
    "    if transform_data == True and merge_datasets == True:\n",
    "        \n",
    "        # mes\n",
    "        df['datetime_scrapy'] = pd.to_datetime( df['datetime_scrapy'] )\n",
    "        df['month'] = df['datetime_scrapy'].dt.month \n",
    "\n",
    "        # ano\n",
    "        df['year'] = df['datetime_scrapy'].dt.year\n",
    "\n",
    "        # excluir a coluna datetime\n",
    "        df = df.drop( 'datetime_scrapy', axis = 1 )\n",
    "        \n",
    "        # Df com a média de preço por município\n",
    "        df_municipality_mean_price = df_region.groupby('municipality')[['price']].mean().reset_index()\n",
    "\n",
    "        # alteração nome coluna\n",
    "        df_municipality_mean_price = df_municipality_mean_price.rename(columns={'price': 'municipality_mean_price'})\n",
    "\n",
    "        # exportar para csv\n",
    "        #d f2_municipality_mean_price.to_csv( 'datasets/municipality.csv' )\n",
    "\n",
    "        # acrescentando a coluna ao df2\n",
    "        df = pd.merge( df, df_municipality_mean_price, on = 'municipality' , how = 'left' )\n",
    "        \n",
    "# ======================================================================================================================#\n",
    "        \n",
    "        # calculando a média por 'province'\n",
    "        df2_province_mean_price = df_region.groupby( 'province' )[['price']].mean().reset_index().rename( columns = { 'price': 'province_mean_price' } )\n",
    "\n",
    "        # exportando para csv\n",
    "        # df2_province_mean_price.to_csv( 'datasets/province.csv' )\n",
    "\n",
    "        # acrescentando a coluna ao df2\n",
    "        df = pd.merge( df, df2_province_mean_price , on = 'province' , how = 'left' )\n",
    "        \n",
    "#=======================================================================================================================#\n",
    "        \n",
    "        # calculando média por district\n",
    "        df2_district_mean_price = df_region.groupby( 'district' )[['price']].median().reset_index().rename( columns = { 'price' : 'district_mean_price' } )\n",
    "\n",
    "        # exportando para csv \n",
    "        #df2_district_mean_price.to_csv( 'datasets/district.csv' )\n",
    "\n",
    "        # acrescentando a coluna ao df2\n",
    "        df = pd.merge( df , df2_district_mean_price , on = 'district', how = 'left' )\n",
    "        \n",
    "        print( 'datasets combinados e dados transformados' )\n",
    "        \n",
    "        return df\n",
    "        \n",
    "    else:\n",
    "        \n",
    "        print( 'Nenhuma Transformação' )\n",
    "        \n",
    "        return df\n",
    "            "
   ]
  },
  {
   "cell_type": "code",
   "execution_count": 448,
   "id": "8f26e2d2",
   "metadata": {
    "ExecuteTime": {
     "end_time": "2024-02-04T15:59:27.370297Z",
     "start_time": "2024-02-04T15:59:27.030202Z"
    },
    "scrolled": true
   },
   "outputs": [
    {
     "name": "stdout",
     "output_type": "stream",
     "text": [
      "datasets combinados e dados transformados\n"
     ]
    }
   ],
   "source": [
    "df_mean_region = pd.read_csv( 'datasets/df_region.csv' )\n",
    "\n",
    "\n",
    "df2 = feature_engineering( df = df2 ,  \n",
    "                          df_region= df_mean_region, merge_datasets= True, transform_data= True)\n"
   ]
  },
  {
   "cell_type": "markdown",
   "id": "c89aafaf",
   "metadata": {},
   "source": [
    "# 3.0 Filtragem de Variáveis"
   ]
  },
  {
   "cell_type": "code",
   "execution_count": 373,
   "id": "f997cd89",
   "metadata": {
    "ExecuteTime": {
     "end_time": "2024-02-04T15:30:45.725303Z",
     "start_time": "2024-02-04T15:30:45.711660Z"
    }
   },
   "outputs": [],
   "source": [
    "df3 = df2.copy()"
   ]
  },
  {
   "cell_type": "code",
   "execution_count": 374,
   "id": "329f4b37",
   "metadata": {
    "ExecuteTime": {
     "end_time": "2024-02-04T15:30:47.204931Z",
     "start_time": "2024-02-04T15:30:47.200792Z"
    }
   },
   "outputs": [],
   "source": [
    "def filter_variables(df, filter_variables = False):\n",
    "    \n",
    "    if filter_variables:\n",
    "        \n",
    "        # Vou querer saber somente os preços na province de Lisboa\n",
    "        df = df.loc[ df['province'] == 'Lisboa' , :  ]\n",
    "\n",
    "        # vou querer somente as habitações que tenham de 0 a no máximo 4 quartos\n",
    "        df = df.loc[ df['rooms'].isin( [ 0,1,2,3,4 ] ) , : ]\n",
    "        \n",
    "        print('Variavies filtradas')\n",
    "        \n",
    "        return df\n",
    "    \n",
    "    else:\n",
    "        \n",
    "        print('Variavies não filtradas')\n",
    "        \n",
    "        return df\n",
    "\n",
    "        \n",
    "    "
   ]
  },
  {
   "cell_type": "code",
   "execution_count": 375,
   "id": "4fb8bddc",
   "metadata": {
    "ExecuteTime": {
     "end_time": "2024-02-04T15:30:49.492486Z",
     "start_time": "2024-02-04T15:30:49.488467Z"
    }
   },
   "outputs": [
    {
     "name": "stdout",
     "output_type": "stream",
     "text": [
      "Variavies não filtradas\n"
     ]
    }
   ],
   "source": [
    "# vou manter filter_variables = False neste ciclo\n",
    "df3 = filter_variables( df3 )"
   ]
  },
  {
   "cell_type": "markdown",
   "id": "91c91dfd",
   "metadata": {
    "ExecuteTime": {
     "end_time": "2023-08-11T11:58:12.084853Z",
     "start_time": "2023-08-11T11:58:12.079256Z"
    }
   },
   "source": [
    "# 4.0 Análise Exploratória de Dados"
   ]
  },
  {
   "cell_type": "code",
   "execution_count": 376,
   "id": "c3130231",
   "metadata": {
    "ExecuteTime": {
     "end_time": "2024-02-04T15:30:51.152093Z",
     "start_time": "2024-02-04T15:30:51.145838Z"
    }
   },
   "outputs": [],
   "source": [
    "df4 = df3.copy()"
   ]
  },
  {
   "cell_type": "markdown",
   "id": "692be53f",
   "metadata": {},
   "source": [
    "## 4.1. - Analise Univariada"
   ]
  },
  {
   "cell_type": "code",
   "execution_count": 377,
   "id": "b9c64d61",
   "metadata": {
    "ExecuteTime": {
     "end_time": "2024-02-04T15:30:54.169146Z",
     "start_time": "2024-02-04T15:30:54.127899Z"
    }
   },
   "outputs": [
    {
     "data": {
      "text/html": [
       "<div>\n",
       "<style scoped>\n",
       "    .dataframe tbody tr th:only-of-type {\n",
       "        vertical-align: middle;\n",
       "    }\n",
       "\n",
       "    .dataframe tbody tr th {\n",
       "        vertical-align: top;\n",
       "    }\n",
       "\n",
       "    .dataframe thead th {\n",
       "        text-align: right;\n",
       "    }\n",
       "</style>\n",
       "<table border=\"1\" class=\"dataframe\">\n",
       "  <thead>\n",
       "    <tr style=\"text-align: right;\">\n",
       "      <th></th>\n",
       "      <th>features</th>\n",
       "      <th>min</th>\n",
       "      <th>max</th>\n",
       "      <th>range</th>\n",
       "      <th>mean</th>\n",
       "      <th>median</th>\n",
       "      <th>std</th>\n",
       "      <th>skew</th>\n",
       "      <th>kurtosis</th>\n",
       "    </tr>\n",
       "  </thead>\n",
       "  <tbody>\n",
       "    <tr>\n",
       "      <th>0</th>\n",
       "      <td>num_photos</td>\n",
       "      <td>0.00</td>\n",
       "      <td>180.00</td>\n",
       "      <td>180.00</td>\n",
       "      <td>24.99</td>\n",
       "      <td>23.00</td>\n",
       "      <td>13.14</td>\n",
       "      <td>1.61</td>\n",
       "      <td>6.25</td>\n",
       "    </tr>\n",
       "    <tr>\n",
       "      <th>1</th>\n",
       "      <td>price</td>\n",
       "      <td>300.00</td>\n",
       "      <td>80,000.00</td>\n",
       "      <td>79,700.00</td>\n",
       "      <td>2,859.39</td>\n",
       "      <td>2,000.00</td>\n",
       "      <td>2,739.92</td>\n",
       "      <td>5.26</td>\n",
       "      <td>74.03</td>\n",
       "    </tr>\n",
       "    <tr>\n",
       "      <th>2</th>\n",
       "      <td>size</td>\n",
       "      <td>10.00</td>\n",
       "      <td>97,500.00</td>\n",
       "      <td>97,490.00</td>\n",
       "      <td>153.16</td>\n",
       "      <td>110.00</td>\n",
       "      <td>992.88</td>\n",
       "      <td>89.44</td>\n",
       "      <td>8,570.47</td>\n",
       "    </tr>\n",
       "    <tr>\n",
       "      <th>3</th>\n",
       "      <td>rooms</td>\n",
       "      <td>0.00</td>\n",
       "      <td>21.00</td>\n",
       "      <td>21.00</td>\n",
       "      <td>2.52</td>\n",
       "      <td>2.00</td>\n",
       "      <td>1.36</td>\n",
       "      <td>1.50</td>\n",
       "      <td>9.81</td>\n",
       "    </tr>\n",
       "    <tr>\n",
       "      <th>4</th>\n",
       "      <td>bathrooms</td>\n",
       "      <td>1.00</td>\n",
       "      <td>14.00</td>\n",
       "      <td>13.00</td>\n",
       "      <td>2.04</td>\n",
       "      <td>2.00</td>\n",
       "      <td>1.22</td>\n",
       "      <td>1.84</td>\n",
       "      <td>5.89</td>\n",
       "    </tr>\n",
       "    <tr>\n",
       "      <th>5</th>\n",
       "      <td>distance</td>\n",
       "      <td>61.00</td>\n",
       "      <td>49,801.00</td>\n",
       "      <td>49,740.00</td>\n",
       "      <td>11,233.85</td>\n",
       "      <td>6,731.00</td>\n",
       "      <td>10,358.83</td>\n",
       "      <td>0.81</td>\n",
       "      <td>-0.41</td>\n",
       "    </tr>\n",
       "    <tr>\n",
       "      <th>6</th>\n",
       "      <td>has_lift</td>\n",
       "      <td>0.00</td>\n",
       "      <td>1.00</td>\n",
       "      <td>1.00</td>\n",
       "      <td>0.45</td>\n",
       "      <td>0.00</td>\n",
       "      <td>0.50</td>\n",
       "      <td>0.19</td>\n",
       "      <td>-1.96</td>\n",
       "    </tr>\n",
       "    <tr>\n",
       "      <th>7</th>\n",
       "      <td>pagina</td>\n",
       "      <td>1.00</td>\n",
       "      <td>92.00</td>\n",
       "      <td>91.00</td>\n",
       "      <td>30.08</td>\n",
       "      <td>26.00</td>\n",
       "      <td>22.45</td>\n",
       "      <td>0.94</td>\n",
       "      <td>0.20</td>\n",
       "    </tr>\n",
       "    <tr>\n",
       "      <th>8</th>\n",
       "      <td>month</td>\n",
       "      <td>1.00</td>\n",
       "      <td>9.00</td>\n",
       "      <td>8.00</td>\n",
       "      <td>3.76</td>\n",
       "      <td>3.00</td>\n",
       "      <td>2.98</td>\n",
       "      <td>0.62</td>\n",
       "      <td>-1.06</td>\n",
       "    </tr>\n",
       "    <tr>\n",
       "      <th>9</th>\n",
       "      <td>year</td>\n",
       "      <td>2,023.00</td>\n",
       "      <td>2,024.00</td>\n",
       "      <td>1.00</td>\n",
       "      <td>2,023.34</td>\n",
       "      <td>2,023.00</td>\n",
       "      <td>0.48</td>\n",
       "      <td>0.65</td>\n",
       "      <td>-1.57</td>\n",
       "    </tr>\n",
       "    <tr>\n",
       "      <th>10</th>\n",
       "      <td>municipality_mean_price</td>\n",
       "      <td>500.00</td>\n",
       "      <td>6,718.75</td>\n",
       "      <td>6,218.75</td>\n",
       "      <td>2,859.39</td>\n",
       "      <td>2,525.18</td>\n",
       "      <td>1,179.85</td>\n",
       "      <td>0.70</td>\n",
       "      <td>-0.49</td>\n",
       "    </tr>\n",
       "    <tr>\n",
       "      <th>11</th>\n",
       "      <td>province_mean_price</td>\n",
       "      <td>1,939.18</td>\n",
       "      <td>2,962.22</td>\n",
       "      <td>1,023.04</td>\n",
       "      <td>2,859.39</td>\n",
       "      <td>2,962.22</td>\n",
       "      <td>307.27</td>\n",
       "      <td>-2.66</td>\n",
       "      <td>5.07</td>\n",
       "    </tr>\n",
       "    <tr>\n",
       "      <th>12</th>\n",
       "      <td>district_mean_price</td>\n",
       "      <td>500.00</td>\n",
       "      <td>12,900.00</td>\n",
       "      <td>12,400.00</td>\n",
       "      <td>2,279.71</td>\n",
       "      <td>1,975.00</td>\n",
       "      <td>994.45</td>\n",
       "      <td>2.49</td>\n",
       "      <td>16.20</td>\n",
       "    </tr>\n",
       "  </tbody>\n",
       "</table>\n",
       "</div>"
      ],
      "text/plain": [
       "                   features      min       max     range      mean   median  \\\n",
       "0                num_photos     0.00    180.00    180.00     24.99    23.00   \n",
       "1                     price   300.00 80,000.00 79,700.00  2,859.39 2,000.00   \n",
       "2                      size    10.00 97,500.00 97,490.00    153.16   110.00   \n",
       "3                     rooms     0.00     21.00     21.00      2.52     2.00   \n",
       "4                 bathrooms     1.00     14.00     13.00      2.04     2.00   \n",
       "5                  distance    61.00 49,801.00 49,740.00 11,233.85 6,731.00   \n",
       "6                  has_lift     0.00      1.00      1.00      0.45     0.00   \n",
       "7                    pagina     1.00     92.00     91.00     30.08    26.00   \n",
       "8                     month     1.00      9.00      8.00      3.76     3.00   \n",
       "9                      year 2,023.00  2,024.00      1.00  2,023.34 2,023.00   \n",
       "10  municipality_mean_price   500.00  6,718.75  6,218.75  2,859.39 2,525.18   \n",
       "11      province_mean_price 1,939.18  2,962.22  1,023.04  2,859.39 2,962.22   \n",
       "12      district_mean_price   500.00 12,900.00 12,400.00  2,279.71 1,975.00   \n",
       "\n",
       "         std  skew  kurtosis  \n",
       "0      13.14  1.61      6.25  \n",
       "1   2,739.92  5.26     74.03  \n",
       "2     992.88 89.44  8,570.47  \n",
       "3       1.36  1.50      9.81  \n",
       "4       1.22  1.84      5.89  \n",
       "5  10,358.83  0.81     -0.41  \n",
       "6       0.50  0.19     -1.96  \n",
       "7      22.45  0.94      0.20  \n",
       "8       2.98  0.62     -1.06  \n",
       "9       0.48  0.65     -1.57  \n",
       "10  1,179.85  0.70     -0.49  \n",
       "11    307.27 -2.66      5.07  \n",
       "12    994.45  2.49     16.20  "
      ]
     },
     "execution_count": 377,
     "metadata": {},
     "output_type": "execute_result"
    }
   ],
   "source": [
    "# verifico as informações estatísticas\n",
    "stats( df4 , ['latitude','longitude'])"
   ]
  },
  {
   "cell_type": "code",
   "execution_count": 378,
   "id": "8908430c",
   "metadata": {
    "ExecuteTime": {
     "end_time": "2024-02-04T15:30:58.129758Z",
     "start_time": "2024-02-04T15:30:58.121067Z"
    }
   },
   "outputs": [],
   "source": [
    "# removendo o imóvel de tamanho 97500 m2\n",
    "df4 = df4.loc[ df4['size'] != 97500 , : ]"
   ]
  },
  {
   "cell_type": "code",
   "execution_count": 379,
   "id": "bc50a2f9",
   "metadata": {
    "ExecuteTime": {
     "end_time": "2024-02-04T15:31:00.337571Z",
     "start_time": "2024-02-04T15:31:00.297563Z"
    }
   },
   "outputs": [
    {
     "data": {
      "text/html": [
       "<div>\n",
       "<style scoped>\n",
       "    .dataframe tbody tr th:only-of-type {\n",
       "        vertical-align: middle;\n",
       "    }\n",
       "\n",
       "    .dataframe tbody tr th {\n",
       "        vertical-align: top;\n",
       "    }\n",
       "\n",
       "    .dataframe thead th {\n",
       "        text-align: right;\n",
       "    }\n",
       "</style>\n",
       "<table border=\"1\" class=\"dataframe\">\n",
       "  <thead>\n",
       "    <tr style=\"text-align: right;\">\n",
       "      <th></th>\n",
       "      <th>features</th>\n",
       "      <th>min</th>\n",
       "      <th>max</th>\n",
       "      <th>range</th>\n",
       "      <th>mean</th>\n",
       "      <th>median</th>\n",
       "      <th>std</th>\n",
       "      <th>skew</th>\n",
       "      <th>kurtosis</th>\n",
       "    </tr>\n",
       "  </thead>\n",
       "  <tbody>\n",
       "    <tr>\n",
       "      <th>0</th>\n",
       "      <td>num_photos</td>\n",
       "      <td>0.00</td>\n",
       "      <td>180.00</td>\n",
       "      <td>180.00</td>\n",
       "      <td>24.99</td>\n",
       "      <td>23.00</td>\n",
       "      <td>13.14</td>\n",
       "      <td>1.61</td>\n",
       "      <td>6.25</td>\n",
       "    </tr>\n",
       "    <tr>\n",
       "      <th>1</th>\n",
       "      <td>price</td>\n",
       "      <td>300.00</td>\n",
       "      <td>80,000.00</td>\n",
       "      <td>79,700.00</td>\n",
       "      <td>2,859.52</td>\n",
       "      <td>2,000.00</td>\n",
       "      <td>2,740.02</td>\n",
       "      <td>5.26</td>\n",
       "      <td>74.03</td>\n",
       "    </tr>\n",
       "    <tr>\n",
       "      <th>2</th>\n",
       "      <td>size</td>\n",
       "      <td>10.00</td>\n",
       "      <td>30,940.00</td>\n",
       "      <td>30,930.00</td>\n",
       "      <td>144.22</td>\n",
       "      <td>110.00</td>\n",
       "      <td>340.28</td>\n",
       "      <td>72.23</td>\n",
       "      <td>6,280.14</td>\n",
       "    </tr>\n",
       "    <tr>\n",
       "      <th>3</th>\n",
       "      <td>rooms</td>\n",
       "      <td>0.00</td>\n",
       "      <td>21.00</td>\n",
       "      <td>21.00</td>\n",
       "      <td>2.52</td>\n",
       "      <td>2.00</td>\n",
       "      <td>1.36</td>\n",
       "      <td>1.50</td>\n",
       "      <td>9.81</td>\n",
       "    </tr>\n",
       "    <tr>\n",
       "      <th>4</th>\n",
       "      <td>bathrooms</td>\n",
       "      <td>1.00</td>\n",
       "      <td>14.00</td>\n",
       "      <td>13.00</td>\n",
       "      <td>2.04</td>\n",
       "      <td>2.00</td>\n",
       "      <td>1.22</td>\n",
       "      <td>1.84</td>\n",
       "      <td>5.89</td>\n",
       "    </tr>\n",
       "    <tr>\n",
       "      <th>5</th>\n",
       "      <td>distance</td>\n",
       "      <td>61.00</td>\n",
       "      <td>49,801.00</td>\n",
       "      <td>49,740.00</td>\n",
       "      <td>11,233.44</td>\n",
       "      <td>6,730.50</td>\n",
       "      <td>10,359.22</td>\n",
       "      <td>0.81</td>\n",
       "      <td>-0.41</td>\n",
       "    </tr>\n",
       "    <tr>\n",
       "      <th>6</th>\n",
       "      <td>has_lift</td>\n",
       "      <td>0.00</td>\n",
       "      <td>1.00</td>\n",
       "      <td>1.00</td>\n",
       "      <td>0.45</td>\n",
       "      <td>0.00</td>\n",
       "      <td>0.50</td>\n",
       "      <td>0.19</td>\n",
       "      <td>-1.96</td>\n",
       "    </tr>\n",
       "    <tr>\n",
       "      <th>7</th>\n",
       "      <td>pagina</td>\n",
       "      <td>1.00</td>\n",
       "      <td>92.00</td>\n",
       "      <td>91.00</td>\n",
       "      <td>30.08</td>\n",
       "      <td>26.00</td>\n",
       "      <td>22.44</td>\n",
       "      <td>0.94</td>\n",
       "      <td>0.21</td>\n",
       "    </tr>\n",
       "    <tr>\n",
       "      <th>8</th>\n",
       "      <td>month</td>\n",
       "      <td>1.00</td>\n",
       "      <td>9.00</td>\n",
       "      <td>8.00</td>\n",
       "      <td>3.76</td>\n",
       "      <td>3.00</td>\n",
       "      <td>2.98</td>\n",
       "      <td>0.62</td>\n",
       "      <td>-1.06</td>\n",
       "    </tr>\n",
       "    <tr>\n",
       "      <th>9</th>\n",
       "      <td>year</td>\n",
       "      <td>2,023.00</td>\n",
       "      <td>2,024.00</td>\n",
       "      <td>1.00</td>\n",
       "      <td>2,023.34</td>\n",
       "      <td>2,023.00</td>\n",
       "      <td>0.48</td>\n",
       "      <td>0.66</td>\n",
       "      <td>-1.57</td>\n",
       "    </tr>\n",
       "    <tr>\n",
       "      <th>10</th>\n",
       "      <td>municipality_mean_price</td>\n",
       "      <td>500.00</td>\n",
       "      <td>6,718.75</td>\n",
       "      <td>6,218.75</td>\n",
       "      <td>2,859.25</td>\n",
       "      <td>2,525.18</td>\n",
       "      <td>1,179.81</td>\n",
       "      <td>0.70</td>\n",
       "      <td>-0.49</td>\n",
       "    </tr>\n",
       "    <tr>\n",
       "      <th>11</th>\n",
       "      <td>province_mean_price</td>\n",
       "      <td>1,939.18</td>\n",
       "      <td>2,962.22</td>\n",
       "      <td>1,023.04</td>\n",
       "      <td>2,859.47</td>\n",
       "      <td>2,962.22</td>\n",
       "      <td>307.16</td>\n",
       "      <td>-2.66</td>\n",
       "      <td>5.08</td>\n",
       "    </tr>\n",
       "    <tr>\n",
       "      <th>12</th>\n",
       "      <td>district_mean_price</td>\n",
       "      <td>500.00</td>\n",
       "      <td>12,900.00</td>\n",
       "      <td>12,400.00</td>\n",
       "      <td>2,279.39</td>\n",
       "      <td>1,975.00</td>\n",
       "      <td>993.93</td>\n",
       "      <td>2.49</td>\n",
       "      <td>16.23</td>\n",
       "    </tr>\n",
       "  </tbody>\n",
       "</table>\n",
       "</div>"
      ],
      "text/plain": [
       "                   features      min       max     range      mean   median  \\\n",
       "0                num_photos     0.00    180.00    180.00     24.99    23.00   \n",
       "1                     price   300.00 80,000.00 79,700.00  2,859.52 2,000.00   \n",
       "2                      size    10.00 30,940.00 30,930.00    144.22   110.00   \n",
       "3                     rooms     0.00     21.00     21.00      2.52     2.00   \n",
       "4                 bathrooms     1.00     14.00     13.00      2.04     2.00   \n",
       "5                  distance    61.00 49,801.00 49,740.00 11,233.44 6,730.50   \n",
       "6                  has_lift     0.00      1.00      1.00      0.45     0.00   \n",
       "7                    pagina     1.00     92.00     91.00     30.08    26.00   \n",
       "8                     month     1.00      9.00      8.00      3.76     3.00   \n",
       "9                      year 2,023.00  2,024.00      1.00  2,023.34 2,023.00   \n",
       "10  municipality_mean_price   500.00  6,718.75  6,218.75  2,859.25 2,525.18   \n",
       "11      province_mean_price 1,939.18  2,962.22  1,023.04  2,859.47 2,962.22   \n",
       "12      district_mean_price   500.00 12,900.00 12,400.00  2,279.39 1,975.00   \n",
       "\n",
       "         std  skew  kurtosis  \n",
       "0      13.14  1.61      6.25  \n",
       "1   2,740.02  5.26     74.03  \n",
       "2     340.28 72.23  6,280.14  \n",
       "3       1.36  1.50      9.81  \n",
       "4       1.22  1.84      5.89  \n",
       "5  10,359.22  0.81     -0.41  \n",
       "6       0.50  0.19     -1.96  \n",
       "7      22.44  0.94      0.21  \n",
       "8       2.98  0.62     -1.06  \n",
       "9       0.48  0.66     -1.57  \n",
       "10  1,179.81  0.70     -0.49  \n",
       "11    307.16 -2.66      5.08  \n",
       "12    993.93  2.49     16.23  "
      ]
     },
     "execution_count": 379,
     "metadata": {},
     "output_type": "execute_result"
    }
   ],
   "source": [
    "# verifico novamente as informações estatísticas\n",
    "stats( df4 , ['latitude','longitude'])"
   ]
  },
  {
   "cell_type": "markdown",
   "id": "f77f429b",
   "metadata": {},
   "source": [
    "### 4.1.1 - Response Variable"
   ]
  },
  {
   "cell_type": "code",
   "execution_count": 380,
   "id": "37727c23",
   "metadata": {
    "ExecuteTime": {
     "end_time": "2024-02-04T15:31:05.502124Z",
     "start_time": "2024-02-04T15:31:04.655074Z"
    }
   },
   "outputs": [
    {
     "data": {
      "text/plain": [
       "<seaborn.axisgrid.FacetGrid at 0x2c4dcecbf10>"
      ]
     },
     "execution_count": 380,
     "metadata": {},
     "output_type": "execute_result"
    },
    {
     "data": {
      "image/png": "[encoded data removed]",
      "text/plain": [
       "<Figure size 500x500 with 1 Axes>"
      ]
     },
     "metadata": {},
     "output_type": "display_data"
    }
   ],
   "source": [
    "# variavael resposta normal\n",
    "sns.displot( df4['price'] )"
   ]
  },
  {
   "cell_type": "code",
   "execution_count": 381,
   "id": "0a757ab7",
   "metadata": {
    "ExecuteTime": {
     "end_time": "2024-02-04T15:31:17.349739Z",
     "start_time": "2024-02-04T15:31:17.345456Z"
    }
   },
   "outputs": [],
   "source": [
    "# função para remover outliers\n",
    "def remove_outliers(df, coluna = None ,  keep_outliers = True ):\n",
    "    \n",
    "    if keep_outliers:\n",
    "        print( 'Outliers mantidos' )\n",
    "        return df\n",
    "        \n",
    "    else:\n",
    "        # variavel resposta sem outliers\n",
    "        df = remover_outliers( df4 , coluna )\n",
    "        print('Outliers removidos')\n",
    "        return df"
   ]
  },
  {
   "cell_type": "code",
   "execution_count": 382,
   "id": "ca498f89",
   "metadata": {
    "ExecuteTime": {
     "end_time": "2024-02-04T15:31:19.245069Z",
     "start_time": "2024-02-04T15:31:19.241283Z"
    }
   },
   "outputs": [
    {
     "name": "stdout",
     "output_type": "stream",
     "text": [
      "Outliers mantidos\n"
     ]
    }
   ],
   "source": [
    "# manter os outliers\n",
    "df4 = remove_outliers( df4 )\n"
   ]
  },
  {
   "cell_type": "markdown",
   "id": "17ad1564",
   "metadata": {},
   "source": [
    "### 4.1.2 - Numerical Variable"
   ]
  },
  {
   "cell_type": "code",
   "execution_count": 383,
   "id": "6046dd00",
   "metadata": {
    "ExecuteTime": {
     "end_time": "2024-02-04T15:31:23.564703Z",
     "start_time": "2024-02-04T15:31:21.016097Z"
    }
   },
   "outputs": [
    {
     "data": {
      "image/png": "[encoded data removed]",
      "text/plain": [
       "<Figure size 1500x1500 with 16 Axes>"
      ]
     },
     "metadata": {},
     "output_type": "display_data"
    }
   ],
   "source": [
    "df4_num_attributes = df4.select_dtypes( include = ['int64','float64'] )\n",
    "df4_num_attributes.hist( bins = 25, figsize=( 15,15 ) );"
   ]
  },
  {
   "cell_type": "markdown",
   "id": "a8a9c4ac",
   "metadata": {},
   "source": [
    "## 4.2. -  Análise Bivariada"
   ]
  },
  {
   "cell_type": "markdown",
   "id": "ec807ab5",
   "metadata": {},
   "source": [
    "### 4.2.1 - Correlação entre Atributos Numéricos"
   ]
  },
  {
   "cell_type": "code",
   "execution_count": 384,
   "id": "252693e3",
   "metadata": {
    "ExecuteTime": {
     "end_time": "2024-02-04T15:31:27.340472Z",
     "start_time": "2024-02-04T15:31:26.504783Z"
    }
   },
   "outputs": [
    {
     "data": {
      "image/png": "[encoded data removed]",
      "text/plain": [
       "<Figure size 1500x1000 with 2 Axes>"
      ]
     },
     "metadata": {},
     "output_type": "display_data"
    }
   ],
   "source": [
    "plt.figure( figsize = (15,10) )\n",
    "correlation = df4_num_attributes.corr( method = 'pearson' )\n",
    "sns.heatmap( correlation, annot = True );"
   ]
  },
  {
   "cell_type": "markdown",
   "id": "acd3b80e",
   "metadata": {
    "ExecuteTime": {
     "end_time": "2023-08-14T21:04:02.912732Z",
     "start_time": "2023-08-14T21:04:02.909470Z"
    }
   },
   "source": [
    "### 4.2.2 - Correlação entre Atributos Categóricos"
   ]
  },
  {
   "cell_type": "code",
   "execution_count": 385,
   "id": "94eab0de",
   "metadata": {
    "ExecuteTime": {
     "end_time": "2024-02-04T15:32:57.078694Z",
     "start_time": "2024-02-04T15:31:33.649489Z"
    },
    "scrolled": true
   },
   "outputs": [
    {
     "name": "stderr",
     "output_type": "stream",
     "text": [
      "C:\\Users\\oscar\\AppData\\Local\\Temp\\ipykernel_19372\\3203194230.py:112: RuntimeWarning: invalid value encountered in sqrt\n",
      "  v = np.sqrt( ( chi2corr/n ) / ( min ( kcorr-1 , rcorr-1 ) )  )\n",
      "C:\\Users\\oscar\\AppData\\Local\\Temp\\ipykernel_19372\\3203194230.py:112: RuntimeWarning: invalid value encountered in sqrt\n",
      "  v = np.sqrt( ( chi2corr/n ) / ( min ( kcorr-1 , rcorr-1 ) )  )\n",
      "C:\\Users\\oscar\\AppData\\Local\\Temp\\ipykernel_19372\\3203194230.py:112: RuntimeWarning: invalid value encountered in sqrt\n",
      "  v = np.sqrt( ( chi2corr/n ) / ( min ( kcorr-1 , rcorr-1 ) )  )\n",
      "C:\\Users\\oscar\\AppData\\Local\\Temp\\ipykernel_19372\\3203194230.py:112: RuntimeWarning: invalid value encountered in sqrt\n",
      "  v = np.sqrt( ( chi2corr/n ) / ( min ( kcorr-1 , rcorr-1 ) )  )\n",
      "C:\\Users\\oscar\\AppData\\Local\\Temp\\ipykernel_19372\\3203194230.py:112: RuntimeWarning: invalid value encountered in sqrt\n",
      "  v = np.sqrt( ( chi2corr/n ) / ( min ( kcorr-1 , rcorr-1 ) )  )\n",
      "C:\\Users\\oscar\\AppData\\Local\\Temp\\ipykernel_19372\\3203194230.py:112: RuntimeWarning: invalid value encountered in sqrt\n",
      "  v = np.sqrt( ( chi2corr/n ) / ( min ( kcorr-1 , rcorr-1 ) )  )\n",
      "C:\\Users\\oscar\\AppData\\Local\\Temp\\ipykernel_19372\\3203194230.py:112: RuntimeWarning: invalid value encountered in sqrt\n",
      "  v = np.sqrt( ( chi2corr/n ) / ( min ( kcorr-1 , rcorr-1 ) )  )\n",
      "C:\\Users\\oscar\\AppData\\Local\\Temp\\ipykernel_19372\\3203194230.py:112: RuntimeWarning: invalid value encountered in sqrt\n",
      "  v = np.sqrt( ( chi2corr/n ) / ( min ( kcorr-1 , rcorr-1 ) )  )\n",
      "C:\\Users\\oscar\\AppData\\Local\\Temp\\ipykernel_19372\\3203194230.py:112: RuntimeWarning: invalid value encountered in sqrt\n",
      "  v = np.sqrt( ( chi2corr/n ) / ( min ( kcorr-1 , rcorr-1 ) )  )\n",
      "C:\\Users\\oscar\\AppData\\Local\\Temp\\ipykernel_19372\\3203194230.py:112: RuntimeWarning: invalid value encountered in sqrt\n",
      "  v = np.sqrt( ( chi2corr/n ) / ( min ( kcorr-1 , rcorr-1 ) )  )\n",
      "C:\\Users\\oscar\\AppData\\Local\\Temp\\ipykernel_19372\\3203194230.py:112: RuntimeWarning: invalid value encountered in sqrt\n",
      "  v = np.sqrt( ( chi2corr/n ) / ( min ( kcorr-1 , rcorr-1 ) )  )\n",
      "C:\\Users\\oscar\\AppData\\Local\\Temp\\ipykernel_19372\\3203194230.py:112: RuntimeWarning: invalid value encountered in sqrt\n",
      "  v = np.sqrt( ( chi2corr/n ) / ( min ( kcorr-1 , rcorr-1 ) )  )\n",
      "C:\\Users\\oscar\\AppData\\Local\\Temp\\ipykernel_19372\\3203194230.py:112: RuntimeWarning: invalid value encountered in sqrt\n",
      "  v = np.sqrt( ( chi2corr/n ) / ( min ( kcorr-1 , rcorr-1 ) )  )\n",
      "C:\\Users\\oscar\\AppData\\Local\\Temp\\ipykernel_19372\\3203194230.py:112: RuntimeWarning: invalid value encountered in sqrt\n",
      "  v = np.sqrt( ( chi2corr/n ) / ( min ( kcorr-1 , rcorr-1 ) )  )\n",
      "C:\\Users\\oscar\\AppData\\Local\\Temp\\ipykernel_19372\\3203194230.py:112: RuntimeWarning: invalid value encountered in sqrt\n",
      "  v = np.sqrt( ( chi2corr/n ) / ( min ( kcorr-1 , rcorr-1 ) )  )\n",
      "C:\\Users\\oscar\\AppData\\Local\\Temp\\ipykernel_19372\\3203194230.py:112: RuntimeWarning: invalid value encountered in sqrt\n",
      "  v = np.sqrt( ( chi2corr/n ) / ( min ( kcorr-1 , rcorr-1 ) )  )\n",
      "C:\\Users\\oscar\\AppData\\Local\\Temp\\ipykernel_19372\\3203194230.py:112: RuntimeWarning: invalid value encountered in sqrt\n",
      "  v = np.sqrt( ( chi2corr/n ) / ( min ( kcorr-1 , rcorr-1 ) )  )\n",
      "C:\\Users\\oscar\\AppData\\Local\\Temp\\ipykernel_19372\\3203194230.py:112: RuntimeWarning: invalid value encountered in sqrt\n",
      "  v = np.sqrt( ( chi2corr/n ) / ( min ( kcorr-1 , rcorr-1 ) )  )\n",
      "C:\\Users\\oscar\\AppData\\Local\\Temp\\ipykernel_19372\\3203194230.py:112: RuntimeWarning: invalid value encountered in sqrt\n",
      "  v = np.sqrt( ( chi2corr/n ) / ( min ( kcorr-1 , rcorr-1 ) )  )\n",
      "C:\\Users\\oscar\\AppData\\Local\\Temp\\ipykernel_19372\\3203194230.py:112: RuntimeWarning: invalid value encountered in sqrt\n",
      "  v = np.sqrt( ( chi2corr/n ) / ( min ( kcorr-1 , rcorr-1 ) )  )\n",
      "C:\\Users\\oscar\\AppData\\Local\\Temp\\ipykernel_19372\\3203194230.py:112: RuntimeWarning: invalid value encountered in sqrt\n",
      "  v = np.sqrt( ( chi2corr/n ) / ( min ( kcorr-1 , rcorr-1 ) )  )\n",
      "C:\\Users\\oscar\\AppData\\Local\\Temp\\ipykernel_19372\\3203194230.py:112: RuntimeWarning: invalid value encountered in sqrt\n",
      "  v = np.sqrt( ( chi2corr/n ) / ( min ( kcorr-1 , rcorr-1 ) )  )\n",
      "C:\\Users\\oscar\\AppData\\Local\\Temp\\ipykernel_19372\\3203194230.py:112: RuntimeWarning: invalid value encountered in sqrt\n",
      "  v = np.sqrt( ( chi2corr/n ) / ( min ( kcorr-1 , rcorr-1 ) )  )\n",
      "C:\\Users\\oscar\\AppData\\Local\\Temp\\ipykernel_19372\\3203194230.py:112: RuntimeWarning: invalid value encountered in sqrt\n",
      "  v = np.sqrt( ( chi2corr/n ) / ( min ( kcorr-1 , rcorr-1 ) )  )\n",
      "C:\\Users\\oscar\\AppData\\Local\\Temp\\ipykernel_19372\\3203194230.py:112: RuntimeWarning: invalid value encountered in sqrt\n",
      "  v = np.sqrt( ( chi2corr/n ) / ( min ( kcorr-1 , rcorr-1 ) )  )\n",
      "C:\\Users\\oscar\\AppData\\Local\\Temp\\ipykernel_19372\\3203194230.py:112: RuntimeWarning: invalid value encountered in sqrt\n",
      "  v = np.sqrt( ( chi2corr/n ) / ( min ( kcorr-1 , rcorr-1 ) )  )\n",
      "C:\\Users\\oscar\\AppData\\Local\\Temp\\ipykernel_19372\\3203194230.py:112: RuntimeWarning: invalid value encountered in sqrt\n",
      "  v = np.sqrt( ( chi2corr/n ) / ( min ( kcorr-1 , rcorr-1 ) )  )\n",
      "C:\\Users\\oscar\\AppData\\Local\\Temp\\ipykernel_19372\\3203194230.py:112: RuntimeWarning: invalid value encountered in sqrt\n",
      "  v = np.sqrt( ( chi2corr/n ) / ( min ( kcorr-1 , rcorr-1 ) )  )\n",
      "C:\\Users\\oscar\\AppData\\Local\\Temp\\ipykernel_19372\\3203194230.py:112: RuntimeWarning: invalid value encountered in sqrt\n",
      "  v = np.sqrt( ( chi2corr/n ) / ( min ( kcorr-1 , rcorr-1 ) )  )\n",
      "C:\\Users\\oscar\\AppData\\Local\\Temp\\ipykernel_19372\\3203194230.py:112: RuntimeWarning: invalid value encountered in sqrt\n",
      "  v = np.sqrt( ( chi2corr/n ) / ( min ( kcorr-1 , rcorr-1 ) )  )\n",
      "C:\\Users\\oscar\\AppData\\Local\\Temp\\ipykernel_19372\\3203194230.py:112: RuntimeWarning: invalid value encountered in sqrt\n",
      "  v = np.sqrt( ( chi2corr/n ) / ( min ( kcorr-1 , rcorr-1 ) )  )\n"
     ]
    }
   ],
   "source": [
    "a = df4.select_dtypes( include = ['object'] ) # pego o df mais atualizado\n",
    "\n",
    "# aplico a função cramer v nas variáveis categoricas\n",
    "a1 = cramer_v( a['floor'] , a['floor'] )\n",
    "a2 = cramer_v( a['floor'], a['property_type'] )\n",
    "a3 = cramer_v( a['floor'], a['address'] )\n",
    "a4 = cramer_v( a['floor'], a['province'] )\n",
    "a5 = cramer_v( a['floor'], a['municipality'] )\n",
    "a6 = cramer_v( a['floor'], a['district'] )\n",
    "a7 = cramer_v( a['floor'], a['description'] )\n",
    "a8 = cramer_v( a['floor'], a['status'] )\n",
    "a9 = cramer_v( a['floor'], a['detailed_type'] )\n",
    "a10 = cramer_v( a['floor'], a['suggested_texts'] )\n",
    "a11 = cramer_v( a['floor'], a['parking_space'] )\n",
    "\n",
    "# aplico a função cramer v nas variáveis categoricas\n",
    "a12= cramer_v( a['property_type'], a['floor'] )\n",
    "a13= cramer_v( a['property_type'], a['property_type'] )\n",
    "a14= cramer_v( a['property_type'], a['address'] )\n",
    "a15= cramer_v( a['property_type'], a['province'] )\n",
    "a16= cramer_v( a['property_type'], a['municipality'] )\n",
    "a17= cramer_v( a['property_type'], a['district'] )\n",
    "a18= cramer_v( a['property_type'], a['description'] )\n",
    "a19= cramer_v( a['property_type'], a['status'] )\n",
    "a20= cramer_v( a['property_type'], a['detailed_type'] )\n",
    "a21=cramer_v(  a['property_type'], a['suggested_texts'] )\n",
    "a22=cramer_v(  a['property_type'], a['parking_space'] )\n",
    "\n",
    "# aplico a função cramer v nas variáveis categoricas\n",
    "a23= cramer_v( a['address'], a['floor'] )\n",
    "a24= cramer_v( a['address'], a['property_type'] )\n",
    "a25= cramer_v( a['address'], a['address'] )\n",
    "a26= cramer_v( a['address'], a['province'] )\n",
    "a27= cramer_v( a['address'], a['municipality'] )\n",
    "a28= cramer_v( a['address'], a['district'] )\n",
    "a29= cramer_v( a['address'], a['description'] )\n",
    "a30= cramer_v( a['address'], a['status'] )\n",
    "a31= cramer_v( a['address'], a['detailed_type'] )\n",
    "a32=cramer_v(  a['address'], a['suggested_texts'] )\n",
    "a33=cramer_v(  a['address'], a['parking_space'] )\n",
    "\n",
    "# aplico a função cramer v nas variáveis categoricas\n",
    "a34= cramer_v( a['province'], a['floor'] )\n",
    "a35= cramer_v( a['province'], a['property_type'] )\n",
    "a36= cramer_v( a['province'], a['address'] )\n",
    "a37= cramer_v( a['province'], a['province'] )\n",
    "a38= cramer_v( a['province'], a['municipality'] )\n",
    "a39= cramer_v( a['province'], a['district'] )\n",
    "a40= cramer_v( a['province'], a['description'] )\n",
    "a41= cramer_v( a['province'], a['status'] )\n",
    "a42= cramer_v( a['province'], a['detailed_type'] )\n",
    "a43=cramer_v(  a['province'], a['suggested_texts'] )\n",
    "a44=cramer_v(  a['province'], a['parking_space'] )\n",
    "\n",
    "# aplico a função cramer v nas variáveis categoricas\n",
    "a45= cramer_v( a['municipality'], a['floor'] )\n",
    "a46= cramer_v( a['municipality'], a['property_type'] )\n",
    "a47= cramer_v( a['municipality'], a['address'] )\n",
    "a48= cramer_v( a['municipality'], a['province'] )\n",
    "a49= cramer_v( a['municipality'], a['municipality'] )\n",
    "a50= cramer_v( a['municipality'], a['district'] )\n",
    "a51= cramer_v( a['municipality'], a['description'] )\n",
    "a52= cramer_v( a['municipality'], a['status'] )\n",
    "a53= cramer_v( a['municipality'], a['detailed_type'] )\n",
    "a54=cramer_v(  a['municipality'], a['suggested_texts'] )\n",
    "a55=cramer_v(  a['municipality'], a['parking_space'] )\n",
    "\n",
    "# aplico a função cramer v nas variáveis categoricas\n",
    "a56= cramer_v( a['district'], a['floor'] )\n",
    "a57= cramer_v( a['district'], a['property_type'] )\n",
    "a58= cramer_v( a['district'], a['address'] )\n",
    "a59= cramer_v( a['district'], a['province'] )\n",
    "a60= cramer_v( a['district'], a['municipality'] )\n",
    "a61= cramer_v( a['district'], a['district'] )\n",
    "a62= cramer_v( a['district'], a['description'] )\n",
    "a63= cramer_v( a['district'], a['status'] )\n",
    "a64= cramer_v( a['district'], a['detailed_type'] )\n",
    "a65=cramer_v(  a['district'], a['suggested_texts'] )\n",
    "a66=cramer_v(  a['district'], a['parking_space'] )\n",
    "\n",
    "# aplico a função cramer v nas variáveis categoricas\n",
    "a67= cramer_v( a['description'], a['floor'] )\n",
    "a68= cramer_v( a['description'], a['property_type'] )\n",
    "a69= cramer_v( a['description'], a['address'] )\n",
    "a70= cramer_v( a['description'], a['province'] )\n",
    "a71= cramer_v( a['description'], a['municipality'] )\n",
    "a72= cramer_v( a['description'], a['district'] )\n",
    "a73= cramer_v( a['description'], a['description'] )\n",
    "a74= cramer_v( a['description'], a['status'] )\n",
    "a75= cramer_v( a['description'], a['detailed_type'] )\n",
    "a76=cramer_v(  a['description'], a['suggested_texts'] )\n",
    "a77=cramer_v(  a['description'], a['parking_space'] )\n",
    "\n",
    "# aplico a função cramer v nas variáveis categoricas\n",
    "a78= cramer_v( a['status'], a['floor'] )\n",
    "a79= cramer_v( a['status'], a['property_type'] )\n",
    "a80= cramer_v( a['status'], a['address'] )\n",
    "a81= cramer_v( a['status'], a['province'] )\n",
    "a82= cramer_v( a['status'], a['municipality'] )\n",
    "a83= cramer_v( a['status'], a['district'] )\n",
    "a84= cramer_v( a['status'], a['description'] )\n",
    "a85= cramer_v( a['status'], a['status'] )\n",
    "a86= cramer_v( a['status'], a['detailed_type'] )\n",
    "a87=cramer_v(  a['status'], a['suggested_texts'] )\n",
    "a88=cramer_v(  a['status'], a['parking_space'] )\n",
    "\n",
    "# aplico a função cramer v nas variáveis categoricas\n",
    "a89= cramer_v( a['detailed_type'], a['floor'] )\n",
    "a90= cramer_v( a['detailed_type'], a['property_type'] )\n",
    "a91= cramer_v( a['detailed_type'], a['address'] )\n",
    "a92= cramer_v( a['detailed_type'], a['province'] )\n",
    "a93= cramer_v( a['detailed_type'], a['municipality'] )\n",
    "a94= cramer_v( a['detailed_type'], a['district'] )\n",
    "a95= cramer_v( a['detailed_type'], a['description'] )\n",
    "a96= cramer_v( a['detailed_type'], a['status'] )\n",
    "a97= cramer_v( a['detailed_type'], a['detailed_type'] )\n",
    "a98=cramer_v(  a['detailed_type'], a['suggested_texts'] )\n",
    "a99=cramer_v(  a['detailed_type'], a['parking_space'] )\n",
    "\n",
    "# aplico a função cramer v nas variáveis categoricas\n",
    "a100= cramer_v( a['suggested_texts'], a['floor'] )\n",
    "a101= cramer_v( a['suggested_texts'], a['property_type'] )\n",
    "a102= cramer_v( a['suggested_texts'], a['address'] )\n",
    "a103= cramer_v( a['suggested_texts'], a['province'] )\n",
    "a104= cramer_v( a['suggested_texts'], a['municipality'] )\n",
    "a105= cramer_v( a['suggested_texts'], a['district'] )\n",
    "a106= cramer_v( a['suggested_texts'], a['description'] )\n",
    "a107= cramer_v( a['suggested_texts'], a['status'] )\n",
    "a108= cramer_v( a['suggested_texts'], a['detailed_type'] )\n",
    "a109=cramer_v(  a['suggested_texts'], a['suggested_texts'] )\n",
    "a110=cramer_v(  a['suggested_texts'], a['parking_space'] )\n",
    "\n",
    "# aplico a função cramer v nas variáveis categoricas\n",
    "a111= cramer_v( a['parking_space'], a['floor'] )\n",
    "a112= cramer_v( a['parking_space'], a['property_type'] )\n",
    "a113= cramer_v( a['parking_space'], a['address'] )\n",
    "a114= cramer_v( a['parking_space'], a['province'] )\n",
    "a115= cramer_v( a['parking_space'], a['municipality'] )\n",
    "a116= cramer_v( a['parking_space'], a['district'] )\n",
    "a117= cramer_v( a['parking_space'], a['description'] )\n",
    "a118= cramer_v( a['parking_space'], a['status'] )\n",
    "a119= cramer_v( a['parking_space'], a['detailed_type'] )\n",
    "a120=cramer_v(  a['parking_space'], a['suggested_texts'] )\n",
    "a121=cramer_v(  a['parking_space'], a['parking_space'] )\n",
    "\n",
    "\n",
    "\n",
    "d = pd.DataFrame( {'floor' : [a1,a2,a3,a4,a5,a6,a7,a8,a9,a10,a11],\n",
    "                   'property_type' : [a12,a13,a14,a15,a16,a17,a18,a19,a20,a21,a22],\n",
    "                   'address' : [a23,a24,a25,a26,a27,a28,a29,a30,a31,a32,a33],\n",
    "                   'province' : [a34,a35,a36,a37,a38,a39,a40,a41,a42,a43,a44],\n",
    "                   'municipality' : [a45,a46,a47,a48,a49,a50,a51,a52,a53,a54,a55],\n",
    "                   'district' : [a56,a57,a58,a59,a60,a61,a62,a63,a64,a65,a66],\n",
    "                   'description' : [a67,a68,a69,a70,a71,a72,a73,a74,a75,a76,a77],\n",
    "                   'status' : [a78,a79,a80,a81,a82,a83,a84,a85,a86,a87,a88],\n",
    "                   'detailed_type' : [a89,a90,a91,a92,a93,a94,a95,a96,a97,a98,a99],\n",
    "                   'suggested_texts' : [a100,a101,a102,a103,a104,a105,a106,a107,a108,a109,a110],\n",
    "                   'parking_space' : [a111,a112,a113,a114,a115,a116,a117,a118,a119,a120,a121]\n",
    "              \n",
    "              } )\n",
    "\n",
    "d = d.set_index( d.columns )\n",
    "d = d.drop( 'province', axis = 1 )"
   ]
  },
  {
   "cell_type": "code",
   "execution_count": 386,
   "id": "c5b66228",
   "metadata": {
    "ExecuteTime": {
     "end_time": "2024-02-04T15:32:57.628281Z",
     "start_time": "2024-02-04T15:32:57.081689Z"
    }
   },
   "outputs": [
    {
     "data": {
      "image/png": "[encoded data removed]",
      "text/plain": [
       "<Figure size 1000x500 with 2 Axes>"
      ]
     },
     "metadata": {},
     "output_type": "display_data"
    }
   ],
   "source": [
    "plt.figure(figsize=(10,5))\n",
    "correlation = d.corr( method = 'pearson' )\n",
    "sns.heatmap( correlation, annot = True );"
   ]
  },
  {
   "cell_type": "markdown",
   "id": "badb3cfe",
   "metadata": {},
   "source": [
    "# Data Preparation"
   ]
  },
  {
   "cell_type": "code",
   "execution_count": 387,
   "id": "4ac320b7",
   "metadata": {
    "ExecuteTime": {
     "end_time": "2024-02-04T15:32:57.636843Z",
     "start_time": "2024-02-04T15:32:57.630282Z"
    }
   },
   "outputs": [],
   "source": [
    "df5 = df4.copy()"
   ]
  },
  {
   "cell_type": "markdown",
   "id": "8afacc0f",
   "metadata": {},
   "source": [
    "## 5.1. - Rescaling"
   ]
  },
  {
   "cell_type": "code",
   "execution_count": 388,
   "id": "55ea51fe",
   "metadata": {
    "ExecuteTime": {
     "end_time": "2024-02-04T15:32:57.692951Z",
     "start_time": "2024-02-04T15:32:57.639838Z"
    }
   },
   "outputs": [],
   "source": [
    "def rescaling_data(df, rescale = False ):\n",
    "    \n",
    "    if rescale:\n",
    "        rs = RobustScaler() # usado para variáveis que tem outliers\n",
    "        mms = MinMaxScaler() \n",
    "    \n",
    "        # distance\n",
    "        df['distance'] = mms.fit_transform( df[['distance']].values )\n",
    "        \n",
    "        print('Rescaled')\n",
    "        \n",
    "        return  df\n",
    "    else:\n",
    "        print('Not rescaled')\n",
    "        \n",
    "        return df"
   ]
  },
  {
   "cell_type": "code",
   "execution_count": 389,
   "id": "3fce7176",
   "metadata": {
    "ExecuteTime": {
     "end_time": "2024-02-04T15:32:57.703176Z",
     "start_time": "2024-02-04T15:32:57.696945Z"
    }
   },
   "outputs": [
    {
     "name": "stdout",
     "output_type": "stream",
     "text": [
      "Not rescaled\n"
     ]
    }
   ],
   "source": [
    "df5 = rescaling_data( df5 )"
   ]
  },
  {
   "cell_type": "markdown",
   "id": "46839dcc",
   "metadata": {},
   "source": [
    "## 5.2 Encoding "
   ]
  },
  {
   "cell_type": "code",
   "execution_count": 390,
   "id": "a11f81c2",
   "metadata": {
    "ExecuteTime": {
     "end_time": "2024-02-04T15:33:31.061098Z",
     "start_time": "2024-02-04T15:33:31.049111Z"
    }
   },
   "outputs": [],
   "source": [
    "def encoding( df ):\n",
    "    \n",
    "    # floor - substituo os andares com letras\n",
    "    df['floor'] = df['floor'].replace( ['bj','st','ss','en'], 0 )\n",
    "\n",
    "    # transformo em inteiros\n",
    "    df['floor'] = df['floor'].astype( 'int64' )\n",
    "\n",
    "    #property_type - label\n",
    "    property_encoder = LabelEncoder()\n",
    "\n",
    "    df['property_type'] = property_encoder.fit_transform( df['property_type'] )\n",
    "    \n",
    "    # address - label\n",
    "    address_encoder = LabelEncoder()\n",
    "    df['address'] = address_encoder.fit_transform( df['address'] )\n",
    "    \n",
    "    # district - label\n",
    "    district_encoder = LabelEncoder()\n",
    "    df['district'] = district_encoder.fit_transform( df['district'] )\n",
    "    \n",
    "    # municipality - label\n",
    "    municipality_encoder = LabelEncoder()\n",
    "    df['municipality'] = municipality_encoder.fit_transform( df['municipality'] )\n",
    " \n",
    "    # Show address\n",
    "    encoding = {True: 1 , False: 0}\n",
    "    df['show_address'] = df['show_address'].apply( lambda x : 1 if x == True else 0 )\n",
    "\n",
    "    # description\n",
    "    df['description'] = df['description'].apply( lambda x : len(x) )\n",
    "\n",
    "    # has_video\n",
    "    encoding = {True: 1 , False: 0}\n",
    "    df['has_video'] = df['has_video'].map( encoding )\n",
    "\n",
    "    # status\n",
    "    status_dict = {'good' : 1, 'renew' :2, 'newdevelopment' : 3}\n",
    "    df['status'] = df['status'].map( status_dict )\n",
    "\n",
    "    # new_development\n",
    "    encoding = {True: 1 , False: 0}\n",
    "    df['new_development'] = df['new_development'].map( encoding )\n",
    "\n",
    "    # detailed type - label\n",
    "    detailed_type_encoder = LabelEncoder()\n",
    "    \n",
    "    df['detailed_type'] = df['detailed_type'].apply(lambda x: ast.literal_eval(x) )\n",
    "    df['detailed_type'] = df['detailed_type'].apply(lambda x: x['typology'] )\n",
    "    df['detailed_type'] = detailed_type_encoder.fit_transform( df['detailed_type'] )\n",
    "\n",
    "    # suggested text\n",
    "    df['suggested_texts'] = df['suggested_texts'].apply( lambda x : ast.literal_eval(x) )\n",
    "    df['suggested_texts'] = df['suggested_texts'].apply( lambda x : x['title'] )\n",
    "    df['suggested_texts'] = df['suggested_texts'].apply( lambda x : len(x) )\n",
    "\n",
    "    # hasplan\n",
    "    encoding = {True: 1 , False: 0}\n",
    "    df['has_plan'] = df['has_plan'].map( encoding )\n",
    "\n",
    "    # has3_d_tour\n",
    "    encoding = {True: 1 , False: 0}\n",
    "    df['has3_d_tour'] = df['has3_d_tour'].map( encoding )\n",
    "\n",
    "    # has360\n",
    "    encoding = {True: 1 , False: 0}\n",
    "    df['has360'] = df['has360'].map( encoding )\n",
    "\n",
    "    #parking_space\n",
    "    encoding = {True: 1 , False: 0}\n",
    "    df['parking_space'] = df['parking_space'].apply(lambda x: ast.literal_eval(x) if x != 0 else x ) \n",
    "    df['parking_space'] = df['parking_space'].apply(lambda x: x['hasParkingSpace'] if x != 0 else x ) \n",
    "    df['parking_space'] = df['parking_space'].map( encoding )\n",
    "\n",
    "    # province \n",
    "    encoder = {'Lisboa': 1,'Setúbal' : 2, 'Santarém' : 3}\n",
    "    df['province'] = df['province'].map( encoder )\n",
    "\n",
    "    # has_staging\n",
    "    df['has_staging'] = df['has_staging'].apply( lambda x: 1 if x   else 0   )\n",
    "\n",
    "    # top_new_development\n",
    "    df['top_new_development'] = df['top_new_development'].apply( lambda x: 1 if x  else 0 )\n",
    "    \n",
    "    return df"
   ]
  },
  {
   "cell_type": "code",
   "execution_count": 391,
   "id": "a12ec80c",
   "metadata": {
    "ExecuteTime": {
     "end_time": "2024-02-04T15:33:33.130073Z",
     "start_time": "2024-02-04T15:33:32.655650Z"
    }
   },
   "outputs": [
    {
     "data": {
      "text/html": [
       "<div>\n",
       "<style scoped>\n",
       "    .dataframe tbody tr th:only-of-type {\n",
       "        vertical-align: middle;\n",
       "    }\n",
       "\n",
       "    .dataframe tbody tr th {\n",
       "        vertical-align: top;\n",
       "    }\n",
       "\n",
       "    .dataframe thead th {\n",
       "        text-align: right;\n",
       "    }\n",
       "</style>\n",
       "<table border=\"1\" class=\"dataframe\">\n",
       "  <thead>\n",
       "    <tr style=\"text-align: right;\">\n",
       "      <th></th>\n",
       "      <th>thumbnail</th>\n",
       "      <th>num_photos</th>\n",
       "      <th>floor</th>\n",
       "      <th>price</th>\n",
       "      <th>property_type</th>\n",
       "      <th>size</th>\n",
       "      <th>rooms</th>\n",
       "      <th>bathrooms</th>\n",
       "      <th>address</th>\n",
       "      <th>province</th>\n",
       "      <th>...</th>\n",
       "      <th>has360</th>\n",
       "      <th>has_staging</th>\n",
       "      <th>top_new_development</th>\n",
       "      <th>parking_space</th>\n",
       "      <th>pagina</th>\n",
       "      <th>month</th>\n",
       "      <th>year</th>\n",
       "      <th>municipality_mean_price</th>\n",
       "      <th>province_mean_price</th>\n",
       "      <th>district_mean_price</th>\n",
       "    </tr>\n",
       "  </thead>\n",
       "  <tbody>\n",
       "    <tr>\n",
       "      <th>0</th>\n",
       "      <td>1</td>\n",
       "      <td>9.00</td>\n",
       "      <td>6</td>\n",
       "      <td>900.00</td>\n",
       "      <td>3</td>\n",
       "      <td>65.00</td>\n",
       "      <td>1.00</td>\n",
       "      <td>1.00</td>\n",
       "      <td>1092</td>\n",
       "      <td>1</td>\n",
       "      <td>...</td>\n",
       "      <td>0</td>\n",
       "      <td>0</td>\n",
       "      <td>0</td>\n",
       "      <td>0</td>\n",
       "      <td>1.00</td>\n",
       "      <td>4</td>\n",
       "      <td>2023</td>\n",
       "      <td>2,370.38</td>\n",
       "      <td>2,962.22</td>\n",
       "      <td>1,450.00</td>\n",
       "    </tr>\n",
       "    <tr>\n",
       "      <th>1</th>\n",
       "      <td>1</td>\n",
       "      <td>26.00</td>\n",
       "      <td>2</td>\n",
       "      <td>750.00</td>\n",
       "      <td>3</td>\n",
       "      <td>80.00</td>\n",
       "      <td>1.00</td>\n",
       "      <td>1.00</td>\n",
       "      <td>2655</td>\n",
       "      <td>1</td>\n",
       "      <td>...</td>\n",
       "      <td>0</td>\n",
       "      <td>0</td>\n",
       "      <td>0</td>\n",
       "      <td>1</td>\n",
       "      <td>1.00</td>\n",
       "      <td>4</td>\n",
       "      <td>2023</td>\n",
       "      <td>2,009.43</td>\n",
       "      <td>2,962.22</td>\n",
       "      <td>1,100.00</td>\n",
       "    </tr>\n",
       "    <tr>\n",
       "      <th>2</th>\n",
       "      <td>1</td>\n",
       "      <td>32.00</td>\n",
       "      <td>0</td>\n",
       "      <td>1,500.00</td>\n",
       "      <td>3</td>\n",
       "      <td>64.00</td>\n",
       "      <td>1.00</td>\n",
       "      <td>2.00</td>\n",
       "      <td>294</td>\n",
       "      <td>1</td>\n",
       "      <td>...</td>\n",
       "      <td>0</td>\n",
       "      <td>0</td>\n",
       "      <td>0</td>\n",
       "      <td>1</td>\n",
       "      <td>1.00</td>\n",
       "      <td>4</td>\n",
       "      <td>2023</td>\n",
       "      <td>1,934.05</td>\n",
       "      <td>2,962.22</td>\n",
       "      <td>1,500.00</td>\n",
       "    </tr>\n",
       "    <tr>\n",
       "      <th>3</th>\n",
       "      <td>1</td>\n",
       "      <td>24.00</td>\n",
       "      <td>0</td>\n",
       "      <td>950.00</td>\n",
       "      <td>3</td>\n",
       "      <td>57.00</td>\n",
       "      <td>1.00</td>\n",
       "      <td>1.00</td>\n",
       "      <td>1080</td>\n",
       "      <td>1</td>\n",
       "      <td>...</td>\n",
       "      <td>0</td>\n",
       "      <td>0</td>\n",
       "      <td>0</td>\n",
       "      <td>0</td>\n",
       "      <td>1.00</td>\n",
       "      <td>4</td>\n",
       "      <td>2023</td>\n",
       "      <td>1,651.98</td>\n",
       "      <td>2,962.22</td>\n",
       "      <td>1,475.00</td>\n",
       "    </tr>\n",
       "    <tr>\n",
       "      <th>4</th>\n",
       "      <td>1</td>\n",
       "      <td>10.00</td>\n",
       "      <td>0</td>\n",
       "      <td>1,850.00</td>\n",
       "      <td>3</td>\n",
       "      <td>131.00</td>\n",
       "      <td>2.00</td>\n",
       "      <td>2.00</td>\n",
       "      <td>2672</td>\n",
       "      <td>1</td>\n",
       "      <td>...</td>\n",
       "      <td>0</td>\n",
       "      <td>0</td>\n",
       "      <td>0</td>\n",
       "      <td>1</td>\n",
       "      <td>1.00</td>\n",
       "      <td>4</td>\n",
       "      <td>2023</td>\n",
       "      <td>2,370.38</td>\n",
       "      <td>2,962.22</td>\n",
       "      <td>1,575.00</td>\n",
       "    </tr>\n",
       "    <tr>\n",
       "      <th>...</th>\n",
       "      <td>...</td>\n",
       "      <td>...</td>\n",
       "      <td>...</td>\n",
       "      <td>...</td>\n",
       "      <td>...</td>\n",
       "      <td>...</td>\n",
       "      <td>...</td>\n",
       "      <td>...</td>\n",
       "      <td>...</td>\n",
       "      <td>...</td>\n",
       "      <td>...</td>\n",
       "      <td>...</td>\n",
       "      <td>...</td>\n",
       "      <td>...</td>\n",
       "      <td>...</td>\n",
       "      <td>...</td>\n",
       "      <td>...</td>\n",
       "      <td>...</td>\n",
       "      <td>...</td>\n",
       "      <td>...</td>\n",
       "      <td>...</td>\n",
       "    </tr>\n",
       "    <tr>\n",
       "      <th>10888</th>\n",
       "      <td>1</td>\n",
       "      <td>15.00</td>\n",
       "      <td>2</td>\n",
       "      <td>3,500.00</td>\n",
       "      <td>3</td>\n",
       "      <td>140.00</td>\n",
       "      <td>3.00</td>\n",
       "      <td>2.00</td>\n",
       "      <td>1891</td>\n",
       "      <td>1</td>\n",
       "      <td>...</td>\n",
       "      <td>0</td>\n",
       "      <td>0</td>\n",
       "      <td>0</td>\n",
       "      <td>0</td>\n",
       "      <td>1.00</td>\n",
       "      <td>3</td>\n",
       "      <td>2023</td>\n",
       "      <td>2,667.61</td>\n",
       "      <td>2,962.22</td>\n",
       "      <td>3,500.00</td>\n",
       "    </tr>\n",
       "    <tr>\n",
       "      <th>10889</th>\n",
       "      <td>1</td>\n",
       "      <td>42.00</td>\n",
       "      <td>0</td>\n",
       "      <td>6,000.00</td>\n",
       "      <td>0</td>\n",
       "      <td>400.00</td>\n",
       "      <td>5.00</td>\n",
       "      <td>5.00</td>\n",
       "      <td>825</td>\n",
       "      <td>1</td>\n",
       "      <td>...</td>\n",
       "      <td>0</td>\n",
       "      <td>0</td>\n",
       "      <td>0</td>\n",
       "      <td>0</td>\n",
       "      <td>1.00</td>\n",
       "      <td>3</td>\n",
       "      <td>2023</td>\n",
       "      <td>4,966.43</td>\n",
       "      <td>2,962.22</td>\n",
       "      <td>3,600.00</td>\n",
       "    </tr>\n",
       "    <tr>\n",
       "      <th>10890</th>\n",
       "      <td>1</td>\n",
       "      <td>10.00</td>\n",
       "      <td>3</td>\n",
       "      <td>1,300.00</td>\n",
       "      <td>3</td>\n",
       "      <td>70.00</td>\n",
       "      <td>1.00</td>\n",
       "      <td>1.00</td>\n",
       "      <td>3514</td>\n",
       "      <td>1</td>\n",
       "      <td>...</td>\n",
       "      <td>0</td>\n",
       "      <td>0</td>\n",
       "      <td>0</td>\n",
       "      <td>1</td>\n",
       "      <td>1.00</td>\n",
       "      <td>3</td>\n",
       "      <td>2023</td>\n",
       "      <td>3,252.89</td>\n",
       "      <td>2,962.22</td>\n",
       "      <td>2,700.00</td>\n",
       "    </tr>\n",
       "    <tr>\n",
       "      <th>10891</th>\n",
       "      <td>1</td>\n",
       "      <td>18.00</td>\n",
       "      <td>4</td>\n",
       "      <td>5,900.00</td>\n",
       "      <td>3</td>\n",
       "      <td>170.00</td>\n",
       "      <td>3.00</td>\n",
       "      <td>2.00</td>\n",
       "      <td>1077</td>\n",
       "      <td>1</td>\n",
       "      <td>...</td>\n",
       "      <td>0</td>\n",
       "      <td>0</td>\n",
       "      <td>0</td>\n",
       "      <td>0</td>\n",
       "      <td>1.00</td>\n",
       "      <td>3</td>\n",
       "      <td>2023</td>\n",
       "      <td>4,966.43</td>\n",
       "      <td>2,962.22</td>\n",
       "      <td>3,000.00</td>\n",
       "    </tr>\n",
       "    <tr>\n",
       "      <th>10892</th>\n",
       "      <td>1</td>\n",
       "      <td>42.00</td>\n",
       "      <td>0</td>\n",
       "      <td>2,750.00</td>\n",
       "      <td>0</td>\n",
       "      <td>284.00</td>\n",
       "      <td>5.00</td>\n",
       "      <td>4.00</td>\n",
       "      <td>1141</td>\n",
       "      <td>2</td>\n",
       "      <td>...</td>\n",
       "      <td>0</td>\n",
       "      <td>0</td>\n",
       "      <td>0</td>\n",
       "      <td>0</td>\n",
       "      <td>1.00</td>\n",
       "      <td>3</td>\n",
       "      <td>2023</td>\n",
       "      <td>1,535.86</td>\n",
       "      <td>1,939.18</td>\n",
       "      <td>2,750.00</td>\n",
       "    </tr>\n",
       "  </tbody>\n",
       "</table>\n",
       "<p>10892 rows × 35 columns</p>\n",
       "</div>"
      ],
      "text/plain": [
       "       thumbnail  num_photos  floor    price  property_type   size  rooms  \\\n",
       "0              1        9.00      6   900.00              3  65.00   1.00   \n",
       "1              1       26.00      2   750.00              3  80.00   1.00   \n",
       "2              1       32.00      0 1,500.00              3  64.00   1.00   \n",
       "3              1       24.00      0   950.00              3  57.00   1.00   \n",
       "4              1       10.00      0 1,850.00              3 131.00   2.00   \n",
       "...          ...         ...    ...      ...            ...    ...    ...   \n",
       "10888          1       15.00      2 3,500.00              3 140.00   3.00   \n",
       "10889          1       42.00      0 6,000.00              0 400.00   5.00   \n",
       "10890          1       10.00      3 1,300.00              3  70.00   1.00   \n",
       "10891          1       18.00      4 5,900.00              3 170.00   3.00   \n",
       "10892          1       42.00      0 2,750.00              0 284.00   5.00   \n",
       "\n",
       "       bathrooms  address  province  ...  has360  has_staging  \\\n",
       "0           1.00     1092         1  ...       0            0   \n",
       "1           1.00     2655         1  ...       0            0   \n",
       "2           2.00      294         1  ...       0            0   \n",
       "3           1.00     1080         1  ...       0            0   \n",
       "4           2.00     2672         1  ...       0            0   \n",
       "...          ...      ...       ...  ...     ...          ...   \n",
       "10888       2.00     1891         1  ...       0            0   \n",
       "10889       5.00      825         1  ...       0            0   \n",
       "10890       1.00     3514         1  ...       0            0   \n",
       "10891       2.00     1077         1  ...       0            0   \n",
       "10892       4.00     1141         2  ...       0            0   \n",
       "\n",
       "       top_new_development  parking_space  pagina  month  year  \\\n",
       "0                        0              0    1.00      4  2023   \n",
       "1                        0              1    1.00      4  2023   \n",
       "2                        0              1    1.00      4  2023   \n",
       "3                        0              0    1.00      4  2023   \n",
       "4                        0              1    1.00      4  2023   \n",
       "...                    ...            ...     ...    ...   ...   \n",
       "10888                    0              0    1.00      3  2023   \n",
       "10889                    0              0    1.00      3  2023   \n",
       "10890                    0              1    1.00      3  2023   \n",
       "10891                    0              0    1.00      3  2023   \n",
       "10892                    0              0    1.00      3  2023   \n",
       "\n",
       "       municipality_mean_price  province_mean_price  district_mean_price  \n",
       "0                     2,370.38             2,962.22             1,450.00  \n",
       "1                     2,009.43             2,962.22             1,100.00  \n",
       "2                     1,934.05             2,962.22             1,500.00  \n",
       "3                     1,651.98             2,962.22             1,475.00  \n",
       "4                     2,370.38             2,962.22             1,575.00  \n",
       "...                        ...                  ...                  ...  \n",
       "10888                 2,667.61             2,962.22             3,500.00  \n",
       "10889                 4,966.43             2,962.22             3,600.00  \n",
       "10890                 3,252.89             2,962.22             2,700.00  \n",
       "10891                 4,966.43             2,962.22             3,000.00  \n",
       "10892                 1,535.86             1,939.18             2,750.00  \n",
       "\n",
       "[10892 rows x 35 columns]"
      ]
     },
     "execution_count": 391,
     "metadata": {},
     "output_type": "execute_result"
    }
   ],
   "source": [
    "df5 = encoding( df5 )\n",
    "df5"
   ]
  },
  {
   "cell_type": "markdown",
   "id": "7bdafed8",
   "metadata": {},
   "source": [
    "# 6.0 Feature Selection"
   ]
  },
  {
   "cell_type": "code",
   "execution_count": 392,
   "id": "02f6e93b",
   "metadata": {
    "ExecuteTime": {
     "end_time": "2024-02-04T15:33:35.280444Z",
     "start_time": "2024-02-04T15:33:35.274607Z"
    }
   },
   "outputs": [],
   "source": [
    "df6 = df5.copy()"
   ]
  },
  {
   "cell_type": "markdown",
   "id": "11189951",
   "metadata": {
    "ExecuteTime": {
     "end_time": "2023-08-13T00:21:22.012478Z",
     "start_time": "2023-08-13T00:21:22.009576Z"
    }
   },
   "source": [
    "## 6.1 Boruta"
   ]
  },
  {
   "cell_type": "code",
   "execution_count": 393,
   "id": "547e5217",
   "metadata": {
    "ExecuteTime": {
     "end_time": "2024-02-04T15:33:36.863420Z",
     "start_time": "2024-02-04T15:33:36.856968Z"
    }
   },
   "outputs": [],
   "source": [
    "def boruta_selection(df , use_boruta = False):\n",
    "    \n",
    "    if use_boruta:\n",
    "    \n",
    "        # training and test dataset for boruta\n",
    "        X_train = df6.drop( ['price'] , axis= 1 ).values\n",
    "        y_train = df6['price'].values.ravel()\n",
    "\n",
    "        # instancia do Rf\n",
    "        rf = RandomForestRegressor( n_jobs = -1 )\n",
    "\n",
    "        # aplico o boruta\n",
    "        boruta = BorutaPy( rf, n_estimators = 'auto', verbose = 2, random_state = 42 ).fit( X_train, y_train )\n",
    "        \n",
    "        # pega as colunas e coloca na variavel\n",
    "        cols_selected = boruta.support_.tolist()\n",
    "\n",
    "        # df boruta\n",
    "        df_boruta = df6.drop('price', axis = 1).loc[ : , cols_selected]\n",
    "\n",
    "        X_train = df6.drop( ['price'] , axis= 1 )\n",
    "        cols_selected_boruta = X_train.loc[ : , cols_selected ]\n",
    "\n",
    "        # cols not selected boruta\n",
    "        cols_not_selected = list( np.setdiff1d( X_train.columns, cols_selected_boruta.columns ) )\n",
    "        \n",
    "        print('Boruta Used')\n",
    "        \n",
    "        return df[cols_selected_boruta], cols_not_selected\n",
    "    \n",
    "    else:\n",
    "        print('Boruta skipped')\n",
    "        return df\n",
    "\n",
    "        \n"
   ]
  },
  {
   "cell_type": "code",
   "execution_count": 394,
   "id": "45035faf",
   "metadata": {
    "ExecuteTime": {
     "end_time": "2024-02-04T15:33:39.004359Z",
     "start_time": "2024-02-04T15:33:38.999938Z"
    }
   },
   "outputs": [
    {
     "name": "stdout",
     "output_type": "stream",
     "text": [
      "Boruta skipped\n"
     ]
    }
   ],
   "source": [
    "df6 = boruta_selection(df6)"
   ]
  },
  {
   "cell_type": "markdown",
   "id": "5d26b577",
   "metadata": {
    "ExecuteTime": {
     "end_time": "2023-08-11T16:55:19.379220Z",
     "start_time": "2023-08-11T16:55:19.373792Z"
    }
   },
   "source": [
    "# 7.0 Machine Learning"
   ]
  },
  {
   "cell_type": "code",
   "execution_count": 395,
   "id": "ba9d896b",
   "metadata": {
    "ExecuteTime": {
     "end_time": "2024-02-04T15:33:40.955989Z",
     "start_time": "2024-02-04T15:33:40.952347Z"
    }
   },
   "outputs": [],
   "source": [
    "# columns used for training\n",
    "colunas_treino_modelo = df6.columns.to_list()"
   ]
  },
  {
   "cell_type": "code",
   "execution_count": 396,
   "id": "597c8b5d",
   "metadata": {
    "ExecuteTime": {
     "end_time": "2024-02-04T15:33:42.885097Z",
     "start_time": "2024-02-04T15:33:42.879903Z"
    }
   },
   "outputs": [],
   "source": [
    "df7 = df6.copy()"
   ]
  },
  {
   "cell_type": "markdown",
   "id": "eb1563de",
   "metadata": {},
   "source": [
    "## 7.1 - Divisão entre treino e teste"
   ]
  },
  {
   "cell_type": "code",
   "execution_count": 397,
   "id": "ca050a38",
   "metadata": {
    "ExecuteTime": {
     "end_time": "2024-02-04T15:33:44.534320Z",
     "start_time": "2024-02-04T15:33:44.521011Z"
    }
   },
   "outputs": [
    {
     "name": "stdout",
     "output_type": "stream",
     "text": [
      "Total Shape (10892, 35)\n",
      "X_train shape (7624, 34)\n",
      "y_train shape (7624,)\n",
      "====================================================================================================\n",
      "X_test shape (3268, 34)\n",
      "y_test shape (3268,)\n"
     ]
    }
   ],
   "source": [
    "# dividir entre treino e teste\n",
    "X = df7.drop( 'price', axis = 1 )\n",
    "y = df7['price']\n",
    "\n",
    "X_train, X_test, y_train, y_test = train_test_split(X, y, test_size=0.3, random_state=12)\n",
    "\n",
    "print('Total Shape {}'.format( df7.shape ))\n",
    "\n",
    "print('X_train shape {}'.format(X_train.shape) )\n",
    "print('y_train shape {}'.format(y_train.shape) )\n",
    "\n",
    "print('=='*50)\n",
    "\n",
    "print('X_test shape {}'.format(X_test.shape) )\n",
    "print('y_test shape {}'.format(y_test.shape) )"
   ]
  },
  {
   "cell_type": "markdown",
   "id": "9810703c",
   "metadata": {},
   "source": [
    "## 7.2 - Linear Regression"
   ]
  },
  {
   "cell_type": "code",
   "execution_count": 398,
   "id": "b5ce7fc6",
   "metadata": {
    "ExecuteTime": {
     "end_time": "2024-02-04T15:33:51.166069Z",
     "start_time": "2024-02-04T15:33:51.144701Z"
    }
   },
   "outputs": [],
   "source": [
    "# Criar um modelo de regressão linear\n",
    "lr = LinearRegression()\n",
    "\n",
    "# Treinar o modelo\n",
    "lr.fit(X_train, y_train)\n",
    "\n",
    "# Fazer previsões no conjunto de teste\n",
    "y_pred = lr.predict(X_test)\n"
   ]
  },
  {
   "cell_type": "code",
   "execution_count": 399,
   "id": "6dff5387",
   "metadata": {
    "ExecuteTime": {
     "end_time": "2024-02-04T15:33:52.948225Z",
     "start_time": "2024-02-04T15:33:52.937125Z"
    }
   },
   "outputs": [
    {
     "data": {
      "text/html": [
       "<div>\n",
       "<style scoped>\n",
       "    .dataframe tbody tr th:only-of-type {\n",
       "        vertical-align: middle;\n",
       "    }\n",
       "\n",
       "    .dataframe tbody tr th {\n",
       "        vertical-align: top;\n",
       "    }\n",
       "\n",
       "    .dataframe thead th {\n",
       "        text-align: right;\n",
       "    }\n",
       "</style>\n",
       "<table border=\"1\" class=\"dataframe\">\n",
       "  <thead>\n",
       "    <tr style=\"text-align: right;\">\n",
       "      <th></th>\n",
       "      <th>Model Name</th>\n",
       "      <th>MAE</th>\n",
       "      <th>MAPE</th>\n",
       "      <th>RMSE</th>\n",
       "      <th>R2_score</th>\n",
       "    </tr>\n",
       "  </thead>\n",
       "  <tbody>\n",
       "    <tr>\n",
       "      <th>0</th>\n",
       "      <td>Linear Regression</td>\n",
       "      <td>990.42</td>\n",
       "      <td>0.38</td>\n",
       "      <td>1,693.28</td>\n",
       "      <td>0.59</td>\n",
       "    </tr>\n",
       "  </tbody>\n",
       "</table>\n",
       "</div>"
      ],
      "text/plain": [
       "         Model Name     MAE  MAPE     RMSE  R2_score\n",
       "0  Linear Regression 990.42  0.38 1,693.28      0.59"
      ]
     },
     "execution_count": 399,
     "metadata": {},
     "output_type": "execute_result"
    }
   ],
   "source": [
    "lr_metrics = ml_error( 'Linear Regression', y_test , y_pred)\n",
    "lr_metrics"
   ]
  },
  {
   "cell_type": "markdown",
   "id": "4cb230b5",
   "metadata": {},
   "source": [
    "## 7.2.1 - Linear Regression Cross Validation"
   ]
  },
  {
   "cell_type": "code",
   "execution_count": 400,
   "id": "3cfbb0bc",
   "metadata": {
    "ExecuteTime": {
     "end_time": "2024-02-04T15:33:57.153787Z",
     "start_time": "2024-02-04T15:33:56.992003Z"
    }
   },
   "outputs": [
    {
     "data": {
      "text/html": [
       "<div>\n",
       "<style scoped>\n",
       "    .dataframe tbody tr th:only-of-type {\n",
       "        vertical-align: middle;\n",
       "    }\n",
       "\n",
       "    .dataframe tbody tr th {\n",
       "        vertical-align: top;\n",
       "    }\n",
       "\n",
       "    .dataframe thead th {\n",
       "        text-align: right;\n",
       "    }\n",
       "</style>\n",
       "<table border=\"1\" class=\"dataframe\">\n",
       "  <thead>\n",
       "    <tr style=\"text-align: right;\">\n",
       "      <th></th>\n",
       "      <th>Model Name</th>\n",
       "      <th>MAE</th>\n",
       "      <th>MAPE</th>\n",
       "      <th>RMSE</th>\n",
       "      <th>R2_score</th>\n",
       "      <th>Cv Score</th>\n",
       "    </tr>\n",
       "  </thead>\n",
       "  <tbody>\n",
       "    <tr>\n",
       "      <th>0</th>\n",
       "      <td>Linear Regression</td>\n",
       "      <td>990.42</td>\n",
       "      <td>0.38</td>\n",
       "      <td>1,693.28</td>\n",
       "      <td>0.59</td>\n",
       "      <td>0.40</td>\n",
       "    </tr>\n",
       "  </tbody>\n",
       "</table>\n",
       "</div>"
      ],
      "text/plain": [
       "         Model Name     MAE  MAPE     RMSE  R2_score  Cv Score\n",
       "0  Linear Regression 990.42  0.38 1,693.28      0.59      0.40"
      ]
     },
     "execution_count": 400,
     "metadata": {},
     "output_type": "execute_result"
    }
   ],
   "source": [
    "# Criar um modelo de regressão linear\n",
    "lr = LinearRegression()\n",
    "\n",
    "# cross validation\n",
    "precision_scores = cross_val_score(lr, X_train, y_train, cv=10, scoring= 'r2')\n",
    "\n",
    "# mean score \n",
    "mean_score = np.mean( precision_scores )\n",
    "cv_lr = np.round(mean_score,2)\n",
    "lr_metrics_cv = pd.concat( [lr_metrics, pd.DataFrame( {'Cv Score' : [cv_lr]} ) ], axis = 1)\n",
    "lr_metrics_cv"
   ]
  },
  {
   "cell_type": "markdown",
   "id": "4f3d80d9",
   "metadata": {},
   "source": [
    "## 7.3 Lassso"
   ]
  },
  {
   "cell_type": "code",
   "execution_count": 401,
   "id": "298bf754",
   "metadata": {
    "ExecuteTime": {
     "end_time": "2024-02-04T15:34:06.313125Z",
     "start_time": "2024-02-04T15:34:06.135172Z"
    }
   },
   "outputs": [
    {
     "data": {
      "text/html": [
       "<div>\n",
       "<style scoped>\n",
       "    .dataframe tbody tr th:only-of-type {\n",
       "        vertical-align: middle;\n",
       "    }\n",
       "\n",
       "    .dataframe tbody tr th {\n",
       "        vertical-align: top;\n",
       "    }\n",
       "\n",
       "    .dataframe thead th {\n",
       "        text-align: right;\n",
       "    }\n",
       "</style>\n",
       "<table border=\"1\" class=\"dataframe\">\n",
       "  <thead>\n",
       "    <tr style=\"text-align: right;\">\n",
       "      <th></th>\n",
       "      <th>Model Name</th>\n",
       "      <th>MAE</th>\n",
       "      <th>MAPE</th>\n",
       "      <th>RMSE</th>\n",
       "      <th>R2_score</th>\n",
       "    </tr>\n",
       "  </thead>\n",
       "  <tbody>\n",
       "    <tr>\n",
       "      <th>0</th>\n",
       "      <td>Lasso</td>\n",
       "      <td>990.39</td>\n",
       "      <td>0.38</td>\n",
       "      <td>1,693.26</td>\n",
       "      <td>0.59</td>\n",
       "    </tr>\n",
       "  </tbody>\n",
       "</table>\n",
       "</div>"
      ],
      "text/plain": [
       "  Model Name     MAE  MAPE     RMSE  R2_score\n",
       "0       Lasso 990.39  0.38 1,693.26      0.59"
      ]
     },
     "execution_count": 401,
     "metadata": {},
     "output_type": "execute_result"
    }
   ],
   "source": [
    "# model\n",
    "lrr = Lasso( alpha = 0.01 ).fit( X_train , y_train )\n",
    "\n",
    "# prediction\n",
    "y_hat_lrr = lrr.predict( X_test )\n",
    "\n",
    "# performance\n",
    "lrr_result = ml_error( 'Lasso',  y_test  ,  y_hat_lrr  )\n",
    "lrr_result"
   ]
  },
  {
   "cell_type": "markdown",
   "id": "e9fb3406",
   "metadata": {
    "ExecuteTime": {
     "end_time": "2024-02-03T14:44:22.755594Z",
     "start_time": "2024-02-03T14:44:22.752525Z"
    }
   },
   "source": [
    "## 7.3.1 - Lasso Cross Validation"
   ]
  },
  {
   "cell_type": "code",
   "execution_count": 402,
   "id": "bba6eac0",
   "metadata": {
    "ExecuteTime": {
     "end_time": "2024-02-04T15:34:12.237102Z",
     "start_time": "2024-02-04T15:34:11.424065Z"
    }
   },
   "outputs": [
    {
     "data": {
      "text/html": [
       "<div>\n",
       "<style scoped>\n",
       "    .dataframe tbody tr th:only-of-type {\n",
       "        vertical-align: middle;\n",
       "    }\n",
       "\n",
       "    .dataframe tbody tr th {\n",
       "        vertical-align: top;\n",
       "    }\n",
       "\n",
       "    .dataframe thead th {\n",
       "        text-align: right;\n",
       "    }\n",
       "</style>\n",
       "<table border=\"1\" class=\"dataframe\">\n",
       "  <thead>\n",
       "    <tr style=\"text-align: right;\">\n",
       "      <th></th>\n",
       "      <th>Model Name</th>\n",
       "      <th>MAE</th>\n",
       "      <th>MAPE</th>\n",
       "      <th>RMSE</th>\n",
       "      <th>R2_score</th>\n",
       "      <th>Cv Score</th>\n",
       "    </tr>\n",
       "  </thead>\n",
       "  <tbody>\n",
       "    <tr>\n",
       "      <th>0</th>\n",
       "      <td>Lasso</td>\n",
       "      <td>990.39</td>\n",
       "      <td>0.38</td>\n",
       "      <td>1,693.26</td>\n",
       "      <td>0.59</td>\n",
       "      <td>0.41</td>\n",
       "    </tr>\n",
       "  </tbody>\n",
       "</table>\n",
       "</div>"
      ],
      "text/plain": [
       "  Model Name     MAE  MAPE     RMSE  R2_score  Cv Score\n",
       "0       Lasso 990.39  0.38 1,693.26      0.59      0.41"
      ]
     },
     "execution_count": 402,
     "metadata": {},
     "output_type": "execute_result"
    }
   ],
   "source": [
    "# model\n",
    "lrr = Lasso( alpha = 0.01 ).fit( X_train , y_train )\n",
    "\n",
    "# cross validation\n",
    "precision_scores = cross_val_score(lrr, X_train, y_train, cv=5, scoring= 'r2')\n",
    "\n",
    "# mean score \n",
    "mean_score = np.mean( precision_scores )\n",
    "cv_lasso = np.round( mean_score, 2)\n",
    "lrr_result_cv = pd.concat( [lrr_result, pd.DataFrame( {'Cv Score' : [cv_lasso]} ) ], axis = 1) \n",
    "lrr_result_cv"
   ]
  },
  {
   "cell_type": "markdown",
   "id": "83db355b",
   "metadata": {},
   "source": [
    "## 7.4 Random Forest"
   ]
  },
  {
   "cell_type": "code",
   "execution_count": 403,
   "id": "37850f1a",
   "metadata": {
    "ExecuteTime": {
     "end_time": "2024-02-04T15:34:21.331813Z",
     "start_time": "2024-02-04T15:34:16.536805Z"
    }
   },
   "outputs": [
    {
     "data": {
      "text/html": [
       "<div>\n",
       "<style scoped>\n",
       "    .dataframe tbody tr th:only-of-type {\n",
       "        vertical-align: middle;\n",
       "    }\n",
       "\n",
       "    .dataframe tbody tr th {\n",
       "        vertical-align: top;\n",
       "    }\n",
       "\n",
       "    .dataframe thead th {\n",
       "        text-align: right;\n",
       "    }\n",
       "</style>\n",
       "<table border=\"1\" class=\"dataframe\">\n",
       "  <thead>\n",
       "    <tr style=\"text-align: right;\">\n",
       "      <th></th>\n",
       "      <th>Model Name</th>\n",
       "      <th>MAE</th>\n",
       "      <th>MAPE</th>\n",
       "      <th>RMSE</th>\n",
       "      <th>R2_score</th>\n",
       "    </tr>\n",
       "  </thead>\n",
       "  <tbody>\n",
       "    <tr>\n",
       "      <th>0</th>\n",
       "      <td>Random Forest Regressor</td>\n",
       "      <td>670.49</td>\n",
       "      <td>0.22</td>\n",
       "      <td>1,357.56</td>\n",
       "      <td>0.73</td>\n",
       "    </tr>\n",
       "  </tbody>\n",
       "</table>\n",
       "</div>"
      ],
      "text/plain": [
       "               Model Name     MAE  MAPE     RMSE  R2_score\n",
       "0  Random Forest Regressor 670.49  0.22 1,357.56      0.73"
      ]
     },
     "execution_count": 403,
     "metadata": {},
     "output_type": "execute_result"
    }
   ],
   "source": [
    "# model\n",
    "rf = RandomForestRegressor( n_estimators = 100 , n_jobs = -1, random_state = 42  )\n",
    "\n",
    "rf.fit( X_train , y_train )\n",
    "\n",
    "# prediction\n",
    "y_hat_rf = rf.predict( X_test )\n",
    "\n",
    "# \n",
    "rf_result = ml_error( 'Random Forest Regressor',  y_test  ,  y_hat_rf  )\n",
    "rf_result"
   ]
  },
  {
   "cell_type": "markdown",
   "id": "0d1eef43",
   "metadata": {
    "ExecuteTime": {
     "end_time": "2023-08-13T17:51:19.283637Z",
     "start_time": "2023-08-13T17:51:19.280463Z"
    }
   },
   "source": [
    "## 7.4 Random Forest Cross Validation"
   ]
  },
  {
   "cell_type": "code",
   "execution_count": 404,
   "id": "8116f6c3",
   "metadata": {
    "ExecuteTime": {
     "end_time": "2024-02-04T15:34:45.626308Z",
     "start_time": "2024-02-04T15:34:23.600390Z"
    }
   },
   "outputs": [],
   "source": [
    "# model\n",
    "rf_cv = RandomForestRegressor( n_estimators = 100 , n_jobs = -1, random_state = 42  )\n",
    "\n",
    "# cross validation\n",
    "precision_scores = cross_val_score(rf_cv, X_train, y_train, cv=5, scoring= 'r2')\n",
    "\n",
    "# mean score \n",
    "mean_score = np.mean( precision_scores )\n",
    "rf_cv = np.round( mean_score, 2)\n",
    "rf_result_cv = pd.concat( [rf_result, pd.DataFrame( {'Cv Score' : [rf_cv]} ) ], axis = 1) \n"
   ]
  },
  {
   "cell_type": "markdown",
   "id": "97f9e826",
   "metadata": {},
   "source": [
    "## 7.5 LGBM"
   ]
  },
  {
   "cell_type": "code",
   "execution_count": 405,
   "id": "79fe0b92",
   "metadata": {
    "ExecuteTime": {
     "end_time": "2024-02-04T15:34:48.673949Z",
     "start_time": "2024-02-04T15:34:48.456309Z"
    }
   },
   "outputs": [
    {
     "name": "stdout",
     "output_type": "stream",
     "text": [
      "[LightGBM] [Warning] Auto-choosing col-wise multi-threading, the overhead of testing was 0.002287 seconds.\n",
      "You can set `force_col_wise=true` to remove the overhead.\n",
      "[LightGBM] [Info] Total Bins 2470\n",
      "[LightGBM] [Info] Number of data points in the train set: 7624, number of used features: 31\n",
      "[LightGBM] [Info] Start training from score 2842.843127\n"
     ]
    },
    {
     "data": {
      "text/html": [
       "<div>\n",
       "<style scoped>\n",
       "    .dataframe tbody tr th:only-of-type {\n",
       "        vertical-align: middle;\n",
       "    }\n",
       "\n",
       "    .dataframe tbody tr th {\n",
       "        vertical-align: top;\n",
       "    }\n",
       "\n",
       "    .dataframe thead th {\n",
       "        text-align: right;\n",
       "    }\n",
       "</style>\n",
       "<table border=\"1\" class=\"dataframe\">\n",
       "  <thead>\n",
       "    <tr style=\"text-align: right;\">\n",
       "      <th></th>\n",
       "      <th>Model Name</th>\n",
       "      <th>MAE</th>\n",
       "      <th>MAPE</th>\n",
       "      <th>RMSE</th>\n",
       "      <th>R2_score</th>\n",
       "    </tr>\n",
       "  </thead>\n",
       "  <tbody>\n",
       "    <tr>\n",
       "      <th>0</th>\n",
       "      <td>lgbm</td>\n",
       "      <td>697.90</td>\n",
       "      <td>0.22</td>\n",
       "      <td>1,379.27</td>\n",
       "      <td>0.73</td>\n",
       "    </tr>\n",
       "  </tbody>\n",
       "</table>\n",
       "</div>"
      ],
      "text/plain": [
       "  Model Name     MAE  MAPE     RMSE  R2_score\n",
       "0        lgbm 697.90  0.22 1,379.27      0.73"
      ]
     },
     "execution_count": 405,
     "metadata": {},
     "output_type": "execute_result"
    }
   ],
   "source": [
    "# Criar um conjunto de dados LightGBM a partir dos dados de treinamento\n",
    "train_data = lgb.Dataset(X_train, label=y_train)\n",
    "\n",
    "# Criar um conjunto de dados LightGBM a partir dos dados de treinamento\n",
    "train_data = lgb.Dataset(X_train, label=y_train)\n",
    "\n",
    "# Definir parâmetros básicos\n",
    "params = {\n",
    "    'objective': 'regression',  # Regressão\n",
    "    'metric': 'l2',  # Métrica de avaliação (erro quadrático médio)\n",
    "    'boosting_type': 'gbdt',  # Tipo de aumento (gradient boosting)\n",
    "}\n",
    "\n",
    "# Treinar o modelo LightGBM\n",
    "num_round = 100  # Número de iterações (árvores) de treinamento\n",
    "bst = lgb.train(params, train_data, num_boost_round=num_round)\n",
    "\n",
    "# Fazer previsões no conjunto de teste\n",
    "y_pred_lgbm = bst.predict(X_test)\n",
    "\n",
    "# performance\n",
    "lgbm = ml_error( 'lgbm',  y_test  ,  y_pred_lgbm  )\n",
    "lgbm\n"
   ]
  },
  {
   "cell_type": "markdown",
   "id": "adcbf768",
   "metadata": {},
   "source": [
    "## 7.5.1 LGBM Cross Validation"
   ]
  },
  {
   "cell_type": "code",
   "execution_count": 406,
   "id": "741335c4",
   "metadata": {
    "ExecuteTime": {
     "end_time": "2024-02-04T15:35:05.676982Z",
     "start_time": "2024-02-04T15:35:03.689207Z"
    }
   },
   "outputs": [
    {
     "name": "stdout",
     "output_type": "stream",
     "text": [
      "[LightGBM] [Warning] Auto-choosing col-wise multi-threading, the overhead of testing was 0.001663 seconds.\n",
      "You can set `force_col_wise=true` to remove the overhead.\n",
      "[LightGBM] [Info] Total Bins 2456\n",
      "[LightGBM] [Info] Number of data points in the train set: 6861, number of used features: 30\n",
      "[LightGBM] [Info] Start training from score 2844.755138\n",
      "[LightGBM] [Warning] Auto-choosing col-wise multi-threading, the overhead of testing was 0.001545 seconds.\n",
      "You can set `force_col_wise=true` to remove the overhead.\n",
      "[LightGBM] [Info] Total Bins 2458\n",
      "[LightGBM] [Info] Number of data points in the train set: 6861, number of used features: 30\n",
      "[LightGBM] [Info] Start training from score 2816.305641\n",
      "[LightGBM] [Warning] Auto-choosing col-wise multi-threading, the overhead of testing was 0.001526 seconds.\n",
      "You can set `force_col_wise=true` to remove the overhead.\n",
      "[LightGBM] [Info] Total Bins 2465\n",
      "[LightGBM] [Info] Number of data points in the train set: 6861, number of used features: 31\n",
      "[LightGBM] [Info] Start training from score 2850.460866\n",
      "[LightGBM] [Warning] Auto-choosing col-wise multi-threading, the overhead of testing was 0.001417 seconds.\n",
      "You can set `force_col_wise=true` to remove the overhead.\n",
      "[LightGBM] [Info] Total Bins 2461\n",
      "[LightGBM] [Info] Number of data points in the train set: 6861, number of used features: 30\n",
      "[LightGBM] [Info] Start training from score 2843.026235\n",
      "[LightGBM] [Warning] Auto-choosing col-wise multi-threading, the overhead of testing was 0.001346 seconds.\n",
      "You can set `force_col_wise=true` to remove the overhead.\n",
      "[LightGBM] [Info] Total Bins 2457\n",
      "[LightGBM] [Info] Number of data points in the train set: 6862, number of used features: 30\n",
      "[LightGBM] [Info] Start training from score 2850.671524\n",
      "[LightGBM] [Warning] Auto-choosing col-wise multi-threading, the overhead of testing was 0.001188 seconds.\n",
      "You can set `force_col_wise=true` to remove the overhead.\n",
      "[LightGBM] [Info] Total Bins 2452\n",
      "[LightGBM] [Info] Number of data points in the train set: 6862, number of used features: 30\n",
      "[LightGBM] [Info] Start training from score 2849.462839\n",
      "[LightGBM] [Warning] Auto-choosing row-wise multi-threading, the overhead of testing was 0.000559 seconds.\n",
      "You can set `force_row_wise=true` to remove the overhead.\n",
      "And if memory is not enough, you can set `force_col_wise=true`.\n",
      "[LightGBM] [Info] Total Bins 2458\n",
      "[LightGBM] [Info] Number of data points in the train set: 6862, number of used features: 30\n",
      "[LightGBM] [Info] Start training from score 2856.041825\n",
      "[LightGBM] [Warning] Auto-choosing col-wise multi-threading, the overhead of testing was 0.001331 seconds.\n",
      "You can set `force_col_wise=true` to remove the overhead.\n",
      "[LightGBM] [Info] Total Bins 2454\n",
      "[LightGBM] [Info] Number of data points in the train set: 6862, number of used features: 30\n",
      "[LightGBM] [Info] Start training from score 2845.297289\n",
      "[LightGBM] [Warning] Auto-choosing col-wise multi-threading, the overhead of testing was 0.001329 seconds.\n",
      "You can set `force_col_wise=true` to remove the overhead.\n",
      "[LightGBM] [Info] Total Bins 2459\n",
      "[LightGBM] [Info] Number of data points in the train set: 6862, number of used features: 30\n",
      "[LightGBM] [Info] Start training from score 2844.689158\n",
      "[LightGBM] [Warning] Auto-choosing row-wise multi-threading, the overhead of testing was 0.000835 seconds.\n",
      "You can set `force_row_wise=true` to remove the overhead.\n",
      "And if memory is not enough, you can set `force_col_wise=true`.\n",
      "[LightGBM] [Info] Total Bins 2456\n",
      "[LightGBM] [Info] Number of data points in the train set: 6862, number of used features: 30\n",
      "[LightGBM] [Info] Start training from score 2827.718304\n"
     ]
    },
    {
     "data": {
      "text/html": [
       "<div>\n",
       "<style scoped>\n",
       "    .dataframe tbody tr th:only-of-type {\n",
       "        vertical-align: middle;\n",
       "    }\n",
       "\n",
       "    .dataframe tbody tr th {\n",
       "        vertical-align: top;\n",
       "    }\n",
       "\n",
       "    .dataframe thead th {\n",
       "        text-align: right;\n",
       "    }\n",
       "</style>\n",
       "<table border=\"1\" class=\"dataframe\">\n",
       "  <thead>\n",
       "    <tr style=\"text-align: right;\">\n",
       "      <th></th>\n",
       "      <th>Model Name</th>\n",
       "      <th>MAE</th>\n",
       "      <th>MAPE</th>\n",
       "      <th>RMSE</th>\n",
       "      <th>R2_score</th>\n",
       "      <th>Cv Score</th>\n",
       "    </tr>\n",
       "  </thead>\n",
       "  <tbody>\n",
       "    <tr>\n",
       "      <th>0</th>\n",
       "      <td>lgbm</td>\n",
       "      <td>697.90</td>\n",
       "      <td>0.22</td>\n",
       "      <td>1,379.27</td>\n",
       "      <td>0.73</td>\n",
       "      <td>0.69</td>\n",
       "    </tr>\n",
       "  </tbody>\n",
       "</table>\n",
       "</div>"
      ],
      "text/plain": [
       "  Model Name     MAE  MAPE     RMSE  R2_score  Cv Score\n",
       "0        lgbm 697.90  0.22 1,379.27      0.73      0.69"
      ]
     },
     "execution_count": 406,
     "metadata": {},
     "output_type": "execute_result"
    }
   ],
   "source": [
    "# Definir parâmetros básicos\n",
    "params = {\n",
    "    'objective': 'regression',  # Regressão\n",
    "    'metric': 'r2',  # Usando R² como métrica de avaliação, se suportado pela sua versão do LightGBM\n",
    "    'boosting_type': 'gbdt',  # Tipo de aumento (gradient boosting)\n",
    "}\n",
    "\n",
    "# Preparar o conjunto de dados LightGBM\n",
    "lgb_data = lgb.Dataset(X_train, label=y_train)\n",
    "\n",
    "# Número de iterações de treinamento\n",
    "num_round = 100\n",
    "\n",
    "# Configuração da validação cruzada\n",
    "nfold = 10\n",
    "seed = 42\n",
    "\n",
    "kf = KFold(n_splits=nfold, random_state=seed, shuffle=True)\n",
    "\n",
    "r2_scores = []\n",
    "\n",
    "# Realizar a validação cruzada\n",
    "for train_idx, val_idx in kf.split(X_train):\n",
    "    X_train_fold = X_train.iloc[train_idx]  # Seleciona as linhas de treinamento\n",
    "    y_train_fold = y_train.iloc[train_idx]  # Seleciona os rótulos de treinamento\n",
    "    X_val_fold = X_train.iloc[val_idx]  # Seleciona as linhas de validação\n",
    "\n",
    "    # Treinar o modelo LightGBM\n",
    "    bst = lgb.train(params, lgb.Dataset(X_train_fold, label=y_train_fold), num_boost_round=num_round)\n",
    "\n",
    "    # Fazer previsões no conjunto de validação\n",
    "    y_pred = bst.predict(X_val_fold)\n",
    "\n",
    "    # Calcular o R² score\n",
    "    r2 = r2_score(y_train.iloc[val_idx], y_pred)\n",
    "    r2_scores.append(r2)\n",
    "\n",
    "# Mostrar a média dos R² scores\n",
    "mean_r2 = np.mean(r2_scores)\n",
    "lgbm_cv = pd.concat( [lgbm, pd.DataFrame( {'Cv Score' : [mean_r2]} ) ], axis = 1) \n",
    "lgbm_cv"
   ]
  },
  {
   "cell_type": "markdown",
   "id": "ec7a8557",
   "metadata": {},
   "source": [
    "## 7.6 XGBOOST"
   ]
  },
  {
   "cell_type": "code",
   "execution_count": 407,
   "id": "79e345b7",
   "metadata": {
    "ExecuteTime": {
     "end_time": "2024-02-04T15:35:17.674217Z",
     "start_time": "2024-02-04T15:35:17.320763Z"
    }
   },
   "outputs": [
    {
     "data": {
      "text/html": [
       "<div>\n",
       "<style scoped>\n",
       "    .dataframe tbody tr th:only-of-type {\n",
       "        vertical-align: middle;\n",
       "    }\n",
       "\n",
       "    .dataframe tbody tr th {\n",
       "        vertical-align: top;\n",
       "    }\n",
       "\n",
       "    .dataframe thead th {\n",
       "        text-align: right;\n",
       "    }\n",
       "</style>\n",
       "<table border=\"1\" class=\"dataframe\">\n",
       "  <thead>\n",
       "    <tr style=\"text-align: right;\">\n",
       "      <th></th>\n",
       "      <th>Model Name</th>\n",
       "      <th>MAE</th>\n",
       "      <th>MAPE</th>\n",
       "      <th>RMSE</th>\n",
       "      <th>R2_score</th>\n",
       "    </tr>\n",
       "  </thead>\n",
       "  <tbody>\n",
       "    <tr>\n",
       "      <th>0</th>\n",
       "      <td>xgb</td>\n",
       "      <td>726.98</td>\n",
       "      <td>0.23</td>\n",
       "      <td>1,397.57</td>\n",
       "      <td>0.72</td>\n",
       "    </tr>\n",
       "  </tbody>\n",
       "</table>\n",
       "</div>"
      ],
      "text/plain": [
       "  Model Name     MAE  MAPE     RMSE  R2_score\n",
       "0         xgb 726.98  0.23 1,397.57      0.72"
      ]
     },
     "execution_count": 407,
     "metadata": {},
     "output_type": "execute_result"
    }
   ],
   "source": [
    "# Criar um modelo XGBoost Regressor\n",
    "model_xgb = xgb.XGBRegressor(objective='reg:squarederror', n_estimators=100, max_depth=3, learning_rate=0.1)\n",
    "\n",
    "# Treinar o modelo\n",
    "model_xgb.fit(X_train, y_train)\n",
    "\n",
    "# Fazer previsões no conjunto de teste\n",
    "y_pred_xgb = model_xgb.predict(X_test)\n",
    "\n",
    "# performance\n",
    "xgb_performance = ml_error( 'xgb',  y_test  ,  y_pred_xgb  )\n",
    "xgb_performance"
   ]
  },
  {
   "cell_type": "markdown",
   "id": "bc00bab6",
   "metadata": {
    "ExecuteTime": {
     "end_time": "2024-02-03T15:02:22.466913Z",
     "start_time": "2024-02-03T15:02:22.462520Z"
    }
   },
   "source": [
    "## 7.6. XGBOOST Cross Validation"
   ]
  },
  {
   "cell_type": "code",
   "execution_count": 408,
   "id": "a0357e16",
   "metadata": {
    "ExecuteTime": {
     "end_time": "2024-02-04T15:35:21.549847Z",
     "start_time": "2024-02-04T15:35:20.097222Z"
    }
   },
   "outputs": [],
   "source": [
    "# Realizar validação cruzada com 5 folds (ou o número que preferir) usando o R2 como métrica\n",
    "scores = cross_val_score(model_xgb, X_train, y_train, cv=5, scoring='r2')\n",
    "\n",
    "# Calcular a média dos coeficientes R2\n",
    "mean_r2 = scores.mean()\n",
    "\n",
    "# Imprimir o R2 médio\n",
    "result_xgb = pd.concat( [xgb_performance, pd.DataFrame( {'Cv Score' : [mean_r2]} ) ], axis = 1) "
   ]
  },
  {
   "cell_type": "markdown",
   "id": "4b311410",
   "metadata": {},
   "source": [
    "## 7.7 Resultados Modelos"
   ]
  },
  {
   "cell_type": "code",
   "execution_count": 409,
   "id": "918c9996",
   "metadata": {
    "ExecuteTime": {
     "end_time": "2024-02-04T15:35:23.338273Z",
     "start_time": "2024-02-04T15:35:23.328219Z"
    }
   },
   "outputs": [
    {
     "data": {
      "text/html": [
       "<div>\n",
       "<style scoped>\n",
       "    .dataframe tbody tr th:only-of-type {\n",
       "        vertical-align: middle;\n",
       "    }\n",
       "\n",
       "    .dataframe tbody tr th {\n",
       "        vertical-align: top;\n",
       "    }\n",
       "\n",
       "    .dataframe thead th {\n",
       "        text-align: right;\n",
       "    }\n",
       "</style>\n",
       "<table border=\"1\" class=\"dataframe\">\n",
       "  <thead>\n",
       "    <tr style=\"text-align: right;\">\n",
       "      <th></th>\n",
       "      <th>Model Name</th>\n",
       "      <th>MAE</th>\n",
       "      <th>MAPE</th>\n",
       "      <th>RMSE</th>\n",
       "      <th>R2_score</th>\n",
       "      <th>Cv Score</th>\n",
       "    </tr>\n",
       "  </thead>\n",
       "  <tbody>\n",
       "    <tr>\n",
       "      <th>0</th>\n",
       "      <td>lgbm</td>\n",
       "      <td>697.90</td>\n",
       "      <td>0.22</td>\n",
       "      <td>1,379.27</td>\n",
       "      <td>0.73</td>\n",
       "      <td>0.69</td>\n",
       "    </tr>\n",
       "    <tr>\n",
       "      <th>0</th>\n",
       "      <td>xgb</td>\n",
       "      <td>726.98</td>\n",
       "      <td>0.23</td>\n",
       "      <td>1,397.57</td>\n",
       "      <td>0.72</td>\n",
       "      <td>0.68</td>\n",
       "    </tr>\n",
       "    <tr>\n",
       "      <th>0</th>\n",
       "      <td>Random Forest Regressor</td>\n",
       "      <td>670.49</td>\n",
       "      <td>0.22</td>\n",
       "      <td>1,357.56</td>\n",
       "      <td>0.73</td>\n",
       "      <td>0.65</td>\n",
       "    </tr>\n",
       "    <tr>\n",
       "      <th>0</th>\n",
       "      <td>Lasso</td>\n",
       "      <td>990.39</td>\n",
       "      <td>0.38</td>\n",
       "      <td>1,693.26</td>\n",
       "      <td>0.59</td>\n",
       "      <td>0.41</td>\n",
       "    </tr>\n",
       "    <tr>\n",
       "      <th>0</th>\n",
       "      <td>Linear Regression</td>\n",
       "      <td>990.42</td>\n",
       "      <td>0.38</td>\n",
       "      <td>1,693.28</td>\n",
       "      <td>0.59</td>\n",
       "      <td>0.40</td>\n",
       "    </tr>\n",
       "  </tbody>\n",
       "</table>\n",
       "</div>"
      ],
      "text/plain": [
       "               Model Name     MAE  MAPE     RMSE  R2_score  Cv Score\n",
       "0                     lgbm 697.90  0.22 1,379.27      0.73      0.69\n",
       "0                      xgb 726.98  0.23 1,397.57      0.72      0.68\n",
       "0  Random Forest Regressor 670.49  0.22 1,357.56      0.73      0.65\n",
       "0                    Lasso 990.39  0.38 1,693.26      0.59      0.41\n",
       "0        Linear Regression 990.42  0.38 1,693.28      0.59      0.40"
      ]
     },
     "execution_count": 409,
     "metadata": {},
     "output_type": "execute_result"
    }
   ],
   "source": [
    "pd.concat( [lr_metrics_cv, lrr_result_cv, rf_result_cv , lgbm_cv , result_xgb] , axis = 0 ).sort_values( by = 'Cv Score'\n",
    " , ascending = False)"
   ]
  },
  {
   "cell_type": "markdown",
   "id": "6595b7a7",
   "metadata": {},
   "source": [
    "# 8.0 Validação com dados nunca vistos"
   ]
  },
  {
   "cell_type": "markdown",
   "id": "7380922e",
   "metadata": {},
   "source": [
    "## 8.1 Criando a classe Idealista"
   ]
  },
  {
   "cell_type": "code",
   "execution_count": 410,
   "id": "22968dc6",
   "metadata": {
    "ExecuteTime": {
     "end_time": "2024-02-04T15:35:38.219031Z",
     "start_time": "2024-02-04T15:35:38.185161Z"
    }
   },
   "outputs": [],
   "source": [
    "class Idealista:\n",
    "    def __init__( self ):\n",
    "        self.df_region = pd.read_csv( 'datasets/df_region.csv' )\n",
    "        \n",
    "      \n",
    "    def transform_data(self, df, colunas_irrelevantes ):\n",
    "\n",
    "        cols_old = df.columns.to_list()\n",
    "\n",
    "        # def função snake_case\n",
    "        snake_case = lambda x: inflection.underscore( x )\n",
    "\n",
    "        # defino as novas colunas\n",
    "        cols_new = list(map( snake_case, cols_old )) \n",
    "\n",
    "        # atribuo as novas colunas ao df\n",
    "        df.columns = cols_new\n",
    "\n",
    "        # removo as linhas em branco que possam ter vindo na extração\n",
    "        df = df.loc[~ df['property_code'].isna() , : ]\n",
    "\n",
    "        # removo duplicadas\n",
    "        df = df.drop_duplicates( subset= ['property_code'], keep = 'last' )\n",
    "\n",
    "        # preencho os vazios\n",
    "        df = fill_na( df )\n",
    "\n",
    "        # deleto as colunaas irrelevantes\n",
    "        df = delete_columns( df , colunas_irrelevantes )\n",
    "   \n",
    "        return df\n",
    "\n",
    "\n",
    "#=======================================================================================================================#\n",
    "\n",
    "    def feature_engineering(self, df , transform_data = False, merge_datasets = False   ):\n",
    "        \n",
    "        if transform_data and merge_datasets == False :\n",
    "            \n",
    "            # mes\n",
    "            df['datetime_scrapy'] = pd.to_datetime( df['datetime_scrapy'] )\n",
    "            df['month'] = df['datetime_scrapy'].dt.month \n",
    "\n",
    "            # ano\n",
    "            df['year'] = df['datetime_scrapy'].dt.year\n",
    "\n",
    "            # excluir a coluna datetime\n",
    "            df = df.drop( 'datetime_scrapy', axis = 1 )\n",
    "\n",
    "            print( 'Dados Transformados' )\n",
    "\n",
    "            return df\n",
    "        \n",
    "    \n",
    "        if merge_datasets == True and transform_data == False:\n",
    "        \n",
    "            # Df com a média de preço por município\n",
    "            df_municipality_mean_price = self.df_region.groupby('municipality')[['price']].mean().reset_index()\n",
    "\n",
    "            # alteração nome coluna\n",
    "            df_municipality_mean_price = df_municipality_mean_price.rename(columns={'price': 'municipality_mean_price'})\n",
    "\n",
    "            # exportar para csv\n",
    "            #d f2_municipality_mean_price.to_csv( 'datasets/municipality.csv' )\n",
    "\n",
    "            # acrescentando a coluna ao df2\n",
    "            df = pd.merge( df, df_municipality_mean_price, on = 'municipality' , how = 'left' )\n",
    "\n",
    "#======================================================================================================================#\n",
    "\n",
    "            # calculando a média por 'province'\n",
    "            df2_province_mean_price = self.df_region.groupby( 'province' )[['price']].mean().reset_index().rename( columns = { 'price': 'province_mean_price' } )\n",
    "\n",
    "            # exportando para csv\n",
    "            # df2_province_mean_price.to_csv( 'datasets/province.csv' )\n",
    "\n",
    "            # acrescentando a coluna ao df2\n",
    "            df = pd.merge( df, df2_province_mean_price , on = 'province' , how = 'left' )\n",
    "\n",
    "    #=======================================================================================================================#\n",
    "\n",
    "            # calculando média por district\n",
    "            df2_district_mean_price = self.df_region.groupby( 'district' )[['price']].median().reset_index().rename( columns = { 'price' : 'district_mean_price' } )\n",
    "\n",
    "            # exportando para csv \n",
    "            #df2_district_mean_price.to_csv( 'datasets/district.csv' )\n",
    "\n",
    "            # acrescentando a coluna ao df2\n",
    "            df = pd.merge( df , df2_district_mean_price , on = 'district', how = 'left' )\n",
    "\n",
    "            print( 'Datasets combinados com preços regioes' )\n",
    "\n",
    "            return df\n",
    "    \n",
    "        if transform_data == True and merge_datasets == True:\n",
    "\n",
    "            # mes\n",
    "            df['datetime_scrapy'] = pd.to_datetime( df['datetime_scrapy'] )\n",
    "            df['month'] = df['datetime_scrapy'].dt.month \n",
    "\n",
    "            # ano\n",
    "            df['year'] = df['datetime_scrapy'].dt.year\n",
    "\n",
    "            # excluir a coluna datetime\n",
    "            df = df.drop( 'datetime_scrapy', axis = 1 )\n",
    "\n",
    "            # Df com a média de preço por município\n",
    "            df_municipality_mean_price = self.df_region.groupby('municipality')[['price']].mean().reset_index()\n",
    "\n",
    "            # alteração nome coluna\n",
    "            df_municipality_mean_price = df_municipality_mean_price.rename(columns={'price': 'municipality_mean_price'})\n",
    "\n",
    "            # exportar para csv\n",
    "            #d f2_municipality_mean_price.to_csv( 'datasets/municipality.csv' )\n",
    "\n",
    "            # acrescentando a coluna ao df2\n",
    "            df = pd.merge( df, df_municipality_mean_price, on = 'municipality' , how = 'left' )\n",
    "\n",
    "    # ======================================================================================================================#\n",
    "\n",
    "            # calculando a média por 'province'\n",
    "            df2_province_mean_price = self.df_region.groupby( 'province' )[['price']].mean().reset_index().rename( columns = { 'price': 'province_mean_price' } )\n",
    "\n",
    "            # exportando para csv\n",
    "            # df2_province_mean_price.to_csv( 'datasets/province.csv' )\n",
    "\n",
    "            # acrescentando a coluna ao df2\n",
    "            df = pd.merge( df, df2_province_mean_price , on = 'province' , how = 'left' )\n",
    "\n",
    "    #=======================================================================================================================#\n",
    "\n",
    "            # calculando média por district\n",
    "            df2_district_mean_price = self.df_region.groupby( 'district' )[['price']].median().reset_index().rename( columns = { 'price' : 'district_mean_price' } )\n",
    "\n",
    "            # exportando para csv \n",
    "            #df2_district_mean_price.to_csv( 'datasets/district.csv' )\n",
    "\n",
    "            # acrescentando a coluna ao df2\n",
    "            df = pd.merge( df , df2_district_mean_price , on = 'district', how = 'left' )\n",
    "\n",
    "            print( 'datasets combinados e dados transformados' )\n",
    "        \n",
    "            return df\n",
    "        \n",
    "        else:\n",
    "\n",
    "            print( 'Nenhuma Transformação' )\n",
    "\n",
    "            return df\n",
    "            \n",
    "#=======================================================================================================================#\n",
    "    \n",
    "    def filter_variables(self, df, filter_variables = False):\n",
    "    \n",
    "        if filter_variables:\n",
    "\n",
    "            # Vou querer saber somente os preços na province de Lisboa\n",
    "            df = df.loc[ df['province'] == 'Lisboa' , :  ]\n",
    "\n",
    "            # vou querer somente as habitações que tenham de 0 a no máximo 4 quartos\n",
    "            df = df.loc[ df['rooms'].isin( [ 0,1,2,3,4 ] ) , : ]\n",
    "\n",
    "            print('Variavies filtradas')\n",
    "\n",
    "            return df\n",
    "\n",
    "        else:\n",
    "\n",
    "            print('Variavies não filtradas')\n",
    "\n",
    "            return df\n",
    "\n",
    "#=======================================================================================================================#\n",
    "\n",
    "    # função para remover outliers\n",
    "    def remove_outliers(self, df, coluna = None ,  keep_outliers = True ):\n",
    "\n",
    "        if keep_outliers:\n",
    "            print( 'Outliers mantidos' )\n",
    "            return df\n",
    "\n",
    "        else:\n",
    "            # variavel resposta sem outliers\n",
    "            df = remover_outliers( df4 , coluna )\n",
    "            print('Outliers removidos')\n",
    "            return df\n",
    "\n",
    "#=======================================================================================================================#\n",
    "    \n",
    "    def rescaling_data(self, df, rescale = False ):\n",
    "\n",
    "        if rescale:\n",
    "            rs = RobustScaler() # usado para variáveis que tem outliers\n",
    "            mms = MinMaxScaler() \n",
    "\n",
    "            # distance\n",
    "            df['distance'] = mms.fit_transform( df[['distance']].values )\n",
    "\n",
    "            print('Rescaled')\n",
    "\n",
    "            return  df\n",
    "        else:\n",
    "            print('Not rescaled')\n",
    "\n",
    "            return df\n",
    "\n",
    "#=======================================================================================================================#\n",
    "\n",
    "    def encoding( df ):\n",
    "\n",
    "        # floor - substituo os andares com letras\n",
    "        df['floor'] = df['floor'].replace( ['bj','st','ss','en'], 0 )\n",
    "\n",
    "        # transformo em inteiros\n",
    "        df['floor'] = df['floor'].astype( 'int64' )\n",
    "\n",
    "        #property_type - label\n",
    "        property_encoder = LabelEncoder()\n",
    "\n",
    "        df['property_type'] = property_encoder.fit_transform( df['property_type'] )\n",
    "\n",
    "        # address - label\n",
    "        address_encoder = LabelEncoder()\n",
    "        df['address'] = address_encoder.fit_transform( df['address'] )\n",
    "\n",
    "        # district - label\n",
    "        district_encoder = LabelEncoder()\n",
    "        df['district'] = district_encoder.fit_transform( df['district'] )\n",
    "\n",
    "        # municipality - label\n",
    "        municipality_encoder = LabelEncoder()\n",
    "        df['municipality'] = municipality_encoder.fit_transform( df['municipality'] )\n",
    "\n",
    "        # Show address\n",
    "        encoding = {True: 1 , False: 0}\n",
    "        df['show_address'] = df['show_address'].apply( lambda x : 1 if x == True else 0 )\n",
    "\n",
    "        # description\n",
    "        df['description'] = df['description'].apply( lambda x : len(x) )\n",
    "\n",
    "        # has_video\n",
    "        encoding = {True: 1 , False: 0}\n",
    "        df['has_video'] = df['has_video'].map( encoding )\n",
    "\n",
    "        # status\n",
    "        status_dict = {'good' : 1, 'renew' :2, 'newdevelopment' : 3}\n",
    "        df['status'] = df['status'].map( status_dict )\n",
    "\n",
    "        # new_development\n",
    "        encoding = {True: 1 , False: 0}\n",
    "        df['new_development'] = df['new_development'].map( encoding )\n",
    "\n",
    "        # detailed type - label\n",
    "        detailed_type_encoder = LabelEncoder()\n",
    "\n",
    "        df['detailed_type'] = df['detailed_type'].apply(lambda x: ast.literal_eval(x) )\n",
    "        df['detailed_type'] = df['detailed_type'].apply(lambda x: x['typology'] )\n",
    "        df['detailed_type'] = detailed_type_encoder.fit_transform( df['detailed_type'] )\n",
    "\n",
    "        # suggested text\n",
    "        df['suggested_texts'] = df['suggested_texts'].apply( lambda x : ast.literal_eval(x) )\n",
    "        df['suggested_texts'] = df['suggested_texts'].apply( lambda x : x['title'] )\n",
    "        df['suggested_texts'] = df['suggested_texts'].apply( lambda x : len(x) )\n",
    "\n",
    "        # hasplan\n",
    "        encoding = {True: 1 , False: 0}\n",
    "        df['has_plan'] = df['has_plan'].map( encoding )\n",
    "\n",
    "        # has3_d_tour\n",
    "        encoding = {True: 1 , False: 0}\n",
    "        df['has3_d_tour'] = df['has3_d_tour'].map( encoding )\n",
    "\n",
    "        # has360\n",
    "        encoding = {True: 1 , False: 0}\n",
    "        df['has360'] = df['has360'].map( encoding )\n",
    "\n",
    "        #parking_space\n",
    "        encoding = {True: 1 , False: 0}\n",
    "        df['parking_space'] = df['parking_space'].apply(lambda x: ast.literal_eval(x) if x != 0 else x ) \n",
    "        df['parking_space'] = df['parking_space'].apply(lambda x: x['hasParkingSpace'] if x != 0 else x ) \n",
    "        df['parking_space'] = df['parking_space'].map( encoding )\n",
    "\n",
    "        # province \n",
    "        encoder = {'Lisboa': 1,'Setúbal' : 2, 'Santarém' : 3}\n",
    "        df['province'] = df['province'].map( encoder )\n",
    "\n",
    "        # has_staging\n",
    "        df['has_staging'] = df['has_staging'].apply( lambda x: 1 if x   else 0   )\n",
    "\n",
    "        # top_new_development\n",
    "        df['top_new_development'] = df['top_new_development'].apply( lambda x: 1 if x  else 0 )\n",
    "\n",
    "        return df\n",
    "   "
   ]
  },
  {
   "cell_type": "code",
   "execution_count": 411,
   "id": "b5a74e59",
   "metadata": {
    "ExecuteTime": {
     "end_time": "2024-02-04T15:38:03.901550Z",
     "start_time": "2024-02-04T15:35:44.808159Z"
    }
   },
   "outputs": [
    {
     "name": "stderr",
     "output_type": "stream",
     "text": [
      "C:\\Users\\oscar\\AppData\\Local\\Temp\\ipykernel_19372\\2764531685.py:3: DeprecationWarning: In a future version, `df.iloc[:, i] = newvals` will attempt to set the values inplace instead of always setting a new array. To retain the old behavior, use either `df[df.columns[i]] = newvals` or, if columns are non-unique, `df.isetitem(i, newvals)`\n",
      "  df.loc[:,'thumbnail'] = np.where( df['thumbnail'].isna(), 0 , 1 )\n"
     ]
    },
    {
     "name": "stdout",
     "output_type": "stream",
     "text": [
      "datasets combinados e dados transformados\n",
      "Variavies não filtradas\n",
      "Outliers mantidos\n",
      "Not rescaled\n"
     ]
    }
   ],
   "source": [
    "# instancia a classe Idealista\n",
    "idealista = Idealista()\n",
    "\n",
    "# limpando os dados\n",
    "df1_val = idealista.transform_data( df_teste , colunas_irrelevantes )\n",
    "\n",
    "# feature engineering\n",
    "df2_val = idealista.feature_engineering( df1_val , transform_data = True, merge_datasets = True )\n",
    "\n",
    "# filtrar variáveis\n",
    "df3_val = idealista.filter_variables( df2_val )\n",
    "\n",
    "# reomver outliers\n",
    "df4_val = idealista.remove_outliers( df3_val )\n",
    "\n",
    "# reescalar dados\n",
    "df5_val = rescaling_data( df4_val )\n",
    "\n",
    "# encodar dados\n",
    "df6_val = encoding( df5_val )"
   ]
  },
  {
   "cell_type": "code",
   "execution_count": 413,
   "id": "1e11cd96",
   "metadata": {
    "ExecuteTime": {
     "end_time": "2024-02-04T15:38:10.151691Z",
     "start_time": "2024-02-04T15:38:10.136486Z"
    }
   },
   "outputs": [
    {
     "data": {
      "text/html": [
       "<div>\n",
       "<style scoped>\n",
       "    .dataframe tbody tr th:only-of-type {\n",
       "        vertical-align: middle;\n",
       "    }\n",
       "\n",
       "    .dataframe tbody tr th {\n",
       "        vertical-align: top;\n",
       "    }\n",
       "\n",
       "    .dataframe thead th {\n",
       "        text-align: right;\n",
       "    }\n",
       "</style>\n",
       "<table border=\"1\" class=\"dataframe\">\n",
       "  <thead>\n",
       "    <tr style=\"text-align: right;\">\n",
       "      <th></th>\n",
       "      <th>thumbnail</th>\n",
       "      <th>num_photos</th>\n",
       "      <th>floor</th>\n",
       "      <th>price</th>\n",
       "      <th>property_type</th>\n",
       "      <th>size</th>\n",
       "      <th>rooms</th>\n",
       "      <th>bathrooms</th>\n",
       "      <th>address</th>\n",
       "      <th>province</th>\n",
       "      <th>...</th>\n",
       "      <th>has360</th>\n",
       "      <th>has_staging</th>\n",
       "      <th>top_new_development</th>\n",
       "      <th>parking_space</th>\n",
       "      <th>pagina</th>\n",
       "      <th>month</th>\n",
       "      <th>year</th>\n",
       "      <th>municipality_mean_price</th>\n",
       "      <th>province_mean_price</th>\n",
       "      <th>district_mean_price</th>\n",
       "    </tr>\n",
       "  </thead>\n",
       "  <tbody>\n",
       "    <tr>\n",
       "      <th>0</th>\n",
       "      <td>1</td>\n",
       "      <td>15.00</td>\n",
       "      <td>0</td>\n",
       "      <td>1,300.00</td>\n",
       "      <td>3</td>\n",
       "      <td>100.00</td>\n",
       "      <td>2.00</td>\n",
       "      <td>1.00</td>\n",
       "      <td>19</td>\n",
       "      <td>2</td>\n",
       "      <td>...</td>\n",
       "      <td>0</td>\n",
       "      <td>0</td>\n",
       "      <td>0</td>\n",
       "      <td>0</td>\n",
       "      <td>1.00</td>\n",
       "      <td>3</td>\n",
       "      <td>2023</td>\n",
       "      <td>1,678.10</td>\n",
       "      <td>1,939.18</td>\n",
       "      <td>1,350.00</td>\n",
       "    </tr>\n",
       "    <tr>\n",
       "      <th>1</th>\n",
       "      <td>1</td>\n",
       "      <td>44.00</td>\n",
       "      <td>2</td>\n",
       "      <td>3,000.00</td>\n",
       "      <td>3</td>\n",
       "      <td>114.00</td>\n",
       "      <td>2.00</td>\n",
       "      <td>2.00</td>\n",
       "      <td>1027</td>\n",
       "      <td>1</td>\n",
       "      <td>...</td>\n",
       "      <td>0</td>\n",
       "      <td>0</td>\n",
       "      <td>0</td>\n",
       "      <td>1</td>\n",
       "      <td>1.00</td>\n",
       "      <td>3</td>\n",
       "      <td>2023</td>\n",
       "      <td>1,967.66</td>\n",
       "      <td>2,962.22</td>\n",
       "      <td>1,650.00</td>\n",
       "    </tr>\n",
       "    <tr>\n",
       "      <th>2</th>\n",
       "      <td>1</td>\n",
       "      <td>25.00</td>\n",
       "      <td>0</td>\n",
       "      <td>2,300.00</td>\n",
       "      <td>3</td>\n",
       "      <td>172.00</td>\n",
       "      <td>4.00</td>\n",
       "      <td>3.00</td>\n",
       "      <td>814</td>\n",
       "      <td>1</td>\n",
       "      <td>...</td>\n",
       "      <td>0</td>\n",
       "      <td>0</td>\n",
       "      <td>0</td>\n",
       "      <td>0</td>\n",
       "      <td>1.00</td>\n",
       "      <td>3</td>\n",
       "      <td>2023</td>\n",
       "      <td>3,252.89</td>\n",
       "      <td>2,962.22</td>\n",
       "      <td>2,700.00</td>\n",
       "    </tr>\n",
       "    <tr>\n",
       "      <th>3</th>\n",
       "      <td>1</td>\n",
       "      <td>28.00</td>\n",
       "      <td>0</td>\n",
       "      <td>1,000.00</td>\n",
       "      <td>3</td>\n",
       "      <td>126.00</td>\n",
       "      <td>3.00</td>\n",
       "      <td>2.00</td>\n",
       "      <td>313</td>\n",
       "      <td>1</td>\n",
       "      <td>...</td>\n",
       "      <td>0</td>\n",
       "      <td>0</td>\n",
       "      <td>0</td>\n",
       "      <td>0</td>\n",
       "      <td>1.00</td>\n",
       "      <td>3</td>\n",
       "      <td>2023</td>\n",
       "      <td>1,066.11</td>\n",
       "      <td>2,962.22</td>\n",
       "      <td>1,000.00</td>\n",
       "    </tr>\n",
       "    <tr>\n",
       "      <th>4</th>\n",
       "      <td>1</td>\n",
       "      <td>22.00</td>\n",
       "      <td>2</td>\n",
       "      <td>1,500.00</td>\n",
       "      <td>3</td>\n",
       "      <td>75.00</td>\n",
       "      <td>2.00</td>\n",
       "      <td>1.00</td>\n",
       "      <td>1054</td>\n",
       "      <td>1</td>\n",
       "      <td>...</td>\n",
       "      <td>0</td>\n",
       "      <td>0</td>\n",
       "      <td>0</td>\n",
       "      <td>1</td>\n",
       "      <td>1.00</td>\n",
       "      <td>3</td>\n",
       "      <td>2023</td>\n",
       "      <td>3,629.35</td>\n",
       "      <td>2,962.22</td>\n",
       "      <td>1,750.00</td>\n",
       "    </tr>\n",
       "  </tbody>\n",
       "</table>\n",
       "<p>5 rows × 35 columns</p>\n",
       "</div>"
      ],
      "text/plain": [
       "   thumbnail  num_photos  floor    price  property_type   size  rooms  \\\n",
       "0          1       15.00      0 1,300.00              3 100.00   2.00   \n",
       "1          1       44.00      2 3,000.00              3 114.00   2.00   \n",
       "2          1       25.00      0 2,300.00              3 172.00   4.00   \n",
       "3          1       28.00      0 1,000.00              3 126.00   3.00   \n",
       "4          1       22.00      2 1,500.00              3  75.00   2.00   \n",
       "\n",
       "   bathrooms  address  province  ...  has360  has_staging  \\\n",
       "0       1.00       19         2  ...       0            0   \n",
       "1       2.00     1027         1  ...       0            0   \n",
       "2       3.00      814         1  ...       0            0   \n",
       "3       2.00      313         1  ...       0            0   \n",
       "4       1.00     1054         1  ...       0            0   \n",
       "\n",
       "   top_new_development  parking_space  pagina  month  year  \\\n",
       "0                    0              0    1.00      3  2023   \n",
       "1                    0              1    1.00      3  2023   \n",
       "2                    0              0    1.00      3  2023   \n",
       "3                    0              0    1.00      3  2023   \n",
       "4                    0              1    1.00      3  2023   \n",
       "\n",
       "   municipality_mean_price  province_mean_price  district_mean_price  \n",
       "0                 1,678.10             1,939.18             1,350.00  \n",
       "1                 1,967.66             2,962.22             1,650.00  \n",
       "2                 3,252.89             2,962.22             2,700.00  \n",
       "3                 1,066.11             2,962.22             1,000.00  \n",
       "4                 3,629.35             2,962.22             1,750.00  \n",
       "\n",
       "[5 rows x 35 columns]"
      ]
     },
     "execution_count": 413,
     "metadata": {},
     "output_type": "execute_result"
    }
   ],
   "source": [
    "# verificando os dados nunca visto tratados\n",
    "df6_val.head()"
   ]
  },
  {
   "cell_type": "code",
   "execution_count": 414,
   "id": "ae80d822",
   "metadata": {
    "ExecuteTime": {
     "end_time": "2024-02-04T15:38:13.581792Z",
     "start_time": "2024-02-04T15:38:13.567938Z"
    }
   },
   "outputs": [],
   "source": [
    "# fazendo predição com o melhor modelo treinado\n",
    "X_teste_final = df6_val.drop('price', axis = 1)\n",
    "y_teste_final = df6_val['price']\n",
    "\n",
    "y_hat_final = bst.predict( X_teste_final )\n"
   ]
  },
  {
   "cell_type": "markdown",
   "id": "cc803c36",
   "metadata": {
    "ExecuteTime": {
     "end_time": "2024-02-04T16:13:37.736510Z",
     "start_time": "2024-02-04T16:13:37.733647Z"
    }
   },
   "source": [
    "## 8.1.2 Feature Importances"
   ]
  },
  {
   "cell_type": "code",
   "execution_count": 456,
   "id": "da8e904e",
   "metadata": {
    "ExecuteTime": {
     "end_time": "2024-02-04T16:10:49.486589Z",
     "start_time": "2024-02-04T16:10:49.149456Z"
    }
   },
   "outputs": [
    {
     "data": {
      "text/plain": [
       "<Figure size 1000x600 with 0 Axes>"
      ]
     },
     "metadata": {},
     "output_type": "display_data"
    },
    {
     "data": {
      "image/png": "[encoded data removed]",
      "text/plain": [
       "<Figure size 640x480 with 1 Axes>"
      ]
     },
     "metadata": {},
     "output_type": "display_data"
    }
   ],
   "source": [
    "# Obter a importância das características\n",
    "feature_importance_values = bst.feature_importance(importance_type='split')\n",
    "\n",
    "# Criar um DataFrame para facilitar a visualização\n",
    "feature_importances = pd.DataFrame({\n",
    "    'feature': X_teste_final.columns.to_list(),\n",
    "    'importance': feature_importance_values\n",
    "})\n",
    "\n",
    "# Ordenar as características pela importância\n",
    "feature_importances = feature_importances.sort_values('importance', ascending=False)\n",
    "\n",
    "# Visualizar a importância das características\n",
    "plt.figure(figsize=(10, 6))\n",
    "lgb.plot_importance(bst, importance_type='split', max_num_features=30)\n",
    "plt.title('Feature Importance (Split)')\n",
    "plt.show()"
   ]
  },
  {
   "cell_type": "code",
   "execution_count": 415,
   "id": "7ee14585",
   "metadata": {
    "ExecuteTime": {
     "end_time": "2024-02-04T15:38:15.923657Z",
     "start_time": "2024-02-04T15:38:15.912072Z"
    }
   },
   "outputs": [
    {
     "data": {
      "text/html": [
       "<div>\n",
       "<style scoped>\n",
       "    .dataframe tbody tr th:only-of-type {\n",
       "        vertical-align: middle;\n",
       "    }\n",
       "\n",
       "    .dataframe tbody tr th {\n",
       "        vertical-align: top;\n",
       "    }\n",
       "\n",
       "    .dataframe thead th {\n",
       "        text-align: right;\n",
       "    }\n",
       "</style>\n",
       "<table border=\"1\" class=\"dataframe\">\n",
       "  <thead>\n",
       "    <tr style=\"text-align: right;\">\n",
       "      <th></th>\n",
       "      <th>Model Name</th>\n",
       "      <th>MAE</th>\n",
       "      <th>MAPE</th>\n",
       "      <th>RMSE</th>\n",
       "      <th>R2_score</th>\n",
       "    </tr>\n",
       "  </thead>\n",
       "  <tbody>\n",
       "    <tr>\n",
       "      <th>0</th>\n",
       "      <td>lgbm result</td>\n",
       "      <td>611.53</td>\n",
       "      <td>0.21</td>\n",
       "      <td>1,158.83</td>\n",
       "      <td>0.82</td>\n",
       "    </tr>\n",
       "  </tbody>\n",
       "</table>\n",
       "</div>"
      ],
      "text/plain": [
       "   Model Name     MAE  MAPE     RMSE  R2_score\n",
       "0  lgbm result 611.53  0.21 1,158.83      0.82"
      ]
     },
     "execution_count": 415,
     "metadata": {},
     "output_type": "execute_result"
    }
   ],
   "source": [
    "df6_val['pred'] = y_hat_final\n",
    "\n",
    "# performance\n",
    "lgbm_result = ml_error( 'lgbm result',  y_teste_final  ,  y_hat_final  )\n",
    "lgbm_result"
   ]
  },
  {
   "cell_type": "code",
   "execution_count": 459,
   "id": "aec7a501",
   "metadata": {
    "ExecuteTime": {
     "end_time": "2024-02-04T16:13:58.892067Z",
     "start_time": "2024-02-04T16:13:58.878150Z"
    },
    "scrolled": true
   },
   "outputs": [
    {
     "data": {
      "text/html": [
       "<div>\n",
       "<style scoped>\n",
       "    .dataframe tbody tr th:only-of-type {\n",
       "        vertical-align: middle;\n",
       "    }\n",
       "\n",
       "    .dataframe tbody tr th {\n",
       "        vertical-align: top;\n",
       "    }\n",
       "\n",
       "    .dataframe thead th {\n",
       "        text-align: right;\n",
       "    }\n",
       "</style>\n",
       "<table border=\"1\" class=\"dataframe\">\n",
       "  <thead>\n",
       "    <tr style=\"text-align: right;\">\n",
       "      <th></th>\n",
       "      <th>price</th>\n",
       "      <th>pred</th>\n",
       "      <th>erro</th>\n",
       "      <th>erro_abs</th>\n",
       "    </tr>\n",
       "  </thead>\n",
       "  <tbody>\n",
       "    <tr>\n",
       "      <th>611</th>\n",
       "      <td>35,000.00</td>\n",
       "      <td>19,337.48</td>\n",
       "      <td>-15,662.52</td>\n",
       "      <td>15,662.52</td>\n",
       "    </tr>\n",
       "    <tr>\n",
       "      <th>1678</th>\n",
       "      <td>20,000.00</td>\n",
       "      <td>6,939.48</td>\n",
       "      <td>-13,060.52</td>\n",
       "      <td>13,060.52</td>\n",
       "    </tr>\n",
       "    <tr>\n",
       "      <th>1977</th>\n",
       "      <td>29,000.00</td>\n",
       "      <td>19,568.08</td>\n",
       "      <td>-9,431.92</td>\n",
       "      <td>9,431.92</td>\n",
       "    </tr>\n",
       "    <tr>\n",
       "      <th>572</th>\n",
       "      <td>15,000.00</td>\n",
       "      <td>5,734.06</td>\n",
       "      <td>-9,265.94</td>\n",
       "      <td>9,265.94</td>\n",
       "    </tr>\n",
       "    <tr>\n",
       "      <th>353</th>\n",
       "      <td>15,000.00</td>\n",
       "      <td>6,435.86</td>\n",
       "      <td>-8,564.14</td>\n",
       "      <td>8,564.14</td>\n",
       "    </tr>\n",
       "    <tr>\n",
       "      <th>1310</th>\n",
       "      <td>18,000.00</td>\n",
       "      <td>10,244.92</td>\n",
       "      <td>-7,755.08</td>\n",
       "      <td>7,755.08</td>\n",
       "    </tr>\n",
       "    <tr>\n",
       "      <th>308</th>\n",
       "      <td>15,000.00</td>\n",
       "      <td>7,596.85</td>\n",
       "      <td>-7,403.15</td>\n",
       "      <td>7,403.15</td>\n",
       "    </tr>\n",
       "    <tr>\n",
       "      <th>1038</th>\n",
       "      <td>14,000.00</td>\n",
       "      <td>6,879.37</td>\n",
       "      <td>-7,120.63</td>\n",
       "      <td>7,120.63</td>\n",
       "    </tr>\n",
       "    <tr>\n",
       "      <th>527</th>\n",
       "      <td>25,000.00</td>\n",
       "      <td>18,141.71</td>\n",
       "      <td>-6,858.29</td>\n",
       "      <td>6,858.29</td>\n",
       "    </tr>\n",
       "    <tr>\n",
       "      <th>1936</th>\n",
       "      <td>18,000.00</td>\n",
       "      <td>11,403.19</td>\n",
       "      <td>-6,596.81</td>\n",
       "      <td>6,596.81</td>\n",
       "    </tr>\n",
       "    <tr>\n",
       "      <th>1147</th>\n",
       "      <td>12,000.00</td>\n",
       "      <td>5,726.64</td>\n",
       "      <td>-6,273.36</td>\n",
       "      <td>6,273.36</td>\n",
       "    </tr>\n",
       "    <tr>\n",
       "      <th>938</th>\n",
       "      <td>18,000.00</td>\n",
       "      <td>11,733.64</td>\n",
       "      <td>-6,266.36</td>\n",
       "      <td>6,266.36</td>\n",
       "    </tr>\n",
       "    <tr>\n",
       "      <th>57</th>\n",
       "      <td>2,500.00</td>\n",
       "      <td>8,451.01</td>\n",
       "      <td>5,951.01</td>\n",
       "      <td>5,951.01</td>\n",
       "    </tr>\n",
       "    <tr>\n",
       "      <th>1340</th>\n",
       "      <td>8,000.00</td>\n",
       "      <td>13,454.06</td>\n",
       "      <td>5,454.06</td>\n",
       "      <td>5,454.06</td>\n",
       "    </tr>\n",
       "    <tr>\n",
       "      <th>1100</th>\n",
       "      <td>14,000.00</td>\n",
       "      <td>8,567.18</td>\n",
       "      <td>-5,432.82</td>\n",
       "      <td>5,432.82</td>\n",
       "    </tr>\n",
       "    <tr>\n",
       "      <th>899</th>\n",
       "      <td>7,500.00</td>\n",
       "      <td>2,302.72</td>\n",
       "      <td>-5,197.28</td>\n",
       "      <td>5,197.28</td>\n",
       "    </tr>\n",
       "    <tr>\n",
       "      <th>1959</th>\n",
       "      <td>5,900.00</td>\n",
       "      <td>11,047.19</td>\n",
       "      <td>5,147.19</td>\n",
       "      <td>5,147.19</td>\n",
       "    </tr>\n",
       "    <tr>\n",
       "      <th>910</th>\n",
       "      <td>20,000.00</td>\n",
       "      <td>14,944.34</td>\n",
       "      <td>-5,055.66</td>\n",
       "      <td>5,055.66</td>\n",
       "    </tr>\n",
       "    <tr>\n",
       "      <th>477</th>\n",
       "      <td>1,500.00</td>\n",
       "      <td>6,481.29</td>\n",
       "      <td>4,981.29</td>\n",
       "      <td>4,981.29</td>\n",
       "    </tr>\n",
       "    <tr>\n",
       "      <th>1835</th>\n",
       "      <td>9,000.00</td>\n",
       "      <td>4,041.22</td>\n",
       "      <td>-4,958.78</td>\n",
       "      <td>4,958.78</td>\n",
       "    </tr>\n",
       "  </tbody>\n",
       "</table>\n",
       "</div>"
      ],
      "text/plain": [
       "         price      pred       erro  erro_abs\n",
       "611  35,000.00 19,337.48 -15,662.52 15,662.52\n",
       "1678 20,000.00  6,939.48 -13,060.52 13,060.52\n",
       "1977 29,000.00 19,568.08  -9,431.92  9,431.92\n",
       "572  15,000.00  5,734.06  -9,265.94  9,265.94\n",
       "353  15,000.00  6,435.86  -8,564.14  8,564.14\n",
       "1310 18,000.00 10,244.92  -7,755.08  7,755.08\n",
       "308  15,000.00  7,596.85  -7,403.15  7,403.15\n",
       "1038 14,000.00  6,879.37  -7,120.63  7,120.63\n",
       "527  25,000.00 18,141.71  -6,858.29  6,858.29\n",
       "1936 18,000.00 11,403.19  -6,596.81  6,596.81\n",
       "1147 12,000.00  5,726.64  -6,273.36  6,273.36\n",
       "938  18,000.00 11,733.64  -6,266.36  6,266.36\n",
       "57    2,500.00  8,451.01   5,951.01  5,951.01\n",
       "1340  8,000.00 13,454.06   5,454.06  5,454.06\n",
       "1100 14,000.00  8,567.18  -5,432.82  5,432.82\n",
       "899   7,500.00  2,302.72  -5,197.28  5,197.28\n",
       "1959  5,900.00 11,047.19   5,147.19  5,147.19\n",
       "910  20,000.00 14,944.34  -5,055.66  5,055.66\n",
       "477   1,500.00  6,481.29   4,981.29  4,981.29\n",
       "1835  9,000.00  4,041.22  -4,958.78  4,958.78"
      ]
     },
     "execution_count": 459,
     "metadata": {},
     "output_type": "execute_result"
    }
   ],
   "source": [
    "# verificando as predições no dados de teste\n",
    "df6_val['erro'] = df6_val['pred'] - df6_val['price']      \n",
    "df6_val['erro_abs'] = df6_val['erro'].apply( lambda x : abs(x))\n",
    "df6_val.sort_values( by = 'price', ascending = False )\n",
    "df6_val[['price','pred','erro','erro_abs']].sort_values(by = 'erro_abs',ascending = False).head(20)\n"
   ]
  },
  {
   "cell_type": "code",
   "execution_count": 458,
   "id": "b46eda50",
   "metadata": {
    "ExecuteTime": {
     "end_time": "2024-02-04T16:13:55.080460Z",
     "start_time": "2024-02-04T16:13:55.069243Z"
    }
   },
   "outputs": [
    {
     "data": {
      "text/html": [
       "<div>\n",
       "<style scoped>\n",
       "    .dataframe tbody tr th:only-of-type {\n",
       "        vertical-align: middle;\n",
       "    }\n",
       "\n",
       "    .dataframe tbody tr th {\n",
       "        vertical-align: top;\n",
       "    }\n",
       "\n",
       "    .dataframe thead th {\n",
       "        text-align: right;\n",
       "    }\n",
       "</style>\n",
       "<table border=\"1\" class=\"dataframe\">\n",
       "  <thead>\n",
       "    <tr style=\"text-align: right;\">\n",
       "      <th></th>\n",
       "      <th>price</th>\n",
       "      <th>pred</th>\n",
       "      <th>erro</th>\n",
       "      <th>erro_abs</th>\n",
       "    </tr>\n",
       "  </thead>\n",
       "  <tbody>\n",
       "    <tr>\n",
       "      <th>1301</th>\n",
       "      <td>2,450.00</td>\n",
       "      <td>2,450.15</td>\n",
       "      <td>0.15</td>\n",
       "      <td>0.15</td>\n",
       "    </tr>\n",
       "    <tr>\n",
       "      <th>701</th>\n",
       "      <td>2,500.00</td>\n",
       "      <td>2,499.22</td>\n",
       "      <td>-0.78</td>\n",
       "      <td>0.78</td>\n",
       "    </tr>\n",
       "    <tr>\n",
       "      <th>98</th>\n",
       "      <td>4,800.00</td>\n",
       "      <td>4,800.80</td>\n",
       "      <td>0.80</td>\n",
       "      <td>0.80</td>\n",
       "    </tr>\n",
       "    <tr>\n",
       "      <th>84</th>\n",
       "      <td>1,550.00</td>\n",
       "      <td>1,549.07</td>\n",
       "      <td>-0.93</td>\n",
       "      <td>0.93</td>\n",
       "    </tr>\n",
       "    <tr>\n",
       "      <th>1328</th>\n",
       "      <td>1,350.00</td>\n",
       "      <td>1,348.98</td>\n",
       "      <td>-1.02</td>\n",
       "      <td>1.02</td>\n",
       "    </tr>\n",
       "    <tr>\n",
       "      <th>1372</th>\n",
       "      <td>3,500.00</td>\n",
       "      <td>3,498.73</td>\n",
       "      <td>-1.27</td>\n",
       "      <td>1.27</td>\n",
       "    </tr>\n",
       "    <tr>\n",
       "      <th>279</th>\n",
       "      <td>1,650.00</td>\n",
       "      <td>1,648.09</td>\n",
       "      <td>-1.91</td>\n",
       "      <td>1.91</td>\n",
       "    </tr>\n",
       "    <tr>\n",
       "      <th>1495</th>\n",
       "      <td>2,800.00</td>\n",
       "      <td>2,797.61</td>\n",
       "      <td>-2.39</td>\n",
       "      <td>2.39</td>\n",
       "    </tr>\n",
       "    <tr>\n",
       "      <th>651</th>\n",
       "      <td>5,000.00</td>\n",
       "      <td>4,997.36</td>\n",
       "      <td>-2.64</td>\n",
       "      <td>2.64</td>\n",
       "    </tr>\n",
       "    <tr>\n",
       "      <th>685</th>\n",
       "      <td>2,500.00</td>\n",
       "      <td>2,502.83</td>\n",
       "      <td>2.83</td>\n",
       "      <td>2.83</td>\n",
       "    </tr>\n",
       "    <tr>\n",
       "      <th>1721</th>\n",
       "      <td>2,500.00</td>\n",
       "      <td>2,497.08</td>\n",
       "      <td>-2.92</td>\n",
       "      <td>2.92</td>\n",
       "    </tr>\n",
       "    <tr>\n",
       "      <th>56</th>\n",
       "      <td>1,600.00</td>\n",
       "      <td>1,603.15</td>\n",
       "      <td>3.15</td>\n",
       "      <td>3.15</td>\n",
       "    </tr>\n",
       "    <tr>\n",
       "      <th>33</th>\n",
       "      <td>1,300.00</td>\n",
       "      <td>1,296.79</td>\n",
       "      <td>-3.21</td>\n",
       "      <td>3.21</td>\n",
       "    </tr>\n",
       "    <tr>\n",
       "      <th>1085</th>\n",
       "      <td>1,400.00</td>\n",
       "      <td>1,403.33</td>\n",
       "      <td>3.33</td>\n",
       "      <td>3.33</td>\n",
       "    </tr>\n",
       "    <tr>\n",
       "      <th>343</th>\n",
       "      <td>830.00</td>\n",
       "      <td>826.41</td>\n",
       "      <td>-3.59</td>\n",
       "      <td>3.59</td>\n",
       "    </tr>\n",
       "    <tr>\n",
       "      <th>1582</th>\n",
       "      <td>850.00</td>\n",
       "      <td>846.39</td>\n",
       "      <td>-3.61</td>\n",
       "      <td>3.61</td>\n",
       "    </tr>\n",
       "    <tr>\n",
       "      <th>966</th>\n",
       "      <td>11,000.00</td>\n",
       "      <td>10,996.36</td>\n",
       "      <td>-3.64</td>\n",
       "      <td>3.64</td>\n",
       "    </tr>\n",
       "    <tr>\n",
       "      <th>544</th>\n",
       "      <td>3,500.00</td>\n",
       "      <td>3,503.82</td>\n",
       "      <td>3.82</td>\n",
       "      <td>3.82</td>\n",
       "    </tr>\n",
       "    <tr>\n",
       "      <th>565</th>\n",
       "      <td>3,500.00</td>\n",
       "      <td>3,494.45</td>\n",
       "      <td>-5.55</td>\n",
       "      <td>5.55</td>\n",
       "    </tr>\n",
       "    <tr>\n",
       "      <th>615</th>\n",
       "      <td>2,450.00</td>\n",
       "      <td>2,455.68</td>\n",
       "      <td>5.68</td>\n",
       "      <td>5.68</td>\n",
       "    </tr>\n",
       "  </tbody>\n",
       "</table>\n",
       "</div>"
      ],
      "text/plain": [
       "         price      pred  erro  erro_abs\n",
       "1301  2,450.00  2,450.15  0.15      0.15\n",
       "701   2,500.00  2,499.22 -0.78      0.78\n",
       "98    4,800.00  4,800.80  0.80      0.80\n",
       "84    1,550.00  1,549.07 -0.93      0.93\n",
       "1328  1,350.00  1,348.98 -1.02      1.02\n",
       "1372  3,500.00  3,498.73 -1.27      1.27\n",
       "279   1,650.00  1,648.09 -1.91      1.91\n",
       "1495  2,800.00  2,797.61 -2.39      2.39\n",
       "651   5,000.00  4,997.36 -2.64      2.64\n",
       "685   2,500.00  2,502.83  2.83      2.83\n",
       "1721  2,500.00  2,497.08 -2.92      2.92\n",
       "56    1,600.00  1,603.15  3.15      3.15\n",
       "33    1,300.00  1,296.79 -3.21      3.21\n",
       "1085  1,400.00  1,403.33  3.33      3.33\n",
       "343     830.00    826.41 -3.59      3.59\n",
       "1582    850.00    846.39 -3.61      3.61\n",
       "966  11,000.00 10,996.36 -3.64      3.64\n",
       "544   3,500.00  3,503.82  3.82      3.82\n",
       "565   3,500.00  3,494.45 -5.55      5.55\n",
       "615   2,450.00  2,455.68  5.68      5.68"
      ]
     },
     "execution_count": 458,
     "metadata": {},
     "output_type": "execute_result"
    }
   ],
   "source": [
    "df6_val[['price','pred','erro','erro_abs']].sort_values(by = 'erro_abs',ascending = True).head(20)"
   ]
  }
 ],
 "metadata": {
  "kernelspec": {
   "display_name": "prices_houses_idealista",
   "language": "python",
   "name": "prices_houses_idealista"
  },
  "language_info": {
   "codemirror_mode": {
    "name": "ipython",
    "version": 3
   },
   "file_extension": ".py",
   "mimetype": "text/x-python",
   "name": "python",
   "nbconvert_exporter": "python",
   "pygments_lexer": "ipython3",
   "version": "3.11.0"
  }
 },
 "nbformat": 4,
 "nbformat_minor": 5
}

{
 "cells": [
  {
   "cell_type": "markdown",
   "id": "851311fc",
   "metadata": {
    "heading_collapsed": true
   },
   "source": [
    "# 0.0. IMPORTS"
   ]
  },
  {
   "cell_type": "code",
   "execution_count": 1,
   "id": "72c4dcf9",
   "metadata": {
    "ExecuteTime": {
     "end_time": "2024-02-29T20:40:08.147905Z",
     "start_time": "2024-02-29T20:40:05.117811Z"
    },
    "hidden": true
   },
   "outputs": [],
   "source": [
    "import pandas as pd\n",
    "import inflection\n",
    "import math\n",
    "import numpy as np\n",
    "import seaborn as sns\n",
    "import pathlib\n",
    "import seaborn as sns\n",
    "import ast\n",
    "import lightgbm as lgb\n",
    "import xgboost as xgb\n",
    "from scipy.stats       import chi2_contingency\n",
    "from category_encoders import TargetEncoder\n",
    "from sklearn          import preprocessing as pp\n",
    "import pickle\n",
    "import os\n",
    "\n",
    "from xgboost                  import XGBRegressor\n",
    "from lightgbm                 import LGBMRegressor\n",
    "from geopy.geocoders          import Nominatim\n",
    "from sqlalchemy               import create_engine, text\n",
    "from matplotlib               import pyplot as plt\n",
    "from sklearn.preprocessing    import RobustScaler, MinMaxScaler, LabelEncoder\n",
    "from boruta                   import BorutaPy\n",
    "from sklearn.ensemble         import RandomForestRegressor\n",
    "from sklearn.model_selection  import train_test_split\n",
    "from sklearn.linear_model     import LinearRegression,  Lasso\n",
    "from sklearn.metrics          import mean_absolute_error, mean_absolute_percentage_error, mean_squared_error,r2_score\n",
    "from sklearn.model_selection  import cross_val_score\n",
    "from sklearn.preprocessing    import LabelEncoder\n",
    "from sklearn.model_selection  import KFold"
   ]
  },
  {
   "cell_type": "markdown",
   "id": "7a896954",
   "metadata": {
    "hidden": true
   },
   "source": [
    "## 0.1.0 Helper Functions"
   ]
  },
  {
   "cell_type": "code",
   "execution_count": 2,
   "id": "55ba1cff",
   "metadata": {
    "ExecuteTime": {
     "end_time": "2024-02-29T20:40:08.168602Z",
     "start_time": "2024-02-29T20:40:08.149948Z"
    },
    "hidden": true
   },
   "outputs": [],
   "source": [
    "# função para consultar a api passando as coordenadas\n",
    "def find_mun( lat,long ):\n",
    "    \n",
    "    geolocator = Nominatim(user_agent=\"Oscar\")\n",
    "    \n",
    "    lat = str( lat )\n",
    "    \n",
    "    long = str( long )\n",
    "    \n",
    "    coord = lat + ',' + long\n",
    "\n",
    "    location = geolocator.reverse( coord  )\n",
    "    \n",
    "    if 'city_district' in location.raw['address']:\n",
    "        \n",
    "        return location.raw['address']['city_district']\n",
    "        \n",
    "    if 'suburb' in location.raw['address']:\n",
    "            \n",
    "        return location.raw['address']['suburb']\n",
    "            \n",
    "    if 'county' in location.raw['address']:\n",
    "            \n",
    "        return location.raw['address']['county']\n",
    "        \n",
    "    else:\n",
    "        \n",
    "        return 'not found'\n",
    "\n",
    "  \n",
    "def stats( df , excepto = [] ):\n",
    "    # separo as feautures numéricas\n",
    "    if excepto != \"\":\n",
    "    \n",
    "        num_attributes = df.select_dtypes( include = ['int64','float64'] )\n",
    "        \n",
    "        num_attributes = num_attributes.drop( excepto , axis = 1 ) \n",
    "        \n",
    "    else:\n",
    "        \n",
    "        num_attributes = df.select_dtypes( include = ['int64','float64'] )\n",
    "    # separo as features categoricas\n",
    "    num_categorical = df.select_dtypes( exclude = ['int64','float64','datetime64[ns]'] )\n",
    "\n",
    "\n",
    "    # medidas de tendencia central - media e mediana\n",
    "    ct1 = pd.DataFrame( num_attributes.apply( np.mean ) ).T # media\n",
    "\n",
    "    ct2 = pd.DataFrame( num_attributes.apply( np.median ) ).T # mediana\n",
    "\n",
    "    # dispersao - std, min , max , range, skew, kurtosis\n",
    "    d1 = pd.DataFrame( num_attributes.apply( np.std ) ).T # std\n",
    "    d2 = pd.DataFrame( num_attributes.apply( np.min ) ).T # minimo\n",
    "    d3 = pd.DataFrame( num_attributes.apply( np.max ) ).T # maximo\n",
    "    d4 = pd.DataFrame( num_attributes.apply( lambda x: x.max() - x.min() ) ).T # range\n",
    "    d5 = pd.DataFrame( num_attributes.apply( lambda x: x.skew() )).T # skew\n",
    "    d6 = pd.DataFrame( num_attributes.apply( lambda x : x.kurtosis() ) ).T # kurtosis\n",
    "\n",
    "    # concatenate - min , max , range,  media, median, std, skew , kurtosis\n",
    "    m = pd.concat( [ d2 , d3, d4 , ct1 , ct2 , d1,  d5 , d6 ] ).T.reset_index()\n",
    "    m.columns = [ 'features', 'min', 'max', 'range', 'mean', 'median', 'std', 'skew', 'kurtosis' ]\n",
    "    pd.set_option( 'display.float_format', '{:,.2f}'.format )\n",
    "    return m\n",
    "\n",
    "def ml_error( model_name, y , y_hat):\n",
    "    mae =  mean_absolute_error( y , y_hat )\n",
    "    mape = mean_absolute_percentage_error( y , y_hat )\n",
    "    rmse = np.sqrt( mean_squared_error( y , y_hat ) )\n",
    "    r2 =   r2_score(y, y_hat)\n",
    "    df = pd.DataFrame( {'Model Name ' :  model_name,\n",
    "                        'MAE' : mae ,\n",
    "                        'MAPE' : mape,\n",
    "                        'RMSE' : rmse,\n",
    "                        'R2_score' : r2  } ,index = [0] )\n",
    "    \n",
    "    return df\n",
    "\n",
    "def remover_outliers( df, coluna ):\n",
    "    \n",
    "    linhas_iniciais = df.shape[0] \n",
    "    \n",
    "    \n",
    "    d1 = df[coluna].quantile(0.25)\n",
    "    d3 = df[coluna].quantile(0.75)\n",
    "\n",
    "    lim_superior = d3 + 1.5*( d3 - d1  )\n",
    "\n",
    "    lim_inferior = d1 - 1.5 * ( d3 - d1 )\n",
    "    \n",
    "    \n",
    "    df = df.loc[ (df[coluna] >= lim_inferior) & (df[coluna] <= lim_superior) , :  ]\n",
    "    \n",
    "    linhas_finais = df.shape[0]\n",
    "    \n",
    "    \n",
    "    print('Foram removidas {} linhas'.format( linhas_iniciais - linhas_finais ) )\n",
    "          \n",
    "    return df\n",
    "\n",
    "def cramer_v( x, y ):\n",
    "    cm = pd.crosstab( x , y ).values\n",
    "\n",
    "    n = cm.sum()\n",
    "\n",
    "    r,k = cm.shape\n",
    "\n",
    "    chi2 = chi2_contingency( cm )[0]\n",
    "    chi2corr = max( 0 , chi2 - (k-1) * (r-1) / (n-1) ) # chi2 corrigido\n",
    "    kcorr = k - (k-1)**2 / (n-1) # k corrigido\n",
    "    rcorr = r - (k-1)**2 / (n-1) # r corrigido\n",
    "    \n",
    "    v = np.sqrt( ( chi2corr/n ) / ( min ( kcorr-1 , rcorr-1 ) )  )\n",
    "    \n",
    "    return v"
   ]
  },
  {
   "cell_type": "code",
   "execution_count": 3,
   "id": "db60a355",
   "metadata": {
    "ExecuteTime": {
     "end_time": "2024-02-29T20:40:08.207975Z",
     "start_time": "2024-02-29T20:40:08.171112Z"
    },
    "hidden": true
   },
   "outputs": [],
   "source": [
    "class Idealista:\n",
    "    def __init__( self ):\n",
    "        \n",
    "        self.df_region = pd.read_csv( 'datasets/df_region.csv' )\n",
    "        self.home_path                    = r'C:\\Users\\oscar\\Documents\\repos\\api_houses_Lisbon\\encodings'\n",
    "\n",
    "        self.te_status                    = pickle.load(open(os.path.join(self.home_path, 'te_status.pkl'), 'rb'))\n",
    "        self.te_province                  = pickle.load(open(os.path.join(self.home_path,'te_province.pkl') , 'rb'))\n",
    "        self.te_property_type             = pickle.load(open(os.path.join(self.home_path,'te_property_type.pkl'), 'rb'))\n",
    "        self.te_municipality              = pickle.load(open(os.path.join(self.home_path,'te_municipality.pkl'), 'rb' ))\n",
    "        self.te_district                  = pickle.load(open(os.path.join(self.home_path,'te_district.pkl'),'rb'))\n",
    "        self.le_detailed_type             = pickle.load(open(os.path.join(self.home_path,'le_detailed_type.pkl'),'rb' ))\n",
    "        self.freq_encoding_address        = pickle.load(open(os.path.join(self.home_path,'freq_encoding_address.pkl'), 'rb' ))\n",
    "        \n",
    "    \n",
    "    \n",
    "    \n",
    "    def transform_data(self, df, colunas_irrelevantes ):\n",
    "\n",
    "        cols_old = df.columns.to_list()\n",
    "\n",
    "        # def função snake_case\n",
    "        snake_case = lambda x: inflection.underscore( x )\n",
    "\n",
    "        # defino as novas colunas\n",
    "        cols_new = list(map( snake_case, cols_old )) \n",
    "\n",
    "        # atribuo as novas colunas ao df\n",
    "        df.columns = cols_new\n",
    "\n",
    "        # removo as linhas em branco que possam ter vindo na extração\n",
    "        df = df.loc[~ df['property_code'].isna() , : ]\n",
    "\n",
    "        # removo duplicadas\n",
    "        df = df.drop_duplicates( subset= ['property_code'], keep = 'last' )\n",
    "\n",
    "        # preencho os vazios\n",
    "        df = fill_na( df )\n",
    "\n",
    "        # deleto as colunaas irrelevantes\n",
    "        df = delete_columns( df , colunas_irrelevantes )\n",
    "   \n",
    "        return df\n",
    "\n",
    "\n",
    "#=======================================================================================================================#\n",
    "\n",
    "    def feature_engineering(self, df , transform_data = False, merge_datasets = False   ):\n",
    "        \n",
    "        if transform_data == True and merge_datasets == False :\n",
    "            \n",
    "            # mes\n",
    "            df['datetime_scrapy'] = pd.to_datetime( df['datetime_scrapy'] )\n",
    "            df['month'] = df['datetime_scrapy'].dt.month \n",
    "\n",
    "            # ano\n",
    "            df['year'] = df['datetime_scrapy'].dt.year\n",
    "\n",
    "            # excluir a coluna datetime\n",
    "            df = df.drop( 'datetime_scrapy', axis = 1 )\n",
    "\n",
    "            print( 'Dados Transformados' )\n",
    "\n",
    "            return df\n",
    "        \n",
    "    \n",
    "        if merge_datasets == True and transform_data == False:\n",
    "        \n",
    "            # Df com a média de preço por município\n",
    "            df_municipality_mean_price = self.df_region.groupby('municipality')[['price']].mean().reset_index()\n",
    "\n",
    "            # alteração nome coluna\n",
    "            df_municipality_mean_price = df_municipality_mean_price.rename(columns={'price': 'municipality_mean_price'})\n",
    "\n",
    "            # exportar para csv\n",
    "            #d f2_municipality_mean_price.to_csv( 'datasets/municipality.csv' )\n",
    "\n",
    "            # acrescentando a coluna ao df2\n",
    "            df = pd.merge( df, df_municipality_mean_price, on = 'municipality' , how = 'left' )\n",
    "\n",
    "#======================================================================================================================#\n",
    "\n",
    "            # calculando a média por 'province'\n",
    "            df2_province_mean_price = self.df_region.groupby( 'province' )[['price']].mean().reset_index().rename( columns = { 'price': 'province_mean_price' } )\n",
    "\n",
    "            # exportando para csv\n",
    "            # df2_province_mean_price.to_csv( 'datasets/province.csv' )\n",
    "\n",
    "            # acrescentando a coluna ao df2\n",
    "            df = pd.merge( df, df2_province_mean_price , on = 'province' , how = 'left' )\n",
    "\n",
    "    #=======================================================================================================================#\n",
    "\n",
    "            # calculando média por district\n",
    "            df2_district_mean_price = self.df_region.groupby( 'district' )[['price']].median().reset_index().rename( columns = { 'price' : 'district_mean_price' } )\n",
    "\n",
    "            # exportando para csv \n",
    "            #df2_district_mean_price.to_csv( 'datasets/district.csv' )\n",
    "\n",
    "            # acrescentando a coluna ao df2\n",
    "            df = pd.merge( df , df2_district_mean_price , on = 'district', how = 'left' )\n",
    "\n",
    "            print( 'Datasets combinados com preços regioes' )\n",
    "\n",
    "            return df\n",
    "    \n",
    "        if transform_data == True and merge_datasets == True:\n",
    "\n",
    "            # mes\n",
    "            df['datetime_scrapy'] = pd.to_datetime( df['datetime_scrapy'] )\n",
    "            df['month'] = df['datetime_scrapy'].dt.month \n",
    "\n",
    "            # ano\n",
    "            df['year'] = df['datetime_scrapy'].dt.year\n",
    "\n",
    "            # excluir a coluna datetime\n",
    "            df = df.drop( 'datetime_scrapy', axis = 1 )\n",
    "\n",
    "            # Df com a média de preço por município\n",
    "            df_municipality_mean_price = self.df_region.groupby('municipality')[['price']].mean().reset_index()\n",
    "\n",
    "            # alteração nome coluna\n",
    "            df_municipality_mean_price = df_municipality_mean_price.rename(columns={'price': 'municipality_mean_price'})\n",
    "\n",
    "            # exportar para csv\n",
    "            #d f2_municipality_mean_price.to_csv( 'datasets/municipality.csv' )\n",
    "\n",
    "            # acrescentando a coluna ao df2\n",
    "            df = pd.merge( df, df_municipality_mean_price, on = 'municipality' , how = 'left' )\n",
    "\n",
    "    # ======================================================================================================================#\n",
    "\n",
    "            # calculando a média por 'province'\n",
    "            df2_province_mean_price = self.df_region.groupby( 'province' )[['price']].mean().reset_index().rename( columns = { 'price': 'province_mean_price' } )\n",
    "\n",
    "            # exportando para csv\n",
    "            # df2_province_mean_price.to_csv( 'datasets/province.csv' )\n",
    "\n",
    "            # acrescentando a coluna ao df2\n",
    "            df = pd.merge( df, df2_province_mean_price , on = 'province' , how = 'left' )\n",
    "\n",
    "    #=======================================================================================================================#\n",
    "\n",
    "            # calculando média por district\n",
    "            df2_district_mean_price = self.df_region.groupby( 'district' )[['price']].median().reset_index().rename( columns = { 'price' : 'district_mean_price' } )\n",
    "\n",
    "            # exportando para csv \n",
    "            #df2_district_mean_price.to_csv( 'datasets/district.csv' )\n",
    "\n",
    "            # acrescentando a coluna ao df2\n",
    "            df = pd.merge( df , df2_district_mean_price , on = 'district', how = 'left' )\n",
    "\n",
    "            print( 'datasets combinados e dados transformados' )\n",
    "        \n",
    "            return df\n",
    "        \n",
    "        else:\n",
    "\n",
    "            print( 'Nenhuma Transformação' )\n",
    "\n",
    "            return df\n",
    "            \n",
    "#=======================================================================================================================#\n",
    "    \n",
    "    def filter_variables(self, df, filter_variables = False):\n",
    "    \n",
    "        if filter_variables:\n",
    "\n",
    "            # Vou querer saber somente os preços na province de Lisboa\n",
    "            df = df.loc[ df['province'] == 'Lisboa' , :  ]\n",
    "\n",
    "            # vou querer somente as habitações que tenham de 0 a no máximo 4 quartos\n",
    "            df = df.loc[ df['rooms'].isin( [ 0,1,2,3,4 ] ) , : ]\n",
    "\n",
    "            print('Variavies filtradas')\n",
    "\n",
    "            return df\n",
    "\n",
    "        else:\n",
    "\n",
    "            print('Variavies não filtradas')\n",
    "\n",
    "            return df\n",
    "\n",
    "#=======================================================================================================================#\n",
    "\n",
    "    # função para remover outliers\n",
    "    def remove_outliers(self, df, coluna = None ,  keep_outliers = True ):\n",
    "\n",
    "        if keep_outliers:\n",
    "            print( 'Outliers mantidos' )\n",
    "            return df\n",
    "\n",
    "        else:\n",
    "            # variavel resposta sem outliers\n",
    "            df = remover_outliers( df4 , coluna )\n",
    "            print('Outliers removidos')\n",
    "            return df\n",
    "\n",
    "#=======================================================================================================================#\n",
    "    \n",
    "    def rescaling_data(self, df, rescale = False ):\n",
    "\n",
    "        if rescale:\n",
    "            rs = RobustScaler() # robusto com outliers\n",
    "            mms = pp.MinMaxScaler() # desvio padrão pequeno e quando não ha distribuição gaussiana\n",
    "\n",
    "    #         # num_photos\n",
    "    #         rs_num_photos = RobustScaler() \n",
    "    #         # num_photos\n",
    "    #         df['num_photos'] = rs_num_photos.fit_transform( df[['num_photos']].values )\n",
    "\n",
    "            # floor\n",
    "#             rs_floor = RobustScaler() \n",
    "#             # num_photos\n",
    "#             df['floor'] = rs_floor.fit_transform( df[['floor']].values )\n",
    "\n",
    "            # size\n",
    "            rs_size = RobustScaler() \n",
    "            # size\n",
    "            df['size'] = rs_size.fit_transform( df[['size']].values )\n",
    "\n",
    "            # rooms\n",
    "    #         mms_rooms = pp.MinMaxScaler() \n",
    "    #         # rooms\n",
    "    #         df['rooms'] = mms_rooms.fit_transform( df[['rooms']].values )\n",
    "\n",
    "            # bathrooms\n",
    "    #         rs_bathrooms = RobustScaler() \n",
    "    #         # bathrooms\n",
    "    #         df['bathrooms'] = rs_bathrooms.fit_transform( df[['bathrooms']].values )\n",
    "\n",
    "            # distance\n",
    "            rs_distance = RobustScaler()\n",
    "            # distance\n",
    "            df['distance'] = rs_distance.fit_transform( df[['distance']].values )\n",
    "\n",
    "\n",
    "\n",
    "            print('Rescaled')\n",
    "\n",
    "            return  df\n",
    "        else:\n",
    "            print('Not rescaled')\n",
    "\n",
    "            return df\n",
    "\n",
    "#=======================================================================================================================#\n",
    "\n",
    "    def encoding(self, df ):\n",
    "\n",
    "        # floor - substituo os andares com letras\n",
    "        df['floor'] = df['floor'].replace( ['bj','st','ss','en'], 0 )\n",
    "        # transformo em inteiros\n",
    "        df['floor'] = df['floor'].astype( 'int64' )\n",
    "\n",
    "        #property_type - label\n",
    "        df['property_type'] = df['property_type'].map( self.te_property_type  ).astype( 'float64' )\n",
    "\n",
    "        # address - label\n",
    "        df['address'] = df['address'].map( self.freq_encoding_address )\n",
    "\n",
    "        # province \n",
    "        df['province'] = df['province'].map( self.te_province ).astype( 'float64' )\n",
    "\n",
    "        # municipality - label\n",
    "        df['municipality'] = df['municipality'].map( self.te_municipality ).astype( 'float64' )\n",
    "\n",
    "        # municipality\n",
    "    #     freq_encoding_municipality = df['municipality'].value_counts(normalize=True)\n",
    "    #     df['municipality'] = df['municipality'].map( freq_encoding_municipality )\n",
    "\n",
    "\n",
    "        # district - label\n",
    "        df['district'] = df['district'].map( self.te_district ).astype( 'float64' )\n",
    "\n",
    "        # district\n",
    "    #     freq_encoding_district = df['district'].value_counts(normalize=True)\n",
    "    #     df['district'] = df['district'].map( freq_encoding_district )\n",
    "\n",
    "\n",
    "        # Show address\n",
    "        encoding = {True: 1 , False: 0}\n",
    "        df['show_address'] = df['show_address'].apply( lambda x : 1 if x == True else 0 )\n",
    "\n",
    "        # description\n",
    "        df['description'] = df['description'].apply( lambda x : len(x) )\n",
    "\n",
    "        # has_video\n",
    "        encoding = {True: 1 , False: 0}\n",
    "        df['has_video'] = df['has_video'].map( encoding )\n",
    "\n",
    "        # status\n",
    "        df['status'] = df['status'].map( self.te_status ).astype( 'float64' )\n",
    "\n",
    "        # label encoder status\n",
    "        #status_encoder = LabelEncoder()\n",
    "        #df['status'] = status_encoder.fit_transform( df['status'] )\n",
    "\n",
    "        # new_development\n",
    "        encoding = {True: 1 , False: 0}\n",
    "        df['new_development'] = df['new_development'].map( encoding )\n",
    "\n",
    "        # detailed type - label\n",
    "        df['detailed_type'] = df['detailed_type'].apply(lambda x: ast.literal_eval(x) )\n",
    "        df['detailed_type'] = df['detailed_type'].apply(lambda x: x['typology'] )\n",
    "        df['detailed_type'] = self.le_detailed_type.transform( df['detailed_type'] )\n",
    "\n",
    "        # suggested text\n",
    "        df['suggested_texts'] = df['suggested_texts'].apply( lambda x : ast.literal_eval(x) )\n",
    "        df['suggested_texts'] = df['suggested_texts'].apply( lambda x : x['title'] )\n",
    "        df['suggested_texts'] = df['suggested_texts'].apply( lambda x : len(x) )\n",
    "\n",
    "        # hasplan\n",
    "        encoding = {True: 1 , False: 0}\n",
    "        df['has_plan'] = df['has_plan'].map( encoding )\n",
    "\n",
    "        # has3_d_tour\n",
    "        encoding = {True: 1 , False: 0}\n",
    "        df['has3_d_tour'] = df['has3_d_tour'].map( encoding )\n",
    "\n",
    "        # has360\n",
    "        encoding = {True: 1 , False: 0}\n",
    "        df['has360'] = df['has360'].map( encoding )\n",
    "\n",
    "        # has_staging\n",
    "        df['has_staging'] = df['has_staging'].apply( lambda x: 1 if x   else 0   )\n",
    "\n",
    "        # top_new_development\n",
    "        df['top_new_development'] = df['top_new_development'].apply( lambda x: 1 if x  else 0 )\n",
    "\n",
    "        #parking_space\n",
    "        encoding = {True: 1 , False: 0}\n",
    "        df['parking_space'] = df['parking_space'].apply(lambda x: ast.literal_eval(x) if x != 0 else x ) \n",
    "        df['parking_space'] = df['parking_space'].apply(lambda x: x['hasParkingSpace'] if x != 0 else x ) \n",
    "        df['parking_space'] = df['parking_space'].map( encoding )\n",
    "        \n",
    "        df = df.fillna( 0 )\n",
    "\n",
    "        return df\n",
    "    \n",
    "    def predicoes(self, df , model ):\n",
    "        \n",
    "        # drop price\n",
    "        X = df.drop( 'price', axis = 1 )\n",
    "        \n",
    "        y_hat_final = model.predict( X )\n",
    "        \n",
    "        df['pred'] = y_hat_final\n",
    "        \n",
    "        return df\n",
    "        \n"
   ]
  },
  {
   "cell_type": "markdown",
   "id": "ba54ba82",
   "metadata": {
    "hidden": true
   },
   "source": [
    "## 0.2.0. Loading Data"
   ]
  },
  {
   "cell_type": "code",
   "execution_count": 4,
   "id": "d149e9b0",
   "metadata": {
    "ExecuteTime": {
     "end_time": "2024-02-29T20:40:20.100441Z",
     "start_time": "2024-02-29T20:40:08.210976Z"
    },
    "hidden": true
   },
   "outputs": [
    {
     "name": "stdout",
     "output_type": "stream",
     "text": [
      "extracao_12_4_2023.xlsx\n",
      "extracao_1_1_2023.xlsx\n",
      "extracao_1_9_2023.xlsx\n",
      "extracao_26_1_2024.xlsx\n",
      "extracao_29_2_2024.xlsx\n",
      "extracao_2_2_2023.xlsx\n",
      "extracao_2_6_2023.xlsx\n",
      "extracao_3_3_2023.xlsx\n",
      "extracao_6_7_2023.xlsx\n"
     ]
    }
   ],
   "source": [
    "# caminho\n",
    "caminho = pathlib.Path('data')\n",
    "\n",
    "df = []\n",
    "\n",
    "for arquivo in caminho.iterdir():\n",
    "    print(arquivo.name)\n",
    "    \n",
    "    # ler o arquivo\n",
    "    df_read = pd.read_excel( arquivo )\n",
    "    \n",
    "    # apender o df\n",
    "    df.append(df_read)\n",
    "\n",
    "# concatena os df's\n",
    "df_raw = pd.concat( df )\n",
    "\n",
    "df_raw = df_raw[['propertyCode', 'thumbnail', 'numPhotos', 'floor', 'price',\n",
    "       'propertyType', 'operation', 'size', 'exterior', 'rooms', 'bathrooms',\n",
    "       'address', 'province', 'municipality', 'district', 'country',\n",
    "       'latitude', 'longitude', 'showAddress', 'url', 'distance',\n",
    "       'description', 'hasVideo', 'status', 'newDevelopment', 'hasLift',\n",
    "       'priceByArea', 'detailedType', 'suggestedTexts', 'hasPlan', 'has3DTour',\n",
    "       'has360', 'hasStaging', 'topNewDevelopment', 'superTopHighlight',\n",
    "       'parkingSpace', 'externalReference', 'labels', 'neighborhood', 'pagina',\n",
    "       'datetime_scrapy', 'newDevelopmentFinished', 'highlight']]\n",
    "\n",
    "# resetar index\n",
    "df_raw = df_raw.reset_index( drop = True )"
   ]
  },
  {
   "cell_type": "markdown",
   "id": "720dcc68",
   "metadata": {
    "hidden": true
   },
   "source": [
    "## 0.2.1 Separar Dados de Teste"
   ]
  },
  {
   "cell_type": "code",
   "execution_count": 5,
   "id": "5438d3fa",
   "metadata": {
    "ExecuteTime": {
     "end_time": "2024-02-29T20:40:20.106589Z",
     "start_time": "2024-02-29T20:40:20.102500Z"
    },
    "hidden": true
   },
   "outputs": [],
   "source": [
    "# Separar Dados de Validação\n",
    "divisor = df_raw.shape[0] - 100\n",
    "df_val = df_raw.iloc[ divisor: ] # pego 1000 linhas para teste"
   ]
  },
  {
   "cell_type": "markdown",
   "id": "dfac7a2d",
   "metadata": {},
   "source": [
    "# 1.0. PASSO 01 - DESCRIÇÃO DOS DADOS"
   ]
  },
  {
   "cell_type": "code",
   "execution_count": 6,
   "id": "9282a770",
   "metadata": {
    "ExecuteTime": {
     "end_time": "2024-02-29T20:40:20.140516Z",
     "start_time": "2024-02-29T20:40:20.108594Z"
    }
   },
   "outputs": [],
   "source": [
    "df1 = df_raw.copy()[:divisor]"
   ]
  },
  {
   "cell_type": "markdown",
   "id": "dc529665",
   "metadata": {
    "heading_collapsed": true
   },
   "source": [
    "## Explicação das colunas"
   ]
  },
  {
   "cell_type": "markdown",
   "id": "4ffef2ae",
   "metadata": {
    "hidden": true
   },
   "source": [
    "* property_code - ID unico para cada imovel\n",
    "\n",
    "\n",
    "* thumbnail - mostra a thumbnail do imovel\n",
    "\n",
    "\n",
    "* external_reference - A feature \"external_reference\" geralmente se refere a um código único atribuído a um imóvel por outra fonte, como outra plataforma imobiliária ou um agente imobiliário. Essa referência externa pode ser usada para rastrear e identificar o imóvel em diferentes sistemas e plataformas.\n",
    "\n",
    "\n",
    "* num_photos - número de fotos do anúncio\n",
    "\n",
    "\n",
    "* price - preço da renda\n",
    "\n",
    "\n",
    "* property_type - tipo de propriedade\n",
    "\n",
    "\n",
    "* operation - renda ou venda ( nesse caso tenho somente renda )\n",
    "\n",
    "\n",
    "* size - tamanho em m2\n",
    "\n",
    "\n",
    "* exterior - deve ser se o imóvel tem área exterior ( array([ 0., nan]) \n",
    "\n",
    "\n",
    "* rooms - quantidade de quartos\n",
    "\n",
    "\n",
    "* bathrooms - quantidade de casas de banho\n",
    "\n",
    "\n",
    "* address - endereço do imóvel\n",
    "\n",
    "\n",
    "* province - são as regiões ( Lisboa, Setúbal, Santarém - vieram na extração )\n",
    "\n",
    "\n",
    "* municipality - municipios\n",
    "\n",
    "\n",
    "* district - são os Distritos\n",
    "\n",
    "\n",
    "* country - PT \n",
    "\n",
    "\n",
    "* latitude - latitude\n",
    "\n",
    "\n",
    "* longitude - longitude\n",
    "\n",
    "\n",
    "* show_address - boolean - se o anunciante exibe o endereço\n",
    "\n",
    "\n",
    "* url - a url do anuncio\n",
    "\n",
    "\n",
    "* distance - distancia do centro em m\n",
    "\n",
    "\n",
    "* description - descricao do apartamento\n",
    "\n",
    "\n",
    "* has_video - diz se o anuncio tem vídeo ou não ( array([ 0.,  1., nan]) )\n",
    "\n",
    "\n",
    "* status - diz sobre o estado do imóvel array(['good', 'renew', 'newdevelopment', None], dtype=object)\n",
    "\n",
    "\n",
    "* new_development - boolean - diz se o empreendimento é novo ou não \n",
    "\n",
    "\n",
    "* price_by_area - preco divido pelo tamanho do imóvel price / size\n",
    "\n",
    "\n",
    "* detailed_type - descrição detalhada do tipo de imóvel\n",
    "\n",
    "\n",
    "* suggested_texts - títulos e subtítulos\n",
    "\n",
    "\n",
    "* has_plan - se o imóvel tem plano ou não\n",
    "\n",
    "\n",
    "* has3_d_tour - indica se o imóvel tem tour 3d\n",
    "\n",
    "\n",
    "* has360 - se tem tour 360º\n",
    "\n",
    "\n",
    "* has_staging - se tem uma decoração na propriedade\n",
    "\n",
    "\n",
    "* top_new_development - indica os empreendimentos mais novos\n",
    "\n",
    "\n",
    "* super_top_highlight - indica os imóveis mais valiosos ou populares em uma determinada área\n",
    "\n",
    "\n",
    "* floor - indica o andar do imóvel\n",
    "\n",
    "\n",
    "* has_lift - indica se tem elevador\n",
    "\n",
    "\n",
    "* parking_space - indica se tem vaga de garagem\n",
    "\n",
    "\n",
    "* neighborhood - Essa feature é útil para compradores e inquilinos que têm preferência por um determinado bairro ou querem morar em uma área específica da cidade por motivos como proximidade do trabalho, escolas, transporte público, entre outros.\n",
    "\n",
    "\n",
    "* labels - etiquetas ou rótulos associados aos imoveis\n",
    "\n",
    "\n",
    "* pagina - a pagina da extração ( definida na extração )\n",
    "\n",
    "\n",
    "* datetime_scrapy - indica a data da extração ( definida na extração )\n",
    "\n",
    "\n",
    "* newDevelopmentFinished - \n",
    "\n",
    "\n",
    "* highlight - "
   ]
  },
  {
   "cell_type": "markdown",
   "id": "95659f37",
   "metadata": {
    "heading_collapsed": true
   },
   "source": [
    "## 1.1. Rename Columns"
   ]
  },
  {
   "cell_type": "code",
   "execution_count": 7,
   "id": "26c9686a",
   "metadata": {
    "ExecuteTime": {
     "end_time": "2024-02-29T20:40:20.162766Z",
     "start_time": "2024-02-29T20:40:20.142088Z"
    },
    "hidden": true
   },
   "outputs": [],
   "source": [
    "cols_old = [ 'propertyCode', 'thumbnail', 'numPhotos', 'floor', 'price',\n",
    "       'propertyType', 'operation', 'size', 'exterior', 'rooms', 'bathrooms',\n",
    "       'address', 'province', 'municipality', 'district', 'country',\n",
    "       'latitude', 'longitude', 'showAddress', 'url', 'distance',\n",
    "       'description', 'hasVideo', 'status', 'newDevelopment', 'hasLift',\n",
    "       'priceByArea', 'detailedType', 'suggestedTexts', 'hasPlan', 'has3DTour',\n",
    "       'has360', 'hasStaging', 'topNewDevelopment', 'superTopHighlight',\n",
    "       'parkingSpace', 'externalReference', 'labels', 'neighborhood', 'pagina',\n",
    "       'datetime_scrapy', 'newDevelopmentFinished', 'highlight']\n",
    "\n",
    "# def função snake_case\n",
    "snake_case = lambda x: inflection.underscore( x )\n",
    "\n",
    "# defino as novas colunas\n",
    "cols_new = list(map( snake_case, cols_old )) \n",
    "\n",
    "df1.columns = cols_new\n",
    "\n",
    "df1 = df1.loc[~ df1['property_code'].isna() , : ]"
   ]
  },
  {
   "cell_type": "markdown",
   "id": "112036bf",
   "metadata": {
    "ExecuteTime": {
     "end_time": "2024-02-03T10:32:07.033474Z",
     "start_time": "2024-02-03T10:32:07.029868Z"
    },
    "heading_collapsed": true
   },
   "source": [
    "## 1.1.2 Drop Duplicates"
   ]
  },
  {
   "cell_type": "code",
   "execution_count": 8,
   "id": "f525466a",
   "metadata": {
    "ExecuteTime": {
     "end_time": "2024-02-29T20:40:20.179318Z",
     "start_time": "2024-02-29T20:40:20.164767Z"
    },
    "hidden": true
   },
   "outputs": [],
   "source": [
    "df1 = df1.drop_duplicates( subset= ['property_code'], keep = 'last' )"
   ]
  },
  {
   "cell_type": "markdown",
   "id": "45bef4ec",
   "metadata": {
    "heading_collapsed": true
   },
   "source": [
    "## 1.2. Data Dimensions"
   ]
  },
  {
   "cell_type": "code",
   "execution_count": 9,
   "id": "2f02f80f",
   "metadata": {
    "ExecuteTime": {
     "end_time": "2024-02-29T20:40:20.185912Z",
     "start_time": "2024-02-29T20:40:20.180934Z"
    },
    "hidden": true
   },
   "outputs": [
    {
     "name": "stdout",
     "output_type": "stream",
     "text": [
      "Number of rows 13,755\n",
      "Number of columns 43\n"
     ]
    }
   ],
   "source": [
    "print( 'Number of rows {:,}'.format( df1.shape[0] ) )\n",
    "print( 'Number of columns {:,}'.format( df1.shape[1] ) )"
   ]
  },
  {
   "cell_type": "markdown",
   "id": "224cd158",
   "metadata": {
    "heading_collapsed": true
   },
   "source": [
    "## 1.3. Data Types"
   ]
  },
  {
   "cell_type": "code",
   "execution_count": 10,
   "id": "8de61cd8",
   "metadata": {
    "ExecuteTime": {
     "end_time": "2024-02-29T20:40:20.195497Z",
     "start_time": "2024-02-29T20:40:20.189912Z"
    },
    "hidden": true
   },
   "outputs": [
    {
     "name": "stdout",
     "output_type": "stream",
     "text": [
      "property_code               float64\n",
      "thumbnail                    object\n",
      "num_photos                  float64\n",
      "floor                        object\n",
      "price                       float64\n",
      "property_type                object\n",
      "operation                    object\n",
      "size                        float64\n",
      "exterior                     object\n",
      "rooms                       float64\n",
      "bathrooms                   float64\n",
      "address                      object\n",
      "province                     object\n",
      "municipality                 object\n",
      "district                     object\n",
      "country                      object\n",
      "latitude                    float64\n",
      "longitude                   float64\n",
      "show_address                 object\n",
      "url                          object\n",
      "distance                    float64\n",
      "description                  object\n",
      "has_video                    object\n",
      "status                       object\n",
      "new_development              object\n",
      "has_lift                    float64\n",
      "price_by_area               float64\n",
      "detailed_type                object\n",
      "suggested_texts              object\n",
      "has_plan                     object\n",
      "has3_d_tour                  object\n",
      "has360                       object\n",
      "has_staging                  object\n",
      "top_new_development          object\n",
      "super_top_highlight          object\n",
      "parking_space                object\n",
      "external_reference           object\n",
      "labels                       object\n",
      "neighborhood                 object\n",
      "pagina                      float64\n",
      "datetime_scrapy              object\n",
      "new_development_finished    float64\n",
      "highlight                    object\n",
      "dtype: object\n"
     ]
    }
   ],
   "source": [
    "# exibindo os tipos de dados\n",
    "print( df1.dtypes )"
   ]
  },
  {
   "cell_type": "markdown",
   "id": "198540a0",
   "metadata": {
    "heading_collapsed": true
   },
   "source": [
    "## 1.4. Check NA"
   ]
  },
  {
   "cell_type": "code",
   "execution_count": 11,
   "id": "dd8e8700",
   "metadata": {
    "ExecuteTime": {
     "end_time": "2024-02-29T20:40:20.264171Z",
     "start_time": "2024-02-29T20:40:20.197500Z"
    },
    "hidden": true
   },
   "outputs": [
    {
     "data": {
      "text/plain": [
       "property_code                   0\n",
       "thumbnail                      28\n",
       "num_photos                      0\n",
       "floor                        6011\n",
       "price                           0\n",
       "property_type                   0\n",
       "operation                       0\n",
       "size                            0\n",
       "exterior                     7013\n",
       "rooms                           0\n",
       "bathrooms                       0\n",
       "address                         0\n",
       "province                        0\n",
       "municipality                    0\n",
       "district                     1544\n",
       "country                         0\n",
       "latitude                        0\n",
       "longitude                       0\n",
       "show_address                    0\n",
       "url                             0\n",
       "distance                        0\n",
       "description                    18\n",
       "has_video                       0\n",
       "status                          0\n",
       "new_development                 0\n",
       "has_lift                     4306\n",
       "price_by_area                   0\n",
       "detailed_type                   0\n",
       "suggested_texts                 0\n",
       "has_plan                        0\n",
       "has3_d_tour                     0\n",
       "has360                          0\n",
       "has_staging                     0\n",
       "top_new_development             0\n",
       "super_top_highlight          5571\n",
       "parking_space                9694\n",
       "external_reference           2042\n",
       "labels                       9566\n",
       "neighborhood                11418\n",
       "pagina                          0\n",
       "datetime_scrapy                 0\n",
       "new_development_finished    13739\n",
       "highlight                   12953\n",
       "dtype: int64"
      ]
     },
     "execution_count": 11,
     "metadata": {},
     "output_type": "execute_result"
    }
   ],
   "source": [
    "df1.isna().sum()"
   ]
  },
  {
   "cell_type": "code",
   "execution_count": 12,
   "id": "9af844ed",
   "metadata": {
    "ExecuteTime": {
     "end_time": "2024-02-29T20:40:20.411446Z",
     "start_time": "2024-02-29T20:40:20.267173Z"
    },
    "hidden": true
   },
   "outputs": [
    {
     "data": {
      "text/html": [
       "<div>\n",
       "<style scoped>\n",
       "    .dataframe tbody tr th:only-of-type {\n",
       "        vertical-align: middle;\n",
       "    }\n",
       "\n",
       "    .dataframe tbody tr th {\n",
       "        vertical-align: top;\n",
       "    }\n",
       "\n",
       "    .dataframe thead th {\n",
       "        text-align: right;\n",
       "    }\n",
       "</style>\n",
       "<table border=\"1\" class=\"dataframe\">\n",
       "  <thead>\n",
       "    <tr style=\"text-align: right;\">\n",
       "      <th></th>\n",
       "      <th>index</th>\n",
       "      <th>0</th>\n",
       "      <th>% dados Vazios</th>\n",
       "    </tr>\n",
       "  </thead>\n",
       "  <tbody>\n",
       "    <tr>\n",
       "      <th>1</th>\n",
       "      <td>thumbnail</td>\n",
       "      <td>28</td>\n",
       "      <td>0.203562</td>\n",
       "    </tr>\n",
       "    <tr>\n",
       "      <th>3</th>\n",
       "      <td>floor</td>\n",
       "      <td>6011</td>\n",
       "      <td>43.700473</td>\n",
       "    </tr>\n",
       "    <tr>\n",
       "      <th>8</th>\n",
       "      <td>exterior</td>\n",
       "      <td>7013</td>\n",
       "      <td>50.985096</td>\n",
       "    </tr>\n",
       "    <tr>\n",
       "      <th>14</th>\n",
       "      <td>district</td>\n",
       "      <td>1544</td>\n",
       "      <td>11.225009</td>\n",
       "    </tr>\n",
       "    <tr>\n",
       "      <th>21</th>\n",
       "      <td>description</td>\n",
       "      <td>18</td>\n",
       "      <td>0.130862</td>\n",
       "    </tr>\n",
       "    <tr>\n",
       "      <th>25</th>\n",
       "      <td>has_lift</td>\n",
       "      <td>4306</td>\n",
       "      <td>31.304980</td>\n",
       "    </tr>\n",
       "    <tr>\n",
       "      <th>34</th>\n",
       "      <td>super_top_highlight</td>\n",
       "      <td>5571</td>\n",
       "      <td>40.501636</td>\n",
       "    </tr>\n",
       "    <tr>\n",
       "      <th>35</th>\n",
       "      <td>parking_space</td>\n",
       "      <td>9694</td>\n",
       "      <td>70.476190</td>\n",
       "    </tr>\n",
       "    <tr>\n",
       "      <th>36</th>\n",
       "      <td>external_reference</td>\n",
       "      <td>2042</td>\n",
       "      <td>14.845511</td>\n",
       "    </tr>\n",
       "    <tr>\n",
       "      <th>37</th>\n",
       "      <td>labels</td>\n",
       "      <td>9566</td>\n",
       "      <td>69.545620</td>\n",
       "    </tr>\n",
       "    <tr>\n",
       "      <th>38</th>\n",
       "      <td>neighborhood</td>\n",
       "      <td>11418</td>\n",
       "      <td>83.009815</td>\n",
       "    </tr>\n",
       "    <tr>\n",
       "      <th>41</th>\n",
       "      <td>new_development_finished</td>\n",
       "      <td>13739</td>\n",
       "      <td>99.883679</td>\n",
       "    </tr>\n",
       "    <tr>\n",
       "      <th>42</th>\n",
       "      <td>highlight</td>\n",
       "      <td>12953</td>\n",
       "      <td>94.169393</td>\n",
       "    </tr>\n",
       "  </tbody>\n",
       "</table>\n",
       "</div>"
      ],
      "text/plain": [
       "                       index      0  % dados Vazios\n",
       "1                  thumbnail     28        0.203562\n",
       "3                      floor   6011       43.700473\n",
       "8                   exterior   7013       50.985096\n",
       "14                  district   1544       11.225009\n",
       "21               description     18        0.130862\n",
       "25                  has_lift   4306       31.304980\n",
       "34       super_top_highlight   5571       40.501636\n",
       "35             parking_space   9694       70.476190\n",
       "36        external_reference   2042       14.845511\n",
       "37                    labels   9566       69.545620\n",
       "38              neighborhood  11418       83.009815\n",
       "41  new_development_finished  13739       99.883679\n",
       "42                 highlight  12953       94.169393"
      ]
     },
     "execution_count": 12,
     "metadata": {},
     "output_type": "execute_result"
    }
   ],
   "source": [
    "# calculando os % de dados vazios\n",
    "dfna = df1.isna().sum().to_frame().reset_index()\n",
    "dfna['% dados Vazios'] = ( df1.isna().sum().to_frame().reset_index()[0] / df1.shape[0] ) *100\n",
    "dfna.loc[ dfna['% dados Vazios'] != 0 , : ]"
   ]
  },
  {
   "cell_type": "markdown",
   "id": "60e30ecc",
   "metadata": {
    "heading_collapsed": true
   },
   "source": [
    "## 1.5 - Excluindo colunas irrelevantes"
   ]
  },
  {
   "cell_type": "code",
   "execution_count": 13,
   "id": "b4e135a4",
   "metadata": {
    "ExecuteTime": {
     "end_time": "2024-02-29T20:40:20.419213Z",
     "start_time": "2024-02-29T20:40:20.413863Z"
    },
    "hidden": true
   },
   "outputs": [],
   "source": [
    "# função para excluir colunas se for passada uma lista\n",
    "def delete_columns( df , list_columns = None ):\n",
    "    \n",
    "    if list_columns is None:\n",
    "        \n",
    "        df = df\n",
    "        \n",
    "        return df\n",
    "    \n",
    "    else:\n",
    "        \n",
    "        df = df.drop( list_columns , axis = 1)\n",
    "        \n",
    "        return df\n"
   ]
  },
  {
   "cell_type": "code",
   "execution_count": 14,
   "id": "feb11e28",
   "metadata": {
    "ExecuteTime": {
     "end_time": "2024-02-29T20:40:20.456681Z",
     "start_time": "2024-02-29T20:40:20.421748Z"
    },
    "hidden": true
   },
   "outputs": [],
   "source": [
    "# colunas vazias ou irrelevantes\n",
    "colunas_irrelevantes = ['property_code',\n",
    "           'external_reference',\n",
    "           'labels',\n",
    "           'neighborhood',\n",
    "           'new_development_finished',\n",
    "           'highlight',\n",
    "           'exterior',\n",
    "           'super_top_highlight',\n",
    "           'operation',\n",
    "           'country',\n",
    "           'url',\n",
    "           'price_by_area']\n",
    "\n",
    "df1 = delete_columns( df1 , colunas_irrelevantes )"
   ]
  },
  {
   "cell_type": "markdown",
   "id": "8504f29d",
   "metadata": {},
   "source": [
    "## 1.5.1 Fillout NA"
   ]
  },
  {
   "cell_type": "code",
   "execution_count": 15,
   "id": "6cd077cc",
   "metadata": {
    "ExecuteTime": {
     "end_time": "2024-02-29T20:40:20.465557Z",
     "start_time": "2024-02-29T20:40:20.458684Z"
    }
   },
   "outputs": [],
   "source": [
    "def fill_na(df):\n",
    "    # thumbnail - vou substituir anúncios que possuem thumbnail por 1 e aqueles que não por 0\n",
    "    df.loc[:,'thumbnail'] = np.where( df['thumbnail'].isna(), 0 , 1 )\n",
    "\n",
    "    # floor \n",
    "    df.loc[:,'floor'] = df['floor'].apply( lambda x : 0 if pd.isna( x ) else x )\n",
    "\n",
    "    # district - vou fazer uma chamada na api para procurar os districts passando as coordenadas\n",
    "    df.loc[:,'district'] = df.apply(lambda x: find_mun( x['latitude'], x['longitude'] ) if pd.isna( x['district'] ) else x['district'],axis = 1)\n",
    "\n",
    "    # description\n",
    "    df.loc[:,'description'] = df['description'].apply( lambda x : 'no description' if pd.isna( x ) else x )\n",
    "\n",
    "    # has_lift - vou considerar que se não foi informado na base o apto imovel não tem elevador\n",
    "    df.loc[:,'has_lift'] = df['has_lift'].apply( lambda x: 0 if pd.isna( x ) else x  )\n",
    "\n",
    "    # parking_space \n",
    "    df.loc[:,'parking_space'] = df['parking_space'].apply( lambda x: 0 if pd.isna( x ) else x ) \n",
    "    \n",
    "    return df"
   ]
  },
  {
   "cell_type": "code",
   "execution_count": 16,
   "id": "f6dc39bc",
   "metadata": {
    "ExecuteTime": {
     "end_time": "2024-02-29T20:53:21.594289Z",
     "start_time": "2024-02-29T20:40:20.468588Z"
    }
   },
   "outputs": [
    {
     "name": "stderr",
     "output_type": "stream",
     "text": [
      "C:\\Users\\oscar\\AppData\\Local\\Temp\\ipykernel_6780\\2764531685.py:3: DeprecationWarning: In a future version, `df.iloc[:, i] = newvals` will attempt to set the values inplace instead of always setting a new array. To retain the old behavior, use either `df[df.columns[i]] = newvals` or, if columns are non-unique, `df.isetitem(i, newvals)`\n",
      "  df.loc[:,'thumbnail'] = np.where( df['thumbnail'].isna(), 0 , 1 )\n"
     ]
    }
   ],
   "source": [
    "df1 = fill_na( df1 )"
   ]
  },
  {
   "cell_type": "markdown",
   "id": "d7a16a0f",
   "metadata": {},
   "source": [
    "## 1.7. Descriptive Statistical"
   ]
  },
  {
   "cell_type": "markdown",
   "id": "1cca4f10",
   "metadata": {},
   "source": [
    "## 1.7.1 Numerical Attributes"
   ]
  },
  {
   "cell_type": "code",
   "execution_count": 17,
   "id": "fac52b56",
   "metadata": {
    "ExecuteTime": {
     "end_time": "2024-02-29T20:53:21.641821Z",
     "start_time": "2024-02-29T20:53:21.597285Z"
    }
   },
   "outputs": [
    {
     "data": {
      "text/html": [
       "<div>\n",
       "<style scoped>\n",
       "    .dataframe tbody tr th:only-of-type {\n",
       "        vertical-align: middle;\n",
       "    }\n",
       "\n",
       "    .dataframe tbody tr th {\n",
       "        vertical-align: top;\n",
       "    }\n",
       "\n",
       "    .dataframe thead th {\n",
       "        text-align: right;\n",
       "    }\n",
       "</style>\n",
       "<table border=\"1\" class=\"dataframe\">\n",
       "  <thead>\n",
       "    <tr style=\"text-align: right;\">\n",
       "      <th></th>\n",
       "      <th>features</th>\n",
       "      <th>min</th>\n",
       "      <th>max</th>\n",
       "      <th>range</th>\n",
       "      <th>mean</th>\n",
       "      <th>median</th>\n",
       "      <th>std</th>\n",
       "      <th>skew</th>\n",
       "      <th>kurtosis</th>\n",
       "    </tr>\n",
       "  </thead>\n",
       "  <tbody>\n",
       "    <tr>\n",
       "      <th>0</th>\n",
       "      <td>num_photos</td>\n",
       "      <td>0.00</td>\n",
       "      <td>180.00</td>\n",
       "      <td>180.00</td>\n",
       "      <td>24.91</td>\n",
       "      <td>23.00</td>\n",
       "      <td>13.01</td>\n",
       "      <td>1.62</td>\n",
       "      <td>6.15</td>\n",
       "    </tr>\n",
       "    <tr>\n",
       "      <th>1</th>\n",
       "      <td>price</td>\n",
       "      <td>300.00</td>\n",
       "      <td>80,000.00</td>\n",
       "      <td>79,700.00</td>\n",
       "      <td>2,808.40</td>\n",
       "      <td>2,000.00</td>\n",
       "      <td>2,685.59</td>\n",
       "      <td>5.11</td>\n",
       "      <td>67.62</td>\n",
       "    </tr>\n",
       "    <tr>\n",
       "      <th>2</th>\n",
       "      <td>size</td>\n",
       "      <td>10.00</td>\n",
       "      <td>30,940.00</td>\n",
       "      <td>30,930.00</td>\n",
       "      <td>140.59</td>\n",
       "      <td>107.00</td>\n",
       "      <td>301.58</td>\n",
       "      <td>81.42</td>\n",
       "      <td>8,045.57</td>\n",
       "    </tr>\n",
       "    <tr>\n",
       "      <th>3</th>\n",
       "      <td>rooms</td>\n",
       "      <td>0.00</td>\n",
       "      <td>24.00</td>\n",
       "      <td>24.00</td>\n",
       "      <td>2.50</td>\n",
       "      <td>2.00</td>\n",
       "      <td>1.36</td>\n",
       "      <td>1.65</td>\n",
       "      <td>12.73</td>\n",
       "    </tr>\n",
       "    <tr>\n",
       "      <th>4</th>\n",
       "      <td>bathrooms</td>\n",
       "      <td>1.00</td>\n",
       "      <td>29.00</td>\n",
       "      <td>28.00</td>\n",
       "      <td>2.02</td>\n",
       "      <td>2.00</td>\n",
       "      <td>1.22</td>\n",
       "      <td>2.59</td>\n",
       "      <td>23.38</td>\n",
       "    </tr>\n",
       "    <tr>\n",
       "      <th>5</th>\n",
       "      <td>distance</td>\n",
       "      <td>61.00</td>\n",
       "      <td>49,855.00</td>\n",
       "      <td>49,794.00</td>\n",
       "      <td>11,078.28</td>\n",
       "      <td>6,642.00</td>\n",
       "      <td>10,291.29</td>\n",
       "      <td>0.84</td>\n",
       "      <td>-0.34</td>\n",
       "    </tr>\n",
       "    <tr>\n",
       "      <th>6</th>\n",
       "      <td>has_lift</td>\n",
       "      <td>0.00</td>\n",
       "      <td>1.00</td>\n",
       "      <td>1.00</td>\n",
       "      <td>0.45</td>\n",
       "      <td>0.00</td>\n",
       "      <td>0.50</td>\n",
       "      <td>0.20</td>\n",
       "      <td>-1.96</td>\n",
       "    </tr>\n",
       "  </tbody>\n",
       "</table>\n",
       "</div>"
      ],
      "text/plain": [
       "     features    min       max     range      mean   median       std  skew  \\\n",
       "0  num_photos   0.00    180.00    180.00     24.91    23.00     13.01  1.62   \n",
       "1       price 300.00 80,000.00 79,700.00  2,808.40 2,000.00  2,685.59  5.11   \n",
       "2        size  10.00 30,940.00 30,930.00    140.59   107.00    301.58 81.42   \n",
       "3       rooms   0.00     24.00     24.00      2.50     2.00      1.36  1.65   \n",
       "4   bathrooms   1.00     29.00     28.00      2.02     2.00      1.22  2.59   \n",
       "5    distance  61.00 49,855.00 49,794.00 11,078.28 6,642.00 10,291.29  0.84   \n",
       "6    has_lift   0.00      1.00      1.00      0.45     0.00      0.50  0.20   \n",
       "\n",
       "   kurtosis  \n",
       "0      6.15  \n",
       "1     67.62  \n",
       "2  8,045.57  \n",
       "3     12.73  \n",
       "4     23.38  \n",
       "5     -0.34  \n",
       "6     -1.96  "
      ]
     },
     "execution_count": 17,
     "metadata": {},
     "output_type": "execute_result"
    }
   ],
   "source": [
    "df1_stats = stats( df1 , ['latitude','longitude','pagina'] )\n",
    "df1_stats"
   ]
  },
  {
   "cell_type": "markdown",
   "id": "bdcea69d",
   "metadata": {
    "ExecuteTime": {
     "end_time": "2023-03-04T23:29:56.937888Z",
     "start_time": "2023-03-04T23:29:56.914814Z"
    }
   },
   "source": [
    "## 1.7.2 Categorical Attributes"
   ]
  },
  {
   "cell_type": "code",
   "execution_count": 18,
   "id": "99498bf0",
   "metadata": {
    "ExecuteTime": {
     "end_time": "2024-02-29T20:53:21.862543Z",
     "start_time": "2024-02-29T20:53:21.642821Z"
    }
   },
   "outputs": [
    {
     "name": "stdout",
     "output_type": "stream",
     "text": [
      "thumbnail                  2\n",
      "floor                     33\n",
      "property_type              6\n",
      "address                 4674\n",
      "province                   3\n",
      "municipality             141\n",
      "district                 418\n",
      "show_address               2\n",
      "description            13336\n",
      "has_video                  2\n",
      "status                     3\n",
      "new_development            2\n",
      "detailed_type             15\n",
      "suggested_texts         5194\n",
      "has_plan                   2\n",
      "has3_d_tour                2\n",
      "has360                     2\n",
      "has_staging                2\n",
      "top_new_development        1\n",
      "parking_space             15\n",
      "datetime_scrapy          161\n",
      "dtype: int64\n",
      "====================================================================================================\n",
      "thumbnail                                                         [1, 0]\n",
      "floor                  [6, 2, bj, 0, 1, 3, 8, 5, 7, en, 16, 4, 11, 9,...\n",
      "property_type          [flat, chalet, duplex, studio, penthouse, coun...\n",
      "address                [Nova Carnaxide, Rua Professor Doutor João Bat...\n",
      "province                                     [Lisboa, Setúbal, Santarém]\n",
      "municipality           [Carnaxide e Queijas, Rio de Mouro, Carnide, M...\n",
      "district               [Nova Carnaxide, Vale Mourão - Paiões, Carnide...\n",
      "show_address                                               [False, True]\n",
      "description            [Apartamento T1 mobilado e equipado em Carnaxi...\n",
      "has_video                                                  [True, False]\n",
      "status                                     [good, renew, newdevelopment]\n",
      "new_development                                            [False, True]\n",
      "detailed_type          [{'typology': 'flat'}, {'typology': 'chalet', ...\n",
      "suggested_texts        [{'subtitle': 'Carnaxide e Queijas, Oeiras', '...\n",
      "has_plan                                                   [False, True]\n",
      "has3_d_tour                                                [False, True]\n",
      "has360                                                     [False, True]\n",
      "has_staging                                                [False, True]\n",
      "top_new_development                                              [False]\n",
      "parking_space          [0, {'hasParkingSpace': True, 'isParkingSpaceI...\n",
      "datetime_scrapy        [2023-04-12 22:00:03, 2023-04-12 22:00:04, 202...\n",
      "dtype: object\n"
     ]
    }
   ],
   "source": [
    "df1['province'] = df1['province'].apply( lambda x : 'Lisboa' if x == 'lisboa' else 'Setúbal' if x == 'setubal' else 'Santarém' if x == 'santarem'  else x)\n",
    "\n",
    "num_categorical = df1.select_dtypes( exclude = ['int64','float64','datetime64[ns]'] )\n",
    "# verifico quantos tipos diferentes tenho nas var categoricas\n",
    "print( num_categorical.apply( lambda x: x.unique().shape[0] ) )\n",
    "\n",
    "print( '='*100 )\n",
    "\n",
    "# verifico quantos tipos diferentes tenho nas var categoricas\n",
    "print( num_categorical.apply( lambda x: x.unique() ) )"
   ]
  },
  {
   "cell_type": "markdown",
   "id": "9e2330a4",
   "metadata": {},
   "source": [
    "# 2.0 Feature Engineering"
   ]
  },
  {
   "cell_type": "code",
   "execution_count": 19,
   "id": "fbbc7143",
   "metadata": {
    "ExecuteTime": {
     "end_time": "2024-02-29T20:53:21.877538Z",
     "start_time": "2024-02-29T20:53:21.865546Z"
    }
   },
   "outputs": [],
   "source": [
    "df2 = df1.copy()"
   ]
  },
  {
   "cell_type": "code",
   "execution_count": 20,
   "id": "114ec8cb",
   "metadata": {
    "ExecuteTime": {
     "end_time": "2024-02-29T20:53:22.979172Z",
     "start_time": "2024-02-29T20:53:21.879541Z"
    }
   },
   "outputs": [],
   "source": [
    "# será usado para médias das regiões\n",
    "df2.to_csv( 'datasets/df_region.csv' )"
   ]
  },
  {
   "cell_type": "code",
   "execution_count": 21,
   "id": "75902b7b",
   "metadata": {
    "ExecuteTime": {
     "end_time": "2024-02-29T20:53:22.998293Z",
     "start_time": "2024-02-29T20:53:22.982172Z"
    }
   },
   "outputs": [],
   "source": [
    "def feature_engineering( df , df_region, transform_data = False, merge_datasets = False ):\n",
    "    \n",
    "    if transform_data and merge_datasets == False :\n",
    "        \n",
    "        # mes\n",
    "        df['datetime_scrapy'] = pd.to_datetime( df['datetime_scrapy'] )\n",
    "        df['month'] = df['datetime_scrapy'].dt.month \n",
    "\n",
    "        # ano\n",
    "        df['year'] = df['datetime_scrapy'].dt.year\n",
    "\n",
    "        # excluir a coluna datetime\n",
    "        df = df.drop( 'datetime_scrapy', axis = 1 )\n",
    "        \n",
    "        print( 'Dados Transformados' )\n",
    "        \n",
    "        return df\n",
    "        \n",
    "    \n",
    "    if merge_datasets == True and transform_data == False:\n",
    "        \n",
    "        # Df com a média de preço por município\n",
    "        df_municipality_mean_price = df_region.groupby('municipality')[['price']].median().reset_index()\n",
    "\n",
    "        # alteração nome coluna\n",
    "        df_municipality_mean_price = df_municipality_mean_price.rename(columns={'price': 'municipality_mean_price'})\n",
    "\n",
    "        # exportar para csv\n",
    "        #d f2_municipality_mean_price.to_csv( 'datasets/municipality.csv' )\n",
    "\n",
    "        # acrescentando a coluna ao df2\n",
    "        df = pd.merge( df, df_municipality_mean_price, on = 'municipality' , how = 'left' )\n",
    "\n",
    "# ======================================================================================================================#\n",
    "\n",
    "        calculando a média por 'province'\n",
    "        df2_province_mean_price = df_region.groupby( 'province' )[['price']].median().reset_index().rename( columns = { 'price': 'province_mean_price' } )\n",
    "\n",
    "        # exportando para csv\n",
    "        # df2_province_mean_price.to_csv( 'datasets/province.csv' )\n",
    "\n",
    "        # acrescentando a coluna ao df2\n",
    "        df = pd.merge( df, df2_province_mean_price , on = 'province' , how = 'left' )\n",
    "\n",
    "#=======================================================================================================================#\n",
    "\n",
    "        # calculando média por district\n",
    "        df2_district_mean_price = df_region.groupby( 'district' )[['price']].median().reset_index().rename( columns = { 'price' : 'district_mean_price' } )\n",
    "\n",
    "        # exportando para csv \n",
    "        #df2_district_mean_price.to_csv( 'datasets/district.csv' )\n",
    "\n",
    "        # acrescentando a coluna ao df2\n",
    "        df = pd.merge( df , df2_district_mean_price , on = 'district', how = 'left' )\n",
    "\n",
    "        print( 'Datasets combinados com preços regioes' )\n",
    "\n",
    "        return df\n",
    "    \n",
    "    if transform_data == True and merge_datasets == True:\n",
    "        \n",
    "        # mes\n",
    "        df['datetime_scrapy'] = pd.to_datetime( df['datetime_scrapy'] )\n",
    "        df['month'] = df['datetime_scrapy'].dt.month \n",
    "\n",
    "        # ano\n",
    "        df['year'] = df['datetime_scrapy'].dt.year\n",
    "\n",
    "        # excluir a coluna datetime\n",
    "        df = df.drop( 'datetime_scrapy', axis = 1 )\n",
    "        \n",
    "        # Df com a média de preço por município\n",
    "        df_municipality_mean_price = df_region.groupby('municipality')[['price']].mean().reset_index()\n",
    "\n",
    "        # alteração nome coluna\n",
    "        df_municipality_mean_price = df_municipality_mean_price.rename(columns={'price': 'municipality_mean_price'})\n",
    "\n",
    "        # exportar para csv\n",
    "        #d f2_municipality_mean_price.to_csv( 'datasets/municipality.csv' )\n",
    "\n",
    "        # acrescentando a coluna ao df2\n",
    "        df = pd.merge( df, df_municipality_mean_price, on = 'municipality' , how = 'left' )\n",
    "        \n",
    "# ======================================================================================================================#\n",
    "        \n",
    "#         # calculando a média por 'province'\n",
    "#         df2_province_mean_price = df_region.groupby( 'province' )[['price']].mean().reset_index().rename( columns = { 'price': 'province_mean_price' } )\n",
    "\n",
    "#         # exportando para csv\n",
    "#         # df2_province_mean_price.to_csv( 'datasets/province.csv' )\n",
    "\n",
    "#         # acrescentando a coluna ao df2\n",
    "#         df = pd.merge( df, df2_province_mean_price , on = 'province' , how = 'left' )\n",
    "        \n",
    "#=======================================================================================================================#\n",
    "        \n",
    "        # calculando média por district\n",
    "        df2_district_mean_price = df_region.groupby( 'district' )[['price']].median().reset_index().rename( columns = { 'price' : 'district_mean_price' } )\n",
    "\n",
    "        # exportando para csv \n",
    "        #df2_district_mean_price.to_csv( 'datasets/district.csv' )\n",
    "\n",
    "        # acrescentando a coluna ao df2\n",
    "        df = pd.merge( df , df2_district_mean_price , on = 'district', how = 'left' )\n",
    "        \n",
    "        print( 'datasets combinados e dados transformados' )\n",
    "        \n",
    "        return df\n",
    "        \n",
    "    else:\n",
    "        \n",
    "        print( 'Nenhuma Transformação' )\n",
    "        \n",
    "        return df\n",
    "            "
   ]
  },
  {
   "cell_type": "code",
   "execution_count": 22,
   "id": "8f26e2d2",
   "metadata": {
    "ExecuteTime": {
     "end_time": "2024-02-29T20:53:23.561552Z",
     "start_time": "2024-02-29T20:53:23.000300Z"
    },
    "scrolled": true
   },
   "outputs": [
    {
     "name": "stdout",
     "output_type": "stream",
     "text": [
      "datasets combinados e dados transformados\n"
     ]
    }
   ],
   "source": [
    "df_mean_region = pd.read_csv( 'datasets/df_region.csv' )\n",
    "\n",
    "\n",
    "df2 = feature_engineering( df = df2 ,  \n",
    "                          df_region= df_mean_region,  transform_data= True, merge_datasets=True)\n"
   ]
  },
  {
   "cell_type": "code",
   "execution_count": 23,
   "id": "63a96183",
   "metadata": {
    "ExecuteTime": {
     "end_time": "2024-02-29T20:53:23.575817Z",
     "start_time": "2024-02-29T20:53:23.562559Z"
    }
   },
   "outputs": [
    {
     "data": {
      "text/html": [
       "<div>\n",
       "<style scoped>\n",
       "    .dataframe tbody tr th:only-of-type {\n",
       "        vertical-align: middle;\n",
       "    }\n",
       "\n",
       "    .dataframe tbody tr th {\n",
       "        vertical-align: top;\n",
       "    }\n",
       "\n",
       "    .dataframe thead th {\n",
       "        text-align: right;\n",
       "    }\n",
       "</style>\n",
       "<table border=\"1\" class=\"dataframe\">\n",
       "  <thead>\n",
       "    <tr style=\"text-align: right;\">\n",
       "      <th></th>\n",
       "      <th>0</th>\n",
       "    </tr>\n",
       "  </thead>\n",
       "  <tbody>\n",
       "    <tr>\n",
       "      <th>thumbnail</th>\n",
       "      <td>1</td>\n",
       "    </tr>\n",
       "    <tr>\n",
       "      <th>num_photos</th>\n",
       "      <td>9.00</td>\n",
       "    </tr>\n",
       "    <tr>\n",
       "      <th>floor</th>\n",
       "      <td>6</td>\n",
       "    </tr>\n",
       "    <tr>\n",
       "      <th>price</th>\n",
       "      <td>900.00</td>\n",
       "    </tr>\n",
       "    <tr>\n",
       "      <th>property_type</th>\n",
       "      <td>flat</td>\n",
       "    </tr>\n",
       "    <tr>\n",
       "      <th>size</th>\n",
       "      <td>65.00</td>\n",
       "    </tr>\n",
       "    <tr>\n",
       "      <th>rooms</th>\n",
       "      <td>1.00</td>\n",
       "    </tr>\n",
       "    <tr>\n",
       "      <th>bathrooms</th>\n",
       "      <td>1.00</td>\n",
       "    </tr>\n",
       "    <tr>\n",
       "      <th>address</th>\n",
       "      <td>Nova Carnaxide</td>\n",
       "    </tr>\n",
       "    <tr>\n",
       "      <th>province</th>\n",
       "      <td>Lisboa</td>\n",
       "    </tr>\n",
       "    <tr>\n",
       "      <th>municipality</th>\n",
       "      <td>Carnaxide e Queijas</td>\n",
       "    </tr>\n",
       "    <tr>\n",
       "      <th>district</th>\n",
       "      <td>Nova Carnaxide</td>\n",
       "    </tr>\n",
       "    <tr>\n",
       "      <th>latitude</th>\n",
       "      <td>38.72</td>\n",
       "    </tr>\n",
       "    <tr>\n",
       "      <th>longitude</th>\n",
       "      <td>-9.23</td>\n",
       "    </tr>\n",
       "    <tr>\n",
       "      <th>show_address</th>\n",
       "      <td>False</td>\n",
       "    </tr>\n",
       "    <tr>\n",
       "      <th>distance</th>\n",
       "      <td>7,777.00</td>\n",
       "    </tr>\n",
       "    <tr>\n",
       "      <th>description</th>\n",
       "      <td>Apartamento T1 mobilado e equipado em Carnaxid...</td>\n",
       "    </tr>\n",
       "    <tr>\n",
       "      <th>has_video</th>\n",
       "      <td>True</td>\n",
       "    </tr>\n",
       "    <tr>\n",
       "      <th>status</th>\n",
       "      <td>good</td>\n",
       "    </tr>\n",
       "    <tr>\n",
       "      <th>new_development</th>\n",
       "      <td>False</td>\n",
       "    </tr>\n",
       "    <tr>\n",
       "      <th>has_lift</th>\n",
       "      <td>1.00</td>\n",
       "    </tr>\n",
       "    <tr>\n",
       "      <th>detailed_type</th>\n",
       "      <td>{'typology': 'flat'}</td>\n",
       "    </tr>\n",
       "    <tr>\n",
       "      <th>suggested_texts</th>\n",
       "      <td>{'subtitle': 'Carnaxide e Queijas, Oeiras', 't...</td>\n",
       "    </tr>\n",
       "    <tr>\n",
       "      <th>has_plan</th>\n",
       "      <td>False</td>\n",
       "    </tr>\n",
       "    <tr>\n",
       "      <th>has3_d_tour</th>\n",
       "      <td>False</td>\n",
       "    </tr>\n",
       "    <tr>\n",
       "      <th>has360</th>\n",
       "      <td>False</td>\n",
       "    </tr>\n",
       "    <tr>\n",
       "      <th>has_staging</th>\n",
       "      <td>False</td>\n",
       "    </tr>\n",
       "    <tr>\n",
       "      <th>top_new_development</th>\n",
       "      <td>False</td>\n",
       "    </tr>\n",
       "    <tr>\n",
       "      <th>parking_space</th>\n",
       "      <td>0</td>\n",
       "    </tr>\n",
       "    <tr>\n",
       "      <th>pagina</th>\n",
       "      <td>1.00</td>\n",
       "    </tr>\n",
       "    <tr>\n",
       "      <th>month</th>\n",
       "      <td>4</td>\n",
       "    </tr>\n",
       "    <tr>\n",
       "      <th>year</th>\n",
       "      <td>2023</td>\n",
       "    </tr>\n",
       "    <tr>\n",
       "      <th>municipality_mean_price</th>\n",
       "      <td>2,276.78</td>\n",
       "    </tr>\n",
       "    <tr>\n",
       "      <th>district_mean_price</th>\n",
       "      <td>1,500.00</td>\n",
       "    </tr>\n",
       "  </tbody>\n",
       "</table>\n",
       "</div>"
      ],
      "text/plain": [
       "                                                                         0\n",
       "thumbnail                                                                1\n",
       "num_photos                                                            9.00\n",
       "floor                                                                    6\n",
       "price                                                               900.00\n",
       "property_type                                                         flat\n",
       "size                                                                 65.00\n",
       "rooms                                                                 1.00\n",
       "bathrooms                                                             1.00\n",
       "address                                                     Nova Carnaxide\n",
       "province                                                            Lisboa\n",
       "municipality                                           Carnaxide e Queijas\n",
       "district                                                    Nova Carnaxide\n",
       "latitude                                                             38.72\n",
       "longitude                                                            -9.23\n",
       "show_address                                                         False\n",
       "distance                                                          7,777.00\n",
       "description              Apartamento T1 mobilado e equipado em Carnaxid...\n",
       "has_video                                                             True\n",
       "status                                                                good\n",
       "new_development                                                      False\n",
       "has_lift                                                              1.00\n",
       "detailed_type                                         {'typology': 'flat'}\n",
       "suggested_texts          {'subtitle': 'Carnaxide e Queijas, Oeiras', 't...\n",
       "has_plan                                                             False\n",
       "has3_d_tour                                                          False\n",
       "has360                                                               False\n",
       "has_staging                                                          False\n",
       "top_new_development                                                  False\n",
       "parking_space                                                            0\n",
       "pagina                                                                1.00\n",
       "month                                                                    4\n",
       "year                                                                  2023\n",
       "municipality_mean_price                                           2,276.78\n",
       "district_mean_price                                               1,500.00"
      ]
     },
     "execution_count": 23,
     "metadata": {},
     "output_type": "execute_result"
    }
   ],
   "source": [
    "df2.head(1).T"
   ]
  },
  {
   "cell_type": "markdown",
   "id": "c89aafaf",
   "metadata": {},
   "source": [
    "# 3.0 Filtragem de Variáveis"
   ]
  },
  {
   "cell_type": "code",
   "execution_count": 24,
   "id": "f997cd89",
   "metadata": {
    "ExecuteTime": {
     "end_time": "2024-02-29T20:53:23.635296Z",
     "start_time": "2024-02-29T20:53:23.576818Z"
    }
   },
   "outputs": [],
   "source": [
    "df3 = df2.copy()"
   ]
  },
  {
   "cell_type": "code",
   "execution_count": 25,
   "id": "329f4b37",
   "metadata": {
    "ExecuteTime": {
     "end_time": "2024-02-29T20:53:23.642959Z",
     "start_time": "2024-02-29T20:53:23.637882Z"
    }
   },
   "outputs": [],
   "source": [
    "def filter_variables(df, filter_variables = False):\n",
    "    \n",
    "    if filter_variables:\n",
    "        \n",
    "        # Vou querer saber somente os preços na province de Lisboa\n",
    "        df = df.loc[ df['province'] == 'Lisboa' , :  ]\n",
    "\n",
    "        # vou querer somente as habitações que tenham de 0 a no máximo 4 quartos\n",
    "        df = df.loc[ df['rooms'].isin( [ 0,1,2,3,4 ] ) , : ]\n",
    "        \n",
    "        print('Variavies filtradas')\n",
    "        \n",
    "        return df\n",
    "    \n",
    "    else:\n",
    "        \n",
    "        print('Variavies não filtradas')\n",
    "        \n",
    "        return df\n",
    "\n",
    "        \n",
    "    "
   ]
  },
  {
   "cell_type": "code",
   "execution_count": 26,
   "id": "4fb8bddc",
   "metadata": {
    "ExecuteTime": {
     "end_time": "2024-02-29T20:53:23.654542Z",
     "start_time": "2024-02-29T20:53:23.644962Z"
    }
   },
   "outputs": [
    {
     "name": "stdout",
     "output_type": "stream",
     "text": [
      "Variavies não filtradas\n"
     ]
    }
   ],
   "source": [
    "# vou manter filter_variables = False neste ciclo\n",
    "df3 = filter_variables( df3 )"
   ]
  },
  {
   "cell_type": "markdown",
   "id": "91c91dfd",
   "metadata": {
    "ExecuteTime": {
     "end_time": "2023-08-11T11:58:12.084853Z",
     "start_time": "2023-08-11T11:58:12.079256Z"
    }
   },
   "source": [
    "# 4.0 Análise Exploratória de Dados"
   ]
  },
  {
   "cell_type": "code",
   "execution_count": 27,
   "id": "c3130231",
   "metadata": {
    "ExecuteTime": {
     "end_time": "2024-02-29T20:53:23.664168Z",
     "start_time": "2024-02-29T20:53:23.656546Z"
    }
   },
   "outputs": [],
   "source": [
    "df4 = df3.copy()"
   ]
  },
  {
   "cell_type": "markdown",
   "id": "692be53f",
   "metadata": {},
   "source": [
    "## 4.1. - Analise Univariada"
   ]
  },
  {
   "cell_type": "code",
   "execution_count": 28,
   "id": "b9c64d61",
   "metadata": {
    "ExecuteTime": {
     "end_time": "2024-02-29T20:53:23.720273Z",
     "start_time": "2024-02-29T20:53:23.674917Z"
    }
   },
   "outputs": [
    {
     "data": {
      "text/html": [
       "<div>\n",
       "<style scoped>\n",
       "    .dataframe tbody tr th:only-of-type {\n",
       "        vertical-align: middle;\n",
       "    }\n",
       "\n",
       "    .dataframe tbody tr th {\n",
       "        vertical-align: top;\n",
       "    }\n",
       "\n",
       "    .dataframe thead th {\n",
       "        text-align: right;\n",
       "    }\n",
       "</style>\n",
       "<table border=\"1\" class=\"dataframe\">\n",
       "  <thead>\n",
       "    <tr style=\"text-align: right;\">\n",
       "      <th></th>\n",
       "      <th>features</th>\n",
       "      <th>min</th>\n",
       "      <th>max</th>\n",
       "      <th>range</th>\n",
       "      <th>mean</th>\n",
       "      <th>median</th>\n",
       "      <th>std</th>\n",
       "      <th>skew</th>\n",
       "      <th>kurtosis</th>\n",
       "    </tr>\n",
       "  </thead>\n",
       "  <tbody>\n",
       "    <tr>\n",
       "      <th>0</th>\n",
       "      <td>num_photos</td>\n",
       "      <td>0.00</td>\n",
       "      <td>180.00</td>\n",
       "      <td>180.00</td>\n",
       "      <td>24.91</td>\n",
       "      <td>23.00</td>\n",
       "      <td>13.01</td>\n",
       "      <td>1.62</td>\n",
       "      <td>6.15</td>\n",
       "    </tr>\n",
       "    <tr>\n",
       "      <th>1</th>\n",
       "      <td>price</td>\n",
       "      <td>300.00</td>\n",
       "      <td>80,000.00</td>\n",
       "      <td>79,700.00</td>\n",
       "      <td>2,808.40</td>\n",
       "      <td>2,000.00</td>\n",
       "      <td>2,685.59</td>\n",
       "      <td>5.11</td>\n",
       "      <td>67.62</td>\n",
       "    </tr>\n",
       "    <tr>\n",
       "      <th>2</th>\n",
       "      <td>size</td>\n",
       "      <td>10.00</td>\n",
       "      <td>30,940.00</td>\n",
       "      <td>30,930.00</td>\n",
       "      <td>140.59</td>\n",
       "      <td>107.00</td>\n",
       "      <td>301.58</td>\n",
       "      <td>81.42</td>\n",
       "      <td>8,045.57</td>\n",
       "    </tr>\n",
       "    <tr>\n",
       "      <th>3</th>\n",
       "      <td>rooms</td>\n",
       "      <td>0.00</td>\n",
       "      <td>24.00</td>\n",
       "      <td>24.00</td>\n",
       "      <td>2.50</td>\n",
       "      <td>2.00</td>\n",
       "      <td>1.36</td>\n",
       "      <td>1.65</td>\n",
       "      <td>12.73</td>\n",
       "    </tr>\n",
       "    <tr>\n",
       "      <th>4</th>\n",
       "      <td>bathrooms</td>\n",
       "      <td>1.00</td>\n",
       "      <td>29.00</td>\n",
       "      <td>28.00</td>\n",
       "      <td>2.02</td>\n",
       "      <td>2.00</td>\n",
       "      <td>1.22</td>\n",
       "      <td>2.59</td>\n",
       "      <td>23.38</td>\n",
       "    </tr>\n",
       "    <tr>\n",
       "      <th>5</th>\n",
       "      <td>distance</td>\n",
       "      <td>61.00</td>\n",
       "      <td>49,855.00</td>\n",
       "      <td>49,794.00</td>\n",
       "      <td>11,078.28</td>\n",
       "      <td>6,642.00</td>\n",
       "      <td>10,291.29</td>\n",
       "      <td>0.84</td>\n",
       "      <td>-0.34</td>\n",
       "    </tr>\n",
       "    <tr>\n",
       "      <th>6</th>\n",
       "      <td>has_lift</td>\n",
       "      <td>0.00</td>\n",
       "      <td>1.00</td>\n",
       "      <td>1.00</td>\n",
       "      <td>0.45</td>\n",
       "      <td>0.00</td>\n",
       "      <td>0.50</td>\n",
       "      <td>0.20</td>\n",
       "      <td>-1.96</td>\n",
       "    </tr>\n",
       "    <tr>\n",
       "      <th>7</th>\n",
       "      <td>pagina</td>\n",
       "      <td>1.00</td>\n",
       "      <td>94.00</td>\n",
       "      <td>93.00</td>\n",
       "      <td>31.73</td>\n",
       "      <td>27.00</td>\n",
       "      <td>23.60</td>\n",
       "      <td>0.86</td>\n",
       "      <td>-0.04</td>\n",
       "    </tr>\n",
       "    <tr>\n",
       "      <th>8</th>\n",
       "      <td>month</td>\n",
       "      <td>1.00</td>\n",
       "      <td>9.00</td>\n",
       "      <td>8.00</td>\n",
       "      <td>3.88</td>\n",
       "      <td>3.00</td>\n",
       "      <td>2.73</td>\n",
       "      <td>0.63</td>\n",
       "      <td>-1.07</td>\n",
       "    </tr>\n",
       "    <tr>\n",
       "      <th>9</th>\n",
       "      <td>year</td>\n",
       "      <td>2,023.00</td>\n",
       "      <td>2,024.00</td>\n",
       "      <td>1.00</td>\n",
       "      <td>2,023.41</td>\n",
       "      <td>2,023.00</td>\n",
       "      <td>0.49</td>\n",
       "      <td>0.39</td>\n",
       "      <td>-1.85</td>\n",
       "    </tr>\n",
       "    <tr>\n",
       "      <th>10</th>\n",
       "      <td>municipality_mean_price</td>\n",
       "      <td>500.00</td>\n",
       "      <td>18,000.00</td>\n",
       "      <td>17,500.00</td>\n",
       "      <td>2,808.40</td>\n",
       "      <td>2,544.31</td>\n",
       "      <td>1,173.86</td>\n",
       "      <td>0.92</td>\n",
       "      <td>1.59</td>\n",
       "    </tr>\n",
       "    <tr>\n",
       "      <th>11</th>\n",
       "      <td>district_mean_price</td>\n",
       "      <td>500.00</td>\n",
       "      <td>15,750.00</td>\n",
       "      <td>15,250.00</td>\n",
       "      <td>2,248.13</td>\n",
       "      <td>1,975.00</td>\n",
       "      <td>1,019.87</td>\n",
       "      <td>3.27</td>\n",
       "      <td>27.64</td>\n",
       "    </tr>\n",
       "  </tbody>\n",
       "</table>\n",
       "</div>"
      ],
      "text/plain": [
       "                   features      min       max     range      mean   median  \\\n",
       "0                num_photos     0.00    180.00    180.00     24.91    23.00   \n",
       "1                     price   300.00 80,000.00 79,700.00  2,808.40 2,000.00   \n",
       "2                      size    10.00 30,940.00 30,930.00    140.59   107.00   \n",
       "3                     rooms     0.00     24.00     24.00      2.50     2.00   \n",
       "4                 bathrooms     1.00     29.00     28.00      2.02     2.00   \n",
       "5                  distance    61.00 49,855.00 49,794.00 11,078.28 6,642.00   \n",
       "6                  has_lift     0.00      1.00      1.00      0.45     0.00   \n",
       "7                    pagina     1.00     94.00     93.00     31.73    27.00   \n",
       "8                     month     1.00      9.00      8.00      3.88     3.00   \n",
       "9                      year 2,023.00  2,024.00      1.00  2,023.41 2,023.00   \n",
       "10  municipality_mean_price   500.00 18,000.00 17,500.00  2,808.40 2,544.31   \n",
       "11      district_mean_price   500.00 15,750.00 15,250.00  2,248.13 1,975.00   \n",
       "\n",
       "         std  skew  kurtosis  \n",
       "0      13.01  1.62      6.15  \n",
       "1   2,685.59  5.11     67.62  \n",
       "2     301.58 81.42  8,045.57  \n",
       "3       1.36  1.65     12.73  \n",
       "4       1.22  2.59     23.38  \n",
       "5  10,291.29  0.84     -0.34  \n",
       "6       0.50  0.20     -1.96  \n",
       "7      23.60  0.86     -0.04  \n",
       "8       2.73  0.63     -1.07  \n",
       "9       0.49  0.39     -1.85  \n",
       "10  1,173.86  0.92      1.59  \n",
       "11  1,019.87  3.27     27.64  "
      ]
     },
     "execution_count": 28,
     "metadata": {},
     "output_type": "execute_result"
    }
   ],
   "source": [
    "# verifico as informações estatísticas\n",
    "stats( df4 , ['latitude','longitude'] )"
   ]
  },
  {
   "cell_type": "code",
   "execution_count": 29,
   "id": "8908430c",
   "metadata": {
    "ExecuteTime": {
     "end_time": "2024-02-29T20:53:23.732044Z",
     "start_time": "2024-02-29T20:53:23.722277Z"
    }
   },
   "outputs": [],
   "source": [
    "# removendo o imóvel de tamanho 97500 m2\n",
    "df4 = df4.loc[ df4['size'] != 97500 , : ]"
   ]
  },
  {
   "cell_type": "code",
   "execution_count": 30,
   "id": "bc50a2f9",
   "metadata": {
    "ExecuteTime": {
     "end_time": "2024-02-29T20:53:23.786592Z",
     "start_time": "2024-02-29T20:53:23.736611Z"
    }
   },
   "outputs": [
    {
     "data": {
      "text/html": [
       "<div>\n",
       "<style scoped>\n",
       "    .dataframe tbody tr th:only-of-type {\n",
       "        vertical-align: middle;\n",
       "    }\n",
       "\n",
       "    .dataframe tbody tr th {\n",
       "        vertical-align: top;\n",
       "    }\n",
       "\n",
       "    .dataframe thead th {\n",
       "        text-align: right;\n",
       "    }\n",
       "</style>\n",
       "<table border=\"1\" class=\"dataframe\">\n",
       "  <thead>\n",
       "    <tr style=\"text-align: right;\">\n",
       "      <th></th>\n",
       "      <th>features</th>\n",
       "      <th>min</th>\n",
       "      <th>max</th>\n",
       "      <th>range</th>\n",
       "      <th>mean</th>\n",
       "      <th>median</th>\n",
       "      <th>std</th>\n",
       "      <th>skew</th>\n",
       "      <th>kurtosis</th>\n",
       "    </tr>\n",
       "  </thead>\n",
       "  <tbody>\n",
       "    <tr>\n",
       "      <th>0</th>\n",
       "      <td>num_photos</td>\n",
       "      <td>0.00</td>\n",
       "      <td>180.00</td>\n",
       "      <td>180.00</td>\n",
       "      <td>24.91</td>\n",
       "      <td>23.00</td>\n",
       "      <td>13.01</td>\n",
       "      <td>1.62</td>\n",
       "      <td>6.15</td>\n",
       "    </tr>\n",
       "    <tr>\n",
       "      <th>1</th>\n",
       "      <td>price</td>\n",
       "      <td>300.00</td>\n",
       "      <td>80,000.00</td>\n",
       "      <td>79,700.00</td>\n",
       "      <td>2,808.40</td>\n",
       "      <td>2,000.00</td>\n",
       "      <td>2,685.59</td>\n",
       "      <td>5.11</td>\n",
       "      <td>67.62</td>\n",
       "    </tr>\n",
       "    <tr>\n",
       "      <th>2</th>\n",
       "      <td>size</td>\n",
       "      <td>10.00</td>\n",
       "      <td>30,940.00</td>\n",
       "      <td>30,930.00</td>\n",
       "      <td>140.59</td>\n",
       "      <td>107.00</td>\n",
       "      <td>301.58</td>\n",
       "      <td>81.42</td>\n",
       "      <td>8,045.57</td>\n",
       "    </tr>\n",
       "    <tr>\n",
       "      <th>3</th>\n",
       "      <td>rooms</td>\n",
       "      <td>0.00</td>\n",
       "      <td>24.00</td>\n",
       "      <td>24.00</td>\n",
       "      <td>2.50</td>\n",
       "      <td>2.00</td>\n",
       "      <td>1.36</td>\n",
       "      <td>1.65</td>\n",
       "      <td>12.73</td>\n",
       "    </tr>\n",
       "    <tr>\n",
       "      <th>4</th>\n",
       "      <td>bathrooms</td>\n",
       "      <td>1.00</td>\n",
       "      <td>29.00</td>\n",
       "      <td>28.00</td>\n",
       "      <td>2.02</td>\n",
       "      <td>2.00</td>\n",
       "      <td>1.22</td>\n",
       "      <td>2.59</td>\n",
       "      <td>23.38</td>\n",
       "    </tr>\n",
       "    <tr>\n",
       "      <th>5</th>\n",
       "      <td>distance</td>\n",
       "      <td>61.00</td>\n",
       "      <td>49,855.00</td>\n",
       "      <td>49,794.00</td>\n",
       "      <td>11,078.28</td>\n",
       "      <td>6,642.00</td>\n",
       "      <td>10,291.29</td>\n",
       "      <td>0.84</td>\n",
       "      <td>-0.34</td>\n",
       "    </tr>\n",
       "    <tr>\n",
       "      <th>6</th>\n",
       "      <td>has_lift</td>\n",
       "      <td>0.00</td>\n",
       "      <td>1.00</td>\n",
       "      <td>1.00</td>\n",
       "      <td>0.45</td>\n",
       "      <td>0.00</td>\n",
       "      <td>0.50</td>\n",
       "      <td>0.20</td>\n",
       "      <td>-1.96</td>\n",
       "    </tr>\n",
       "    <tr>\n",
       "      <th>7</th>\n",
       "      <td>pagina</td>\n",
       "      <td>1.00</td>\n",
       "      <td>94.00</td>\n",
       "      <td>93.00</td>\n",
       "      <td>31.73</td>\n",
       "      <td>27.00</td>\n",
       "      <td>23.60</td>\n",
       "      <td>0.86</td>\n",
       "      <td>-0.04</td>\n",
       "    </tr>\n",
       "    <tr>\n",
       "      <th>8</th>\n",
       "      <td>month</td>\n",
       "      <td>1.00</td>\n",
       "      <td>9.00</td>\n",
       "      <td>8.00</td>\n",
       "      <td>3.88</td>\n",
       "      <td>3.00</td>\n",
       "      <td>2.73</td>\n",
       "      <td>0.63</td>\n",
       "      <td>-1.07</td>\n",
       "    </tr>\n",
       "    <tr>\n",
       "      <th>9</th>\n",
       "      <td>year</td>\n",
       "      <td>2,023.00</td>\n",
       "      <td>2,024.00</td>\n",
       "      <td>1.00</td>\n",
       "      <td>2,023.41</td>\n",
       "      <td>2,023.00</td>\n",
       "      <td>0.49</td>\n",
       "      <td>0.39</td>\n",
       "      <td>-1.85</td>\n",
       "    </tr>\n",
       "    <tr>\n",
       "      <th>10</th>\n",
       "      <td>municipality_mean_price</td>\n",
       "      <td>500.00</td>\n",
       "      <td>18,000.00</td>\n",
       "      <td>17,500.00</td>\n",
       "      <td>2,808.40</td>\n",
       "      <td>2,544.31</td>\n",
       "      <td>1,173.86</td>\n",
       "      <td>0.92</td>\n",
       "      <td>1.59</td>\n",
       "    </tr>\n",
       "    <tr>\n",
       "      <th>11</th>\n",
       "      <td>district_mean_price</td>\n",
       "      <td>500.00</td>\n",
       "      <td>15,750.00</td>\n",
       "      <td>15,250.00</td>\n",
       "      <td>2,248.13</td>\n",
       "      <td>1,975.00</td>\n",
       "      <td>1,019.87</td>\n",
       "      <td>3.27</td>\n",
       "      <td>27.64</td>\n",
       "    </tr>\n",
       "  </tbody>\n",
       "</table>\n",
       "</div>"
      ],
      "text/plain": [
       "                   features      min       max     range      mean   median  \\\n",
       "0                num_photos     0.00    180.00    180.00     24.91    23.00   \n",
       "1                     price   300.00 80,000.00 79,700.00  2,808.40 2,000.00   \n",
       "2                      size    10.00 30,940.00 30,930.00    140.59   107.00   \n",
       "3                     rooms     0.00     24.00     24.00      2.50     2.00   \n",
       "4                 bathrooms     1.00     29.00     28.00      2.02     2.00   \n",
       "5                  distance    61.00 49,855.00 49,794.00 11,078.28 6,642.00   \n",
       "6                  has_lift     0.00      1.00      1.00      0.45     0.00   \n",
       "7                    pagina     1.00     94.00     93.00     31.73    27.00   \n",
       "8                     month     1.00      9.00      8.00      3.88     3.00   \n",
       "9                      year 2,023.00  2,024.00      1.00  2,023.41 2,023.00   \n",
       "10  municipality_mean_price   500.00 18,000.00 17,500.00  2,808.40 2,544.31   \n",
       "11      district_mean_price   500.00 15,750.00 15,250.00  2,248.13 1,975.00   \n",
       "\n",
       "         std  skew  kurtosis  \n",
       "0      13.01  1.62      6.15  \n",
       "1   2,685.59  5.11     67.62  \n",
       "2     301.58 81.42  8,045.57  \n",
       "3       1.36  1.65     12.73  \n",
       "4       1.22  2.59     23.38  \n",
       "5  10,291.29  0.84     -0.34  \n",
       "6       0.50  0.20     -1.96  \n",
       "7      23.60  0.86     -0.04  \n",
       "8       2.73  0.63     -1.07  \n",
       "9       0.49  0.39     -1.85  \n",
       "10  1,173.86  0.92      1.59  \n",
       "11  1,019.87  3.27     27.64  "
      ]
     },
     "execution_count": 30,
     "metadata": {},
     "output_type": "execute_result"
    }
   ],
   "source": [
    "# verifico novamente as informações estatísticas\n",
    "stats( df4 , ['latitude','longitude'])"
   ]
  },
  {
   "cell_type": "markdown",
   "id": "f77f429b",
   "metadata": {},
   "source": [
    "### 4.1.1 - Response Variable"
   ]
  },
  {
   "cell_type": "code",
   "execution_count": 31,
   "id": "37727c23",
   "metadata": {
    "ExecuteTime": {
     "end_time": "2024-02-29T20:53:25.020535Z",
     "start_time": "2024-02-29T20:53:23.789597Z"
    }
   },
   "outputs": [
    {
     "data": {
      "text/plain": [
       "<seaborn.axisgrid.FacetGrid at 0x274f57f0810>"
      ]
     },
     "execution_count": 31,
     "metadata": {},
     "output_type": "execute_result"
    },
    {
     "data": {
      "image/png": "[encoded data removed]",
      "text/plain": [
       "<Figure size 500x500 with 1 Axes>"
      ]
     },
     "metadata": {},
     "output_type": "display_data"
    }
   ],
   "source": [
    "# variavael resposta normal\n",
    "sns.displot( df4['price'] )"
   ]
  },
  {
   "cell_type": "code",
   "execution_count": 32,
   "id": "0a757ab7",
   "metadata": {
    "ExecuteTime": {
     "end_time": "2024-02-29T20:53:25.026722Z",
     "start_time": "2024-02-29T20:53:25.022692Z"
    }
   },
   "outputs": [],
   "source": [
    "# função para remover outliers\n",
    "def remove_outliers(df, coluna = None ,  keep_outliers = True ):\n",
    "    \n",
    "    if keep_outliers:\n",
    "        print( 'Outliers mantidos' )\n",
    "        return df\n",
    "        \n",
    "    else:\n",
    "        # variavel resposta sem outliers\n",
    "        df = remover_outliers( df4 , coluna )\n",
    "        print('Outliers removidos')\n",
    "        return df"
   ]
  },
  {
   "cell_type": "code",
   "execution_count": 33,
   "id": "ca498f89",
   "metadata": {
    "ExecuteTime": {
     "end_time": "2024-02-29T20:53:25.063879Z",
     "start_time": "2024-02-29T20:53:25.028758Z"
    }
   },
   "outputs": [
    {
     "name": "stdout",
     "output_type": "stream",
     "text": [
      "Outliers mantidos\n"
     ]
    }
   ],
   "source": [
    "# manter os outliers\n",
    "df4 = remove_outliers( df4 )\n"
   ]
  },
  {
   "cell_type": "markdown",
   "id": "17ad1564",
   "metadata": {},
   "source": [
    "### 4.1.2 - Numerical Variable"
   ]
  },
  {
   "cell_type": "code",
   "execution_count": 34,
   "id": "6046dd00",
   "metadata": {
    "ExecuteTime": {
     "end_time": "2024-02-29T20:53:27.731218Z",
     "start_time": "2024-02-29T20:53:25.066874Z"
    }
   },
   "outputs": [
    {
     "data": {
      "image/png": "[encoded data removed]",
      "text/plain": [
       "<Figure size 1500x1500 with 16 Axes>"
      ]
     },
     "metadata": {},
     "output_type": "display_data"
    }
   ],
   "source": [
    "df4_num_attributes = df4.select_dtypes( include = ['int64','float64'] )\n",
    "df4_num_attributes.hist( bins = 25, figsize=( 15,15 ) );"
   ]
  },
  {
   "cell_type": "markdown",
   "id": "a8a9c4ac",
   "metadata": {},
   "source": [
    "## 4.2. -  Análise Bivariada"
   ]
  },
  {
   "cell_type": "markdown",
   "id": "ec807ab5",
   "metadata": {},
   "source": [
    "### 4.2.1 - Correlação entre Atributos Numéricos"
   ]
  },
  {
   "cell_type": "code",
   "execution_count": 35,
   "id": "252693e3",
   "metadata": {
    "ExecuteTime": {
     "end_time": "2024-02-29T20:53:28.510910Z",
     "start_time": "2024-02-29T20:53:27.732219Z"
    }
   },
   "outputs": [
    {
     "data": {
      "image/png": "[encoded data removed]",
      "text/plain": [
       "<Figure size 1500x1000 with 2 Axes>"
      ]
     },
     "metadata": {},
     "output_type": "display_data"
    }
   ],
   "source": [
    "plt.figure( figsize = (15,10) )\n",
    "correlation = df4_num_attributes.corr( method = 'pearson' )\n",
    "sns.heatmap( correlation, annot = True );"
   ]
  },
  {
   "cell_type": "markdown",
   "id": "acd3b80e",
   "metadata": {
    "ExecuteTime": {
     "end_time": "2023-08-14T21:04:02.912732Z",
     "start_time": "2023-08-14T21:04:02.909470Z"
    }
   },
   "source": [
    "### 4.2.2 - Correlação entre Atributos Categóricos"
   ]
  },
  {
   "cell_type": "code",
   "execution_count": 36,
   "id": "94eab0de",
   "metadata": {
    "ExecuteTime": {
     "end_time": "2024-02-29T20:55:28.844694Z",
     "start_time": "2024-02-29T20:53:28.512907Z"
    },
    "scrolled": true
   },
   "outputs": [
    {
     "name": "stderr",
     "output_type": "stream",
     "text": [
      "C:\\Users\\oscar\\AppData\\Local\\Temp\\ipykernel_6780\\3203194230.py:112: RuntimeWarning: invalid value encountered in sqrt\n",
      "  v = np.sqrt( ( chi2corr/n ) / ( min ( kcorr-1 , rcorr-1 ) )  )\n",
      "C:\\Users\\oscar\\AppData\\Local\\Temp\\ipykernel_6780\\3203194230.py:112: RuntimeWarning: invalid value encountered in sqrt\n",
      "  v = np.sqrt( ( chi2corr/n ) / ( min ( kcorr-1 , rcorr-1 ) )  )\n",
      "C:\\Users\\oscar\\AppData\\Local\\Temp\\ipykernel_6780\\3203194230.py:112: RuntimeWarning: invalid value encountered in sqrt\n",
      "  v = np.sqrt( ( chi2corr/n ) / ( min ( kcorr-1 , rcorr-1 ) )  )\n",
      "C:\\Users\\oscar\\AppData\\Local\\Temp\\ipykernel_6780\\3203194230.py:112: RuntimeWarning: invalid value encountered in sqrt\n",
      "  v = np.sqrt( ( chi2corr/n ) / ( min ( kcorr-1 , rcorr-1 ) )  )\n",
      "C:\\Users\\oscar\\AppData\\Local\\Temp\\ipykernel_6780\\3203194230.py:112: RuntimeWarning: invalid value encountered in sqrt\n",
      "  v = np.sqrt( ( chi2corr/n ) / ( min ( kcorr-1 , rcorr-1 ) )  )\n",
      "C:\\Users\\oscar\\AppData\\Local\\Temp\\ipykernel_6780\\3203194230.py:112: RuntimeWarning: invalid value encountered in sqrt\n",
      "  v = np.sqrt( ( chi2corr/n ) / ( min ( kcorr-1 , rcorr-1 ) )  )\n",
      "C:\\Users\\oscar\\AppData\\Local\\Temp\\ipykernel_6780\\3203194230.py:112: RuntimeWarning: invalid value encountered in sqrt\n",
      "  v = np.sqrt( ( chi2corr/n ) / ( min ( kcorr-1 , rcorr-1 ) )  )\n",
      "C:\\Users\\oscar\\AppData\\Local\\Temp\\ipykernel_6780\\3203194230.py:112: RuntimeWarning: invalid value encountered in sqrt\n",
      "  v = np.sqrt( ( chi2corr/n ) / ( min ( kcorr-1 , rcorr-1 ) )  )\n",
      "C:\\Users\\oscar\\AppData\\Local\\Temp\\ipykernel_6780\\3203194230.py:112: RuntimeWarning: invalid value encountered in sqrt\n",
      "  v = np.sqrt( ( chi2corr/n ) / ( min ( kcorr-1 , rcorr-1 ) )  )\n",
      "C:\\Users\\oscar\\AppData\\Local\\Temp\\ipykernel_6780\\3203194230.py:112: RuntimeWarning: invalid value encountered in sqrt\n",
      "  v = np.sqrt( ( chi2corr/n ) / ( min ( kcorr-1 , rcorr-1 ) )  )\n",
      "C:\\Users\\oscar\\AppData\\Local\\Temp\\ipykernel_6780\\3203194230.py:112: RuntimeWarning: invalid value encountered in sqrt\n",
      "  v = np.sqrt( ( chi2corr/n ) / ( min ( kcorr-1 , rcorr-1 ) )  )\n",
      "C:\\Users\\oscar\\AppData\\Local\\Temp\\ipykernel_6780\\3203194230.py:112: RuntimeWarning: invalid value encountered in sqrt\n",
      "  v = np.sqrt( ( chi2corr/n ) / ( min ( kcorr-1 , rcorr-1 ) )  )\n",
      "C:\\Users\\oscar\\AppData\\Local\\Temp\\ipykernel_6780\\3203194230.py:112: RuntimeWarning: invalid value encountered in sqrt\n",
      "  v = np.sqrt( ( chi2corr/n ) / ( min ( kcorr-1 , rcorr-1 ) )  )\n",
      "C:\\Users\\oscar\\AppData\\Local\\Temp\\ipykernel_6780\\3203194230.py:112: RuntimeWarning: invalid value encountered in sqrt\n",
      "  v = np.sqrt( ( chi2corr/n ) / ( min ( kcorr-1 , rcorr-1 ) )  )\n",
      "C:\\Users\\oscar\\AppData\\Local\\Temp\\ipykernel_6780\\3203194230.py:112: RuntimeWarning: invalid value encountered in sqrt\n",
      "  v = np.sqrt( ( chi2corr/n ) / ( min ( kcorr-1 , rcorr-1 ) )  )\n",
      "C:\\Users\\oscar\\AppData\\Local\\Temp\\ipykernel_6780\\3203194230.py:112: RuntimeWarning: invalid value encountered in sqrt\n",
      "  v = np.sqrt( ( chi2corr/n ) / ( min ( kcorr-1 , rcorr-1 ) )  )\n",
      "C:\\Users\\oscar\\AppData\\Local\\Temp\\ipykernel_6780\\3203194230.py:112: RuntimeWarning: invalid value encountered in sqrt\n",
      "  v = np.sqrt( ( chi2corr/n ) / ( min ( kcorr-1 , rcorr-1 ) )  )\n",
      "C:\\Users\\oscar\\AppData\\Local\\Temp\\ipykernel_6780\\3203194230.py:112: RuntimeWarning: invalid value encountered in sqrt\n",
      "  v = np.sqrt( ( chi2corr/n ) / ( min ( kcorr-1 , rcorr-1 ) )  )\n",
      "C:\\Users\\oscar\\AppData\\Local\\Temp\\ipykernel_6780\\3203194230.py:112: RuntimeWarning: invalid value encountered in sqrt\n",
      "  v = np.sqrt( ( chi2corr/n ) / ( min ( kcorr-1 , rcorr-1 ) )  )\n",
      "C:\\Users\\oscar\\AppData\\Local\\Temp\\ipykernel_6780\\3203194230.py:112: RuntimeWarning: invalid value encountered in sqrt\n",
      "  v = np.sqrt( ( chi2corr/n ) / ( min ( kcorr-1 , rcorr-1 ) )  )\n",
      "C:\\Users\\oscar\\AppData\\Local\\Temp\\ipykernel_6780\\3203194230.py:112: RuntimeWarning: invalid value encountered in sqrt\n",
      "  v = np.sqrt( ( chi2corr/n ) / ( min ( kcorr-1 , rcorr-1 ) )  )\n",
      "C:\\Users\\oscar\\AppData\\Local\\Temp\\ipykernel_6780\\3203194230.py:112: RuntimeWarning: invalid value encountered in sqrt\n",
      "  v = np.sqrt( ( chi2corr/n ) / ( min ( kcorr-1 , rcorr-1 ) )  )\n",
      "C:\\Users\\oscar\\AppData\\Local\\Temp\\ipykernel_6780\\3203194230.py:112: RuntimeWarning: invalid value encountered in sqrt\n",
      "  v = np.sqrt( ( chi2corr/n ) / ( min ( kcorr-1 , rcorr-1 ) )  )\n",
      "C:\\Users\\oscar\\AppData\\Local\\Temp\\ipykernel_6780\\3203194230.py:112: RuntimeWarning: invalid value encountered in sqrt\n",
      "  v = np.sqrt( ( chi2corr/n ) / ( min ( kcorr-1 , rcorr-1 ) )  )\n",
      "C:\\Users\\oscar\\AppData\\Local\\Temp\\ipykernel_6780\\3203194230.py:112: RuntimeWarning: invalid value encountered in sqrt\n",
      "  v = np.sqrt( ( chi2corr/n ) / ( min ( kcorr-1 , rcorr-1 ) )  )\n",
      "C:\\Users\\oscar\\AppData\\Local\\Temp\\ipykernel_6780\\3203194230.py:112: RuntimeWarning: invalid value encountered in sqrt\n",
      "  v = np.sqrt( ( chi2corr/n ) / ( min ( kcorr-1 , rcorr-1 ) )  )\n",
      "C:\\Users\\oscar\\AppData\\Local\\Temp\\ipykernel_6780\\3203194230.py:112: RuntimeWarning: invalid value encountered in sqrt\n",
      "  v = np.sqrt( ( chi2corr/n ) / ( min ( kcorr-1 , rcorr-1 ) )  )\n",
      "C:\\Users\\oscar\\AppData\\Local\\Temp\\ipykernel_6780\\3203194230.py:112: RuntimeWarning: invalid value encountered in sqrt\n",
      "  v = np.sqrt( ( chi2corr/n ) / ( min ( kcorr-1 , rcorr-1 ) )  )\n",
      "C:\\Users\\oscar\\AppData\\Local\\Temp\\ipykernel_6780\\3203194230.py:112: RuntimeWarning: invalid value encountered in sqrt\n",
      "  v = np.sqrt( ( chi2corr/n ) / ( min ( kcorr-1 , rcorr-1 ) )  )\n"
     ]
    }
   ],
   "source": [
    "a = df4.select_dtypes( include = ['object'] ) # pego o df mais atualizado\n",
    "\n",
    "# aplico a função cramer v nas variáveis categoricas\n",
    "a1 = cramer_v( a['floor'] , a['floor'] )\n",
    "a2 = cramer_v( a['floor'], a['property_type'] )\n",
    "a3 = cramer_v( a['floor'], a['address'] )\n",
    "a4 = cramer_v( a['floor'], a['province'] )\n",
    "a5 = cramer_v( a['floor'], a['municipality'] )\n",
    "a6 = cramer_v( a['floor'], a['district'] )\n",
    "a7 = cramer_v( a['floor'], a['description'] )\n",
    "a8 = cramer_v( a['floor'], a['status'] )\n",
    "a9 = cramer_v( a['floor'], a['detailed_type'] )\n",
    "a10 = cramer_v( a['floor'], a['suggested_texts'] )\n",
    "a11 = cramer_v( a['floor'], a['parking_space'] )\n",
    "\n",
    "# aplico a função cramer v nas variáveis categoricas\n",
    "a12= cramer_v( a['property_type'], a['floor'] )\n",
    "a13= cramer_v( a['property_type'], a['property_type'] )\n",
    "a14= cramer_v( a['property_type'], a['address'] )\n",
    "a15= cramer_v( a['property_type'], a['province'] )\n",
    "a16= cramer_v( a['property_type'], a['municipality'] )\n",
    "a17= cramer_v( a['property_type'], a['district'] )\n",
    "a18= cramer_v( a['property_type'], a['description'] )\n",
    "a19= cramer_v( a['property_type'], a['status'] )\n",
    "a20= cramer_v( a['property_type'], a['detailed_type'] )\n",
    "a21=cramer_v(  a['property_type'], a['suggested_texts'] )\n",
    "a22=cramer_v(  a['property_type'], a['parking_space'] )\n",
    "\n",
    "# aplico a função cramer v nas variáveis categoricas\n",
    "a23= cramer_v( a['address'], a['floor'] )\n",
    "a24= cramer_v( a['address'], a['property_type'] )\n",
    "a25= cramer_v( a['address'], a['address'] )\n",
    "a26= cramer_v( a['address'], a['province'] )\n",
    "a27= cramer_v( a['address'], a['municipality'] )\n",
    "a28= cramer_v( a['address'], a['district'] )\n",
    "a29= cramer_v( a['address'], a['description'] )\n",
    "a30= cramer_v( a['address'], a['status'] )\n",
    "a31= cramer_v( a['address'], a['detailed_type'] )\n",
    "a32=cramer_v(  a['address'], a['suggested_texts'] )\n",
    "a33=cramer_v(  a['address'], a['parking_space'] )\n",
    "\n",
    "# aplico a função cramer v nas variáveis categoricas\n",
    "a34= cramer_v( a['province'], a['floor'] )\n",
    "a35= cramer_v( a['province'], a['property_type'] )\n",
    "a36= cramer_v( a['province'], a['address'] )\n",
    "a37= cramer_v( a['province'], a['province'] )\n",
    "a38= cramer_v( a['province'], a['municipality'] )\n",
    "a39= cramer_v( a['province'], a['district'] )\n",
    "a40= cramer_v( a['province'], a['description'] )\n",
    "a41= cramer_v( a['province'], a['status'] )\n",
    "a42= cramer_v( a['province'], a['detailed_type'] )\n",
    "a43=cramer_v(  a['province'], a['suggested_texts'] )\n",
    "a44=cramer_v(  a['province'], a['parking_space'] )\n",
    "\n",
    "# aplico a função cramer v nas variáveis categoricas\n",
    "a45= cramer_v( a['municipality'], a['floor'] )\n",
    "a46= cramer_v( a['municipality'], a['property_type'] )\n",
    "a47= cramer_v( a['municipality'], a['address'] )\n",
    "a48= cramer_v( a['municipality'], a['province'] )\n",
    "a49= cramer_v( a['municipality'], a['municipality'] )\n",
    "a50= cramer_v( a['municipality'], a['district'] )\n",
    "a51= cramer_v( a['municipality'], a['description'] )\n",
    "a52= cramer_v( a['municipality'], a['status'] )\n",
    "a53= cramer_v( a['municipality'], a['detailed_type'] )\n",
    "a54=cramer_v(  a['municipality'], a['suggested_texts'] )\n",
    "a55=cramer_v(  a['municipality'], a['parking_space'] )\n",
    "\n",
    "# aplico a função cramer v nas variáveis categoricas\n",
    "a56= cramer_v( a['district'], a['floor'] )\n",
    "a57= cramer_v( a['district'], a['property_type'] )\n",
    "a58= cramer_v( a['district'], a['address'] )\n",
    "a59= cramer_v( a['district'], a['province'] )\n",
    "a60= cramer_v( a['district'], a['municipality'] )\n",
    "a61= cramer_v( a['district'], a['district'] )\n",
    "a62= cramer_v( a['district'], a['description'] )\n",
    "a63= cramer_v( a['district'], a['status'] )\n",
    "a64= cramer_v( a['district'], a['detailed_type'] )\n",
    "a65=cramer_v(  a['district'], a['suggested_texts'] )\n",
    "a66=cramer_v(  a['district'], a['parking_space'] )\n",
    "\n",
    "# aplico a função cramer v nas variáveis categoricas\n",
    "a67= cramer_v( a['description'], a['floor'] )\n",
    "a68= cramer_v( a['description'], a['property_type'] )\n",
    "a69= cramer_v( a['description'], a['address'] )\n",
    "a70= cramer_v( a['description'], a['province'] )\n",
    "a71= cramer_v( a['description'], a['municipality'] )\n",
    "a72= cramer_v( a['description'], a['district'] )\n",
    "a73= cramer_v( a['description'], a['description'] )\n",
    "a74= cramer_v( a['description'], a['status'] )\n",
    "a75= cramer_v( a['description'], a['detailed_type'] )\n",
    "a76=cramer_v(  a['description'], a['suggested_texts'] )\n",
    "a77=cramer_v(  a['description'], a['parking_space'] )\n",
    "\n",
    "# aplico a função cramer v nas variáveis categoricas\n",
    "a78= cramer_v( a['status'], a['floor'] )\n",
    "a79= cramer_v( a['status'], a['property_type'] )\n",
    "a80= cramer_v( a['status'], a['address'] )\n",
    "a81= cramer_v( a['status'], a['province'] )\n",
    "a82= cramer_v( a['status'], a['municipality'] )\n",
    "a83= cramer_v( a['status'], a['district'] )\n",
    "a84= cramer_v( a['status'], a['description'] )\n",
    "a85= cramer_v( a['status'], a['status'] )\n",
    "a86= cramer_v( a['status'], a['detailed_type'] )\n",
    "a87=cramer_v(  a['status'], a['suggested_texts'] )\n",
    "a88=cramer_v(  a['status'], a['parking_space'] )\n",
    "\n",
    "# aplico a função cramer v nas variáveis categoricas\n",
    "a89= cramer_v( a['detailed_type'], a['floor'] )\n",
    "a90= cramer_v( a['detailed_type'], a['property_type'] )\n",
    "a91= cramer_v( a['detailed_type'], a['address'] )\n",
    "a92= cramer_v( a['detailed_type'], a['province'] )\n",
    "a93= cramer_v( a['detailed_type'], a['municipality'] )\n",
    "a94= cramer_v( a['detailed_type'], a['district'] )\n",
    "a95= cramer_v( a['detailed_type'], a['description'] )\n",
    "a96= cramer_v( a['detailed_type'], a['status'] )\n",
    "a97= cramer_v( a['detailed_type'], a['detailed_type'] )\n",
    "a98=cramer_v(  a['detailed_type'], a['suggested_texts'] )\n",
    "a99=cramer_v(  a['detailed_type'], a['parking_space'] )\n",
    "\n",
    "# aplico a função cramer v nas variáveis categoricas\n",
    "a100= cramer_v( a['suggested_texts'], a['floor'] )\n",
    "a101= cramer_v( a['suggested_texts'], a['property_type'] )\n",
    "a102= cramer_v( a['suggested_texts'], a['address'] )\n",
    "a103= cramer_v( a['suggested_texts'], a['province'] )\n",
    "a104= cramer_v( a['suggested_texts'], a['municipality'] )\n",
    "a105= cramer_v( a['suggested_texts'], a['district'] )\n",
    "a106= cramer_v( a['suggested_texts'], a['description'] )\n",
    "a107= cramer_v( a['suggested_texts'], a['status'] )\n",
    "a108= cramer_v( a['suggested_texts'], a['detailed_type'] )\n",
    "a109=cramer_v(  a['suggested_texts'], a['suggested_texts'] )\n",
    "a110=cramer_v(  a['suggested_texts'], a['parking_space'] )\n",
    "\n",
    "# aplico a função cramer v nas variáveis categoricas\n",
    "a111= cramer_v( a['parking_space'], a['floor'] )\n",
    "a112= cramer_v( a['parking_space'], a['property_type'] )\n",
    "a113= cramer_v( a['parking_space'], a['address'] )\n",
    "a114= cramer_v( a['parking_space'], a['province'] )\n",
    "a115= cramer_v( a['parking_space'], a['municipality'] )\n",
    "a116= cramer_v( a['parking_space'], a['district'] )\n",
    "a117= cramer_v( a['parking_space'], a['description'] )\n",
    "a118= cramer_v( a['parking_space'], a['status'] )\n",
    "a119= cramer_v( a['parking_space'], a['detailed_type'] )\n",
    "a120=cramer_v(  a['parking_space'], a['suggested_texts'] )\n",
    "a121=cramer_v(  a['parking_space'], a['parking_space'] )\n",
    "\n",
    "\n",
    "\n",
    "d = pd.DataFrame( {'floor' : [a1,a2,a3,a4,a5,a6,a7,a8,a9,a10,a11],\n",
    "                   'property_type' : [a12,a13,a14,a15,a16,a17,a18,a19,a20,a21,a22],\n",
    "                   'address' : [a23,a24,a25,a26,a27,a28,a29,a30,a31,a32,a33],\n",
    "                   'province' : [a34,a35,a36,a37,a38,a39,a40,a41,a42,a43,a44],\n",
    "                   'municipality' : [a45,a46,a47,a48,a49,a50,a51,a52,a53,a54,a55],\n",
    "                   'district' : [a56,a57,a58,a59,a60,a61,a62,a63,a64,a65,a66],\n",
    "                   'description' : [a67,a68,a69,a70,a71,a72,a73,a74,a75,a76,a77],\n",
    "                   'status' : [a78,a79,a80,a81,a82,a83,a84,a85,a86,a87,a88],\n",
    "                   'detailed_type' : [a89,a90,a91,a92,a93,a94,a95,a96,a97,a98,a99],\n",
    "                   'suggested_texts' : [a100,a101,a102,a103,a104,a105,a106,a107,a108,a109,a110],\n",
    "                   'parking_space' : [a111,a112,a113,a114,a115,a116,a117,a118,a119,a120,a121]\n",
    "              \n",
    "              } )\n",
    "\n",
    "d = d.set_index( d.columns )\n",
    "d = d.drop( 'province', axis = 1 )"
   ]
  },
  {
   "cell_type": "code",
   "execution_count": 37,
   "id": "c5b66228",
   "metadata": {
    "ExecuteTime": {
     "end_time": "2024-02-29T20:55:29.337413Z",
     "start_time": "2024-02-29T20:55:28.845696Z"
    }
   },
   "outputs": [
    {
     "data": {
      "image/png": "[encoded data removed]",
      "text/plain": [
       "<Figure size 1000x500 with 2 Axes>"
      ]
     },
     "metadata": {},
     "output_type": "display_data"
    }
   ],
   "source": [
    "plt.figure(figsize=(10,5))\n",
    "correlation = d.corr( method = 'pearson' )\n",
    "sns.heatmap( correlation, annot = True );"
   ]
  },
  {
   "cell_type": "markdown",
   "id": "badb3cfe",
   "metadata": {},
   "source": [
    "# Data Preparation"
   ]
  },
  {
   "cell_type": "code",
   "execution_count": 38,
   "id": "79e0ad82",
   "metadata": {
    "ExecuteTime": {
     "end_time": "2024-02-29T20:55:29.358654Z",
     "start_time": "2024-02-29T20:55:29.338456Z"
    }
   },
   "outputs": [
    {
     "name": "stdout",
     "output_type": "stream",
     "text": [
      "Total Shape (13755, 34)\n",
      "X_train shape (11004, 33)\n",
      "y_train shape (11004,)\n",
      "====================================================================================================\n",
      "X_test shape (2751, 33)\n",
      "y_test shape (2751,)\n"
     ]
    }
   ],
   "source": [
    "# dividir entre treino e teste\n",
    "X = df4.drop( 'price', axis = 1 )\n",
    "y = df4['price']\n",
    "\n",
    "X_train_n, X_test_n , y_train_n , y_test_n = train_test_split(X, y, test_size=0.2, random_state=39)\n",
    "\n",
    "print('Total Shape {}'.format( df4.shape ))\n",
    "\n",
    "print('X_train shape {}'.format(X_train_n.shape) )\n",
    "print('y_train shape {}'.format(y_train_n.shape) )\n",
    "\n",
    "print('=='*50)\n",
    "\n",
    "print('X_test shape {}'.format(X_test_n.shape) )\n",
    "print('y_test shape {}'.format(y_test_n.shape) )"
   ]
  },
  {
   "cell_type": "code",
   "execution_count": 39,
   "id": "7e42eb29",
   "metadata": {
    "ExecuteTime": {
     "end_time": "2024-02-29T20:55:29.387422Z",
     "start_time": "2024-02-29T20:55:29.360651Z"
    }
   },
   "outputs": [],
   "source": [
    "# df treino\n",
    "df_treino = pd.concat( [X_train_n,y_train_n ], axis = 1 )"
   ]
  },
  {
   "cell_type": "code",
   "execution_count": 144,
   "id": "50ffc2ba",
   "metadata": {
    "ExecuteTime": {
     "end_time": "2024-02-29T23:15:46.462207Z",
     "start_time": "2024-02-29T23:15:46.455818Z"
    }
   },
   "outputs": [],
   "source": [
    "# df teste\n",
    "df_teste = pd.concat( [X_test_n,y_test_n] , axis = 1)"
   ]
  },
  {
   "cell_type": "code",
   "execution_count": 41,
   "id": "4ac320b7",
   "metadata": {
    "ExecuteTime": {
     "end_time": "2024-02-29T20:55:29.411172Z",
     "start_time": "2024-02-29T20:55:29.398156Z"
    }
   },
   "outputs": [],
   "source": [
    "df5 = df_treino.copy()"
   ]
  },
  {
   "cell_type": "code",
   "execution_count": 42,
   "id": "cf004208",
   "metadata": {
    "ExecuteTime": {
     "end_time": "2024-02-29T20:55:29.452369Z",
     "start_time": "2024-02-29T20:55:29.412520Z"
    }
   },
   "outputs": [
    {
     "data": {
      "text/html": [
       "<div>\n",
       "<style scoped>\n",
       "    .dataframe tbody tr th:only-of-type {\n",
       "        vertical-align: middle;\n",
       "    }\n",
       "\n",
       "    .dataframe tbody tr th {\n",
       "        vertical-align: top;\n",
       "    }\n",
       "\n",
       "    .dataframe thead th {\n",
       "        text-align: right;\n",
       "    }\n",
       "</style>\n",
       "<table border=\"1\" class=\"dataframe\">\n",
       "  <thead>\n",
       "    <tr style=\"text-align: right;\">\n",
       "      <th></th>\n",
       "      <th>features</th>\n",
       "      <th>min</th>\n",
       "      <th>max</th>\n",
       "      <th>range</th>\n",
       "      <th>mean</th>\n",
       "      <th>median</th>\n",
       "      <th>std</th>\n",
       "      <th>skew</th>\n",
       "      <th>kurtosis</th>\n",
       "    </tr>\n",
       "  </thead>\n",
       "  <tbody>\n",
       "    <tr>\n",
       "      <th>0</th>\n",
       "      <td>num_photos</td>\n",
       "      <td>0.00</td>\n",
       "      <td>180.00</td>\n",
       "      <td>180.00</td>\n",
       "      <td>24.91</td>\n",
       "      <td>23.00</td>\n",
       "      <td>13.03</td>\n",
       "      <td>1.60</td>\n",
       "      <td>6.15</td>\n",
       "    </tr>\n",
       "    <tr>\n",
       "      <th>1</th>\n",
       "      <td>size</td>\n",
       "      <td>10.00</td>\n",
       "      <td>3,500.00</td>\n",
       "      <td>3,490.00</td>\n",
       "      <td>137.77</td>\n",
       "      <td>107.00</td>\n",
       "      <td>116.73</td>\n",
       "      <td>6.33</td>\n",
       "      <td>109.85</td>\n",
       "    </tr>\n",
       "    <tr>\n",
       "      <th>2</th>\n",
       "      <td>rooms</td>\n",
       "      <td>0.00</td>\n",
       "      <td>24.00</td>\n",
       "      <td>24.00</td>\n",
       "      <td>2.49</td>\n",
       "      <td>2.00</td>\n",
       "      <td>1.38</td>\n",
       "      <td>1.80</td>\n",
       "      <td>14.76</td>\n",
       "    </tr>\n",
       "    <tr>\n",
       "      <th>3</th>\n",
       "      <td>bathrooms</td>\n",
       "      <td>1.00</td>\n",
       "      <td>29.00</td>\n",
       "      <td>28.00</td>\n",
       "      <td>2.02</td>\n",
       "      <td>2.00</td>\n",
       "      <td>1.24</td>\n",
       "      <td>2.75</td>\n",
       "      <td>26.93</td>\n",
       "    </tr>\n",
       "    <tr>\n",
       "      <th>4</th>\n",
       "      <td>latitude</td>\n",
       "      <td>38.38</td>\n",
       "      <td>39.16</td>\n",
       "      <td>0.78</td>\n",
       "      <td>38.73</td>\n",
       "      <td>38.72</td>\n",
       "      <td>0.07</td>\n",
       "      <td>0.95</td>\n",
       "      <td>8.40</td>\n",
       "    </tr>\n",
       "    <tr>\n",
       "      <th>5</th>\n",
       "      <td>longitude</td>\n",
       "      <td>-9.49</td>\n",
       "      <td>-8.62</td>\n",
       "      <td>0.87</td>\n",
       "      <td>-9.21</td>\n",
       "      <td>-9.16</td>\n",
       "      <td>0.13</td>\n",
       "      <td>-0.18</td>\n",
       "      <td>0.00</td>\n",
       "    </tr>\n",
       "    <tr>\n",
       "      <th>6</th>\n",
       "      <td>distance</td>\n",
       "      <td>61.00</td>\n",
       "      <td>49,855.00</td>\n",
       "      <td>49,794.00</td>\n",
       "      <td>11,035.39</td>\n",
       "      <td>6,620.00</td>\n",
       "      <td>10,292.77</td>\n",
       "      <td>0.86</td>\n",
       "      <td>-0.30</td>\n",
       "    </tr>\n",
       "    <tr>\n",
       "      <th>7</th>\n",
       "      <td>has_lift</td>\n",
       "      <td>0.00</td>\n",
       "      <td>1.00</td>\n",
       "      <td>1.00</td>\n",
       "      <td>0.45</td>\n",
       "      <td>0.00</td>\n",
       "      <td>0.50</td>\n",
       "      <td>0.19</td>\n",
       "      <td>-1.96</td>\n",
       "    </tr>\n",
       "    <tr>\n",
       "      <th>8</th>\n",
       "      <td>pagina</td>\n",
       "      <td>1.00</td>\n",
       "      <td>94.00</td>\n",
       "      <td>93.00</td>\n",
       "      <td>31.82</td>\n",
       "      <td>27.00</td>\n",
       "      <td>23.60</td>\n",
       "      <td>0.85</td>\n",
       "      <td>-0.06</td>\n",
       "    </tr>\n",
       "    <tr>\n",
       "      <th>9</th>\n",
       "      <td>month</td>\n",
       "      <td>1.00</td>\n",
       "      <td>9.00</td>\n",
       "      <td>8.00</td>\n",
       "      <td>3.89</td>\n",
       "      <td>3.00</td>\n",
       "      <td>2.73</td>\n",
       "      <td>0.63</td>\n",
       "      <td>-1.08</td>\n",
       "    </tr>\n",
       "    <tr>\n",
       "      <th>10</th>\n",
       "      <td>year</td>\n",
       "      <td>2,023.00</td>\n",
       "      <td>2,024.00</td>\n",
       "      <td>1.00</td>\n",
       "      <td>2,023.41</td>\n",
       "      <td>2,023.00</td>\n",
       "      <td>0.49</td>\n",
       "      <td>0.38</td>\n",
       "      <td>-1.85</td>\n",
       "    </tr>\n",
       "    <tr>\n",
       "      <th>11</th>\n",
       "      <td>municipality_mean_price</td>\n",
       "      <td>562.50</td>\n",
       "      <td>18,000.00</td>\n",
       "      <td>17,437.50</td>\n",
       "      <td>2,801.97</td>\n",
       "      <td>2,544.31</td>\n",
       "      <td>1,173.35</td>\n",
       "      <td>0.96</td>\n",
       "      <td>2.10</td>\n",
       "    </tr>\n",
       "    <tr>\n",
       "      <th>12</th>\n",
       "      <td>district_mean_price</td>\n",
       "      <td>550.00</td>\n",
       "      <td>15,750.00</td>\n",
       "      <td>15,200.00</td>\n",
       "      <td>2,246.05</td>\n",
       "      <td>1,975.00</td>\n",
       "      <td>1,020.15</td>\n",
       "      <td>3.24</td>\n",
       "      <td>26.87</td>\n",
       "    </tr>\n",
       "    <tr>\n",
       "      <th>13</th>\n",
       "      <td>price</td>\n",
       "      <td>300.00</td>\n",
       "      <td>33,000.00</td>\n",
       "      <td>32,700.00</td>\n",
       "      <td>2,805.59</td>\n",
       "      <td>2,000.00</td>\n",
       "      <td>2,631.41</td>\n",
       "      <td>3.75</td>\n",
       "      <td>21.30</td>\n",
       "    </tr>\n",
       "  </tbody>\n",
       "</table>\n",
       "</div>"
      ],
      "text/plain": [
       "                   features      min       max     range      mean   median  \\\n",
       "0                num_photos     0.00    180.00    180.00     24.91    23.00   \n",
       "1                      size    10.00  3,500.00  3,490.00    137.77   107.00   \n",
       "2                     rooms     0.00     24.00     24.00      2.49     2.00   \n",
       "3                 bathrooms     1.00     29.00     28.00      2.02     2.00   \n",
       "4                  latitude    38.38     39.16      0.78     38.73    38.72   \n",
       "5                 longitude    -9.49     -8.62      0.87     -9.21    -9.16   \n",
       "6                  distance    61.00 49,855.00 49,794.00 11,035.39 6,620.00   \n",
       "7                  has_lift     0.00      1.00      1.00      0.45     0.00   \n",
       "8                    pagina     1.00     94.00     93.00     31.82    27.00   \n",
       "9                     month     1.00      9.00      8.00      3.89     3.00   \n",
       "10                     year 2,023.00  2,024.00      1.00  2,023.41 2,023.00   \n",
       "11  municipality_mean_price   562.50 18,000.00 17,437.50  2,801.97 2,544.31   \n",
       "12      district_mean_price   550.00 15,750.00 15,200.00  2,246.05 1,975.00   \n",
       "13                    price   300.00 33,000.00 32,700.00  2,805.59 2,000.00   \n",
       "\n",
       "         std  skew  kurtosis  \n",
       "0      13.03  1.60      6.15  \n",
       "1     116.73  6.33    109.85  \n",
       "2       1.38  1.80     14.76  \n",
       "3       1.24  2.75     26.93  \n",
       "4       0.07  0.95      8.40  \n",
       "5       0.13 -0.18      0.00  \n",
       "6  10,292.77  0.86     -0.30  \n",
       "7       0.50  0.19     -1.96  \n",
       "8      23.60  0.85     -0.06  \n",
       "9       2.73  0.63     -1.08  \n",
       "10      0.49  0.38     -1.85  \n",
       "11  1,173.35  0.96      2.10  \n",
       "12  1,020.15  3.24     26.87  \n",
       "13  2,631.41  3.75     21.30  "
      ]
     },
     "execution_count": 42,
     "metadata": {},
     "output_type": "execute_result"
    }
   ],
   "source": [
    "stats( df5 )"
   ]
  },
  {
   "cell_type": "code",
   "execution_count": 43,
   "id": "90c4bf76",
   "metadata": {
    "ExecuteTime": {
     "end_time": "2024-02-29T20:55:29.931907Z",
     "start_time": "2024-02-29T20:55:29.454406Z"
    }
   },
   "outputs": [
    {
     "data": {
      "text/plain": [
       "<seaborn.axisgrid.FacetGrid at 0x274f57657d0>"
      ]
     },
     "execution_count": 43,
     "metadata": {},
     "output_type": "execute_result"
    },
    {
     "data": {
      "image/png": "[encoded data removed]",
      "text/plain": [
       "<Figure size 500x500 with 1 Axes>"
      ]
     },
     "metadata": {},
     "output_type": "display_data"
    }
   ],
   "source": [
    "sns.displot( df5['price'] )"
   ]
  },
  {
   "cell_type": "markdown",
   "id": "8afacc0f",
   "metadata": {},
   "source": [
    "## 5.1. - Rescaling"
   ]
  },
  {
   "cell_type": "markdown",
   "id": "0675fb77",
   "metadata": {},
   "source": [
    "## 5.1.2 Check Distribution"
   ]
  },
  {
   "cell_type": "code",
   "execution_count": 44,
   "id": "006c0c12",
   "metadata": {
    "ExecuteTime": {
     "end_time": "2024-02-29T20:55:30.380749Z",
     "start_time": "2024-02-29T20:55:29.933960Z"
    }
   },
   "outputs": [
    {
     "name": "stderr",
     "output_type": "stream",
     "text": [
      "C:\\Users\\oscar\\AppData\\Local\\Temp\\ipykernel_6780\\4291806037.py:8: UserWarning: \n",
      "\n",
      "`distplot` is a deprecated function and will be removed in seaborn v0.14.0.\n",
      "\n",
      "Please adapt your code to use either `displot` (a figure-level function with\n",
      "similar flexibility) or `histplot` (an axes-level function for histograms).\n",
      "\n",
      "For a guide to updating your code to use the new functions, please see\n",
      "https://gist.github.com/mwaskom/de44147ed2974457ad6372750bbe5751\n",
      "\n",
      "  sns.distplot( df5['num_photos']  )\n"
     ]
    },
    {
     "data": {
      "text/plain": [
       "Text(0.5, 1.0, 'num_photos')"
      ]
     },
     "execution_count": 44,
     "metadata": {},
     "output_type": "execute_result"
    },
    {
     "data": {
      "image/png": "[encoded data removed]",
      "text/plain": [
       "<Figure size 640x480 with 2 Axes>"
      ]
     },
     "metadata": {},
     "output_type": "display_data"
    }
   ],
   "source": [
    "plt.subplot(1, 2, 1)\n",
    "# num_photos\n",
    "sns.boxplot( df5['num_photos'] )\n",
    "plt.title( 'num_photos' )\n",
    "\n",
    "plt.subplot(1, 2, 2)\n",
    "# num_photos\n",
    "sns.distplot( df5['num_photos']  )\n",
    "plt.title( 'num_photos' )"
   ]
  },
  {
   "cell_type": "code",
   "execution_count": 45,
   "id": "4d34e14b",
   "metadata": {
    "ExecuteTime": {
     "end_time": "2024-02-29T20:55:30.792474Z",
     "start_time": "2024-02-29T20:55:30.382747Z"
    }
   },
   "outputs": [
    {
     "name": "stderr",
     "output_type": "stream",
     "text": [
      "C:\\Users\\oscar\\AppData\\Local\\Temp\\ipykernel_6780\\466936489.py:8: UserWarning: \n",
      "\n",
      "`distplot` is a deprecated function and will be removed in seaborn v0.14.0.\n",
      "\n",
      "Please adapt your code to use either `displot` (a figure-level function with\n",
      "similar flexibility) or `histplot` (an axes-level function for histograms).\n",
      "\n",
      "For a guide to updating your code to use the new functions, please see\n",
      "https://gist.github.com/mwaskom/de44147ed2974457ad6372750bbe5751\n",
      "\n",
      "  sns.distplot( df5['size']  )\n"
     ]
    },
    {
     "data": {
      "text/plain": [
       "Text(0.5, 1.0, 'size')"
      ]
     },
     "execution_count": 45,
     "metadata": {},
     "output_type": "execute_result"
    },
    {
     "data": {
      "image/png": "[encoded data removed]",
      "text/plain": [
       "<Figure size 640x480 with 2 Axes>"
      ]
     },
     "metadata": {},
     "output_type": "display_data"
    }
   ],
   "source": [
    "plt.subplot(1, 2, 1)\n",
    "# size\n",
    "sns.boxplot( df5['size'] )\n",
    "plt.title( 'size' )\n",
    "\n",
    "plt.subplot(1, 2, 2)\n",
    "# size\n",
    "sns.distplot( df5['size']  )\n",
    "plt.title( 'size' )"
   ]
  },
  {
   "cell_type": "code",
   "execution_count": 46,
   "id": "eec6820f",
   "metadata": {
    "ExecuteTime": {
     "end_time": "2024-02-29T20:55:31.205099Z",
     "start_time": "2024-02-29T20:55:30.795471Z"
    }
   },
   "outputs": [
    {
     "name": "stderr",
     "output_type": "stream",
     "text": [
      "C:\\Users\\oscar\\AppData\\Local\\Temp\\ipykernel_6780\\852878364.py:8: UserWarning: \n",
      "\n",
      "`distplot` is a deprecated function and will be removed in seaborn v0.14.0.\n",
      "\n",
      "Please adapt your code to use either `displot` (a figure-level function with\n",
      "similar flexibility) or `histplot` (an axes-level function for histograms).\n",
      "\n",
      "For a guide to updating your code to use the new functions, please see\n",
      "https://gist.github.com/mwaskom/de44147ed2974457ad6372750bbe5751\n",
      "\n",
      "  sns.distplot( df5['rooms']  )\n"
     ]
    },
    {
     "data": {
      "text/plain": [
       "Text(0.5, 1.0, 'rooms')"
      ]
     },
     "execution_count": 46,
     "metadata": {},
     "output_type": "execute_result"
    },
    {
     "data": {
      "image/png": "[encoded data removed]",
      "text/plain": [
       "<Figure size 640x480 with 2 Axes>"
      ]
     },
     "metadata": {},
     "output_type": "display_data"
    }
   ],
   "source": [
    "plt.subplot(1, 2, 1)\n",
    "# rooms\n",
    "sns.boxplot( df5['rooms'] )\n",
    "plt.title( 'rooms' )\n",
    "\n",
    "plt.subplot(1, 2, 2)\n",
    "# rooms\n",
    "sns.distplot( df5['rooms']  )\n",
    "plt.title( 'rooms' )\n"
   ]
  },
  {
   "cell_type": "code",
   "execution_count": 47,
   "id": "829d1d27",
   "metadata": {
    "ExecuteTime": {
     "end_time": "2024-02-29T20:55:31.716004Z",
     "start_time": "2024-02-29T20:55:31.207099Z"
    }
   },
   "outputs": [
    {
     "name": "stderr",
     "output_type": "stream",
     "text": [
      "C:\\Users\\oscar\\AppData\\Local\\Temp\\ipykernel_6780\\3003154550.py:8: UserWarning: \n",
      "\n",
      "`distplot` is a deprecated function and will be removed in seaborn v0.14.0.\n",
      "\n",
      "Please adapt your code to use either `displot` (a figure-level function with\n",
      "similar flexibility) or `histplot` (an axes-level function for histograms).\n",
      "\n",
      "For a guide to updating your code to use the new functions, please see\n",
      "https://gist.github.com/mwaskom/de44147ed2974457ad6372750bbe5751\n",
      "\n",
      "  sns.distplot( df5['bathrooms']  )\n"
     ]
    },
    {
     "data": {
      "text/plain": [
       "Text(0.5, 1.0, 'bathrooms')"
      ]
     },
     "execution_count": 47,
     "metadata": {},
     "output_type": "execute_result"
    },
    {
     "data": {
      "image/png": "[encoded data removed]",
      "text/plain": [
       "<Figure size 640x480 with 2 Axes>"
      ]
     },
     "metadata": {},
     "output_type": "display_data"
    }
   ],
   "source": [
    "plt.subplot(1, 2, 1)\n",
    "# bathrooms\n",
    "sns.boxplot( df5['bathrooms'] )\n",
    "plt.title( 'bathrooms' )\n",
    "\n",
    "plt.subplot(1, 2, 2)\n",
    "# rooms\n",
    "sns.distplot( df5['bathrooms']  )\n",
    "plt.title( 'bathrooms' )"
   ]
  },
  {
   "cell_type": "code",
   "execution_count": 48,
   "id": "616f6aa5",
   "metadata": {
    "ExecuteTime": {
     "end_time": "2024-02-29T20:55:32.143479Z",
     "start_time": "2024-02-29T20:55:31.718001Z"
    }
   },
   "outputs": [
    {
     "name": "stderr",
     "output_type": "stream",
     "text": [
      "C:\\Users\\oscar\\AppData\\Local\\Temp\\ipykernel_6780\\3748452618.py:8: UserWarning: \n",
      "\n",
      "`distplot` is a deprecated function and will be removed in seaborn v0.14.0.\n",
      "\n",
      "Please adapt your code to use either `displot` (a figure-level function with\n",
      "similar flexibility) or `histplot` (an axes-level function for histograms).\n",
      "\n",
      "For a guide to updating your code to use the new functions, please see\n",
      "https://gist.github.com/mwaskom/de44147ed2974457ad6372750bbe5751\n",
      "\n",
      "  sns.distplot( df5['distance']  )\n"
     ]
    },
    {
     "data": {
      "text/plain": [
       "Text(0.5, 1.0, 'distance')"
      ]
     },
     "execution_count": 48,
     "metadata": {},
     "output_type": "execute_result"
    },
    {
     "data": {
      "image/png": "[encoded data removed]",
      "text/plain": [
       "<Figure size 640x480 with 2 Axes>"
      ]
     },
     "metadata": {},
     "output_type": "display_data"
    }
   ],
   "source": [
    "plt.subplot(1, 2, 1)\n",
    "# distance\n",
    "sns.boxplot( df5['distance'] )\n",
    "plt.title( 'distance' )\n",
    "\n",
    "plt.subplot(1, 2, 2)\n",
    "# rooms\n",
    "sns.distplot( df5['distance']  )\n",
    "plt.title( 'distance' )"
   ]
  },
  {
   "cell_type": "code",
   "execution_count": 49,
   "id": "55ea51fe",
   "metadata": {
    "ExecuteTime": {
     "end_time": "2024-02-29T20:55:32.151343Z",
     "start_time": "2024-02-29T20:55:32.145477Z"
    }
   },
   "outputs": [],
   "source": [
    "def rescaling_data(df, rescale = False ):\n",
    "    \n",
    "    if rescale:\n",
    "        rs = RobustScaler() # robusto com outliers\n",
    "        mms = pp.MinMaxScaler() # desvio padrão pequeno e quando não ha distribuição gaussiana\n",
    "        \n",
    "#         # num_photos\n",
    "#         rs_num_photos = RobustScaler() \n",
    "#         # num_photos\n",
    "#         df['num_photos'] = rs_num_photos.fit_transform( df[['num_photos']].values )\n",
    "\n",
    "        # floor\n",
    "#         rs_floor = RobustScaler() \n",
    "#         # num_photos\n",
    "#         df['floor'] = rs_floor.fit_transform( df[['floor']].values )\n",
    "        \n",
    "        # size\n",
    "        rs_size = RobustScaler() \n",
    "        # size\n",
    "        df['size'] = rs_size.fit_transform( df[['size']].values )\n",
    "        \n",
    "        # rooms\n",
    "#         mms_rooms = pp.MinMaxScaler() \n",
    "#         # rooms\n",
    "#         df['rooms'] = mms_rooms.fit_transform( df[['rooms']].values )\n",
    "        \n",
    "        # bathrooms\n",
    "#         rs_bathrooms = RobustScaler() \n",
    "#         # bathrooms\n",
    "#         df['bathrooms'] = rs_bathrooms.fit_transform( df[['bathrooms']].values )\n",
    "        \n",
    "        # distance\n",
    "        rs_distance = RobustScaler()\n",
    "        # distance\n",
    "        df['distance'] = rs_distance.fit_transform( df[['distance']].values )\n",
    "        \n",
    "        \n",
    "        \n",
    "        print('Rescaled')\n",
    "        \n",
    "        return  df\n",
    "    else:\n",
    "        print('Not rescaled')\n",
    "        \n",
    "        return df"
   ]
  },
  {
   "cell_type": "code",
   "execution_count": 50,
   "id": "57334681",
   "metadata": {
    "ExecuteTime": {
     "end_time": "2024-02-29T20:55:32.188464Z",
     "start_time": "2024-02-29T20:55:32.153340Z"
    }
   },
   "outputs": [
    {
     "name": "stdout",
     "output_type": "stream",
     "text": [
      "Rescaled\n"
     ]
    }
   ],
   "source": [
    "df5 = rescaling_data( df5, rescale = True  )"
   ]
  },
  {
   "cell_type": "code",
   "execution_count": 51,
   "id": "5129110f",
   "metadata": {
    "ExecuteTime": {
     "end_time": "2024-02-29T20:55:32.195921Z",
     "start_time": "2024-02-29T20:55:32.190464Z"
    }
   },
   "outputs": [
    {
     "data": {
      "text/plain": [
       "array(['good', 'newdevelopment', 'renew'], dtype=object)"
      ]
     },
     "execution_count": 51,
     "metadata": {},
     "output_type": "execute_result"
    }
   ],
   "source": [
    "df5.status.unique()"
   ]
  },
  {
   "cell_type": "code",
   "execution_count": 52,
   "id": "53d4d9c3",
   "metadata": {
    "ExecuteTime": {
     "end_time": "2024-02-29T20:55:32.235111Z",
     "start_time": "2024-02-29T20:55:32.197918Z"
    }
   },
   "outputs": [
    {
     "data": {
      "text/plain": [
       "thumbnail                  0\n",
       "num_photos                 0\n",
       "floor                      0\n",
       "property_type              0\n",
       "size                       0\n",
       "rooms                      0\n",
       "bathrooms                  0\n",
       "address                    0\n",
       "province                   0\n",
       "municipality               0\n",
       "district                   0\n",
       "latitude                   0\n",
       "longitude                  0\n",
       "show_address               0\n",
       "distance                   0\n",
       "description                0\n",
       "has_video                  0\n",
       "status                     0\n",
       "new_development            0\n",
       "has_lift                   0\n",
       "detailed_type              0\n",
       "suggested_texts            0\n",
       "has_plan                   0\n",
       "has3_d_tour                0\n",
       "has360                     0\n",
       "has_staging                0\n",
       "top_new_development        0\n",
       "parking_space              0\n",
       "pagina                     0\n",
       "month                      0\n",
       "year                       0\n",
       "municipality_mean_price    0\n",
       "district_mean_price        0\n",
       "price                      0\n",
       "dtype: int64"
      ]
     },
     "execution_count": 52,
     "metadata": {},
     "output_type": "execute_result"
    }
   ],
   "source": [
    "df5.isna().sum()"
   ]
  },
  {
   "cell_type": "markdown",
   "id": "46839dcc",
   "metadata": {},
   "source": [
    "## 5.2 Encoding "
   ]
  },
  {
   "cell_type": "code",
   "execution_count": 53,
   "id": "9f6a5cce",
   "metadata": {
    "ExecuteTime": {
     "end_time": "2024-02-29T20:55:32.251975Z",
     "start_time": "2024-02-29T20:55:32.237146Z"
    }
   },
   "outputs": [],
   "source": [
    "def encoding( df ):\n",
    "    \n",
    "    # floor - substituo os andares com letras\n",
    "    df['floor'] = df['floor'].replace( ['bj','st','ss','en'], 0 )\n",
    "    # transformo em inteiros\n",
    "    df['floor'] = df['floor'].astype( 'int64' )\n",
    "\n",
    "    #property_type - label\n",
    "    te_property_type = {'flat' : 0, 'duplex' : 1, 'chalet' : 2, 'studio': 3, 'penthouse': 4, 'countryHouse':5}\n",
    "    #te_property_type = df.groupby( 'property_type' )['price'].mean()\n",
    "    df['property_type'] = df['property_type'].map( te_property_type )\n",
    "    pickle.dump(te_property_type,open(r'C:\\Users\\oscar\\Documents\\repos\\api_houses_Lisbon\\encodings\\te_property_type.pkl', 'wb' ) )\n",
    "    \n",
    "    # address - label\n",
    "    freq_encoding_address = df['address'].value_counts(normalize=True)\n",
    "    df['address'] = df['address'].map( freq_encoding_address )\n",
    "    pickle.dump( freq_encoding_address, open(r'C:\\Users\\oscar\\Documents\\repos\\api_houses_Lisbon\\encodings\\freq_encoding_address.pkl', 'wb') )\n",
    "                \n",
    "    # province \n",
    "    te_province = df['province'].value_counts( )\n",
    "    #te_province = df.groupby( 'province' )['price'].mean()\n",
    "    df['province'] = df['province'].map( te_province )\n",
    "    pickle.dump( te_province, open( r'C:\\Users\\oscar\\Documents\\repos\\api_houses_Lisbon\\encodings\\te_province.pkl', 'wb' ) )\n",
    "                \n",
    "    # municipality - label\n",
    "    te_municipality = df['municipality'].value_counts()\n",
    "    #te_municipality = df.groupby( 'municipality' )['price'].mean()\n",
    "    df['municipality'] = df['municipality'].map( te_municipality ).astype( 'float64' )\n",
    "    pickle.dump( te_municipality, open( r'C:\\Users\\oscar\\Documents\\repos\\api_houses_Lisbon\\encodings\\te_municipality.pkl', 'wb' ) )            \n",
    "    \n",
    "    # municipality\n",
    "#     freq_encoding_municipality = df['municipality'].value_counts(normalize=True)\n",
    "#     df['municipality'] = df['municipality'].map( freq_encoding_municipality )\n",
    "    \n",
    "\n",
    "    # district - label\n",
    "    te_district = df['district'].value_counts()\n",
    "    #te_district = df.groupby( 'district' )['price'].mean()\n",
    "    df['district'] = df['district'].map( te_district ).astype( 'float64' )\n",
    "    pickle.dump( te_district, open( r'C:\\Users\\oscar\\Documents\\repos\\api_houses_Lisbon\\encodings\\te_district.pkl', 'wb' ) )  \n",
    "    # district\n",
    "#     freq_encoding_district = df['district'].value_counts(normalize=True)\n",
    "#     df['district'] = df['district'].map( freq_encoding_district )\n",
    "    \n",
    "    \n",
    "    # Show address\n",
    "    encoding = {True: 1 , False: 0}\n",
    "    df['show_address'] = df['show_address'].apply( lambda x : 1 if x == True else 0 )\n",
    "\n",
    "    # description\n",
    "    df['description'] = df['description'].apply( lambda x : len(x) )\n",
    "\n",
    "    # has_video\n",
    "    encoding = {True: 1 , False: 0}\n",
    "    df['has_video'] = df['has_video'].map( encoding )\n",
    "\n",
    "    # status\n",
    "    te_status = {'good' : 1, 'newdevelopment' : 2 , 'renew' : 3}\n",
    "    #te_status = df.groupby( 'status' )['price'].mean()\n",
    "    df['status'] = df['status'].map( te_status ).astype( 'float64' )\n",
    "    pickle.dump( te_status, open( r'C:\\Users\\oscar\\Documents\\repos\\api_houses_Lisbon\\encodings\\te_status.pkl', 'wb' ) )  \n",
    "    \n",
    "    # label encoder status\n",
    "    #status_encoder = LabelEncoder()\n",
    "    #df['status'] = status_encoder.fit_transform( df['status'] )\n",
    "    \n",
    "    # new_development\n",
    "    encoding = {True: 1 , False: 0}\n",
    "    df['new_development'] = df['new_development'].map( encoding )\n",
    "\n",
    "    # detailed type - label\n",
    "    le_detailed_type = LabelEncoder()\n",
    "    \n",
    "    df['detailed_type'] = df['detailed_type'].apply(lambda x: ast.literal_eval(x) )\n",
    "    df['detailed_type'] = df['detailed_type'].apply(lambda x: x['typology'] )\n",
    "    df['detailed_type'] = le_detailed_type.fit_transform( df['detailed_type'] )\n",
    "    pickle.dump( le_detailed_type, open( r'C:\\Users\\oscar\\Documents\\repos\\api_houses_Lisbon\\encodings\\le_detailed_type.pkl', 'wb' ) ) \n",
    "\n",
    "    # suggested text\n",
    "    df['suggested_texts'] = df['suggested_texts'].apply( lambda x : ast.literal_eval(x) )\n",
    "    df['suggested_texts'] = df['suggested_texts'].apply( lambda x : x['title'] )\n",
    "    df['suggested_texts'] = df['suggested_texts'].apply( lambda x : len(x) )\n",
    "\n",
    "    # hasplan\n",
    "    encoding = {True: 1 , False: 0}\n",
    "    df['has_plan'] = df['has_plan'].map( encoding )\n",
    "\n",
    "    # has3_d_tour\n",
    "    encoding = {True: 1 , False: 0}\n",
    "    df['has3_d_tour'] = df['has3_d_tour'].map( encoding )\n",
    "\n",
    "    # has360\n",
    "    encoding = {True: 1 , False: 0}\n",
    "    df['has360'] = df['has360'].map( encoding )\n",
    "\n",
    "    # has_staging\n",
    "    df['has_staging'] = df['has_staging'].apply( lambda x: 1 if x   else 0   )\n",
    "\n",
    "    # top_new_development\n",
    "    df['top_new_development'] = df['top_new_development'].apply( lambda x: 1 if x  else 0 )\n",
    "    \n",
    "    #parking_space\n",
    "    encoding = {True: 1 , False: 0}\n",
    "    df['parking_space'] = df['parking_space'].apply(lambda x: ast.literal_eval(x) if x != 0 else x ) \n",
    "    df['parking_space'] = df['parking_space'].apply(lambda x: x['hasParkingSpace'] if x != 0 else x ) \n",
    "    df['parking_space'] = df['parking_space'].map( encoding )\n",
    "\n",
    "    \n",
    "    return df"
   ]
  },
  {
   "cell_type": "code",
   "execution_count": 54,
   "id": "81cddf51",
   "metadata": {
    "ExecuteTime": {
     "end_time": "2024-02-29T20:55:32.723534Z",
     "start_time": "2024-02-29T20:55:32.253656Z"
    }
   },
   "outputs": [],
   "source": [
    "df5 = encoding( df5 )\n"
   ]
  },
  {
   "cell_type": "code",
   "execution_count": 55,
   "id": "33510978",
   "metadata": {
    "ExecuteTime": {
     "end_time": "2024-02-29T20:55:32.732431Z",
     "start_time": "2024-02-29T20:55:32.725538Z"
    }
   },
   "outputs": [
    {
     "data": {
      "text/plain": [
       "array([9897, 1096,   11], dtype=int64)"
      ]
     },
     "execution_count": 55,
     "metadata": {},
     "output_type": "execute_result"
    }
   ],
   "source": [
    "df5.province.unique()"
   ]
  },
  {
   "cell_type": "markdown",
   "id": "7bdafed8",
   "metadata": {},
   "source": [
    "# 6.0 Feature Selection"
   ]
  },
  {
   "cell_type": "code",
   "execution_count": 56,
   "id": "02f6e93b",
   "metadata": {
    "ExecuteTime": {
     "end_time": "2024-02-29T20:55:32.742702Z",
     "start_time": "2024-02-29T20:55:32.734431Z"
    }
   },
   "outputs": [],
   "source": [
    "df6 = df5.copy()"
   ]
  },
  {
   "cell_type": "markdown",
   "id": "11189951",
   "metadata": {
    "ExecuteTime": {
     "end_time": "2023-08-13T00:21:22.012478Z",
     "start_time": "2023-08-13T00:21:22.009576Z"
    }
   },
   "source": [
    "## 6.1 Boruta"
   ]
  },
  {
   "cell_type": "code",
   "execution_count": 100,
   "id": "547e5217",
   "metadata": {
    "ExecuteTime": {
     "end_time": "2024-02-29T22:37:29.506877Z",
     "start_time": "2024-02-29T22:37:29.497431Z"
    }
   },
   "outputs": [],
   "source": [
    "def boruta_selection(df , use_boruta = False):\n",
    "    \n",
    "    if use_boruta:\n",
    "    \n",
    "        # training and test dataset for boruta\n",
    "        X_train = df6.drop( ['price'] , axis= 1 ).values\n",
    "        y_train = df6['price'].values.ravel()\n",
    "\n",
    "        # instancia do Rf\n",
    "        rf = RandomForestRegressor( n_jobs = -1 )\n",
    "\n",
    "        # aplico o boruta\n",
    "        boruta = BorutaPy( rf, n_estimators = 'auto', verbose = 2, random_state = 42 ).fit( X_train, y_train )\n",
    "        \n",
    "        # pega as colunas e coloca na variavel\n",
    "        cols_selected = boruta.support_.tolist()\n",
    "\n",
    "        # df boruta\n",
    "        df_boruta = df6.drop('price', axis = 1).loc[ : , cols_selected]\n",
    "\n",
    "        X_train = df6.drop( ['price'] , axis= 1 )\n",
    "        cols_selected_boruta = X_train.loc[ : , cols_selected ]\n",
    "\n",
    "        # cols not selected boruta\n",
    "        cols_not_selected = list( np.setdiff1d( X_train.columns, cols_selected_boruta.columns ) )\n",
    "        \n",
    "        print('Boruta Used')\n",
    "        \n",
    "        return cols_selected_boruta, cols_not_selected\n",
    "    \n",
    "    else:\n",
    "        print('Boruta skipped')\n",
    "        return df\n",
    "\n",
    "        \n"
   ]
  },
  {
   "cell_type": "code",
   "execution_count": 101,
   "id": "45035faf",
   "metadata": {
    "ExecuteTime": {
     "end_time": "2024-02-29T22:49:33.613156Z",
     "start_time": "2024-02-29T22:37:31.849507Z"
    }
   },
   "outputs": [
    {
     "name": "stdout",
     "output_type": "stream",
     "text": [
      "Iteration: \t1 / 100\n",
      "Confirmed: \t0\n",
      "Tentative: \t33\n",
      "Rejected: \t0\n",
      "Iteration: \t2 / 100\n",
      "Confirmed: \t0\n",
      "Tentative: \t33\n",
      "Rejected: \t0\n",
      "Iteration: \t3 / 100\n",
      "Confirmed: \t0\n",
      "Tentative: \t33\n",
      "Rejected: \t0\n",
      "Iteration: \t4 / 100\n",
      "Confirmed: \t0\n",
      "Tentative: \t33\n",
      "Rejected: \t0\n",
      "Iteration: \t5 / 100\n",
      "Confirmed: \t0\n",
      "Tentative: \t33\n",
      "Rejected: \t0\n",
      "Iteration: \t6 / 100\n",
      "Confirmed: \t0\n",
      "Tentative: \t33\n",
      "Rejected: \t0\n",
      "Iteration: \t7 / 100\n",
      "Confirmed: \t0\n",
      "Tentative: \t33\n",
      "Rejected: \t0\n",
      "Iteration: \t8 / 100\n",
      "Confirmed: \t10\n",
      "Tentative: \t1\n",
      "Rejected: \t22\n",
      "Iteration: \t9 / 100\n",
      "Confirmed: \t10\n",
      "Tentative: \t1\n",
      "Rejected: \t22\n",
      "Iteration: \t10 / 100\n",
      "Confirmed: \t10\n",
      "Tentative: \t1\n",
      "Rejected: \t22\n",
      "Iteration: \t11 / 100\n",
      "Confirmed: \t10\n",
      "Tentative: \t1\n",
      "Rejected: \t22\n",
      "Iteration: \t12 / 100\n",
      "Confirmed: \t10\n",
      "Tentative: \t1\n",
      "Rejected: \t22\n",
      "Iteration: \t13 / 100\n",
      "Confirmed: \t10\n",
      "Tentative: \t1\n",
      "Rejected: \t22\n",
      "Iteration: \t14 / 100\n",
      "Confirmed: \t10\n",
      "Tentative: \t1\n",
      "Rejected: \t22\n",
      "Iteration: \t15 / 100\n",
      "Confirmed: \t10\n",
      "Tentative: \t1\n",
      "Rejected: \t22\n",
      "Iteration: \t16 / 100\n",
      "Confirmed: \t10\n",
      "Tentative: \t1\n",
      "Rejected: \t22\n",
      "Iteration: \t17 / 100\n",
      "Confirmed: \t10\n",
      "Tentative: \t1\n",
      "Rejected: \t22\n",
      "Iteration: \t18 / 100\n",
      "Confirmed: \t10\n",
      "Tentative: \t1\n",
      "Rejected: \t22\n",
      "Iteration: \t19 / 100\n",
      "Confirmed: \t10\n",
      "Tentative: \t1\n",
      "Rejected: \t22\n",
      "Iteration: \t20 / 100\n",
      "Confirmed: \t10\n",
      "Tentative: \t1\n",
      "Rejected: \t22\n",
      "Iteration: \t21 / 100\n",
      "Confirmed: \t10\n",
      "Tentative: \t1\n",
      "Rejected: \t22\n",
      "Iteration: \t22 / 100\n",
      "Confirmed: \t10\n",
      "Tentative: \t1\n",
      "Rejected: \t22\n",
      "Iteration: \t23 / 100\n",
      "Confirmed: \t10\n",
      "Tentative: \t1\n",
      "Rejected: \t22\n",
      "Iteration: \t24 / 100\n",
      "Confirmed: \t10\n",
      "Tentative: \t1\n",
      "Rejected: \t22\n",
      "Iteration: \t25 / 100\n",
      "Confirmed: \t10\n",
      "Tentative: \t1\n",
      "Rejected: \t22\n",
      "Iteration: \t26 / 100\n",
      "Confirmed: \t10\n",
      "Tentative: \t1\n",
      "Rejected: \t22\n",
      "Iteration: \t27 / 100\n",
      "Confirmed: \t10\n",
      "Tentative: \t1\n",
      "Rejected: \t22\n",
      "Iteration: \t28 / 100\n",
      "Confirmed: \t10\n",
      "Tentative: \t1\n",
      "Rejected: \t22\n",
      "Iteration: \t29 / 100\n",
      "Confirmed: \t10\n",
      "Tentative: \t1\n",
      "Rejected: \t22\n",
      "Iteration: \t30 / 100\n",
      "Confirmed: \t10\n",
      "Tentative: \t1\n",
      "Rejected: \t22\n",
      "Iteration: \t31 / 100\n",
      "Confirmed: \t10\n",
      "Tentative: \t1\n",
      "Rejected: \t22\n",
      "Iteration: \t32 / 100\n",
      "Confirmed: \t10\n",
      "Tentative: \t1\n",
      "Rejected: \t22\n",
      "Iteration: \t33 / 100\n",
      "Confirmed: \t10\n",
      "Tentative: \t1\n",
      "Rejected: \t22\n",
      "Iteration: \t34 / 100\n",
      "Confirmed: \t10\n",
      "Tentative: \t1\n",
      "Rejected: \t22\n",
      "Iteration: \t35 / 100\n",
      "Confirmed: \t10\n",
      "Tentative: \t1\n",
      "Rejected: \t22\n",
      "Iteration: \t36 / 100\n",
      "Confirmed: \t10\n",
      "Tentative: \t1\n",
      "Rejected: \t22\n",
      "Iteration: \t37 / 100\n",
      "Confirmed: \t10\n",
      "Tentative: \t1\n",
      "Rejected: \t22\n",
      "Iteration: \t38 / 100\n",
      "Confirmed: \t10\n",
      "Tentative: \t1\n",
      "Rejected: \t22\n",
      "Iteration: \t39 / 100\n",
      "Confirmed: \t10\n",
      "Tentative: \t1\n",
      "Rejected: \t22\n",
      "Iteration: \t40 / 100\n",
      "Confirmed: \t10\n",
      "Tentative: \t1\n",
      "Rejected: \t22\n",
      "Iteration: \t41 / 100\n",
      "Confirmed: \t10\n",
      "Tentative: \t1\n",
      "Rejected: \t22\n",
      "Iteration: \t42 / 100\n",
      "Confirmed: \t10\n",
      "Tentative: \t1\n",
      "Rejected: \t22\n",
      "Iteration: \t43 / 100\n",
      "Confirmed: \t10\n",
      "Tentative: \t1\n",
      "Rejected: \t22\n",
      "Iteration: \t44 / 100\n",
      "Confirmed: \t10\n",
      "Tentative: \t1\n",
      "Rejected: \t22\n",
      "Iteration: \t45 / 100\n",
      "Confirmed: \t10\n",
      "Tentative: \t1\n",
      "Rejected: \t22\n",
      "Iteration: \t46 / 100\n",
      "Confirmed: \t10\n",
      "Tentative: \t1\n",
      "Rejected: \t22\n",
      "Iteration: \t47 / 100\n",
      "Confirmed: \t10\n",
      "Tentative: \t1\n",
      "Rejected: \t22\n",
      "Iteration: \t48 / 100\n",
      "Confirmed: \t10\n",
      "Tentative: \t1\n",
      "Rejected: \t22\n",
      "Iteration: \t49 / 100\n",
      "Confirmed: \t10\n",
      "Tentative: \t1\n",
      "Rejected: \t22\n",
      "Iteration: \t50 / 100\n",
      "Confirmed: \t10\n",
      "Tentative: \t1\n",
      "Rejected: \t22\n",
      "Iteration: \t51 / 100\n",
      "Confirmed: \t10\n",
      "Tentative: \t1\n",
      "Rejected: \t22\n",
      "Iteration: \t52 / 100\n",
      "Confirmed: \t10\n",
      "Tentative: \t1\n",
      "Rejected: \t22\n",
      "Iteration: \t53 / 100\n",
      "Confirmed: \t10\n",
      "Tentative: \t1\n",
      "Rejected: \t22\n",
      "Iteration: \t54 / 100\n",
      "Confirmed: \t10\n",
      "Tentative: \t1\n",
      "Rejected: \t22\n",
      "Iteration: \t55 / 100\n",
      "Confirmed: \t10\n",
      "Tentative: \t1\n",
      "Rejected: \t22\n",
      "Iteration: \t56 / 100\n",
      "Confirmed: \t10\n",
      "Tentative: \t1\n",
      "Rejected: \t22\n",
      "Iteration: \t57 / 100\n",
      "Confirmed: \t10\n",
      "Tentative: \t1\n",
      "Rejected: \t22\n",
      "Iteration: \t58 / 100\n",
      "Confirmed: \t10\n",
      "Tentative: \t1\n",
      "Rejected: \t22\n",
      "Iteration: \t59 / 100\n",
      "Confirmed: \t10\n",
      "Tentative: \t1\n",
      "Rejected: \t22\n",
      "Iteration: \t60 / 100\n",
      "Confirmed: \t10\n",
      "Tentative: \t1\n",
      "Rejected: \t22\n",
      "Iteration: \t61 / 100\n",
      "Confirmed: \t10\n",
      "Tentative: \t1\n",
      "Rejected: \t22\n",
      "Iteration: \t62 / 100\n",
      "Confirmed: \t10\n",
      "Tentative: \t1\n",
      "Rejected: \t22\n",
      "Iteration: \t63 / 100\n",
      "Confirmed: \t10\n",
      "Tentative: \t1\n",
      "Rejected: \t22\n",
      "Iteration: \t64 / 100\n",
      "Confirmed: \t10\n",
      "Tentative: \t1\n",
      "Rejected: \t22\n",
      "Iteration: \t65 / 100\n",
      "Confirmed: \t10\n",
      "Tentative: \t1\n",
      "Rejected: \t22\n",
      "Iteration: \t66 / 100\n",
      "Confirmed: \t10\n",
      "Tentative: \t1\n",
      "Rejected: \t22\n",
      "Iteration: \t67 / 100\n",
      "Confirmed: \t10\n",
      "Tentative: \t1\n",
      "Rejected: \t22\n",
      "Iteration: \t68 / 100\n",
      "Confirmed: \t10\n",
      "Tentative: \t1\n",
      "Rejected: \t22\n",
      "Iteration: \t69 / 100\n",
      "Confirmed: \t10\n",
      "Tentative: \t1\n",
      "Rejected: \t22\n",
      "Iteration: \t70 / 100\n",
      "Confirmed: \t10\n",
      "Tentative: \t1\n",
      "Rejected: \t22\n",
      "Iteration: \t71 / 100\n",
      "Confirmed: \t10\n",
      "Tentative: \t1\n",
      "Rejected: \t22\n",
      "Iteration: \t72 / 100\n",
      "Confirmed: \t10\n",
      "Tentative: \t1\n",
      "Rejected: \t22\n",
      "Iteration: \t73 / 100\n",
      "Confirmed: \t10\n",
      "Tentative: \t1\n",
      "Rejected: \t22\n",
      "Iteration: \t74 / 100\n",
      "Confirmed: \t10\n",
      "Tentative: \t1\n",
      "Rejected: \t22\n",
      "Iteration: \t75 / 100\n",
      "Confirmed: \t10\n",
      "Tentative: \t1\n",
      "Rejected: \t22\n",
      "Iteration: \t76 / 100\n",
      "Confirmed: \t10\n",
      "Tentative: \t1\n",
      "Rejected: \t22\n",
      "Iteration: \t77 / 100\n",
      "Confirmed: \t10\n",
      "Tentative: \t1\n",
      "Rejected: \t22\n",
      "Iteration: \t78 / 100\n",
      "Confirmed: \t10\n",
      "Tentative: \t1\n",
      "Rejected: \t22\n",
      "Iteration: \t79 / 100\n",
      "Confirmed: \t10\n",
      "Tentative: \t1\n",
      "Rejected: \t22\n",
      "Iteration: \t80 / 100\n",
      "Confirmed: \t10\n",
      "Tentative: \t1\n",
      "Rejected: \t22\n",
      "Iteration: \t81 / 100\n",
      "Confirmed: \t10\n",
      "Tentative: \t1\n",
      "Rejected: \t22\n",
      "Iteration: \t82 / 100\n",
      "Confirmed: \t10\n",
      "Tentative: \t1\n",
      "Rejected: \t22\n",
      "Iteration: \t83 / 100\n",
      "Confirmed: \t10\n",
      "Tentative: \t1\n",
      "Rejected: \t22\n",
      "Iteration: \t84 / 100\n",
      "Confirmed: \t10\n",
      "Tentative: \t1\n",
      "Rejected: \t22\n",
      "Iteration: \t85 / 100\n",
      "Confirmed: \t10\n",
      "Tentative: \t1\n",
      "Rejected: \t22\n",
      "Iteration: \t86 / 100\n",
      "Confirmed: \t10\n",
      "Tentative: \t1\n",
      "Rejected: \t22\n",
      "Iteration: \t87 / 100\n",
      "Confirmed: \t10\n",
      "Tentative: \t1\n",
      "Rejected: \t22\n",
      "Iteration: \t88 / 100\n",
      "Confirmed: \t10\n",
      "Tentative: \t1\n",
      "Rejected: \t22\n",
      "Iteration: \t89 / 100\n",
      "Confirmed: \t10\n",
      "Tentative: \t1\n",
      "Rejected: \t22\n",
      "Iteration: \t90 / 100\n",
      "Confirmed: \t10\n",
      "Tentative: \t1\n",
      "Rejected: \t22\n",
      "Iteration: \t91 / 100\n",
      "Confirmed: \t10\n",
      "Tentative: \t1\n",
      "Rejected: \t22\n",
      "Iteration: \t92 / 100\n",
      "Confirmed: \t10\n",
      "Tentative: \t1\n",
      "Rejected: \t22\n",
      "Iteration: \t93 / 100\n",
      "Confirmed: \t10\n",
      "Tentative: \t1\n",
      "Rejected: \t22\n",
      "Iteration: \t94 / 100\n",
      "Confirmed: \t10\n",
      "Tentative: \t1\n",
      "Rejected: \t22\n",
      "Iteration: \t95 / 100\n",
      "Confirmed: \t10\n",
      "Tentative: \t1\n",
      "Rejected: \t22\n",
      "Iteration: \t96 / 100\n",
      "Confirmed: \t10\n",
      "Tentative: \t1\n",
      "Rejected: \t22\n",
      "Iteration: \t97 / 100\n",
      "Confirmed: \t10\n",
      "Tentative: \t1\n",
      "Rejected: \t22\n",
      "Iteration: \t98 / 100\n",
      "Confirmed: \t10\n",
      "Tentative: \t1\n",
      "Rejected: \t22\n",
      "Iteration: \t99 / 100\n",
      "Confirmed: \t10\n",
      "Tentative: \t1\n",
      "Rejected: \t22\n",
      "\n",
      "\n",
      "BorutaPy finished running.\n",
      "\n",
      "Iteration: \t100 / 100\n",
      "Confirmed: \t10\n",
      "Tentative: \t1\n",
      "Rejected: \t22\n",
      "Boruta Used\n"
     ]
    }
   ],
   "source": [
    "df6, cols_not_sel = boruta_selection(df6, use_boruta = True)"
   ]
  },
  {
   "cell_type": "code",
   "execution_count": 112,
   "id": "03e149bf",
   "metadata": {
    "ExecuteTime": {
     "end_time": "2024-02-29T23:08:25.220767Z",
     "start_time": "2024-02-29T23:08:25.216017Z"
    }
   },
   "outputs": [],
   "source": [
    "df6 = df5[['size', 'bathrooms', 'address', 'municipality', 'latitude', 'longitude',\n",
    "       'distance', 'description', 'municipality_mean_price',\n",
    "       'district_mean_price','price']]"
   ]
  },
  {
   "cell_type": "markdown",
   "id": "5d26b577",
   "metadata": {
    "ExecuteTime": {
     "end_time": "2023-08-11T16:55:19.379220Z",
     "start_time": "2023-08-11T16:55:19.373792Z"
    }
   },
   "source": [
    "# 7.0 Machine Learning"
   ]
  },
  {
   "cell_type": "code",
   "execution_count": 113,
   "id": "ba9d896b",
   "metadata": {
    "ExecuteTime": {
     "end_time": "2024-02-29T23:08:27.946403Z",
     "start_time": "2024-02-29T23:08:27.942617Z"
    }
   },
   "outputs": [],
   "source": [
    "# columns used for training\n",
    "colunas_treino_modelo = df6.columns.to_list()"
   ]
  },
  {
   "cell_type": "code",
   "execution_count": 136,
   "id": "597c8b5d",
   "metadata": {
    "ExecuteTime": {
     "end_time": "2024-02-29T23:13:40.219706Z",
     "start_time": "2024-02-29T23:13:40.215904Z"
    }
   },
   "outputs": [],
   "source": [
    "df7 = df6.copy()"
   ]
  },
  {
   "cell_type": "markdown",
   "id": "eb1563de",
   "metadata": {},
   "source": [
    "## 7.1 - Divisão entre treino e teste"
   ]
  },
  {
   "cell_type": "code",
   "execution_count": 137,
   "id": "ca050a38",
   "metadata": {
    "ExecuteTime": {
     "end_time": "2024-02-29T23:13:47.869239Z",
     "start_time": "2024-02-29T23:13:47.864801Z"
    }
   },
   "outputs": [],
   "source": [
    "# treino\n",
    "X_train = df7.drop( 'price', axis = 1 )\n",
    "y_train = df7['price']"
   ]
  },
  {
   "cell_type": "code",
   "execution_count": 123,
   "id": "4b3cb1fe",
   "metadata": {
    "ExecuteTime": {
     "end_time": "2024-02-29T23:11:26.550793Z",
     "start_time": "2024-02-29T23:11:26.544107Z"
    }
   },
   "outputs": [],
   "source": [
    "# df_teste = df_teste[['size', 'bathrooms', 'address', 'municipality', 'latitude', 'longitude',\n",
    "#        'distance', 'description', 'municipality_mean_price',\n",
    "#        'district_mean_price','price']]"
   ]
  },
  {
   "cell_type": "code",
   "execution_count": 145,
   "id": "6ea1d8c4",
   "metadata": {
    "ExecuteTime": {
     "end_time": "2024-02-29T23:16:25.330207Z",
     "start_time": "2024-02-29T23:16:24.743668Z"
    }
   },
   "outputs": [
    {
     "name": "stdout",
     "output_type": "stream",
     "text": [
      "Rescaled\n"
     ]
    }
   ],
   "source": [
    "# tratando os dados teste\n",
    "idealista = Idealista()\n",
    "\n",
    "df_teste_0 = idealista.rescaling_data( df_teste , rescale = True )\n",
    "df_teste_1 = idealista.encoding( df_teste_0 )\n"
   ]
  },
  {
   "cell_type": "code",
   "execution_count": 146,
   "id": "ac2f77de",
   "metadata": {
    "ExecuteTime": {
     "end_time": "2024-02-29T23:16:33.300211Z",
     "start_time": "2024-02-29T23:16:33.295094Z"
    }
   },
   "outputs": [],
   "source": [
    "# separando os dados de teste\n",
    "X_test = df_teste_1.drop('price', axis = 1 )\n",
    "y_test = df_teste_1['price']"
   ]
  },
  {
   "cell_type": "markdown",
   "id": "9810703c",
   "metadata": {},
   "source": [
    "## 7.2 - Linear Regression"
   ]
  },
  {
   "cell_type": "code",
   "execution_count": 148,
   "id": "4ed596c8",
   "metadata": {
    "ExecuteTime": {
     "end_time": "2024-02-29T23:16:43.428104Z",
     "start_time": "2024-02-29T23:16:43.424136Z"
    }
   },
   "outputs": [],
   "source": [
    "cols = ['size', 'bathrooms', 'address', 'municipality', 'latitude', 'longitude',\n",
    "       'distance', 'description', 'municipality_mean_price',\n",
    "       'district_mean_price']"
   ]
  },
  {
   "cell_type": "code",
   "execution_count": 149,
   "id": "b5ce7fc6",
   "metadata": {
    "ExecuteTime": {
     "end_time": "2024-02-29T23:16:44.949474Z",
     "start_time": "2024-02-29T23:16:44.937190Z"
    }
   },
   "outputs": [],
   "source": [
    "# Criar um modelo de regressão linear\n",
    "lr = LinearRegression()\n",
    "\n",
    "# Treinar o modelo\n",
    "lr.fit(X_train, y_train)\n",
    "\n",
    "# Fazer previsões no conjunto de teste\n",
    "y_pred = lr.predict(X_test[cols])\n"
   ]
  },
  {
   "cell_type": "code",
   "execution_count": 150,
   "id": "6dff5387",
   "metadata": {
    "ExecuteTime": {
     "end_time": "2024-02-29T23:16:53.946602Z",
     "start_time": "2024-02-29T23:16:53.935979Z"
    }
   },
   "outputs": [
    {
     "data": {
      "text/html": [
       "<div>\n",
       "<style scoped>\n",
       "    .dataframe tbody tr th:only-of-type {\n",
       "        vertical-align: middle;\n",
       "    }\n",
       "\n",
       "    .dataframe tbody tr th {\n",
       "        vertical-align: top;\n",
       "    }\n",
       "\n",
       "    .dataframe thead th {\n",
       "        text-align: right;\n",
       "    }\n",
       "</style>\n",
       "<table border=\"1\" class=\"dataframe\">\n",
       "  <thead>\n",
       "    <tr style=\"text-align: right;\">\n",
       "      <th></th>\n",
       "      <th>Model Name</th>\n",
       "      <th>MAE</th>\n",
       "      <th>MAPE</th>\n",
       "      <th>RMSE</th>\n",
       "      <th>R2_score</th>\n",
       "    </tr>\n",
       "  </thead>\n",
       "  <tbody>\n",
       "    <tr>\n",
       "      <th>0</th>\n",
       "      <td>Linear Regression</td>\n",
       "      <td>986.81</td>\n",
       "      <td>0.34</td>\n",
       "      <td>5,869.74</td>\n",
       "      <td>-3.12</td>\n",
       "    </tr>\n",
       "  </tbody>\n",
       "</table>\n",
       "</div>"
      ],
      "text/plain": [
       "         Model Name     MAE  MAPE     RMSE  R2_score\n",
       "0  Linear Regression 986.81  0.34 5,869.74     -3.12"
      ]
     },
     "execution_count": 150,
     "metadata": {},
     "output_type": "execute_result"
    }
   ],
   "source": [
    "lr_metrics = ml_error( 'Linear Regression', y_test   , y_pred )\n",
    "lr_metrics"
   ]
  },
  {
   "cell_type": "markdown",
   "id": "4cb230b5",
   "metadata": {},
   "source": [
    "## 7.2.1 - Linear Regression Cross Validation"
   ]
  },
  {
   "cell_type": "code",
   "execution_count": 66,
   "id": "3cfbb0bc",
   "metadata": {
    "ExecuteTime": {
     "end_time": "2024-02-29T20:55:35.064419Z",
     "start_time": "2024-02-29T20:55:33.373653Z"
    }
   },
   "outputs": [
    {
     "data": {
      "text/html": [
       "<div>\n",
       "<style scoped>\n",
       "    .dataframe tbody tr th:only-of-type {\n",
       "        vertical-align: middle;\n",
       "    }\n",
       "\n",
       "    .dataframe tbody tr th {\n",
       "        vertical-align: top;\n",
       "    }\n",
       "\n",
       "    .dataframe thead th {\n",
       "        text-align: right;\n",
       "    }\n",
       "</style>\n",
       "<table border=\"1\" class=\"dataframe\">\n",
       "  <thead>\n",
       "    <tr style=\"text-align: right;\">\n",
       "      <th></th>\n",
       "      <th>Model Name</th>\n",
       "      <th>MAE</th>\n",
       "      <th>MAPE</th>\n",
       "      <th>RMSE</th>\n",
       "      <th>R2_score</th>\n",
       "      <th>Cv Score</th>\n",
       "    </tr>\n",
       "  </thead>\n",
       "  <tbody>\n",
       "    <tr>\n",
       "      <th>0</th>\n",
       "      <td>Linear Regression</td>\n",
       "      <td>988.78</td>\n",
       "      <td>0.35</td>\n",
       "      <td>5,766.13</td>\n",
       "      <td>-2.97</td>\n",
       "      <td>0.66</td>\n",
       "    </tr>\n",
       "  </tbody>\n",
       "</table>\n",
       "</div>"
      ],
      "text/plain": [
       "         Model Name     MAE  MAPE     RMSE  R2_score  Cv Score\n",
       "0  Linear Regression 988.78  0.35 5,766.13     -2.97      0.66"
      ]
     },
     "execution_count": 66,
     "metadata": {},
     "output_type": "execute_result"
    }
   ],
   "source": [
    "# cross validation\n",
    "precision_scores = cross_val_score(lr, X_train, y_train, cv=100, scoring= 'r2')\n",
    "\n",
    "# mean score \n",
    "mean_score = np.mean( precision_scores )\n",
    "cv_lr = np.round(mean_score,2)\n",
    "lr_metrics_cv = pd.concat( [lr_metrics, pd.DataFrame( {'Cv Score' : [cv_lr]} ) ], axis = 1)\n",
    "lr_metrics_cv"
   ]
  },
  {
   "cell_type": "markdown",
   "id": "4f3d80d9",
   "metadata": {},
   "source": [
    "## 7.3 Lassso"
   ]
  },
  {
   "cell_type": "code",
   "execution_count": 151,
   "id": "298bf754",
   "metadata": {
    "ExecuteTime": {
     "end_time": "2024-02-29T23:17:16.422686Z",
     "start_time": "2024-02-29T23:17:16.329182Z"
    }
   },
   "outputs": [
    {
     "data": {
      "text/html": [
       "<div>\n",
       "<style scoped>\n",
       "    .dataframe tbody tr th:only-of-type {\n",
       "        vertical-align: middle;\n",
       "    }\n",
       "\n",
       "    .dataframe tbody tr th {\n",
       "        vertical-align: top;\n",
       "    }\n",
       "\n",
       "    .dataframe thead th {\n",
       "        text-align: right;\n",
       "    }\n",
       "</style>\n",
       "<table border=\"1\" class=\"dataframe\">\n",
       "  <thead>\n",
       "    <tr style=\"text-align: right;\">\n",
       "      <th></th>\n",
       "      <th>Model Name</th>\n",
       "      <th>MAE</th>\n",
       "      <th>MAPE</th>\n",
       "      <th>RMSE</th>\n",
       "      <th>R2_score</th>\n",
       "    </tr>\n",
       "  </thead>\n",
       "  <tbody>\n",
       "    <tr>\n",
       "      <th>0</th>\n",
       "      <td>Lasso</td>\n",
       "      <td>986.74</td>\n",
       "      <td>0.34</td>\n",
       "      <td>5,869.70</td>\n",
       "      <td>-3.12</td>\n",
       "    </tr>\n",
       "  </tbody>\n",
       "</table>\n",
       "</div>"
      ],
      "text/plain": [
       "  Model Name     MAE  MAPE     RMSE  R2_score\n",
       "0       Lasso 986.74  0.34 5,869.70     -3.12"
      ]
     },
     "execution_count": 151,
     "metadata": {},
     "output_type": "execute_result"
    }
   ],
   "source": [
    "# model\n",
    "lrr = Lasso( alpha = 0.01 ).fit( X_train , y_train )\n",
    "\n",
    "# prediction\n",
    "y_hat_lrr = lrr.predict( X_test[cols] )\n",
    "\n",
    "# performance\n",
    "lrr_result = ml_error( 'Lasso',  y_test  ,  y_hat_lrr  )\n",
    "lrr_result"
   ]
  },
  {
   "cell_type": "markdown",
   "id": "e9fb3406",
   "metadata": {
    "ExecuteTime": {
     "end_time": "2024-02-03T14:44:22.755594Z",
     "start_time": "2024-02-03T14:44:22.752525Z"
    }
   },
   "source": [
    "## 7.3.1 - Lasso Cross Validation"
   ]
  },
  {
   "cell_type": "code",
   "execution_count": 68,
   "id": "bba6eac0",
   "metadata": {
    "ExecuteTime": {
     "end_time": "2024-02-29T20:55:48.532604Z",
     "start_time": "2024-02-29T20:55:35.718994Z"
    },
    "scrolled": true
   },
   "outputs": [
    {
     "data": {
      "text/html": [
       "<div>\n",
       "<style scoped>\n",
       "    .dataframe tbody tr th:only-of-type {\n",
       "        vertical-align: middle;\n",
       "    }\n",
       "\n",
       "    .dataframe tbody tr th {\n",
       "        vertical-align: top;\n",
       "    }\n",
       "\n",
       "    .dataframe thead th {\n",
       "        text-align: right;\n",
       "    }\n",
       "</style>\n",
       "<table border=\"1\" class=\"dataframe\">\n",
       "  <thead>\n",
       "    <tr style=\"text-align: right;\">\n",
       "      <th></th>\n",
       "      <th>Model Name</th>\n",
       "      <th>MAE</th>\n",
       "      <th>MAPE</th>\n",
       "      <th>RMSE</th>\n",
       "      <th>R2_score</th>\n",
       "      <th>Cv Score</th>\n",
       "    </tr>\n",
       "  </thead>\n",
       "  <tbody>\n",
       "    <tr>\n",
       "      <th>0</th>\n",
       "      <td>Lasso</td>\n",
       "      <td>988.70</td>\n",
       "      <td>0.35</td>\n",
       "      <td>5,766.36</td>\n",
       "      <td>-2.98</td>\n",
       "      <td>0.66</td>\n",
       "    </tr>\n",
       "  </tbody>\n",
       "</table>\n",
       "</div>"
      ],
      "text/plain": [
       "  Model Name     MAE  MAPE     RMSE  R2_score  Cv Score\n",
       "0       Lasso 988.70  0.35 5,766.36     -2.98      0.66"
      ]
     },
     "execution_count": 68,
     "metadata": {},
     "output_type": "execute_result"
    }
   ],
   "source": [
    "# cross validation\n",
    "precision_scores = cross_val_score(lrr, X_train, y_train, cv=20, scoring= 'r2')\n",
    "\n",
    "# mean score \n",
    "mean_score = np.mean( precision_scores )\n",
    "cv_lasso = np.round( mean_score, 2)\n",
    "lrr_result_cv = pd.concat( [lrr_result, pd.DataFrame( {'Cv Score' : [cv_lasso]} ) ], axis = 1) \n",
    "lrr_result_cv"
   ]
  },
  {
   "cell_type": "markdown",
   "id": "83db355b",
   "metadata": {},
   "source": [
    "## 7.4 Random Forest"
   ]
  },
  {
   "cell_type": "code",
   "execution_count": 152,
   "id": "37850f1a",
   "metadata": {
    "ExecuteTime": {
     "end_time": "2024-02-29T23:17:32.858484Z",
     "start_time": "2024-02-29T23:17:28.649410Z"
    }
   },
   "outputs": [
    {
     "data": {
      "text/html": [
       "<div>\n",
       "<style scoped>\n",
       "    .dataframe tbody tr th:only-of-type {\n",
       "        vertical-align: middle;\n",
       "    }\n",
       "\n",
       "    .dataframe tbody tr th {\n",
       "        vertical-align: top;\n",
       "    }\n",
       "\n",
       "    .dataframe thead th {\n",
       "        text-align: right;\n",
       "    }\n",
       "</style>\n",
       "<table border=\"1\" class=\"dataframe\">\n",
       "  <thead>\n",
       "    <tr style=\"text-align: right;\">\n",
       "      <th></th>\n",
       "      <th>Model Name</th>\n",
       "      <th>MAE</th>\n",
       "      <th>MAPE</th>\n",
       "      <th>RMSE</th>\n",
       "      <th>R2_score</th>\n",
       "    </tr>\n",
       "  </thead>\n",
       "  <tbody>\n",
       "    <tr>\n",
       "      <th>0</th>\n",
       "      <td>Random Forest Regressor</td>\n",
       "      <td>673.63</td>\n",
       "      <td>0.21</td>\n",
       "      <td>1,871.15</td>\n",
       "      <td>0.58</td>\n",
       "    </tr>\n",
       "  </tbody>\n",
       "</table>\n",
       "</div>"
      ],
      "text/plain": [
       "               Model Name     MAE  MAPE     RMSE  R2_score\n",
       "0  Random Forest Regressor 673.63  0.21 1,871.15      0.58"
      ]
     },
     "execution_count": 152,
     "metadata": {},
     "output_type": "execute_result"
    }
   ],
   "source": [
    "# model\n",
    "rf = RandomForestRegressor( n_estimators = 100 , n_jobs = -1, random_state = 42  )\n",
    "\n",
    "rf.fit( X_train , y_train )\n",
    "\n",
    "# prediction\n",
    "y_hat_rf = rf.predict(  X_test[cols] )\n",
    "\n",
    "# \n",
    "rf_result = ml_error( 'Random Forest Regressor',  y_test  ,  y_hat_rf  )\n",
    "rf_result"
   ]
  },
  {
   "cell_type": "markdown",
   "id": "0d1eef43",
   "metadata": {
    "ExecuteTime": {
     "end_time": "2023-08-13T17:51:19.283637Z",
     "start_time": "2023-08-13T17:51:19.280463Z"
    }
   },
   "source": [
    "## 7.4 Random Forest Cross Validation"
   ]
  },
  {
   "cell_type": "code",
   "execution_count": 70,
   "id": "8116f6c3",
   "metadata": {
    "ExecuteTime": {
     "end_time": "2024-02-29T20:56:35.679961Z",
     "start_time": "2024-02-29T20:55:57.700287Z"
    }
   },
   "outputs": [
    {
     "data": {
      "text/html": [
       "<div>\n",
       "<style scoped>\n",
       "    .dataframe tbody tr th:only-of-type {\n",
       "        vertical-align: middle;\n",
       "    }\n",
       "\n",
       "    .dataframe tbody tr th {\n",
       "        vertical-align: top;\n",
       "    }\n",
       "\n",
       "    .dataframe thead th {\n",
       "        text-align: right;\n",
       "    }\n",
       "</style>\n",
       "<table border=\"1\" class=\"dataframe\">\n",
       "  <thead>\n",
       "    <tr style=\"text-align: right;\">\n",
       "      <th></th>\n",
       "      <th>Model Name</th>\n",
       "      <th>MAE</th>\n",
       "      <th>MAPE</th>\n",
       "      <th>RMSE</th>\n",
       "      <th>R2_score</th>\n",
       "      <th>Cv Score</th>\n",
       "    </tr>\n",
       "  </thead>\n",
       "  <tbody>\n",
       "    <tr>\n",
       "      <th>0</th>\n",
       "      <td>Random Forest Regressor</td>\n",
       "      <td>636.44</td>\n",
       "      <td>0.21</td>\n",
       "      <td>1,841.76</td>\n",
       "      <td>0.59</td>\n",
       "      <td>0.76</td>\n",
       "    </tr>\n",
       "  </tbody>\n",
       "</table>\n",
       "</div>"
      ],
      "text/plain": [
       "               Model Name     MAE  MAPE     RMSE  R2_score  Cv Score\n",
       "0  Random Forest Regressor 636.44  0.21 1,841.76      0.59      0.76"
      ]
     },
     "execution_count": 70,
     "metadata": {},
     "output_type": "execute_result"
    }
   ],
   "source": [
    "# cross validation\n",
    "precision_scores = cross_val_score(rf, X_train, y_train, cv=5, scoring= 'r2')\n",
    "\n",
    "# mean score \n",
    "mean_score = np.mean( precision_scores )\n",
    "rf_cv = np.round( mean_score, 2)\n",
    "rf_result_cv = pd.concat( [rf_result, pd.DataFrame( {'Cv Score' : [rf_cv]} ) ], axis = 1) \n",
    "rf_result_cv"
   ]
  },
  {
   "cell_type": "markdown",
   "id": "97f9e826",
   "metadata": {},
   "source": [
    "## 7.5 LGBM"
   ]
  },
  {
   "cell_type": "code",
   "execution_count": 154,
   "id": "79fe0b92",
   "metadata": {
    "ExecuteTime": {
     "end_time": "2024-02-29T23:17:54.835058Z",
     "start_time": "2024-02-29T23:17:54.665104Z"
    }
   },
   "outputs": [
    {
     "name": "stdout",
     "output_type": "stream",
     "text": [
      "[LightGBM] [Warning] Auto-choosing col-wise multi-threading, the overhead of testing was 0.000851 seconds.\n",
      "You can set `force_col_wise=true` to remove the overhead.\n",
      "[LightGBM] [Info] Total Bins 1686\n",
      "[LightGBM] [Info] Number of data points in the train set: 11004, number of used features: 10\n",
      "[LightGBM] [Info] Start training from score 2805.586787\n"
     ]
    },
    {
     "data": {
      "text/html": [
       "<div>\n",
       "<style scoped>\n",
       "    .dataframe tbody tr th:only-of-type {\n",
       "        vertical-align: middle;\n",
       "    }\n",
       "\n",
       "    .dataframe tbody tr th {\n",
       "        vertical-align: top;\n",
       "    }\n",
       "\n",
       "    .dataframe thead th {\n",
       "        text-align: right;\n",
       "    }\n",
       "</style>\n",
       "<table border=\"1\" class=\"dataframe\">\n",
       "  <thead>\n",
       "    <tr style=\"text-align: right;\">\n",
       "      <th></th>\n",
       "      <th>Model Name</th>\n",
       "      <th>MAE</th>\n",
       "      <th>MAPE</th>\n",
       "      <th>RMSE</th>\n",
       "      <th>R2_score</th>\n",
       "    </tr>\n",
       "  </thead>\n",
       "  <tbody>\n",
       "    <tr>\n",
       "      <th>0</th>\n",
       "      <td>lgbm</td>\n",
       "      <td>675.26</td>\n",
       "      <td>0.21</td>\n",
       "      <td>1,892.68</td>\n",
       "      <td>0.57</td>\n",
       "    </tr>\n",
       "  </tbody>\n",
       "</table>\n",
       "</div>"
      ],
      "text/plain": [
       "  Model Name     MAE  MAPE     RMSE  R2_score\n",
       "0        lgbm 675.26  0.21 1,892.68      0.57"
      ]
     },
     "execution_count": 154,
     "metadata": {},
     "output_type": "execute_result"
    }
   ],
   "source": [
    "# Criar um conjunto de dados LightGBM a partir dos dados de treinamento\n",
    "train_data = lgb.Dataset(X_train, label=y_train)\n",
    "\n",
    "# Definir parâmetros básicos\n",
    "params = {\n",
    "    'objective': 'regression',  # Regressão\n",
    "    'metric': 'l2',  # Métrica de avaliação (erro quadrático médio)\n",
    "    'boosting_type': 'gbdt',  # Tipo de aumento (gradient boosting)\n",
    "}\n",
    "\n",
    "# Treinar o modelo LightGBM\n",
    "num_round = 100  # Número de iterações (árvores) de treinamento\n",
    "bst = lgb.train(params, train_data, num_boost_round=num_round)\n",
    "\n",
    "# Fazer previsões no conjunto de teste\n",
    "y_pred_lgbm = bst.predict( X_test[cols] )\n",
    "\n",
    "# performance\n",
    "lgbm = ml_error( 'lgbm',  y_test  ,  y_pred_lgbm  )\n",
    "lgbm\n"
   ]
  },
  {
   "cell_type": "markdown",
   "id": "c08ed0e6",
   "metadata": {},
   "source": [
    "## 7.5.1 LGBM Cross Validation"
   ]
  },
  {
   "cell_type": "code",
   "execution_count": 72,
   "id": "a54896bf",
   "metadata": {
    "ExecuteTime": {
     "end_time": "2024-02-29T20:56:38.857880Z",
     "start_time": "2024-02-29T20:56:35.974197Z"
    }
   },
   "outputs": [
    {
     "name": "stdout",
     "output_type": "stream",
     "text": [
      "[LightGBM] [Warning] Auto-choosing row-wise multi-threading, the overhead of testing was 0.001392 seconds.\n",
      "You can set `force_row_wise=true` to remove the overhead.\n",
      "And if memory is not enough, you can set `force_col_wise=true`.\n",
      "[LightGBM] [Info] Total Bins 2093\n",
      "[LightGBM] [Info] Number of data points in the train set: 9903, number of used features: 30\n",
      "[LightGBM] [Info] Start training from score 2805.127133\n",
      "[LightGBM] [Warning] Auto-choosing row-wise multi-threading, the overhead of testing was 0.001262 seconds.\n",
      "You can set `force_row_wise=true` to remove the overhead.\n",
      "And if memory is not enough, you can set `force_col_wise=true`.\n",
      "[LightGBM] [Info] Total Bins 2088\n",
      "[LightGBM] [Info] Number of data points in the train set: 9903, number of used features: 30\n",
      "[LightGBM] [Info] Start training from score 2805.174796\n",
      "[LightGBM] [Warning] Auto-choosing col-wise multi-threading, the overhead of testing was 0.002315 seconds.\n",
      "You can set `force_col_wise=true` to remove the overhead.\n",
      "[LightGBM] [Info] Total Bins 2095\n",
      "[LightGBM] [Info] Number of data points in the train set: 9903, number of used features: 29\n",
      "[LightGBM] [Info] Start training from score 2811.861052\n",
      "[LightGBM] [Warning] Auto-choosing col-wise multi-threading, the overhead of testing was 0.002223 seconds.\n",
      "You can set `force_col_wise=true` to remove the overhead.\n",
      "[LightGBM] [Info] Total Bins 2092\n",
      "[LightGBM] [Info] Number of data points in the train set: 9903, number of used features: 30\n",
      "[LightGBM] [Info] Start training from score 2798.978895\n",
      "[LightGBM] [Warning] Auto-choosing row-wise multi-threading, the overhead of testing was 0.000798 seconds.\n",
      "You can set `force_row_wise=true` to remove the overhead.\n",
      "And if memory is not enough, you can set `force_col_wise=true`.\n",
      "[LightGBM] [Info] Total Bins 2090\n",
      "[LightGBM] [Info] Number of data points in the train set: 9904, number of used features: 29\n",
      "[LightGBM] [Info] Start training from score 2814.714358\n",
      "[LightGBM] [Warning] Auto-choosing col-wise multi-threading, the overhead of testing was 0.002441 seconds.\n",
      "You can set `force_col_wise=true` to remove the overhead.\n",
      "[LightGBM] [Info] Total Bins 2089\n",
      "[LightGBM] [Info] Number of data points in the train set: 9904, number of used features: 30\n",
      "[LightGBM] [Info] Start training from score 2812.983744\n",
      "[LightGBM] [Warning] Auto-choosing col-wise multi-threading, the overhead of testing was 0.002417 seconds.\n",
      "You can set `force_col_wise=true` to remove the overhead.\n",
      "[LightGBM] [Info] Total Bins 2092\n",
      "[LightGBM] [Info] Number of data points in the train set: 9904, number of used features: 30\n",
      "[LightGBM] [Info] Start training from score 2799.355816\n",
      "[LightGBM] [Warning] Auto-choosing row-wise multi-threading, the overhead of testing was 0.001360 seconds.\n",
      "You can set `force_row_wise=true` to remove the overhead.\n",
      "And if memory is not enough, you can set `force_col_wise=true`.\n",
      "[LightGBM] [Info] Total Bins 2094\n",
      "[LightGBM] [Info] Number of data points in the train set: 9904, number of used features: 30\n",
      "[LightGBM] [Info] Start training from score 2812.278776\n",
      "[LightGBM] [Warning] Auto-choosing col-wise multi-threading, the overhead of testing was 0.002552 seconds.\n",
      "You can set `force_col_wise=true` to remove the overhead.\n",
      "[LightGBM] [Info] Total Bins 2089\n",
      "[LightGBM] [Info] Number of data points in the train set: 9904, number of used features: 30\n",
      "[LightGBM] [Info] Start training from score 2793.081381\n",
      "[LightGBM] [Warning] Auto-choosing row-wise multi-threading, the overhead of testing was 0.000816 seconds.\n",
      "You can set `force_row_wise=true` to remove the overhead.\n",
      "And if memory is not enough, you can set `force_col_wise=true`.\n",
      "[LightGBM] [Info] Total Bins 2089\n",
      "[LightGBM] [Info] Number of data points in the train set: 9904, number of used features: 30\n",
      "[LightGBM] [Info] Start training from score 2802.311793\n"
     ]
    },
    {
     "data": {
      "text/html": [
       "<div>\n",
       "<style scoped>\n",
       "    .dataframe tbody tr th:only-of-type {\n",
       "        vertical-align: middle;\n",
       "    }\n",
       "\n",
       "    .dataframe tbody tr th {\n",
       "        vertical-align: top;\n",
       "    }\n",
       "\n",
       "    .dataframe thead th {\n",
       "        text-align: right;\n",
       "    }\n",
       "</style>\n",
       "<table border=\"1\" class=\"dataframe\">\n",
       "  <thead>\n",
       "    <tr style=\"text-align: right;\">\n",
       "      <th></th>\n",
       "      <th>Model Name</th>\n",
       "      <th>MAE</th>\n",
       "      <th>MAPE</th>\n",
       "      <th>RMSE</th>\n",
       "      <th>R2_score</th>\n",
       "      <th>Cv Score</th>\n",
       "    </tr>\n",
       "  </thead>\n",
       "  <tbody>\n",
       "    <tr>\n",
       "      <th>0</th>\n",
       "      <td>lgbm</td>\n",
       "      <td>645.45</td>\n",
       "      <td>0.21</td>\n",
       "      <td>1,853.31</td>\n",
       "      <td>0.59</td>\n",
       "      <td>0.77</td>\n",
       "    </tr>\n",
       "  </tbody>\n",
       "</table>\n",
       "</div>"
      ],
      "text/plain": [
       "  Model Name     MAE  MAPE     RMSE  R2_score  Cv Score\n",
       "0        lgbm 645.45  0.21 1,853.31      0.59      0.77"
      ]
     },
     "execution_count": 72,
     "metadata": {},
     "output_type": "execute_result"
    }
   ],
   "source": [
    "# Definir parâmetros básicos\n",
    "params = {\n",
    "    'objective': 'regression',  # Regressão\n",
    "    'metric': 'r2',  # Usando R² como métrica de avaliação, se suportado pela sua versão do LightGBM\n",
    "    'boosting_type': 'gbdt',  # Tipo de aumento (gradient boosting)\n",
    "}\n",
    "\n",
    "# Preparar o conjunto de dados LightGBM\n",
    "lgb_data = lgb.Dataset(X_train, label=y_train)\n",
    "\n",
    "# Número de iterações de treinamento\n",
    "num_round = 100\n",
    "\n",
    "# Configuração da validação cruzada\n",
    "nfold = 10\n",
    "seed = 42\n",
    "\n",
    "kf = KFold(n_splits=nfold, random_state=seed, shuffle=True)\n",
    "\n",
    "r2_scores = []\n",
    "\n",
    "# Realizar a validação cruzada\n",
    "for train_idx, val_idx in kf.split(X_train):\n",
    "    X_train_fold = X_train.iloc[train_idx]  # Seleciona as linhas de treinamento\n",
    "    y_train_fold = y_train.iloc[train_idx]  # Seleciona os rótulos de treinamento\n",
    "    X_val_fold = X_train.iloc[val_idx]  # Seleciona as linhas de validação\n",
    "\n",
    "    # Treinar o modelo LightGBM\n",
    "    bst = lgb.train(params, lgb.Dataset(X_train_fold, label=y_train_fold), num_boost_round=num_round)\n",
    "\n",
    "    # Fazer previsões no conjunto de validação\n",
    "    y_pred = bst.predict(X_val_fold)\n",
    "\n",
    "    # Calcular o R² score\n",
    "    r2 = r2_score(y_train.iloc[val_idx], y_pred)\n",
    "    r2_scores.append(r2)\n",
    "\n",
    "# Mostrar a média dos R² scores\n",
    "mean_r2 = np.mean(r2_scores)\n",
    "lgbm_cv = pd.concat( [lgbm, pd.DataFrame( {'Cv Score' : [mean_r2]} ) ], axis = 1) \n",
    "lgbm_cv"
   ]
  },
  {
   "cell_type": "markdown",
   "id": "ec7a8557",
   "metadata": {},
   "source": [
    "## 7.6 XGBOOST"
   ]
  },
  {
   "cell_type": "code",
   "execution_count": 155,
   "id": "79e345b7",
   "metadata": {
    "ExecuteTime": {
     "end_time": "2024-02-29T23:18:06.617416Z",
     "start_time": "2024-02-29T23:18:06.200757Z"
    }
   },
   "outputs": [
    {
     "data": {
      "text/html": [
       "<div>\n",
       "<style scoped>\n",
       "    .dataframe tbody tr th:only-of-type {\n",
       "        vertical-align: middle;\n",
       "    }\n",
       "\n",
       "    .dataframe tbody tr th {\n",
       "        vertical-align: top;\n",
       "    }\n",
       "\n",
       "    .dataframe thead th {\n",
       "        text-align: right;\n",
       "    }\n",
       "</style>\n",
       "<table border=\"1\" class=\"dataframe\">\n",
       "  <thead>\n",
       "    <tr style=\"text-align: right;\">\n",
       "      <th></th>\n",
       "      <th>Model Name</th>\n",
       "      <th>MAE</th>\n",
       "      <th>MAPE</th>\n",
       "      <th>RMSE</th>\n",
       "      <th>R2_score</th>\n",
       "    </tr>\n",
       "  </thead>\n",
       "  <tbody>\n",
       "    <tr>\n",
       "      <th>0</th>\n",
       "      <td>xgb</td>\n",
       "      <td>722.45</td>\n",
       "      <td>0.23</td>\n",
       "      <td>1,912.80</td>\n",
       "      <td>0.56</td>\n",
       "    </tr>\n",
       "  </tbody>\n",
       "</table>\n",
       "</div>"
      ],
      "text/plain": [
       "  Model Name     MAE  MAPE     RMSE  R2_score\n",
       "0         xgb 722.45  0.23 1,912.80      0.56"
      ]
     },
     "execution_count": 155,
     "metadata": {},
     "output_type": "execute_result"
    }
   ],
   "source": [
    "# Criar um modelo XGBoost Regressor\n",
    "model_xgb = xgb.XGBRegressor(objective='reg:squarederror', n_estimators=100, max_depth=3, learning_rate=0.1)\n",
    "\n",
    "# Treinar o modelo\n",
    "model_xgb.fit(X_train, y_train)\n",
    "\n",
    "# Fazer previsões no conjunto de teste\n",
    "y_pred_xgb = model_xgb.predict( X_test[cols])\n",
    "\n",
    "# performance\n",
    "xgb_performance = ml_error( 'xgb',  y_test  ,  y_pred_xgb  )\n",
    "xgb_performance"
   ]
  },
  {
   "cell_type": "markdown",
   "id": "a18a6995",
   "metadata": {
    "ExecuteTime": {
     "end_time": "2024-02-03T15:02:22.466913Z",
     "start_time": "2024-02-03T15:02:22.462520Z"
    }
   },
   "source": [
    "## 7.6.1 XGBOOST Cross Validation"
   ]
  },
  {
   "cell_type": "code",
   "execution_count": 74,
   "id": "1e9ebf05",
   "metadata": {
    "ExecuteTime": {
     "end_time": "2024-02-29T20:56:42.180012Z",
     "start_time": "2024-02-29T20:56:39.538264Z"
    }
   },
   "outputs": [],
   "source": [
    "# Realizar validação cruzada com 5 folds (ou o número que preferir) usando o R2 como métrica\n",
    "scores = cross_val_score(model_xgb, X_train, y_train, cv=5, scoring='r2')\n",
    "\n",
    "# Calcular a média dos coeficientes R2\n",
    "mean_r2 = scores.mean()\n",
    "\n",
    "# Imprimir o R2 médio\n",
    "result_xgb = pd.concat( [xgb_performance, pd.DataFrame( {'Cv Score' : [mean_r2]} ) ], axis = 1) "
   ]
  },
  {
   "cell_type": "markdown",
   "id": "7b328668",
   "metadata": {},
   "source": [
    "## 7.7 Resultados Modelos"
   ]
  },
  {
   "cell_type": "code",
   "execution_count": 156,
   "id": "080f6a7f",
   "metadata": {
    "ExecuteTime": {
     "end_time": "2024-02-29T23:18:11.237752Z",
     "start_time": "2024-02-29T23:18:11.224088Z"
    }
   },
   "outputs": [
    {
     "data": {
      "text/html": [
       "<div>\n",
       "<style scoped>\n",
       "    .dataframe tbody tr th:only-of-type {\n",
       "        vertical-align: middle;\n",
       "    }\n",
       "\n",
       "    .dataframe tbody tr th {\n",
       "        vertical-align: top;\n",
       "    }\n",
       "\n",
       "    .dataframe thead th {\n",
       "        text-align: right;\n",
       "    }\n",
       "</style>\n",
       "<table border=\"1\" class=\"dataframe\">\n",
       "  <thead>\n",
       "    <tr style=\"text-align: right;\">\n",
       "      <th></th>\n",
       "      <th>Model Name</th>\n",
       "      <th>MAE</th>\n",
       "      <th>MAPE</th>\n",
       "      <th>RMSE</th>\n",
       "      <th>R2_score</th>\n",
       "      <th>Cv Score</th>\n",
       "    </tr>\n",
       "  </thead>\n",
       "  <tbody>\n",
       "    <tr>\n",
       "      <th>0</th>\n",
       "      <td>Random Forest Regressor</td>\n",
       "      <td>636.44</td>\n",
       "      <td>0.21</td>\n",
       "      <td>1,841.76</td>\n",
       "      <td>0.59</td>\n",
       "      <td>0.76</td>\n",
       "    </tr>\n",
       "    <tr>\n",
       "      <th>0</th>\n",
       "      <td>lgbm</td>\n",
       "      <td>645.45</td>\n",
       "      <td>0.21</td>\n",
       "      <td>1,853.31</td>\n",
       "      <td>0.59</td>\n",
       "      <td>0.77</td>\n",
       "    </tr>\n",
       "    <tr>\n",
       "      <th>0</th>\n",
       "      <td>xgb</td>\n",
       "      <td>684.96</td>\n",
       "      <td>0.22</td>\n",
       "      <td>1,868.71</td>\n",
       "      <td>0.58</td>\n",
       "      <td>0.74</td>\n",
       "    </tr>\n",
       "    <tr>\n",
       "      <th>0</th>\n",
       "      <td>Lasso</td>\n",
       "      <td>988.70</td>\n",
       "      <td>0.35</td>\n",
       "      <td>5,766.36</td>\n",
       "      <td>-2.98</td>\n",
       "      <td>0.66</td>\n",
       "    </tr>\n",
       "    <tr>\n",
       "      <th>0</th>\n",
       "      <td>Linear Regression</td>\n",
       "      <td>988.78</td>\n",
       "      <td>0.35</td>\n",
       "      <td>5,766.13</td>\n",
       "      <td>-2.97</td>\n",
       "      <td>0.66</td>\n",
       "    </tr>\n",
       "  </tbody>\n",
       "</table>\n",
       "</div>"
      ],
      "text/plain": [
       "               Model Name     MAE  MAPE     RMSE  R2_score  Cv Score\n",
       "0  Random Forest Regressor 636.44  0.21 1,841.76      0.59      0.76\n",
       "0                     lgbm 645.45  0.21 1,853.31      0.59      0.77\n",
       "0                      xgb 684.96  0.22 1,868.71      0.58      0.74\n",
       "0                    Lasso 988.70  0.35 5,766.36     -2.98      0.66\n",
       "0        Linear Regression 988.78  0.35 5,766.13     -2.97      0.66"
      ]
     },
     "execution_count": 156,
     "metadata": {},
     "output_type": "execute_result"
    }
   ],
   "source": [
    "pd.concat( [lr_metrics_cv, lrr_result_cv, rf_result_cv , lgbm_cv , result_xgb] , axis = 0 ).sort_values( by = 'MAE'\n",
    " , ascending = True)"
   ]
  },
  {
   "cell_type": "markdown",
   "id": "1c799cf4",
   "metadata": {},
   "source": [
    "## 7.8 Resultados Cross Validation"
   ]
  },
  {
   "cell_type": "markdown",
   "id": "defa1042",
   "metadata": {},
   "source": [
    "## 8.1 Criando a classe Idealista"
   ]
  },
  {
   "cell_type": "code",
   "execution_count": 87,
   "id": "22968dc6",
   "metadata": {
    "ExecuteTime": {
     "end_time": "2024-02-29T21:07:08.530895Z",
     "start_time": "2024-02-29T21:07:08.323947Z"
    }
   },
   "outputs": [],
   "source": [
    "class Idealista:\n",
    "    def __init__( self ):\n",
    "        \n",
    "        self.df_region = pd.read_csv( 'datasets/df_region.csv' )\n",
    "        self.home_path                    = r'C:\\Users\\oscar\\Documents\\repos\\api_houses_Lisbon\\encodings'\n",
    "\n",
    "        self.te_status                    = pickle.load(open(os.path.join(self.home_path, 'te_status.pkl'), 'rb'))\n",
    "        self.te_province                  = pickle.load(open(os.path.join(self.home_path,'te_province.pkl') , 'rb'))\n",
    "        self.te_property_type             = pickle.load(open(os.path.join(self.home_path,'te_property_type.pkl'), 'rb'))\n",
    "        self.te_municipality              = pickle.load(open(os.path.join(self.home_path,'te_municipality.pkl'), 'rb' ))\n",
    "        self.te_district                  = pickle.load(open(os.path.join(self.home_path,'te_district.pkl'),'rb'))\n",
    "        self.le_detailed_type             = pickle.load(open(os.path.join(self.home_path,'le_detailed_type.pkl'),'rb' ))\n",
    "        self.freq_encoding_address        = pickle.load(open(os.path.join(self.home_path,'freq_encoding_address.pkl'), 'rb' ))\n",
    "        \n",
    "    def transform_data(self, df, colunas_irrelevantes ):\n",
    "\n",
    "        cols_old = df.columns.to_list()\n",
    "\n",
    "        # def função snake_case\n",
    "        snake_case = lambda x: inflection.underscore( x )\n",
    "\n",
    "        # defino as novas colunas\n",
    "        cols_new = list(map( snake_case, cols_old )) \n",
    "\n",
    "        # atribuo as novas colunas ao df\n",
    "        df.columns = cols_new\n",
    "\n",
    "        # removo as linhas em branco que possam ter vindo na extração\n",
    "        df = df.loc[~ df['property_code'].isna() , : ]\n",
    "\n",
    "        # removo duplicadas\n",
    "        df = df.drop_duplicates( subset= ['property_code'], keep = 'last' )\n",
    "\n",
    "        # preencho os vazios\n",
    "        df = fill_na( df )\n",
    "\n",
    "        # deleto as colunaas irrelevantes\n",
    "        df = delete_columns( df , colunas_irrelevantes )\n",
    "   \n",
    "        return df\n",
    "\n",
    "\n",
    "#=======================================================================================================================#\n",
    "\n",
    "    def feature_engineering(self, df , transform_data = False, merge_datasets = False   ):\n",
    "        \n",
    "        if transform_data == True and merge_datasets == False :\n",
    "            \n",
    "            # mes\n",
    "            df['datetime_scrapy'] = pd.to_datetime( df['datetime_scrapy'] )\n",
    "            df['month'] = df['datetime_scrapy'].dt.month \n",
    "\n",
    "            # ano\n",
    "            df['year'] = df['datetime_scrapy'].dt.year\n",
    "\n",
    "            # excluir a coluna datetime\n",
    "            df = df.drop( 'datetime_scrapy', axis = 1 )\n",
    "\n",
    "            print( 'Dados Transformados' )\n",
    "\n",
    "            return df\n",
    "        \n",
    "    \n",
    "        if merge_datasets == True and transform_data == False:\n",
    "        \n",
    "            # Df com a média de preço por município\n",
    "            df_municipality_mean_price = self.df_region.groupby('municipality')[['price']].median().reset_index()\n",
    "\n",
    "            # alteração nome coluna\n",
    "            df_municipality_mean_price = df_municipality_mean_price.rename(columns={'price': 'municipality_mean_price'})\n",
    "\n",
    "            # exportar para csv\n",
    "            #d f2_municipality_mean_price.to_csv( 'datasets/municipality.csv' )\n",
    "\n",
    "            # acrescentando a coluna ao df2\n",
    "            df = pd.merge( df, df_municipality_mean_price, on = 'municipality' , how = 'left' )\n",
    "\n",
    "#======================================================================================================================#\n",
    "\n",
    "#             # calculando a média por 'province'\n",
    "#             df2_province_mean_price = self.df_region.groupby( 'province' )[['price']].median().reset_index().rename( columns = { 'price': 'province_mean_price' } )\n",
    "\n",
    "#             # exportando para csv\n",
    "#             # df2_province_mean_price.to_csv( 'datasets/province.csv' )\n",
    "\n",
    "#             # acrescentando a coluna ao df2\n",
    "#             df = pd.merge( df, df2_province_mean_price , on = 'province' , how = 'left' )\n",
    "\n",
    "    #=======================================================================================================================#\n",
    "\n",
    "            # calculando média por district\n",
    "            df2_district_mean_price = self.df_region.groupby( 'district' )[['price']].median().reset_index().rename( columns = { 'price' : 'district_mean_price' } )\n",
    "\n",
    "            # exportando para csv \n",
    "            #df2_district_mean_price.to_csv( 'datasets/district.csv' )\n",
    "\n",
    "            # acrescentando a coluna ao df2\n",
    "            df = pd.merge( df , df2_district_mean_price , on = 'district', how = 'left' )\n",
    "\n",
    "            print( 'Datasets combinados com preços regioes' )\n",
    "\n",
    "            return df\n",
    "    \n",
    "        if transform_data == True and merge_datasets == True:\n",
    "\n",
    "            # mes\n",
    "            df['datetime_scrapy'] = pd.to_datetime( df['datetime_scrapy'] )\n",
    "            df['month'] = df['datetime_scrapy'].dt.month \n",
    "\n",
    "            # ano\n",
    "            df['year'] = df['datetime_scrapy'].dt.year\n",
    "\n",
    "            # excluir a coluna datetime\n",
    "            df = df.drop( 'datetime_scrapy', axis = 1 )\n",
    "\n",
    "            # Df com a média de preço por município\n",
    "            df_municipality_mean_price = self.df_region.groupby('municipality')[['price']].mean().reset_index()\n",
    "\n",
    "            # alteração nome coluna\n",
    "            df_municipality_mean_price = df_municipality_mean_price.rename(columns={'price': 'municipality_mean_price'})\n",
    "\n",
    "            # exportar para csv\n",
    "            #d f2_municipality_mean_price.to_csv( 'datasets/municipality.csv' )\n",
    "\n",
    "            # acrescentando a coluna ao df2\n",
    "            df = pd.merge( df, df_municipality_mean_price, on = 'municipality' , how = 'left' )\n",
    "\n",
    "    # ======================================================================================================================#\n",
    "\n",
    "#             # calculando a média por 'province'\n",
    "#             df2_province_mean_price = self.df_region.groupby( 'province' )[['price']].mean().reset_index().rename( columns = { 'price': 'province_mean_price' } )\n",
    "\n",
    "#             # exportando para csv\n",
    "#             # df2_province_mean_price.to_csv( 'datasets/province.csv' )\n",
    "\n",
    "#             # acrescentando a coluna ao df2\n",
    "#             df = pd.merge( df, df2_province_mean_price , on = 'province' , how = 'left' )\n",
    "\n",
    "    #=======================================================================================================================#\n",
    "\n",
    "            # calculando média por district\n",
    "            df2_district_mean_price = self.df_region.groupby( 'district' )[['price']].mean().reset_index().rename( columns = { 'price' : 'district_mean_price' } )\n",
    "\n",
    "            # exportando para csv \n",
    "            #df2_district_mean_price.to_csv( 'datasets/district.csv' )\n",
    "\n",
    "            # acrescentando a coluna ao df2\n",
    "            df = pd.merge( df , df2_district_mean_price , on = 'district', how = 'left' )\n",
    "\n",
    "            print( 'datasets combinados e dados transformados' )\n",
    "        \n",
    "            return df\n",
    "        \n",
    "        else:\n",
    "\n",
    "            print( 'Nenhuma Transformação' )\n",
    "\n",
    "            return df\n",
    "            \n",
    "#=======================================================================================================================#\n",
    "    \n",
    "    def filter_variables(self, df, filter_variables = False):\n",
    "    \n",
    "        if filter_variables:\n",
    "\n",
    "            # Vou querer saber somente os preços na province de Lisboa\n",
    "            df = df.loc[ df['province'] == 'Lisboa' , :  ]\n",
    "\n",
    "            # vou querer somente as habitações que tenham de 0 a no máximo 4 quartos\n",
    "            df = df.loc[ df['rooms'].isin( [ 0,1,2,3,4 ] ) , : ]\n",
    "\n",
    "            print('Variavies filtradas')\n",
    "\n",
    "            return df\n",
    "\n",
    "        else:\n",
    "\n",
    "            print('Variavies não filtradas')\n",
    "\n",
    "            return df\n",
    "\n",
    "#=======================================================================================================================#\n",
    "\n",
    "    # função para remover outliers\n",
    "    def remove_outliers(self, df, coluna = None ,  keep_outliers = True ):\n",
    "\n",
    "        if keep_outliers:\n",
    "            print( 'Outliers mantidos' )\n",
    "            return df\n",
    "\n",
    "        else:\n",
    "            # variavel resposta sem outliers\n",
    "            df = remover_outliers( df4 , coluna )\n",
    "            print('Outliers removidos')\n",
    "            return df\n",
    "\n",
    "#=======================================================================================================================#\n",
    "    \n",
    "    def rescaling_data(self, df, rescale = False ):\n",
    "\n",
    "        if rescale:\n",
    "            rs = RobustScaler() # robusto com outliers\n",
    "            mms = pp.MinMaxScaler() # desvio padrão pequeno e quando não ha distribuição gaussiana\n",
    "\n",
    "    #         # num_photos\n",
    "    #         rs_num_photos = RobustScaler() \n",
    "    #         # num_photos\n",
    "    #         df['num_photos'] = rs_num_photos.fit_transform( df[['num_photos']].values )\n",
    "\n",
    "            # floor\n",
    "#             rs_floor = RobustScaler() \n",
    "#             # num_photos\n",
    "#             df['floor'] = rs_floor.fit_transform( df[['floor']].values )\n",
    "\n",
    "            # size\n",
    "            rs_size = RobustScaler() \n",
    "            # size\n",
    "            df['size'] = rs_size.fit_transform( df[['size']].values )\n",
    "\n",
    "            # rooms\n",
    "    #         mms_rooms = pp.MinMaxScaler() \n",
    "    #         # rooms\n",
    "    #         df['rooms'] = mms_rooms.fit_transform( df[['rooms']].values )\n",
    "\n",
    "            # bathrooms\n",
    "    #         rs_bathrooms = RobustScaler() \n",
    "    #         # bathrooms\n",
    "    #         df['bathrooms'] = rs_bathrooms.fit_transform( df[['bathrooms']].values )\n",
    "\n",
    "            # distance\n",
    "            rs_distance = RobustScaler()\n",
    "            # distance\n",
    "            df['distance'] = rs_distance.fit_transform( df[['distance']].values )\n",
    "\n",
    "\n",
    "\n",
    "            print('Rescaled')\n",
    "\n",
    "            return  df\n",
    "        else:\n",
    "            print('Not rescaled')\n",
    "\n",
    "            return df\n",
    "\n",
    "#=======================================================================================================================#\n",
    "\n",
    "    def encoding( self, df ):\n",
    "\n",
    "        # floor - substituo os andares com letras\n",
    "        df['floor'] = df['floor'].replace( ['bj','st','ss','en'], 0 )\n",
    "        # transformo em inteiros\n",
    "        df['floor'] = df['floor'].astype( 'int64' )\n",
    "\n",
    "        #property_type - label\n",
    "        te_property_type = {'flat' : 0, 'duplex' : 1, 'chalet' : 2, 'studio': 3, 'penthouse': 4, 'countryHouse':5}\n",
    "        #te_property_type = df.groupby( 'property_type' )['price'].mean()\n",
    "        df['property_type'] = df['property_type'].map( te_property_type )\n",
    "        pickle.dump(te_property_type,open(r'C:\\Users\\oscar\\Documents\\repos\\api_houses_Lisbon\\encodings\\te_property_type.pkl', 'wb' ) )\n",
    "\n",
    "        # address - label\n",
    "        freq_encoding_address = df['address'].value_counts(normalize=True)\n",
    "        df['address'] = df['address'].map( freq_encoding_address )\n",
    "        pickle.dump( freq_encoding_address, open(r'C:\\Users\\oscar\\Documents\\repos\\api_houses_Lisbon\\encodings\\freq_encoding_address.pkl', 'wb') )\n",
    "\n",
    "        # province \n",
    "        te_province = df['province'].value_counts( )\n",
    "        #te_province = df.groupby( 'province' )['price'].mean()\n",
    "        df['province'] = df['province'].map( te_province )\n",
    "        pickle.dump( te_province, open( r'C:\\Users\\oscar\\Documents\\repos\\api_houses_Lisbon\\encodings\\te_province.pkl', 'wb' ) )\n",
    "\n",
    "        # municipality - label\n",
    "        te_municipality = df['municipality'].value_counts()\n",
    "        #te_municipality = df.groupby( 'municipality' )['price'].mean()\n",
    "        df['municipality'] = df['municipality'].map( te_municipality ).astype( 'float64' )\n",
    "        pickle.dump( te_municipality, open( r'C:\\Users\\oscar\\Documents\\repos\\api_houses_Lisbon\\encodings\\te_municipality.pkl', 'wb' ) )            \n",
    "\n",
    "        # municipality\n",
    "    #     freq_encoding_municipality = df['municipality'].value_counts(normalize=True)\n",
    "    #     df['municipality'] = df['municipality'].map( freq_encoding_municipality )\n",
    "\n",
    "\n",
    "        # district - label\n",
    "        te_district = df['district'].value_counts()\n",
    "        #te_district = df.groupby( 'district' )['price'].mean()\n",
    "        df['district'] = df['district'].map( te_district ).astype( 'float64' )\n",
    "        pickle.dump( te_district, open( r'C:\\Users\\oscar\\Documents\\repos\\api_houses_Lisbon\\encodings\\te_district.pkl', 'wb' ) )  \n",
    "        # district\n",
    "    #     freq_encoding_district = df['district'].value_counts(normalize=True)\n",
    "    #     df['district'] = df['district'].map( freq_encoding_district )\n",
    "\n",
    "\n",
    "        # Show address\n",
    "        encoding = {True: 1 , False: 0}\n",
    "        df['show_address'] = df['show_address'].apply( lambda x : 1 if x == True else 0 )\n",
    "\n",
    "        # description\n",
    "        df['description'] = df['description'].apply( lambda x : len(x) )\n",
    "\n",
    "        # has_video\n",
    "        encoding = {True: 1 , False: 0}\n",
    "        df['has_video'] = df['has_video'].map( encoding )\n",
    "\n",
    "        # status\n",
    "        te_status = {'good' : 1, 'newdevelopment' : 2 , 'renew' : 3}\n",
    "        #te_status = df.groupby( 'status' )['price'].mean()\n",
    "        df['status'] = df['status'].map( te_status ).astype( 'float64' )\n",
    "        pickle.dump( te_status, open( r'C:\\Users\\oscar\\Documents\\repos\\api_houses_Lisbon\\encodings\\te_status.pkl', 'wb' ) )  \n",
    "\n",
    "        # label encoder status\n",
    "        #status_encoder = LabelEncoder()\n",
    "        #df['status'] = status_encoder.fit_transform( df['status'] )\n",
    "\n",
    "        # new_development\n",
    "        encoding = {True: 1 , False: 0}\n",
    "        df['new_development'] = df['new_development'].map( encoding )\n",
    "\n",
    "        # detailed type - label\n",
    "        le_detailed_type = LabelEncoder()\n",
    "\n",
    "        df['detailed_type'] = df['detailed_type'].apply(lambda x: ast.literal_eval(x) )\n",
    "        df['detailed_type'] = df['detailed_type'].apply(lambda x: x['typology'] )\n",
    "        df['detailed_type'] = le_detailed_type.fit_transform( df['detailed_type'] )\n",
    "        pickle.dump( le_detailed_type, open( r'C:\\Users\\oscar\\Documents\\repos\\api_houses_Lisbon\\encodings\\le_detailed_type.pkl', 'wb' ) ) \n",
    "\n",
    "        # suggested text\n",
    "        df['suggested_texts'] = df['suggested_texts'].apply( lambda x : ast.literal_eval(x) )\n",
    "        df['suggested_texts'] = df['suggested_texts'].apply( lambda x : x['title'] )\n",
    "        df['suggested_texts'] = df['suggested_texts'].apply( lambda x : len(x) )\n",
    "\n",
    "        # hasplan\n",
    "        encoding = {True: 1 , False: 0}\n",
    "        df['has_plan'] = df['has_plan'].map( encoding )\n",
    "\n",
    "        # has3_d_tour\n",
    "        encoding = {True: 1 , False: 0}\n",
    "        df['has3_d_tour'] = df['has3_d_tour'].map( encoding )\n",
    "\n",
    "        # has360\n",
    "        encoding = {True: 1 , False: 0}\n",
    "        df['has360'] = df['has360'].map( encoding )\n",
    "\n",
    "        # has_staging\n",
    "        df['has_staging'] = df['has_staging'].apply( lambda x: 1 if x   else 0   )\n",
    "\n",
    "        # top_new_development\n",
    "        df['top_new_development'] = df['top_new_development'].apply( lambda x: 1 if x  else 0 )\n",
    "\n",
    "        #parking_space\n",
    "        encoding = {True: 1 , False: 0}\n",
    "        df['parking_space'] = df['parking_space'].apply(lambda x: ast.literal_eval(x) if x != 0 else x ) \n",
    "        df['parking_space'] = df['parking_space'].apply(lambda x: x['hasParkingSpace'] if x != 0 else x ) \n",
    "        df['parking_space'] = df['parking_space'].map( encoding )\n",
    "\n",
    "        df = df.fillna(0)    \n",
    "\n",
    "        return df\n",
    "\n",
    "\n",
    "    def predicoes(self, df , model ):\n",
    "        \n",
    "        # drop price\n",
    "        X = df.drop( 'price', axis = 1 )\n",
    "        \n",
    "        y_hat_final = model.predict( X )\n",
    "        \n",
    "        df['pred'] = y_hat_final\n",
    "        \n",
    "        return df\n",
    "        \n"
   ]
  },
  {
   "cell_type": "code",
   "execution_count": 166,
   "id": "dc0a8b4d",
   "metadata": {
    "ExecuteTime": {
     "end_time": "2024-02-29T23:20:12.063834Z",
     "start_time": "2024-02-29T23:20:12.057002Z"
    }
   },
   "outputs": [],
   "source": [
    "a = df3.loc[  df3['address'].isin( ['Moscavide e Portela'] ), : ].head()[cols]\n"
   ]
  },
  {
   "cell_type": "code",
   "execution_count": 167,
   "id": "27b97683",
   "metadata": {
    "ExecuteTime": {
     "end_time": "2024-02-29T23:20:14.995635Z",
     "start_time": "2024-02-29T23:20:14.985407Z"
    }
   },
   "outputs": [
    {
     "data": {
      "text/html": [
       "<div>\n",
       "<style scoped>\n",
       "    .dataframe tbody tr th:only-of-type {\n",
       "        vertical-align: middle;\n",
       "    }\n",
       "\n",
       "    .dataframe tbody tr th {\n",
       "        vertical-align: top;\n",
       "    }\n",
       "\n",
       "    .dataframe thead th {\n",
       "        text-align: right;\n",
       "    }\n",
       "</style>\n",
       "<table border=\"1\" class=\"dataframe\">\n",
       "  <thead>\n",
       "    <tr style=\"text-align: right;\">\n",
       "      <th></th>\n",
       "      <th>size</th>\n",
       "      <th>bathrooms</th>\n",
       "      <th>address</th>\n",
       "      <th>municipality</th>\n",
       "      <th>latitude</th>\n",
       "      <th>longitude</th>\n",
       "      <th>distance</th>\n",
       "      <th>description</th>\n",
       "      <th>municipality_mean_price</th>\n",
       "      <th>district_mean_price</th>\n",
       "    </tr>\n",
       "  </thead>\n",
       "  <tbody>\n",
       "    <tr>\n",
       "      <th>3</th>\n",
       "      <td>57.00</td>\n",
       "      <td>1.00</td>\n",
       "      <td>Moscavide e Portela</td>\n",
       "      <td>Moscavide e Portela</td>\n",
       "      <td>38.78</td>\n",
       "      <td>-9.10</td>\n",
       "      <td>6,799.00</td>\n",
       "      <td>A MY DOOR - Imobiliária, Lda. , apresenta-lhe ...</td>\n",
       "      <td>1,593.03</td>\n",
       "      <td>1,500.00</td>\n",
       "    </tr>\n",
       "    <tr>\n",
       "      <th>277</th>\n",
       "      <td>151.00</td>\n",
       "      <td>2.00</td>\n",
       "      <td>Moscavide e Portela</td>\n",
       "      <td>Moscavide e Portela</td>\n",
       "      <td>38.78</td>\n",
       "      <td>-9.11</td>\n",
       "      <td>7,148.00</td>\n",
       "      <td>Apartamento em excelente estado, com Cozinha e...</td>\n",
       "      <td>1,593.03</td>\n",
       "      <td>1,500.00</td>\n",
       "    </tr>\n",
       "    <tr>\n",
       "      <th>345</th>\n",
       "      <td>151.00</td>\n",
       "      <td>3.00</td>\n",
       "      <td>Moscavide e Portela</td>\n",
       "      <td>Moscavide e Portela</td>\n",
       "      <td>38.78</td>\n",
       "      <td>-9.12</td>\n",
       "      <td>6,663.00</td>\n",
       "      <td>Localizado na Portela, no novo empreendimento ...</td>\n",
       "      <td>1,593.03</td>\n",
       "      <td>1,700.00</td>\n",
       "    </tr>\n",
       "    <tr>\n",
       "      <th>392</th>\n",
       "      <td>123.00</td>\n",
       "      <td>2.00</td>\n",
       "      <td>Moscavide e Portela</td>\n",
       "      <td>Moscavide e Portela</td>\n",
       "      <td>38.78</td>\n",
       "      <td>-9.11</td>\n",
       "      <td>7,023.00</td>\n",
       "      <td>Para quem queira usufruir de uma casa arejada,...</td>\n",
       "      <td>1,593.03</td>\n",
       "      <td>1,500.00</td>\n",
       "    </tr>\n",
       "    <tr>\n",
       "      <th>589</th>\n",
       "      <td>57.00</td>\n",
       "      <td>1.00</td>\n",
       "      <td>Moscavide e Portela</td>\n",
       "      <td>Moscavide e Portela</td>\n",
       "      <td>38.78</td>\n",
       "      <td>-9.10</td>\n",
       "      <td>6,708.00</td>\n",
       "      <td>A MY DOOR - Imobiliária, Lda. , apresenta-lhe ...</td>\n",
       "      <td>1,593.03</td>\n",
       "      <td>1,500.00</td>\n",
       "    </tr>\n",
       "  </tbody>\n",
       "</table>\n",
       "</div>"
      ],
      "text/plain": [
       "      size  bathrooms              address         municipality  latitude  \\\n",
       "3    57.00       1.00  Moscavide e Portela  Moscavide e Portela     38.78   \n",
       "277 151.00       2.00  Moscavide e Portela  Moscavide e Portela     38.78   \n",
       "345 151.00       3.00  Moscavide e Portela  Moscavide e Portela     38.78   \n",
       "392 123.00       2.00  Moscavide e Portela  Moscavide e Portela     38.78   \n",
       "589  57.00       1.00  Moscavide e Portela  Moscavide e Portela     38.78   \n",
       "\n",
       "     longitude  distance                                        description  \\\n",
       "3        -9.10  6,799.00  A MY DOOR - Imobiliária, Lda. , apresenta-lhe ...   \n",
       "277      -9.11  7,148.00  Apartamento em excelente estado, com Cozinha e...   \n",
       "345      -9.12  6,663.00  Localizado na Portela, no novo empreendimento ...   \n",
       "392      -9.11  7,023.00  Para quem queira usufruir de uma casa arejada,...   \n",
       "589      -9.10  6,708.00  A MY DOOR - Imobiliária, Lda. , apresenta-lhe ...   \n",
       "\n",
       "     municipality_mean_price  district_mean_price  \n",
       "3                   1,593.03             1,500.00  \n",
       "277                 1,593.03             1,500.00  \n",
       "345                 1,593.03             1,700.00  \n",
       "392                 1,593.03             1,500.00  \n",
       "589                 1,593.03             1,500.00  "
      ]
     },
     "execution_count": 167,
     "metadata": {},
     "output_type": "execute_result"
    }
   ],
   "source": [
    "a"
   ]
  },
  {
   "cell_type": "code",
   "execution_count": 168,
   "id": "7901943f",
   "metadata": {
    "ExecuteTime": {
     "end_time": "2024-02-29T23:20:18.539894Z",
     "start_time": "2024-02-29T23:20:18.072488Z"
    }
   },
   "outputs": [
    {
     "ename": "KeyError",
     "evalue": "'property_code'",
     "output_type": "error",
     "traceback": [
      "\u001b[1;31m---------------------------------------------------------------------------\u001b[0m",
      "\u001b[1;31mKeyError\u001b[0m                                  Traceback (most recent call last)",
      "File \u001b[1;32m~\\anaconda3\\envs\\prices_houses_idealista\\Lib\\site-packages\\pandas\\core\\indexes\\base.py:3802\u001b[0m, in \u001b[0;36mIndex.get_loc\u001b[1;34m(self, key, method, tolerance)\u001b[0m\n\u001b[0;32m   3801\u001b[0m \u001b[38;5;28;01mtry\u001b[39;00m:\n\u001b[1;32m-> 3802\u001b[0m     \u001b[38;5;28;01mreturn\u001b[39;00m \u001b[38;5;28;43mself\u001b[39;49m\u001b[38;5;241;43m.\u001b[39;49m\u001b[43m_engine\u001b[49m\u001b[38;5;241;43m.\u001b[39;49m\u001b[43mget_loc\u001b[49m\u001b[43m(\u001b[49m\u001b[43mcasted_key\u001b[49m\u001b[43m)\u001b[49m\n\u001b[0;32m   3803\u001b[0m \u001b[38;5;28;01mexcept\u001b[39;00m \u001b[38;5;167;01mKeyError\u001b[39;00m \u001b[38;5;28;01mas\u001b[39;00m err:\n",
      "File \u001b[1;32m~\\anaconda3\\envs\\prices_houses_idealista\\Lib\\site-packages\\pandas\\_libs\\index.pyx:138\u001b[0m, in \u001b[0;36mpandas._libs.index.IndexEngine.get_loc\u001b[1;34m()\u001b[0m\n",
      "File \u001b[1;32m~\\anaconda3\\envs\\prices_houses_idealista\\Lib\\site-packages\\pandas\\_libs\\index.pyx:165\u001b[0m, in \u001b[0;36mpandas._libs.index.IndexEngine.get_loc\u001b[1;34m()\u001b[0m\n",
      "File \u001b[1;32mpandas\\_libs\\hashtable_class_helper.pxi:5745\u001b[0m, in \u001b[0;36mpandas._libs.hashtable.PyObjectHashTable.get_item\u001b[1;34m()\u001b[0m\n",
      "File \u001b[1;32mpandas\\_libs\\hashtable_class_helper.pxi:5753\u001b[0m, in \u001b[0;36mpandas._libs.hashtable.PyObjectHashTable.get_item\u001b[1;34m()\u001b[0m\n",
      "\u001b[1;31mKeyError\u001b[0m: 'property_code'",
      "\nThe above exception was the direct cause of the following exception:\n",
      "\u001b[1;31mKeyError\u001b[0m                                  Traceback (most recent call last)",
      "Cell \u001b[1;32mIn[168], line 1\u001b[0m\n\u001b[1;32m----> 1\u001b[0m b \u001b[38;5;241m=\u001b[39m \u001b[43mtest_prediction\u001b[49m\u001b[43m(\u001b[49m\u001b[43m \u001b[49m\u001b[43ma\u001b[49m\u001b[43m,\u001b[49m\u001b[43m \u001b[49m\u001b[43mbst\u001b[49m\u001b[43m \u001b[49m\u001b[43m)\u001b[49m\n",
      "Cell \u001b[1;32mIn[93], line 6\u001b[0m, in \u001b[0;36mtest_prediction\u001b[1;34m(df, model)\u001b[0m\n\u001b[0;32m      3\u001b[0m idealista_1 \u001b[38;5;241m=\u001b[39m Idealista()\n\u001b[0;32m      5\u001b[0m \u001b[38;5;66;03m# limpando os dados\u001b[39;00m\n\u001b[1;32m----> 6\u001b[0m df1_val \u001b[38;5;241m=\u001b[39m \u001b[43midealista_1\u001b[49m\u001b[38;5;241;43m.\u001b[39;49m\u001b[43mtransform_data\u001b[49m\u001b[43m(\u001b[49m\u001b[43m \u001b[49m\u001b[43mdf\u001b[49m\u001b[43m \u001b[49m\u001b[43m,\u001b[49m\u001b[43m \u001b[49m\u001b[43mcolunas_irrelevantes\u001b[49m\u001b[43m \u001b[49m\u001b[43m)\u001b[49m\n\u001b[0;32m      8\u001b[0m \u001b[38;5;66;03m# feature engineering\u001b[39;00m\n\u001b[0;32m      9\u001b[0m df2_val \u001b[38;5;241m=\u001b[39m idealista_1\u001b[38;5;241m.\u001b[39mfeature_engineering( df1_val , transform_data \u001b[38;5;241m=\u001b[39m \u001b[38;5;28;01mTrue\u001b[39;00m, merge_datasets \u001b[38;5;241m=\u001b[39m \u001b[38;5;28;01mTrue\u001b[39;00m  )\n",
      "Cell \u001b[1;32mIn[87], line 29\u001b[0m, in \u001b[0;36mIdealista.transform_data\u001b[1;34m(self, df, colunas_irrelevantes)\u001b[0m\n\u001b[0;32m     26\u001b[0m df\u001b[38;5;241m.\u001b[39mcolumns \u001b[38;5;241m=\u001b[39m cols_new\n\u001b[0;32m     28\u001b[0m \u001b[38;5;66;03m# removo as linhas em branco que possam ter vindo na extração\u001b[39;00m\n\u001b[1;32m---> 29\u001b[0m df \u001b[38;5;241m=\u001b[39m df\u001b[38;5;241m.\u001b[39mloc[\u001b[38;5;241m~\u001b[39m \u001b[43mdf\u001b[49m\u001b[43m[\u001b[49m\u001b[38;5;124;43m'\u001b[39;49m\u001b[38;5;124;43mproperty_code\u001b[39;49m\u001b[38;5;124;43m'\u001b[39;49m\u001b[43m]\u001b[49m\u001b[38;5;241m.\u001b[39misna() , : ]\n\u001b[0;32m     31\u001b[0m \u001b[38;5;66;03m# removo duplicadas\u001b[39;00m\n\u001b[0;32m     32\u001b[0m df \u001b[38;5;241m=\u001b[39m df\u001b[38;5;241m.\u001b[39mdrop_duplicates( subset\u001b[38;5;241m=\u001b[39m [\u001b[38;5;124m'\u001b[39m\u001b[38;5;124mproperty_code\u001b[39m\u001b[38;5;124m'\u001b[39m], keep \u001b[38;5;241m=\u001b[39m \u001b[38;5;124m'\u001b[39m\u001b[38;5;124mlast\u001b[39m\u001b[38;5;124m'\u001b[39m )\n",
      "File \u001b[1;32m~\\anaconda3\\envs\\prices_houses_idealista\\Lib\\site-packages\\pandas\\core\\frame.py:3807\u001b[0m, in \u001b[0;36mDataFrame.__getitem__\u001b[1;34m(self, key)\u001b[0m\n\u001b[0;32m   3805\u001b[0m \u001b[38;5;28;01mif\u001b[39;00m \u001b[38;5;28mself\u001b[39m\u001b[38;5;241m.\u001b[39mcolumns\u001b[38;5;241m.\u001b[39mnlevels \u001b[38;5;241m>\u001b[39m \u001b[38;5;241m1\u001b[39m:\n\u001b[0;32m   3806\u001b[0m     \u001b[38;5;28;01mreturn\u001b[39;00m \u001b[38;5;28mself\u001b[39m\u001b[38;5;241m.\u001b[39m_getitem_multilevel(key)\n\u001b[1;32m-> 3807\u001b[0m indexer \u001b[38;5;241m=\u001b[39m \u001b[38;5;28;43mself\u001b[39;49m\u001b[38;5;241;43m.\u001b[39;49m\u001b[43mcolumns\u001b[49m\u001b[38;5;241;43m.\u001b[39;49m\u001b[43mget_loc\u001b[49m\u001b[43m(\u001b[49m\u001b[43mkey\u001b[49m\u001b[43m)\u001b[49m\n\u001b[0;32m   3808\u001b[0m \u001b[38;5;28;01mif\u001b[39;00m is_integer(indexer):\n\u001b[0;32m   3809\u001b[0m     indexer \u001b[38;5;241m=\u001b[39m [indexer]\n",
      "File \u001b[1;32m~\\anaconda3\\envs\\prices_houses_idealista\\Lib\\site-packages\\pandas\\core\\indexes\\base.py:3804\u001b[0m, in \u001b[0;36mIndex.get_loc\u001b[1;34m(self, key, method, tolerance)\u001b[0m\n\u001b[0;32m   3802\u001b[0m     \u001b[38;5;28;01mreturn\u001b[39;00m \u001b[38;5;28mself\u001b[39m\u001b[38;5;241m.\u001b[39m_engine\u001b[38;5;241m.\u001b[39mget_loc(casted_key)\n\u001b[0;32m   3803\u001b[0m \u001b[38;5;28;01mexcept\u001b[39;00m \u001b[38;5;167;01mKeyError\u001b[39;00m \u001b[38;5;28;01mas\u001b[39;00m err:\n\u001b[1;32m-> 3804\u001b[0m     \u001b[38;5;28;01mraise\u001b[39;00m \u001b[38;5;167;01mKeyError\u001b[39;00m(key) \u001b[38;5;28;01mfrom\u001b[39;00m \u001b[38;5;21;01merr\u001b[39;00m\n\u001b[0;32m   3805\u001b[0m \u001b[38;5;28;01mexcept\u001b[39;00m \u001b[38;5;167;01mTypeError\u001b[39;00m:\n\u001b[0;32m   3806\u001b[0m     \u001b[38;5;66;03m# If we have a listlike key, _check_indexing_error will raise\u001b[39;00m\n\u001b[0;32m   3807\u001b[0m     \u001b[38;5;66;03m#  InvalidIndexError. Otherwise we fall through and re-raise\u001b[39;00m\n\u001b[0;32m   3808\u001b[0m     \u001b[38;5;66;03m#  the TypeError.\u001b[39;00m\n\u001b[0;32m   3809\u001b[0m     \u001b[38;5;28mself\u001b[39m\u001b[38;5;241m.\u001b[39m_check_indexing_error(key)\n",
      "\u001b[1;31mKeyError\u001b[0m: 'property_code'"
     ]
    }
   ],
   "source": [
    "b = test_prediction( a, bst )\n"
   ]
  },
  {
   "cell_type": "code",
   "execution_count": null,
   "id": "7323df04",
   "metadata": {
    "ExecuteTime": {
     "end_time": "2024-02-29T23:18:29.029787Z",
     "start_time": "2024-02-29T23:18:29.029787Z"
    }
   },
   "outputs": [],
   "source": [
    "b"
   ]
  },
  {
   "cell_type": "code",
   "execution_count": null,
   "id": "40071fe1",
   "metadata": {
    "ExecuteTime": {
     "end_time": "2024-02-29T20:56:43.092777Z",
     "start_time": "2024-02-29T20:56:43.092777Z"
    }
   },
   "outputs": [],
   "source": [
    "df_raw.district.unique()"
   ]
  },
  {
   "cell_type": "markdown",
   "id": "549acf1e",
   "metadata": {
    "ExecuteTime": {
     "end_time": "2024-02-04T16:13:37.736510Z",
     "start_time": "2024-02-04T16:13:37.733647Z"
    }
   },
   "source": [
    "## 8.1.2 Feature Importances"
   ]
  },
  {
   "cell_type": "code",
   "execution_count": null,
   "id": "7ee14585",
   "metadata": {
    "ExecuteTime": {
     "end_time": "2024-02-29T20:56:43.093775Z",
     "start_time": "2024-02-29T20:56:43.093775Z"
    },
    "scrolled": true
   },
   "outputs": [],
   "source": [
    "# Obter importâncias das features\n",
    "importances = rf.feature_importances_\n",
    "\n",
    "# Converter as importâncias em um DataFrame para facilitar a visualização\n",
    "features_df = pd.DataFrame({\n",
    "    'Feature': X_train.columns,\n",
    "    'Importance': importances\n",
    "})\n",
    "\n",
    "# Ordenar as features pela importância\n",
    "features_df = features_df.sort_values(by='Importance', ascending=False).reset_index(drop=True)\n",
    "\n",
    "ax = sns.barplot(data = features_df, x = 'Feature', y = 'Importance')\n",
    "\n",
    "# Rotacionando os rótulos do eixo x\n",
    "ax.set_xticklabels(ax.get_xticklabels(), rotation=90);"
   ]
  },
  {
   "cell_type": "code",
   "execution_count": null,
   "id": "34bc5026",
   "metadata": {
    "ExecuteTime": {
     "end_time": "2024-02-29T20:56:43.095770Z",
     "start_time": "2024-02-29T20:56:43.095770Z"
    }
   },
   "outputs": [],
   "source": [
    "features_df\n"
   ]
  },
  {
   "cell_type": "markdown",
   "id": "23696c69",
   "metadata": {},
   "source": [
    "## 8.1.3 Test com Dados Inseridos Manualmente"
   ]
  },
  {
   "cell_type": "code",
   "execution_count": 80,
   "id": "42ecfa0f",
   "metadata": {
    "ExecuteTime": {
     "end_time": "2024-02-29T21:02:48.473276Z",
     "start_time": "2024-02-29T21:02:47.673801Z"
    }
   },
   "outputs": [
    {
     "ename": "KeyError",
     "evalue": "16640",
     "output_type": "error",
     "traceback": [
      "\u001b[1;31m---------------------------------------------------------------------------\u001b[0m",
      "\u001b[1;31mKeyError\u001b[0m                                  Traceback (most recent call last)",
      "File \u001b[1;32m~\\anaconda3\\envs\\prices_houses_idealista\\Lib\\site-packages\\pandas\\core\\indexes\\base.py:3802\u001b[0m, in \u001b[0;36mIndex.get_loc\u001b[1;34m(self, key, method, tolerance)\u001b[0m\n\u001b[0;32m   3801\u001b[0m \u001b[38;5;28;01mtry\u001b[39;00m:\n\u001b[1;32m-> 3802\u001b[0m     \u001b[38;5;28;01mreturn\u001b[39;00m \u001b[38;5;28;43mself\u001b[39;49m\u001b[38;5;241;43m.\u001b[39;49m\u001b[43m_engine\u001b[49m\u001b[38;5;241;43m.\u001b[39;49m\u001b[43mget_loc\u001b[49m\u001b[43m(\u001b[49m\u001b[43mcasted_key\u001b[49m\u001b[43m)\u001b[49m\n\u001b[0;32m   3803\u001b[0m \u001b[38;5;28;01mexcept\u001b[39;00m \u001b[38;5;167;01mKeyError\u001b[39;00m \u001b[38;5;28;01mas\u001b[39;00m err:\n",
      "File \u001b[1;32m~\\anaconda3\\envs\\prices_houses_idealista\\Lib\\site-packages\\pandas\\_libs\\index.pyx:138\u001b[0m, in \u001b[0;36mpandas._libs.index.IndexEngine.get_loc\u001b[1;34m()\u001b[0m\n",
      "File \u001b[1;32m~\\anaconda3\\envs\\prices_houses_idealista\\Lib\\site-packages\\pandas\\_libs\\index.pyx:165\u001b[0m, in \u001b[0;36mpandas._libs.index.IndexEngine.get_loc\u001b[1;34m()\u001b[0m\n",
      "File \u001b[1;32mpandas\\_libs\\hashtable_class_helper.pxi:2263\u001b[0m, in \u001b[0;36mpandas._libs.hashtable.Int64HashTable.get_item\u001b[1;34m()\u001b[0m\n",
      "File \u001b[1;32mpandas\\_libs\\hashtable_class_helper.pxi:2273\u001b[0m, in \u001b[0;36mpandas._libs.hashtable.Int64HashTable.get_item\u001b[1;34m()\u001b[0m\n",
      "\u001b[1;31mKeyError\u001b[0m: 16640",
      "\nThe above exception was the direct cause of the following exception:\n",
      "\u001b[1;31mKeyError\u001b[0m                                  Traceback (most recent call last)",
      "Cell \u001b[1;32mIn[80], line 2\u001b[0m\n\u001b[0;32m      1\u001b[0m \u001b[38;5;66;03m# vejo a estrutura de uma linha\u001b[39;00m\n\u001b[1;32m----> 2\u001b[0m \u001b[43mdf_teste\u001b[49m\u001b[38;5;241;43m.\u001b[39;49m\u001b[43mloc\u001b[49m\u001b[43m[\u001b[49m\u001b[43m \u001b[49m\u001b[38;5;241;43m16640\u001b[39;49m\u001b[43m \u001b[49m\u001b[43m]\u001b[49m\n",
      "File \u001b[1;32m~\\anaconda3\\envs\\prices_houses_idealista\\Lib\\site-packages\\pandas\\core\\indexing.py:1073\u001b[0m, in \u001b[0;36m_LocationIndexer.__getitem__\u001b[1;34m(self, key)\u001b[0m\n\u001b[0;32m   1070\u001b[0m axis \u001b[38;5;241m=\u001b[39m \u001b[38;5;28mself\u001b[39m\u001b[38;5;241m.\u001b[39maxis \u001b[38;5;129;01mor\u001b[39;00m \u001b[38;5;241m0\u001b[39m\n\u001b[0;32m   1072\u001b[0m maybe_callable \u001b[38;5;241m=\u001b[39m com\u001b[38;5;241m.\u001b[39mapply_if_callable(key, \u001b[38;5;28mself\u001b[39m\u001b[38;5;241m.\u001b[39mobj)\n\u001b[1;32m-> 1073\u001b[0m \u001b[38;5;28;01mreturn\u001b[39;00m \u001b[38;5;28;43mself\u001b[39;49m\u001b[38;5;241;43m.\u001b[39;49m\u001b[43m_getitem_axis\u001b[49m\u001b[43m(\u001b[49m\u001b[43mmaybe_callable\u001b[49m\u001b[43m,\u001b[49m\u001b[43m \u001b[49m\u001b[43maxis\u001b[49m\u001b[38;5;241;43m=\u001b[39;49m\u001b[43maxis\u001b[49m\u001b[43m)\u001b[49m\n",
      "File \u001b[1;32m~\\anaconda3\\envs\\prices_houses_idealista\\Lib\\site-packages\\pandas\\core\\indexing.py:1312\u001b[0m, in \u001b[0;36m_LocIndexer._getitem_axis\u001b[1;34m(self, key, axis)\u001b[0m\n\u001b[0;32m   1310\u001b[0m \u001b[38;5;66;03m# fall thru to straight lookup\u001b[39;00m\n\u001b[0;32m   1311\u001b[0m \u001b[38;5;28mself\u001b[39m\u001b[38;5;241m.\u001b[39m_validate_key(key, axis)\n\u001b[1;32m-> 1312\u001b[0m \u001b[38;5;28;01mreturn\u001b[39;00m \u001b[38;5;28;43mself\u001b[39;49m\u001b[38;5;241;43m.\u001b[39;49m\u001b[43m_get_label\u001b[49m\u001b[43m(\u001b[49m\u001b[43mkey\u001b[49m\u001b[43m,\u001b[49m\u001b[43m \u001b[49m\u001b[43maxis\u001b[49m\u001b[38;5;241;43m=\u001b[39;49m\u001b[43maxis\u001b[49m\u001b[43m)\u001b[49m\n",
      "File \u001b[1;32m~\\anaconda3\\envs\\prices_houses_idealista\\Lib\\site-packages\\pandas\\core\\indexing.py:1260\u001b[0m, in \u001b[0;36m_LocIndexer._get_label\u001b[1;34m(self, label, axis)\u001b[0m\n\u001b[0;32m   1258\u001b[0m \u001b[38;5;28;01mdef\u001b[39;00m \u001b[38;5;21m_get_label\u001b[39m(\u001b[38;5;28mself\u001b[39m, label, axis: \u001b[38;5;28mint\u001b[39m):\n\u001b[0;32m   1259\u001b[0m     \u001b[38;5;66;03m# GH#5567 this will fail if the label is not present in the axis.\u001b[39;00m\n\u001b[1;32m-> 1260\u001b[0m     \u001b[38;5;28;01mreturn\u001b[39;00m \u001b[38;5;28;43mself\u001b[39;49m\u001b[38;5;241;43m.\u001b[39;49m\u001b[43mobj\u001b[49m\u001b[38;5;241;43m.\u001b[39;49m\u001b[43mxs\u001b[49m\u001b[43m(\u001b[49m\u001b[43mlabel\u001b[49m\u001b[43m,\u001b[49m\u001b[43m \u001b[49m\u001b[43maxis\u001b[49m\u001b[38;5;241;43m=\u001b[39;49m\u001b[43maxis\u001b[49m\u001b[43m)\u001b[49m\n",
      "File \u001b[1;32m~\\anaconda3\\envs\\prices_houses_idealista\\Lib\\site-packages\\pandas\\core\\generic.py:4056\u001b[0m, in \u001b[0;36mNDFrame.xs\u001b[1;34m(self, key, axis, level, drop_level)\u001b[0m\n\u001b[0;32m   4054\u001b[0m             new_index \u001b[38;5;241m=\u001b[39m index[loc]\n\u001b[0;32m   4055\u001b[0m \u001b[38;5;28;01melse\u001b[39;00m:\n\u001b[1;32m-> 4056\u001b[0m     loc \u001b[38;5;241m=\u001b[39m \u001b[43mindex\u001b[49m\u001b[38;5;241;43m.\u001b[39;49m\u001b[43mget_loc\u001b[49m\u001b[43m(\u001b[49m\u001b[43mkey\u001b[49m\u001b[43m)\u001b[49m\n\u001b[0;32m   4058\u001b[0m     \u001b[38;5;28;01mif\u001b[39;00m \u001b[38;5;28misinstance\u001b[39m(loc, np\u001b[38;5;241m.\u001b[39mndarray):\n\u001b[0;32m   4059\u001b[0m         \u001b[38;5;28;01mif\u001b[39;00m loc\u001b[38;5;241m.\u001b[39mdtype \u001b[38;5;241m==\u001b[39m np\u001b[38;5;241m.\u001b[39mbool_:\n",
      "File \u001b[1;32m~\\anaconda3\\envs\\prices_houses_idealista\\Lib\\site-packages\\pandas\\core\\indexes\\base.py:3804\u001b[0m, in \u001b[0;36mIndex.get_loc\u001b[1;34m(self, key, method, tolerance)\u001b[0m\n\u001b[0;32m   3802\u001b[0m     \u001b[38;5;28;01mreturn\u001b[39;00m \u001b[38;5;28mself\u001b[39m\u001b[38;5;241m.\u001b[39m_engine\u001b[38;5;241m.\u001b[39mget_loc(casted_key)\n\u001b[0;32m   3803\u001b[0m \u001b[38;5;28;01mexcept\u001b[39;00m \u001b[38;5;167;01mKeyError\u001b[39;00m \u001b[38;5;28;01mas\u001b[39;00m err:\n\u001b[1;32m-> 3804\u001b[0m     \u001b[38;5;28;01mraise\u001b[39;00m \u001b[38;5;167;01mKeyError\u001b[39;00m(key) \u001b[38;5;28;01mfrom\u001b[39;00m \u001b[38;5;21;01merr\u001b[39;00m\n\u001b[0;32m   3805\u001b[0m \u001b[38;5;28;01mexcept\u001b[39;00m \u001b[38;5;167;01mTypeError\u001b[39;00m:\n\u001b[0;32m   3806\u001b[0m     \u001b[38;5;66;03m# If we have a listlike key, _check_indexing_error will raise\u001b[39;00m\n\u001b[0;32m   3807\u001b[0m     \u001b[38;5;66;03m#  InvalidIndexError. Otherwise we fall through and re-raise\u001b[39;00m\n\u001b[0;32m   3808\u001b[0m     \u001b[38;5;66;03m#  the TypeError.\u001b[39;00m\n\u001b[0;32m   3809\u001b[0m     \u001b[38;5;28mself\u001b[39m\u001b[38;5;241m.\u001b[39m_check_indexing_error(key)\n",
      "\u001b[1;31mKeyError\u001b[0m: 16640"
     ]
    }
   ],
   "source": [
    "# vejo a estrutura de uma linha\n",
    "# df_teste.loc[ 16640 ]"
   ]
  },
  {
   "cell_type": "code",
   "execution_count": 169,
   "id": "d7a7b822",
   "metadata": {
    "ExecuteTime": {
     "end_time": "2024-02-29T23:21:04.818872Z",
     "start_time": "2024-02-29T23:21:04.807656Z"
    }
   },
   "outputs": [],
   "source": [
    "# teste com um dados de um imóvel conhecido\n",
    "test = {\n",
    "'property_code': 0,\n",
    "'thumbnail': 0,\n",
    "'num_photos': 5,\n",
    "'floor': 1,\n",
    "'price' : 0,\n",
    "'property_type': 'flat',\n",
    "'operation': 'rent',\n",
    "'size': 30,\n",
    "'exterior': True,\n",
    "'rooms': 1 ,\n",
    "'bathrooms':1,\n",
    "'address' : 'Moscavide e Portela',\n",
    "'province': 'Lisboa',\n",
    "'municipality': 'Moscavide e Portela',\n",
    "'district' : 'Moscavide e Portela',\n",
    "'country': 'PT',\n",
    "'latitude' : 38.775101412019715,\n",
    "'longitude': -9.104655113802375,\n",
    "'show_address': True,\n",
    "'url': 'www.imoveisportugal.com',\n",
    "'distance': 10000,\n",
    "'description' : 'Apartamento localizado na rua 1º de Maio. T1 remodelado, em frente ao metro, próximo a supermercados e ao parque das nações. 3 cauções adiantadas ou 2 fiadores',\n",
    "'has_video' : False,\n",
    "'status' : 'good',\n",
    "'new_development' : False,\n",
    "'has_lift': 1,\n",
    "'price_by_area' : 0,\n",
    "'detailed_type': str({'typology': 'flat'}),\n",
    "'suggested_texts' : str({'subtitle': 'Moscavide e Portela, Loures', 'title': 'Apartamento'}),\n",
    "'has_plan' : True,\n",
    "'has3_d_tour': False,\n",
    "'has360' : False,\n",
    "'has_staging' : False,\n",
    "'top_new_development' : False,\n",
    "'super_top_highlight' : False,\n",
    "'parking_space' : '0',\n",
    "'external_reference':0,\n",
    "'labels' : 0,                                                                 \n",
    "'neighborhood': 0,                                                         \n",
    "'pagina' : 0,                                                                  \n",
    "'datetime_scrapy':  pd.to_datetime('2024-02-05 10:18:37'),                                         \n",
    "'new_development_finished': 0,                                                  \n",
    "'highlight' : 0 \n",
    "\n",
    "}\n",
    "\n",
    "df_pred_test = pd.DataFrame( [test] )\n"
   ]
  },
  {
   "cell_type": "code",
   "execution_count": 174,
   "id": "27883208",
   "metadata": {
    "ExecuteTime": {
     "end_time": "2024-02-29T23:22:36.578262Z",
     "start_time": "2024-02-29T23:22:36.561176Z"
    }
   },
   "outputs": [
    {
     "data": {
      "text/html": [
       "<div>\n",
       "<style scoped>\n",
       "    .dataframe tbody tr th:only-of-type {\n",
       "        vertical-align: middle;\n",
       "    }\n",
       "\n",
       "    .dataframe tbody tr th {\n",
       "        vertical-align: top;\n",
       "    }\n",
       "\n",
       "    .dataframe thead th {\n",
       "        text-align: right;\n",
       "    }\n",
       "</style>\n",
       "<table border=\"1\" class=\"dataframe\">\n",
       "  <thead>\n",
       "    <tr style=\"text-align: right;\">\n",
       "      <th></th>\n",
       "      <th>property_code</th>\n",
       "      <th>thumbnail</th>\n",
       "      <th>num_photos</th>\n",
       "      <th>floor</th>\n",
       "      <th>price</th>\n",
       "      <th>property_type</th>\n",
       "      <th>operation</th>\n",
       "      <th>size</th>\n",
       "      <th>exterior</th>\n",
       "      <th>rooms</th>\n",
       "      <th>...</th>\n",
       "      <th>top_new_development</th>\n",
       "      <th>super_top_highlight</th>\n",
       "      <th>parking_space</th>\n",
       "      <th>external_reference</th>\n",
       "      <th>labels</th>\n",
       "      <th>neighborhood</th>\n",
       "      <th>pagina</th>\n",
       "      <th>datetime_scrapy</th>\n",
       "      <th>new_development_finished</th>\n",
       "      <th>highlight</th>\n",
       "    </tr>\n",
       "  </thead>\n",
       "  <tbody>\n",
       "    <tr>\n",
       "      <th>0</th>\n",
       "      <td>0</td>\n",
       "      <td>0</td>\n",
       "      <td>5</td>\n",
       "      <td>1</td>\n",
       "      <td>0</td>\n",
       "      <td>flat</td>\n",
       "      <td>rent</td>\n",
       "      <td>30</td>\n",
       "      <td>True</td>\n",
       "      <td>1</td>\n",
       "      <td>...</td>\n",
       "      <td>False</td>\n",
       "      <td>False</td>\n",
       "      <td>0</td>\n",
       "      <td>0</td>\n",
       "      <td>0</td>\n",
       "      <td>0</td>\n",
       "      <td>0</td>\n",
       "      <td>2024-02-05 10:18:37</td>\n",
       "      <td>0</td>\n",
       "      <td>0</td>\n",
       "    </tr>\n",
       "  </tbody>\n",
       "</table>\n",
       "<p>1 rows × 43 columns</p>\n",
       "</div>"
      ],
      "text/plain": [
       "   property_code  thumbnail  num_photos  floor  price property_type operation  \\\n",
       "0              0          0           5      1      0          flat      rent   \n",
       "\n",
       "   size  exterior  rooms  ...  top_new_development super_top_highlight  \\\n",
       "0    30      True      1  ...                False               False   \n",
       "\n",
       "  parking_space external_reference labels neighborhood  pagina  \\\n",
       "0             0                  0      0            0       0   \n",
       "\n",
       "      datetime_scrapy  new_development_finished highlight  \n",
       "0 2024-02-05 10:18:37                         0         0  \n",
       "\n",
       "[1 rows x 43 columns]"
      ]
     },
     "execution_count": 174,
     "metadata": {},
     "output_type": "execute_result"
    }
   ],
   "source": [
    "df_pred_test"
   ]
  },
  {
   "cell_type": "code",
   "execution_count": 181,
   "id": "f944a374",
   "metadata": {
    "ExecuteTime": {
     "end_time": "2024-02-29T23:23:53.943630Z",
     "start_time": "2024-02-29T23:23:53.936420Z"
    }
   },
   "outputs": [],
   "source": [
    "def test_prediction( df , model ):\n",
    "    # instancia a classe Idealista\n",
    "    idealista_1 = Idealista()\n",
    "\n",
    "    # limpando os dados\n",
    "    df1_val = idealista_1.transform_data( df , colunas_irrelevantes )\n",
    "\n",
    "    # feature engineering\n",
    "    df2_val = idealista_1.feature_engineering( df1_val , transform_data = True, merge_datasets = True  )\n",
    "\n",
    "    # filtrar variáveis\n",
    "    df3_val = idealista_1.filter_variables( df2_val )\n",
    "\n",
    "    # reomver outliers\n",
    "    df4_val = idealista_1.remove_outliers( df3_val )\n",
    "\n",
    "    # reescalar dados\n",
    "    df5_val = idealista_1.rescaling_data( df4_val, rescale = True )\n",
    "\n",
    "    # encodar dados\n",
    "    df6_val = idealista_1.encoding( df5_val )\n",
    "    \n",
    "    df6_val =df6_val[cols,'price']\n",
    "\n",
    "    df6_val = df6_val.fillna( 0 )\n",
    "    \n",
    "    # predicoes\n",
    "    df7_val = idealista_1.predicoes( df6_val ,model )\n",
    "    \n",
    "    return df6_val"
   ]
  },
  {
   "cell_type": "code",
   "execution_count": 182,
   "id": "e120f5ec",
   "metadata": {
    "ExecuteTime": {
     "end_time": "2024-02-29T23:23:57.268550Z",
     "start_time": "2024-02-29T23:23:56.753458Z"
    }
   },
   "outputs": [
    {
     "name": "stdout",
     "output_type": "stream",
     "text": [
      "datasets combinados e dados transformados\n",
      "Variavies não filtradas\n",
      "Outliers mantidos\n",
      "Rescaled\n"
     ]
    },
    {
     "name": "stderr",
     "output_type": "stream",
     "text": [
      "C:\\Users\\oscar\\AppData\\Local\\Temp\\ipykernel_6780\\2764531685.py:3: DeprecationWarning: In a future version, `df.iloc[:, i] = newvals` will attempt to set the values inplace instead of always setting a new array. To retain the old behavior, use either `df[df.columns[i]] = newvals` or, if columns are non-unique, `df.isetitem(i, newvals)`\n",
      "  df.loc[:,'thumbnail'] = np.where( df['thumbnail'].isna(), 0 , 1 )\n"
     ]
    },
    {
     "ename": "InvalidIndexError",
     "evalue": "(['size', 'bathrooms', 'address', 'municipality', 'latitude', 'longitude', 'distance', 'description', 'municipality_mean_price', 'district_mean_price'], 'price')",
     "output_type": "error",
     "traceback": [
      "\u001b[1;31m---------------------------------------------------------------------------\u001b[0m",
      "\u001b[1;31mTypeError\u001b[0m                                 Traceback (most recent call last)",
      "File \u001b[1;32m~\\anaconda3\\envs\\prices_houses_idealista\\Lib\\site-packages\\pandas\\core\\indexes\\base.py:3802\u001b[0m, in \u001b[0;36mIndex.get_loc\u001b[1;34m(self, key, method, tolerance)\u001b[0m\n\u001b[0;32m   3801\u001b[0m \u001b[38;5;28;01mtry\u001b[39;00m:\n\u001b[1;32m-> 3802\u001b[0m     \u001b[38;5;28;01mreturn\u001b[39;00m \u001b[38;5;28;43mself\u001b[39;49m\u001b[38;5;241;43m.\u001b[39;49m\u001b[43m_engine\u001b[49m\u001b[38;5;241;43m.\u001b[39;49m\u001b[43mget_loc\u001b[49m\u001b[43m(\u001b[49m\u001b[43mcasted_key\u001b[49m\u001b[43m)\u001b[49m\n\u001b[0;32m   3803\u001b[0m \u001b[38;5;28;01mexcept\u001b[39;00m \u001b[38;5;167;01mKeyError\u001b[39;00m \u001b[38;5;28;01mas\u001b[39;00m err:\n",
      "File \u001b[1;32m~\\anaconda3\\envs\\prices_houses_idealista\\Lib\\site-packages\\pandas\\_libs\\index.pyx:138\u001b[0m, in \u001b[0;36mpandas._libs.index.IndexEngine.get_loc\u001b[1;34m()\u001b[0m\n",
      "File \u001b[1;32m~\\anaconda3\\envs\\prices_houses_idealista\\Lib\\site-packages\\pandas\\_libs\\index.pyx:144\u001b[0m, in \u001b[0;36mpandas._libs.index.IndexEngine.get_loc\u001b[1;34m()\u001b[0m\n",
      "\u001b[1;31mTypeError\u001b[0m: '(['size', 'bathrooms', 'address', 'municipality', 'latitude', 'longitude', 'distance', 'description', 'municipality_mean_price', 'district_mean_price'], 'price')' is an invalid key",
      "\nDuring handling of the above exception, another exception occurred:\n",
      "\u001b[1;31mInvalidIndexError\u001b[0m                         Traceback (most recent call last)",
      "Cell \u001b[1;32mIn[182], line 1\u001b[0m\n\u001b[1;32m----> 1\u001b[0m a \u001b[38;5;241m=\u001b[39m \u001b[43mtest_prediction\u001b[49m\u001b[43m(\u001b[49m\u001b[43m \u001b[49m\u001b[43mdf_pred_test\u001b[49m\u001b[43m \u001b[49m\u001b[43m,\u001b[49m\u001b[43m \u001b[49m\u001b[43mrf\u001b[49m\u001b[43m \u001b[49m\u001b[43m)\u001b[49m\n\u001b[0;32m      2\u001b[0m \u001b[38;5;28mprint\u001b[39m(a\u001b[38;5;241m.\u001b[39misnull()\u001b[38;5;241m.\u001b[39msum())\n\u001b[0;32m      3\u001b[0m a\u001b[38;5;241m.\u001b[39mT\n",
      "Cell \u001b[1;32mIn[181], line 23\u001b[0m, in \u001b[0;36mtest_prediction\u001b[1;34m(df, model)\u001b[0m\n\u001b[0;32m     20\u001b[0m \u001b[38;5;66;03m# encodar dados\u001b[39;00m\n\u001b[0;32m     21\u001b[0m df6_val \u001b[38;5;241m=\u001b[39m idealista_1\u001b[38;5;241m.\u001b[39mencoding( df5_val )\n\u001b[1;32m---> 23\u001b[0m df6_val \u001b[38;5;241m=\u001b[39m\u001b[43mdf6_val\u001b[49m\u001b[43m[\u001b[49m\u001b[43mcols\u001b[49m\u001b[43m,\u001b[49m\u001b[38;5;124;43m'\u001b[39;49m\u001b[38;5;124;43mprice\u001b[39;49m\u001b[38;5;124;43m'\u001b[39;49m\u001b[43m]\u001b[49m\n\u001b[0;32m     25\u001b[0m df6_val \u001b[38;5;241m=\u001b[39m df6_val\u001b[38;5;241m.\u001b[39mfillna( \u001b[38;5;241m0\u001b[39m )\n\u001b[0;32m     27\u001b[0m \u001b[38;5;66;03m# predicoes\u001b[39;00m\n",
      "File \u001b[1;32m~\\anaconda3\\envs\\prices_houses_idealista\\Lib\\site-packages\\pandas\\core\\frame.py:3807\u001b[0m, in \u001b[0;36mDataFrame.__getitem__\u001b[1;34m(self, key)\u001b[0m\n\u001b[0;32m   3805\u001b[0m \u001b[38;5;28;01mif\u001b[39;00m \u001b[38;5;28mself\u001b[39m\u001b[38;5;241m.\u001b[39mcolumns\u001b[38;5;241m.\u001b[39mnlevels \u001b[38;5;241m>\u001b[39m \u001b[38;5;241m1\u001b[39m:\n\u001b[0;32m   3806\u001b[0m     \u001b[38;5;28;01mreturn\u001b[39;00m \u001b[38;5;28mself\u001b[39m\u001b[38;5;241m.\u001b[39m_getitem_multilevel(key)\n\u001b[1;32m-> 3807\u001b[0m indexer \u001b[38;5;241m=\u001b[39m \u001b[38;5;28;43mself\u001b[39;49m\u001b[38;5;241;43m.\u001b[39;49m\u001b[43mcolumns\u001b[49m\u001b[38;5;241;43m.\u001b[39;49m\u001b[43mget_loc\u001b[49m\u001b[43m(\u001b[49m\u001b[43mkey\u001b[49m\u001b[43m)\u001b[49m\n\u001b[0;32m   3808\u001b[0m \u001b[38;5;28;01mif\u001b[39;00m is_integer(indexer):\n\u001b[0;32m   3809\u001b[0m     indexer \u001b[38;5;241m=\u001b[39m [indexer]\n",
      "File \u001b[1;32m~\\anaconda3\\envs\\prices_houses_idealista\\Lib\\site-packages\\pandas\\core\\indexes\\base.py:3809\u001b[0m, in \u001b[0;36mIndex.get_loc\u001b[1;34m(self, key, method, tolerance)\u001b[0m\n\u001b[0;32m   3804\u001b[0m         \u001b[38;5;28;01mraise\u001b[39;00m \u001b[38;5;167;01mKeyError\u001b[39;00m(key) \u001b[38;5;28;01mfrom\u001b[39;00m \u001b[38;5;21;01merr\u001b[39;00m\n\u001b[0;32m   3805\u001b[0m     \u001b[38;5;28;01mexcept\u001b[39;00m \u001b[38;5;167;01mTypeError\u001b[39;00m:\n\u001b[0;32m   3806\u001b[0m         \u001b[38;5;66;03m# If we have a listlike key, _check_indexing_error will raise\u001b[39;00m\n\u001b[0;32m   3807\u001b[0m         \u001b[38;5;66;03m#  InvalidIndexError. Otherwise we fall through and re-raise\u001b[39;00m\n\u001b[0;32m   3808\u001b[0m         \u001b[38;5;66;03m#  the TypeError.\u001b[39;00m\n\u001b[1;32m-> 3809\u001b[0m         \u001b[38;5;28;43mself\u001b[39;49m\u001b[38;5;241;43m.\u001b[39;49m\u001b[43m_check_indexing_error\u001b[49m\u001b[43m(\u001b[49m\u001b[43mkey\u001b[49m\u001b[43m)\u001b[49m\n\u001b[0;32m   3810\u001b[0m         \u001b[38;5;28;01mraise\u001b[39;00m\n\u001b[0;32m   3812\u001b[0m \u001b[38;5;66;03m# GH#42269\u001b[39;00m\n",
      "File \u001b[1;32m~\\anaconda3\\envs\\prices_houses_idealista\\Lib\\site-packages\\pandas\\core\\indexes\\base.py:5925\u001b[0m, in \u001b[0;36mIndex._check_indexing_error\u001b[1;34m(self, key)\u001b[0m\n\u001b[0;32m   5921\u001b[0m \u001b[38;5;28;01mdef\u001b[39;00m \u001b[38;5;21m_check_indexing_error\u001b[39m(\u001b[38;5;28mself\u001b[39m, key):\n\u001b[0;32m   5922\u001b[0m     \u001b[38;5;28;01mif\u001b[39;00m \u001b[38;5;129;01mnot\u001b[39;00m is_scalar(key):\n\u001b[0;32m   5923\u001b[0m         \u001b[38;5;66;03m# if key is not a scalar, directly raise an error (the code below\u001b[39;00m\n\u001b[0;32m   5924\u001b[0m         \u001b[38;5;66;03m# would convert to numpy arrays and raise later any way) - GH29926\u001b[39;00m\n\u001b[1;32m-> 5925\u001b[0m         \u001b[38;5;28;01mraise\u001b[39;00m InvalidIndexError(key)\n",
      "\u001b[1;31mInvalidIndexError\u001b[0m: (['size', 'bathrooms', 'address', 'municipality', 'latitude', 'longitude', 'distance', 'description', 'municipality_mean_price', 'district_mean_price'], 'price')"
     ]
    }
   ],
   "source": [
    "a = test_prediction( df_pred_test , rf )\n",
    "print(a.isnull().sum())\n",
    "a.T"
   ]
  },
  {
   "cell_type": "code",
   "execution_count": null,
   "id": "c1f0cfb5",
   "metadata": {
    "ExecuteTime": {
     "end_time": "2024-02-29T20:56:43.105744Z",
     "start_time": "2024-02-29T20:56:43.105744Z"
    },
    "scrolled": true
   },
   "outputs": [],
   "source": [
    "# Obter importâncias das features\n",
    "importances = rf.feature_importances_\n",
    "\n",
    "# Converter as importâncias em um DataFrame para facilitar a visualização\n",
    "features_df = pd.DataFrame({\n",
    "    'Feature': a.drop(['price','pred'], axis = 1).columns,\n",
    "    'Importance': importances\n",
    "})\n",
    "\n",
    "# Ordenar as features pela importância\n",
    "features_df = features_df.sort_values(by='Importance', ascending=False).reset_index(drop=True)\n",
    "\n",
    "ax = sns.barplot(data = features_df, x = 'Feature', y = 'Importance')\n",
    "\n",
    "# Rotacionando os rótulos do eixo x\n",
    "ax.set_xticklabels(ax.get_xticklabels(), rotation=90);"
   ]
  },
  {
   "cell_type": "code",
   "execution_count": null,
   "id": "1d462051",
   "metadata": {
    "ExecuteTime": {
     "end_time": "2024-02-29T20:56:43.107737Z",
     "start_time": "2024-02-29T20:56:43.107737Z"
    }
   },
   "outputs": [],
   "source": [
    "len(df_pred_test.columns)"
   ]
  },
  {
   "cell_type": "code",
   "execution_count": null,
   "id": "83f6e6da",
   "metadata": {
    "ExecuteTime": {
     "end_time": "2024-02-29T20:56:43.109732Z",
     "start_time": "2024-02-29T20:56:43.109732Z"
    }
   },
   "outputs": [],
   "source": [
    "df_val = clean_data( df_val )"
   ]
  },
  {
   "cell_type": "code",
   "execution_count": null,
   "id": "05ced408",
   "metadata": {
    "ExecuteTime": {
     "end_time": "2024-02-29T20:56:43.110729Z",
     "start_time": "2024-02-29T20:56:43.110729Z"
    }
   },
   "outputs": [],
   "source": [
    "df_val[['price','pred']]"
   ]
  },
  {
   "cell_type": "code",
   "execution_count": null,
   "id": "bc1a33a4",
   "metadata": {
    "ExecuteTime": {
     "end_time": "2024-02-29T20:56:43.112724Z",
     "start_time": "2024-02-29T20:56:43.112724Z"
    }
   },
   "outputs": [],
   "source": [
    "def clean_data( df ):    \n",
    "\n",
    "    transform = Idealista()\n",
    "\n",
    "    df1 = transform.transform_data( df , colunas_irrelevantes )\n",
    "    df2 = transform.feature_engineering( df1, transform_data = True )\n",
    "    df3 = transform.filter_variables( df2 )\n",
    "    df4 = transform.remove_outliers( df3 )\n",
    "    df5 = transform.rescaling_data( df4, rescale = True )\n",
    "    df6 = transform.encoding( df5 )\n",
    "   \n",
    "\n",
    "    return df6\n",
    "\n"
   ]
  },
  {
   "cell_type": "code",
   "execution_count": null,
   "id": "215ba79c",
   "metadata": {
    "ExecuteTime": {
     "end_time": "2024-02-29T20:56:43.114719Z",
     "start_time": "2024-02-29T20:56:43.114719Z"
    }
   },
   "outputs": [],
   "source": [
    "y_hat = rf.predict( df_val.drop( 'price', axis = 1 ) )\n",
    "\n",
    "ml_error( 'Rf', df_val['price'], y_hat )"
   ]
  },
  {
   "cell_type": "code",
   "execution_count": null,
   "id": "62ca7de2",
   "metadata": {},
   "outputs": [],
   "source": []
  }
 ],
 "metadata": {
  "kernelspec": {
   "display_name": "prices_houses_idealista",
   "language": "python",
   "name": "prices_houses_idealista"
  },
  "language_info": {
   "codemirror_mode": {
    "name": "ipython",
    "version": 3
   },
   "file_extension": ".py",
   "mimetype": "text/x-python",
   "name": "python",
   "nbconvert_exporter": "python",
   "pygments_lexer": "ipython3",
   "version": "3.11.0"
  }
 },
 "nbformat": 4,
 "nbformat_minor": 5
}
